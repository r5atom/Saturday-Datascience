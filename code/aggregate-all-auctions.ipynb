{
 "cells": [
  {
   "cell_type": "markdown",
   "metadata": {},
   "source": [
    "# Merge all auctions into one\n",
    "\n",
    "Combines several datasets and do some simple analyses.  \n"
   ]
  },
  {
   "cell_type": "markdown",
   "metadata": {},
   "source": [
    "### User variables"
   ]
  },
  {
   "cell_type": "code",
   "execution_count": null,
   "metadata": {},
   "outputs": [],
   "source": [
    "import drz_config\n",
    "cfg = drz_config.read_config()\n",
    "DATE = cfg['DATE']\n",
    "VERBOSE = cfg['VERBOSE']\n",
    "OPBOD = cfg['OPBOD']\n",
    "SKIPSAVE = cfg['SKIPSAVE']\n",
    "\n",
    "if VERBOSE > 0:\n",
    "    print(cfg)"
   ]
  },
  {
   "cell_type": "code",
   "execution_count": null,
   "metadata": {},
   "outputs": [],
   "source": [
    "# dates of auction\n",
    "# format: yyyy-mm; yyyy: year, mm: month (%Y-%m)\n",
    "if OPBOD:\n",
    "    AuctionDates = ['2019-11', '2019-12', \n",
    "                    '2020-01', '2020-02', '2020-03', \n",
    "                   ]\n",
    "else:    \n",
    "    AuctionDates = ['2017-03', '2017-04', '2017-05', '2017-06', '2017-07', '2017-08', '2017-09', '2017-10', '2017-11', '2017-12', \n",
    "                    '2018-01', '2018-02', '2018-03', '2018-04', '2018-05', '2018-06', '2018-07', '2018-08', '2018-09', '2018-10', '2018-11', '2018-12',\n",
    "                    '2019-01', '2019-02', '2019-03', '2019-04', '2019-05', '2019-06', '2019-07', '2019-08', '2019-09', '2019-10', '2019-11', '2019-12',\n",
    "                    '2020-01', '2020-02', '2020-03', '2020-06', '2020-07', '2020-08', '2020-09', '2020-10', '2020-11', '2020-12',\n",
    "                    '2021-01', \n",
    "                   ]  \n",
    "if DATE not in AuctionDates:\n",
    "    raise ValueError(f'{DATE} not in list that will be concatenated. Add to list.')"
   ]
  },
  {
   "cell_type": "markdown",
   "metadata": {},
   "source": [
    "### Import modules "
   ]
  },
  {
   "cell_type": "code",
   "execution_count": null,
   "metadata": {},
   "outputs": [],
   "source": [
    "import pandas as pd\n",
    "import numpy as np\n",
    "import matplotlib.pyplot as plt\n",
    "import re\n",
    "plt.style.use('ggplot')"
   ]
  },
  {
   "cell_type": "markdown",
   "metadata": {},
   "source": [
    "### Load all data\n",
    "\n",
    "Auctions are saved monthly in a .pkl file"
   ]
  },
  {
   "cell_type": "code",
   "execution_count": null,
   "metadata": {},
   "outputs": [],
   "source": [
    "print('load data')\n",
    "data = dict()\n",
    "for AuctionDate in AuctionDates:\n",
    "    # read data\n",
    "    if OPBOD:\n",
    "        fn = '../../../python-nb/data/rdw-data-opbod-{:s}.pkl'.format(\n",
    "            AuctionDate\n",
    "        )\n",
    "\n",
    "    else:    \n",
    "        fn = '../data/rdw-data-{:s}.pkl'.format(\n",
    "            AuctionDate\n",
    "        )\n",
    "\n",
    "    if VERBOSE > 0: print(fn)\n",
    "    df = pd.read_pickle(fn)\n",
    "    data[AuctionDate] = df\n",
    "\n",
    "if VERBOSE > 0:\n",
    "    print('\\nlast rows of last file')\n",
    "    display(data[AuctionDates[-1]].tail())"
   ]
  },
  {
   "cell_type": "markdown",
   "metadata": {},
   "source": [
    "### Consolidate format\n",
    "Older files are slightly different such as naming conventions etc. Here all results are consolidated into one format."
   ]
  },
  {
   "cell_type": "code",
   "execution_count": null,
   "metadata": {},
   "outputs": [],
   "source": [
    "# Change type of early auctions for images\n",
    "if VERBOSE > 0:\n",
    "    # print first lot\n",
    "    print('Fields with images look like this:\\n')\n",
    "\n",
    "    df_ = pd.DataFrame(index=data.keys(), columns=['column', 'type', 'first row'])\n",
    "    # df_\n",
    "    for k in data:\n",
    "        im_cols = data[k].columns[\n",
    "            data[k].columns.str.lower().isin(['image', 'images'])\n",
    "        ]\n",
    "        example = data[k][im_cols[0]].values[0]\n",
    "        df_.loc[k, 'type'] = str(type(example))\n",
    "        df_.loc[k, 'column'] = im_cols[0]\n",
    "        if isinstance(example, str):\n",
    "            df_.loc[k, 'first row'] = example\n",
    "        else:\n",
    "            df_.loc[k, 'first row'] = len(example)\n",
    "\n",
    "    display(df_)\n",
    "\n",
    "\n",
    "if OPBOD:\n",
    "    # reformatting did not happen in IRS auctions\n",
    "    pass\n",
    "else:\n",
    "    \n",
    "    # convert string representation of list to real list\n",
    "    # \"['image1', 'image2']\"\n",
    "    for k in ['2017-03',\n",
    "              '2017-04',\n",
    "              '2017-05',\n",
    "              '2017-06',\n",
    "              '2017-07',\n",
    "              '2017-08',\n",
    "              '2017-09',\n",
    "              '2017-10']:\n",
    "        data[k]['Images'] = data[k]['Image'].apply(eval)\n",
    "        data[k] = data[k].drop(columns=['Image'])\n",
    "\n",
    "    # convert string representation of list without quotes to real list\n",
    "    # \"[image1, image2]\"\n",
    "    for k in ['2017-11',\n",
    "              '2017-12',\n",
    "              '2018-01',\n",
    "              '2018-02',\n",
    "              '2018-03',\n",
    "              '2018-04']:\n",
    "        data[k]['Images'] = data[k]['Images'].apply(lambda s:eval(re.sub(r\"^\\[(.*)\\]$\",r\"['\\1']\",re.sub(' *, *',\"', '\",s))))\n",
    "    \n",
    "\n",
    "# Other inconsistencies\n",
    "if OPBOD:\n",
    "    pass\n",
    "else:\n",
    "    # Other column name that changed in November 2017\n",
    "    for k in ['2017-03',\n",
    "              '2017-04',\n",
    "              '2017-05',\n",
    "              '2017-06',\n",
    "              '2017-07',\n",
    "              '2017-08',\n",
    "              '2017-09',\n",
    "              '2017-10']:\n",
    "        data[k] = data[k].rename(columns={\n",
    "            'draw':'Draw',\n",
    "            'nr':'LotNr',\n",
    "            'raw':'Raw_text',\n",
    "            'misc':'SupInfo',\n",
    "            'footnote':'Note',\n",
    "            'jfq':'jfc',\n",
    "        })"
   ]
  },
  {
   "cell_type": "markdown",
   "metadata": {},
   "source": [
    "# Merge all auctions into one data frame"
   ]
  },
  {
   "cell_type": "code",
   "execution_count": null,
   "metadata": {},
   "outputs": [],
   "source": [
    "all_data = pd.concat(data)\n",
    "df = all_data.droplevel(0)"
   ]
  },
  {
   "cell_type": "code",
   "execution_count": null,
   "metadata": {},
   "outputs": [],
   "source": [
    "if VERBOSE > 0:\n",
    "    # Show columns added\n",
    "    col_exist = pd.DataFrame.from_dict({k:all_data.columns.isin(d.columns) for k,d in data.items()}, orient='index', columns=all_data.columns)\n",
    "    col_filled = all_data.isna().all(level=0, axis=0) == False\n",
    "\n",
    "    idx = col_exist.apply(lambda x:np.where(x)[0])\n",
    "\n",
    "    first_occurence = col_exist.index[idx.apply(lambda x: x[0])]\n",
    "    last_occurence = col_exist.index[idx.apply(lambda x: x[-1])]\n",
    "    nr_occurence = idx.apply(len)\n",
    "    pct_occurence = idx.apply(lambda x: 100*(len(x)/(col_exist.shape[0]-x[0])))\n",
    "\n",
    "    idx = col_filled.apply(lambda x:np.where(x)[0])\n",
    "    last_filled = col_filled.index[idx.apply(lambda x: x[-1] if len(x)>0 else col_exist.shape[0]-1)]\n",
    "    nr_filled = idx.apply(len)\n",
    "    pct_filled = idx.apply(lambda x: 100*(len(x)/(col_exist.shape[0]-x[0])) if len(x)>0 else 0)\n",
    "\n",
    "\n",
    "    df_ = pd.DataFrame(zip(first_occurence, last_occurence, nr_occurence, last_filled, nr_filled, pct_occurence, pct_filled), \n",
    "                       index=col_exist.columns, \n",
    "                       columns=['first', 'last', 'n', 'last_filled', 'n_not_empty', 'pct_since_first', 'pct_filled'])\n",
    "\n",
    "\n",
    "\n",
    "    for _by_rdw, df__ in df_.groupby(df_.index.str.startswith('rdw')):\n",
    "        for g,df___ in df__.groupby('first'):\n",
    "            if g == col_exist.index[0]:\n",
    "                continue\n",
    "            print(f'Added in {g}')\n",
    "            if _by_rdw:\n",
    "                print('by api')\n",
    "            display(df___.sort_values(by='last_filled', ascending=False))"
   ]
  },
  {
   "cell_type": "markdown",
   "metadata": {},
   "source": [
    "- - - -\n",
    "# Continue with cars only"
   ]
  },
  {
   "cell_type": "code",
   "execution_count": null,
   "metadata": {},
   "outputs": [],
   "source": [
    "# select data\n",
    "car=df[df.LotType == 'Personenauto'].copy()\n",
    "\n",
    "if VERBOSE > 0:\n",
    "    # print lots that are cars per auction\n",
    "    df_ = pd.DataFrame(columns=['year', 'month', 'lot'])\n",
    "    df_.year = pd.Series(car.index).apply(lambda x: int(x.split('-')[0]))\n",
    "    df_.month = pd.Series(car.index).apply(lambda x: int(x.split('-')[1]))\n",
    "    df_.lot = pd.Series(car.index).apply(lambda x: int(x.split('-')[2]))\n",
    "    display(df_.groupby(['year', 'month']).lot.agg(['min', 'max', 'count']).sort_index())\n",
    "    \n",
    "car.tail()"
   ]
  },
  {
   "cell_type": "markdown",
   "metadata": {},
   "source": [
    "# Save file"
   ]
  },
  {
   "cell_type": "code",
   "execution_count": null,
   "metadata": {},
   "outputs": [],
   "source": [
    "if OPBOD:\n",
    "    file_name = r'../../../python-nb/data/cars-from-all-auctions-opbod.pkl'\n",
    "else:\n",
    "    file_name = r'../data/cars-from-all-auctions.pkl'\n",
    "\n",
    "if (SKIPSAVE==False) and (not(os.path.isfile(file_name))):\n",
    "    print(file_name)\n",
    "    car.to_pickle(file_name)\n",
    "else:\n",
    "    print(f'Skip. {file_name} exists or saving is disabled in settings.')\n",
    "    \n"
   ]
  },
  {
   "cell_type": "markdown",
   "metadata": {},
   "source": [
    "# Write example results to file\n",
    "based on: https://stackoverflow.com/a/33869154"
   ]
  },
  {
   "cell_type": "code",
   "execution_count": null,
   "metadata": {},
   "outputs": [],
   "source": [
    "def pandas_df_to_markdown_table(df):\n",
    "    fmt = ['-----' for i in range(len(df.columns))]\n",
    "    df_fmt = pd.DataFrame([fmt], columns=df.columns)\n",
    "    df_formatted = pd.concat([df_fmt, df])\n",
    "    return df_formatted.to_csv(sep=\"|\", index=False)\n"
   ]
  },
  {
   "cell_type": "code",
   "execution_count": null,
   "metadata": {},
   "outputs": [],
   "source": [
    "file_name = '../assets/example-table-of-cars.md'\n",
    "\n",
    "example = car.tail(10).copy()\n",
    "\n",
    "# trim some long fields\n",
    "example.rdwinfo = '.. rdw info ..'\n",
    "example.Raw_text = '.. raw text ..'\n",
    "example.SupInfo = '.. suplm. info. ..'\n",
    "\n",
    "# convert to md\n",
    "try:\n",
    "    table_text = example.to_markdown()\n",
    "except ImportError:\n",
    "    print('Fallback')\n",
    "    table_text = pandas_df_to_markdown_table(example)\n",
    "\n",
    "# save\n",
    "if (SKIPSAVE==False) and (not(os.path.isfile(file_name))):\n",
    "    with open(file_name,'w') as file:\n",
    "        file.write(table_text)\n",
    "\n",
    "    print('A markdown table is available as\\n\\t{}'.format(file_name))\n",
    "else:\n",
    "    print(f'Skip. {file_name} exists or saving is disabled in settings.')\n",
    "    display(example)\n",
    "    \n"
   ]
  },
  {
   "cell_type": "code",
   "execution_count": null,
   "metadata": {},
   "outputs": [],
   "source": []
  },
  {
   "cell_type": "code",
   "execution_count": null,
   "metadata": {},
   "outputs": [],
   "source": []
  }
 ],
 "metadata": {
  "kernelspec": {
   "display_name": "py38-satdatsci",
   "language": "python",
   "name": "py38-satdatsci"
  },
  "language_info": {
   "codemirror_mode": {
    "name": "ipython",
    "version": 3
   },
   "file_extension": ".py",
   "mimetype": "text/x-python",
   "name": "python",
   "nbconvert_exporter": "python",
   "pygments_lexer": "ipython3",
   "version": "3.8.5"
  }
 },
 "nbformat": 4,
 "nbformat_minor": 4
}
