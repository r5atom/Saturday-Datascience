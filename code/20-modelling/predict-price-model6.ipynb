{
 "cells": [
  {
   "cell_type": "code",
   "execution_count": 1,
   "id": "8726ac36-03b3-4c78-8b49-b636bddb479f",
   "metadata": {
    "editable": true,
    "slideshow": {
     "slide_type": ""
    },
    "tags": []
   },
   "outputs": [],
   "source": [
    "import shelve\n",
    "import re\n",
    "import os\n",
    "from predict_price_helpers import *"
   ]
  },
  {
   "cell_type": "code",
   "execution_count": 2,
   "id": "d53670b6-a6d0-4e31-aa1a-01d4526591fc",
   "metadata": {
    "editable": true,
    "slideshow": {
     "slide_type": ""
    },
    "tags": []
   },
   "outputs": [
    {
     "name": "stdout",
     "output_type": "stream",
     "text": [
      "RESULTS_DIR\n",
      "def0:\n",
      "do_save = lambda fn: not(os.path.isfile(fn))\n",
      "cfg\n",
      "num_columns\n",
      "cat_columns\n",
      "models\n",
      "df\n"
     ]
    }
   ],
   "source": [
    "with shelve.open('./predict-price.shelve', flag='r') as slf:\n",
    "    for k,v in slf.items():\n",
    "        print(k)\n",
    "        globals()[k] = v\n",
    "        if re.match('def\\d+:', k) is not None:\n",
    "            print(v)\n",
    "            exec(v)"
   ]
  },
  {
   "cell_type": "code",
   "execution_count": 3,
   "id": "ef83e0f5-53fd-4a5f-adbd-b91fa2acb5e4",
   "metadata": {},
   "outputs": [],
   "source": [
    "# import modules\n",
    "import pandas as pd\n",
    "import numpy as np\n",
    "import matplotlib.pyplot as plt\n",
    "import matplotlib\n",
    "\n",
    "import seaborn as sns"
   ]
  },
  {
   "cell_type": "code",
   "execution_count": 4,
   "id": "e2a85f78-1905-458e-a253-acd0e7aa72a6",
   "metadata": {},
   "outputs": [],
   "source": [
    "# set figure defaults (needs to be in cell seperate from import sns)\n",
    "plt.style.use([\n",
    "    'default',\n",
    "    f\"{cfg['FILE_LOCATION']['app_dir']}/assets/movshon.mplstyle\",\n",
    "    f\"{cfg['FILE_LOCATION']['app_dir']}/assets/context-notebook.mplstyle\"\n",
    "])"
   ]
  },
  {
   "cell_type": "markdown",
   "id": "035db1ea-777a-43d3-9459-762ff9eb5359",
   "metadata": {},
   "source": [
    "# Model: MLR regularized\n",
    "\n",
    "As [previous model](#pred_model_6), but use regularization by using built-in Lasso"
   ]
  },
  {
   "cell_type": "markdown",
   "id": "7f547789-a925-43e1-a003-34dda0faf836",
   "metadata": {},
   "source": [
    "## Prepare input"
   ]
  },
  {
   "cell_type": "code",
   "execution_count": 5,
   "id": "dc34244b-454a-4d7b-bac6-75520f89ef47",
   "metadata": {},
   "outputs": [
    {
     "name": "stdout",
     "output_type": "stream",
     "text": [
      "(10334, 29)\n",
      "(10334,)\n"
     ]
    }
   ],
   "source": [
    "from sklearn.model_selection import train_test_split, cross_val_score\n",
    "from sklearn import linear_model\n",
    "\n",
    "from sklearn.impute import SimpleImputer\n",
    "from sklearn.preprocessing import StandardScaler\n",
    "from sklearn.pipeline import make_pipeline\n",
    "\n",
    "from sklearn.preprocessing import OneHotEncoder\n",
    "from sklearn.compose import ColumnTransformer\n",
    "from sklearn.compose import TransformedTargetRegressor\n",
    "from sklearn.preprocessing import MinMaxScaler\n",
    "\n",
    "from sklearn.model_selection import GridSearchCV\n",
    "\n",
    "model_name = 'MLR Lasso'\n",
    "\n",
    "cat_columns_reduced = list(np.setdiff1d(cat_columns, ['model', 'fuel']))\n",
    "features = num_columns + cat_columns_reduced\n",
    "# Can be reduced here\n",
    "\n",
    "# list of lists with categories. Needed for column transformer\n",
    "cats = list(df[cat_columns_reduced].apply(lambda x:pd.Series(x.unique()).dropna().tolist() + ['missing'], axis='index'))\n",
    "\n",
    "# Use data frame not array\n",
    "yX = df.dropna(subset=['price'])\n",
    "X = yX.iloc[:,1:]\n",
    "y = yX.iloc[:,0]\n",
    "X[pd.isna(X)] = np.nan\n",
    "print(X.shape)\n",
    "print(y.shape)\n"
   ]
  },
  {
   "cell_type": "markdown",
   "id": "062f5cdb-f84f-4a26-b4ac-dad95c206aa5",
   "metadata": {},
   "source": [
    "## Determine regularization rate (alpha)\n",
    "\n",
    "Alpha is the hyperparameter that needs to be determined. For this the data needs to be splitted, but the dataset is too small to do a 3 way split (i.e. CV, Train, Test). Therefor spilt 2 way k-fold cv \n",
    "- **Test**: Hold-out set for calculating performance\n",
    "- **Train**: Use to fit model and do CV\n"
   ]
  },
  {
   "cell_type": "code",
   "execution_count": 6,
   "id": "6482be84-27c1-4732-97d2-607ff3b0fbf9",
   "metadata": {},
   "outputs": [
    {
     "name": "stdout",
     "output_type": "stream",
     "text": [
      "(7233, 29)\n",
      "(3101, 29)\n"
     ]
    }
   ],
   "source": [
    "# instantiate a dict in models at key with name of this model\n",
    "models[model_name] = dict()\n",
    "\n",
    "# split train test\n",
    "X_train, X_test, y_train, y_test = train_test_split(X, y, test_size = 0.3, random_state=42)\n",
    "print(X_train.shape)\n",
    "print(X_test.shape)\n"
   ]
  },
  {
   "cell_type": "code",
   "execution_count": 7,
   "id": "f7fbcf1e-87de-422c-a385-54e9a9f98175",
   "metadata": {
    "editable": true,
    "slideshow": {
     "slide_type": ""
    },
    "tags": []
   },
   "outputs": [],
   "source": [
    "# Create model (same as MLR with cats, but regressor is Lasso)\n",
    "\n",
    "# Preprocessor: numerical features\n",
    "num_transformer = make_pipeline(\n",
    "    SimpleImputer(strategy='median'),\n",
    "    MinMaxScaler(),\n",
    ")\n",
    "# Preprocessor: categorical features\n",
    "cat_transformer = make_pipeline(\n",
    "    SimpleImputer(strategy='constant', fill_value='missing', missing_values=np.nan),\n",
    "    OneHotEncoder(categories=cats),\n",
    ")\n",
    "\n",
    "# Preprocess: fuels\n",
    "# list of all fuels is passed by using full data set! (X)\n",
    "fuel_list = list(get_unique_fuels(merge_lpg_and_lpgtype(X.fuel)))\n",
    "get_fuel_dummies = DummyfyFuel(fuel_list)\n",
    "\n",
    "\n",
    "# Combine num and cat\n",
    "preprocessor = ColumnTransformer(transformers=[\n",
    "    ('numerical', num_transformer, pd.Index(num_columns)),\n",
    "    ('categorical', cat_transformer, pd.Index(cat_columns_reduced)),\n",
    "    ('onehot_fuel', get_fuel_dummies, 'fuel')\n",
    "], verbose=False)\n",
    "\n",
    "# full pipeline with preproc and mlr\n",
    "mlr = make_pipeline(\n",
    "    preprocessor,\n",
    "    linear_model.Lasso(random_state=42, max_iter=2**11)\n",
    ")\n",
    "\n",
    "# Target transformation: log transform price\n",
    "pl = TransformedTargetRegressor(\n",
    "    regressor=mlr,\n",
    "    func=np.log10,\n",
    "    inverse_func=pow10,\n",
    "    #inverse_func=lambda y: 10**y\n",
    ")\n",
    "\n"
   ]
  },
  {
   "cell_type": "code",
   "execution_count": 8,
   "id": "4085cb1f-f646-4dbe-88aa-a7a9c74db805",
   "metadata": {},
   "outputs": [],
   "source": [
    "def gs_lasso_alpha(pipeline):\n",
    "    # grid search estimator\n",
    "    grid_search_alpha = GridSearchCV(\n",
    "        estimator=pipeline,\n",
    "        param_grid=[\n",
    "            {\n",
    "                'regressor__lasso__alpha': 10**(np.linspace(-4,-2,9)) # Choose alphas such that a clear peaked graph is shown in next plot\n",
    "            } \n",
    "        ],\n",
    "        cv=8,\n",
    "        scoring='r2',\n",
    "        #n_jobs=-1,\n",
    "        verbose=10\n",
    "    )\n",
    "\n",
    "    # Perform grid search\n",
    "    grid_search_alpha.fit(X_train,y_train);\n",
    "    \n",
    "    return grid_search_alpha"
   ]
  },
  {
   "cell_type": "code",
   "execution_count": 9,
   "id": "f478a98f-9a5b-426b-811b-6fb9f8e377b8",
   "metadata": {
    "tags": [
     "remove_when_contains:image"
    ]
   },
   "outputs": [],
   "source": [
    "def plot_gscv_result(gscv, param_name = None):\n",
    "    '''\n",
    "    plot search results    \n",
    "    '''\n",
    "    \n",
    "    if param_name is None:\n",
    "        param_name = re.sub('^.+?__', '', list(gscv.param_grid[0].keys())[0])\n",
    "    \n",
    "    plt.figure(figsize=[2,2])\n",
    "\n",
    "    # abscissa\n",
    "    alphas = list(gscv.cv_results_['param_regressor__' + param_name])\n",
    "\n",
    "    # plot mean\n",
    "    r2_mean = gscv.cv_results_['mean_test_score']\n",
    "    # normalize\n",
    "    r2_mean = (r2_mean-r2_mean.mean())/r2_mean.std()\n",
    "    plt.plot(alphas, r2_mean, label='mean', lw=4, color='blue')\n",
    "\n",
    "    # plot folds\n",
    "    for fold in range(gscv.cv):\n",
    "        r2_fold = gscv.cv_results_['split{:.0f}_test_score'.format(fold)]\n",
    "        # normalize\n",
    "        r2_fold = (r2_fold-r2_fold.mean())/r2_fold.std()\n",
    "        plt.plot(alphas, r2_fold, label='fold ' + str(fold), lw=1, color='black')\n",
    "\n",
    "    plt.xscale('log')\n",
    "    plt.xlabel('alpha')\n",
    "    plt.ylabel('standardized r2 score [a.u.]')\n",
    "    plt.axvline(gscv.best_params_['regressor__' + param_name], linewidth=2, linestyle='--', color='k')\n",
    "    result = 'grid search results\\nbest {:s}={:.5f}'.format(param_name, gscv.best_params_['regressor__' + param_name])\n",
    "    plt.title(result)\n",
    "    print(result)\n",
    "    plt.legend(ncol=1, loc='center left', bbox_to_anchor=(1,0.5))\n",
    "    \n",
    "    return gscv.best_estimator_"
   ]
  },
  {
   "cell_type": "markdown",
   "id": "a12302d7-1f63-45d3-99e8-aae8fcb18f13",
   "metadata": {},
   "source": [
    "### Fit with regressor found with grid search"
   ]
  },
  {
   "cell_type": "code",
   "execution_count": 10,
   "id": "8dcc2dc9-af45-4bcc-b63c-0ea2efdc0b22",
   "metadata": {
    "tags": [
     "remove_when_contains:image"
    ]
   },
   "outputs": [
    {
     "name": "stdout",
     "output_type": "stream",
     "text": [
      "Fitting 8 folds for each of 9 candidates, totalling 72 fits\n",
      "[CV 1/8; 1/9] START regressor__lasso__alpha=0.0001..............................\n",
      "[CV 1/8; 1/9] END regressor__lasso__alpha=0.0001;, score=0.249 total time=   0.8s\n",
      "[CV 2/8; 1/9] START regressor__lasso__alpha=0.0001..............................\n",
      "[CV 2/8; 1/9] END regressor__lasso__alpha=0.0001;, score=0.650 total time=   0.8s\n",
      "[CV 3/8; 1/9] START regressor__lasso__alpha=0.0001..............................\n",
      "[CV 3/8; 1/9] END regressor__lasso__alpha=0.0001;, score=0.445 total time=   0.8s\n",
      "[CV 4/8; 1/9] START regressor__lasso__alpha=0.0001..............................\n",
      "[CV 4/8; 1/9] END regressor__lasso__alpha=0.0001;, score=0.504 total time=   0.8s\n",
      "[CV 5/8; 1/9] START regressor__lasso__alpha=0.0001..............................\n",
      "[CV 5/8; 1/9] END regressor__lasso__alpha=0.0001;, score=0.698 total time=   0.8s\n",
      "[CV 6/8; 1/9] START regressor__lasso__alpha=0.0001..............................\n",
      "[CV 6/8; 1/9] END regressor__lasso__alpha=0.0001;, score=0.709 total time=   0.8s\n",
      "[CV 7/8; 1/9] START regressor__lasso__alpha=0.0001..............................\n",
      "[CV 7/8; 1/9] END regressor__lasso__alpha=0.0001;, score=0.665 total time=   0.8s\n",
      "[CV 8/8; 1/9] START regressor__lasso__alpha=0.0001..............................\n",
      "[CV 8/8; 1/9] END regressor__lasso__alpha=0.0001;, score=0.606 total time=   0.8s\n",
      "[CV 1/8; 2/9] START regressor__lasso__alpha=0.00017782794100389227..............\n",
      "[CV 1/8; 2/9] END regressor__lasso__alpha=0.00017782794100389227;, score=0.378 total time=   0.7s\n",
      "[CV 2/8; 2/9] START regressor__lasso__alpha=0.00017782794100389227..............\n",
      "[CV 2/8; 2/9] END regressor__lasso__alpha=0.00017782794100389227;, score=0.726 total time=   0.7s\n",
      "[CV 3/8; 2/9] START regressor__lasso__alpha=0.00017782794100389227..............\n",
      "[CV 3/8; 2/9] END regressor__lasso__alpha=0.00017782794100389227;, score=0.447 total time=   0.7s\n",
      "[CV 4/8; 2/9] START regressor__lasso__alpha=0.00017782794100389227..............\n",
      "[CV 4/8; 2/9] END regressor__lasso__alpha=0.00017782794100389227;, score=0.500 total time=   0.7s\n",
      "[CV 5/8; 2/9] START regressor__lasso__alpha=0.00017782794100389227..............\n",
      "[CV 5/8; 2/9] END regressor__lasso__alpha=0.00017782794100389227;, score=0.690 total time=   0.7s\n",
      "[CV 6/8; 2/9] START regressor__lasso__alpha=0.00017782794100389227..............\n",
      "[CV 6/8; 2/9] END regressor__lasso__alpha=0.00017782794100389227;, score=0.726 total time=   0.7s\n",
      "[CV 7/8; 2/9] START regressor__lasso__alpha=0.00017782794100389227..............\n",
      "[CV 7/8; 2/9] END regressor__lasso__alpha=0.00017782794100389227;, score=0.673 total time=   0.7s\n",
      "[CV 8/8; 2/9] START regressor__lasso__alpha=0.00017782794100389227..............\n",
      "[CV 8/8; 2/9] END regressor__lasso__alpha=0.00017782794100389227;, score=0.658 total time=   0.7s\n",
      "[CV 1/8; 3/9] START regressor__lasso__alpha=0.00031622776601683794..............\n",
      "[CV 1/8; 3/9] END regressor__lasso__alpha=0.00031622776601683794;, score=0.414 total time=   0.7s\n",
      "[CV 2/8; 3/9] START regressor__lasso__alpha=0.00031622776601683794..............\n",
      "[CV 2/8; 3/9] END regressor__lasso__alpha=0.00031622776601683794;, score=0.622 total time=   0.7s\n",
      "[CV 3/8; 3/9] START regressor__lasso__alpha=0.00031622776601683794..............\n",
      "[CV 3/8; 3/9] END regressor__lasso__alpha=0.00031622776601683794;, score=0.468 total time=   0.7s\n",
      "[CV 4/8; 3/9] START regressor__lasso__alpha=0.00031622776601683794..............\n",
      "[CV 4/8; 3/9] END regressor__lasso__alpha=0.00031622776601683794;, score=0.486 total time=   0.7s\n",
      "[CV 5/8; 3/9] START regressor__lasso__alpha=0.00031622776601683794..............\n",
      "[CV 5/8; 3/9] END regressor__lasso__alpha=0.00031622776601683794;, score=0.688 total time=   0.7s\n",
      "[CV 6/8; 3/9] START regressor__lasso__alpha=0.00031622776601683794..............\n",
      "[CV 6/8; 3/9] END regressor__lasso__alpha=0.00031622776601683794;, score=0.725 total time=   0.7s\n",
      "[CV 7/8; 3/9] START regressor__lasso__alpha=0.00031622776601683794..............\n",
      "[CV 7/8; 3/9] END regressor__lasso__alpha=0.00031622776601683794;, score=0.684 total time=   0.7s\n",
      "[CV 8/8; 3/9] START regressor__lasso__alpha=0.00031622776601683794..............\n",
      "[CV 8/8; 3/9] END regressor__lasso__alpha=0.00031622776601683794;, score=0.697 total time=   0.7s\n",
      "[CV 1/8; 4/9] START regressor__lasso__alpha=0.0005623413251903491...............\n",
      "[CV 1/8; 4/9] END regressor__lasso__alpha=0.0005623413251903491;, score=0.392 total time=   0.6s\n",
      "[CV 2/8; 4/9] START regressor__lasso__alpha=0.0005623413251903491...............\n",
      "[CV 2/8; 4/9] END regressor__lasso__alpha=0.0005623413251903491;, score=0.615 total time=   0.6s\n",
      "[CV 3/8; 4/9] START regressor__lasso__alpha=0.0005623413251903491...............\n",
      "[CV 3/8; 4/9] END regressor__lasso__alpha=0.0005623413251903491;, score=0.473 total time=   0.6s\n",
      "[CV 4/8; 4/9] START regressor__lasso__alpha=0.0005623413251903491...............\n",
      "[CV 4/8; 4/9] END regressor__lasso__alpha=0.0005623413251903491;, score=0.473 total time=   0.6s\n",
      "[CV 5/8; 4/9] START regressor__lasso__alpha=0.0005623413251903491...............\n",
      "[CV 5/8; 4/9] END regressor__lasso__alpha=0.0005623413251903491;, score=0.686 total time=   0.6s\n",
      "[CV 6/8; 4/9] START regressor__lasso__alpha=0.0005623413251903491...............\n",
      "[CV 6/8; 4/9] END regressor__lasso__alpha=0.0005623413251903491;, score=0.694 total time=   0.6s\n",
      "[CV 7/8; 4/9] START regressor__lasso__alpha=0.0005623413251903491...............\n",
      "[CV 7/8; 4/9] END regressor__lasso__alpha=0.0005623413251903491;, score=0.683 total time=   0.6s\n",
      "[CV 8/8; 4/9] START regressor__lasso__alpha=0.0005623413251903491...............\n",
      "[CV 8/8; 4/9] END regressor__lasso__alpha=0.0005623413251903491;, score=0.701 total time=   0.6s\n",
      "[CV 1/8; 5/9] START regressor__lasso__alpha=0.001...............................\n",
      "[CV 1/8; 5/9] END regressor__lasso__alpha=0.001;, score=0.397 total time=   0.5s\n",
      "[CV 2/8; 5/9] START regressor__lasso__alpha=0.001...............................\n",
      "[CV 2/8; 5/9] END regressor__lasso__alpha=0.001;, score=0.614 total time=   0.6s\n",
      "[CV 3/8; 5/9] START regressor__lasso__alpha=0.001...............................\n",
      "[CV 3/8; 5/9] END regressor__lasso__alpha=0.001;, score=0.477 total time=   0.5s\n",
      "[CV 4/8; 5/9] START regressor__lasso__alpha=0.001...............................\n",
      "[CV 4/8; 5/9] END regressor__lasso__alpha=0.001;, score=0.464 total time=   0.5s\n",
      "[CV 5/8; 5/9] START regressor__lasso__alpha=0.001...............................\n",
      "[CV 5/8; 5/9] END regressor__lasso__alpha=0.001;, score=0.683 total time=   0.6s\n",
      "[CV 6/8; 5/9] START regressor__lasso__alpha=0.001...............................\n",
      "[CV 6/8; 5/9] END regressor__lasso__alpha=0.001;, score=0.685 total time=   0.5s\n",
      "[CV 7/8; 5/9] START regressor__lasso__alpha=0.001...............................\n",
      "[CV 7/8; 5/9] END regressor__lasso__alpha=0.001;, score=0.704 total time=   0.5s\n",
      "[CV 8/8; 5/9] START regressor__lasso__alpha=0.001...............................\n",
      "[CV 8/8; 5/9] END regressor__lasso__alpha=0.001;, score=0.715 total time=   0.5s\n",
      "[CV 1/8; 6/9] START regressor__lasso__alpha=0.0017782794100389228...............\n",
      "[CV 1/8; 6/9] END regressor__lasso__alpha=0.0017782794100389228;, score=0.402 total time=   0.5s\n",
      "[CV 2/8; 6/9] START regressor__lasso__alpha=0.0017782794100389228...............\n",
      "[CV 2/8; 6/9] END regressor__lasso__alpha=0.0017782794100389228;, score=0.597 total time=   0.5s\n",
      "[CV 3/8; 6/9] START regressor__lasso__alpha=0.0017782794100389228...............\n",
      "[CV 3/8; 6/9] END regressor__lasso__alpha=0.0017782794100389228;, score=0.469 total time=   0.5s\n",
      "[CV 4/8; 6/9] START regressor__lasso__alpha=0.0017782794100389228...............\n",
      "[CV 4/8; 6/9] END regressor__lasso__alpha=0.0017782794100389228;, score=0.448 total time=   0.5s\n",
      "[CV 5/8; 6/9] START regressor__lasso__alpha=0.0017782794100389228...............\n",
      "[CV 5/8; 6/9] END regressor__lasso__alpha=0.0017782794100389228;, score=0.670 total time=   0.5s\n",
      "[CV 6/8; 6/9] START regressor__lasso__alpha=0.0017782794100389228...............\n",
      "[CV 6/8; 6/9] END regressor__lasso__alpha=0.0017782794100389228;, score=0.668 total time=   0.5s\n",
      "[CV 7/8; 6/9] START regressor__lasso__alpha=0.0017782794100389228...............\n",
      "[CV 7/8; 6/9] END regressor__lasso__alpha=0.0017782794100389228;, score=0.737 total time=   0.5s\n",
      "[CV 8/8; 6/9] START regressor__lasso__alpha=0.0017782794100389228...............\n",
      "[CV 8/8; 6/9] END regressor__lasso__alpha=0.0017782794100389228;, score=0.724 total time=   0.5s\n",
      "[CV 1/8; 7/9] START regressor__lasso__alpha=0.0031622776601683794...............\n",
      "[CV 1/8; 7/9] END regressor__lasso__alpha=0.0031622776601683794;, score=0.388 total time=   0.5s\n",
      "[CV 2/8; 7/9] START regressor__lasso__alpha=0.0031622776601683794...............\n",
      "[CV 2/8; 7/9] END regressor__lasso__alpha=0.0031622776601683794;, score=0.551 total time=   0.5s\n",
      "[CV 3/8; 7/9] START regressor__lasso__alpha=0.0031622776601683794...............\n",
      "[CV 3/8; 7/9] END regressor__lasso__alpha=0.0031622776601683794;, score=0.432 total time=   0.5s\n",
      "[CV 4/8; 7/9] START regressor__lasso__alpha=0.0031622776601683794...............\n",
      "[CV 4/8; 7/9] END regressor__lasso__alpha=0.0031622776601683794;, score=0.413 total time=   0.5s\n",
      "[CV 5/8; 7/9] START regressor__lasso__alpha=0.0031622776601683794...............\n",
      "[CV 5/8; 7/9] END regressor__lasso__alpha=0.0031622776601683794;, score=0.641 total time=   0.5s\n",
      "[CV 6/8; 7/9] START regressor__lasso__alpha=0.0031622776601683794...............\n",
      "[CV 6/8; 7/9] END regressor__lasso__alpha=0.0031622776601683794;, score=0.620 total time=   0.5s\n",
      "[CV 7/8; 7/9] START regressor__lasso__alpha=0.0031622776601683794...............\n",
      "[CV 7/8; 7/9] END regressor__lasso__alpha=0.0031622776601683794;, score=0.726 total time=   0.5s\n",
      "[CV 8/8; 7/9] START regressor__lasso__alpha=0.0031622776601683794...............\n",
      "[CV 8/8; 7/9] END regressor__lasso__alpha=0.0031622776601683794;, score=0.710 total time=   0.6s\n",
      "[CV 1/8; 8/9] START regressor__lasso__alpha=0.005623413251903491................\n",
      "[CV 1/8; 8/9] END regressor__lasso__alpha=0.005623413251903491;, score=0.343 total time=   0.5s\n",
      "[CV 2/8; 8/9] START regressor__lasso__alpha=0.005623413251903491................\n",
      "[CV 2/8; 8/9] END regressor__lasso__alpha=0.005623413251903491;, score=0.460 total time=   0.5s\n",
      "[CV 3/8; 8/9] START regressor__lasso__alpha=0.005623413251903491................\n",
      "[CV 3/8; 8/9] END regressor__lasso__alpha=0.005623413251903491;, score=0.369 total time=   0.5s\n",
      "[CV 4/8; 8/9] START regressor__lasso__alpha=0.005623413251903491................\n",
      "[CV 4/8; 8/9] END regressor__lasso__alpha=0.005623413251903491;, score=0.356 total time=   0.5s\n",
      "[CV 5/8; 8/9] START regressor__lasso__alpha=0.005623413251903491................\n",
      "[CV 5/8; 8/9] END regressor__lasso__alpha=0.005623413251903491;, score=0.566 total time=   0.5s\n",
      "[CV 6/8; 8/9] START regressor__lasso__alpha=0.005623413251903491................\n",
      "[CV 6/8; 8/9] END regressor__lasso__alpha=0.005623413251903491;, score=0.508 total time=   0.5s\n",
      "[CV 7/8; 8/9] START regressor__lasso__alpha=0.005623413251903491................\n",
      "[CV 7/8; 8/9] END regressor__lasso__alpha=0.005623413251903491;, score=0.627 total time=   0.5s\n",
      "[CV 8/8; 8/9] START regressor__lasso__alpha=0.005623413251903491................\n",
      "[CV 8/8; 8/9] END regressor__lasso__alpha=0.005623413251903491;, score=0.649 total time=   0.5s\n",
      "[CV 1/8; 9/9] START regressor__lasso__alpha=0.01................................\n",
      "[CV 1/8; 9/9] END .regressor__lasso__alpha=0.01;, score=0.250 total time=   0.5s\n",
      "[CV 2/8; 9/9] START regressor__lasso__alpha=0.01................................\n",
      "[CV 2/8; 9/9] END .regressor__lasso__alpha=0.01;, score=0.296 total time=   0.5s\n",
      "[CV 3/8; 9/9] START regressor__lasso__alpha=0.01................................\n",
      "[CV 3/8; 9/9] END .regressor__lasso__alpha=0.01;, score=0.267 total time=   0.5s\n",
      "[CV 4/8; 9/9] START regressor__lasso__alpha=0.01................................\n",
      "[CV 4/8; 9/9] END .regressor__lasso__alpha=0.01;, score=0.258 total time=   0.5s\n",
      "[CV 5/8; 9/9] START regressor__lasso__alpha=0.01................................\n",
      "[CV 5/8; 9/9] END .regressor__lasso__alpha=0.01;, score=0.408 total time=   0.5s\n",
      "[CV 6/8; 9/9] START regressor__lasso__alpha=0.01................................\n",
      "[CV 6/8; 9/9] END .regressor__lasso__alpha=0.01;, score=0.307 total time=   0.5s\n",
      "[CV 7/8; 9/9] START regressor__lasso__alpha=0.01................................\n",
      "[CV 7/8; 9/9] END .regressor__lasso__alpha=0.01;, score=0.417 total time=   0.6s\n",
      "[CV 8/8; 9/9] START regressor__lasso__alpha=0.01................................\n",
      "[CV 8/8; 9/9] END .regressor__lasso__alpha=0.01;, score=0.461 total time=   0.5s\n",
      "grid search results\n",
      "best lasso__alpha=0.00018\n"
     ]
    }
   ],
   "source": [
    "best_estimator = plot_gscv_result(gs_lasso_alpha(pl))"
   ]
  },
  {
   "cell_type": "code",
   "execution_count": 11,
   "id": "2066780e-6647-4523-9b41-0094090588fa",
   "metadata": {},
   "outputs": [],
   "source": [
    "# Store estimator with best alpha\n",
    "reg = best_estimator\n",
    "models[model_name].update({'model':reg})\n",
    "\n",
    "# fit\n",
    "reg.fit(X_train, y_train)\n",
    "y_pred = reg.predict(X_test)\n",
    "\n",
    "models[model_name].update({'n':y.shape[0]})\n",
    "models[model_name].update({'n features':X.shape[1]})\n",
    "\n",
    "# parameters\n",
    "betas = [reg.regressor_.steps[-1][1].intercept_, *reg.regressor_.steps[-1][1].coef_]\n",
    "models[model_name].update({'betas':betas})\n",
    "models[model_name].update({'n betas effective':(np.abs(betas) > 0).sum()})\n",
    "\n",
    "# score\n",
    "models[model_name].update({'R^2':reg.score(X,y)})\n",
    "models[model_name].update({'test R^2':reg.score(X_test,y_test)})\n",
    "cv_results = cross_val_score(reg, X_test, y_test, cv=5)\n",
    "models[model_name].update({'cv R^2':cv_results})"
   ]
  },
  {
   "cell_type": "code",
   "execution_count": 12,
   "id": "b9b70cca-dd19-40ee-9009-84d6dd138a7c",
   "metadata": {},
   "outputs": [],
   "source": [
    "# update features, by adding fuels\n",
    "cat_columns_reduced += ['fuel']\n",
    "cats += [fuel_list]\n",
    "\n",
    "# Split betas per category feature.\n",
    "idx_start = len(num_columns)+1\n",
    "cat_betas = list()\n",
    "for cat in cats:\n",
    "    cat_betas += [betas[idx_start:idx_start+len(cat)]]\n",
    "    idx_start += len(cat)\n",
    "# Check if all betas are stored\n",
    "assert cat_betas[0][0] == betas[len(num_columns)+1] # first\n",
    "assert cat_betas[-1][-1] == betas[-1] # last"
   ]
  },
  {
   "cell_type": "code",
   "execution_count": 13,
   "id": "6ab2410d-941d-4b90-ba06-7f0c5389fb5c",
   "metadata": {
    "editable": true,
    "scrolled": true,
    "slideshow": {
     "slide_type": ""
    },
    "tags": [
     "remove_when_contains:image"
    ]
   },
   "outputs": [
    {
     "name": "stdout",
     "output_type": "stream",
     "text": [
      "/home/tom/bin/satdatsci/Saturday-Datascience/results/MLR_Lasso.png\n"
     ]
    }
   ],
   "source": [
    "# plot coefficients\n",
    "\n",
    "# plot numerical and catagorical in different subplots\n",
    "n_plots = len(cat_columns_reduced) + 1\n",
    "fig,axs=plt.subplots(\n",
    "    nrows=n_plots,\n",
    "    figsize=[16,4*n_plots]\n",
    ")\n",
    "plt.subplots_adjust(hspace=0.5)\n",
    "\n",
    "# Plot coefficients\n",
    "for feats, coefs, name, ax in zip(\n",
    "    [['offset'] + features] + cats,\n",
    "    [[betas[0]] + betas[1:len(num_columns)+1]] + cat_betas,\n",
    "    ['numerical'] + cat_columns_reduced,\n",
    "    axs\n",
    "):\n",
    "    # sort by bar height\n",
    "    x = [feats[i] for i in np.argsort(coefs)[::-1]]\n",
    "    y = sorted(coefs, reverse=True)\n",
    "    # plot bar\n",
    "    ax.bar(x=x, height=y, edgecolor='k', facecolor='None', clip_on=True)\n",
    "\n",
    "    # prettify\n",
    "    if not name.startswith('num'):\n",
    "        ax.set_yticks(np.arange(-0.5,+0.6,0.1))\n",
    "        bot_tick, top_tick = ax.set_ylim(top=+0.5, bottom=-0.5)\n",
    "    else:\n",
    "        ax.set_yticks(np.arange(-2,2.2,0.5))\n",
    "        bot_tick, top_tick = ax.set_ylim(top=+2, bottom=-2)\n",
    "        # stats\n",
    "        xy=[ax.get_xlim()[1], ax.get_ylim()[1]]\n",
    "        ax.text(xy[0]*1.05,xy[1], '$R^2$ = {:.2f}, $R^2_{{cv{:g}}}$ = {:.2f} (+/-{:.2f})'.format(\n",
    "            models[model_name]['R^2'],\n",
    "            models[model_name]['cv R^2'].shape[0],\n",
    "            np.mean(models[model_name]['cv R^2']),\n",
    "            np.std(models[model_name]['cv R^2']),\n",
    "        ) + '\\n' +\n",
    "                 'parameters total n={}, not zero n={}\\n'.format(len(betas), sum(np.array(betas) != 0)) +\n",
    "                 'train (n = {})'.format(y_train.shape[0]) + '\\n' +\n",
    "                 'test (n = {}, $R^2$ = {:.2f})'.format(\n",
    "                     y_test.shape[0],\n",
    "                     models[model_name]['test R^2'],\n",
    "                 ), style='italic', va='top', ha='left')\n",
    "\n",
    "\n",
    "    # plot sign switch\n",
    "    x_sign_switch1 = np.nonzero(np.array(y+[-np.inf]) < 0)[0][0]\n",
    "    x_sign_switch2 = np.nonzero(np.array([+np.inf]+y) > 0)[0][-1]\n",
    "    ax.axvline(x_sign_switch1-0.5, linewidth=2, linestyle='--', color='k')\n",
    "    ax.axvline(x_sign_switch2-0.5, linewidth=2, linestyle='--', color='k')\n",
    "    ax.axhline(0, linewidth=2, linestyle='-', color='k')\n",
    "\n",
    "    # add values when bar is small or too large (clipping)\n",
    "    yt=ax.get_yticks()\n",
    "    first_tick = sorted(np.abs(yt))[1]\n",
    "    for x_val, coef in zip(x,y):\n",
    "        if (coef < first_tick) & (coef > 0):\n",
    "            ax.text(x_val, coef, '{:+.3g}'.format(coef), rotation=45, va='bottom', ha='left')\n",
    "        elif (coef > -first_tick) & (coef < 0):\n",
    "            ax.text(x_val, 0, '{:+.3g}'.format(coef), rotation=45, va='bottom', ha='left')\n",
    "        elif coef > top_tick:\n",
    "            # generally this is offset (bias)\n",
    "            ax.text(x_val, top_tick, '{:+.3g}'.format(coef), rotation=45, va='bottom', ha='left')\n",
    "        elif coef < bot_tick:\n",
    "            ax.text(x_val, bot_tick, '{:+.3g}'.format(coef), rotation=45, va='bottom', ha='left')\n",
    "\n",
    "    \n",
    "    # labels and titles\n",
    "    rot = 45\n",
    "    fsz = 10\n",
    "    ha = 'right'\n",
    "    ax.set_xticks(x)\n",
    "    ax.set_xticklabels(labels=x, rotation=rot, va='top', ha=ha, style='italic', fontsize=fsz)\n",
    "    ax.xaxis.set_tick_params(which='minor', bottom=False)\n",
    "    if not name.startswith('num'):\n",
    "        ax.set_title('Categorical feature: ' + name, style='italic')\n",
    "    else:\n",
    "        ax.set_title('Multiple linear regression (Lasso, alpha={:g})\\nNumerical features'.format(\n",
    "            reg.regressor_.named_steps['lasso'].alpha\n",
    "        ), style='italic') \n",
    "    ax.set_ylabel('Coefficient (a.u.)', style='italic')\n",
    "    \n",
    "    # add extra margin if bars are too wide (too little bars)\n",
    "    if len(x) < 20:\n",
    "        add_space = len(x) - 20\n",
    "        xl = list(ax.get_xlim())\n",
    "        xl[1] -= add_space/2\n",
    "        xl[0] += add_space/2\n",
    "        ax.set_xlim(xl)\n",
    "\n",
    "# Label on bottom panel\n",
    "ax = axs[-1]\n",
    "ax.set_xlabel('Sorted features', style='italic')\n",
    "\n",
    "# Save\n",
    "file_name = f\"{RESULTS_DIR}/{model_name.replace(' ','_')}.png\"\n",
    "if True | do_save(file_name): # always save\n",
    "    print(file_name)\n",
    "    with plt.style.context(f\"{cfg['FILE_LOCATION']['app_dir']}/assets/context-paper.mplstyle\"):\n",
    "        plt.savefig(file_name, bbox_inches='tight', transparent=False)\n",
    "else:\n",
    "    plt.show()\n",
    "    print(f'Skip. {file_name} exists or saving is disabled in settings.')"
   ]
  },
  {
   "cell_type": "code",
   "execution_count": 14,
   "id": "0a831b0a-07b6-4e93-82d9-edd569ed340e",
   "metadata": {
    "editable": true,
    "slideshow": {
     "slide_type": ""
    },
    "tags": []
   },
   "outputs": [
    {
     "name": "stdout",
     "output_type": "stream",
     "text": [
      "Shelve file [./predict-price.shelve] contains models:\n",
      "\tlinear regression no cv\n",
      "\tlinear regression log price young\n",
      "\tMLR reduced observations\n",
      "\tMLR impute median\n",
      "\tMLR with categorical\n",
      "\tMLR Lasso\n"
     ]
    }
   ],
   "source": [
    "fn = './predict-price.shelve'\n",
    "with shelve.open(fn, flag='w') as slf:\n",
    "    slf['models'] = models \n",
    "    print(f'Shelve file [{fn}] contains models:')\n",
    "    for m in slf['models'].keys():\n",
    "        print(f'\\t{m}')"
   ]
  }
 ],
 "metadata": {
  "kernelspec": {
   "display_name": "Python 3 (ipykernel)",
   "language": "python",
   "name": "python3"
  },
  "language_info": {
   "codemirror_mode": {
    "name": "ipython",
    "version": 3
   },
   "file_extension": ".py",
   "mimetype": "text/x-python",
   "name": "python",
   "nbconvert_exporter": "python",
   "pygments_lexer": "ipython3",
   "version": "3.10.12"
  }
 },
 "nbformat": 4,
 "nbformat_minor": 5
}
