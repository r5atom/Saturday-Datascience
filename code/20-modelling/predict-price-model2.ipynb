{
 "cells": [
  {
   "cell_type": "code",
   "execution_count": 1,
   "id": "df44ab17-abdb-4958-8e13-03f4a719bbb8",
   "metadata": {
    "editable": true,
    "slideshow": {
     "slide_type": ""
    },
    "tags": []
   },
   "outputs": [],
   "source": [
    "import shelve\n",
    "import re\n",
    "import os\n",
    "from predict_price_helpers import *"
   ]
  },
  {
   "cell_type": "code",
   "execution_count": 2,
   "id": "89037533-61f5-4af1-a790-8dfc2c505962",
   "metadata": {},
   "outputs": [
    {
     "name": "stdout",
     "output_type": "stream",
     "text": [
      "RESULTS_DIR\n",
      "def0:\n",
      "do_save = lambda fn: not(os.path.isfile(fn))\n",
      "cfg\n",
      "num_columns\n",
      "cat_columns\n",
      "models\n",
      "df\n"
     ]
    }
   ],
   "source": [
    "with shelve.open('./predict-price.shelve', flag='r') as slf:\n",
    "    for k,v in slf.items():\n",
    "        print(k)\n",
    "        globals()[k] = v\n",
    "        if re.match('def\\d+:', k) is not None:\n",
    "            print(v)\n",
    "            exec(v)"
   ]
  },
  {
   "cell_type": "code",
   "execution_count": 3,
   "id": "cede2d42-63f9-4791-9227-92ea6a28fb80",
   "metadata": {},
   "outputs": [],
   "source": [
    "# import modules\n",
    "import pandas as pd\n",
    "import numpy as np\n",
    "import matplotlib.pyplot as plt\n",
    "import matplotlib\n",
    "\n",
    "import seaborn as sns"
   ]
  },
  {
   "cell_type": "code",
   "execution_count": 4,
   "id": "6cc0d9ac-480a-4f3b-abca-84c9e96735ed",
   "metadata": {},
   "outputs": [],
   "source": [
    "# set figure defaults (needs to be in cell seperate from import sns)\n",
    "plt.style.use([\n",
    "    'default',\n",
    "    f\"{cfg['FILE_LOCATION']['app_dir']}/assets/movshon.mplstyle\",\n",
    "    f\"{cfg['FILE_LOCATION']['app_dir']}/assets/context-notebook.mplstyle\"\n",
    "])"
   ]
  },
  {
   "cell_type": "markdown",
   "id": "eec4d6c9-4d7d-4fd7-b9f7-80ad3a41d144",
   "metadata": {},
   "source": [
    "# Model: scaled price, but only young cars\n",
    "\n",
    "Same as [model 2](#pred_model_2), but ignore cars older than 25y"
   ]
  },
  {
   "cell_type": "markdown",
   "id": "5edb6e9c-af9b-40c4-a23a-bd39dc8218aa",
   "metadata": {},
   "source": [
    "## Prepare input"
   ]
  },
  {
   "cell_type": "code",
   "execution_count": 5,
   "id": "973b5482-7c00-4da0-9fb2-9993cb8ddd5a",
   "metadata": {},
   "outputs": [
    {
     "name": "stdout",
     "output_type": "stream",
     "text": [
      "(8477, 1)\n",
      "(8477, 1)\n"
     ]
    }
   ],
   "source": [
    "from sklearn.model_selection import train_test_split, cross_val_score\n",
    "from sklearn import linear_model\n",
    "\n",
    "model_name = 'linear regression log price young'\n",
    "\n",
    "is_yng = df.age/365.25 < 25\n",
    "\n",
    "X = df[is_yng].dropna(subset=['price','age']).age.values.reshape(-1,1)\n",
    "y = np.log10(df[is_yng].dropna(subset=['price','age']).price.values).reshape(-1,1)\n",
    "print(X.shape)\n",
    "print(y.shape)"
   ]
  },
  {
   "cell_type": "markdown",
   "id": "d607075c-d4e5-4b9e-b110-d775d21a6953",
   "metadata": {},
   "source": [
    "## Fit"
   ]
  },
  {
   "cell_type": "code",
   "execution_count": 6,
   "id": "08a3a533-9bd4-4fb8-91b6-c72774a361d9",
   "metadata": {},
   "outputs": [
    {
     "name": "stdout",
     "output_type": "stream",
     "text": [
      "(5933, 1)\n",
      "(2544, 1)\n"
     ]
    }
   ],
   "source": [
    "# instantiate a dict in models at key with name of this model\n",
    "models[model_name] = dict()\n",
    "\n",
    "# split train test\n",
    "X_train, X_test, y_train, y_test = train_test_split(X, y, test_size = 0.3, random_state=42)\n",
    "print(X_train.shape)\n",
    "print(X_test.shape)\n",
    "\n",
    "# create regression model object and store\n",
    "reg = linear_model.LinearRegression()\n",
    "models[model_name].update({'model':reg})\n",
    "\n",
    "# fit\n",
    "reg.fit(X_train,y_train)\n",
    "models[model_name].update({'n':y.shape[0]})\n",
    "\n",
    "# parameters\n",
    "betas = [*reg.intercept_, *reg.coef_[0]]\n",
    "models[model_name].update({'betas':betas})\n",
    "\n",
    "# score\n",
    "models[model_name].update({'R^2':reg.score(X,y)})\n",
    "models[model_name].update({'test R^2':reg.score(X_test,y_test)})\n",
    "cv_results = cross_val_score(reg, X_test, y_test, cv=5)\n",
    "models[model_name].update({'cv R^2':cv_results})\n"
   ]
  },
  {
   "cell_type": "code",
   "execution_count": 7,
   "id": "c9c0b75d-f834-4d1f-990d-96fd9f5d3a71",
   "metadata": {},
   "outputs": [
    {
     "name": "stdout",
     "output_type": "stream",
     "text": [
      "According to \"linear regression log price young\"-model\n",
      "Car depreciates to half its value every\n",
      "\t1356 days (3.7 years).\n",
      "\ty(t=   +0) = 26061 euro\n",
      "\ty(t=   +2) = 17939 euro\n",
      "\ty(t=   +4) = 12348 euro\n",
      "\ty(t=   +6) = 8500 euro\n",
      "\ty(t=   +8) = 5851 euro\n",
      "\n",
      "\ty(t= +3.7) = 13030 euro\n",
      "\ty(t=0) / 2 = 13030 euro\n"
     ]
    }
   ],
   "source": [
    "depr_half_n_days = -(np.log10(2)/models[model_name]['betas'][1])\n",
    "print('According to \"{}\"-model'.format(model_name))\n",
    "print('Car depreciates to half its value every\\n\\t{:.0f} days ({:.1f} years).'.format(depr_half_n_days, depr_half_n_days/365.25))\n",
    "for y in [0,2,4,6,8]:\n",
    "    print('\\ty(t={:+5.0f}) = {:.0f} euro'.format(y, 10**reg.predict([[y*365.25]])[0][0]))\n",
    "print('\\n\\ty(t={:+5.1f}) = {:.0f} euro'.format(depr_half_n_days/365.25, 10**reg.predict([[depr_half_n_days]])[0][0]))\n",
    "print('\\ty(t=0) / 2 = {:.0f} euro'.format(10**models[model_name]['betas'][0]/2))"
   ]
  },
  {
   "cell_type": "code",
   "execution_count": 8,
   "id": "6dcd8aab-91bc-4af2-a646-05440c805418",
   "metadata": {
    "editable": true,
    "scrolled": true,
    "slideshow": {
     "slide_type": ""
    },
    "tags": [
     "remove_when_contains:image"
    ]
   },
   "outputs": [
    {
     "name": "stdout",
     "output_type": "stream",
     "text": [
      "/home/tom/bin/satdatsci/Saturday-Datascience/results/linear_regression_log_price_young.png\n"
     ]
    }
   ],
   "source": [
    "# Fit a line by using predict\n",
    "prediction_X = np.array([0,int(np.ceil(X.max()/365.25))*365.25]).reshape(-1,1)\n",
    "prediction_y = reg.predict(prediction_X)\n",
    "\n",
    "# plot\n",
    "plt.figure(figsize=[8,8])\n",
    "hdl_trn = plt.plot(X_train/365.25, np.power(10,y_train), marker='s', markeredgecolor = (0, 0, 1, 1), markerfacecolor = (1, 1, 1, .5), linestyle='None', ms=4, \n",
    "                   label='train (n = {})'.format(y_train.shape[0]))\n",
    "hdl_tst = plt.plot(X_test/365.25, np.power(10,y_test), marker='s', markeredgecolor = (0, 0, 0, 1), markerfacecolor = (1, 1, 1, .5), linestyle='None', ms=4, \n",
    "                   label='test (n = {}, $R^2$ = {:.2f})'.format(\n",
    "                       y_test.shape[0],\n",
    "                       models[model_name]['test R^2'],\n",
    "                   ))\n",
    "hdl_fit = plt.plot(prediction_X/365, np.power(10,prediction_y), color='blue', marker=None, linestyle='-', linewidth=4, \n",
    "                   label = '$log10(y)$ = {:+.2f}{:+.1e}*(x*365.25)\\n($R^2$ = {:.2f}, $R^2_{{cv{:g}}}$ = {:.2f} (+/-{:.2f}))'.format(\n",
    "                       *models[model_name]['betas'],\n",
    "                       models[model_name]['R^2'],\n",
    "                       models[model_name]['cv R^2'].shape[0],\n",
    "                       np.mean(models[model_name]['cv R^2']),\n",
    "                       np.std(models[model_name]['cv R^2']),\n",
    "                   ))\n",
    "plt.legend()\n",
    "plt.xlabel('Age (years)', style='italic')\n",
    "plt.ylabel('Winning bid (EUR)', style='italic')\n",
    "plt.title('Linear fit with log(price) of young cars', style='italic')\n",
    "plt.ylim(bottom = 10, top = 1000000)\n",
    "plt.xlim(left = 0)\n",
    "plt.yscale('log')\n",
    "\n",
    "# Save\n",
    "file_name = f\"{RESULTS_DIR}/{model_name.replace(' ','_')}.png\"\n",
    "if True | do_save(file_name): # always save\n",
    "    print(file_name)\n",
    "    with plt.style.context(f\"{cfg['FILE_LOCATION']['app_dir']}/assets/context-paper.mplstyle\"):\n",
    "        plt.savefig(file_name, bbox_inches='tight', transparent=False)\n",
    "else:\n",
    "    plt.show()\n",
    "    print(f'Skip. {file_name} exists or saving is disabled in settings.')"
   ]
  },
  {
   "cell_type": "code",
   "execution_count": 9,
   "id": "5700584c-ade8-45a1-bb8a-a388cb3dd803",
   "metadata": {
    "editable": true,
    "slideshow": {
     "slide_type": ""
    },
    "tags": []
   },
   "outputs": [
    {
     "name": "stdout",
     "output_type": "stream",
     "text": [
      "Shelve file [./predict-price.shelve] contains models:\n",
      "\tlinear regression no cv\n",
      "\tlinear regression log price young\n"
     ]
    }
   ],
   "source": [
    "fn = './predict-price.shelve'\n",
    "with shelve.open(fn, flag='w') as slf:\n",
    "    slf['models'] = models \n",
    "    print(f'Shelve file [{fn}] contains models:')\n",
    "    for m in slf['models'].keys():\n",
    "        print(f'\\t{m}')"
   ]
  }
 ],
 "metadata": {
  "kernelspec": {
   "display_name": "Python 3 (ipykernel)",
   "language": "python",
   "name": "python3"
  },
  "language_info": {
   "codemirror_mode": {
    "name": "ipython",
    "version": 3
   },
   "file_extension": ".py",
   "mimetype": "text/x-python",
   "name": "python",
   "nbconvert_exporter": "python",
   "pygments_lexer": "ipython3",
   "version": "3.10.12"
  }
 },
 "nbformat": 4,
 "nbformat_minor": 5
}
