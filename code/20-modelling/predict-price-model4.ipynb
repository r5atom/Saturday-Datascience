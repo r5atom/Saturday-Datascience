{
 "cells": [
  {
   "cell_type": "code",
   "execution_count": 1,
   "id": "c103fa3f-b78c-45d9-83fb-8287fcd6aea1",
   "metadata": {
    "editable": true,
    "slideshow": {
     "slide_type": ""
    },
    "tags": []
   },
   "outputs": [],
   "source": [
    "import shelve\n",
    "import re\n",
    "import os\n",
    "from predict_price_helpers import *"
   ]
  },
  {
   "cell_type": "code",
   "execution_count": 2,
   "id": "e118fc93-506f-4073-8554-6eb370a40ef8",
   "metadata": {},
   "outputs": [
    {
     "name": "stdout",
     "output_type": "stream",
     "text": [
      "RESULTS_DIR\n",
      "def0:\n",
      "do_save = lambda fn: not(os.path.isfile(fn))\n",
      "cfg\n",
      "num_columns\n",
      "cat_columns\n",
      "models\n",
      "df\n"
     ]
    }
   ],
   "source": [
    "with shelve.open('./predict-price.shelve', flag='r') as slf:\n",
    "    for k,v in slf.items():\n",
    "        print(k)\n",
    "        globals()[k] = v\n",
    "        if re.match('def\\d+:', k) is not None:\n",
    "            print(v)\n",
    "            exec(v)"
   ]
  },
  {
   "cell_type": "code",
   "execution_count": 3,
   "id": "9fcee7de-a7c6-48dd-811a-ed01856cc7e6",
   "metadata": {},
   "outputs": [],
   "source": [
    "# import modules\n",
    "import pandas as pd\n",
    "import numpy as np\n",
    "import matplotlib.pyplot as plt\n",
    "import matplotlib\n",
    "\n",
    "import seaborn as sns"
   ]
  },
  {
   "cell_type": "code",
   "execution_count": 4,
   "id": "0687b313-3f8a-4a23-8979-056420546e46",
   "metadata": {},
   "outputs": [],
   "source": [
    "# set figure defaults (needs to be in cell seperate from import sns)\n",
    "plt.style.use([\n",
    "    'default',\n",
    "    f\"{cfg['FILE_LOCATION']['app_dir']}/assets/movshon.mplstyle\",\n",
    "    f\"{cfg['FILE_LOCATION']['app_dir']}/assets/context-notebook.mplstyle\"\n",
    "])"
   ]
  },
  {
   "cell_type": "markdown",
   "id": "798295f0-f36d-4d77-87ad-67c2f86dd4ff",
   "metadata": {},
   "source": [
    "# Model: MLR + imputer\n",
    "\n",
    "MLR as above, but instead of `dropna` us an imputer. This allows to use more observation.  \n",
    "\n",
    "At this point a pipeline is used."
   ]
  },
  {
   "cell_type": "markdown",
   "id": "ef2e452d-32ee-4eb1-b759-c1ade3cfe9d7",
   "metadata": {},
   "source": [
    "## Prepare input"
   ]
  },
  {
   "cell_type": "code",
   "execution_count": 5,
   "id": "e017f888-6e8a-49a8-87bd-1376d9e2e7be",
   "metadata": {},
   "outputs": [
    {
     "name": "stdout",
     "output_type": "stream",
     "text": [
      "(10334, 20)\n",
      "(10334, 1)\n"
     ]
    }
   ],
   "source": [
    "from sklearn.model_selection import train_test_split, cross_val_score\n",
    "from sklearn import linear_model\n",
    "\n",
    "from sklearn.impute import SimpleImputer\n",
    "from sklearn.preprocessing import StandardScaler\n",
    "from sklearn.pipeline import make_pipeline\n",
    "\n",
    "model_name = 'MLR impute median'\n",
    "\n",
    "features = num_columns \n",
    "# Can be reduced here\n",
    "\n",
    "yX = df.loc[:,['price'] + features].dropna(subset=['price'])\n",
    "X = yX.iloc[:,1:].values.reshape(-1,len(features))\n",
    "X[pd.isna(X)] = np.NaN\n",
    "y = np.log10(yX.iloc[:,0].values).reshape(-1,1)\n",
    "print(X.shape)\n",
    "print(y.shape)"
   ]
  },
  {
   "cell_type": "markdown",
   "id": "fe528ce4-3249-4a32-9cb2-7f6a76e10902",
   "metadata": {},
   "source": [
    "## Fit"
   ]
  },
  {
   "cell_type": "code",
   "execution_count": 6,
   "id": "430203cd-9978-42eb-984b-ab48adc28538",
   "metadata": {},
   "outputs": [
    {
     "name": "stdout",
     "output_type": "stream",
     "text": [
      "(7233, 20)\n",
      "(3101, 20)\n"
     ]
    }
   ],
   "source": [
    "# instantiate a dict in models at key with name of this model\n",
    "models[model_name] = dict()\n",
    "\n",
    "# split train test\n",
    "X_train, X_test, y_train, y_test = train_test_split(X, y, test_size = 0.3, random_state=42)\n",
    "print(X_train.shape)\n",
    "print(X_test.shape)\n",
    "\n",
    "# create regression model object and store\n",
    "pl = make_pipeline(\n",
    "    SimpleImputer(strategy='median'),\n",
    "    StandardScaler(),\n",
    "    linear_model.LinearRegression()\n",
    ")\n",
    "models[model_name].update({'model':pl})\n",
    "\n",
    "# fit\n",
    "pl.fit(X,y)\n",
    "models[model_name].update({'n':y.shape[0]})\n",
    "models[model_name].update({'n features':X.shape[1]})\n",
    "\n",
    "# parameters\n",
    "betas = [*pl.steps[-1][1].intercept_, *pl.steps[-1][1].coef_[0]]\n",
    "models[model_name].update({'betas':betas})\n",
    "\n",
    "# score\n",
    "models[model_name].update({'R^2':pl.score(X,y)})\n",
    "models[model_name].update({'test R^2':pl.score(X_test,y_test)})\n",
    "cv_results = cross_val_score(pl, X_test, y_test, cv=5)\n",
    "models[model_name].update({'cv R^2':cv_results})\n"
   ]
  },
  {
   "cell_type": "code",
   "execution_count": 7,
   "id": "f011aa53-73dc-4fa0-a5b5-3893e075ba80",
   "metadata": {
    "tags": [
     "remove_when_contains:image"
    ]
   },
   "outputs": [
    {
     "name": "stdout",
     "output_type": "stream",
     "text": [
      "/home/tom/bin/satdatsci/Saturday-Datascience/results/MLR_impute_median.png\n"
     ]
    }
   ],
   "source": [
    "# plot coefficients\n",
    "plt.figure(figsize=[8,4])\n",
    "ax = plt.gca()\n",
    "\n",
    "# sorted bar height\n",
    "betas = models[model_name]['betas']\n",
    "x = ['offset (log[EUR])'] + [features[i] for i in np.argsort(betas[1:])[::-1]]\n",
    "y = [betas[0]] + sorted(betas[1:], reverse=True)\n",
    "\n",
    "# plot bar\n",
    "ax.bar(x=x, height=y, edgecolor='k', facecolor='None')\n",
    "\n",
    "# add values when bar is small\n",
    "for x_val, coef in zip(x,y):\n",
    "    if np.abs(coef)<0.05:\n",
    "        ax.text(x_val, coef, '{:.3g}'.format(coef), rotation=45, va='bottom', ha='left')\n",
    "ax.set_yticks(np.arange(-0.3,0.4,0.1))\n",
    "ax.set_ylim(top=+0.3, bottom=-0.3)\n",
    "# offset\n",
    "x_val = x[0]\n",
    "coef = y[0]\n",
    "ax.text(x_val, 0.3, '{:.3g}'.format(coef), rotation=45, va='bottom', ha='left')\n",
    "\n",
    "# plot origin\n",
    "x_sign_switch = np.nonzero(np.array(y) < 0)[0][0]\n",
    "ax.axvline(x_sign_switch-0.5, linewidth=2, linestyle='--', color='k')\n",
    "ax.axhline(0, linewidth=2, linestyle='-', color='k')\n",
    "\n",
    "# labels\n",
    "ax.set_xticks(x)\n",
    "ax.set_xticklabels(labels=x, rotation=45, va='top', ha='right', style='italic')\n",
    "ax.xaxis.set_tick_params(which='minor', bottom=False)\n",
    "ax.set_xlabel('Feature', style='italic')\n",
    "ax.set_ylabel('Coefficient (a.u.)', style='italic')\n",
    "ax.set_title('Multiple linear regression', style='italic') \n",
    "\n",
    "# stats\n",
    "xy=[ax.get_xlim()[1], ax.get_ylim()[1]]\n",
    "ax.text(xy[0]*1.05,xy[1], '$R^2$ = {:.2f}, $R^2_{{cv{:g}}}$ = {:.2f} (+/-{:.2f})'.format(\n",
    "    models[model_name]['R^2'],\n",
    "    models[model_name]['cv R^2'].shape[0],\n",
    "    np.mean(models[model_name]['cv R^2']),\n",
    "    np.std(models[model_name]['cv R^2']),\n",
    ") + '\\n' +\n",
    "         'train (n = {})'.format(y_train.shape[0]) + '\\n' +\n",
    "         'test (n = {}, $R^2$ = {:.2f})'.format(\n",
    "             y_test.shape[0],\n",
    "             models[model_name]['test R^2'],\n",
    "         ), style='italic', va='top', ha='left')\n",
    "\n",
    "\n",
    "# Save\n",
    "file_name = f\"{RESULTS_DIR}/{model_name.replace(' ','_')}.png\"\n",
    "if True | do_save(file_name): # always save\n",
    "    print(file_name)\n",
    "    with plt.style.context(f\"{cfg['FILE_LOCATION']['app_dir']}/assets/context-paper.mplstyle\"):\n",
    "        plt.savefig(file_name, bbox_inches='tight', transparent=False)\n",
    "else:\n",
    "    plt.show()\n",
    "    print(f'Skip. {file_name} exists or saving is disabled in settings.')"
   ]
  },
  {
   "cell_type": "code",
   "execution_count": 8,
   "id": "e822dc94-d638-4303-8c76-22408f2ed9a6",
   "metadata": {
    "editable": true,
    "slideshow": {
     "slide_type": ""
    },
    "tags": []
   },
   "outputs": [
    {
     "name": "stdout",
     "output_type": "stream",
     "text": [
      "Shelve file [./predict-price.shelve] contains models:\n",
      "\tlinear regression no cv\n",
      "\tlinear regression log price young\n",
      "\tMLR reduced observations\n",
      "\tMLR impute median\n"
     ]
    }
   ],
   "source": [
    "fn = './predict-price.shelve'\n",
    "with shelve.open(fn, flag='w') as slf:\n",
    "    slf['models'] = models \n",
    "    print(f'Shelve file [{fn}] contains models:')\n",
    "    for m in slf['models'].keys():\n",
    "        print(f'\\t{m}')"
   ]
  }
 ],
 "metadata": {
  "kernelspec": {
   "display_name": "Python 3 (ipykernel)",
   "language": "python",
   "name": "python3"
  },
  "language_info": {
   "codemirror_mode": {
    "name": "ipython",
    "version": 3
   },
   "file_extension": ".py",
   "mimetype": "text/x-python",
   "name": "python",
   "nbconvert_exporter": "python",
   "pygments_lexer": "ipython3",
   "version": "3.10.12"
  }
 },
 "nbformat": 4,
 "nbformat_minor": 5
}
