{
 "cells": [
  {
   "cell_type": "code",
   "execution_count": 1,
   "id": "9a7050d0-9ac1-4a2f-8d8d-f85b8e0253cb",
   "metadata": {
    "editable": true,
    "slideshow": {
     "slide_type": ""
    },
    "tags": []
   },
   "outputs": [],
   "source": [
    "import shelve\n",
    "import re\n",
    "import os\n",
    "from predict_price_helpers import *"
   ]
  },
  {
   "cell_type": "code",
   "execution_count": 2,
   "id": "6d0396e2-aa76-41e5-8396-1e36643ebb77",
   "metadata": {
    "editable": true,
    "slideshow": {
     "slide_type": ""
    },
    "tags": []
   },
   "outputs": [
    {
     "name": "stdout",
     "output_type": "stream",
     "text": [
      "RESULTS_DIR\n",
      "def0:\n",
      "do_save = lambda fn: not(os.path.isfile(fn))\n",
      "cfg\n",
      "num_columns\n",
      "cat_columns\n",
      "models\n",
      "df\n"
     ]
    }
   ],
   "source": [
    "with shelve.open('./predict-price.shelve', flag='r') as slf:\n",
    "    for k,v in slf.items():\n",
    "        print(k)\n",
    "        globals()[k] = v\n",
    "        if re.match('def\\d+:', k) is not None:\n",
    "            print(v)\n",
    "            exec(v)"
   ]
  },
  {
   "cell_type": "code",
   "execution_count": 3,
   "id": "913e089b-1bed-420a-82c8-585f4f3c33d4",
   "metadata": {},
   "outputs": [],
   "source": [
    "# import modules\n",
    "import pandas as pd\n",
    "import numpy as np\n",
    "import matplotlib.pyplot as plt\n",
    "import matplotlib\n",
    "\n",
    "import seaborn as sns"
   ]
  },
  {
   "cell_type": "code",
   "execution_count": 4,
   "id": "4065aecd-7640-4fec-8d97-ce8aa2a16d7b",
   "metadata": {
    "editable": true,
    "slideshow": {
     "slide_type": ""
    },
    "tags": []
   },
   "outputs": [],
   "source": [
    "# set figure defaults (needs to be in cell seperate from import sns)\n",
    "plt.style.use([\n",
    "    'default',\n",
    "    f\"{cfg['FILE_LOCATION']['app_dir']}/assets/movshon.mplstyle\",\n",
    "    f\"{cfg['FILE_LOCATION']['app_dir']}/assets/context-notebook.mplstyle\"\n",
    "])"
   ]
  },
  {
   "cell_type": "markdown",
   "id": "4c3c50b5-86ef-4f49-9e1d-643aaeca20d1",
   "metadata": {
    "editable": true,
    "slideshow": {
     "slide_type": ""
    },
    "tags": []
   },
   "source": [
    "# Model: MLR regularized with added feature\n",
    "\n",
    "As previous, but with odometer and age combine into one feature"
   ]
  },
  {
   "cell_type": "code",
   "execution_count": 5,
   "id": "2feb7cd5-e0c0-4eda-a5ee-b59bd98899ae",
   "metadata": {
    "editable": true,
    "slideshow": {
     "slide_type": ""
    },
    "tags": []
   },
   "outputs": [
    {
     "name": "stdout",
     "output_type": "stream",
     "text": [
      "odometer              -0.432484\n",
      "age                   -0.392682\n",
      "> usage_intensity <   -0.032721\n",
      "price                  1.000000\n",
      "Name: price, dtype: float64\n",
      "\n",
      "\"usage_intensity\" does not seem to correlate better than \"age\" and \"odometer\" seperately\n"
     ]
    }
   ],
   "source": [
    "# check to see if combining features would improve model\n",
    "yX = df.dropna(subset=['price']).copy()\n",
    "yX.loc[:,'> usage_intensity <'] = (yX.odometer / yX.age)\n",
    "yX.loc[:,'> is_classic <'] = yX.age > 25*365\n",
    "yX[pd.isna(yX)] = np.NaN\n",
    "#yX.loc[:,'> is_youngtimer <'] = (yX.age > 15*365) & (yX.age <= 25*365)\n",
    "print(yX.loc[:,['price', '> usage_intensity <', 'age', 'odometer']].corr().price.sort_values())\n",
    "print('\\n\"usage_intensity\" does not seem to correlate better than \"age\" and \"odometer\" seperately')"
   ]
  },
  {
   "cell_type": "markdown",
   "id": "2888cb34-fce9-4070-81c8-1066359dfb59",
   "metadata": {
    "editable": true,
    "slideshow": {
     "slide_type": ""
    },
    "tags": []
   },
   "source": [
    "## Prepare input"
   ]
  },
  {
   "cell_type": "code",
   "execution_count": 6,
   "id": "a9f8e7c1-c0a8-47c6-9b47-85f03c55bf27",
   "metadata": {
    "editable": true,
    "slideshow": {
     "slide_type": ""
    },
    "tags": []
   },
   "outputs": [
    {
     "name": "stdout",
     "output_type": "stream",
     "text": [
      "(10334, 31)\n",
      "(10334,)\n"
     ]
    },
    {
     "name": "stderr",
     "output_type": "stream",
     "text": [
      "/tmp/ipykernel_1014163/2375129649.py:31: FutureWarning: Setting an item of incompatible dtype is deprecated and will raise in a future error of pandas. Value '[<NA> <NA> 'n' ... 'n' 'n' 'n']' has dtype incompatible with boolean, please explicitly cast to a compatible dtype first.\n",
      "  X.loc[:,'classic'] = X.loc[:,'classic'].astype('O').replace({True:'y', False:'n'})\n"
     ]
    }
   ],
   "source": [
    "from sklearn.model_selection import train_test_split, cross_val_score\n",
    "from sklearn import linear_model\n",
    "\n",
    "from sklearn.impute import SimpleImputer\n",
    "from sklearn.preprocessing import StandardScaler\n",
    "from sklearn.pipeline import make_pipeline\n",
    "\n",
    "from sklearn.preprocessing import OneHotEncoder\n",
    "from sklearn.compose import ColumnTransformer\n",
    "from sklearn.compose import TransformedTargetRegressor\n",
    "from sklearn.preprocessing import MinMaxScaler\n",
    "\n",
    "from sklearn.model_selection import GridSearchCV\n",
    "\n",
    "model_name = 'MLR added features'\n",
    "\n",
    "cat_columns_reduced = list(np.setdiff1d(cat_columns, ['model', 'fuel']))\n",
    "# Can be reduced here\n",
    "\n",
    "# list of lists with categories. Needed for column transformer\n",
    "cats = list(df[cat_columns_reduced].apply(lambda x:pd.Series(x.unique()).dropna().tolist() + ['missing'], axis='index'))\n",
    "\n",
    "# Use data frame not array\n",
    "yX = df.dropna(subset=['price'])\n",
    "X = yX.iloc[:,1:]\n",
    "y = yX.iloc[:,0]\n",
    "\n",
    "# Add features\n",
    "X.loc[:,'usage_intensity'] = X.odometer / X.age\n",
    "X.loc[:,'classic'] = X.age > 25*365\n",
    "X.loc[:,'classic'] = X.loc[:,'classic'].astype('O').replace({True:'y', False:'n'})\n",
    "#X.loc[:,'youngtimer'] = (X.age > 15*365) & (X.age <= 25*365)\n",
    "#X.loc[:,'youngtimer'].replace({True:'y', False:'n'}, inplace=True)\n",
    "X[pd.isna(X)] = np.NaN\n",
    "print(X.shape)\n",
    "print(y.shape)"
   ]
  },
  {
   "cell_type": "code",
   "execution_count": 7,
   "id": "1bdbd463-ef26-4d99-a7a9-304b0b37a74f",
   "metadata": {
    "editable": true,
    "slideshow": {
     "slide_type": ""
    },
    "tags": []
   },
   "outputs": [],
   "source": [
    "cat_columns_expanded = cat_columns_reduced + ['classic']\n",
    "cats_added = cats + [['y', 'n', 'missing']]\n",
    "num_columns_expanded = num_columns + ['usage_intensity']\n",
    "num_columns_expanded.remove('odometer')\n",
    "features = num_columns_expanded + cat_columns_expanded"
   ]
  },
  {
   "cell_type": "code",
   "execution_count": 8,
   "id": "4931ffd2-75aa-498a-905c-50b959f830cc",
   "metadata": {},
   "outputs": [
    {
     "name": "stdout",
     "output_type": "stream",
     "text": [
      "(7233, 31)\n",
      "(3101, 31)\n"
     ]
    }
   ],
   "source": [
    "# instantiate a dict in models at key with name of this model\n",
    "models[model_name] = dict()\n",
    "\n",
    "# split train test\n",
    "X_train, X_test, y_train, y_test = train_test_split(X, y, test_size = 0.3, random_state=42)\n",
    "print(X_train.shape)\n",
    "print(X_test.shape)\n"
   ]
  },
  {
   "cell_type": "code",
   "execution_count": 9,
   "id": "f8f5be42-4ee5-4103-a5b8-2a9b337ec8c3",
   "metadata": {
    "editable": true,
    "slideshow": {
     "slide_type": ""
    },
    "tags": []
   },
   "outputs": [],
   "source": [
    "# Create model (same as MLR Lasso)\n",
    "\n",
    "# Preprocessor: numerical features\n",
    "num_transformer = make_pipeline(\n",
    "    SimpleImputer(strategy='median'),\n",
    "    MinMaxScaler(),\n",
    ")\n",
    "# Preprocessor: categorical features\n",
    "cat_transformer = make_pipeline(\n",
    "    SimpleImputer(strategy='constant', fill_value='missing', missing_values=np.NaN),\n",
    "    OneHotEncoder(categories=cats_added),\n",
    ")\n",
    "\n",
    "# Preprocess: fuels\n",
    "# list of all fuels is passed by using full data set! (X)\n",
    "fuel_list = list(get_unique_fuels(merge_lpg_and_lpgtype(X.fuel)))\n",
    "get_fuel_dummies = DummyfyFuel(fuel_list)\n",
    "\n",
    "\n",
    "# Combine num and cat\n",
    "preprocessor = ColumnTransformer(transformers=[\n",
    "    ('numerical', num_transformer, pd.Index(num_columns_expanded)),\n",
    "    ('categorical', cat_transformer, pd.Index(cat_columns_expanded)),\n",
    "    ('onehot_fuel', get_fuel_dummies, 'fuel')\n",
    "], verbose=False)\n",
    "\n",
    "# full pipeline with preproc and mlr\n",
    "mlr = make_pipeline(\n",
    "    preprocessor,\n",
    "    linear_model.Lasso(random_state=42)\n",
    ")\n",
    "\n",
    "# Target transformation: log transform price\n",
    "pl = TransformedTargetRegressor(\n",
    "    regressor=mlr,\n",
    "    func=np.log10,\n",
    "    inverse_func=pow10,\n",
    "    #inverse_func=lambda y: 10**y\n",
    ")\n",
    "\n"
   ]
  },
  {
   "cell_type": "code",
   "execution_count": 10,
   "id": "8a272bbb-c724-402e-9361-717454815631",
   "metadata": {
    "editable": true,
    "slideshow": {
     "slide_type": ""
    },
    "tags": []
   },
   "outputs": [],
   "source": [
    "def gs_lasso_alpha(pipeline):\n",
    "    # grid search estimator\n",
    "    grid_search_alpha = GridSearchCV(\n",
    "        estimator=pipeline,\n",
    "        param_grid=[\n",
    "            {\n",
    "                'regressor__lasso__alpha': 10**(np.linspace(-4,-2,9)) # Choose alphas such that a clear peaked graph is shown in next plot\n",
    "            } \n",
    "        ],\n",
    "        cv=8,\n",
    "        scoring='r2',\n",
    "        #n_jobs=-1,\n",
    "        verbose=10\n",
    "    )\n",
    "\n",
    "    # Perform grid search\n",
    "    grid_search_alpha.fit(X_train,y_train);\n",
    "    \n",
    "    return grid_search_alpha"
   ]
  },
  {
   "cell_type": "code",
   "execution_count": 11,
   "id": "087e8534-2ac1-4fc5-a2b0-6017fc9e3de0",
   "metadata": {
    "tags": [
     "remove_when_contains:image"
    ]
   },
   "outputs": [],
   "source": [
    "def plot_gscv_result(gscv, param_name = None):\n",
    "    '''\n",
    "    plot search results    \n",
    "    '''\n",
    "    \n",
    "    if param_name is None:\n",
    "        param_name = re.sub('^.+?__', '', list(gscv.param_grid[0].keys())[0])\n",
    "    \n",
    "    plt.figure(figsize=[2,2])\n",
    "\n",
    "    # abscissa\n",
    "    alphas = list(gscv.cv_results_['param_regressor__' + param_name])\n",
    "\n",
    "    # plot mean\n",
    "    r2_mean = gscv.cv_results_['mean_test_score']\n",
    "    # normalize\n",
    "    r2_mean = (r2_mean-r2_mean.mean())/r2_mean.std()\n",
    "    plt.plot(alphas, r2_mean, label='mean', lw=4, color='blue')\n",
    "\n",
    "    # plot folds\n",
    "    for fold in range(gscv.cv):\n",
    "        r2_fold = gscv.cv_results_['split{:.0f}_test_score'.format(fold)]\n",
    "        # normalize\n",
    "        r2_fold = (r2_fold-r2_fold.mean())/r2_fold.std()\n",
    "        plt.plot(alphas, r2_fold, label='fold ' + str(fold), lw=1, color='black')\n",
    "\n",
    "    plt.xscale('log')\n",
    "    plt.xlabel('alpha')\n",
    "    plt.ylabel('standardized r2 score [a.u.]')\n",
    "    plt.axvline(gscv.best_params_['regressor__' + param_name], linewidth=2, linestyle='--', color='k')\n",
    "    result = 'grid search results\\nbest {:s}={:.5f}'.format(param_name, gscv.best_params_['regressor__' + param_name])\n",
    "    plt.title(result)\n",
    "    print(result)\n",
    "    plt.legend(ncol=1, loc='center left', bbox_to_anchor=(1,0.5))\n",
    "    \n",
    "    return gscv.best_estimator_"
   ]
  },
  {
   "cell_type": "code",
   "execution_count": 12,
   "id": "d93d881b-188c-4f31-8a22-3e0a9e352a6d",
   "metadata": {
    "editable": true,
    "slideshow": {
     "slide_type": ""
    },
    "tags": [
     "remove_when_contains:image"
    ]
   },
   "outputs": [
    {
     "name": "stdout",
     "output_type": "stream",
     "text": [
      "Fitting 8 folds for each of 9 candidates, totalling 72 fits\n",
      "[CV 1/8; 1/9] START regressor__lasso__alpha=0.0001..............................\n",
      "[CV 1/8; 1/9] END regressor__lasso__alpha=0.0001;, score=-0.054 total time=   1.1s\n",
      "[CV 2/8; 1/9] START regressor__lasso__alpha=0.0001..............................\n",
      "[CV 2/8; 1/9] END regressor__lasso__alpha=0.0001;, score=-0.458 total time=   1.4s\n",
      "[CV 3/8; 1/9] START regressor__lasso__alpha=0.0001..............................\n",
      "[CV 3/8; 1/9] END regressor__lasso__alpha=0.0001;, score=0.366 total time=   1.2s\n",
      "[CV 4/8; 1/9] START regressor__lasso__alpha=0.0001..............................\n",
      "[CV 4/8; 1/9] END regressor__lasso__alpha=0.0001;, score=0.439 total time=   1.2s\n",
      "[CV 5/8; 1/9] START regressor__lasso__alpha=0.0001..............................\n",
      "[CV 5/8; 1/9] END regressor__lasso__alpha=0.0001;, score=0.648 total time=   1.7s\n",
      "[CV 6/8; 1/9] START regressor__lasso__alpha=0.0001..............................\n",
      "[CV 6/8; 1/9] END regressor__lasso__alpha=0.0001;, score=0.621 total time=   1.5s\n",
      "[CV 7/8; 1/9] START regressor__lasso__alpha=0.0001..............................\n",
      "[CV 7/8; 1/9] END regressor__lasso__alpha=0.0001;, score=0.583 total time=   1.2s\n",
      "[CV 8/8; 1/9] START regressor__lasso__alpha=0.0001..............................\n",
      "[CV 8/8; 1/9] END regressor__lasso__alpha=0.0001;, score=0.515 total time=   1.1s\n",
      "[CV 1/8; 2/9] START regressor__lasso__alpha=0.00017782794100389227..............\n",
      "[CV 1/8; 2/9] END regressor__lasso__alpha=0.00017782794100389227;, score=0.218 total time=   1.0s\n",
      "[CV 2/8; 2/9] START regressor__lasso__alpha=0.00017782794100389227..............\n",
      "[CV 2/8; 2/9] END regressor__lasso__alpha=0.00017782794100389227;, score=0.540 total time=   1.1s\n",
      "[CV 3/8; 2/9] START regressor__lasso__alpha=0.00017782794100389227..............\n",
      "[CV 3/8; 2/9] END regressor__lasso__alpha=0.00017782794100389227;, score=0.371 total time=   1.1s\n",
      "[CV 4/8; 2/9] START regressor__lasso__alpha=0.00017782794100389227..............\n",
      "[CV 4/8; 2/9] END regressor__lasso__alpha=0.00017782794100389227;, score=0.436 total time=   1.2s\n",
      "[CV 5/8; 2/9] START regressor__lasso__alpha=0.00017782794100389227..............\n",
      "[CV 5/8; 2/9] END regressor__lasso__alpha=0.00017782794100389227;, score=0.647 total time=   1.1s\n",
      "[CV 6/8; 2/9] START regressor__lasso__alpha=0.00017782794100389227..............\n",
      "[CV 6/8; 2/9] END regressor__lasso__alpha=0.00017782794100389227;, score=0.656 total time=   1.1s\n",
      "[CV 7/8; 2/9] START regressor__lasso__alpha=0.00017782794100389227..............\n",
      "[CV 7/8; 2/9] END regressor__lasso__alpha=0.00017782794100389227;, score=0.606 total time=   0.9s\n",
      "[CV 8/8; 2/9] START regressor__lasso__alpha=0.00017782794100389227..............\n",
      "[CV 8/8; 2/9] END regressor__lasso__alpha=0.00017782794100389227;, score=0.608 total time=   1.0s\n",
      "[CV 1/8; 3/9] START regressor__lasso__alpha=0.00031622776601683794..............\n",
      "[CV 1/8; 3/9] END regressor__lasso__alpha=0.00031622776601683794;, score=0.334 total time=   0.8s\n",
      "[CV 2/8; 3/9] START regressor__lasso__alpha=0.00031622776601683794..............\n",
      "[CV 2/8; 3/9] END regressor__lasso__alpha=0.00031622776601683794;, score=0.516 total time=   0.8s\n",
      "[CV 3/8; 3/9] START regressor__lasso__alpha=0.00031622776601683794..............\n",
      "[CV 3/8; 3/9] END regressor__lasso__alpha=0.00031622776601683794;, score=0.382 total time=   0.8s\n",
      "[CV 4/8; 3/9] START regressor__lasso__alpha=0.00031622776601683794..............\n",
      "[CV 4/8; 3/9] END regressor__lasso__alpha=0.00031622776601683794;, score=0.423 total time=   0.8s\n",
      "[CV 5/8; 3/9] START regressor__lasso__alpha=0.00031622776601683794..............\n",
      "[CV 5/8; 3/9] END regressor__lasso__alpha=0.00031622776601683794;, score=0.648 total time=   0.8s\n",
      "[CV 6/8; 3/9] START regressor__lasso__alpha=0.00031622776601683794..............\n",
      "[CV 6/8; 3/9] END regressor__lasso__alpha=0.00031622776601683794;, score=0.663 total time=   0.8s\n",
      "[CV 7/8; 3/9] START regressor__lasso__alpha=0.00031622776601683794..............\n",
      "[CV 7/8; 3/9] END regressor__lasso__alpha=0.00031622776601683794;, score=0.631 total time=   0.8s\n",
      "[CV 8/8; 3/9] START regressor__lasso__alpha=0.00031622776601683794..............\n",
      "[CV 8/8; 3/9] END regressor__lasso__alpha=0.00031622776601683794;, score=0.677 total time=   0.8s\n",
      "[CV 1/8; 4/9] START regressor__lasso__alpha=0.0005623413251903491...............\n",
      "[CV 1/8; 4/9] END regressor__lasso__alpha=0.0005623413251903491;, score=0.339 total time=   0.7s\n",
      "[CV 2/8; 4/9] START regressor__lasso__alpha=0.0005623413251903491...............\n",
      "[CV 2/8; 4/9] END regressor__lasso__alpha=0.0005623413251903491;, score=0.530 total time=   0.7s\n",
      "[CV 3/8; 4/9] START regressor__lasso__alpha=0.0005623413251903491...............\n",
      "[CV 3/8; 4/9] END regressor__lasso__alpha=0.0005623413251903491;, score=0.384 total time=   0.7s\n",
      "[CV 4/8; 4/9] START regressor__lasso__alpha=0.0005623413251903491...............\n",
      "[CV 4/8; 4/9] END regressor__lasso__alpha=0.0005623413251903491;, score=0.404 total time=   0.7s\n",
      "[CV 5/8; 4/9] START regressor__lasso__alpha=0.0005623413251903491...............\n",
      "[CV 5/8; 4/9] END regressor__lasso__alpha=0.0005623413251903491;, score=0.653 total time=   0.7s\n",
      "[CV 6/8; 4/9] START regressor__lasso__alpha=0.0005623413251903491...............\n",
      "[CV 6/8; 4/9] END regressor__lasso__alpha=0.0005623413251903491;, score=0.635 total time=   0.7s\n",
      "[CV 7/8; 4/9] START regressor__lasso__alpha=0.0005623413251903491...............\n",
      "[CV 7/8; 4/9] END regressor__lasso__alpha=0.0005623413251903491;, score=0.644 total time=   0.7s\n",
      "[CV 8/8; 4/9] START regressor__lasso__alpha=0.0005623413251903491...............\n",
      "[CV 8/8; 4/9] END regressor__lasso__alpha=0.0005623413251903491;, score=0.689 total time=   0.7s\n",
      "[CV 1/8; 5/9] START regressor__lasso__alpha=0.001...............................\n",
      "[CV 1/8; 5/9] END regressor__lasso__alpha=0.001;, score=0.353 total time=   0.6s\n",
      "[CV 2/8; 5/9] START regressor__lasso__alpha=0.001...............................\n",
      "[CV 2/8; 5/9] END regressor__lasso__alpha=0.001;, score=0.552 total time=   0.6s\n",
      "[CV 3/8; 5/9] START regressor__lasso__alpha=0.001...............................\n",
      "[CV 3/8; 5/9] END regressor__lasso__alpha=0.001;, score=0.374 total time=   0.6s\n",
      "[CV 4/8; 5/9] START regressor__lasso__alpha=0.001...............................\n",
      "[CV 4/8; 5/9] END regressor__lasso__alpha=0.001;, score=0.400 total time=   0.6s\n",
      "[CV 5/8; 5/9] START regressor__lasso__alpha=0.001...............................\n",
      "[CV 5/8; 5/9] END regressor__lasso__alpha=0.001;, score=0.654 total time=   0.6s\n",
      "[CV 6/8; 5/9] START regressor__lasso__alpha=0.001...............................\n",
      "[CV 6/8; 5/9] END regressor__lasso__alpha=0.001;, score=0.617 total time=   0.7s\n",
      "[CV 7/8; 5/9] START regressor__lasso__alpha=0.001...............................\n",
      "[CV 7/8; 5/9] END regressor__lasso__alpha=0.001;, score=0.666 total time=   0.7s\n",
      "[CV 8/8; 5/9] START regressor__lasso__alpha=0.001...............................\n",
      "[CV 8/8; 5/9] END regressor__lasso__alpha=0.001;, score=0.673 total time=   0.6s\n",
      "[CV 1/8; 6/9] START regressor__lasso__alpha=0.0017782794100389228...............\n",
      "[CV 1/8; 6/9] END regressor__lasso__alpha=0.0017782794100389228;, score=0.356 total time=   0.5s\n",
      "[CV 2/8; 6/9] START regressor__lasso__alpha=0.0017782794100389228...............\n",
      "[CV 2/8; 6/9] END regressor__lasso__alpha=0.0017782794100389228;, score=0.548 total time=   0.5s\n",
      "[CV 3/8; 6/9] START regressor__lasso__alpha=0.0017782794100389228...............\n",
      "[CV 3/8; 6/9] END regressor__lasso__alpha=0.0017782794100389228;, score=0.364 total time=   0.5s\n",
      "[CV 4/8; 6/9] START regressor__lasso__alpha=0.0017782794100389228...............\n",
      "[CV 4/8; 6/9] END regressor__lasso__alpha=0.0017782794100389228;, score=0.384 total time=   0.5s\n",
      "[CV 5/8; 6/9] START regressor__lasso__alpha=0.0017782794100389228...............\n",
      "[CV 5/8; 6/9] END regressor__lasso__alpha=0.0017782794100389228;, score=0.635 total time=   0.5s\n",
      "[CV 6/8; 6/9] START regressor__lasso__alpha=0.0017782794100389228...............\n",
      "[CV 6/8; 6/9] END regressor__lasso__alpha=0.0017782794100389228;, score=0.584 total time=   0.5s\n",
      "[CV 7/8; 6/9] START regressor__lasso__alpha=0.0017782794100389228...............\n",
      "[CV 7/8; 6/9] END regressor__lasso__alpha=0.0017782794100389228;, score=0.686 total time=   0.5s\n",
      "[CV 8/8; 6/9] START regressor__lasso__alpha=0.0017782794100389228...............\n",
      "[CV 8/8; 6/9] END regressor__lasso__alpha=0.0017782794100389228;, score=0.656 total time=   0.5s\n",
      "[CV 1/8; 7/9] START regressor__lasso__alpha=0.0031622776601683794...............\n",
      "[CV 1/8; 7/9] END regressor__lasso__alpha=0.0031622776601683794;, score=0.329 total time=   0.6s\n",
      "[CV 2/8; 7/9] START regressor__lasso__alpha=0.0031622776601683794...............\n",
      "[CV 2/8; 7/9] END regressor__lasso__alpha=0.0031622776601683794;, score=0.499 total time=   0.6s\n",
      "[CV 3/8; 7/9] START regressor__lasso__alpha=0.0031622776601683794...............\n",
      "[CV 3/8; 7/9] END regressor__lasso__alpha=0.0031622776601683794;, score=0.333 total time=   0.5s\n",
      "[CV 4/8; 7/9] START regressor__lasso__alpha=0.0031622776601683794...............\n",
      "[CV 4/8; 7/9] END regressor__lasso__alpha=0.0031622776601683794;, score=0.345 total time=   0.5s\n",
      "[CV 5/8; 7/9] START regressor__lasso__alpha=0.0031622776601683794...............\n",
      "[CV 5/8; 7/9] END regressor__lasso__alpha=0.0031622776601683794;, score=0.578 total time=   0.5s\n",
      "[CV 6/8; 7/9] START regressor__lasso__alpha=0.0031622776601683794...............\n",
      "[CV 6/8; 7/9] END regressor__lasso__alpha=0.0031622776601683794;, score=0.524 total time=   0.5s\n",
      "[CV 7/8; 7/9] START regressor__lasso__alpha=0.0031622776601683794...............\n",
      "[CV 7/8; 7/9] END regressor__lasso__alpha=0.0031622776601683794;, score=0.653 total time=   0.5s\n",
      "[CV 8/8; 7/9] START regressor__lasso__alpha=0.0031622776601683794...............\n",
      "[CV 8/8; 7/9] END regressor__lasso__alpha=0.0031622776601683794;, score=0.609 total time=   0.5s\n",
      "[CV 1/8; 8/9] START regressor__lasso__alpha=0.005623413251903491................\n",
      "[CV 1/8; 8/9] END regressor__lasso__alpha=0.005623413251903491;, score=0.265 total time=   0.5s\n",
      "[CV 2/8; 8/9] START regressor__lasso__alpha=0.005623413251903491................\n",
      "[CV 2/8; 8/9] END regressor__lasso__alpha=0.005623413251903491;, score=0.385 total time=   0.6s\n",
      "[CV 3/8; 8/9] START regressor__lasso__alpha=0.005623413251903491................\n",
      "[CV 3/8; 8/9] END regressor__lasso__alpha=0.005623413251903491;, score=0.268 total time=   0.5s\n",
      "[CV 4/8; 8/9] START regressor__lasso__alpha=0.005623413251903491................\n",
      "[CV 4/8; 8/9] END regressor__lasso__alpha=0.005623413251903491;, score=0.271 total time=   0.5s\n",
      "[CV 5/8; 8/9] START regressor__lasso__alpha=0.005623413251903491................\n",
      "[CV 5/8; 8/9] END regressor__lasso__alpha=0.005623413251903491;, score=0.463 total time=   0.5s\n",
      "[CV 6/8; 8/9] START regressor__lasso__alpha=0.005623413251903491................\n",
      "[CV 6/8; 8/9] END regressor__lasso__alpha=0.005623413251903491;, score=0.394 total time=   0.5s\n",
      "[CV 7/8; 8/9] START regressor__lasso__alpha=0.005623413251903491................\n",
      "[CV 7/8; 8/9] END regressor__lasso__alpha=0.005623413251903491;, score=0.522 total time=   0.5s\n",
      "[CV 8/8; 8/9] START regressor__lasso__alpha=0.005623413251903491................\n",
      "[CV 8/8; 8/9] END regressor__lasso__alpha=0.005623413251903491;, score=0.514 total time=   0.5s\n",
      "[CV 1/8; 9/9] START regressor__lasso__alpha=0.01................................\n",
      "[CV 1/8; 9/9] END .regressor__lasso__alpha=0.01;, score=0.167 total time=   0.5s\n",
      "[CV 2/8; 9/9] START regressor__lasso__alpha=0.01................................\n",
      "[CV 2/8; 9/9] END .regressor__lasso__alpha=0.01;, score=0.209 total time=   0.5s\n",
      "[CV 3/8; 9/9] START regressor__lasso__alpha=0.01................................\n",
      "[CV 3/8; 9/9] END .regressor__lasso__alpha=0.01;, score=0.169 total time=   0.5s\n",
      "[CV 4/8; 9/9] START regressor__lasso__alpha=0.01................................\n",
      "[CV 4/8; 9/9] END .regressor__lasso__alpha=0.01;, score=0.165 total time=   0.5s\n",
      "[CV 5/8; 9/9] START regressor__lasso__alpha=0.01................................\n",
      "[CV 5/8; 9/9] END .regressor__lasso__alpha=0.01;, score=0.297 total time=   0.5s\n",
      "[CV 6/8; 9/9] START regressor__lasso__alpha=0.01................................\n",
      "[CV 6/8; 9/9] END .regressor__lasso__alpha=0.01;, score=0.205 total time=   0.5s\n",
      "[CV 7/8; 9/9] START regressor__lasso__alpha=0.01................................\n",
      "[CV 7/8; 9/9] END .regressor__lasso__alpha=0.01;, score=0.303 total time=   0.5s\n",
      "[CV 8/8; 9/9] START regressor__lasso__alpha=0.01................................\n",
      "[CV 8/8; 9/9] END .regressor__lasso__alpha=0.01;, score=0.323 total time=   0.5s\n",
      "grid search results\n",
      "best lasso__alpha=0.00100\n"
     ]
    }
   ],
   "source": [
    "# # use alpha from previous model\n",
    "# alpha = models['MLR Lasso']['model'].regressor['lasso'].get_params()['alpha']\n",
    "# pl.regressor['lasso'].set_params(alpha = alpha)\n",
    "\n",
    "best_estimator = plot_gscv_result(gs_lasso_alpha(pl), 'lasso__alpha')\n",
    "\n"
   ]
  },
  {
   "cell_type": "markdown",
   "id": "8c86c857-4087-424d-8ee5-5dd2f3d3ee0e",
   "metadata": {
    "editable": true,
    "slideshow": {
     "slide_type": ""
    },
    "tags": []
   },
   "source": [
    "### Fit"
   ]
  },
  {
   "cell_type": "code",
   "execution_count": 13,
   "id": "fbfec174-ef16-4611-87e7-4f19ca2f6edb",
   "metadata": {
    "editable": true,
    "slideshow": {
     "slide_type": ""
    },
    "tags": []
   },
   "outputs": [],
   "source": [
    "# Store estimator\n",
    "reg = best_estimator\n",
    "models[model_name].update({'model':reg})\n",
    "\n",
    "# fit\n",
    "reg.fit(X_train, y_train)\n",
    "y_pred = reg.predict(X_test)\n",
    "\n",
    "models[model_name].update({'n':y.shape[0]})\n",
    "models[model_name].update({'n features':X.shape[1]})\n",
    "\n",
    "# parameters\n",
    "betas = [reg.regressor_.steps[-1][1].intercept_, *reg.regressor_.steps[-1][1].coef_]\n",
    "models[model_name].update({'betas':betas})\n",
    "models[model_name].update({'n betas effective':(np.abs(betas) > 0).sum()})\n",
    "\n",
    "# score\n",
    "models[model_name].update({'R^2':reg.score(X,y)})\n",
    "models[model_name].update({'test R^2':reg.score(X_test,y_test)})\n",
    "cv_results = cross_val_score(reg, X_test, y_test, cv=5)\n",
    "models[model_name].update({'cv R^2':cv_results})"
   ]
  },
  {
   "cell_type": "code",
   "execution_count": 14,
   "id": "02f257ed-02b1-4d7d-bb18-c44d5a4a1eeb",
   "metadata": {
    "editable": true,
    "slideshow": {
     "slide_type": ""
    },
    "tags": []
   },
   "outputs": [],
   "source": [
    "# update features, by adding fuels\n",
    "cat_columns_expanded += ['fuel']\n",
    "cats_added += [fuel_list]\n"
   ]
  },
  {
   "cell_type": "code",
   "execution_count": 15,
   "id": "d588b5e4-483e-479f-a6ce-b085427f094f",
   "metadata": {
    "editable": true,
    "slideshow": {
     "slide_type": ""
    },
    "tags": []
   },
   "outputs": [],
   "source": [
    "# Split betas per category feature.\n",
    "idx_start = len(num_columns_expanded)+1\n",
    "cat_betas = list()\n",
    "for cat in cats_added:\n",
    "    cat_betas += [betas[idx_start:idx_start+len(cat)]]\n",
    "    idx_start += len(cat)\n",
    "# Check if all betas are stored\n",
    "assert cat_betas[0][0] == betas[len(num_columns_expanded)+1] # first\n",
    "assert cat_betas[-1][-1] == betas[-1] # last"
   ]
  },
  {
   "cell_type": "code",
   "execution_count": 16,
   "id": "a49eb56c-2981-44fc-b665-20176d61b224",
   "metadata": {
    "editable": true,
    "scrolled": true,
    "slideshow": {
     "slide_type": ""
    },
    "tags": [
     "remove_when_contains:image"
    ]
   },
   "outputs": [
    {
     "name": "stdout",
     "output_type": "stream",
     "text": [
      "/home/tom/bin/satdatsci/Saturday-Datascience/results/MLR_added_features.png\n"
     ]
    }
   ],
   "source": [
    "# plot coefficients\n",
    "\n",
    "# plot numerical and catagorical in different subplots\n",
    "n_plots = len(cat_columns_expanded) + 1\n",
    "fig,axs=plt.subplots(\n",
    "    nrows=n_plots,\n",
    "    figsize=[16,4*n_plots]\n",
    ")\n",
    "plt.subplots_adjust(hspace=0.5)\n",
    "\n",
    "# Plot coefficients\n",
    "for feats, coefs, name, ax in zip(\n",
    "    [['offset'] + features] + cats_added,\n",
    "    [[betas[0]] + betas[1:len(num_columns_expanded)+1]] + cat_betas,\n",
    "    ['numerical'] + cat_columns_expanded,\n",
    "    axs\n",
    "):\n",
    "    # sort by bar height\n",
    "    x = [feats[i] for i in np.argsort(coefs)[::-1]]\n",
    "    y = sorted(coefs, reverse=True)\n",
    "    # plot bar\n",
    "    ax.bar(x=x, height=y, edgecolor='k', facecolor='None', clip_on=True)\n",
    "\n",
    "    # prettify\n",
    "    if not name.startswith('num'):\n",
    "        ax.set_yticks(np.arange(-0.5,+0.6,0.1))\n",
    "        bot_tick, top_tick = ax.set_ylim(top=+0.5, bottom=-0.5)\n",
    "    else:\n",
    "        ax.set_yticks(np.arange(-2,2.2,0.5))\n",
    "        bot_tick, top_tick = ax.set_ylim(top=+2, bottom=-2)\n",
    "        # stats\n",
    "        xy=[ax.get_xlim()[1], ax.get_ylim()[1]]\n",
    "        ax.text(xy[0]*1.05,xy[1], '$R^2$ = {:.2f}, $R^2_{{cv{:g}}}$ = {:.2f} (+/-{:.2f})'.format(\n",
    "            models[model_name]['R^2'],\n",
    "            models[model_name]['cv R^2'].shape[0],\n",
    "            np.mean(models[model_name]['cv R^2']),\n",
    "            np.std(models[model_name]['cv R^2']),\n",
    "        ) + '\\n' +\n",
    "                 'parameters total n={}, not zero n={}\\n'.format(len(betas), sum(np.array(betas) != 0)) +\n",
    "                 'train (n = {})'.format(y_train.shape[0]) + '\\n' +\n",
    "                 'test (n = {}, $R^2$ = {:.2f})'.format(\n",
    "                     y_test.shape[0],\n",
    "                     models[model_name]['test R^2'],\n",
    "                 ), style='italic', va='top', ha='left')\n",
    "\n",
    "\n",
    "    # plot sign switch\n",
    "    x_sign_switch1 = np.nonzero(np.array(y+[-np.inf]) < 0)[0][0]\n",
    "    x_sign_switch2 = np.nonzero(np.array([+np.inf]+y) > 0)[0][-1]\n",
    "    ax.axvline(x_sign_switch1-0.5, linewidth=2, linestyle='--', color='k')\n",
    "    ax.axvline(x_sign_switch2-0.5, linewidth=2, linestyle='--', color='k')\n",
    "    ax.axhline(0, linewidth=2, linestyle='-', color='k')\n",
    "\n",
    "    # add values when bar is small or too large (clipping)\n",
    "    yt=ax.get_yticks()\n",
    "    first_tick = sorted(np.abs(yt))[1]\n",
    "    for x_val, coef in zip(x,y):\n",
    "        if (coef < first_tick) & (coef > 0):\n",
    "            ax.text(x_val, coef, '{:+.3g}'.format(coef), rotation=45, va='bottom', ha='left')\n",
    "        elif (coef > -first_tick) & (coef < 0):\n",
    "            ax.text(x_val, 0, '{:+.3g}'.format(coef), rotation=45, va='bottom', ha='left')\n",
    "        elif coef > top_tick:\n",
    "            # generally this is offset (bias)\n",
    "            ax.text(x_val, top_tick, '{:+.3g}'.format(coef), rotation=45, va='bottom', ha='left')\n",
    "        elif coef < bot_tick:\n",
    "            ax.text(x_val, bot_tick, '{:+.3g}'.format(coef), rotation=45, va='bottom', ha='left')\n",
    "\n",
    "    \n",
    "    # labels and titles\n",
    "    rot = 45\n",
    "    fsz = 10\n",
    "    ha = 'right'\n",
    "    ax.set_xticks(x)\n",
    "    ax.set_xticklabels(labels=x, rotation=rot, va='top', ha=ha, style='italic', fontsize=fsz)\n",
    "    ax.xaxis.set_tick_params(which='minor', bottom=False)\n",
    "    if not name.startswith('num'):\n",
    "        ax.set_title('Categorical feature: ' + name, style='italic')\n",
    "    else:\n",
    "        ax.set_title('Multiple linear regression (Lasso, alpha={:g})\\nNumerical features'.format(\n",
    "            reg.regressor_.named_steps['lasso'].alpha\n",
    "        ), style='italic') \n",
    "    ax.set_ylabel('Coefficient (a.u.)', style='italic')\n",
    "    \n",
    "    # add extra margin if bars are too wide (too little bars)\n",
    "    if len(x) < 10:\n",
    "        add_space = len(x) - 20\n",
    "        xl = list(ax.get_xlim())\n",
    "        xl[1] -= add_space/2\n",
    "        xl[0] += add_space/2\n",
    "        ax.set_xlim(xl)\n",
    "\n",
    "# Label on bottom panel\n",
    "ax = axs[-1]\n",
    "ax.set_xlabel('Sorted features', style='italic')\n",
    "\n",
    "# Save\n",
    "file_name = f\"{RESULTS_DIR}/{model_name.replace(' ','_')}.png\"\n",
    "if True | do_save(file_name): # always save\n",
    "    print(file_name)\n",
    "    with plt.style.context(f\"{cfg['FILE_LOCATION']['app_dir']}/assets/context-paper.mplstyle\"):\n",
    "        plt.savefig(file_name, bbox_inches='tight', transparent=False)\n",
    "else:\n",
    "    plt.show()\n",
    "    print(f'Skip. {file_name} exists or saving is disabled in settings.')"
   ]
  },
  {
   "cell_type": "code",
   "execution_count": 17,
   "id": "ba1019ef-2751-4a46-ab23-bcdd8b3ccdcb",
   "metadata": {
    "editable": true,
    "slideshow": {
     "slide_type": ""
    },
    "tags": []
   },
   "outputs": [
    {
     "name": "stdout",
     "output_type": "stream",
     "text": [
      "Shelve file [./predict-price.shelve] contains models:\n",
      "\tlinear regression no cv\n",
      "\tlinear regression log price young\n",
      "\tMLR reduced observations\n",
      "\tMLR impute median\n",
      "\tMLR with categorical\n",
      "\tMLR Lasso\n",
      "\tMLR added features\n"
     ]
    }
   ],
   "source": [
    "fn = './predict-price.shelve'\n",
    "with shelve.open(fn, flag='w') as slf:\n",
    "    slf['models'] = models \n",
    "    print(f'Shelve file [{fn}] contains models:')\n",
    "    for m in slf['models'].keys():\n",
    "        print(f'\\t{m}')"
   ]
  }
 ],
 "metadata": {
  "kernelspec": {
   "display_name": "Python 3 (ipykernel)",
   "language": "python",
   "name": "python3"
  },
  "language_info": {
   "codemirror_mode": {
    "name": "ipython",
    "version": 3
   },
   "file_extension": ".py",
   "mimetype": "text/x-python",
   "name": "python",
   "nbconvert_exporter": "python",
   "pygments_lexer": "ipython3",
   "version": "3.10.12"
  }
 },
 "nbformat": 4,
 "nbformat_minor": 5
}
