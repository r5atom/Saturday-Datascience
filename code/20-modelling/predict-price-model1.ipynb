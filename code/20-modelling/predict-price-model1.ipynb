{
 "cells": [
  {
   "cell_type": "code",
   "execution_count": 1,
   "id": "06c0ad61-5fed-407d-8688-0804bbc8a660",
   "metadata": {
    "editable": true,
    "slideshow": {
     "slide_type": ""
    },
    "tags": []
   },
   "outputs": [],
   "source": [
    "import shelve\n",
    "import re\n",
    "import os\n",
    "from predict_price_helpers import *"
   ]
  },
  {
   "cell_type": "code",
   "execution_count": 2,
   "id": "cd8cf1ef-b524-4e2c-a275-afa1a9e29c64",
   "metadata": {},
   "outputs": [
    {
     "name": "stdout",
     "output_type": "stream",
     "text": [
      "RESULTS_DIR\n",
      "def0:\n",
      "do_save = lambda fn: not(os.path.isfile(fn))\n",
      "cfg\n",
      "num_columns\n",
      "cat_columns\n",
      "models\n",
      "df\n"
     ]
    }
   ],
   "source": [
    "with shelve.open('./predict-price.shelve', flag='r') as slf:\n",
    "    for k,v in slf.items():\n",
    "        print(k)\n",
    "        globals()[k] = v\n",
    "        if re.match('def\\d+:', k) is not None:\n",
    "            print(v)\n",
    "            exec(v)"
   ]
  },
  {
   "cell_type": "code",
   "execution_count": 3,
   "id": "e11de637-595e-455c-831d-8b5ecbf5dbd1",
   "metadata": {},
   "outputs": [],
   "source": [
    "# import modules\n",
    "import pandas as pd\n",
    "import numpy as np\n",
    "import matplotlib.pyplot as plt\n",
    "import matplotlib\n",
    "\n",
    "import seaborn as sns"
   ]
  },
  {
   "cell_type": "code",
   "execution_count": 4,
   "id": "c1a15361-0217-494f-9a8f-39528332eb33",
   "metadata": {},
   "outputs": [],
   "source": [
    "# set figure defaults (needs to be in cell seperate from import sns)\n",
    "plt.style.use([\n",
    "    'default',\n",
    "    f\"{cfg['FILE_LOCATION']['app_dir']}/assets/movshon.mplstyle\",\n",
    "    f\"{cfg['FILE_LOCATION']['app_dir']}/assets/context-notebook.mplstyle\"\n",
    "])"
   ]
  },
  {
   "cell_type": "markdown",
   "id": "20468083-4a31-4784-93b6-103e531f5cee",
   "metadata": {},
   "source": [
    "# Model: Simple linear fit\n",
    "Regress age (in days) with price (euro).  \n",
    "\n",
    "## >> BIG FAT WARNING <<\n",
    "All data is used without train / test split. I.e. accuracy is based on data that was used for fit. This is considered bad practice!"
   ]
  },
  {
   "cell_type": "markdown",
   "id": "83be1002-5aab-4c40-9b21-2d8154df6320",
   "metadata": {},
   "source": [
    "## Prepare input"
   ]
  },
  {
   "cell_type": "code",
   "execution_count": 5,
   "id": "43b0ad4d-03ef-4c41-82b8-91ee179e2208",
   "metadata": {},
   "outputs": [
    {
     "name": "stdout",
     "output_type": "stream",
     "text": [
      "(8663, 1)\n",
      "(8663, 1)\n"
     ]
    }
   ],
   "source": [
    "from sklearn import linear_model\n",
    "\n",
    "model_name = 'linear regression no cv'\n",
    "\n",
    "X = df.dropna(subset=['price','age']).age.values.reshape(-1,1)\n",
    "y = df.dropna(subset=['price','age']).price.values.reshape(-1,1)\n",
    "print(X.shape)\n",
    "print(y.shape)"
   ]
  },
  {
   "cell_type": "markdown",
   "id": "60c7af7b-d9f1-4ea0-948d-94d4134700de",
   "metadata": {},
   "source": [
    "## Fit"
   ]
  },
  {
   "cell_type": "code",
   "execution_count": 6,
   "id": "30a5da36-dfce-44e0-90a9-1e29241c2fd2",
   "metadata": {},
   "outputs": [],
   "source": [
    "# instantiate a dict in models at key with name of this model\n",
    "models[model_name] = dict()\n",
    "\n",
    "# create regression model object and store\n",
    "reg = linear_model.LinearRegression()\n",
    "models[model_name].update({'model':reg})\n",
    "\n",
    "# fit\n",
    "reg.fit(X,y) # fit with all data\n",
    "models[model_name].update({'n':y.shape[0]})\n",
    "\n",
    "# parameters\n",
    "betas = [*reg.intercept_, *reg.coef_[0]]\n",
    "models[model_name].update({'betas':betas})\n",
    "\n",
    "# score\n",
    "models[model_name].update({'R^2':reg.score(X,y)})"
   ]
  },
  {
   "cell_type": "code",
   "execution_count": 7,
   "id": "26297b19-2856-4795-b992-9843d7383b3d",
   "metadata": {
    "editable": true,
    "scrolled": true,
    "slideshow": {
     "slide_type": ""
    },
    "tags": [
     "remove_when_contains:image"
    ]
   },
   "outputs": [
    {
     "name": "stdout",
     "output_type": "stream",
     "text": [
      "/home/tom/bin/satdatsci/Saturday-Datascience/results/linear_regression_no_cv.png\n"
     ]
    }
   ],
   "source": [
    "# Fit a line by using predict\n",
    "prediction_X = np.array([0,int(np.ceil(X.max()/365.25))*365.25]).reshape(-1,1)\n",
    "prediction_y = reg.predict(prediction_X)\n",
    "\n",
    "# plot\n",
    "plt.figure(figsize=[8,8])\n",
    "plt.plot(X/365.25, y/1000, marker='s', markeredgecolor = (0, 0, 0, 1), markerfacecolor = (1, 1, 1, .5), linestyle='None', ms=4)\n",
    "hdl_fit = plt.plot(prediction_X/365, prediction_y/1000, color='blue', marker=None, linestyle='-', linewidth=4)\n",
    "plt.legend(hdl_fit, ['n = {}, $R^2$ = {:.2f}\\ny = {:+.0f}{:+.2f}*(x*365.25)'.format(\n",
    "    models[model_name]['n'],\n",
    "    models[model_name]['R^2'],\n",
    "    *models[model_name]['betas']\n",
    ")], loc='upper right')\n",
    "plt.xlabel('Age (years)', style='italic')\n",
    "plt.ylabel('Winning bid (EUR X1000)', style='italic')\n",
    "plt.title('Simple linear fit', style='italic')\n",
    "plt.ylim(bottom = -10)\n",
    "plt.xlim(left = 0)\n",
    "\n",
    "# Save\n",
    "file_name = f\"{RESULTS_DIR}/{model_name.replace(' ','_')}.png\"\n",
    "if True | do_save(file_name): # always save\n",
    "    print(file_name)\n",
    "    with plt.style.context(f\"{cfg['FILE_LOCATION']['app_dir']}/assets/context-paper.mplstyle\"):\n",
    "        plt.savefig(file_name, bbox_inches='tight', transparent=False)\n",
    "else:\n",
    "    plt.show()\n",
    "    print(f'Skip. {file_name} exists or saving is disabled in settings.')"
   ]
  },
  {
   "cell_type": "code",
   "execution_count": 8,
   "id": "8ba8cb29-bcd0-48e4-a01c-240b8281cd21",
   "metadata": {
    "editable": true,
    "slideshow": {
     "slide_type": ""
    },
    "tags": []
   },
   "outputs": [
    {
     "name": "stdout",
     "output_type": "stream",
     "text": [
      "Shelve file [./predict-price.shelve] contains models:\n",
      "\tlinear regression no cv\n"
     ]
    }
   ],
   "source": [
    "fn = './predict-price.shelve'\n",
    "with shelve.open(fn, flag='w') as slf:\n",
    "    slf['models'] = models \n",
    "    print(f'Shelve file [{fn}] contains models:')\n",
    "    for m in slf['models'].keys():\n",
    "        print(f'\\t{m}')"
   ]
  }
 ],
 "metadata": {
  "kernelspec": {
   "display_name": "Python 3 (ipykernel)",
   "language": "python",
   "name": "python3"
  },
  "language_info": {
   "codemirror_mode": {
    "name": "ipython",
    "version": 3
   },
   "file_extension": ".py",
   "mimetype": "text/x-python",
   "name": "python",
   "nbconvert_exporter": "python",
   "pygments_lexer": "ipython3",
   "version": "3.10.12"
  }
 },
 "nbformat": 4,
 "nbformat_minor": 5
}
