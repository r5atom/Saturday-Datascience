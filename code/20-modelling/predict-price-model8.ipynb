{
 "cells": [
  {
   "cell_type": "code",
   "execution_count": 1,
   "id": "112ade8c-5ff4-4c91-97ef-ad53d9c60287",
   "metadata": {
    "editable": true,
    "slideshow": {
     "slide_type": ""
    },
    "tags": []
   },
   "outputs": [],
   "source": [
    "import shelve\n",
    "import re\n",
    "import os\n",
    "from predict_price_helpers import *"
   ]
  },
  {
   "cell_type": "code",
   "execution_count": 2,
   "id": "8445bf7a-f76a-4fc6-8a09-c890c4e41077",
   "metadata": {
    "editable": true,
    "slideshow": {
     "slide_type": ""
    },
    "tags": []
   },
   "outputs": [
    {
     "name": "stdout",
     "output_type": "stream",
     "text": [
      "RESULTS_DIR\n",
      "def0:\n",
      "do_save = lambda fn: not(os.path.isfile(fn))\n",
      "cfg\n",
      "num_columns\n",
      "cat_columns\n",
      "models\n",
      "df\n"
     ]
    }
   ],
   "source": [
    "with shelve.open('./predict-price.shelve', flag='r') as slf:\n",
    "    for k,v in slf.items():\n",
    "        print(k)\n",
    "        globals()[k] = v\n",
    "        if re.match('def\\d+:', k) is not None:\n",
    "            print(v)\n",
    "            exec(v) "
   ]
  },
  {
   "cell_type": "code",
   "execution_count": 3,
   "id": "d0bb5308-0e72-47fc-bdd7-15482df700a4",
   "metadata": {
    "editable": true,
    "slideshow": {
     "slide_type": ""
    },
    "tags": []
   },
   "outputs": [],
   "source": [
    "# import modules\n",
    "import pandas as pd\n",
    "import numpy as np\n",
    "import matplotlib.pyplot as plt\n",
    "import matplotlib\n",
    "\n",
    "import seaborn as sns"
   ]
  },
  {
   "cell_type": "code",
   "execution_count": 4,
   "id": "4065aecd-7640-4fec-8d97-ce8aa2a16d7b",
   "metadata": {
    "editable": true,
    "slideshow": {
     "slide_type": ""
    },
    "tags": []
   },
   "outputs": [],
   "source": [
    "# set figure defaults (needs to be in cell seperate from import sns)\n",
    "plt.style.use([\n",
    "    'default',\n",
    "    f\"{cfg['FILE_LOCATION']['app_dir']}/assets/movshon.mplstyle\",\n",
    "    f\"{cfg['FILE_LOCATION']['app_dir']}/assets/context-notebook.mplstyle\"\n",
    "])"
   ]
  },
  {
   "cell_type": "markdown",
   "id": "92263ebc-cbc3-49aa-a8d3-84900e7ee83b",
   "metadata": {
    "editable": true,
    "slideshow": {
     "slide_type": ""
    },
    "tags": []
   },
   "source": [
    "# Model: Decision Tree Regression\n",
    "\n",
    "src: https://scikit-learn.org/stable/auto_examples/tree/plot_tree_regression.html"
   ]
  },
  {
   "cell_type": "markdown",
   "id": "198e0657-308b-4bc0-b513-d6750cbec94d",
   "metadata": {
    "editable": true,
    "slideshow": {
     "slide_type": ""
    },
    "tags": []
   },
   "source": [
    "## Prepare input"
   ]
  },
  {
   "cell_type": "code",
   "execution_count": 5,
   "id": "5c6cb49c-ce47-46bb-8b8a-5399765570b8",
   "metadata": {
    "editable": true,
    "slideshow": {
     "slide_type": ""
    },
    "tags": []
   },
   "outputs": [
    {
     "name": "stdout",
     "output_type": "stream",
     "text": [
      "(10334, 31)\n",
      "(10334,)\n"
     ]
    },
    {
     "name": "stderr",
     "output_type": "stream",
     "text": [
      "/tmp/ipykernel_1002980/2149943300.py:34: FutureWarning: Downcasting behavior in `replace` is deprecated and will be removed in a future version. To retain the old behavior, explicitly call `result.infer_objects(copy=False)`. To opt-in to the future behavior, set `pd.set_option('future.no_silent_downcasting', True)`\n",
      "  X.loc[:,'classic'] = X.loc[:,'classic'].astype('O').replace({True:+1, False:-1, np.NaN:0})\n",
      "/tmp/ipykernel_1002980/2149943300.py:34: FutureWarning: Setting an item of incompatible dtype is deprecated and will raise in a future error of pandas. Value '[ 0  0 -1 ... -1 -1 -1]' has dtype incompatible with boolean, please explicitly cast to a compatible dtype first.\n",
      "  X.loc[:,'classic'] = X.loc[:,'classic'].astype('O').replace({True:+1, False:-1, np.NaN:0})\n"
     ]
    }
   ],
   "source": [
    "from sklearn.model_selection import train_test_split, cross_val_score\n",
    "from sklearn import linear_model\n",
    "\n",
    "from sklearn.impute import SimpleImputer\n",
    "from sklearn.preprocessing import StandardScaler\n",
    "from sklearn.pipeline import make_pipeline\n",
    "\n",
    "from sklearn.preprocessing import OneHotEncoder\n",
    "from sklearn.compose import ColumnTransformer\n",
    "from sklearn.compose import TransformedTargetRegressor\n",
    "from sklearn.preprocessing import MinMaxScaler\n",
    "\n",
    "from sklearn.model_selection import GridSearchCV\n",
    "\n",
    "from sklearn.tree import  DecisionTreeRegressor\n",
    "\n",
    "model_name = 'Decision Tree Regression'\n",
    "\n",
    "cat_columns_reduced = list(np.setdiff1d(cat_columns, ['model', 'fuel']))\n",
    "# Can be reduced here\n",
    "\n",
    "# list of lists with categories. Needed for column transformer\n",
    "cats = list(df[cat_columns_reduced].apply(lambda x:pd.Series(x.unique()).dropna().tolist() + ['missing'], axis='index'))\n",
    "\n",
    "# Use data frame not array\n",
    "yX = df.dropna(subset=['price'])\n",
    "X = yX.iloc[:,1:]\n",
    "y = yX.iloc[:,0]\n",
    "X[pd.isna(X)] = np.nan\n",
    "\n",
    "# Add features\n",
    "X.loc[:,'usage_intensity'] = X.odometer / X.age\n",
    "X.loc[:,'classic'] = X.age > 25*365\n",
    "X.loc[:,'classic'] = X.loc[:,'classic'].astype('O').replace({True:+1, False:-1, np.nan:0})\n",
    "\n",
    "print(X.shape)\n",
    "print(y.shape)"
   ]
  },
  {
   "cell_type": "code",
   "execution_count": 6,
   "id": "956578a6-f4c5-4f98-a806-4573b88a55c5",
   "metadata": {
    "editable": true,
    "slideshow": {
     "slide_type": ""
    },
    "tags": []
   },
   "outputs": [],
   "source": [
    "cat_columns_expanded = cat_columns_reduced + ['classic']\n",
    "cats_added = cats + [['y', 'n', 'missing']]\n",
    "num_columns_expanded = num_columns + ['usage_intensity']"
   ]
  },
  {
   "cell_type": "code",
   "execution_count": 7,
   "id": "a0e1cbd9-a9cc-40c1-aa10-65a28ed8ee4e",
   "metadata": {
    "editable": true,
    "slideshow": {
     "slide_type": ""
    },
    "tags": []
   },
   "outputs": [
    {
     "name": "stdout",
     "output_type": "stream",
     "text": [
      "[0, 'automatic_gearbox', ['n', 'y', 'missing']] << transfer to numerical\n",
      "[1, 'body_type', ['Cabriolet', 'Hatchback', 'Sedan', 'Stationwagen', 'MPV', 'Coupe', 'Vrachtwagen', 'Bestelwagen', 'Opleggertrekker', 'Pick-uptruck', 'Multipurpose vehicle (MPV)', 'missing']]\n",
      "[2, 'brand', ['ASTON-MARTIN', 'MERCEDES-BENZ', 'BMW', 'RENAULT', 'CITROËN', 'VOLKSWAGEN', 'PORSCHE', 'BENTLEY', 'LEXUS', 'SEAT', 'AUDI', 'HYUNDAI', 'FIAT', 'MINI', 'SUBARU', 'SAAB', 'OPEL', 'SKODA', 'FORD', 'TOYOTA', 'JAGUAR', 'DAIHATSU', 'ALFA ROMEO', 'HONDA', 'PEUGEOT', 'MITSUBISHI', 'VOLVO', 'CHEVROLET', 'LADA-VAZ', 'SUZUKI', 'MAZDA', 'CHRYSLER', 'DODGE', 'MASERATI', 'FERRARI', 'SMART', 'SSANGYONG', 'KIA', 'JEEP', 'LAMBORGHINI', 'AIXAM', 'ROLLS ROYCE', 'HUMMER', 'TRIUMPH', 'DAEWOO', 'NISSAN', 'PONTIAC', 'CADILLAC', 'LAND ROVER', 'LANCIA', 'ROVER', 'DATSUN', 'HYMER', 'DACIA', 'MG', 'LINCOLN', 'TESLA', 'DAIMLER', 'AUSTIN-HEALEY', 'GMC', 'VAUXHALL', 'AUVERLAND', 'UMM-UNIAO METALOMECANICA', 'OLDSMOBILE', 'DAF', 'DS', 'INFINITI', 'BUICK', 'VAN HOOL', 'LOTUS', 'SHARE NGO', 'DAX', 'missing']]\n",
      "[3, 'color', ['White', 'Blue', 'Black', 'Gray', 'Red', 'Pink', 'Yellow', 'Green', 'Purple,', 'Brown', 'Beige', 'Orange', 'Creme', 'missing']]\n",
      "[4, 'fourwd', ['n', 'y', 'missing']] << transfer to numerical\n",
      "[5, 'under_survey', ['n', 'y', 'missing']] << transfer to numerical\n",
      "[6, 'classic', ['y', 'n', 'missing']] << transfer to numerical\n",
      "['brand', 'model', 'fuel', 'body_type', 'color', 'fourwd', 'automatic_gearbox', 'under_survey'] \n",
      " ['automatic_gearbox', 'body_type', 'brand', 'color', 'fourwd', 'under_survey'] \n",
      " ['body_type', 'brand', 'color']\n",
      "['age', 'age_at_import', 'company_owners', 'days_since_inspection_invalid', 'displacement', 'height', 'length', 'number_of_cylinders', 'number_of_doors', 'number_of_gears', 'number_of_seats', 'odometer', 'original_sale_price', 'power', 'private_owners', 'registration_tax', 'top_speed', 'weight', 'width', 'converted_energy_label'] \n",
      " ['age', 'age_at_import', 'company_owners', 'days_since_inspection_invalid', 'displacement', 'height', 'length', 'number_of_cylinders', 'number_of_doors', 'number_of_gears', 'number_of_seats', 'odometer', 'original_sale_price', 'power', 'private_owners', 'registration_tax', 'top_speed', 'weight', 'width', 'converted_energy_label', 'usage_intensity', 'automatic_gearbox', 'fourwd', 'under_survey', 'classic']\n"
     ]
    },
    {
     "name": "stderr",
     "output_type": "stream",
     "text": [
      "/tmp/ipykernel_1002980/508900316.py:8: FutureWarning: A value is trying to be set on a copy of a DataFrame or Series through chained assignment using an inplace method.\n",
      "The behavior will change in pandas 3.0. This inplace method will never work because the intermediate object on which we are setting values always behaves as a copy.\n",
      "\n",
      "For example, when doing 'df[col].method(value, inplace=True)', try using 'df.method({col: value}, inplace=True)' or df[col] = df[col].method(value) instead, to perform the operation inplace on the original object.\n",
      "\n",
      "\n",
      "  X.loc[:,cn].replace({'y':+1, 'n':-1, 'missing':0, np.NaN: 0}, inplace=True)\n",
      "/tmp/ipykernel_1002980/508900316.py:8: FutureWarning: Downcasting behavior in `replace` is deprecated and will be removed in a future version. To retain the old behavior, explicitly call `result.infer_objects(copy=False)`. To opt-in to the future behavior, set `pd.set_option('future.no_silent_downcasting', True)`\n",
      "  X.loc[:,cn].replace({'y':+1, 'n':-1, 'missing':0, np.NaN: 0}, inplace=True)\n"
     ]
    }
   ],
   "source": [
    "# Transfer boolean features from categorical to numerical\n",
    "rm_from_cat = []\n",
    "cats_added_keep = []\n",
    "for i,cn in enumerate(cat_columns_expanded):\n",
    "    print([i, cn, cats_added[i]], end='')\n",
    "    if {'y', 'n', 'missing'} == set(cats_added[i]):\n",
    "        print(' << transfer to numerical')\n",
    "        X.loc[:,cn].replace({'y':+1, 'n':-1, 'missing':0, np.nan: 0}, inplace=True)\n",
    "        rm_from_cat += [cn]\n",
    "    else:\n",
    "        print('')\n",
    "        cats_added_keep += [cats_added[i]]\n",
    "        \n",
    "# add to num\n",
    "num_columns_expanded += rm_from_cat\n",
    "# remove from cat\n",
    "[cat_columns_expanded.remove(c) for c in rm_from_cat]\n",
    "\n",
    "print(cat_columns, '\\n', cat_columns_reduced, '\\n', cat_columns_expanded)\n",
    "print(num_columns, '\\n', num_columns_expanded)\n",
    "\n",
    "features = num_columns_expanded + cat_columns_expanded"
   ]
  },
  {
   "cell_type": "code",
   "execution_count": 8,
   "id": "671d7434-54df-4feb-87d1-82b4c6f792ed",
   "metadata": {
    "editable": true,
    "slideshow": {
     "slide_type": ""
    },
    "tags": []
   },
   "outputs": [
    {
     "name": "stdout",
     "output_type": "stream",
     "text": [
      "(7233, 31)\n",
      "(3101, 31)\n"
     ]
    }
   ],
   "source": [
    "# instantiate a dict in models at key with name of this model\n",
    "models[model_name] = dict()\n",
    "\n",
    "# split train test\n",
    "X_train, X_test, y_train, y_test = train_test_split(X, y, test_size = 0.3, random_state=42)\n",
    "print(X_train.shape)\n",
    "print(X_test.shape)\n"
   ]
  },
  {
   "cell_type": "code",
   "execution_count": 9,
   "id": "533f80e7-e9b7-4147-a90a-9693ffcb0d5c",
   "metadata": {
    "editable": true,
    "slideshow": {
     "slide_type": ""
    },
    "tags": []
   },
   "outputs": [],
   "source": [
    "# Create model\n",
    "\n",
    "# Preprocessor: numerical features\n",
    "num_transformer = make_pipeline(\n",
    "    SimpleImputer(strategy='median'),\n",
    "    MinMaxScaler(),\n",
    ")\n",
    "# Preprocessor: categorical features\n",
    "cat_transformer = make_pipeline(\n",
    "    SimpleImputer(strategy='constant', fill_value='missing', missing_values=np.nan),\n",
    "    OneHotEncoder(categories=cats_added_keep),\n",
    ")\n",
    "\n",
    "# Preprocess: fuels\n",
    "# list of all fuels is passed by using full data set! (X)\n",
    "fuel_list = list(get_unique_fuels(merge_lpg_and_lpgtype(X.fuel)))\n",
    "get_fuel_dummies = DummyfyFuel(fuel_list)\n",
    "\n",
    "\n",
    "# Combine num and cat\n",
    "preprocessor = ColumnTransformer(transformers=[\n",
    "    ('numerical', num_transformer, pd.Index(num_columns_expanded)),\n",
    "    ('categorical', cat_transformer, pd.Index(cat_columns_expanded)),\n",
    "    ('onehot_fuel', get_fuel_dummies, 'fuel')\n",
    "], verbose=False)\n",
    "\n",
    "# full pipeline with preproc and dtr\n",
    "dtr = make_pipeline(\n",
    "    preprocessor,\n",
    "    DecisionTreeRegressor()\n",
    ")\n",
    "\n",
    "# Target transformation: log transform price\n",
    "pl = TransformedTargetRegressor(\n",
    "    regressor=dtr,\n",
    "    func=np.log10,\n",
    "    inverse_func=pow10\n",
    ")"
   ]
  },
  {
   "cell_type": "code",
   "execution_count": 10,
   "id": "15bf4f76-910c-4f54-8157-8fd6225fcda3",
   "metadata": {
    "editable": true,
    "slideshow": {
     "slide_type": ""
    },
    "tags": [
     "remove_when_contains:image"
    ]
   },
   "outputs": [],
   "source": [
    "def plot_gscv_result(gscv, param_name = None):\n",
    "    '''\n",
    "    plot search results    \n",
    "    '''\n",
    "    \n",
    "    if param_name is None:\n",
    "        param_name = re.sub('^.+?__', '', list(gscv.param_grid[0].keys())[0])\n",
    "    \n",
    "    plt.figure(figsize=[2,2])\n",
    "\n",
    "    # abscissa\n",
    "    alphas = list(gscv.cv_results_['param_regressor__' + param_name])\n",
    "\n",
    "    # plot mean\n",
    "    r2_mean = gscv.cv_results_['mean_test_score']\n",
    "    # normalize\n",
    "    r2_mean = (r2_mean-r2_mean.mean())/r2_mean.std()\n",
    "    plt.plot(alphas, r2_mean, label='mean', lw=4, color='blue')\n",
    "\n",
    "    # plot folds\n",
    "    for fold in range(gscv.cv):\n",
    "        r2_fold = gscv.cv_results_['split{:.0f}_test_score'.format(fold)]\n",
    "        # normalize\n",
    "        r2_fold = (r2_fold-r2_fold.mean())/r2_fold.std()\n",
    "        plt.plot(alphas, r2_fold, label='fold ' + str(fold), lw=1, color='black')\n",
    "\n",
    "    plt.xscale('log')\n",
    "    plt.xlabel('alpha')\n",
    "    plt.ylabel('standardized r2 score [a.u.]')\n",
    "    plt.axvline(gscv.best_params_['regressor__' + param_name], linewidth=2, linestyle='--', color='k')\n",
    "    result = 'grid search results\\nbest {:s}={:.5f}'.format(param_name, gscv.best_params_['regressor__' + param_name])\n",
    "    plt.title(result)\n",
    "    print(result)\n",
    "    plt.legend(ncol=1, loc='center left', bbox_to_anchor=(1,0.5))\n",
    "    \n",
    "    return gscv.best_estimator_"
   ]
  },
  {
   "cell_type": "code",
   "execution_count": 11,
   "id": "446dc60f-c3a8-4c34-bc08-6ed957cfd336",
   "metadata": {
    "editable": true,
    "slideshow": {
     "slide_type": ""
    },
    "tags": []
   },
   "outputs": [],
   "source": [
    "def gs_dtr_depth(pipeline):\n",
    "    # grid search estimator\n",
    "    grid_search_depth = GridSearchCV(\n",
    "        estimator=pipeline,\n",
    "        param_grid=[\n",
    "            {\n",
    "                'regressor__decisiontreeregressor__max_depth': 2**np.arange(1,7) # Choose param such that a clear peaked graph is shown in next plot\n",
    "            } \n",
    "        ],\n",
    "        cv=8,\n",
    "        scoring='r2',\n",
    "        n_jobs=-1,\n",
    "        verbose=10,\n",
    "    )\n",
    "\n",
    "    # Perform grid search\n",
    "    grid_search_depth.fit(X_train, y_train);\n",
    "    \n",
    "    return grid_search_depth"
   ]
  },
  {
   "cell_type": "code",
   "execution_count": 12,
   "id": "d4e382b9-f34e-4a65-aab9-64e4b8ee5500",
   "metadata": {
    "editable": true,
    "slideshow": {
     "slide_type": ""
    },
    "tags": [
     "remove_when_contains:image"
    ]
   },
   "outputs": [
    {
     "name": "stdout",
     "output_type": "stream",
     "text": [
      "Fitting 8 folds for each of 6 candidates, totalling 48 fits\n",
      "grid search results\n",
      "best decisiontreeregressor__max_depth=16.00000\n"
     ]
    }
   ],
   "source": [
    "best_estimator = plot_gscv_result(gs_dtr_depth(pl))"
   ]
  },
  {
   "cell_type": "markdown",
   "id": "2f7d120a-1548-47cc-a5fc-430f60c130c8",
   "metadata": {
    "editable": true,
    "slideshow": {
     "slide_type": ""
    },
    "tags": []
   },
   "source": [
    "### Fit"
   ]
  },
  {
   "cell_type": "code",
   "execution_count": 13,
   "id": "568ea3ea-d880-4d92-9bc6-f0fdbcaa8756",
   "metadata": {
    "editable": true,
    "slideshow": {
     "slide_type": ""
    },
    "tags": []
   },
   "outputs": [],
   "source": [
    "# Store estimator with best hyper parameter\n",
    "reg = best_estimator\n",
    "models[model_name].update({'model':reg})\n",
    "\n",
    "# fit\n",
    "reg.fit(X_train, y_train)\n",
    "y_pred = reg.predict(X_test)\n",
    "\n",
    "models[model_name].update({'n':y.shape[0]})\n",
    "models[model_name].update({'n features':X.shape[1]})\n",
    "\n",
    "# parameters\n",
    "importance = reg.regressor_.steps[-1][1].feature_importances_\n",
    "models[model_name].update({'importance': importance})\n",
    "models[model_name].update({'n effective features':(importance > 0).sum()})\n",
    "#betas = [reg.regressor_.steps[-1][1].intercept_, *reg.regressor_.steps[-1][1].coef_]\n",
    "#models[model_name].update({'betas':betas})\n",
    "#models[model_name].update({'n betas effective':(np.abs(betas) > 0).sum()})\n",
    "\n",
    "# score\n",
    "models[model_name].update({'R^2':reg.score(X,y)})\n",
    "models[model_name].update({'test R^2':reg.score(X_test,y_test)})\n",
    "cv_results = cross_val_score(reg, X_test, y_test, cv=5)\n",
    "models[model_name].update({'cv R^2':cv_results})"
   ]
  },
  {
   "cell_type": "code",
   "execution_count": 14,
   "id": "10c6583e-e4c4-4f80-8b45-97f7be678898",
   "metadata": {
    "editable": true,
    "slideshow": {
     "slide_type": ""
    },
    "tags": []
   },
   "outputs": [],
   "source": [
    "# Make labels for tree nodes\n",
    "\n",
    "# In descision tree every categorical value (like \"brand_VW\") is a feature.\n",
    "# Some categorical columns are transfromed to numerical. These are not seperated features.\n",
    "\n",
    "feats = [features] + cats_added\n",
    "\n",
    "# Numerical labels\n",
    "lbls = [f for f in features if f in num_columns_expanded] \n",
    "\n",
    "# Add column name as prefix for categorical\n",
    "for i,cn in enumerate(cat_columns_expanded):\n",
    "    lbls += [f'{cn}_{c}_yn' for c in cats_added_keep[i]]\n",
    "\n",
    "# Add fuels\n",
    "cn = 'fuel'\n",
    "lbls += [f'{cn}_{f}_yn' for f in fuel_list]\n",
    "\n"
   ]
  },
  {
   "cell_type": "code",
   "execution_count": 15,
   "id": "311ba402-82f5-43e2-960b-28de9a1ba23e",
   "metadata": {
    "editable": true,
    "slideshow": {
     "slide_type": ""
    },
    "tags": [
     "remove_when_contains:image"
    ]
   },
   "outputs": [
    {
     "name": "stdout",
     "output_type": "stream",
     "text": [
      "/home/tom/bin/satdatsci/Saturday-Datascience/results/Decision_Tree_Regression.png\n"
     ]
    }
   ],
   "source": [
    "# plot feature importance (sum is 1)\n",
    "order = np.argsort(reg.regressor_.steps[-1][1].feature_importances_)[::-1]\n",
    "\n",
    "f = plt.figure(figsize=(32,4))\n",
    "ax = f.gca()\n",
    "h = reg.regressor_.steps[-1][1].feature_importances_[order]\n",
    "stats = f\"\"\"\n",
    "$R^2$ = {models[model_name]['R^2']:.2f}, \n",
    "$R^2_{{cv{models[model_name]['cv R^2'].shape[0]:g}}}$ = \n",
    "{np.mean(models[model_name]['cv R^2']):.2f} \n",
    "(+/-{np.std(models[model_name]['cv R^2']):.2f})\n",
    "\"\"\".replace('\\n','')\n",
    "x = np.array(lbls)[order]\n",
    "sel = h>0 # disregard features without contribution\n",
    "ax.bar(height=h[sel], x=x[sel], facecolor='None')\n",
    "ax.set_xticks(range(sum(sel)))\n",
    "ax.set_xticklabels(labels=x[sel], rotation=45, va='top', ha='right', style='italic', fontsize=10)\n",
    "ax.xaxis.set_tick_params(rotation=45)\n",
    "ax.xaxis.set_tick_params(which='minor', bottom=False)\n",
    "ax.set_ylabel('Relative feature importance\\n(totals to 1)')\n",
    "ax.annotate(\n",
    "    f'{stats:s}\\n{sum(sel)}/{len(sel)} features are contributing',\n",
    "    (1,1), xycoords='axes fraction', ha='right', va='top')\n",
    "\n",
    "# Save\n",
    "file_name = f\"{RESULTS_DIR}/{model_name.replace(' ','_')}.png\"\n",
    "if True | do_save(file_name): # always save\n",
    "    print(file_name)\n",
    "    with plt.style.context(f\"{cfg['FILE_LOCATION']['app_dir']}/assets/context-paper.mplstyle\"):\n",
    "        plt.savefig(file_name, bbox_inches='tight', transparent=False)\n",
    "else:\n",
    "    plt.show()\n",
    "    print(f'Skip. {file_name} exists or saving is disabled in settings.')"
   ]
  },
  {
   "cell_type": "code",
   "execution_count": 16,
   "id": "ba1019ef-2751-4a46-ab23-bcdd8b3ccdcb",
   "metadata": {
    "editable": true,
    "slideshow": {
     "slide_type": ""
    },
    "tags": []
   },
   "outputs": [
    {
     "name": "stdout",
     "output_type": "stream",
     "text": [
      "Shelve file [./predict-price.shelve] contains models:\n",
      "\tlinear regression no cv\n",
      "\tlinear regression log price young\n",
      "\tMLR reduced observations\n",
      "\tMLR impute median\n",
      "\tMLR with categorical\n",
      "\tMLR Lasso\n",
      "\tMLR added features\n",
      "\tDecision Tree Regression\n"
     ]
    }
   ],
   "source": [
    "fn = './predict-price.shelve'\n",
    "with shelve.open(fn, flag='w') as slf:\n",
    "    slf['models'] = models \n",
    "    print(f'Shelve file [{fn}] contains models:')\n",
    "    for m in slf['models'].keys():\n",
    "        print(f'\\t{m}')"
   ]
  },
  {
   "cell_type": "code",
   "execution_count": 17,
   "id": "570f2fbf-4f3b-4e92-875b-525142fd5150",
   "metadata": {
    "editable": true,
    "slideshow": {
     "slide_type": ""
    },
    "tags": []
   },
   "outputs": [
    {
     "ename": "AssertionError",
     "evalue": "stop running, below is sandboxing and testing",
     "output_type": "error",
     "traceback": [
      "\u001b[0;31m---------------------------------------------------------------------------\u001b[0m",
      "\u001b[0;31mAssertionError\u001b[0m                            Traceback (most recent call last)",
      "Cell \u001b[0;32mIn[17], line 1\u001b[0m\n\u001b[0;32m----> 1\u001b[0m \u001b[38;5;28;01massert\u001b[39;00m \u001b[38;5;28;01mFalse\u001b[39;00m, \u001b[38;5;124m'\u001b[39m\u001b[38;5;124mstop running, below is sandboxing and testing\u001b[39m\u001b[38;5;124m'\u001b[39m\n",
      "\u001b[0;31mAssertionError\u001b[0m: stop running, below is sandboxing and testing"
     ]
    }
   ],
   "source": [
    "assert False, 'stop running, below is sandboxing and testing'"
   ]
  },
  {
   "cell_type": "code",
   "execution_count": null,
   "id": "8aef9cec-2105-4ae7-9816-3581d51213d3",
   "metadata": {
    "editable": true,
    "slideshow": {
     "slide_type": ""
    },
    "tags": []
   },
   "outputs": [],
   "source": [
    "best_estimator.predict(X)"
   ]
  },
  {
   "cell_type": "code",
   "execution_count": null,
   "id": "335b18f6-7c71-4f83-9aad-f3af29e13574",
   "metadata": {
    "editable": true,
    "slideshow": {
     "slide_type": ""
    },
    "tags": []
   },
   "outputs": [],
   "source": [
    "X"
   ]
  },
  {
   "cell_type": "code",
   "execution_count": null,
   "id": "b025e251-6288-4a19-9e54-d7558489edfb",
   "metadata": {
    "editable": true,
    "slideshow": {
     "slide_type": ""
    },
    "tags": []
   },
   "outputs": [],
   "source": []
  },
  {
   "cell_type": "code",
   "execution_count": null,
   "id": "9dfee6c7-4b0d-440e-b4b6-b6ceb68cc57f",
   "metadata": {
    "editable": true,
    "slideshow": {
     "slide_type": ""
    },
    "tags": []
   },
   "outputs": [],
   "source": [
    "r = reg.regressor_.steps[-1][1]\n",
    "t = r.tree_\n",
    "t?"
   ]
  },
  {
   "cell_type": "code",
   "execution_count": null,
   "id": "d51dba78-e0cd-49b5-ac2e-289a2844b0e7",
   "metadata": {
    "editable": true,
    "raw_mimetype": "",
    "slideshow": {
     "slide_type": ""
    },
    "tags": []
   },
   "outputs": [],
   "source": [
    "reg.inverse_func(values[0])"
   ]
  },
  {
   "cell_type": "code",
   "execution_count": null,
   "id": "7e8865cb-4740-4a7f-a232-03b73c83ad45",
   "metadata": {
    "editable": true,
    "slideshow": {
     "slide_type": ""
    },
    "tags": []
   },
   "outputs": [],
   "source": [
    "values = [reg.inverse_func(v[0][0]) for v in t.value]\n",
    "labels = [lbls[f] for f in t.feature]\n",
    "df_tree = pd.DataFrame(data=[labels, t.threshold, values], index=['label', 'threshold', 'value']).T\n",
    "df_tree"
   ]
  },
  {
   "cell_type": "code",
   "execution_count": null,
   "id": "4f4215f2-ed13-4e3d-8863-23afe490cb99",
   "metadata": {
    "editable": true,
    "slideshow": {
     "slide_type": ""
    },
    "tags": []
   },
   "outputs": [],
   "source": [
    "df_tree.label.value_counts()"
   ]
  },
  {
   "cell_type": "code",
   "execution_count": null,
   "id": "b9802575-9b5f-40b4-9b9d-122db6b168b3",
   "metadata": {
    "editable": true,
    "slideshow": {
     "slide_type": ""
    },
    "tags": []
   },
   "outputs": [],
   "source": [
    "for n,g in df_tree.groupby('label'):\n",
    "    #print(n)\n",
    "    if not n.endswith('_yn'):\n",
    "        vc = g.threshold.value_counts();\n",
    "        vc.name=n\n",
    "        display(vc)"
   ]
  },
  {
   "cell_type": "code",
   "execution_count": null,
   "id": "9f0c39c3-8ac3-44ca-a098-16f95bcb8e25",
   "metadata": {
    "editable": true,
    "slideshow": {
     "slide_type": ""
    },
    "tags": []
   },
   "outputs": [],
   "source": [
    "reg"
   ]
  },
  {
   "cell_type": "code",
   "execution_count": null,
   "id": "d9820b62-3db1-463c-baf3-8c4fe66afe5f",
   "metadata": {
    "editable": true,
    "slideshow": {
     "slide_type": ""
    },
    "tags": []
   },
   "outputs": [],
   "source": []
  },
  {
   "cell_type": "code",
   "execution_count": null,
   "id": "df5dfe01-e842-463b-8fdc-5c82228d6925",
   "metadata": {
    "editable": true,
    "slideshow": {
     "slide_type": ""
    },
    "tags": []
   },
   "outputs": [],
   "source": []
  },
  {
   "cell_type": "code",
   "execution_count": null,
   "id": "197cd7ba-a220-49b8-ba39-fc55c4a42b58",
   "metadata": {
    "editable": true,
    "slideshow": {
     "slide_type": ""
    },
    "tags": []
   },
   "outputs": [],
   "source": []
  },
  {
   "cell_type": "code",
   "execution_count": null,
   "id": "223773d0-b457-449f-99b6-61703d4343be",
   "metadata": {
    "editable": true,
    "slideshow": {
     "slide_type": ""
    },
    "tags": []
   },
   "outputs": [],
   "source": []
  },
  {
   "cell_type": "code",
   "execution_count": null,
   "id": "238a0cf1-c919-417b-8c1f-c412d319ba6a",
   "metadata": {
    "editable": true,
    "slideshow": {
     "slide_type": ""
    },
    "tags": []
   },
   "outputs": [],
   "source": []
  },
  {
   "cell_type": "code",
   "execution_count": null,
   "id": "816ca063-ed9d-4f7d-8d34-52193fbeb10a",
   "metadata": {
    "editable": true,
    "slideshow": {
     "slide_type": ""
    },
    "tags": []
   },
   "outputs": [],
   "source": []
  },
  {
   "cell_type": "code",
   "execution_count": null,
   "id": "726d27b2-6ffe-4072-b5c9-3467ed932c67",
   "metadata": {
    "editable": true,
    "slideshow": {
     "slide_type": ""
    },
    "tags": []
   },
   "outputs": [],
   "source": [
    "plt.plot(np.log10(y_test), np.log10(y_pred), 's', mec='None', mfc='k', alpha=1/8, ms=4)"
   ]
  },
  {
   "cell_type": "code",
   "execution_count": null,
   "id": "bb732d6d-176e-42fa-8ce0-bb05144e77f8",
   "metadata": {
    "editable": true,
    "slideshow": {
     "slide_type": ""
    },
    "tags": []
   },
   "outputs": [],
   "source": [
    "from sklearn import tree\n",
    "f = plt.figure(figsize=[32, 32], dpi=400)\n",
    "ax = f.gca()\n",
    "\n",
    "tree.plot_tree(reg.regressor_.steps[-1][1], ax=ax, max_depth=2, feature_names=lbls)\n",
    "plt.show()"
   ]
  },
  {
   "cell_type": "code",
   "execution_count": null,
   "id": "f1cc3a2e-d743-466c-be0d-4bb5ad640017",
   "metadata": {
    "editable": true,
    "slideshow": {
     "slide_type": ""
    },
    "tags": []
   },
   "outputs": [],
   "source": [
    "reg.regressor_"
   ]
  },
  {
   "cell_type": "code",
   "execution_count": null,
   "id": "b22cd24e-da16-4f57-97fa-1fe4b7d6a5fc",
   "metadata": {
    "editable": true,
    "slideshow": {
     "slide_type": ""
    },
    "tags": []
   },
   "outputs": [],
   "source": [
    "# tree.export_graphviz(reg.regressor_.steps[-1][1], 'tmp.txt')"
   ]
  },
  {
   "cell_type": "code",
   "execution_count": null,
   "id": "b6dc347b-8371-4e9f-b8db-14e061a9bca3",
   "metadata": {
    "editable": true,
    "slideshow": {
     "slide_type": ""
    },
    "tags": []
   },
   "outputs": [],
   "source": [
    "# pwd"
   ]
  },
  {
   "cell_type": "code",
   "execution_count": null,
   "id": "c49db41a-9035-43c4-844a-74fe496c4518",
   "metadata": {
    "editable": true,
    "slideshow": {
     "slide_type": ""
    },
    "tags": []
   },
   "outputs": [],
   "source": []
  }
 ],
 "metadata": {
  "kernelspec": {
   "display_name": "Python 3 (ipykernel)",
   "language": "python",
   "name": "python3"
  },
  "language_info": {
   "codemirror_mode": {
    "name": "ipython",
    "version": 3
   },
   "file_extension": ".py",
   "mimetype": "text/x-python",
   "name": "python",
   "nbconvert_exporter": "python",
   "pygments_lexer": "ipython3",
   "version": "3.10.12"
  }
 },
 "nbformat": 4,
 "nbformat_minor": 5
}
