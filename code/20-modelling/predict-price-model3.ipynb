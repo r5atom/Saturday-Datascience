{
 "cells": [
  {
   "cell_type": "code",
   "execution_count": 1,
   "id": "f2b75b9a-59d7-4359-bb74-6cb40e2b4a7e",
   "metadata": {
    "editable": true,
    "slideshow": {
     "slide_type": ""
    },
    "tags": []
   },
   "outputs": [],
   "source": [
    "import shelve\n",
    "import re\n",
    "import os\n",
    "from predict_price_helpers import *"
   ]
  },
  {
   "cell_type": "code",
   "execution_count": 2,
   "id": "ac39e390-17ef-41b8-a954-66bea8a61161",
   "metadata": {},
   "outputs": [
    {
     "name": "stdout",
     "output_type": "stream",
     "text": [
      "RESULTS_DIR\n",
      "def0:\n",
      "do_save = lambda fn: not(os.path.isfile(fn))\n",
      "cfg\n",
      "num_columns\n",
      "cat_columns\n",
      "models\n",
      "df\n"
     ]
    }
   ],
   "source": [
    "with shelve.open('./predict-price.shelve', flag='r') as slf:\n",
    "    for k,v in slf.items():\n",
    "        print(k)\n",
    "        globals()[k] = v\n",
    "        if re.match('def\\d+:', k) is not None:\n",
    "            print(v)\n",
    "            exec(v)"
   ]
  },
  {
   "cell_type": "code",
   "execution_count": 3,
   "id": "13d17925-3b4d-46bd-8622-a88ed77fcbee",
   "metadata": {},
   "outputs": [],
   "source": [
    "# import modules\n",
    "import pandas as pd\n",
    "import numpy as np\n",
    "import matplotlib.pyplot as plt\n",
    "import matplotlib\n",
    "\n",
    "import seaborn as sns"
   ]
  },
  {
   "cell_type": "code",
   "execution_count": 4,
   "id": "bbf611b5-5b0f-4c0f-82c7-f1f9c3627d23",
   "metadata": {},
   "outputs": [],
   "source": [
    "# set figure defaults (needs to be in cell seperate from import sns)\n",
    "plt.style.use([\n",
    "    'default',\n",
    "    f\"{cfg['FILE_LOCATION']['app_dir']}/assets/movshon.mplstyle\",\n",
    "    f\"{cfg['FILE_LOCATION']['app_dir']}/assets/context-notebook.mplstyle\"\n",
    "])"
   ]
  },
  {
   "cell_type": "markdown",
   "id": "64d075cb-8ae4-4616-8825-7bb267abda29",
   "metadata": {},
   "source": [
    "# Model: Multiple linear fit\n",
    "\n",
    "Above [simple linear models](#pred_model_1) only use _Age_ as predictor of price. Here MLR will regress many (numerical) features with price (euro).  \n"
   ]
  },
  {
   "cell_type": "markdown",
   "id": "f0d732d6-0d70-4e4a-b718-640b1dda2202",
   "metadata": {},
   "source": [
    "## Prepare input"
   ]
  },
  {
   "cell_type": "code",
   "execution_count": 5,
   "id": "6f199f6c-c29d-488f-8bd2-5ffc5a2cbee5",
   "metadata": {},
   "outputs": [
    {
     "name": "stdout",
     "output_type": "stream",
     "text": [
      "(2675, 20)\n",
      "(2675, 1)\n"
     ]
    }
   ],
   "source": [
    "from sklearn.model_selection import train_test_split, cross_val_score\n",
    "from sklearn import linear_model\n",
    "\n",
    "model_name = 'MLR reduced observations'\n",
    "\n",
    "features = num_columns \n",
    "# Can be reduced here\n",
    "\n",
    "X = df.dropna(subset=['price'] + features).loc[:,features].values.reshape(-1,len(features))\n",
    "y = np.log10(df.dropna(subset=['price'] + features).price.values).reshape(-1,1)\n",
    "print(X.shape)\n",
    "print(y.shape)"
   ]
  },
  {
   "cell_type": "markdown",
   "id": "ffbf10cc-3de9-4aa7-b8e1-2c8371dad897",
   "metadata": {},
   "source": [
    "## Fit"
   ]
  },
  {
   "cell_type": "code",
   "execution_count": 6,
   "id": "cdf28919-6124-47e7-ad06-fe0949f0c301",
   "metadata": {},
   "outputs": [
    {
     "name": "stdout",
     "output_type": "stream",
     "text": [
      "(1872, 20)\n",
      "(803, 20)\n"
     ]
    }
   ],
   "source": [
    "# instantiate a dict in models at key with name of this model\n",
    "models[model_name] = dict()\n",
    "\n",
    "# split train test\n",
    "X_train, X_test, y_train, y_test = train_test_split(X, y, test_size = 0.3, random_state=42)\n",
    "print(X_train.shape)\n",
    "print(X_test.shape)\n",
    "\n",
    "# create regression model object and store\n",
    "reg = linear_model.LinearRegression()\n",
    "models[model_name].update({'model':reg})\n",
    "\n",
    "# fit\n",
    "reg.fit(X_train,y_train)\n",
    "models[model_name].update({'n':y.shape[0]})\n",
    "models[model_name].update({'n features':X.shape[1]})\n",
    "\n",
    "# parameters\n",
    "betas = [*reg.intercept_, *reg.coef_[0]]\n",
    "models[model_name].update({'betas':betas})\n",
    "\n",
    "# score\n",
    "models[model_name].update({'R^2':reg.score(X,y)})\n",
    "models[model_name].update({'test R^2':reg.score(X_test,y_test)})\n",
    "cv_results = cross_val_score(reg, X_test, y_test, cv=5)\n",
    "models[model_name].update({'cv R^2':cv_results})\n"
   ]
  },
  {
   "cell_type": "code",
   "execution_count": 7,
   "id": "1650d5cb-0f1b-46d1-98c4-20594da88c6a",
   "metadata": {
    "editable": true,
    "scrolled": true,
    "slideshow": {
     "slide_type": ""
    },
    "tags": [
     "remove_when_contains:image"
    ]
   },
   "outputs": [
    {
     "name": "stdout",
     "output_type": "stream",
     "text": [
      "/home/tom/bin/satdatsci/Saturday-Datascience/results/MLR_reduced_observations.png\n"
     ]
    }
   ],
   "source": [
    "# plot coefficients\n",
    "plt.figure(figsize=[8,2])\n",
    "ax=plt.gca()\n",
    "\n",
    "# sorted bar height\n",
    "betas = models[model_name]['betas']\n",
    "x = ['offset (log[EUR])'] + [features[i] for i in np.argsort(betas[1:])[::-1]]\n",
    "y = [betas[0]] + sorted(betas[1:], reverse=True)\n",
    "\n",
    "# plot bar\n",
    "ax.bar(x=x, height=y, edgecolor='k', facecolor='None')\n",
    "\n",
    "# add values when bar is small\n",
    "for x_val, coef in zip(x,y):\n",
    "    if np.abs(coef)<1:\n",
    "        ax.text(x_val, coef, '{:.3g}'.format(coef), rotation=45, va='bottom', ha='left')\n",
    "ax.set_yticks(range(0,5,2))\n",
    "\n",
    "# plot origin\n",
    "x_sign_switch = np.nonzero(np.array(y) < 0)[0][0]\n",
    "ax.axvline(x_sign_switch-0.5, linewidth=2, linestyle='--', color='k')\n",
    "ax.axhline(0, linewidth=2, linestyle='-', color='k')\n",
    "        \n",
    "x_sign_switch = np.nonzero(np.array(y) < 0)[0][0]\n",
    "yl = ax.get_ylim()\n",
    "ax.vlines(x_sign_switch-0.5, yl[0], yl[1], linewidth=2, linestyle='--')\n",
    "ax.set_ylim(yl)\n",
    "# ax.set_ylim(top=0.01, bottom=-0.01)\n",
    "\n",
    "# labels\n",
    "ax.set_xticks(x)\n",
    "ax.set_xticklabels(labels=x, rotation=45, va='top', ha='right', style='italic')\n",
    "ax.xaxis.set_tick_params(which='minor', bottom=False)\n",
    "ax.set_xlabel('Feature', style='italic')\n",
    "ax.set_ylabel('Coefficient (a.u.)', style='italic')\n",
    "ax.set_title('Multiple linear regression', style='italic') \n",
    "\n",
    "# stats\n",
    "xy=[ax.get_xlim()[1], ax.get_ylim()[1]]\n",
    "ax.text(xy[0]*1.05,xy[1], '$R^2$ = {:.2f}, $R^2_{{cv{:g}}}$ = {:.2f} (+/-{:.2f})'.format(\n",
    "    models[model_name]['R^2'],\n",
    "    models[model_name]['cv R^2'].shape[0],\n",
    "    np.mean(models[model_name]['cv R^2']),\n",
    "    np.std(models[model_name]['cv R^2']),\n",
    ") + '\\n' +\n",
    "         'train (n = {})'.format(y_train.shape[0]) + '\\n' +\n",
    "         'test (n = {}, $R^2$ = {:.2f})'.format(\n",
    "             y_test.shape[0],\n",
    "             models[model_name]['test R^2'],\n",
    "         ), style='italic', va='top', ha='left')\n",
    "\n",
    "\n",
    "# Save\n",
    "file_name = f\"{RESULTS_DIR}/{model_name.replace(' ','_')}.png\"\n",
    "if True | do_save(file_name): # always save\n",
    "    print(file_name)\n",
    "    with plt.style.context(f\"{cfg['FILE_LOCATION']['app_dir']}/assets/context-paper.mplstyle\"):\n",
    "        plt.savefig(file_name, bbox_inches='tight', transparent=False)\n",
    "else:\n",
    "    plt.show()\n",
    "    print(f'Skip. {file_name} exists or saving is disabled in settings.')"
   ]
  },
  {
   "cell_type": "code",
   "execution_count": 8,
   "id": "6cf08fb0-c0f7-4a32-91a0-5a56eba81b93",
   "metadata": {
    "editable": true,
    "slideshow": {
     "slide_type": ""
    },
    "tags": []
   },
   "outputs": [
    {
     "name": "stdout",
     "output_type": "stream",
     "text": [
      "Shelve file [./predict-price.shelve] contains models:\n",
      "\tlinear regression no cv\n",
      "\tlinear regression log price young\n",
      "\tMLR reduced observations\n"
     ]
    }
   ],
   "source": [
    "fn = './predict-price.shelve'\n",
    "with shelve.open(fn, flag='w') as slf:\n",
    "    slf['models'] = models \n",
    "    print(f'Shelve file [{fn}] contains models:')\n",
    "    for m in slf['models'].keys():\n",
    "        print(f'\\t{m}')"
   ]
  }
 ],
 "metadata": {
  "kernelspec": {
   "display_name": "Python 3 (ipykernel)",
   "language": "python",
   "name": "python3"
  },
  "language_info": {
   "codemirror_mode": {
    "name": "ipython",
    "version": 3
   },
   "file_extension": ".py",
   "mimetype": "text/x-python",
   "name": "python",
   "nbconvert_exporter": "python",
   "pygments_lexer": "ipython3",
   "version": "3.10.12"
  }
 },
 "nbformat": 4,
 "nbformat_minor": 5
}
