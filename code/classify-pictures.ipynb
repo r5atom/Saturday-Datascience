{
 "cells": [
  {
   "cell_type": "markdown",
   "metadata": {},
   "source": [
    "<a id='clf_top'>"
   ]
  },
  {
   "cell_type": "markdown",
   "metadata": {},
   "source": [
    "# Classify pictures from auction lots\n",
    "\n",
    "The auction lots are accompanied with pictures. This notebook performs classification analyses.\n",
    "\n",
    "## Classification models\n",
    "1. [Simple binary classification model](#clf_model_1)\n",
    "2. [Random forest](#clf_model_2)\n",
    "3. [Multiclass](#clf_model_3)\n",
    "\n",
    "## Results\n",
    "1. [Model performance](#clf_performance)\n",
    "    1. [Confusion matrix](#clf_performance_confmtx)  \n",
    "    Models can miss or falsly identify items. Performance can be summarized in a confusion matrix:\n",
    "    \n",
    "    |      | predicted |     |\n",
    "    |-----:|-----------|-----|\n",
    "    | **real** | TP        | FP  |\n",
    "    |      | FN        | TN  |  \n",
    "    \n",
    "    Correct: **TP**: True positive, **TN**: True negative  \n",
    "    Wrong: **FN**: False negative, **FP**: False positive\n",
    "    \n",
    "    2. [ROC](#clf_performance_roc)  \n",
    "    Receiver operator curve\n",
    "    "
   ]
  },
  {
   "cell_type": "code",
   "execution_count": 1,
   "metadata": {},
   "outputs": [
    {
     "data": {
      "text/plain": [
       "{'settings_fn': '../code/assets/drz-auction-settings.ini',\n",
       " 'DATE': '2021-10',\n",
       " 'VERBOSE': 1,\n",
       " 'OPBOD': False,\n",
       " 'URL': 'http://verkoop.domeinenrz.nl/verkoop_bij_inschrijving_2021-0010',\n",
       " 'EXTEND_URL': False,\n",
       " 'CLOSEDDATA': True,\n",
       " 'closed_data_fields': '*',\n",
       " 'SKIPSAVE': False}"
      ]
     },
     "metadata": {},
     "output_type": "display_data"
    }
   ],
   "source": [
    "import drz_config\n",
    "cfg = drz_config.read_config()\n",
    "VERBOSE = cfg['VERBOSE']\n",
    "OPBOD = cfg['OPBOD']\n",
    "SKIPSAVE = cfg['SKIPSAVE']\n",
    "\n",
    "if VERBOSE > 0:\n",
    "    display(cfg)\n",
    "    \n",
    "SKIP_MASK = True\n",
    "TAG_SINGLE = \"nbconvert_instruction:remove_single_output\""
   ]
  },
  {
   "cell_type": "code",
   "execution_count": 2,
   "metadata": {},
   "outputs": [],
   "source": [
    "USE_HIGH_RES = False # Do not reshape image to smaller size. This is beta! Memory issues may occur\n",
    "PREDICT_CLASS = 'AUDI' # Test classifier on this class (brand)"
   ]
  },
  {
   "cell_type": "code",
   "execution_count": 3,
   "metadata": {},
   "outputs": [],
   "source": [
    "# import modules\n",
    "import pandas as pd\n",
    "import numpy as np\n",
    "import matplotlib.pyplot as plt\n",
    "import matplotlib\n",
    "import re\n",
    "\n",
    "import seaborn as sns\n",
    "from PIL import Image\n",
    "\n",
    "from os.path import isfile\n"
   ]
  },
  {
   "cell_type": "code",
   "execution_count": 4,
   "metadata": {},
   "outputs": [],
   "source": [
    "plt.style.use(['default', '../assets/movshon.mplstyle', '../assets/context-notebook.mplstyle'])"
   ]
  },
  {
   "cell_type": "code",
   "execution_count": 5,
   "metadata": {},
   "outputs": [],
   "source": [
    "# file name pattern for images\n",
    "if OPBOD:\n",
    "    image_file = lambda lot,idx: '../../../python-nb/data/images/{:s}-{:02.0f}.jpg'.format(lot,idx)\n",
    "else:\n",
    "    def image_file(lot,idx):\n",
    "        #HACK ALERT!\n",
    "        # if there are two auction a month\n",
    "        if lot.startswith('2021-06-'):\n",
    "            lot_ = lot.split('-')\n",
    "            lot = '{}-{}-{}'.format(lot_[0], lot_[2][-2:], lot_[2][:-2])\n",
    "        return r'/home/tom/data/satdatsci-images/{:s}/{:s}-{:02.0f}.jpg'.format(lot[:4], lot, idx)\n",
    "    # image_file = lambda lot,idx: r'../data/images/{:s}-{:02.0f}.jpg'.format(lot,idx)\n",
    "# image_file(df.index[-1],0)\n",
    "\n",
    "# lot number to date\n",
    "def idx2date(idx):\n",
    "    M = re.match('([0-9]{4}-[0-9]{1,2})-[0-9]{4}', idx)\n",
    "    return pd.to_datetime(M[1], format='%Y-%m')"
   ]
  },
  {
   "cell_type": "markdown",
   "metadata": {},
   "source": [
    "# Load data"
   ]
  },
  {
   "cell_type": "code",
   "execution_count": 6,
   "metadata": {},
   "outputs": [
    {
     "name": "stdout",
     "output_type": "stream",
     "text": [
      "../data/cars-for-imageclf.pkl\n",
      "(7218, 16)\n",
      "(4159, 18)\n"
     ]
    }
   ],
   "source": [
    "if OPBOD:\n",
    "    fn = '../../../python-nb/data/cars-for-imageclf-opbod.pkl'\n",
    "else:\n",
    "    fn = '../data/cars-for-imageclf.pkl'\n",
    "\n",
    "print(fn)\n",
    "df = pd.read_pickle(fn)\n",
    "print(df.shape)\n",
    "\n",
    "# add date\n",
    "df.loc[:,'auction_date'] = df.reset_index()['index'].apply(idx2date).values\n",
    "\n",
    "if not OPBOD:\n",
    "    # drop obs with no images stored\n",
    "    df.drop(index=df.index[df.auction_date < pd.to_datetime('2019-02-01')], inplace=True)\n",
    "\n",
    "# file location to front view pictures\n",
    "df.loc[:,'front_image'] = df.reset_index().loc[:,'index'].apply(lambda l:image_file(l,0)).values\n",
    "\n",
    "## HACK ALERT\n",
    "sel = df.index.str.startswith('2021-07') & df.index.str.endswith('07')\n",
    "df.loc[sel,'front_image'] = df.loc[sel,'front_image'].apply(lambda x: re.sub(r'07-([0-9]{2}\\.jpg)$', r'-\\g<1>', x))\n",
    "sel = df.index.str.startswith('2021-07') & df.index.str.endswith('17')\n",
    "df.loc[sel,'front_image'] = df.loc[sel,'front_image'].apply(lambda x: re.sub(r'07-([0-9]{4})17-([0-9]{2}\\.jpg)$', r'17-\\g<1>-\\g<2>', x))\n",
    "sel = df.index.str.startswith('2021-08') & df.index.str.endswith('08')\n",
    "df.loc[sel,'front_image'] = df.loc[sel,'front_image'].apply(lambda x: re.sub(r'08-([0-9]{2}\\.jpg)$', r'-\\g<1>', x))\n",
    "sel = df.index.str.startswith('2021-08') & df.index.str.endswith('18')\n",
    "df.loc[sel,'front_image'] = df.loc[sel,'front_image'].apply(lambda x: re.sub(r'08-([0-9]{4})18-([0-9]{2}\\.jpg)$', r'18-\\g<1>-\\g<2>', x))\n",
    "sel = df.index.str.startswith('2021-09') & df.index.str.endswith('09')\n",
    "df.loc[sel,'front_image'] = df.loc[sel,'front_image'].apply(lambda x: re.sub(r'09-([0-9]{2}\\.jpg)$', r'-\\g<1>', x))\n",
    "sel = df.index.str.startswith('2021-09') & df.index.str.endswith('19')\n",
    "df.loc[sel,'front_image'] = df.loc[sel,'front_image'].apply(lambda x: re.sub(r'09-([0-9]{4})19-([0-9]{2}\\.jpg)$', r'19-\\g<1>-\\g<2>', x))\n",
    "# sel = df.index.str.startswith('2021-10') & df.index.str.endswith('10')\n",
    "# df.loc[sel,'front_image'] = df.loc[sel,'front_image'].apply(lambda x: re.sub(r'10-([0-9]{2}\\.jpg)$', r'-\\g<1>', x))\n",
    "\n",
    "if not OPBOD:\n",
    "    # no front image\n",
    "    df.drop(index='2019-7-2212', inplace=True)\n",
    "    df.drop(index='2020-10-7232', inplace=True) # fiat\n",
    "    \n",
    "    # front image is not first\n",
    "    df.loc['2019-9-9152','front_image'] = image_file('2019-9-9152',1)\n",
    "    df.loc['2020-10-7235','front_image'] = image_file('2020-10-7235',1) # smart\n",
    "\n",
    "# print result\n",
    "print(df.shape)\n",
    "display(df.tail(), metadata={'tags': (TAG_SINGLE, )})\n"
   ]
  },
  {
   "cell_type": "markdown",
   "metadata": {},
   "source": [
    "## Create openML-like dataset structure"
   ]
  },
  {
   "cell_type": "code",
   "execution_count": 7,
   "metadata": {},
   "outputs": [],
   "source": [
    "details = {f: t for f,t in zip(\n",
    "    ['id', 'name', 'version', 'format', 'creator', 'collection_date', 'upload_date', 'licence', 'url', 'file_id', 'default_target_attribute', 'version_label', 'tag', 'visibility', 'original_data_url', 'paper_url', 'status', 'processing_date', 'md5_checksum'],\n",
    "    [str(), str(), str(), str(), str(), str(), str(), str(), str(), str(), str(), str(), [str()], str(), str(), str(), str(),  str(),str()]\n",
    ")}\n",
    "\n",
    "drz = {f: t for f,t in zip(\n",
    "    ['data', 'target', 'feature_names', 'DESCR', 'details', 'categories', 'url'],\n",
    "    [np.array([]), np.array([]), list(), str(), details, dict(), str()]\n",
    ")}"
   ]
  },
  {
   "cell_type": "code",
   "execution_count": 8,
   "metadata": {},
   "outputs": [],
   "source": [
    "# Choose a categorical feature\n",
    "feature_to_classify = 'brand'\n",
    "# feature_to_classify = 'body_type'\n",
    "\n",
    "# meta data\n",
    "drz['details'].update(dict(\n",
    "    id='[no id]', \n",
    "    name='Dienst Roerende Zaken - {}'.format(feature_to_classify), \n",
    "    creator='TvG', \n",
    "    original_data_url='https://github.com/r5atom/Saturday-Datascience'))\n",
    "\n",
    "# target: body type\n",
    "drz['target'] = df[feature_to_classify].values"
   ]
  },
  {
   "cell_type": "markdown",
   "metadata": {},
   "source": [
    "### Store pixels values in data set"
   ]
  },
  {
   "cell_type": "code",
   "execution_count": 9,
   "metadata": {},
   "outputs": [],
   "source": [
    "def load_mask(fn, nchar_header=7, nbytes_per_char=[2,1], VERBOSE=False):\n",
    "    import gzip\n",
    "    \n",
    "    def _get_chars(uz, pos, nchar, nbytes_per_char):\n",
    "        # get characters\n",
    "        recov = []\n",
    "        for c in range(nchar):\n",
    "            byte = uz[pos:][c*nbytes_per_char:(c+1)*nbytes_per_char]\n",
    "            recov += [int.from_bytes(byte, byteorder='little', signed=False)]\n",
    "        return recov\n",
    "\n",
    "\n",
    "    # read zip\n",
    "    with open(fn, 'rb') as fid:\n",
    "        z = fid.read()\n",
    "\n",
    "    # decompress (unzipped)\n",
    "    uz = gzip.decompress(z)\n",
    "    if VERBOSE: print(f'zip: {len(z)} unzip: {len(uz)}')\n",
    "\n",
    "    # parse parts\n",
    "    nparts = 2 #len(nbytes_per_char)\n",
    "    pos = 0\n",
    "    data = []\n",
    "    EOF = False\n",
    "    while EOF == False:\n",
    "        if VERBOSE: print(f'chunk {int(len(data)/2)}')\n",
    "\n",
    "        for part in range(nparts):\n",
    "\n",
    "            # determine where part ends\n",
    "            if part == 0:\n",
    "                nchar = nchar_header\n",
    "            else:\n",
    "                header = data[-1]\n",
    "                roi = header[-4:]\n",
    "                nchar = (roi[2] - roi[0]) * (roi[3] - roi[1])\n",
    "\n",
    "            if VERBOSE:print(f'part: {part} from: {pos} char: {nchar} nb/char: {nbytes_per_char[part]}')\n",
    "\n",
    "            recov = _get_chars(uz, pos, nchar, nbytes_per_char[part])\n",
    "\n",
    "            # update bgn for next loop\n",
    "            pos += nchar*nbytes_per_char[part]\n",
    "\n",
    "            data += [recov]\n",
    "\n",
    "            EOF = pos == len(uz)\n",
    "\n",
    "        if VERBOSE:print(f'pos: {pos}/{len(uz)}')\n",
    "            \n",
    "    return data\n",
    "\n",
    "def mask_arrays2mask(mask_headers, tiny_masks):\n",
    "    n_masks = len(mask_headers)\n",
    "    masks = np.zeros((mask_headers[0][1], mask_headers[0][2], n_masks), dtype='bool')\n",
    "    rois = np.zeros((n_masks, 4), dtype='int32')\n",
    "    class_ids = np.zeros((n_masks), dtype='int32')\n",
    "\n",
    "    for i_mask in range(n_masks):\n",
    "        mask = tiny_masks[i_mask]\n",
    "        header = mask_headers[i_mask]\n",
    "\n",
    "        roi = header[3:]\n",
    "        mask_array = np.array(mask)\n",
    "\n",
    "        tiny_mask = np.reshape(mask_array, (roi[2]-roi[0], roi[3]-roi[1]))\n",
    "\n",
    "        j,i = np.where(tiny_mask)\n",
    "        i += roi[1]\n",
    "        j += roi[0]\n",
    "        masks[j,i,i_mask] = True\n",
    "        rois[i_mask] = roi\n",
    "        class_ids[i_mask] = header[0]\n",
    "        \n",
    "    return masks, rois, class_ids\n"
   ]
  },
  {
   "cell_type": "code",
   "execution_count": 10,
   "metadata": {},
   "outputs": [
    {
     "name": "stdout",
     "output_type": "stream",
     "text": [
      "loading 4159 images\n"
     ]
    },
    {
     "data": {
      "text/html": [
       "<font size=2><hl></br><p>0 2019-2-2001: /home/tom/data/satdatsci-images/2019/2019-2-2001-00.jpg RGB (1024, 683) JPEG -0.0019 >L (128, 85) None</p>. . . . . . . . . . . . . . . . . . . . . . . . . . . . . . . . . . . . . . . . . . . . . . . . . . . . . . . . . . . . . . . . . . . . . . . . . . . . . . . . . . . . . . . . . . . . . . . . . . . . . . . . . . . . . . . . . . . . . . . . . . . . . . . . . . . . . . . . . . . . . . . . . . . . . . . . . . . . . . . . . . . . . . . . . . . . . . . . . . . . . . . . . . . . . . . . . . . . . . . . . . . . . . . . . . . . . . . . . . . . . . . . . . . . . . . . . . . . . . . . . . . . . . . . . . . . . . . . . . . . . . . . . . . . . . . . . . . . . . . . . . . . . . . . . . . . . . . . . . . . . . . . . . . . . . . . . . . . . . . . . . . . . . . . . . . . . . . . . . . . . . . . . . . . . . . . . . . . . . . . . . . . . . . . . . . . . . . . . . . . . . . . . . . . . . . . . . . . . . . . . . . . . . . . . . . . . . . . . . . . . . . . . . . . . . . . . . . . . . . . . . . . . . . . . . . . . . . . . . . . . . . . . . . . . . . . . . . . . . . . . . . . . . . . . . . . . . . . . . . . . . . . . . . . . . . . . . . . . . . . . . . . . . . . . . . . . . . . . . . . . . . . . . . . . . . . . . . . . . . . . . . . . . . . . . . . . . . . . . . . . . . . . . . . . . . . . . . . . . . . . . . . . . . . . . . . . . . . . . . . . . . . . . . . . . . . . . . . . . . . . . . . . . . . . . . . . . . . . . . . . . . . . . . . . . . . . . . . . . . . . . . . . . . . . . . . . . . . . . . . . . . . . . . . . . . . . . . . . . . . . . . . . . . . . . . . . . . . . . . . . . . . . . . . . . . . . . . . . . . . . . . . . . . . . . . . . . . . . . . . . . . . . . . . . . . . . . . . . . . . . . . . . . . . . . . . . . . . . . . . . . . . . . . . . . . . . . . . . . . . . . . . . . . . . . . . . . . . . . . . . . . . . . . . . . . . . . . . . . . . . . . . . . . . . . . . . . . . . . . . . . . . . . . . . . . . . . . . . . . . . . . . . . . . . . . . . . . . . . . . . . . . . . . . . . . . . . . . . . . . . . . . . . . . . . . . . . . . . . . . . . . . . . . . . . . . . . . . . . . . . . . . . . . . . . . . . . . . . . . . . . . . . . . . . . . . . . . . . . . . . . . . . . . . . . . . . . . . . . . . . . . . . . . . . . . . . . . . . . . . . . . . . . . . . . . . . . . . . . . . . . . . . . . . . . . . . . . . . . . . . . . . . . . . . . . . . . . . . . . . . . . . . . . . . . . . . . . . . . . . . . . . . . . . . . . . . . . . . . . . . . . . . . . . . . . . . . . . . . . . . . . . . . . . . . . . . . . . . . . . . . . . . . . . . . . . . . . . . . . . . . . . . . . . . . . . . . . . . . . . . . . . . . . . . . . . . . . . . . . . . . . . . . . . . . . . . . . . . . . . . . . . . . . . . . . . . . . . . . . . . . . . . . . . . . . . . . . . . . . . . . . . . . . . . . . . . . . . . . . . . . . . . . . . . . . . . . . . . . . . . . . . . . . . . . . . . . . . . . . . . . . . . . . . . . . . . . . . . . . . . . . . . . . . . . . . . . . . . . . . . . . . . . . . . . . . . . . . . . . . . . . . . . . . . . . . . . . . . . . . . . . . . . . . . . . . . . . . . . . . . . . . . . . . . . . . . . . . . . . . . . . . . . . . . . . . . . . . . . . . . . . . . . . . . . . . . . . . . . . . . . . . . . . . . . . . . . . . . . . . . . . . . . . . . . . . . . . . . . . . . . . . . . . . . . . . . . . . . . . . . . . . . . . . . . . . . . . . . . . . . . . . . . . . . . . . . . . . . . . . . . . . . . . . . . . . . . . . . . . . . . . . . . . . . . . . . . . . . . . . . . . . . . . . . . . . . . . . . . . . . . . . . . . . . . . . . . . . . . . . . . . . . . . . . . . . . . . . . . . . . . . . . . . . . . . . . . . . . . . . . . . . . . . . . . . . . . . . . . . . . . . . . . . . . . . . . . . . . . . . . . . . . . . . . . . . . . . . . . . . . . . . . . . . . . . . . . . . . . . . . . . . . . . . . . . . . . . . . . . . . . . . . . . . . . . . . . . . . . . . . . . . . . . . . . . . . . . . . . . . . . . . . . . . . . . . . . . . . . . . . . . . . . . . . . . . . . . . . . . . . . . . . . . . . . . . . . . . . . . . . . . . . . . . . . . . . . . . . . . . . . . . . . . . . . . . . . . . . . . . . . . . . . . . . . . . . . . . . . . . . . . . . . . . . . . . . . . . . . . . . . . . . . . . . . . . . . . . . . . . . . . . . . . . . . . . . . . . . . . . . . . . . . . . . . . . . . . . . . . . . . . . . . . . . . . . . . . . . . . . . . . . . . . . . . . . . . . . . . . . . . . . . . . . . . . . . . . . . . . . . . . . . . . . . . . . . . . . . . . . . . . . . . . . . . . . . . . . . . . . . . . . . . . . . . . . . . . . . . . . . . . . . . . . . . . . . . . . . . . . . . . . . . . . . . . . . . . . . . . . . . . . . . . . . . . . . . . . . . . . . . . . . . . . . . . . . . . . . . . . . . . . . . . . . . . . . . . . . . . . . . . . . . . . . . . . . . . . . . . . . . . . . . . . . . . . . . . . . . . . . . . . . . . . . . . . . . . . . . . . . . . . . . . . . . . . . . . . . . . . . . . . . . . . . . . . . . . . . . . . . . . . . . . . . . . . . . . . . . . . . . . . . . . . . . . . . . . . . . . . . . . . . . . . . . . . . . . . . . . . . . . . . . . . . . . . . . . . . . . . . . . . . . . . . . . . . . . . . . . . . . . . . . . . . . . . . . . . . . . . . . . . . . . . . . . . . . . . . . . . . . . . . . . . . . . . . . . . . . . . . . . . . . . . . . . . . . . . . . . . . . . . . . . . . . . . . . . . . . . . . . . . . . . . . . . . . . . . . . . . . . . . . . . . . . . . . . . . . . . . . . . . . . . . . . . . . . . . . . . . . . . . . . . . . . . . . . . . . . . . . . . . . . . . . . . . . . . . . . . . . . . . . . . . . . . . . . . . . . . . . . . . . . . . . . . . . . . . . . . . . . . . . . . . . . . . . . . . . . . . . . . . . . . . . . . . . . . . . . . . . . . . . . . . . . . . . . . . . . . . . . . . . . . . . . . . . . . . . . . . . . . . . . . . . . . . . . . . . . . . . . . . . . . . . . . . . . . . . . . . . . . . . . . . . . . . . . . . . . . . . . . . . . . . . . . . . . . . . . . . . . . . . . . . . . . . . . . . . . . . . . . . . . . . . . . . . . . . . . . . . . . . . . . . . . . . . . . . . . . . . . . . . . . . . . . . . . . . . . . . . . . . . . . . . . . . . . . . . . . . . . . . . . . . . . . . . . . . . . . . . . . . . . . . . . . . . . . . . . . . . . . . . . . . . . . . . . . . . . . . . . . . . . . . . . . . . . . . . . . . . . . . . . . . . . . . . . . . . . . . . . . . . . . . . . . . . . . . . . . . . . . . . . . . . . . . . . . . . . . . . . . . . . . . . . . . . . . . . . . . . . . . . . . . . . . . . . . . . . . . . . . . . . . . . . . . . . . . . . . . . . . . . . . . . . . . . . . . . . . . . . . . . . . . . . . . . . . . . . . . . . . . . . . . . . . . . . . . . . . . . . . . . . . . . . . . . . . . . . . . . . . . . . . . . . . . . . . . . . . . . . . . . . . . . . . . . . . . . . . . . . . . . . . . . . . . . . . . . . . . . . . . . . . . . . . . . . . . . . . . . . . . . . . . . . . . . . . . . . . . . . . . . . . . . . . . . . . . . . . . . . . . . . . . . . . . . . . . . . . . . . . . . . . . . . . . . . . . . . . . . . . . . . . . . . . . . . . . . . . . . . . . . . . . . . . . . . . . . . . . . . . . . . . . . . . . . . . . . . . . . . . . . . . . . . . . . . . . . . . . . . . . . . . . . . . . . . . . . . . . . . . . . . . . . . . . . . . . . . . . . . . . . . . . . . . . . . . . . . . . . . . . . . . . . . . . . . . . . . . . . . . . . . . . . . . . . . . . . . . . . . . . . . . . . . . . . . . . . . . . . . . . . . . . . . . . . . . . . . . . . . . . . . . . . . . . . . . . . . . . . . . . . . . . . . . . . . . . . . . . . . . . . . . . . . . . . . . . . . . . . . . . . . . . . . . . . . . . . . . . . . . . . . . . . . . . . . . . . . . . . . . . . . . . . . . . . . . . . . . . . . . . . . . . . . . . . . . . . . . . . . . . . . . . . . . . . . . . . . . . . . . . . . . . . . . . . . . . . . . . . . . . . . . . . . . . . . . . . . . . . . . . . . . . . . . . . . . . . . . . . . . . . . . . . . . . . . . . . . . . . . . . . . . . . . . . . . . . . . . . . . . . . . . . . . . . . . . . . . . . . . . . . . . . . . . . . . . . . . . . . . . . . . . . . . . . . . . . . . . . . . . . . . . . . . . . . . . . . . . . . . . . . . . . . . . . . . . . . . . . . . . . . . . . . . . . . . . . . . . . . . . . . . . . . . . . . . . . . . . . . . . . . . . . . . . . . . . . . . . . . . . . . . . . . . . . . . . . . . . . . . . . . . . . . . . . . . . . . <p>4158 2021-10-7087: /home/tom/data/satdatsci-images/2021/2021-10-7087-00.jpg RGB (1024, 683) JPEG -0.0019 >L (128, 85) None</p></font>"
      ]
     },
     "metadata": {},
     "output_type": "display_data"
    }
   ],
   "source": [
    "if USE_HIGH_RES:\n",
    "    image_size = (512, 341)   \n",
    "else:\n",
    "    image_size = (128, 85) # aspect 1.5\n",
    "n_feat = image_size[0] * image_size[1]\n",
    "n_obs = df.shape[0]\n",
    "aspect_ratio = image_size[0] / image_size[1]\n",
    "# empty data array\n",
    "drz['data'] = np.empty((n_obs, n_feat), int)\n",
    "\n",
    "# load data into data field\n",
    "if VERBOSE > 0:\n",
    "    print(f'loading {df.shape[0]} images')\n",
    "for i,idx in enumerate(df.index):\n",
    "    \n",
    "\n",
    "    # load pixel data\n",
    "    fn = df.loc[idx,'front_image']\n",
    "    im = Image.open(fn)\n",
    "\n",
    "    \n",
    "    # check dimensions of original and crop if needed\n",
    "    ar_mismatch = np.log10(im.size[0]/im.size[1] / aspect_ratio)\n",
    "    OK = -0.005 < ar_mismatch < 0.002\n",
    "\n",
    "    if VERBOSE > 0:\n",
    "        if i==0:\n",
    "            output = '<hl></br>'\n",
    "            disp_id = display({'text/html': output}, raw=True, display_id=True)\n",
    "    \n",
    "    if VERBOSE>1 or (VERBOSE>0 and (i==0 or i==n_obs-1)): \n",
    "        output += f'<p>{i} {idx}: '\n",
    "        output += f'{im.filename} {im.mode} {im.size} {im.format} {ar_mismatch:+.4f} >'\n",
    "        #print(i, idx, end=': ')\n",
    "        #print(im.filename, im.mode, im.size, im.format, '{:+.4f}'.format(ar_mismatch), end= ' > ')\n",
    "    \n",
    "    if not OK:\n",
    "        if ar_mismatch < 0:\n",
    "            # second dimension too large: crop from top and bottom\n",
    "            crop_extend = im.size[1] - (im.size[0]/aspect_ratio)\n",
    "            crop_top = np.ceil(crop_extend/2)\n",
    "            crop_bot = crop_extend - crop_top\n",
    "            box = [0, crop_top, im.size[0], im.size[1]-crop_bot]\n",
    "            im = im.crop(box=box)\n",
    "        else: \n",
    "            # first dimension too small: crop from left\n",
    "            crop_extend = im.size[0]-(im.size[1]*aspect_ratio)\n",
    "            # box = [0, 0, im.size[0]-crop_extend, im.size[1]]\n",
    "            box = [crop_extend, 0, im.size[0], im.size[1]]\n",
    "            im = im.crop(box=box)\n",
    "        if VERBOSE>1:\n",
    "            output2 = output.split('</br>')[-1]\n",
    "            output2 += '<b>crop original</b> {:+.0f}px'.format(\n",
    "                crop_extend\n",
    "            )\n",
    "            display({'text/html': '<font size=2>' + output2 + '</font>'}, raw=True)\n",
    "            #print('\\n\\t\\t\\t\\t\\t\\t\\t\\t\\t> crop original < {:+.4f}'.format(np.log10(im.size[0]/im.size[1] / aspect_ratio)), end=' ')\n",
    "\n",
    "    # reduce size and make gray scale\n",
    "    #im = im.draft('L',(image_size[0]-1,image_size[1]-1))\n",
    "    im = im.convert('L')\n",
    "    im = im.resize(image_size)\n",
    "    if VERBOSE>1 or (VERBOSE>0 and (i==0 or i==n_obs-1)):\n",
    "        output += f'{im.mode} {im.size} {im.format}</p>'\n",
    "        #print(im.mode, im.size, im.format, end=' ')\n",
    "    elif VERBOSE>0:\n",
    "        output += '. '\n",
    "        #print('.', end='')\n",
    "        \n",
    "    # mask\n",
    "    if SKIP_MASK == False:\n",
    "        # load data\n",
    "        mask_fn = fn.replace('.jpg', '-masks.gzip')\n",
    "        if isfile(mask_fn):\n",
    "            mask_data = load_mask(mask_fn)\n",
    "            mask_headers = mask_data[0::2]\n",
    "            tiny_masks = mask_data[1::2]\n",
    "            # convert to mask image\n",
    "            mask, _, i_class = mask_arrays2mask(mask_headers, tiny_masks)\n",
    "            car_mask = Image.fromarray(np.array((mask[:,:, i_class==3].sum(axis=2))*255, dtype='uint8'))\n",
    "            npix = sum(np.array(car_mask.getdata())>0)\n",
    "            if npix == 0:\n",
    "                # truck\n",
    "                car_mask = Image.fromarray(np.array((mask[:,:, i_class==8].sum(axis=2))*255, dtype='uint8'))\n",
    "\n",
    "            # reshape\n",
    "            car_mask = car_mask.resize(image_size)\n",
    "            npix = sum(np.array(car_mask.getdata())>0)\n",
    "\n",
    "            # apply\n",
    "            if npix == 0:\n",
    "                raise\n",
    "            im = Image.composite(im, Image.new(\"L\", im.size, 0), car_mask)\n",
    "\n",
    "            if VERBOSE>1 or (VERBOSE>0 and (i==0 or i==n_obs-1)):\n",
    "                output += f'{npix}'\n",
    "                #print(npix)\n",
    "            elif VERBOSE>0:\n",
    "                output += '.'\n",
    "                #print('.', end='')\n",
    "\n",
    "        else:\n",
    "            raise\n",
    "    else:\n",
    "        if VERBOSE>1:\n",
    "            output += '.</br>'\n",
    "            #print('.')\n",
    "            \n",
    "    if VERBOSE > 0:\n",
    "        outputlines = output.split('</br>')\n",
    "        if len(outputlines) > 8:\n",
    "            output = '</br>'.join(outputlines[0:4] + ['<center>...</center>'] + outputlines[-4::])\n",
    "        disp_id.update({'text/html': '<font size=2>' + output + '</font>'}, raw=True)\n",
    "\n",
    "\n",
    "    # add to data\n",
    "    drz['data'][i,:] = np.array(im.getdata())\n",
    "    \n"
   ]
  },
  {
   "cell_type": "raw",
   "metadata": {},
   "source": [
    "if SKIP_MASK == True\n",
    "    car_mask = car_mask.resize(image_size)\n",
    "    npix = sum(np.array(car_mask.getdata())>0)"
   ]
  },
  {
   "cell_type": "code",
   "execution_count": 11,
   "metadata": {},
   "outputs": [],
   "source": [
    "# add feature names\n",
    "max_digits = list(np.ceil(np.log10(image_size)).astype(int))\n",
    "pat='front-{{:0{:.0f}.0f}}-{{:0{:.0f}.0f}}'.format(*max_digits)\n",
    "drz['feature_names'] = [pat.format(i,j) for j in range(0,image_size[1]) for i in range(0,image_size[0])]"
   ]
  },
  {
   "cell_type": "markdown",
   "metadata": {},
   "source": [
    "### Show an observation"
   ]
  },
  {
   "cell_type": "code",
   "execution_count": null,
   "metadata": {
    "tags": [
     "nbconvert_instruction:remove_all_outputs"
    ]
   },
   "outputs": [],
   "source": [
    "i = -1\n",
    "obs = drz['data'][i]\n",
    "obs_image = obs.reshape(image_size[1],image_size[0])\n",
    "plt.figure(figsize=[d/64 for d in image_size])\n",
    "plt.imshow(obs_image, cmap='Greys_r')\n",
    "plt.title('pixel location')\n",
    "plt.xlabel('horizontal (left: {})'.format(image_size[0]))\n",
    "plt.ylabel('vertical (bottom: {})'.format(image_size[1]))\n",
    "plt.text(0, 0, drz['target'][i], ha='left', va='top', fontsize=8, color='b')\n",
    "\n",
    "# 3d plot\n",
    "Ms = [re.match('front-([0-9]{{{:g}}})-([0-9]{{{:g}}})'.format(*max_digits),n) for n in drz['feature_names']]\n",
    "loci = [int(M[1]) for M in Ms]\n",
    "locj = [int(M[2]) for M in Ms]\n",
    "\n",
    "from mpl_toolkits.mplot3d import Axes3D  # noqa: F401 unused import\n",
    "\n",
    "fig = plt.figure(figsize=[4,4])\n",
    "ax = fig.gca(projection='3d')\n",
    "ax.view_init(60, 10)\n",
    "ax.scatter3D(locj, loci, drz['data'][i], marker='s', c=drz['data'][i], cmap='PRGn')\n",
    "plt.show()"
   ]
  },
  {
   "cell_type": "markdown",
   "metadata": {},
   "source": [
    "# Predicting classes"
   ]
  },
  {
   "cell_type": "code",
   "execution_count": null,
   "metadata": {
    "tags": [
     "nbconvert_instruction:remove_all_outputs"
    ]
   },
   "outputs": [],
   "source": [
    "# histogram of occurence (prevalence) of classes\n",
    "pd.Series(drz['target']).value_counts().plot(kind='bar', figsize=[16,2])\n",
    "plt.show()"
   ]
  },
  {
   "cell_type": "code",
   "execution_count": 14,
   "metadata": {},
   "outputs": [],
   "source": [
    "# function to plot exemplars\n",
    "\n",
    "def plot_observations(observations, titles=None, margin=10, image_size=(128,85)):\n",
    "    '''\n",
    "    Displays images in one large figure.\n",
    "    \n",
    "    Note that the observations are one vector per observation as it is fed to the classifier with every pixel a feature.\n",
    "    '''\n",
    "    \n",
    "    # number of tiles\n",
    "    n_tiles = len(observations)\n",
    "    \n",
    "    if titles is None:\n",
    "        titles = [str(i) for i in range(n_tiles)]\n",
    "    \n",
    "    # dimension of output row/columns\n",
    "    nc = np.floor(np.sqrt(n_tiles)).astype(int) # largest in tile -> floor\n",
    "    nr = np.ceil(n_tiles/nc).astype(int)\n",
    "    # adjust \n",
    "    n_tiles_rect = nr*nc\n",
    "    # empty figure\n",
    "    im_rect = np.ones([image_size[1]*nr + margin*(nr+1), image_size[0]*nc + margin*(nc+1)])*observations.max()\n",
    "\n",
    "    # fill rectangle\n",
    "    title_coori = []\n",
    "    title_coorj = []\n",
    "    for ir in range(nr):\n",
    "        for ic in range(nc):\n",
    "            i = ir*nc + ic # tile index\n",
    "            if i >= n_tiles:\n",
    "                break\n",
    "                \n",
    "                \n",
    "            # coordinates in rectangle\n",
    "            offsetij = (ir*image_size[1] + margin*(ir+1), \n",
    "                        ic*image_size[0] + margin*(ic+1))\n",
    "            coor_i = [b + offsetij[0] for b in [0, image_size[1]]]\n",
    "            coor_j = [b + offsetij[1] for b in [0, image_size[0]]]\n",
    "            # put image\n",
    "            im_rect[\n",
    "                coor_i[0]:coor_i[1],\n",
    "                coor_j[0]:coor_j[1]\n",
    "            ] = observations[i].reshape(image_size[1], image_size[0])\n",
    "            title_coori += [coor_i[0]]\n",
    "            # title_coorj += [(coor_j[1]-coor_j[0])/2 + coor_j[0]]\n",
    "            title_coorj += [coor_j[0]]\n",
    "\n",
    "    # prettify\n",
    "    dpi = 96\n",
    "    fig = plt.figure(figsize=[nc*image_size[0]/dpi*2, nr*image_size[1]/dpi*2], dpi=dpi)\n",
    "    ax = fig.gca()\n",
    "    ax.axis('off')\n",
    "    # place\n",
    "    ax.imshow(im_rect, cmap='Greys_r')\n",
    "\n",
    "    # titles\n",
    "    for y,x,t in zip(title_coori, title_coorj, titles):\n",
    "        ax.text(x, y, t, ha='left', va='top')\n"
   ]
  },
  {
   "cell_type": "code",
   "execution_count": null,
   "metadata": {
    "tags": [
     "nbconvert_instruction:remove_all_outputs"
    ]
   },
   "outputs": [],
   "source": [
    "# Plot observations \n",
    "plot_observations(np.array([drz['data'].var(axis=0)]), ['variance within images'], image_size=image_size)\n",
    "\n",
    "# sel = drz['target'] == PREDICT_CLASS\n",
    "# sel = drz['target'] == 'sedan'\n",
    "# sel = drz['target'] == 'sedan'\n",
    "# sel = drz['target'] == 'DAIMLERCHRYSLER AG'\n",
    "auction_dates = df.reset_index()['index'].apply(lambda x:'-'.join(x.split('-')[0:-1])).values\n",
    "sel = auction_dates == max(auction_dates)\n",
    "\n",
    "plot_observations(drz['data'][sel], image_size=image_size)\n",
    "# display(df[sel])"
   ]
  },
  {
   "cell_type": "code",
   "execution_count": 16,
   "metadata": {},
   "outputs": [],
   "source": [
    "# empty dict to store models\n",
    "models = dict()"
   ]
  },
  {
   "cell_type": "markdown",
   "metadata": {},
   "source": [
    "<H1><a href=\"#clf_top\">^</a></H1><a id='clf_model_1'>"
   ]
  },
  {
   "cell_type": "markdown",
   "metadata": {},
   "source": [
    "# Model: Simple binary classifier"
   ]
  },
  {
   "cell_type": "markdown",
   "metadata": {},
   "source": [
    "## Prepare input"
   ]
  },
  {
   "cell_type": "code",
   "execution_count": 17,
   "metadata": {},
   "outputs": [
    {
     "name": "stdout",
     "output_type": "stream",
     "text": [
      "(4159, 10880)\n",
      "(4159,)\n"
     ]
    }
   ],
   "source": [
    "from sklearn.linear_model import SGDClassifier\n",
    "from sklearn.metrics import confusion_matrix, f1_score, roc_curve, roc_auc_score\n",
    "from sklearn.model_selection import cross_val_score, train_test_split, cross_val_predict\n",
    "\n",
    "model_name = 'binary classifier with gradient descent'\n",
    "\n",
    "X, y = drz['data'], drz['target']\n",
    "print(X.shape)\n",
    "print(y.shape)"
   ]
  },
  {
   "cell_type": "markdown",
   "metadata": {},
   "source": [
    "## Fit"
   ]
  },
  {
   "cell_type": "code",
   "execution_count": 18,
   "metadata": {},
   "outputs": [
    {
     "name": "stdout",
     "output_type": "stream",
     "text": [
      "(2911, 10880)\n",
      "(1248, 10880)\n"
     ]
    }
   ],
   "source": [
    "# instantiate a dict in models at key with name of this model\n",
    "models[model_name] = dict()\n",
    "\n",
    "#test_size = 0.3\n",
    "#i_split = round(n_obs * (1-0.3)) # index where to split\n",
    "#shuffle_index = np.random.RandomState(seed=42).permutation(n_obs)\n",
    "#assert shuffle_index[0] == 309 # sanity check\n",
    "# actual split\n",
    "#X_train, y_train = X[:i_split], y[:i_split]\n",
    "#X_test, y_test = X[i_split:], y[i_split:]\n",
    "\n",
    "# split train/test set\n",
    "X_train, X_test, y_train, y_test = train_test_split(X,y, test_size = 0.3, random_state=42)\n",
    "print(X_train.shape)\n",
    "print(X_test.shape)\n",
    "\n",
    "n_test = len(X_test)\n"
   ]
  },
  {
   "cell_type": "markdown",
   "metadata": {},
   "source": [
    "## Binary classifier: Stochastic gradient descent"
   ]
  },
  {
   "cell_type": "code",
   "execution_count": 19,
   "metadata": {},
   "outputs": [],
   "source": [
    "# class\n",
    "predict_class = PREDICT_CLASS\n",
    "y_binary, y_train_binary, y_test_binary = (y == predict_class), (y_train == predict_class), (y_test == predict_class)\n",
    "# plt.hist(y_train_binary_astype('int'), bins=[-0.5,0.5,1.5])\n",
    "# plt.hist(y_test_binary.astype('int'), bins=[-0.5,0.5,1.5])"
   ]
  },
  {
   "cell_type": "code",
   "execution_count": 20,
   "metadata": {},
   "outputs": [],
   "source": [
    "# create classifier\n",
    "clf = SGDClassifier(random_state=42, verbose=VERBOSE>1, fit_intercept=False)\n",
    "models[model_name].update({'model':clf})\n",
    "\n",
    "# fit\n",
    "clf.fit(X_train, y_train_binary)\n",
    "y_pred = clf.predict(X_test)\n",
    "\n",
    "models[model_name].update({'n':y.shape[0]})\n",
    "models[model_name].update({'n features':X.shape[1]})\n",
    "models[model_name].update({'classes':[predict_class]})\n",
    "\n",
    "# parameters\n",
    "betas = [clf.intercept_[0], *clf.coef_[0]] # index 0 because of two classes\n",
    "models[model_name].update({'betas':betas})\n",
    "\n",
    "# scoring\n",
    "\n",
    "# accuracy\n",
    "models[model_name].update({'acc':clf.score(X,y_binary)})\n",
    "models[model_name].update({'test acc':clf.score(X_test,y_test_binary)})\n",
    "cv_results = cross_val_score(clf, X_test, y_test_binary, cv=5, scoring='accuracy')\n",
    "models[model_name].update({'cv acc':cv_results})\n",
    "# f1\n",
    "models[model_name].update({'f1':f1_score(y_binary, clf.predict(X))})\n",
    "models[model_name].update({'test f1':f1_score(y_test_binary, y_pred)})\n",
    "cv_results = cross_val_score(clf, X_test, y_test_binary, cv=5, scoring='f1')\n",
    "models[model_name].update({'cv f1':cv_results})\n",
    "\n",
    "# sanity check to see if score is accuracy\n",
    "y_train_pred = clf.predict(X_train)\n",
    "assert sum(y_pred == y_test_binary) / n_test == clf.score(X_test,y_test_binary)\n",
    "assert sum(y_pred == y_test_binary) / n_test == models[model_name]['test acc']"
   ]
  },
  {
   "cell_type": "code",
   "execution_count": 21,
   "metadata": {
    "tags": [
     "remove_when_contains:image"
    ]
   },
   "outputs": [
    {
     "name": "stdout",
     "output_type": "stream",
     "text": [
      "../results/binary_classifier_with_gradient_descent.png\n"
     ]
    }
   ],
   "source": [
    "# plot classifier\n",
    "plt.figure(figsize=[16,4])\n",
    "plt.imshow(np.array(betas[1:]).reshape([image_size[1], image_size[0]]), cmap='vlag')\n",
    "plt.axis('off')\n",
    "plt.title('classifier {}'.format(predict_class))\n",
    "cbar = plt.colorbar()\n",
    "cbar.set_label('Coefficient', rotation=270)\n",
    "cbar.ax.plot(0, models[model_name]['betas'][0], 'xb')\n",
    "cbar.ax.text(0, models[model_name]['betas'][0], '  intercept>  ', style='italic', color='b', va='center', ha='right')\n",
    "# stats\n",
    "xy=[plt.gca().get_xlim()[1], plt.gca().get_ylim()[1]]\n",
    "plt.text(xy[0]*1.5,xy[1], 'f1 = {:.2f}, f1$_{{cv{:g}}}$ = {:.2f} (+/-{:.2f})'.format(\n",
    "    models[model_name]['f1'],\n",
    "    models[model_name]['cv f1'].shape[0],\n",
    "    np.mean(models[model_name]['cv f1']),\n",
    "    np.std(models[model_name]['cv f1']),\n",
    ") + '\\n' +\n",
    "         'train (n = {})'.format(y_train_binary.shape[0]) + '\\n' +\n",
    "         'test (n = {}, f1 = {:.2f})'.format(\n",
    "             y_test.shape[0],\n",
    "             models[model_name]['test f1'],\n",
    "         ), style='italic', va='top', ha='left')\n",
    "\n",
    "\n",
    "# Save\n",
    "file_name = '../results/{}.png'.format(model_name.replace(' ','_'))\n",
    "if OPBOD:\n",
    "    file_name = file_name.replace('.png', '-opbod.png')\n",
    "if (SKIPSAVE==False): #and (not(os.path.isfile(file_name))):\n",
    "    print(file_name)\n",
    "    with plt.style.context('../assets/context-paper.mplstyle'):\n",
    "        plt.savefig(file_name, bbox_inches='tight', transparent=True)\n",
    "else:\n",
    "    plt.show()\n",
    "    print(f'Skip. {file_name} exists or saving is disabled in settings.')    "
   ]
  },
  {
   "cell_type": "code",
   "execution_count": 22,
   "metadata": {},
   "outputs": [],
   "source": [
    "# Cross validation\n",
    "# cross_validate(clf, X_test, y_test_binary, cv=8, scoring=['accuracy', 'balanced_accuracy', 'f1'], VERBOSE=3, n_jobs=4)"
   ]
  },
  {
   "cell_type": "markdown",
   "metadata": {},
   "source": [
    "<H1><a href=\"#clf_top\">^</a></H1><a id='clf_model_2'>"
   ]
  },
  {
   "cell_type": "markdown",
   "metadata": {},
   "source": [
    "# Model: random forest"
   ]
  },
  {
   "cell_type": "markdown",
   "metadata": {},
   "source": [
    "## Prepare input"
   ]
  },
  {
   "cell_type": "code",
   "execution_count": 23,
   "metadata": {},
   "outputs": [
    {
     "name": "stdout",
     "output_type": "stream",
     "text": [
      "(4159, 10880)\n",
      "(4159,)\n"
     ]
    }
   ],
   "source": [
    "from sklearn.ensemble import RandomForestClassifier\n",
    "\n",
    "model_name = 'random forest'\n",
    "\n",
    "X, y = drz['data'], drz['target']\n",
    "print(X.shape)\n",
    "print(y.shape)"
   ]
  },
  {
   "cell_type": "markdown",
   "metadata": {},
   "source": [
    "## Fit"
   ]
  },
  {
   "cell_type": "code",
   "execution_count": 24,
   "metadata": {},
   "outputs": [
    {
     "name": "stdout",
     "output_type": "stream",
     "text": [
      "(2911, 10880)\n",
      "(1248, 10880)\n"
     ]
    }
   ],
   "source": [
    "# instantiate a dict in models at key with name of this model\n",
    "models[model_name] = dict()\n",
    "\n",
    "#test_size = 0.3\n",
    "#i_split = round(n_obs * (1-0.3)) # index where to split\n",
    "#shuffle_index = np.random.RandomState(seed=42).permutation(n_obs)\n",
    "#assert shuffle_index[0] == 309 # sanity check\n",
    "# actual split\n",
    "#X_train, y_train = X[:i_split], y[:i_split]\n",
    "#X_test, y_test = X[i_split:], y[i_split:]\n",
    "\n",
    "# split train/test set\n",
    "X_train, X_test, y_train, y_test = train_test_split(X,y, test_size = 0.3, random_state=42)\n",
    "print(X_train.shape)\n",
    "print(X_test.shape)\n",
    "\n",
    "n_test = len(X_test)\n"
   ]
  },
  {
   "cell_type": "markdown",
   "metadata": {},
   "source": [
    "## Binary classifier: Random Forest Classifier"
   ]
  },
  {
   "cell_type": "code",
   "execution_count": null,
   "metadata": {
    "tags": [
     "nbconvert_instruction:remove_all_outputs"
    ]
   },
   "outputs": [],
   "source": [
    "# class\n",
    "predict_class = PREDICT_CLASS\n",
    "y_binary, y_train_binary, y_test_binary = (y == predict_class), (y_train == predict_class), (y_test == predict_class)\n",
    "\n",
    "if VERBOSE > 1 :\n",
    "    plt.hist(y_binary.astype('int'), bins=[-0.5,0.5,1.5])"
   ]
  },
  {
   "cell_type": "code",
   "execution_count": 26,
   "metadata": {},
   "outputs": [],
   "source": [
    "# create classifier\n",
    "clf = RandomForestClassifier(random_state=42, verbose=VERBOSE>1)\n",
    "models[model_name].update({'model':clf})\n",
    "\n",
    "# fit\n",
    "clf.fit(X_train, y_train_binary)\n",
    "y_pred = clf.predict(X_test)\n",
    "\n",
    "models[model_name].update({'n':y.shape[0]})\n",
    "models[model_name].update({'n features':X.shape[1]})\n",
    "models[model_name].update({'classes':[predict_class]})\n",
    "\n",
    "# parameters\n",
    "betas = [np.NaN, clf.feature_importances_] # NaN, because rndforclf has no intercept\n",
    "models[model_name].update({'betas':betas})\n",
    "\n",
    "# scoring\n",
    "\n",
    "# accuracy\n",
    "models[model_name].update({'acc':clf.score(X,y_binary)})\n",
    "models[model_name].update({'test acc':clf.score(X_test,y_test_binary)})\n",
    "cv_results = cross_val_score(clf, X_test, y_test_binary, cv=5, scoring='accuracy')\n",
    "models[model_name].update({'cv acc':cv_results})\n",
    "# f1\n",
    "models[model_name].update({'f1':f1_score(y_binary, clf.predict(X))})\n",
    "models[model_name].update({'test f1':f1_score(y_test_binary, y_pred)})\n",
    "cv_results = cross_val_score(clf, X_test, y_test_binary, cv=5, scoring='f1')\n",
    "models[model_name].update({'cv f1':cv_results})\n",
    "\n",
    "# sanity check to see if score is accuracy\n",
    "y_train_pred = clf.predict(X_train)\n",
    "assert sum(y_pred == y_test_binary) / n_test == clf.score(X_test,y_test_binary)\n",
    "assert sum(y_pred == y_test_binary) / n_test == models[model_name]['test acc']\n",
    "assert clf.n_features_ == X.shape[1]\n"
   ]
  },
  {
   "cell_type": "code",
   "execution_count": 27,
   "metadata": {
    "tags": [
     "remove_when_contains:image"
    ]
   },
   "outputs": [
    {
     "name": "stdout",
     "output_type": "stream",
     "text": [
      "../results/random_forest.png\n"
     ]
    }
   ],
   "source": [
    "# plot classifier\n",
    "plt.figure(figsize=[16,4])\n",
    "plt.imshow(np.array(betas[1:]).reshape([image_size[1], image_size[0]]), cmap='Reds')\n",
    "plt.axis('off')\n",
    "plt.title('classifier {}'.format(predict_class))\n",
    "cbar = plt.colorbar()\n",
    "cbar.set_label('Coefficient', rotation=270)\n",
    "# cbar.ax.plot(0, models[model_name]['betas'][0], 'xb')\n",
    "# cbar.ax.text(0, models[model_name]['betas'][0], '  intercept>  ', style='italic', color='b', va='center', ha='right')\n",
    "# stats\n",
    "xy=[plt.gca().get_xlim()[1], plt.gca().get_ylim()[1]]\n",
    "plt.text(xy[0]*1.5,xy[1], 'f1 = {:.2f}, f1$_{{cv{:g}}}$ = {:.2f} (+/-{:.2f})'.format(\n",
    "    models[model_name]['f1'],\n",
    "    models[model_name]['cv f1'].shape[0],\n",
    "    np.mean(models[model_name]['cv f1']),\n",
    "    np.std(models[model_name]['cv f1']),\n",
    ") + '\\n' +\n",
    "         'train (n = {})'.format(y_train_binary.shape[0]) + '\\n' +\n",
    "         'test (n = {}, f1 = {:.2f})'.format(\n",
    "             y_test.shape[0],\n",
    "             models[model_name]['test f1'],\n",
    "         ), style='italic', va='top', ha='left')\n",
    "\n",
    "\n",
    "# Save\n",
    "file_name = '../results/{}.png'.format(model_name.replace(' ','_'))\n",
    "if OPBOD:\n",
    "    file_name = file_name.replace('.png', '-opbod.png')\n",
    "if (SKIPSAVE==False): #and (not(os.path.isfile(file_name))):\n",
    "    print(file_name)\n",
    "    with plt.style.context('../assets/context-paper.mplstyle'):\n",
    "        plt.savefig(file_name, bbox_inches='tight', transparent=True)\n",
    "else:\n",
    "    plt.show()\n",
    "    print(f'Skip. {file_name} exists or saving is disabled in settings.')    "
   ]
  },
  {
   "cell_type": "markdown",
   "metadata": {},
   "source": [
    "<H1><a href=\"#clf_top\">^</a></H1><a id='clf_model_3'>"
   ]
  },
  {
   "cell_type": "markdown",
   "metadata": {},
   "source": [
    "# Model: multiclass "
   ]
  },
  {
   "cell_type": "markdown",
   "metadata": {},
   "source": [
    "## Prepare input"
   ]
  },
  {
   "cell_type": "code",
   "execution_count": 28,
   "metadata": {},
   "outputs": [
    {
     "name": "stdout",
     "output_type": "stream",
     "text": [
      "(4159, 10880)\n",
      "(4159,)\n"
     ]
    }
   ],
   "source": [
    "from sklearn.preprocessing import LabelEncoder\n",
    "from sklearn.base import clone\n",
    "\n",
    "encoding_labels = LabelEncoder()\n",
    "drz['encoded_target'] = encoding_labels.fit_transform(drz['target'])\n",
    "\n",
    "model_name = 'gradient descent multiclass'\n",
    "\n",
    "X, y = drz['data'], drz['encoded_target']\n",
    "print(X.shape)\n",
    "print(y.shape)"
   ]
  },
  {
   "cell_type": "markdown",
   "metadata": {},
   "source": [
    "## Fit"
   ]
  },
  {
   "cell_type": "code",
   "execution_count": 29,
   "metadata": {},
   "outputs": [
    {
     "name": "stdout",
     "output_type": "stream",
     "text": [
      "(2902, 10880)\n",
      "(1245, 10880)\n"
     ]
    }
   ],
   "source": [
    "# instantiate a dict in models at key with name of this model\n",
    "models[model_name] = dict()\n",
    "\n",
    "#test_size = 0.3\n",
    "#i_split = round(n_obs * (1-0.3)) # index where to split\n",
    "#shuffle_index = np.random.RandomState(seed=42).permutation(n_obs)\n",
    "#assert shuffle_index[0] == 309 # sanity check\n",
    "# actual split\n",
    "#X_train, y_train = X[:i_split], y[:i_split]\n",
    "#X_test, y_test = X[i_split:], y[i_split:]\n",
    "\n",
    "# split train/test set\n",
    "clss,cnt = np.unique(y, return_counts=True)\n",
    "clss[cnt > 1]\n",
    "sel = np.isin(y, clss[cnt > 1])\n",
    "X_train, X_test, y_train, y_test = train_test_split(X[sel],y[sel], test_size = 0.3, random_state=42, stratify=y[sel])\n",
    "print(X_train.shape)\n",
    "print(X_test.shape)\n",
    "\n",
    "n_test = len(X_test)\n"
   ]
  },
  {
   "cell_type": "code",
   "execution_count": 30,
   "metadata": {},
   "outputs": [
    {
     "name": "stderr",
     "output_type": "stream",
     "text": [
      "/home/tom/bin/py38-satdatsci/lib/python3.8/site-packages/sklearn/model_selection/_split.py:666: UserWarning: The least populated class in y has only 1 members, which is less than n_splits=5.\n",
      "  warnings.warn((\"The least populated class in y has only %d\"\n",
      "/home/tom/bin/py38-satdatsci/lib/python3.8/site-packages/sklearn/model_selection/_split.py:666: UserWarning: The least populated class in y has only 1 members, which is less than n_splits=5.\n",
      "  warnings.warn((\"The least populated class in y has only %d\"\n"
     ]
    }
   ],
   "source": [
    "# create classifier: Copy from earlier model\n",
    "clf = clone(models['binary classifier with gradient descent']['model'])\n",
    "\n",
    "models[model_name].update({'model':clf})\n",
    "\n",
    "# fit\n",
    "clf.fit(X_train, y_train)\n",
    "y_pred = clf.predict(X_test)\n",
    "\n",
    "models[model_name].update({'n':y.shape[0]})\n",
    "models[model_name].update({'n features':X.shape[1]})\n",
    "models[model_name].update({'classes':encoding_labels.classes_})\n",
    "\n",
    "# parameters\n",
    "betas = np.concatenate([np.matrix(clf.intercept_).T, clf.coef_], axis=1)\n",
    "models[model_name].update({'betas':betas})\n",
    "\n",
    "# scoring\n",
    "\n",
    "# accuracy\n",
    "models[model_name].update({'acc':clf.score(X,y)})\n",
    "models[model_name].update({'test acc':clf.score(X_test,y_test)})\n",
    "cv_results = cross_val_score(clf, X_test, y_test, cv=5, scoring='accuracy')\n",
    "models[model_name].update({'cv acc':cv_results})\n",
    "# f1\n",
    "models[model_name].update({'f1':f1_score(y, clf.predict(X), average=None)})\n",
    "models[model_name].update({'test f1':f1_score(y_test, y_pred, average=None)})\n",
    "cv_results = cross_val_score(clf, X_test, y_test, cv=5, scoring='f1_micro') # micro takes into account class imbalance\n",
    "models[model_name].update({'cv f1':cv_results})\n",
    "\n",
    "# sanity check to see if score is accuracy\n",
    "assert sum(y_pred == y_test) / n_test == clf.score(X_test,y_test)\n",
    "assert sum(y_pred == y_test) / n_test == models[model_name]['test acc']\n",
    "assert f1_score(y_test, y_pred, average=None).mean() == f1_score(y_test, y_pred, average='macro')"
   ]
  },
  {
   "cell_type": "code",
   "execution_count": null,
   "metadata": {
    "tags": [
     "nbconvert_instruction:remove_all_outputs"
    ]
   },
   "outputs": [],
   "source": [
    "hist_ = pd.DataFrame(columns=['orig','train','test','class_name'])\n",
    "hist_.class_name=models[model_name]['classes']\n",
    "clss,cnt = np.unique(y, return_counts=True)\n",
    "hist_.loc[clss,'orig'] = cnt\n",
    "clss,cnt = np.unique(y_train, return_counts=True)\n",
    "hist_.loc[clss,'train'] = cnt\n",
    "clss,cnt = np.unique(y_test, return_counts=True)\n",
    "hist_.loc[clss,'test'] = cnt\n",
    "\n",
    "hist_.set_index('class_name').loc[:,['train', 'test']].plot(kind='bar', stacked=True, figsize=[8,4])\n",
    "plt.plot(hist_.set_index('class_name').loc[:,['orig']],'P')\n",
    "plt.yscale('log')\n",
    "hist_.set_index('class_name').loc[:,['train', 'test']].div(hist_.set_index('class_name').orig, axis=0).plot(kind='bar', stacked=True, figsize=[8,4])\n"
   ]
  },
  {
   "cell_type": "code",
   "execution_count": 32,
   "metadata": {
    "tags": [
     "remove_when_contains:image"
    ]
   },
   "outputs": [
    {
     "name": "stdout",
     "output_type": "stream",
     "text": [
      "../results/gradient_descent_multiclass.png\n",
      "../results/variance-within-gradient_descent_multiclass.png\n"
     ]
    }
   ],
   "source": [
    "# betas = [clf.intercept_[0], *clf.coef_[0]] \n",
    "\n",
    "plot_observations(clf.coef_, models[model_name]['classes'][clf.classes_], image_size=image_size)\n",
    "file_name = '../results/{}.png'.format(model_name.replace(' ','_'))\n",
    "if OPBOD:\n",
    "    file_name = file_name.replace('.png', '-opbod.png')\n",
    "if (SKIPSAVE==False): #and (not(os.path.isfile(file_name))):\n",
    "    print(file_name)\n",
    "    with plt.style.context('../assets/context-paper.mplstyle'):\n",
    "        plt.savefig(file_name, bbox_inches='tight', transparent=True)\n",
    "else:\n",
    "    plt.show()\n",
    "    print(f'Skip. {file_name} exists or saving is disabled in settings.')    \n",
    "\n",
    "plot_observations(np.array([clf.coef_.var(axis=0)]), 'variance within coefficients', image_size=image_size)\n",
    "# Save\n",
    "file_name = '../results/variance-within-{}.png'.format(model_name.replace(' ','_'))\n",
    "if OPBOD:\n",
    "    file_name = file_name.replace('.png', '-opbod.png')\n",
    "if (SKIPSAVE==False): #and (not(os.path.isfile(file_name))):\n",
    "    print(file_name)\n",
    "    with plt.style.context('../assets/context-paper.mplstyle'):\n",
    "        plt.savefig(file_name, bbox_inches='tight', transparent=True)\n",
    "else:\n",
    "    plt.show()\n",
    "    print(f'Skip. {file_name} exists or saving is disabled in settings.')    "
   ]
  },
  {
   "cell_type": "markdown",
   "metadata": {},
   "source": [
    "<H1><a href=\"#clf_top\">^</a></H1><a id='clf_performance'>"
   ]
  },
  {
   "cell_type": "markdown",
   "metadata": {},
   "source": [
    "# Model performances"
   ]
  },
  {
   "cell_type": "code",
   "execution_count": 33,
   "metadata": {
    "tags": [
     "remove_when_contains:image"
    ]
   },
   "outputs": [
    {
     "name": "stdout",
     "output_type": "stream",
     "text": [
      "../results/model-performance-classification.png\n"
     ]
    }
   ],
   "source": [
    "# plot f1\n",
    "k = 'cv f1'\n",
    "\n",
    "# counter for x-offset\n",
    "c=0\n",
    "\n",
    "# figure\n",
    "fig = plt.figure(figsize=[1,2])\n",
    "ax = fig.gca()\n",
    "xs = ys = [None]\n",
    "\n",
    "# loop over all models\n",
    "for name,res in models.items():\n",
    "\n",
    "    c+=1 # x-offset\n",
    "\n",
    "    score = res[k]\n",
    "    \n",
    "    # add scores and offset to vectors\n",
    "    ys = np.concatenate([ys,score])\n",
    "    xs = np.concatenate([xs,np.ones_like(score) * c])\n",
    "\n",
    "# actual plotting\n",
    "sns.swarmplot(x=xs, y=ys, ax=ax)\n",
    "# prettify\n",
    "ax.set_xticklabels(models.keys(), rotation=45, va='top', ha='right', style='italic')\n",
    "ax.set_ylim(bottom=0, top=1)\n",
    "ax.set_title('Classifier performance\\n', style='italic')\n",
    "ax.set_ylabel('F1 score', style='italic')\n",
    "\n",
    "# save\n",
    "file_name = '../results/model-performance-classification.png'\n",
    "if OPBOD:\n",
    "    file_name = file_name.replace('.png', '-opbod.png')\n",
    "if (SKIPSAVE==False): #and (not(os.path.isfile(file_name))):\n",
    "    print(file_name)\n",
    "    with plt.style.context('../assets/context-paper.mplstyle'):\n",
    "        plt.savefig(file_name, bbox_inches='tight', transparent=True)\n",
    "else:\n",
    "    plt.show()\n",
    "    print(f'Skip. {file_name} exists or saving is disabled in settings.')    "
   ]
  },
  {
   "cell_type": "markdown",
   "metadata": {},
   "source": [
    "<H1><a href=\"#clf_top\">^</a></H1><a id='clf_performance_confmtx'>"
   ]
  },
  {
   "cell_type": "markdown",
   "metadata": {},
   "source": [
    "### Confusion matrix\n",
    "https://en.wikipedia.org/wiki/Precision_and_recall"
   ]
  },
  {
   "cell_type": "code",
   "execution_count": 34,
   "metadata": {},
   "outputs": [],
   "source": [
    "# plot confusion matrix\n",
    "def plot_confusion_matrix(mtx, class_name):\n",
    "    '''\n",
    "    Present the confusion matrix as an image\n",
    "    '''\n",
    "    \n",
    "    # results\n",
    "    n_tp = mtx[1,1] # hit\n",
    "    n_tn = mtx[0,0] # corr reject\n",
    "    n_fp = mtx[0,1] # false alarm, Type I err\n",
    "    n_fn = mtx[1,0] # miss, Type II err\n",
    "    n_cp = sum(mtx[1,:]) # condition pos\n",
    "    n_cn = sum(mtx[0,:]) # condition neg\n",
    "    n_pp = sum(mtx[:,1]) # prediction pos\n",
    "    n_pn = sum(mtx[:,0]) # prediction negative\n",
    "    n_corr = n_tp + n_tn\n",
    "    n_wrong = n_fp + n_fn\n",
    "\n",
    "    plt.figure(figsize=[4,4])\n",
    "    # rotate axis to get true pos upper left\n",
    "    plt.xlim(left=1.5, right=-0.5)\n",
    "    plt.ylim(top=1.5, bottom=-0.5)\n",
    "    # prettify\n",
    "    plt.xlabel('Predicted', style='italic')\n",
    "    plt.ylabel('Real', style='italic')\n",
    "    plt.title('Confusion matrix\\n(n={})'.format(sum(mtx.ravel())), style='italic')\n",
    "    plt.xticks(ticks=[0,1], labels=['not a ' + class_name, class_name])\n",
    "    plt.yticks(ticks=[0,1], labels=['not a ' + class_name, class_name])\n",
    "\n",
    "    # plot image\n",
    "    im = plt.imshow(mtx, cmap='Blues_r')\n",
    "    \n",
    "    # add values\n",
    "    for ir, pred in enumerate(mtx):\n",
    "        for ic, n in enumerate(pred):\n",
    "            plt.text(ic, ir, str(n), va='center', ha='center', weight='bold')\n",
    "\n",
    "    # add summed values\n",
    "    plt.text(-0.5, -0.5, n_corr, va='top', ha='left', style='italic')\n",
    "    plt.text(-0.5, 1.5, n_wrong, va='bottom', ha='left', style='italic')\n",
    "    plt.text(0, -0.5, n_pn, va='bottom', ha='center', style='italic')\n",
    "    plt.text(1, -0.5, n_pp, va='bottom', ha='center', style='italic')\n",
    "    plt.text(-0.5, 0, n_cn, va='center', ha='right', style='italic')\n",
    "    plt.text(-0.5, 1, n_cp, va='center', ha='right', style='italic')\n",
    "\n",
    "    # other stats\n",
    "    recall = n_tp/n_cp # true pos rate\n",
    "    specificity = n_tn/n_cn # true neg rate\n",
    "    F1 = 2*(recall * specificity / (recall + specificity))\n",
    "    accu = n_corr / (n_corr + n_wrong)\n",
    "    bacc = (recall + specificity)/2\n",
    "    prec = n_tp/n_pp\n",
    "\n",
    "    \n",
    "    xy=[plt.gca().get_xlim()[1], plt.gca().get_ylim()[1]]\n",
    "    plt.text(xy[0]*1.2,xy[1],'\\n'.join([\n",
    "        'F1: {:.3f}', \n",
    "        'accuracy:{:.1%}',\n",
    "        'balanced acc.: {:.1%}',\n",
    "        'precision: {:.1%}',\n",
    "        'recall: {:.1%}',\n",
    "        'specificity: {:.1%}'\n",
    "    ]).format(F1, accu, bacc, prec, recall, specificity),\n",
    "             va='top', ha='left', style='italic'\n",
    "            )"
   ]
  },
  {
   "cell_type": "code",
   "execution_count": 35,
   "metadata": {
    "tags": [
     "remove_when_contains:image"
    ]
   },
   "outputs": [
    {
     "data": {
      "text/html": [
       "<div>\n",
       "<style scoped>\n",
       "    .dataframe tbody tr th:only-of-type {\n",
       "        vertical-align: middle;\n",
       "    }\n",
       "\n",
       "    .dataframe tbody tr th {\n",
       "        vertical-align: top;\n",
       "    }\n",
       "\n",
       "    .dataframe thead th {\n",
       "        text-align: right;\n",
       "    }\n",
       "</style>\n",
       "<table border=\"1\" class=\"dataframe\">\n",
       "  <thead>\n",
       "    <tr style=\"text-align: right;\">\n",
       "      <th></th>\n",
       "      <th>pred neg</th>\n",
       "      <th>pred pos</th>\n",
       "    </tr>\n",
       "  </thead>\n",
       "  <tbody>\n",
       "    <tr>\n",
       "      <th>real neg</th>\n",
       "      <td>1037</td>\n",
       "      <td>96</td>\n",
       "    </tr>\n",
       "    <tr>\n",
       "      <th>real pos</th>\n",
       "      <td>74</td>\n",
       "      <td>41</td>\n",
       "    </tr>\n",
       "  </tbody>\n",
       "</table>\n",
       "</div>"
      ],
      "text/plain": [
       "          pred neg  pred pos\n",
       "real neg      1037        96\n",
       "real pos        74        41"
      ]
     },
     "metadata": {},
     "output_type": "display_data"
    },
    {
     "name": "stdout",
     "output_type": "stream",
     "text": [
      "../results/confusion-matrix-binary_classifier_with_gradient_descent.png\n"
     ]
    },
    {
     "data": {
      "text/html": [
       "<div>\n",
       "<style scoped>\n",
       "    .dataframe tbody tr th:only-of-type {\n",
       "        vertical-align: middle;\n",
       "    }\n",
       "\n",
       "    .dataframe tbody tr th {\n",
       "        vertical-align: top;\n",
       "    }\n",
       "\n",
       "    .dataframe thead th {\n",
       "        text-align: right;\n",
       "    }\n",
       "</style>\n",
       "<table border=\"1\" class=\"dataframe\">\n",
       "  <thead>\n",
       "    <tr style=\"text-align: right;\">\n",
       "      <th></th>\n",
       "      <th>pred neg</th>\n",
       "      <th>pred pos</th>\n",
       "    </tr>\n",
       "  </thead>\n",
       "  <tbody>\n",
       "    <tr>\n",
       "      <th>real neg</th>\n",
       "      <td>1130</td>\n",
       "      <td>3</td>\n",
       "    </tr>\n",
       "    <tr>\n",
       "      <th>real pos</th>\n",
       "      <td>101</td>\n",
       "      <td>14</td>\n",
       "    </tr>\n",
       "  </tbody>\n",
       "</table>\n",
       "</div>"
      ],
      "text/plain": [
       "          pred neg  pred pos\n",
       "real neg      1130         3\n",
       "real pos       101        14"
      ]
     },
     "metadata": {},
     "output_type": "display_data"
    },
    {
     "name": "stdout",
     "output_type": "stream",
     "text": [
      "../results/confusion-matrix-random_forest.png\n"
     ]
    },
    {
     "data": {
      "text/html": [
       "<div>\n",
       "<style scoped>\n",
       "    .dataframe tbody tr th:only-of-type {\n",
       "        vertical-align: middle;\n",
       "    }\n",
       "\n",
       "    .dataframe tbody tr th {\n",
       "        vertical-align: top;\n",
       "    }\n",
       "\n",
       "    .dataframe thead th {\n",
       "        text-align: right;\n",
       "    }\n",
       "</style>\n",
       "<table border=\"1\" class=\"dataframe\">\n",
       "  <thead>\n",
       "    <tr style=\"text-align: right;\">\n",
       "      <th></th>\n",
       "      <th>pred neg</th>\n",
       "      <th>pred pos</th>\n",
       "    </tr>\n",
       "  </thead>\n",
       "  <tbody>\n",
       "    <tr>\n",
       "      <th>real neg</th>\n",
       "      <td>1242</td>\n",
       "      <td>0</td>\n",
       "    </tr>\n",
       "    <tr>\n",
       "      <th>real pos</th>\n",
       "      <td>2</td>\n",
       "      <td>4</td>\n",
       "    </tr>\n",
       "  </tbody>\n",
       "</table>\n",
       "</div>"
      ],
      "text/plain": [
       "          pred neg  pred pos\n",
       "real neg      1242         0\n",
       "real pos         2         4"
      ]
     },
     "metadata": {},
     "output_type": "display_data"
    },
    {
     "data": {
      "text/html": [
       "<div>\n",
       "<style scoped>\n",
       "    .dataframe tbody tr th:only-of-type {\n",
       "        vertical-align: middle;\n",
       "    }\n",
       "\n",
       "    .dataframe tbody tr th {\n",
       "        vertical-align: top;\n",
       "    }\n",
       "\n",
       "    .dataframe thead th {\n",
       "        text-align: right;\n",
       "    }\n",
       "</style>\n",
       "<table border=\"1\" class=\"dataframe\">\n",
       "  <thead>\n",
       "    <tr style=\"text-align: right;\">\n",
       "      <th></th>\n",
       "      <th>pred neg</th>\n",
       "      <th>pred pos</th>\n",
       "    </tr>\n",
       "  </thead>\n",
       "  <tbody>\n",
       "    <tr>\n",
       "      <th>real neg</th>\n",
       "      <td>1246</td>\n",
       "      <td>0</td>\n",
       "    </tr>\n",
       "    <tr>\n",
       "      <th>real pos</th>\n",
       "      <td>1</td>\n",
       "      <td>1</td>\n",
       "    </tr>\n",
       "  </tbody>\n",
       "</table>\n",
       "</div>"
      ],
      "text/plain": [
       "          pred neg  pred pos\n",
       "real neg      1246         0\n",
       "real pos         1         1"
      ]
     },
     "metadata": {},
     "output_type": "display_data"
    },
    {
     "data": {
      "text/html": [
       "<div>\n",
       "<style scoped>\n",
       "    .dataframe tbody tr th:only-of-type {\n",
       "        vertical-align: middle;\n",
       "    }\n",
       "\n",
       "    .dataframe tbody tr th {\n",
       "        vertical-align: top;\n",
       "    }\n",
       "\n",
       "    .dataframe thead th {\n",
       "        text-align: right;\n",
       "    }\n",
       "</style>\n",
       "<table border=\"1\" class=\"dataframe\">\n",
       "  <thead>\n",
       "    <tr style=\"text-align: right;\">\n",
       "      <th></th>\n",
       "      <th>pred neg</th>\n",
       "      <th>pred pos</th>\n",
       "    </tr>\n",
       "  </thead>\n",
       "  <tbody>\n",
       "    <tr>\n",
       "      <th>real neg</th>\n",
       "      <td>1129</td>\n",
       "      <td>4</td>\n",
       "    </tr>\n",
       "    <tr>\n",
       "      <th>real pos</th>\n",
       "      <td>50</td>\n",
       "      <td>65</td>\n",
       "    </tr>\n",
       "  </tbody>\n",
       "</table>\n",
       "</div>"
      ],
      "text/plain": [
       "          pred neg  pred pos\n",
       "real neg      1129         4\n",
       "real pos        50        65"
      ]
     },
     "metadata": {},
     "output_type": "display_data"
    },
    {
     "name": "stdout",
     "output_type": "stream",
     "text": [
      "../results/confusion-matrix-gradient_descent_multiclass.png\n"
     ]
    },
    {
     "data": {
      "text/html": [
       "<div>\n",
       "<style scoped>\n",
       "    .dataframe tbody tr th:only-of-type {\n",
       "        vertical-align: middle;\n",
       "    }\n",
       "\n",
       "    .dataframe tbody tr th {\n",
       "        vertical-align: top;\n",
       "    }\n",
       "\n",
       "    .dataframe thead th {\n",
       "        text-align: right;\n",
       "    }\n",
       "</style>\n",
       "<table border=\"1\" class=\"dataframe\">\n",
       "  <thead>\n",
       "    <tr style=\"text-align: right;\">\n",
       "      <th></th>\n",
       "      <th>pred neg</th>\n",
       "      <th>pred pos</th>\n",
       "    </tr>\n",
       "  </thead>\n",
       "  <tbody>\n",
       "    <tr>\n",
       "      <th>real neg</th>\n",
       "      <td>1247</td>\n",
       "      <td>0</td>\n",
       "    </tr>\n",
       "    <tr>\n",
       "      <th>real pos</th>\n",
       "      <td>1</td>\n",
       "      <td>0</td>\n",
       "    </tr>\n",
       "  </tbody>\n",
       "</table>\n",
       "</div>"
      ],
      "text/plain": [
       "          pred neg  pred pos\n",
       "real neg      1247         0\n",
       "real pos         1         0"
      ]
     },
     "metadata": {},
     "output_type": "display_data"
    },
    {
     "name": "stderr",
     "output_type": "stream",
     "text": [
      "<ipython-input-34-d7d800bae419>:52: RuntimeWarning: invalid value encountered in long_scalars\n",
      "  prec = n_tp/n_pp\n"
     ]
    },
    {
     "data": {
      "text/html": [
       "<div>\n",
       "<style scoped>\n",
       "    .dataframe tbody tr th:only-of-type {\n",
       "        vertical-align: middle;\n",
       "    }\n",
       "\n",
       "    .dataframe tbody tr th {\n",
       "        vertical-align: top;\n",
       "    }\n",
       "\n",
       "    .dataframe thead th {\n",
       "        text-align: right;\n",
       "    }\n",
       "</style>\n",
       "<table border=\"1\" class=\"dataframe\">\n",
       "  <thead>\n",
       "    <tr style=\"text-align: right;\">\n",
       "      <th></th>\n",
       "      <th>pred neg</th>\n",
       "      <th>pred pos</th>\n",
       "    </tr>\n",
       "  </thead>\n",
       "  <tbody>\n",
       "    <tr>\n",
       "      <th>real neg</th>\n",
       "      <td>1246</td>\n",
       "      <td>0</td>\n",
       "    </tr>\n",
       "    <tr>\n",
       "      <th>real pos</th>\n",
       "      <td>1</td>\n",
       "      <td>1</td>\n",
       "    </tr>\n",
       "  </tbody>\n",
       "</table>\n",
       "</div>"
      ],
      "text/plain": [
       "          pred neg  pred pos\n",
       "real neg      1246         0\n",
       "real pos         1         1"
      ]
     },
     "metadata": {},
     "output_type": "display_data"
    },
    {
     "data": {
      "text/html": [
       "<div>\n",
       "<style scoped>\n",
       "    .dataframe tbody tr th:only-of-type {\n",
       "        vertical-align: middle;\n",
       "    }\n",
       "\n",
       "    .dataframe tbody tr th {\n",
       "        vertical-align: top;\n",
       "    }\n",
       "\n",
       "    .dataframe thead th {\n",
       "        text-align: right;\n",
       "    }\n",
       "</style>\n",
       "<table border=\"1\" class=\"dataframe\">\n",
       "  <thead>\n",
       "    <tr style=\"text-align: right;\">\n",
       "      <th></th>\n",
       "      <th>pred neg</th>\n",
       "      <th>pred pos</th>\n",
       "    </tr>\n",
       "  </thead>\n",
       "  <tbody>\n",
       "    <tr>\n",
       "      <th>real neg</th>\n",
       "      <td>1099</td>\n",
       "      <td>52</td>\n",
       "    </tr>\n",
       "    <tr>\n",
       "      <th>real pos</th>\n",
       "      <td>15</td>\n",
       "      <td>82</td>\n",
       "    </tr>\n",
       "  </tbody>\n",
       "</table>\n",
       "</div>"
      ],
      "text/plain": [
       "          pred neg  pred pos\n",
       "real neg      1099        52\n",
       "real pos        15        82"
      ]
     },
     "metadata": {},
     "output_type": "display_data"
    },
    {
     "name": "stdout",
     "output_type": "stream",
     "text": [
      "[[1248]]\n"
     ]
    },
    {
     "data": {
      "text/html": [
       "<div>\n",
       "<style scoped>\n",
       "    .dataframe tbody tr th:only-of-type {\n",
       "        vertical-align: middle;\n",
       "    }\n",
       "\n",
       "    .dataframe tbody tr th {\n",
       "        vertical-align: top;\n",
       "    }\n",
       "\n",
       "    .dataframe thead th {\n",
       "        text-align: right;\n",
       "    }\n",
       "</style>\n",
       "<table border=\"1\" class=\"dataframe\">\n",
       "  <thead>\n",
       "    <tr style=\"text-align: right;\">\n",
       "      <th></th>\n",
       "      <th>pred neg</th>\n",
       "      <th>pred pos</th>\n",
       "    </tr>\n",
       "  </thead>\n",
       "  <tbody>\n",
       "    <tr>\n",
       "      <th>real neg</th>\n",
       "      <td>1247</td>\n",
       "      <td>0</td>\n",
       "    </tr>\n",
       "    <tr>\n",
       "      <th>real pos</th>\n",
       "      <td>1</td>\n",
       "      <td>0</td>\n",
       "    </tr>\n",
       "  </tbody>\n",
       "</table>\n",
       "</div>"
      ],
      "text/plain": [
       "          pred neg  pred pos\n",
       "real neg      1247         0\n",
       "real pos         1         0"
      ]
     },
     "metadata": {},
     "output_type": "display_data"
    },
    {
     "name": "stderr",
     "output_type": "stream",
     "text": [
      "<ipython-input-34-d7d800bae419>:52: RuntimeWarning: invalid value encountered in long_scalars\n",
      "  prec = n_tp/n_pp\n"
     ]
    },
    {
     "data": {
      "text/html": [
       "<div>\n",
       "<style scoped>\n",
       "    .dataframe tbody tr th:only-of-type {\n",
       "        vertical-align: middle;\n",
       "    }\n",
       "\n",
       "    .dataframe tbody tr th {\n",
       "        vertical-align: top;\n",
       "    }\n",
       "\n",
       "    .dataframe thead th {\n",
       "        text-align: right;\n",
       "    }\n",
       "</style>\n",
       "<table border=\"1\" class=\"dataframe\">\n",
       "  <thead>\n",
       "    <tr style=\"text-align: right;\">\n",
       "      <th></th>\n",
       "      <th>pred neg</th>\n",
       "      <th>pred pos</th>\n",
       "    </tr>\n",
       "  </thead>\n",
       "  <tbody>\n",
       "    <tr>\n",
       "      <th>real neg</th>\n",
       "      <td>1241</td>\n",
       "      <td>2</td>\n",
       "    </tr>\n",
       "    <tr>\n",
       "      <th>real pos</th>\n",
       "      <td>0</td>\n",
       "      <td>5</td>\n",
       "    </tr>\n",
       "  </tbody>\n",
       "</table>\n",
       "</div>"
      ],
      "text/plain": [
       "          pred neg  pred pos\n",
       "real neg      1241         2\n",
       "real pos         0         5"
      ]
     },
     "metadata": {},
     "output_type": "display_data"
    },
    {
     "name": "stdout",
     "output_type": "stream",
     "text": [
      "[[1248]]\n"
     ]
    },
    {
     "data": {
      "text/html": [
       "<div>\n",
       "<style scoped>\n",
       "    .dataframe tbody tr th:only-of-type {\n",
       "        vertical-align: middle;\n",
       "    }\n",
       "\n",
       "    .dataframe tbody tr th {\n",
       "        vertical-align: top;\n",
       "    }\n",
       "\n",
       "    .dataframe thead th {\n",
       "        text-align: right;\n",
       "    }\n",
       "</style>\n",
       "<table border=\"1\" class=\"dataframe\">\n",
       "  <thead>\n",
       "    <tr style=\"text-align: right;\">\n",
       "      <th></th>\n",
       "      <th>pred neg</th>\n",
       "      <th>pred pos</th>\n",
       "    </tr>\n",
       "  </thead>\n",
       "  <tbody>\n",
       "    <tr>\n",
       "      <th>real neg</th>\n",
       "      <td>1247</td>\n",
       "      <td>0</td>\n",
       "    </tr>\n",
       "    <tr>\n",
       "      <th>real pos</th>\n",
       "      <td>0</td>\n",
       "      <td>1</td>\n",
       "    </tr>\n",
       "  </tbody>\n",
       "</table>\n",
       "</div>"
      ],
      "text/plain": [
       "          pred neg  pred pos\n",
       "real neg      1247         0\n",
       "real pos         0         1"
      ]
     },
     "metadata": {},
     "output_type": "display_data"
    },
    {
     "data": {
      "text/html": [
       "<div>\n",
       "<style scoped>\n",
       "    .dataframe tbody tr th:only-of-type {\n",
       "        vertical-align: middle;\n",
       "    }\n",
       "\n",
       "    .dataframe tbody tr th {\n",
       "        vertical-align: top;\n",
       "    }\n",
       "\n",
       "    .dataframe thead th {\n",
       "        text-align: right;\n",
       "    }\n",
       "</style>\n",
       "<table border=\"1\" class=\"dataframe\">\n",
       "  <thead>\n",
       "    <tr style=\"text-align: right;\">\n",
       "      <th></th>\n",
       "      <th>pred neg</th>\n",
       "      <th>pred pos</th>\n",
       "    </tr>\n",
       "  </thead>\n",
       "  <tbody>\n",
       "    <tr>\n",
       "      <th>real neg</th>\n",
       "      <td>1191</td>\n",
       "      <td>22</td>\n",
       "    </tr>\n",
       "    <tr>\n",
       "      <th>real pos</th>\n",
       "      <td>7</td>\n",
       "      <td>28</td>\n",
       "    </tr>\n",
       "  </tbody>\n",
       "</table>\n",
       "</div>"
      ],
      "text/plain": [
       "          pred neg  pred pos\n",
       "real neg      1191        22\n",
       "real pos         7        28"
      ]
     },
     "metadata": {},
     "output_type": "display_data"
    },
    {
     "data": {
      "text/html": [
       "<div>\n",
       "<style scoped>\n",
       "    .dataframe tbody tr th:only-of-type {\n",
       "        vertical-align: middle;\n",
       "    }\n",
       "\n",
       "    .dataframe tbody tr th {\n",
       "        vertical-align: top;\n",
       "    }\n",
       "\n",
       "    .dataframe thead th {\n",
       "        text-align: right;\n",
       "    }\n",
       "</style>\n",
       "<table border=\"1\" class=\"dataframe\">\n",
       "  <thead>\n",
       "    <tr style=\"text-align: right;\">\n",
       "      <th></th>\n",
       "      <th>pred neg</th>\n",
       "      <th>pred pos</th>\n",
       "    </tr>\n",
       "  </thead>\n",
       "  <tbody>\n",
       "    <tr>\n",
       "      <th>real neg</th>\n",
       "      <td>1246</td>\n",
       "      <td>0</td>\n",
       "    </tr>\n",
       "    <tr>\n",
       "      <th>real pos</th>\n",
       "      <td>1</td>\n",
       "      <td>1</td>\n",
       "    </tr>\n",
       "  </tbody>\n",
       "</table>\n",
       "</div>"
      ],
      "text/plain": [
       "          pred neg  pred pos\n",
       "real neg      1246         0\n",
       "real pos         1         1"
      ]
     },
     "metadata": {},
     "output_type": "display_data"
    },
    {
     "data": {
      "text/html": [
       "<div>\n",
       "<style scoped>\n",
       "    .dataframe tbody tr th:only-of-type {\n",
       "        vertical-align: middle;\n",
       "    }\n",
       "\n",
       "    .dataframe tbody tr th {\n",
       "        vertical-align: top;\n",
       "    }\n",
       "\n",
       "    .dataframe thead th {\n",
       "        text-align: right;\n",
       "    }\n",
       "</style>\n",
       "<table border=\"1\" class=\"dataframe\">\n",
       "  <thead>\n",
       "    <tr style=\"text-align: right;\">\n",
       "      <th></th>\n",
       "      <th>pred neg</th>\n",
       "      <th>pred pos</th>\n",
       "    </tr>\n",
       "  </thead>\n",
       "  <tbody>\n",
       "    <tr>\n",
       "      <th>real neg</th>\n",
       "      <td>1242</td>\n",
       "      <td>0</td>\n",
       "    </tr>\n",
       "    <tr>\n",
       "      <th>real pos</th>\n",
       "      <td>2</td>\n",
       "      <td>4</td>\n",
       "    </tr>\n",
       "  </tbody>\n",
       "</table>\n",
       "</div>"
      ],
      "text/plain": [
       "          pred neg  pred pos\n",
       "real neg      1242         0\n",
       "real pos         2         4"
      ]
     },
     "metadata": {},
     "output_type": "display_data"
    },
    {
     "name": "stdout",
     "output_type": "stream",
     "text": [
      "[[1248]]\n"
     ]
    },
    {
     "data": {
      "text/html": [
       "<div>\n",
       "<style scoped>\n",
       "    .dataframe tbody tr th:only-of-type {\n",
       "        vertical-align: middle;\n",
       "    }\n",
       "\n",
       "    .dataframe tbody tr th {\n",
       "        vertical-align: top;\n",
       "    }\n",
       "\n",
       "    .dataframe thead th {\n",
       "        text-align: right;\n",
       "    }\n",
       "</style>\n",
       "<table border=\"1\" class=\"dataframe\">\n",
       "  <thead>\n",
       "    <tr style=\"text-align: right;\">\n",
       "      <th></th>\n",
       "      <th>pred neg</th>\n",
       "      <th>pred pos</th>\n",
       "    </tr>\n",
       "  </thead>\n",
       "  <tbody>\n",
       "    <tr>\n",
       "      <th>real neg</th>\n",
       "      <td>1244</td>\n",
       "      <td>0</td>\n",
       "    </tr>\n",
       "    <tr>\n",
       "      <th>real pos</th>\n",
       "      <td>4</td>\n",
       "      <td>0</td>\n",
       "    </tr>\n",
       "  </tbody>\n",
       "</table>\n",
       "</div>"
      ],
      "text/plain": [
       "          pred neg  pred pos\n",
       "real neg      1244         0\n",
       "real pos         4         0"
      ]
     },
     "metadata": {},
     "output_type": "display_data"
    },
    {
     "name": "stdout",
     "output_type": "stream",
     "text": [
      "[[1248]]\n"
     ]
    },
    {
     "name": "stderr",
     "output_type": "stream",
     "text": [
      "<ipython-input-34-d7d800bae419>:52: RuntimeWarning: invalid value encountered in long_scalars\n",
      "  prec = n_tp/n_pp\n"
     ]
    },
    {
     "data": {
      "text/html": [
       "<div>\n",
       "<style scoped>\n",
       "    .dataframe tbody tr th:only-of-type {\n",
       "        vertical-align: middle;\n",
       "    }\n",
       "\n",
       "    .dataframe tbody tr th {\n",
       "        vertical-align: top;\n",
       "    }\n",
       "\n",
       "    .dataframe thead th {\n",
       "        text-align: right;\n",
       "    }\n",
       "</style>\n",
       "<table border=\"1\" class=\"dataframe\">\n",
       "  <thead>\n",
       "    <tr style=\"text-align: right;\">\n",
       "      <th></th>\n",
       "      <th>pred neg</th>\n",
       "      <th>pred pos</th>\n",
       "    </tr>\n",
       "  </thead>\n",
       "  <tbody>\n",
       "    <tr>\n",
       "      <th>real neg</th>\n",
       "      <td>1247</td>\n",
       "      <td>0</td>\n",
       "    </tr>\n",
       "    <tr>\n",
       "      <th>real pos</th>\n",
       "      <td>1</td>\n",
       "      <td>0</td>\n",
       "    </tr>\n",
       "  </tbody>\n",
       "</table>\n",
       "</div>"
      ],
      "text/plain": [
       "          pred neg  pred pos\n",
       "real neg      1247         0\n",
       "real pos         1         0"
      ]
     },
     "metadata": {},
     "output_type": "display_data"
    },
    {
     "name": "stdout",
     "output_type": "stream",
     "text": [
      "[[1248]]\n"
     ]
    },
    {
     "name": "stderr",
     "output_type": "stream",
     "text": [
      "<ipython-input-34-d7d800bae419>:52: RuntimeWarning: invalid value encountered in long_scalars\n",
      "  prec = n_tp/n_pp\n"
     ]
    },
    {
     "data": {
      "text/html": [
       "<div>\n",
       "<style scoped>\n",
       "    .dataframe tbody tr th:only-of-type {\n",
       "        vertical-align: middle;\n",
       "    }\n",
       "\n",
       "    .dataframe tbody tr th {\n",
       "        vertical-align: top;\n",
       "    }\n",
       "\n",
       "    .dataframe thead th {\n",
       "        text-align: right;\n",
       "    }\n",
       "</style>\n",
       "<table border=\"1\" class=\"dataframe\">\n",
       "  <thead>\n",
       "    <tr style=\"text-align: right;\">\n",
       "      <th></th>\n",
       "      <th>pred neg</th>\n",
       "      <th>pred pos</th>\n",
       "    </tr>\n",
       "  </thead>\n",
       "  <tbody>\n",
       "    <tr>\n",
       "      <th>real neg</th>\n",
       "      <td>1245</td>\n",
       "      <td>0</td>\n",
       "    </tr>\n",
       "    <tr>\n",
       "      <th>real pos</th>\n",
       "      <td>0</td>\n",
       "      <td>3</td>\n",
       "    </tr>\n",
       "  </tbody>\n",
       "</table>\n",
       "</div>"
      ],
      "text/plain": [
       "          pred neg  pred pos\n",
       "real neg      1245         0\n",
       "real pos         0         3"
      ]
     },
     "metadata": {},
     "output_type": "display_data"
    },
    {
     "data": {
      "text/html": [
       "<div>\n",
       "<style scoped>\n",
       "    .dataframe tbody tr th:only-of-type {\n",
       "        vertical-align: middle;\n",
       "    }\n",
       "\n",
       "    .dataframe tbody tr th {\n",
       "        vertical-align: top;\n",
       "    }\n",
       "\n",
       "    .dataframe thead th {\n",
       "        text-align: right;\n",
       "    }\n",
       "</style>\n",
       "<table border=\"1\" class=\"dataframe\">\n",
       "  <thead>\n",
       "    <tr style=\"text-align: right;\">\n",
       "      <th></th>\n",
       "      <th>pred neg</th>\n",
       "      <th>pred pos</th>\n",
       "    </tr>\n",
       "  </thead>\n",
       "  <tbody>\n",
       "    <tr>\n",
       "      <th>real neg</th>\n",
       "      <td>1191</td>\n",
       "      <td>13</td>\n",
       "    </tr>\n",
       "    <tr>\n",
       "      <th>real pos</th>\n",
       "      <td>9</td>\n",
       "      <td>35</td>\n",
       "    </tr>\n",
       "  </tbody>\n",
       "</table>\n",
       "</div>"
      ],
      "text/plain": [
       "          pred neg  pred pos\n",
       "real neg      1191        13\n",
       "real pos         9        35"
      ]
     },
     "metadata": {},
     "output_type": "display_data"
    },
    {
     "data": {
      "text/html": [
       "<div>\n",
       "<style scoped>\n",
       "    .dataframe tbody tr th:only-of-type {\n",
       "        vertical-align: middle;\n",
       "    }\n",
       "\n",
       "    .dataframe tbody tr th {\n",
       "        vertical-align: top;\n",
       "    }\n",
       "\n",
       "    .dataframe thead th {\n",
       "        text-align: right;\n",
       "    }\n",
       "</style>\n",
       "<table border=\"1\" class=\"dataframe\">\n",
       "  <thead>\n",
       "    <tr style=\"text-align: right;\">\n",
       "      <th></th>\n",
       "      <th>pred neg</th>\n",
       "      <th>pred pos</th>\n",
       "    </tr>\n",
       "  </thead>\n",
       "  <tbody>\n",
       "    <tr>\n",
       "      <th>real neg</th>\n",
       "      <td>1192</td>\n",
       "      <td>6</td>\n",
       "    </tr>\n",
       "    <tr>\n",
       "      <th>real pos</th>\n",
       "      <td>16</td>\n",
       "      <td>34</td>\n",
       "    </tr>\n",
       "  </tbody>\n",
       "</table>\n",
       "</div>"
      ],
      "text/plain": [
       "          pred neg  pred pos\n",
       "real neg      1192         6\n",
       "real pos        16        34"
      ]
     },
     "metadata": {},
     "output_type": "display_data"
    },
    {
     "data": {
      "text/html": [
       "<div>\n",
       "<style scoped>\n",
       "    .dataframe tbody tr th:only-of-type {\n",
       "        vertical-align: middle;\n",
       "    }\n",
       "\n",
       "    .dataframe tbody tr th {\n",
       "        vertical-align: top;\n",
       "    }\n",
       "\n",
       "    .dataframe thead th {\n",
       "        text-align: right;\n",
       "    }\n",
       "</style>\n",
       "<table border=\"1\" class=\"dataframe\">\n",
       "  <thead>\n",
       "    <tr style=\"text-align: right;\">\n",
       "      <th></th>\n",
       "      <th>pred neg</th>\n",
       "      <th>pred pos</th>\n",
       "    </tr>\n",
       "  </thead>\n",
       "  <tbody>\n",
       "    <tr>\n",
       "      <th>real neg</th>\n",
       "      <td>1247</td>\n",
       "      <td>0</td>\n",
       "    </tr>\n",
       "    <tr>\n",
       "      <th>real pos</th>\n",
       "      <td>1</td>\n",
       "      <td>0</td>\n",
       "    </tr>\n",
       "  </tbody>\n",
       "</table>\n",
       "</div>"
      ],
      "text/plain": [
       "          pred neg  pred pos\n",
       "real neg      1247         0\n",
       "real pos         1         0"
      ]
     },
     "metadata": {},
     "output_type": "display_data"
    },
    {
     "name": "stderr",
     "output_type": "stream",
     "text": [
      "<ipython-input-34-d7d800bae419>:52: RuntimeWarning: invalid value encountered in long_scalars\n",
      "  prec = n_tp/n_pp\n"
     ]
    },
    {
     "data": {
      "text/html": [
       "<div>\n",
       "<style scoped>\n",
       "    .dataframe tbody tr th:only-of-type {\n",
       "        vertical-align: middle;\n",
       "    }\n",
       "\n",
       "    .dataframe tbody tr th {\n",
       "        vertical-align: top;\n",
       "    }\n",
       "\n",
       "    .dataframe thead th {\n",
       "        text-align: right;\n",
       "    }\n",
       "</style>\n",
       "<table border=\"1\" class=\"dataframe\">\n",
       "  <thead>\n",
       "    <tr style=\"text-align: right;\">\n",
       "      <th></th>\n",
       "      <th>pred neg</th>\n",
       "      <th>pred pos</th>\n",
       "    </tr>\n",
       "  </thead>\n",
       "  <tbody>\n",
       "    <tr>\n",
       "      <th>real neg</th>\n",
       "      <td>1239</td>\n",
       "      <td>0</td>\n",
       "    </tr>\n",
       "    <tr>\n",
       "      <th>real pos</th>\n",
       "      <td>4</td>\n",
       "      <td>5</td>\n",
       "    </tr>\n",
       "  </tbody>\n",
       "</table>\n",
       "</div>"
      ],
      "text/plain": [
       "          pred neg  pred pos\n",
       "real neg      1239         0\n",
       "real pos         4         5"
      ]
     },
     "metadata": {},
     "output_type": "display_data"
    },
    {
     "data": {
      "text/html": [
       "<div>\n",
       "<style scoped>\n",
       "    .dataframe tbody tr th:only-of-type {\n",
       "        vertical-align: middle;\n",
       "    }\n",
       "\n",
       "    .dataframe tbody tr th {\n",
       "        vertical-align: top;\n",
       "    }\n",
       "\n",
       "    .dataframe thead th {\n",
       "        text-align: right;\n",
       "    }\n",
       "</style>\n",
       "<table border=\"1\" class=\"dataframe\">\n",
       "  <thead>\n",
       "    <tr style=\"text-align: right;\">\n",
       "      <th></th>\n",
       "      <th>pred neg</th>\n",
       "      <th>pred pos</th>\n",
       "    </tr>\n",
       "  </thead>\n",
       "  <tbody>\n",
       "    <tr>\n",
       "      <th>real neg</th>\n",
       "      <td>1233</td>\n",
       "      <td>3</td>\n",
       "    </tr>\n",
       "    <tr>\n",
       "      <th>real pos</th>\n",
       "      <td>3</td>\n",
       "      <td>9</td>\n",
       "    </tr>\n",
       "  </tbody>\n",
       "</table>\n",
       "</div>"
      ],
      "text/plain": [
       "          pred neg  pred pos\n",
       "real neg      1233         3\n",
       "real pos         3         9"
      ]
     },
     "metadata": {},
     "output_type": "display_data"
    },
    {
     "data": {
      "text/html": [
       "<div>\n",
       "<style scoped>\n",
       "    .dataframe tbody tr th:only-of-type {\n",
       "        vertical-align: middle;\n",
       "    }\n",
       "\n",
       "    .dataframe tbody tr th {\n",
       "        vertical-align: top;\n",
       "    }\n",
       "\n",
       "    .dataframe thead th {\n",
       "        text-align: right;\n",
       "    }\n",
       "</style>\n",
       "<table border=\"1\" class=\"dataframe\">\n",
       "  <thead>\n",
       "    <tr style=\"text-align: right;\">\n",
       "      <th></th>\n",
       "      <th>pred neg</th>\n",
       "      <th>pred pos</th>\n",
       "    </tr>\n",
       "  </thead>\n",
       "  <tbody>\n",
       "    <tr>\n",
       "      <th>real neg</th>\n",
       "      <td>1246</td>\n",
       "      <td>1</td>\n",
       "    </tr>\n",
       "    <tr>\n",
       "      <th>real pos</th>\n",
       "      <td>1</td>\n",
       "      <td>0</td>\n",
       "    </tr>\n",
       "  </tbody>\n",
       "</table>\n",
       "</div>"
      ],
      "text/plain": [
       "          pred neg  pred pos\n",
       "real neg      1246         1\n",
       "real pos         1         0"
      ]
     },
     "metadata": {},
     "output_type": "display_data"
    },
    {
     "data": {
      "text/html": [
       "<div>\n",
       "<style scoped>\n",
       "    .dataframe tbody tr th:only-of-type {\n",
       "        vertical-align: middle;\n",
       "    }\n",
       "\n",
       "    .dataframe tbody tr th {\n",
       "        vertical-align: top;\n",
       "    }\n",
       "\n",
       "    .dataframe thead th {\n",
       "        text-align: right;\n",
       "    }\n",
       "</style>\n",
       "<table border=\"1\" class=\"dataframe\">\n",
       "  <thead>\n",
       "    <tr style=\"text-align: right;\">\n",
       "      <th></th>\n",
       "      <th>pred neg</th>\n",
       "      <th>pred pos</th>\n",
       "    </tr>\n",
       "  </thead>\n",
       "  <tbody>\n",
       "    <tr>\n",
       "      <th>real neg</th>\n",
       "      <td>1241</td>\n",
       "      <td>0</td>\n",
       "    </tr>\n",
       "    <tr>\n",
       "      <th>real pos</th>\n",
       "      <td>0</td>\n",
       "      <td>7</td>\n",
       "    </tr>\n",
       "  </tbody>\n",
       "</table>\n",
       "</div>"
      ],
      "text/plain": [
       "          pred neg  pred pos\n",
       "real neg      1241         0\n",
       "real pos         0         7"
      ]
     },
     "metadata": {},
     "output_type": "display_data"
    },
    {
     "name": "stdout",
     "output_type": "stream",
     "text": [
      "[[1248]]\n"
     ]
    },
    {
     "data": {
      "text/html": [
       "<div>\n",
       "<style scoped>\n",
       "    .dataframe tbody tr th:only-of-type {\n",
       "        vertical-align: middle;\n",
       "    }\n",
       "\n",
       "    .dataframe tbody tr th {\n",
       "        vertical-align: top;\n",
       "    }\n",
       "\n",
       "    .dataframe thead th {\n",
       "        text-align: right;\n",
       "    }\n",
       "</style>\n",
       "<table border=\"1\" class=\"dataframe\">\n",
       "  <thead>\n",
       "    <tr style=\"text-align: right;\">\n",
       "      <th></th>\n",
       "      <th>pred neg</th>\n",
       "      <th>pred pos</th>\n",
       "    </tr>\n",
       "  </thead>\n",
       "  <tbody>\n",
       "    <tr>\n",
       "      <th>real neg</th>\n",
       "      <td>1244</td>\n",
       "      <td>1</td>\n",
       "    </tr>\n",
       "    <tr>\n",
       "      <th>real pos</th>\n",
       "      <td>0</td>\n",
       "      <td>3</td>\n",
       "    </tr>\n",
       "  </tbody>\n",
       "</table>\n",
       "</div>"
      ],
      "text/plain": [
       "          pred neg  pred pos\n",
       "real neg      1244         1\n",
       "real pos         0         3"
      ]
     },
     "metadata": {},
     "output_type": "display_data"
    },
    {
     "data": {
      "text/html": [
       "<div>\n",
       "<style scoped>\n",
       "    .dataframe tbody tr th:only-of-type {\n",
       "        vertical-align: middle;\n",
       "    }\n",
       "\n",
       "    .dataframe tbody tr th {\n",
       "        vertical-align: top;\n",
       "    }\n",
       "\n",
       "    .dataframe thead th {\n",
       "        text-align: right;\n",
       "    }\n",
       "</style>\n",
       "<table border=\"1\" class=\"dataframe\">\n",
       "  <thead>\n",
       "    <tr style=\"text-align: right;\">\n",
       "      <th></th>\n",
       "      <th>pred neg</th>\n",
       "      <th>pred pos</th>\n",
       "    </tr>\n",
       "  </thead>\n",
       "  <tbody>\n",
       "    <tr>\n",
       "      <th>real neg</th>\n",
       "      <td>1233</td>\n",
       "      <td>3</td>\n",
       "    </tr>\n",
       "    <tr>\n",
       "      <th>real pos</th>\n",
       "      <td>4</td>\n",
       "      <td>8</td>\n",
       "    </tr>\n",
       "  </tbody>\n",
       "</table>\n",
       "</div>"
      ],
      "text/plain": [
       "          pred neg  pred pos\n",
       "real neg      1233         3\n",
       "real pos         4         8"
      ]
     },
     "metadata": {},
     "output_type": "display_data"
    },
    {
     "name": "stdout",
     "output_type": "stream",
     "text": [
      "[[1248]]\n"
     ]
    },
    {
     "data": {
      "text/html": [
       "<div>\n",
       "<style scoped>\n",
       "    .dataframe tbody tr th:only-of-type {\n",
       "        vertical-align: middle;\n",
       "    }\n",
       "\n",
       "    .dataframe tbody tr th {\n",
       "        vertical-align: top;\n",
       "    }\n",
       "\n",
       "    .dataframe thead th {\n",
       "        text-align: right;\n",
       "    }\n",
       "</style>\n",
       "<table border=\"1\" class=\"dataframe\">\n",
       "  <thead>\n",
       "    <tr style=\"text-align: right;\">\n",
       "      <th></th>\n",
       "      <th>pred neg</th>\n",
       "      <th>pred pos</th>\n",
       "    </tr>\n",
       "  </thead>\n",
       "  <tbody>\n",
       "    <tr>\n",
       "      <th>real neg</th>\n",
       "      <td>1246</td>\n",
       "      <td>0</td>\n",
       "    </tr>\n",
       "    <tr>\n",
       "      <th>real pos</th>\n",
       "      <td>1</td>\n",
       "      <td>1</td>\n",
       "    </tr>\n",
       "  </tbody>\n",
       "</table>\n",
       "</div>"
      ],
      "text/plain": [
       "          pred neg  pred pos\n",
       "real neg      1246         0\n",
       "real pos         1         1"
      ]
     },
     "metadata": {},
     "output_type": "display_data"
    },
    {
     "data": {
      "text/html": [
       "<div>\n",
       "<style scoped>\n",
       "    .dataframe tbody tr th:only-of-type {\n",
       "        vertical-align: middle;\n",
       "    }\n",
       "\n",
       "    .dataframe tbody tr th {\n",
       "        vertical-align: top;\n",
       "    }\n",
       "\n",
       "    .dataframe thead th {\n",
       "        text-align: right;\n",
       "    }\n",
       "</style>\n",
       "<table border=\"1\" class=\"dataframe\">\n",
       "  <thead>\n",
       "    <tr style=\"text-align: right;\">\n",
       "      <th></th>\n",
       "      <th>pred neg</th>\n",
       "      <th>pred pos</th>\n",
       "    </tr>\n",
       "  </thead>\n",
       "  <tbody>\n",
       "    <tr>\n",
       "      <th>real neg</th>\n",
       "      <td>1224</td>\n",
       "      <td>2</td>\n",
       "    </tr>\n",
       "    <tr>\n",
       "      <th>real pos</th>\n",
       "      <td>5</td>\n",
       "      <td>17</td>\n",
       "    </tr>\n",
       "  </tbody>\n",
       "</table>\n",
       "</div>"
      ],
      "text/plain": [
       "          pred neg  pred pos\n",
       "real neg      1224         2\n",
       "real pos         5        17"
      ]
     },
     "metadata": {},
     "output_type": "display_data"
    },
    {
     "data": {
      "text/html": [
       "<div>\n",
       "<style scoped>\n",
       "    .dataframe tbody tr th:only-of-type {\n",
       "        vertical-align: middle;\n",
       "    }\n",
       "\n",
       "    .dataframe tbody tr th {\n",
       "        vertical-align: top;\n",
       "    }\n",
       "\n",
       "    .dataframe thead th {\n",
       "        text-align: right;\n",
       "    }\n",
       "</style>\n",
       "<table border=\"1\" class=\"dataframe\">\n",
       "  <thead>\n",
       "    <tr style=\"text-align: right;\">\n",
       "      <th></th>\n",
       "      <th>pred neg</th>\n",
       "      <th>pred pos</th>\n",
       "    </tr>\n",
       "  </thead>\n",
       "  <tbody>\n",
       "    <tr>\n",
       "      <th>real neg</th>\n",
       "      <td>1244</td>\n",
       "      <td>0</td>\n",
       "    </tr>\n",
       "    <tr>\n",
       "      <th>real pos</th>\n",
       "      <td>3</td>\n",
       "      <td>1</td>\n",
       "    </tr>\n",
       "  </tbody>\n",
       "</table>\n",
       "</div>"
      ],
      "text/plain": [
       "          pred neg  pred pos\n",
       "real neg      1244         0\n",
       "real pos         3         1"
      ]
     },
     "metadata": {},
     "output_type": "display_data"
    },
    {
     "name": "stdout",
     "output_type": "stream",
     "text": [
      "[[1248]]\n",
      "[[1248]]\n"
     ]
    },
    {
     "data": {
      "text/html": [
       "<div>\n",
       "<style scoped>\n",
       "    .dataframe tbody tr th:only-of-type {\n",
       "        vertical-align: middle;\n",
       "    }\n",
       "\n",
       "    .dataframe tbody tr th {\n",
       "        vertical-align: top;\n",
       "    }\n",
       "\n",
       "    .dataframe thead th {\n",
       "        text-align: right;\n",
       "    }\n",
       "</style>\n",
       "<table border=\"1\" class=\"dataframe\">\n",
       "  <thead>\n",
       "    <tr style=\"text-align: right;\">\n",
       "      <th></th>\n",
       "      <th>pred neg</th>\n",
       "      <th>pred pos</th>\n",
       "    </tr>\n",
       "  </thead>\n",
       "  <tbody>\n",
       "    <tr>\n",
       "      <th>real neg</th>\n",
       "      <td>1247</td>\n",
       "      <td>0</td>\n",
       "    </tr>\n",
       "    <tr>\n",
       "      <th>real pos</th>\n",
       "      <td>0</td>\n",
       "      <td>1</td>\n",
       "    </tr>\n",
       "  </tbody>\n",
       "</table>\n",
       "</div>"
      ],
      "text/plain": [
       "          pred neg  pred pos\n",
       "real neg      1247         0\n",
       "real pos         0         1"
      ]
     },
     "metadata": {},
     "output_type": "display_data"
    },
    {
     "data": {
      "text/html": [
       "<div>\n",
       "<style scoped>\n",
       "    .dataframe tbody tr th:only-of-type {\n",
       "        vertical-align: middle;\n",
       "    }\n",
       "\n",
       "    .dataframe tbody tr th {\n",
       "        vertical-align: top;\n",
       "    }\n",
       "\n",
       "    .dataframe thead th {\n",
       "        text-align: right;\n",
       "    }\n",
       "</style>\n",
       "<table border=\"1\" class=\"dataframe\">\n",
       "  <thead>\n",
       "    <tr style=\"text-align: right;\">\n",
       "      <th></th>\n",
       "      <th>pred neg</th>\n",
       "      <th>pred pos</th>\n",
       "    </tr>\n",
       "  </thead>\n",
       "  <tbody>\n",
       "    <tr>\n",
       "      <th>real neg</th>\n",
       "      <td>1237</td>\n",
       "      <td>1</td>\n",
       "    </tr>\n",
       "    <tr>\n",
       "      <th>real pos</th>\n",
       "      <td>2</td>\n",
       "      <td>8</td>\n",
       "    </tr>\n",
       "  </tbody>\n",
       "</table>\n",
       "</div>"
      ],
      "text/plain": [
       "          pred neg  pred pos\n",
       "real neg      1237         1\n",
       "real pos         2         8"
      ]
     },
     "metadata": {},
     "output_type": "display_data"
    },
    {
     "data": {
      "text/html": [
       "<div>\n",
       "<style scoped>\n",
       "    .dataframe tbody tr th:only-of-type {\n",
       "        vertical-align: middle;\n",
       "    }\n",
       "\n",
       "    .dataframe tbody tr th {\n",
       "        vertical-align: top;\n",
       "    }\n",
       "\n",
       "    .dataframe thead th {\n",
       "        text-align: right;\n",
       "    }\n",
       "</style>\n",
       "<table border=\"1\" class=\"dataframe\">\n",
       "  <thead>\n",
       "    <tr style=\"text-align: right;\">\n",
       "      <th></th>\n",
       "      <th>pred neg</th>\n",
       "      <th>pred pos</th>\n",
       "    </tr>\n",
       "  </thead>\n",
       "  <tbody>\n",
       "    <tr>\n",
       "      <th>real neg</th>\n",
       "      <td>1072</td>\n",
       "      <td>38</td>\n",
       "    </tr>\n",
       "    <tr>\n",
       "      <th>real pos</th>\n",
       "      <td>31</td>\n",
       "      <td>107</td>\n",
       "    </tr>\n",
       "  </tbody>\n",
       "</table>\n",
       "</div>"
      ],
      "text/plain": [
       "          pred neg  pred pos\n",
       "real neg      1072        38\n",
       "real pos        31       107"
      ]
     },
     "metadata": {},
     "output_type": "display_data"
    },
    {
     "data": {
      "text/html": [
       "<div>\n",
       "<style scoped>\n",
       "    .dataframe tbody tr th:only-of-type {\n",
       "        vertical-align: middle;\n",
       "    }\n",
       "\n",
       "    .dataframe tbody tr th {\n",
       "        vertical-align: top;\n",
       "    }\n",
       "\n",
       "    .dataframe thead th {\n",
       "        text-align: right;\n",
       "    }\n",
       "</style>\n",
       "<table border=\"1\" class=\"dataframe\">\n",
       "  <thead>\n",
       "    <tr style=\"text-align: right;\">\n",
       "      <th></th>\n",
       "      <th>pred neg</th>\n",
       "      <th>pred pos</th>\n",
       "    </tr>\n",
       "  </thead>\n",
       "  <tbody>\n",
       "    <tr>\n",
       "      <th>real neg</th>\n",
       "      <td>1247</td>\n",
       "      <td>0</td>\n",
       "    </tr>\n",
       "    <tr>\n",
       "      <th>real pos</th>\n",
       "      <td>0</td>\n",
       "      <td>1</td>\n",
       "    </tr>\n",
       "  </tbody>\n",
       "</table>\n",
       "</div>"
      ],
      "text/plain": [
       "          pred neg  pred pos\n",
       "real neg      1247         0\n",
       "real pos         0         1"
      ]
     },
     "metadata": {},
     "output_type": "display_data"
    },
    {
     "data": {
      "text/html": [
       "<div>\n",
       "<style scoped>\n",
       "    .dataframe tbody tr th:only-of-type {\n",
       "        vertical-align: middle;\n",
       "    }\n",
       "\n",
       "    .dataframe tbody tr th {\n",
       "        vertical-align: top;\n",
       "    }\n",
       "\n",
       "    .dataframe thead th {\n",
       "        text-align: right;\n",
       "    }\n",
       "</style>\n",
       "<table border=\"1\" class=\"dataframe\">\n",
       "  <thead>\n",
       "    <tr style=\"text-align: right;\">\n",
       "      <th></th>\n",
       "      <th>pred neg</th>\n",
       "      <th>pred pos</th>\n",
       "    </tr>\n",
       "  </thead>\n",
       "  <tbody>\n",
       "    <tr>\n",
       "      <th>real neg</th>\n",
       "      <td>1232</td>\n",
       "      <td>0</td>\n",
       "    </tr>\n",
       "    <tr>\n",
       "      <th>real pos</th>\n",
       "      <td>15</td>\n",
       "      <td>1</td>\n",
       "    </tr>\n",
       "  </tbody>\n",
       "</table>\n",
       "</div>"
      ],
      "text/plain": [
       "          pred neg  pred pos\n",
       "real neg      1232         0\n",
       "real pos        15         1"
      ]
     },
     "metadata": {},
     "output_type": "display_data"
    },
    {
     "data": {
      "text/html": [
       "<div>\n",
       "<style scoped>\n",
       "    .dataframe tbody tr th:only-of-type {\n",
       "        vertical-align: middle;\n",
       "    }\n",
       "\n",
       "    .dataframe tbody tr th {\n",
       "        vertical-align: top;\n",
       "    }\n",
       "\n",
       "    .dataframe thead th {\n",
       "        text-align: right;\n",
       "    }\n",
       "</style>\n",
       "<table border=\"1\" class=\"dataframe\">\n",
       "  <thead>\n",
       "    <tr style=\"text-align: right;\">\n",
       "      <th></th>\n",
       "      <th>pred neg</th>\n",
       "      <th>pred pos</th>\n",
       "    </tr>\n",
       "  </thead>\n",
       "  <tbody>\n",
       "    <tr>\n",
       "      <th>real neg</th>\n",
       "      <td>1242</td>\n",
       "      <td>0</td>\n",
       "    </tr>\n",
       "    <tr>\n",
       "      <th>real pos</th>\n",
       "      <td>5</td>\n",
       "      <td>1</td>\n",
       "    </tr>\n",
       "  </tbody>\n",
       "</table>\n",
       "</div>"
      ],
      "text/plain": [
       "          pred neg  pred pos\n",
       "real neg      1242         0\n",
       "real pos         5         1"
      ]
     },
     "metadata": {},
     "output_type": "display_data"
    },
    {
     "data": {
      "text/html": [
       "<div>\n",
       "<style scoped>\n",
       "    .dataframe tbody tr th:only-of-type {\n",
       "        vertical-align: middle;\n",
       "    }\n",
       "\n",
       "    .dataframe tbody tr th {\n",
       "        vertical-align: top;\n",
       "    }\n",
       "\n",
       "    .dataframe thead th {\n",
       "        text-align: right;\n",
       "    }\n",
       "</style>\n",
       "<table border=\"1\" class=\"dataframe\">\n",
       "  <thead>\n",
       "    <tr style=\"text-align: right;\">\n",
       "      <th></th>\n",
       "      <th>pred neg</th>\n",
       "      <th>pred pos</th>\n",
       "    </tr>\n",
       "  </thead>\n",
       "  <tbody>\n",
       "    <tr>\n",
       "      <th>real neg</th>\n",
       "      <td>1231</td>\n",
       "      <td>0</td>\n",
       "    </tr>\n",
       "    <tr>\n",
       "      <th>real pos</th>\n",
       "      <td>5</td>\n",
       "      <td>12</td>\n",
       "    </tr>\n",
       "  </tbody>\n",
       "</table>\n",
       "</div>"
      ],
      "text/plain": [
       "          pred neg  pred pos\n",
       "real neg      1231         0\n",
       "real pos         5        12"
      ]
     },
     "metadata": {},
     "output_type": "display_data"
    },
    {
     "name": "stdout",
     "output_type": "stream",
     "text": [
      "[[1248]]\n"
     ]
    },
    {
     "data": {
      "text/html": [
       "<div>\n",
       "<style scoped>\n",
       "    .dataframe tbody tr th:only-of-type {\n",
       "        vertical-align: middle;\n",
       "    }\n",
       "\n",
       "    .dataframe tbody tr th {\n",
       "        vertical-align: top;\n",
       "    }\n",
       "\n",
       "    .dataframe thead th {\n",
       "        text-align: right;\n",
       "    }\n",
       "</style>\n",
       "<table border=\"1\" class=\"dataframe\">\n",
       "  <thead>\n",
       "    <tr style=\"text-align: right;\">\n",
       "      <th></th>\n",
       "      <th>pred neg</th>\n",
       "      <th>pred pos</th>\n",
       "    </tr>\n",
       "  </thead>\n",
       "  <tbody>\n",
       "    <tr>\n",
       "      <th>real neg</th>\n",
       "      <td>1109</td>\n",
       "      <td>66</td>\n",
       "    </tr>\n",
       "    <tr>\n",
       "      <th>real pos</th>\n",
       "      <td>16</td>\n",
       "      <td>57</td>\n",
       "    </tr>\n",
       "  </tbody>\n",
       "</table>\n",
       "</div>"
      ],
      "text/plain": [
       "          pred neg  pred pos\n",
       "real neg      1109        66\n",
       "real pos        16        57"
      ]
     },
     "metadata": {},
     "output_type": "display_data"
    },
    {
     "data": {
      "text/html": [
       "<div>\n",
       "<style scoped>\n",
       "    .dataframe tbody tr th:only-of-type {\n",
       "        vertical-align: middle;\n",
       "    }\n",
       "\n",
       "    .dataframe tbody tr th {\n",
       "        vertical-align: top;\n",
       "    }\n",
       "\n",
       "    .dataframe thead th {\n",
       "        text-align: right;\n",
       "    }\n",
       "</style>\n",
       "<table border=\"1\" class=\"dataframe\">\n",
       "  <thead>\n",
       "    <tr style=\"text-align: right;\">\n",
       "      <th></th>\n",
       "      <th>pred neg</th>\n",
       "      <th>pred pos</th>\n",
       "    </tr>\n",
       "  </thead>\n",
       "  <tbody>\n",
       "    <tr>\n",
       "      <th>real neg</th>\n",
       "      <td>1164</td>\n",
       "      <td>11</td>\n",
       "    </tr>\n",
       "    <tr>\n",
       "      <th>real pos</th>\n",
       "      <td>22</td>\n",
       "      <td>51</td>\n",
       "    </tr>\n",
       "  </tbody>\n",
       "</table>\n",
       "</div>"
      ],
      "text/plain": [
       "          pred neg  pred pos\n",
       "real neg      1164        11\n",
       "real pos        22        51"
      ]
     },
     "metadata": {},
     "output_type": "display_data"
    },
    {
     "data": {
      "text/html": [
       "<div>\n",
       "<style scoped>\n",
       "    .dataframe tbody tr th:only-of-type {\n",
       "        vertical-align: middle;\n",
       "    }\n",
       "\n",
       "    .dataframe tbody tr th {\n",
       "        vertical-align: top;\n",
       "    }\n",
       "\n",
       "    .dataframe thead th {\n",
       "        text-align: right;\n",
       "    }\n",
       "</style>\n",
       "<table border=\"1\" class=\"dataframe\">\n",
       "  <thead>\n",
       "    <tr style=\"text-align: right;\">\n",
       "      <th></th>\n",
       "      <th>pred neg</th>\n",
       "      <th>pred pos</th>\n",
       "    </tr>\n",
       "  </thead>\n",
       "  <tbody>\n",
       "    <tr>\n",
       "      <th>real neg</th>\n",
       "      <td>1236</td>\n",
       "      <td>2</td>\n",
       "    </tr>\n",
       "    <tr>\n",
       "      <th>real pos</th>\n",
       "      <td>0</td>\n",
       "      <td>10</td>\n",
       "    </tr>\n",
       "  </tbody>\n",
       "</table>\n",
       "</div>"
      ],
      "text/plain": [
       "          pred neg  pred pos\n",
       "real neg      1236         2\n",
       "real pos         0        10"
      ]
     },
     "metadata": {},
     "output_type": "display_data"
    },
    {
     "name": "stdout",
     "output_type": "stream",
     "text": [
      "[[1248]]\n",
      "[[1248]]\n"
     ]
    },
    {
     "data": {
      "text/html": [
       "<div>\n",
       "<style scoped>\n",
       "    .dataframe tbody tr th:only-of-type {\n",
       "        vertical-align: middle;\n",
       "    }\n",
       "\n",
       "    .dataframe tbody tr th {\n",
       "        vertical-align: top;\n",
       "    }\n",
       "\n",
       "    .dataframe thead th {\n",
       "        text-align: right;\n",
       "    }\n",
       "</style>\n",
       "<table border=\"1\" class=\"dataframe\">\n",
       "  <thead>\n",
       "    <tr style=\"text-align: right;\">\n",
       "      <th></th>\n",
       "      <th>pred neg</th>\n",
       "      <th>pred pos</th>\n",
       "    </tr>\n",
       "  </thead>\n",
       "  <tbody>\n",
       "    <tr>\n",
       "      <th>real neg</th>\n",
       "      <td>1173</td>\n",
       "      <td>28</td>\n",
       "    </tr>\n",
       "    <tr>\n",
       "      <th>real pos</th>\n",
       "      <td>8</td>\n",
       "      <td>39</td>\n",
       "    </tr>\n",
       "  </tbody>\n",
       "</table>\n",
       "</div>"
      ],
      "text/plain": [
       "          pred neg  pred pos\n",
       "real neg      1173        28\n",
       "real pos         8        39"
      ]
     },
     "metadata": {},
     "output_type": "display_data"
    },
    {
     "data": {
      "text/html": [
       "<div>\n",
       "<style scoped>\n",
       "    .dataframe tbody tr th:only-of-type {\n",
       "        vertical-align: middle;\n",
       "    }\n",
       "\n",
       "    .dataframe tbody tr th {\n",
       "        vertical-align: top;\n",
       "    }\n",
       "\n",
       "    .dataframe thead th {\n",
       "        text-align: right;\n",
       "    }\n",
       "</style>\n",
       "<table border=\"1\" class=\"dataframe\">\n",
       "  <thead>\n",
       "    <tr style=\"text-align: right;\">\n",
       "      <th></th>\n",
       "      <th>pred neg</th>\n",
       "      <th>pred pos</th>\n",
       "    </tr>\n",
       "  </thead>\n",
       "  <tbody>\n",
       "    <tr>\n",
       "      <th>real neg</th>\n",
       "      <td>1247</td>\n",
       "      <td>0</td>\n",
       "    </tr>\n",
       "    <tr>\n",
       "      <th>real pos</th>\n",
       "      <td>0</td>\n",
       "      <td>1</td>\n",
       "    </tr>\n",
       "  </tbody>\n",
       "</table>\n",
       "</div>"
      ],
      "text/plain": [
       "          pred neg  pred pos\n",
       "real neg      1247         0\n",
       "real pos         0         1"
      ]
     },
     "metadata": {},
     "output_type": "display_data"
    },
    {
     "data": {
      "text/html": [
       "<div>\n",
       "<style scoped>\n",
       "    .dataframe tbody tr th:only-of-type {\n",
       "        vertical-align: middle;\n",
       "    }\n",
       "\n",
       "    .dataframe tbody tr th {\n",
       "        vertical-align: top;\n",
       "    }\n",
       "\n",
       "    .dataframe thead th {\n",
       "        text-align: right;\n",
       "    }\n",
       "</style>\n",
       "<table border=\"1\" class=\"dataframe\">\n",
       "  <thead>\n",
       "    <tr style=\"text-align: right;\">\n",
       "      <th></th>\n",
       "      <th>pred neg</th>\n",
       "      <th>pred pos</th>\n",
       "    </tr>\n",
       "  </thead>\n",
       "  <tbody>\n",
       "    <tr>\n",
       "      <th>real neg</th>\n",
       "      <td>1245</td>\n",
       "      <td>0</td>\n",
       "    </tr>\n",
       "    <tr>\n",
       "      <th>real pos</th>\n",
       "      <td>2</td>\n",
       "      <td>1</td>\n",
       "    </tr>\n",
       "  </tbody>\n",
       "</table>\n",
       "</div>"
      ],
      "text/plain": [
       "          pred neg  pred pos\n",
       "real neg      1245         0\n",
       "real pos         2         1"
      ]
     },
     "metadata": {},
     "output_type": "display_data"
    },
    {
     "data": {
      "text/html": [
       "<div>\n",
       "<style scoped>\n",
       "    .dataframe tbody tr th:only-of-type {\n",
       "        vertical-align: middle;\n",
       "    }\n",
       "\n",
       "    .dataframe tbody tr th {\n",
       "        vertical-align: top;\n",
       "    }\n",
       "\n",
       "    .dataframe thead th {\n",
       "        text-align: right;\n",
       "    }\n",
       "</style>\n",
       "<table border=\"1\" class=\"dataframe\">\n",
       "  <thead>\n",
       "    <tr style=\"text-align: right;\">\n",
       "      <th></th>\n",
       "      <th>pred neg</th>\n",
       "      <th>pred pos</th>\n",
       "    </tr>\n",
       "  </thead>\n",
       "  <tbody>\n",
       "    <tr>\n",
       "      <th>real neg</th>\n",
       "      <td>1243</td>\n",
       "      <td>0</td>\n",
       "    </tr>\n",
       "    <tr>\n",
       "      <th>real pos</th>\n",
       "      <td>5</td>\n",
       "      <td>0</td>\n",
       "    </tr>\n",
       "  </tbody>\n",
       "</table>\n",
       "</div>"
      ],
      "text/plain": [
       "          pred neg  pred pos\n",
       "real neg      1243         0\n",
       "real pos         5         0"
      ]
     },
     "metadata": {},
     "output_type": "display_data"
    },
    {
     "name": "stderr",
     "output_type": "stream",
     "text": [
      "<ipython-input-34-d7d800bae419>:52: RuntimeWarning: invalid value encountered in long_scalars\n",
      "  prec = n_tp/n_pp\n"
     ]
    },
    {
     "data": {
      "text/html": [
       "<div>\n",
       "<style scoped>\n",
       "    .dataframe tbody tr th:only-of-type {\n",
       "        vertical-align: middle;\n",
       "    }\n",
       "\n",
       "    .dataframe tbody tr th {\n",
       "        vertical-align: top;\n",
       "    }\n",
       "\n",
       "    .dataframe thead th {\n",
       "        text-align: right;\n",
       "    }\n",
       "</style>\n",
       "<table border=\"1\" class=\"dataframe\">\n",
       "  <thead>\n",
       "    <tr style=\"text-align: right;\">\n",
       "      <th></th>\n",
       "      <th>pred neg</th>\n",
       "      <th>pred pos</th>\n",
       "    </tr>\n",
       "  </thead>\n",
       "  <tbody>\n",
       "    <tr>\n",
       "      <th>real neg</th>\n",
       "      <td>1188</td>\n",
       "      <td>16</td>\n",
       "    </tr>\n",
       "    <tr>\n",
       "      <th>real pos</th>\n",
       "      <td>12</td>\n",
       "      <td>32</td>\n",
       "    </tr>\n",
       "  </tbody>\n",
       "</table>\n",
       "</div>"
      ],
      "text/plain": [
       "          pred neg  pred pos\n",
       "real neg      1188        16\n",
       "real pos        12        32"
      ]
     },
     "metadata": {},
     "output_type": "display_data"
    },
    {
     "data": {
      "text/html": [
       "<div>\n",
       "<style scoped>\n",
       "    .dataframe tbody tr th:only-of-type {\n",
       "        vertical-align: middle;\n",
       "    }\n",
       "\n",
       "    .dataframe tbody tr th {\n",
       "        vertical-align: top;\n",
       "    }\n",
       "\n",
       "    .dataframe thead th {\n",
       "        text-align: right;\n",
       "    }\n",
       "</style>\n",
       "<table border=\"1\" class=\"dataframe\">\n",
       "  <thead>\n",
       "    <tr style=\"text-align: right;\">\n",
       "      <th></th>\n",
       "      <th>pred neg</th>\n",
       "      <th>pred pos</th>\n",
       "    </tr>\n",
       "  </thead>\n",
       "  <tbody>\n",
       "    <tr>\n",
       "      <th>real neg</th>\n",
       "      <td>1234</td>\n",
       "      <td>2</td>\n",
       "    </tr>\n",
       "    <tr>\n",
       "      <th>real pos</th>\n",
       "      <td>2</td>\n",
       "      <td>10</td>\n",
       "    </tr>\n",
       "  </tbody>\n",
       "</table>\n",
       "</div>"
      ],
      "text/plain": [
       "          pred neg  pred pos\n",
       "real neg      1234         2\n",
       "real pos         2        10"
      ]
     },
     "metadata": {},
     "output_type": "display_data"
    },
    {
     "data": {
      "text/html": [
       "<div>\n",
       "<style scoped>\n",
       "    .dataframe tbody tr th:only-of-type {\n",
       "        vertical-align: middle;\n",
       "    }\n",
       "\n",
       "    .dataframe tbody tr th {\n",
       "        vertical-align: top;\n",
       "    }\n",
       "\n",
       "    .dataframe thead th {\n",
       "        text-align: right;\n",
       "    }\n",
       "</style>\n",
       "<table border=\"1\" class=\"dataframe\">\n",
       "  <thead>\n",
       "    <tr style=\"text-align: right;\">\n",
       "      <th></th>\n",
       "      <th>pred neg</th>\n",
       "      <th>pred pos</th>\n",
       "    </tr>\n",
       "  </thead>\n",
       "  <tbody>\n",
       "    <tr>\n",
       "      <th>real neg</th>\n",
       "      <td>1245</td>\n",
       "      <td>0</td>\n",
       "    </tr>\n",
       "    <tr>\n",
       "      <th>real pos</th>\n",
       "      <td>1</td>\n",
       "      <td>2</td>\n",
       "    </tr>\n",
       "  </tbody>\n",
       "</table>\n",
       "</div>"
      ],
      "text/plain": [
       "          pred neg  pred pos\n",
       "real neg      1245         0\n",
       "real pos         1         2"
      ]
     },
     "metadata": {},
     "output_type": "display_data"
    },
    {
     "name": "stdout",
     "output_type": "stream",
     "text": [
      "[[1248]]\n"
     ]
    },
    {
     "data": {
      "text/html": [
       "<div>\n",
       "<style scoped>\n",
       "    .dataframe tbody tr th:only-of-type {\n",
       "        vertical-align: middle;\n",
       "    }\n",
       "\n",
       "    .dataframe tbody tr th {\n",
       "        vertical-align: top;\n",
       "    }\n",
       "\n",
       "    .dataframe thead th {\n",
       "        text-align: right;\n",
       "    }\n",
       "</style>\n",
       "<table border=\"1\" class=\"dataframe\">\n",
       "  <thead>\n",
       "    <tr style=\"text-align: right;\">\n",
       "      <th></th>\n",
       "      <th>pred neg</th>\n",
       "      <th>pred pos</th>\n",
       "    </tr>\n",
       "  </thead>\n",
       "  <tbody>\n",
       "    <tr>\n",
       "      <th>real neg</th>\n",
       "      <td>1247</td>\n",
       "      <td>0</td>\n",
       "    </tr>\n",
       "    <tr>\n",
       "      <th>real pos</th>\n",
       "      <td>0</td>\n",
       "      <td>1</td>\n",
       "    </tr>\n",
       "  </tbody>\n",
       "</table>\n",
       "</div>"
      ],
      "text/plain": [
       "          pred neg  pred pos\n",
       "real neg      1247         0\n",
       "real pos         0         1"
      ]
     },
     "metadata": {},
     "output_type": "display_data"
    },
    {
     "data": {
      "text/html": [
       "<div>\n",
       "<style scoped>\n",
       "    .dataframe tbody tr th:only-of-type {\n",
       "        vertical-align: middle;\n",
       "    }\n",
       "\n",
       "    .dataframe tbody tr th {\n",
       "        vertical-align: top;\n",
       "    }\n",
       "\n",
       "    .dataframe thead th {\n",
       "        text-align: right;\n",
       "    }\n",
       "</style>\n",
       "<table border=\"1\" class=\"dataframe\">\n",
       "  <thead>\n",
       "    <tr style=\"text-align: right;\">\n",
       "      <th></th>\n",
       "      <th>pred neg</th>\n",
       "      <th>pred pos</th>\n",
       "    </tr>\n",
       "  </thead>\n",
       "  <tbody>\n",
       "    <tr>\n",
       "      <th>real neg</th>\n",
       "      <td>1232</td>\n",
       "      <td>2</td>\n",
       "    </tr>\n",
       "    <tr>\n",
       "      <th>real pos</th>\n",
       "      <td>5</td>\n",
       "      <td>9</td>\n",
       "    </tr>\n",
       "  </tbody>\n",
       "</table>\n",
       "</div>"
      ],
      "text/plain": [
       "          pred neg  pred pos\n",
       "real neg      1232         2\n",
       "real pos         5         9"
      ]
     },
     "metadata": {},
     "output_type": "display_data"
    },
    {
     "data": {
      "text/html": [
       "<div>\n",
       "<style scoped>\n",
       "    .dataframe tbody tr th:only-of-type {\n",
       "        vertical-align: middle;\n",
       "    }\n",
       "\n",
       "    .dataframe tbody tr th {\n",
       "        vertical-align: top;\n",
       "    }\n",
       "\n",
       "    .dataframe thead th {\n",
       "        text-align: right;\n",
       "    }\n",
       "</style>\n",
       "<table border=\"1\" class=\"dataframe\">\n",
       "  <thead>\n",
       "    <tr style=\"text-align: right;\">\n",
       "      <th></th>\n",
       "      <th>pred neg</th>\n",
       "      <th>pred pos</th>\n",
       "    </tr>\n",
       "  </thead>\n",
       "  <tbody>\n",
       "    <tr>\n",
       "      <th>real neg</th>\n",
       "      <td>1214</td>\n",
       "      <td>0</td>\n",
       "    </tr>\n",
       "    <tr>\n",
       "      <th>real pos</th>\n",
       "      <td>22</td>\n",
       "      <td>12</td>\n",
       "    </tr>\n",
       "  </tbody>\n",
       "</table>\n",
       "</div>"
      ],
      "text/plain": [
       "          pred neg  pred pos\n",
       "real neg      1214         0\n",
       "real pos        22        12"
      ]
     },
     "metadata": {},
     "output_type": "display_data"
    },
    {
     "name": "stdout",
     "output_type": "stream",
     "text": [
      "[[1248]]\n"
     ]
    },
    {
     "data": {
      "text/html": [
       "<div>\n",
       "<style scoped>\n",
       "    .dataframe tbody tr th:only-of-type {\n",
       "        vertical-align: middle;\n",
       "    }\n",
       "\n",
       "    .dataframe tbody tr th {\n",
       "        vertical-align: top;\n",
       "    }\n",
       "\n",
       "    .dataframe thead th {\n",
       "        text-align: right;\n",
       "    }\n",
       "</style>\n",
       "<table border=\"1\" class=\"dataframe\">\n",
       "  <thead>\n",
       "    <tr style=\"text-align: right;\">\n",
       "      <th></th>\n",
       "      <th>pred neg</th>\n",
       "      <th>pred pos</th>\n",
       "    </tr>\n",
       "  </thead>\n",
       "  <tbody>\n",
       "    <tr>\n",
       "      <th>real neg</th>\n",
       "      <td>1246</td>\n",
       "      <td>0</td>\n",
       "    </tr>\n",
       "    <tr>\n",
       "      <th>real pos</th>\n",
       "      <td>0</td>\n",
       "      <td>2</td>\n",
       "    </tr>\n",
       "  </tbody>\n",
       "</table>\n",
       "</div>"
      ],
      "text/plain": [
       "          pred neg  pred pos\n",
       "real neg      1246         0\n",
       "real pos         0         2"
      ]
     },
     "metadata": {},
     "output_type": "display_data"
    },
    {
     "data": {
      "text/html": [
       "<div>\n",
       "<style scoped>\n",
       "    .dataframe tbody tr th:only-of-type {\n",
       "        vertical-align: middle;\n",
       "    }\n",
       "\n",
       "    .dataframe tbody tr th {\n",
       "        vertical-align: top;\n",
       "    }\n",
       "\n",
       "    .dataframe thead th {\n",
       "        text-align: right;\n",
       "    }\n",
       "</style>\n",
       "<table border=\"1\" class=\"dataframe\">\n",
       "  <thead>\n",
       "    <tr style=\"text-align: right;\">\n",
       "      <th></th>\n",
       "      <th>pred neg</th>\n",
       "      <th>pred pos</th>\n",
       "    </tr>\n",
       "  </thead>\n",
       "  <tbody>\n",
       "    <tr>\n",
       "      <th>real neg</th>\n",
       "      <td>911</td>\n",
       "      <td>94</td>\n",
       "    </tr>\n",
       "    <tr>\n",
       "      <th>real pos</th>\n",
       "      <td>48</td>\n",
       "      <td>195</td>\n",
       "    </tr>\n",
       "  </tbody>\n",
       "</table>\n",
       "</div>"
      ],
      "text/plain": [
       "          pred neg  pred pos\n",
       "real neg       911        94\n",
       "real pos        48       195"
      ]
     },
     "metadata": {},
     "output_type": "display_data"
    },
    {
     "name": "stdout",
     "output_type": "stream",
     "text": [
      "[[1248]]\n"
     ]
    },
    {
     "data": {
      "text/html": [
       "<div>\n",
       "<style scoped>\n",
       "    .dataframe tbody tr th:only-of-type {\n",
       "        vertical-align: middle;\n",
       "    }\n",
       "\n",
       "    .dataframe tbody tr th {\n",
       "        vertical-align: top;\n",
       "    }\n",
       "\n",
       "    .dataframe thead th {\n",
       "        text-align: right;\n",
       "    }\n",
       "</style>\n",
       "<table border=\"1\" class=\"dataframe\">\n",
       "  <thead>\n",
       "    <tr style=\"text-align: right;\">\n",
       "      <th></th>\n",
       "      <th>pred neg</th>\n",
       "      <th>pred pos</th>\n",
       "    </tr>\n",
       "  </thead>\n",
       "  <tbody>\n",
       "    <tr>\n",
       "      <th>real neg</th>\n",
       "      <td>1202</td>\n",
       "      <td>0</td>\n",
       "    </tr>\n",
       "    <tr>\n",
       "      <th>real pos</th>\n",
       "      <td>35</td>\n",
       "      <td>11</td>\n",
       "    </tr>\n",
       "  </tbody>\n",
       "</table>\n",
       "</div>"
      ],
      "text/plain": [
       "          pred neg  pred pos\n",
       "real neg      1202         0\n",
       "real pos        35        11"
      ]
     },
     "metadata": {},
     "output_type": "display_data"
    }
   ],
   "source": [
    "for model_name, model in models.items():\n",
    "    clf = model['model']\n",
    "    if model_name == 'gradient descent multiclass':\n",
    "        y = drz['encoded_target']\n",
    "    else:\n",
    "        y = drz['target']\n",
    "    X_train, X_test, y_train, y_test = train_test_split(X,y, test_size = 0.3, random_state=42)\n",
    "    y_pred = clf.predict(X_test)\n",
    "    \n",
    "    for predict_class_index, predict_class in enumerate(model['classes']):\n",
    "        if model_name == 'gradient descent multiclass':\n",
    "            y_pred_binary = y_pred == predict_class_index\n",
    "            y_test_binary = y_test == predict_class_index\n",
    "        else:\n",
    "            y_test_binary = y_test == predict_class\n",
    "            y_pred_binary = y_pred\n",
    "    \n",
    "        conf_mtx = confusion_matrix(y_test_binary, y_pred_binary)\n",
    "        if not (conf_mtx.shape == (2,2)):\n",
    "            # not possible to plot conf mtx\n",
    "            print(conf_mtx)\n",
    "            continue\n",
    "        else:\n",
    "            display(pd.DataFrame(conf_mtx, index=['real neg','real pos'], columns=['pred neg','pred pos']))\n",
    "        # True negatives:  [0,0]\n",
    "        # False negatives: [1,0]\n",
    "        # True positives:  [1,1] \n",
    "        # False positives: [0,1].\n",
    "        assert sum(conf_mtx[:,1]) == sum(y_pred_binary)\n",
    "        assert sum(conf_mtx[1,:]) == sum(y_test_binary)\n",
    "        assert conf_mtx[0,0] == sum(~y_pred_binary & ~y_test_binary) # correct negative\n",
    "\n",
    "        # actual plotting\n",
    "        plot_confusion_matrix(conf_mtx, predict_class)\n",
    "\n",
    "        # save\n",
    "        if not (model_name == 'gradient descent multiclass'):\n",
    "            pass\n",
    "        elif predict_class == models['binary classifier with gradient descent']['classes'][0]:\n",
    "            pass\n",
    "        else:\n",
    "            # skip saving\n",
    "            plt.close()\n",
    "            continue\n",
    "        # Save\n",
    "        file_name = '../results/confusion-matrix-{}.png'.format(model_name.replace(' ','_'))\n",
    "        if OPBOD:\n",
    "            file_name = file_name.replace('.png', '-opbod.png')\n",
    "        if (SKIPSAVE==False): #and (not(os.path.isfile(file_name))):\n",
    "            print(file_name)\n",
    "            with plt.style.context('../assets/context-paper.mplstyle'):\n",
    "                plt.savefig(file_name, bbox_inches='tight', transparent=True)\n",
    "            plt.show()\n",
    "        else:\n",
    "            plt.show()\n",
    "            print(f'Skip. {file_name} exists or saving is disabled in settings.')  "
   ]
  },
  {
   "cell_type": "code",
   "execution_count": null,
   "metadata": {
    "tags": [
     "nbconvert_instruction:remove_all_outputs"
    ]
   },
   "outputs": [],
   "source": [
    "# plot classification errors\n",
    "for model_name, model in models.items():\n",
    "    clf = model['model']\n",
    "    if model_name == 'gradient descent multiclass':\n",
    "        y = drz['encoded_target']\n",
    "    else:\n",
    "        y = drz['target']\n",
    "    X_train, X_test, y_train, y_test = train_test_split(X,y, test_size = 0.3, random_state=42)\n",
    "    y_pred = clf.predict(X_test)\n",
    "\n",
    "    if model_name == 'gradient descent multiclass':\n",
    "        predict_class = models['binary classifier with gradient descent']['classes'][0]\n",
    "        predict_class_index = np.where(model['classes'] == predict_class)[0]\n",
    "        y_test_binary = y_test == predict_class_index\n",
    "        y_pred_binary = y_pred == predict_class_index\n",
    "    else:\n",
    "        y_test_binary = y_test == model['classes'][0]\n",
    "        y_pred_binary = y_pred\n",
    "\n",
    "\n",
    "    tp_test = y_pred_binary & y_test_binary\n",
    "    fp_test = y_pred_binary & ~y_test_binary\n",
    "    fn_test = ~y_pred_binary & y_test_binary\n",
    "\n",
    "    if any(tp_test):\n",
    "        plot_observations(X_test[tp_test], titles=y_test[tp_test], image_size=image_size)\n",
    "        plt.title('true positive\\n' + model_name)\n",
    "\n",
    "    if any(fp_test):\n",
    "        plot_observations(X_test[fp_test], titles=y_test[fp_test], image_size=image_size)\n",
    "        plt.title('false positive\\n' + model_name)\n",
    "\n",
    "    if any(fn_test):\n",
    "        plot_observations(X_test[fn_test], titles=y_test[fn_test], image_size=image_size)\n",
    "        plt.title('false negative\\n' + model_name)\n"
   ]
  },
  {
   "cell_type": "markdown",
   "metadata": {},
   "source": [
    "<H1><a href=\"#clf_top\">^</a></H1><a id='clf_performance_roc'>"
   ]
  },
  {
   "cell_type": "markdown",
   "metadata": {},
   "source": [
    "### ROC [c]urve"
   ]
  },
  {
   "cell_type": "code",
   "execution_count": 37,
   "metadata": {},
   "outputs": [],
   "source": [
    "# plot ROC curve\n",
    "def plot_roc_curve(fpr, fnr, auc):\n",
    "    '''\n",
    "    Plot ROC curve. False positive (fpr) and False negative(fnr) rates are already calculated, so is area under the ROC curve (auc).\n",
    "    '''\n",
    "    \n",
    "    \n",
    "    plt.figure(figsize=[8,8])\n",
    "    plt.plot([0,1], [0,1], '--k')\n",
    "    plt.plot(fpr, fnr, marker='s', markeredgecolor = (0, 0, 0, 1), markerfacecolor = (1, 1, 1, .5), linestyle='None', ms=4)\n",
    "    plt.axis('equal')\n",
    "    plt.xlim(0,1)\n",
    "    plt.ylim(0,1)\n",
    "    plt.xticks(ticks=np.linspace(0,1,3))\n",
    "    plt.yticks(ticks=np.linspace(0,1,3))\n",
    "    plt.xlabel('False positive rate', style='italic')\n",
    "    plt.ylabel('True positive rate', style='italic')\n",
    "    plt.title('ROC curve', style='italic')\n",
    "\n",
    "\n",
    "    # stats\n",
    "    xy=[plt.gca().get_xlim()[1], plt.gca().get_ylim()[1]]\n",
    "    plt.text(xy[0]*1.05,xy[1],'\\n'.join([\n",
    "        'AUC test set: {:.3f}', \n",
    "    ]).format(auc),\n",
    "             va='top', ha='left', style='italic'\n",
    "            )\n",
    "\n"
   ]
  },
  {
   "cell_type": "code",
   "execution_count": 38,
   "metadata": {
    "tags": [
     "remove_when_contains:image"
    ]
   },
   "outputs": [
    {
     "name": "stdout",
     "output_type": "stream",
     "text": [
      "binary classifier with gradient descent\n",
      "random forest\n",
      "gradient descent multiclass\n",
      "../results/ROC-curves.png\n"
     ]
    }
   ],
   "source": [
    "# plot ROC\n",
    "\n",
    "# assemble results\n",
    "fprs, fnrs, aucs, clss = [[],[],[],[]]\n",
    "for model_name, model in models.items():\n",
    "    print(model_name)\n",
    "    clf = model['model']\n",
    "    if model_name == 'gradient descent multiclass':\n",
    "        y = drz['encoded_target']\n",
    "    else:\n",
    "        y = drz['target']\n",
    "    X_train, X_test, y_train, y_test = train_test_split(X,y, test_size = 0.3, random_state=42)\n",
    "    y_pred = clf.predict(X_test)\n",
    "   \n",
    "    if model_name == 'gradient descent multiclass':\n",
    "        predict_class = models['binary classifier with gradient descent']['classes'][0]\n",
    "        predict_class_index = np.where(model['classes'] == predict_class)[0][0]\n",
    "        y_pred_binary = y_pred == predict_class_index\n",
    "        y_test_binary = y_test == predict_class_index\n",
    "\n",
    "    else:\n",
    "        predict_class = model['classes'][0]\n",
    "        y_pred_binary = y_pred\n",
    "        y_test_binary = y_test == predict_class\n",
    "        \n",
    "\n",
    "    # Scores at all thresholds. 'cross_val_score' uses theshold 0\n",
    "    if (model_name == 'binary classifier with gradient descent') | (model_name == 'gradient descent multiclass'):\n",
    "        clf_scores = cross_val_predict(clf, X_test, y_test_binary, cv=8, method=\"decision_function\", n_jobs=4)\n",
    "    else:\n",
    "        clf_scores = cross_val_predict(clf, X_test, y_test_binary, cv=8, method=\"predict_proba\", n_jobs=4)[:,1]\n",
    "\n",
    "    fpr, fnr, thresholds = roc_curve(y_test_binary, clf_scores)\n",
    "    auc = roc_auc_score(y_test_binary, clf_scores)\n",
    "    fprs += [fpr]\n",
    "    fnrs += [fnr]\n",
    "    aucs += [auc]\n",
    "    clss += [predict_class]\n",
    "\n",
    "# first creates a plot\n",
    "plot_roc_curve(fprs[0], fnrs[0], aucs[0])\n",
    "# add to plot\n",
    "for fpr, fnr, auc in zip(fprs[1:], fnrs[1:], aucs[1:]):\n",
    "    plt.plot(fpr, fnr, marker='s', linestyle='None', ms=4, alpha=0.5)\n",
    "# legend\n",
    "labels = ['{} ({}) {:.2f}'.format(m, c, a) for m,c,a in zip(models, clss, aucs)]\n",
    "plt.legend(['random clf'] + labels, loc='lower left', bbox_to_anchor=[1, 0])\n",
    "\n",
    "\n",
    "# save\n",
    "file_name = '../results/ROC-curves.png'\n",
    "if OPBOD:\n",
    "    file_name = file_name.replace('.png', '-opbod.png')\n",
    "if (SKIPSAVE==False): #and (not(os.path.isfile(file_name))):\n",
    "    print(file_name)\n",
    "    with plt.style.context('../assets/context-paper.mplstyle'):\n",
    "        plt.savefig(file_name, bbox_inches='tight', transparent=True)\n",
    "else:\n",
    "    plt.show()\n",
    "    print(f'Skip. {file_name} exists or saving is disabled in settings.')  "
   ]
  },
  {
   "cell_type": "code",
   "execution_count": 39,
   "metadata": {},
   "outputs": [
    {
     "ename": "AssertionError",
     "evalue": "Stop running. Below is sandboxing.",
     "output_type": "error",
     "traceback": [
      "\u001b[0;31m---------------------------------------------------------------------------\u001b[0m",
      "\u001b[0;31mAssertionError\u001b[0m                            Traceback (most recent call last)",
      "\u001b[0;32m<ipython-input-39-eeded59b2411>\u001b[0m in \u001b[0;36m<module>\u001b[0;34m\u001b[0m\n\u001b[0;32m----> 1\u001b[0;31m \u001b[0;32massert\u001b[0m \u001b[0;32mFalse\u001b[0m\u001b[0;34m,\u001b[0m \u001b[0;34m'Stop running. Below is sandboxing.'\u001b[0m\u001b[0;34m\u001b[0m\u001b[0;34m\u001b[0m\u001b[0m\n\u001b[0m",
      "\u001b[0;31mAssertionError\u001b[0m: Stop running. Below is sandboxing."
     ]
    }
   ],
   "source": [
    "assert False, 'Stop running. Below is sandboxing.'"
   ]
  },
  {
   "cell_type": "code",
   "execution_count": null,
   "metadata": {},
   "outputs": [],
   "source": []
  },
  {
   "cell_type": "code",
   "execution_count": null,
   "metadata": {},
   "outputs": [],
   "source": []
  },
  {
   "cell_type": "markdown",
   "metadata": {},
   "source": [
    "openML has the following structure: \n",
    "\n",
    "```\n",
    "from sklearn.datasets import fetch_openml\n",
    "#mnist = fetch_openml('mnist_784')\n",
    "iris = fetch_openml('iris')\n",
    "\n",
    "# choose dataset\n",
    "openml_dataset = iris\n",
    "openml_dataset.keys()\n",
    "\n",
    "\n",
    "\n",
    "dict_keys(['data', 'target', 'feature_names', 'DESCR', 'details', 'categories', 'url'])\n",
    "```\n",
    "- - - \n",
    "The dictonary has the following keys\n",
    "\n",
    "```\n",
    "for k in openml_dataset:\n",
    "    print(k, type(openml_dataset[k]))\n",
    "\n",
    "\n",
    "\n",
    "data <class 'numpy.ndarray'>\n",
    "target <class 'numpy.ndarray'>\n",
    "feature_names <class 'list'>\n",
    "DESCR <class 'str'>\n",
    "details <class 'dict'>\n",
    "categories <class 'dict'>\n",
    "url <class 'str'>\n",
    "```\n",
    "- - - \n",
    "The fields contain the following\n",
    "```\n",
    "# create table\n",
    "head = ['field', 'type', 'length']\n",
    "width = [32, 32, 8]\n",
    "pat = ['{{:>{}s}} | {{:{}s}} | {{:>{}s}}'.format(*width),\n",
    "       '{{:>{}s}}-+-{{:{}s}}-+-{{:<{}s}}'.format(*width),\n",
    "       '{{:>{}s}} | {{:{}s}} | {{:{}.0f}}'.format(*width),\n",
    "      ]\n",
    "sep = pat[1].format(''.join(['-']*width[0]), ''.join(['-']*width[1]), ''.join(['-']*width[2]))\n",
    "\n",
    "\n",
    "# header\n",
    "print(openml_dataset['details']['id'], openml_dataset['details']['name'], openml_dataset['details']['version'], openml_dataset['details']['original_data_url'], )\n",
    "print(pat[0].format(*head))\n",
    "print(sep)\n",
    "# values\n",
    "for k in openml_dataset:\n",
    "    print(pat[2].format(k, str(type(openml_dataset[k])), len(openml_dataset[k])))\n",
    "\n",
    "# deeper dict\n",
    "k = 'details'\n",
    "print(sep)\n",
    "print(pat[0].format('{}[field]'.format(k), 'type', 'length'))\n",
    "print(sep)\n",
    "for kk in openml_dataset[k]:\n",
    "    print(pat[2].format(kk, str(type(openml_dataset[k][kk])), len(openml_dataset[k][kk])))\n",
    "\n",
    "\n",
    "\n",
    "61 iris 1 https://archive.ics.uci.edu/ml/datasets/Iris\n",
    "                           field | type                             |   length\n",
    "---------------------------------+----------------------------------+---------\n",
    "                            data | <class 'numpy.ndarray'>          |      150\n",
    "                          target | <class 'numpy.ndarray'>          |      150\n",
    "                   feature_names | <class 'list'>                   |        4\n",
    "                           DESCR | <class 'str'>                    |      932\n",
    "                         details | <class 'dict'>                   |       19\n",
    "                      categories | <class 'dict'>                   |        0\n",
    "                             url | <class 'str'>                    |       27\n",
    "---------------------------------+----------------------------------+---------\n",
    "                  details[field] | type                             |   length\n",
    "---------------------------------+----------------------------------+---------\n",
    "                              id | <class 'str'>                    |        2\n",
    "                            name | <class 'str'>                    |        4\n",
    "                         version | <class 'str'>                    |        1\n",
    "                          format | <class 'str'>                    |        4\n",
    "                         creator | <class 'str'>                    |       11\n",
    "                 collection_date | <class 'str'>                    |        4\n",
    "                     upload_date | <class 'str'>                    |       19\n",
    "                         licence | <class 'str'>                    |        6\n",
    "                             url | <class 'str'>                    |       52\n",
    "                         file_id | <class 'str'>                    |        2\n",
    "        default_target_attribute | <class 'str'>                    |        5\n",
    "                   version_label | <class 'str'>                    |        1\n",
    "                             tag | <class 'list'>                   |       11\n",
    "                      visibility | <class 'str'>                    |        6\n",
    "               original_data_url | <class 'str'>                    |       44\n",
    "                       paper_url | <class 'str'>                    |       63\n",
    "                          status | <class 'str'>                    |        6\n",
    "                 processing_date | <class 'str'>                    |       19\n",
    "                    md5_checksum | <class 'str'>                    |       32\n",
    "```\n",
    "- - -\n",
    "Size of _data_ and _target_ are\n",
    "```\n",
    "print(openml_dataset['data'].shape)\n",
    "print(openml_dataset['target'].shape)\n",
    "\n",
    "\n",
    "\n",
    "(150, 4)\n",
    "(150,)\n",
    "```"
   ]
  },
  {
   "cell_type": "code",
   "execution_count": null,
   "metadata": {},
   "outputs": [],
   "source": [
    "from sklearn.datasets import fetch_openml\n",
    "mnist = fetch_openml('mnist_784')\n",
    "iris = fetch_openml('iris')"
   ]
  },
  {
   "cell_type": "code",
   "execution_count": null,
   "metadata": {},
   "outputs": [],
   "source": [
    "openml_dataset = drz\n",
    "openml_dataset.keys()"
   ]
  },
  {
   "cell_type": "code",
   "execution_count": null,
   "metadata": {},
   "outputs": [],
   "source": [
    "iris['categories']"
   ]
  },
  {
   "cell_type": "code",
   "execution_count": null,
   "metadata": {},
   "outputs": [],
   "source": [
    "# create table\n",
    "head = ['field', 'type', 'length']\n",
    "width = [32, 32, 8]\n",
    "pat = ['{{:>{}s}} | {{:{}s}} | {{:>{}s}}'.format(*width),\n",
    "       '{{:>{}s}}-+-{{:{}s}}-+-{{:<{}s}}'.format(*width),\n",
    "       '{{:>{}s}} | {{:{}s}} | {{:{}.0f}}'.format(*width),\n",
    "      ]\n",
    "sep = pat[1].format(''.join(['-']*width[0]), ''.join(['-']*width[1]), ''.join(['-']*width[2]))\n",
    "\n",
    "\n",
    "# header\n",
    "print(openml_dataset['details']['id'], openml_dataset['details']['name'], openml_dataset['details']['version'], openml_dataset['details']['original_data_url'], )\n",
    "print(pat[0].format(*head))\n",
    "print(sep)\n",
    "# values\n",
    "for k in openml_dataset:\n",
    "    print(pat[2].format(k, str(type(openml_dataset[k])), len(openml_dataset[k])))\n",
    "\n",
    "# deeper dict\n",
    "k = 'details'\n",
    "print(sep)\n",
    "print(pat[0].format('{}[field]'.format(k), 'type', 'length'))\n",
    "print(sep)\n",
    "for kk in openml_dataset[k]:\n",
    "    print(pat[2].format(kk, str(type(openml_dataset[k][kk])), len(openml_dataset[k][kk])))\n"
   ]
  },
  {
   "cell_type": "code",
   "execution_count": null,
   "metadata": {},
   "outputs": [],
   "source": [
    "print(openml_dataset['data'].shape)\n",
    "print(openml_dataset['target'].shape)\n"
   ]
  },
  {
   "cell_type": "code",
   "execution_count": null,
   "metadata": {},
   "outputs": [],
   "source": [
    "openml_dataset['details'].keys()"
   ]
  },
  {
   "cell_type": "code",
   "execution_count": null,
   "metadata": {},
   "outputs": [],
   "source": [
    "mnist['feature_names']"
   ]
  },
  {
   "cell_type": "code",
   "execution_count": null,
   "metadata": {},
   "outputs": [],
   "source": []
  },
  {
   "cell_type": "code",
   "execution_count": null,
   "metadata": {},
   "outputs": [],
   "source": [
    "def im2magn(im):\n",
    "    fft = np.fft.fft2(im)\n",
    "    magnitude_spectrum = 20*np.log(np.abs(fft))\n",
    "    mm = [np.unique(magnitude_spectrum[~np.isinf(magnitude_spectrum)])[i] for i in [0,-1]]\n",
    "    norm = mm[0] + magnitude_spectrum/mm[1]-mm[0]\n",
    "\n",
    "    norm[norm<0] = 0\n",
    "    norm[norm>1] = 1\n",
    "    \n",
    "    return norm"
   ]
  },
  {
   "cell_type": "code",
   "execution_count": null,
   "metadata": {},
   "outputs": [],
   "source": [
    "fn1 = '/home/tom/data/satdatsci-images/2021/2021-16-8083-00.jpg'\n",
    "fn2 = '/home/tom/data/satdatsci-images/2021/2021-16-8082-00.jpg'"
   ]
  },
  {
   "cell_type": "code",
   "execution_count": null,
   "metadata": {},
   "outputs": [],
   "source": [
    "im = Image.open(fn2)\n",
    "im = im.convert('L')\n",
    "im"
   ]
  },
  {
   "cell_type": "code",
   "execution_count": null,
   "metadata": {},
   "outputs": [],
   "source": []
  },
  {
   "cell_type": "code",
   "execution_count": null,
   "metadata": {},
   "outputs": [],
   "source": [
    "# im=np.reshape(drz['data'][-1],(85,-1))\n",
    "\n",
    "fft = np.fft.fft2(im)\n",
    "real = np.real(fft)\n",
    "real[0,0] =0\n",
    "imag = np.imag(fft)\n",
    "fshift = fft.copy()\n",
    "fshift = np.fft.fftshift(fshift)\n",
    "#fshift = np.fft.ifftshift(fshift)\n",
    "magnitude_spectrum = 20*np.log(np.abs(fshift))\n",
    "mm = [np.unique(magnitude_spectrum[~np.isinf(magnitude_spectrum)])[i] for i in [0,-1]]\n",
    "norm = mm[0] + magnitude_spectrum/mm[1]-mm[0]\n",
    "\n",
    "norm[norm<0] = 0\n",
    "norm[norm>1] = 1"
   ]
  },
  {
   "cell_type": "code",
   "execution_count": null,
   "metadata": {},
   "outputs": [],
   "source": [
    "#plt.imshow(np.real(fft))\n",
    "#plt.imshow(np.real(real))\n",
    "plt.imshow(norm)"
   ]
  },
  {
   "cell_type": "code",
   "execution_count": null,
   "metadata": {},
   "outputs": [],
   "source": [
    "[np.unique(np.ravel(magnitude_spectrum))[i] for i in [0,1,-2,-1]]"
   ]
  },
  {
   "cell_type": "code",
   "execution_count": null,
   "metadata": {},
   "outputs": [],
   "source": [
    "norm.max()\n"
   ]
  },
  {
   "cell_type": "code",
   "execution_count": null,
   "metadata": {},
   "outputs": [],
   "source": [
    "plt.imshow(np.real(np.fft.ifft2(fft))*-1)"
   ]
  },
  {
   "cell_type": "code",
   "execution_count": null,
   "metadata": {},
   "outputs": [],
   "source": [
    "plt.imshow(np.real(np.fft.ifft2(real))*-1)"
   ]
  },
  {
   "cell_type": "code",
   "execution_count": null,
   "metadata": {},
   "outputs": [],
   "source": []
  }
 ],
 "metadata": {
  "kernelspec": {
   "display_name": "Python 3",
   "language": "python",
   "name": "python3"
  },
  "language_info": {
   "codemirror_mode": {
    "name": "ipython",
    "version": 3
   },
   "file_extension": ".py",
   "mimetype": "text/x-python",
   "name": "python",
   "nbconvert_exporter": "python",
   "pygments_lexer": "ipython3",
   "version": "3.8.10"
  }
 },
 "nbformat": 4,
 "nbformat_minor": 4
}
