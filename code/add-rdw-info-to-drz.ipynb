{
 "cells": [
  {
   "cell_type": "markdown",
   "metadata": {},
   "source": [
    "# Add extra information to DRZ auction results\n",
    "\n",
    "Query to the open data dataset of the RDW.\n",
    "\n",
    "It may take a while (10 min) to query all auction results.\n",
    "- - - - "
   ]
  },
  {
   "cell_type": "markdown",
   "metadata": {
    "colab_type": "text",
    "id": "3NKmZCQfoqYI"
   },
   "source": [
    "### User variables\n"
   ]
  },
  {
   "cell_type": "code",
   "execution_count": 1,
   "metadata": {},
   "outputs": [],
   "source": [
    "Date = '2019-06' # yyyy-mm"
   ]
  },
  {
   "cell_type": "markdown",
   "metadata": {},
   "source": [
    "### Modules and functions"
   ]
  },
  {
   "cell_type": "code",
   "execution_count": 2,
   "metadata": {
    "colab": {},
    "colab_type": "code",
    "id": "6ZmS55RpoqYL"
   },
   "outputs": [],
   "source": [
    "import pandas as pd\n",
    "import re \n",
    "# to keep api key hidden import this from sub dir\n",
    "import assets.hidden_api_keys as hidden_api_keys\n",
    "\n",
    "# base url\n",
    "apiurl = 'https://opendata.rdw.nl/resource/m9d7-ebf2.json?$$app_token=' + hidden_api_keys.socrata_apptoken + '&'\n",
    "\n",
    "def get_json_from_api(url,reg,c=0):\n",
    "    \n",
    "    '''Get json object from api'''\n",
    "    \n",
    "    import time\n",
    "\n",
    "    c+=1\n",
    "    try:\n",
    "        df=pd.read_json(url + 'kenteken=' + reg.replace('-','').upper()).to_dict()\n",
    "    except:\n",
    "        if c > 10:\n",
    "            print(url,reg)\n",
    "            raise \n",
    "        else:\n",
    "            print('pause 2 sec and try again!')\n",
    "            time.sleep(2)\n",
    "            df = get_json_from_api(url,reg,c)\n",
    "    \n",
    "    return df\n",
    "    \n",
    "# get_json_from_api(apiurl,'61-sf-FG')"
   ]
  },
  {
   "cell_type": "markdown",
   "metadata": {},
   "source": [
    "### Load auction results"
   ]
  },
  {
   "cell_type": "code",
   "execution_count": 3,
   "metadata": {},
   "outputs": [
    {
     "name": "stdout",
     "output_type": "stream",
     "text": [
      "../data/drz-data-2019-06.pkl\n"
     ]
    }
   ],
   "source": [
    "file_name = '../data/drz-data-{}.pkl'.format(Date)\n",
    "print(file_name)\n",
    "drz = pd.read_pickle(file_name)"
   ]
  },
  {
   "cell_type": "markdown",
   "metadata": {},
   "source": [
    "### query rdw"
   ]
  },
  {
   "cell_type": "code",
   "execution_count": 4,
   "metadata": {
    "colab": {},
    "colab_type": "code",
    "id": "S3SIDn2ioqYP",
    "outputId": "9a9fcb4b-33be-4953-828a-c6152ff0829d"
   },
   "outputs": [],
   "source": [
    "# see what lots have a Dutch registration (license number).\n",
    "hasReg = (~drz.Reg.isnull()) & (drz.Reg != 'onbekend') & (drz.Reg != '') & (~drz.LotType.isin([\n",
    "    'Vaartuig',\n",
    "    'Jetski',\n",
    "    'Sloep',\n",
    "    'Speedboot',\n",
    "    'Vaartuig (Type onbekend)',\n",
    "    'Motorvaartuig met opbouw (Pleziervaartuig)',\n",
    "    'Aanhangwagen',\n",
    "]))\n",
    "\n",
    "# make a copy and add info\n",
    "rdw = drz.copy()\n"
   ]
  },
  {
   "cell_type": "code",
   "execution_count": 5,
   "metadata": {},
   "outputs": [],
   "source": [
    "def get_query_url(api_url, regs, token=hidden_api_keys.socrata_apptoken):\n",
    "    '''construct query url'''\n",
    "    \n",
    "    # convert list to string\n",
    "    reg_list = ''.join([\"'{}', \".format(r.replace('-','').upper()) for r in regs])\n",
    "    reg_list = reg_list[0:-2] # remove trailing ', '\n",
    "    q = api_url + '?$$app_token=' + token + '&$where='\n",
    "    # add escaped soql\n",
    "    q += urllib.parse.quote('kenteken in(' + reg_list + ')')\n",
    "    return q"
   ]
  },
  {
   "cell_type": "markdown",
   "metadata": {},
   "source": [
    "Create list of dataframes with different api results"
   ]
  },
  {
   "cell_type": "code",
   "execution_count": null,
   "metadata": {},
   "outputs": [],
   "source": [
    "import urllib\n",
    "\n",
    "# empty list\n",
    "dfs = list()\n",
    "# first element is all registrations\n",
    "dfs.append(rdw.loc[hasReg,['Reg']])\n",
    "dfs[0]['kenteken'] = dfs[0].Reg.apply(lambda r: r.replace('-','').upper())\n",
    "dfs[0].index.name = 'lot_index'\n",
    "dfs[0] = dfs[0].reset_index().set_index('kenteken')\n",
    "display(dfs[0].tail())\n",
    "print(dfs[0].shape)\n",
    "\n",
    "\n",
    "# do main api first to get other possible apis\n",
    "api_name = 'api_gekentekende_voertuigen'\n",
    "api_url = 'https://opendata.rdw.nl/resource/m9d7-ebf2.json'\n",
    "regs = dfs[0].Reg.values\n",
    "print(len(regs),'registrations in this set')\n",
    "\n",
    "# query data base\n",
    "q = get_query_url(api_url,regs)\n",
    "dfs.append(pd.read_json(q))\n",
    "dfs[1].set_index('kenteken', inplace=True)\n",
    "display(dfs[1].tail())\n",
    "print(dfs[1].shape)\n",
    "\n",
    "# query other available apis\n",
    "for api_name in [c for c in dfs[1].columns if c.startswith('api')]:\n",
    "    print(api_name)\n",
    "    for api_url in dfs[1][api_name].unique():\n",
    "        print(api_url)\n",
    "        # query the web\n",
    "        q = get_query_url(api_url,regs)\n",
    "        df0 = pd.read_json(q)\n",
    "        # name of index\n",
    "        df0.columns.name = api_name\n",
    "\n",
    "        # query should return 'kenteken', make it the index\n",
    "        if df0.shape[0] != 0:\n",
    "            df0.set_index('kenteken', inplace=True)\n",
    "            \n",
    "        # Some apis return multiple values. Pivot around index number (\"volgnummer\")\n",
    "        if api_name == 'api_gekentekende_voertuigen_assen':\n",
    "            df0 = pd.pivot(df0, columns='as_nummer')\n",
    "\n",
    "        elif api_name == 'api_gekentekende_voertuigen_brandstof':\n",
    "            df0 = pd.pivot(df0, columns='brandstof_volgnummer')\n",
    "\n",
    "        elif api_name == 'api_gekentekende_voertuigen_carrosserie':\n",
    "            df0 = pd.pivot(df0, columns='carrosserie_volgnummer')\n",
    "\n",
    "        elif api_name == 'api_gekentekende_voertuigen_carrosserie_specifiek':\n",
    "            df0 = pd.pivot(df0, columns='carrosserie_volgnummer')\n",
    "\n",
    "        # squeeze multi index\n",
    "        one_level = [\n",
    "            re.sub('^api_gekentekende_voertuigen_','',api_name) + '_' + '_'.join(\n",
    "                [str(c) if type(c)==int else c for c in l]\n",
    "            ) for l in df0.columns\n",
    "        ]\n",
    "        df0.columns = one_level\n",
    "\n",
    "        # add to list\n",
    "        display(df0.tail())\n",
    "        print(df0.shape)\n",
    "        dfs.append(df0)   "
   ]
  },
  {
   "cell_type": "code",
   "execution_count": null,
   "metadata": {},
   "outputs": [],
   "source": [
    "# Merge dataframes from different apis\n",
    "df = pd.concat(dfs, axis='columns', sort=False)\n",
    "# add timestamp\n",
    "df['TimeStamp'] = pd.to_datetime('now').strftime('%Y%m%d')\n",
    "# set lot id as index\n",
    "df.index.name = 'kenteken'\n",
    "df = df.reset_index().set_index('lot_index')\n",
    "display(df.tail())\n",
    "print(df.shape)"
   ]
  },
  {
   "cell_type": "markdown",
   "metadata": {},
   "source": [
    "# Merge rdw and drz"
   ]
  },
  {
   "cell_type": "code",
   "execution_count": 8,
   "metadata": {},
   "outputs": [],
   "source": [
    "rdw = pd.concat([rdw, df.add_prefix('rdw_')], axis='columns', sort=False)"
   ]
  },
  {
   "cell_type": "markdown",
   "metadata": {
    "colab_type": "text",
    "id": "zTnve-BNoqYU"
   },
   "source": [
    "### Saving"
   ]
  },
  {
   "cell_type": "code",
   "execution_count": 9,
   "metadata": {
    "colab": {},
    "colab_type": "code",
    "id": "IjzvtLqaoqYW",
    "outputId": "449f4a4c-2d95-4440-f642-7e28434ef8cc"
   },
   "outputs": [
    {
     "name": "stdout",
     "output_type": "stream",
     "text": [
      "../data/rdw-data-2019-06.pkl\n"
     ]
    }
   ],
   "source": [
    "file_name = '../data/rdw-data-{}.pkl'.format(Date)\n",
    "print(file_name)\n",
    "rdw.to_pickle(file_name)"
   ]
  },
  {
   "cell_type": "code",
   "execution_count": null,
   "metadata": {},
   "outputs": [],
   "source": []
  }
 ],
 "metadata": {
  "kernelspec": {
   "display_name": "Python 3",
   "language": "python",
   "name": "python3"
  },
  "language_info": {
   "codemirror_mode": {
    "name": "ipython",
    "version": 3
   },
   "file_extension": ".py",
   "mimetype": "text/x-python",
   "name": "python",
   "nbconvert_exporter": "python",
   "pygments_lexer": "ipython3",
   "version": "3.6.8"
  }
 },
 "nbformat": 4,
 "nbformat_minor": 2
}
