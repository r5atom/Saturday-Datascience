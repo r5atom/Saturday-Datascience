{
 "cells": [
  {
   "cell_type": "markdown",
   "metadata": {},
   "source": [
    "# Add extra information to DRZ auction results\n",
    "\n",
    "Query to the open data dataset of the RDW.\n",
    "\n",
    "It may take a while (10 min) to query all auction results.\n",
    "- - - - "
   ]
  },
  {
   "cell_type": "markdown",
   "metadata": {
    "colab_type": "text",
    "id": "3NKmZCQfoqYI"
   },
   "source": [
    "### User variables\n"
   ]
  },
  {
   "cell_type": "code",
   "execution_count": 1,
   "metadata": {},
   "outputs": [],
   "source": [
    "Date = '2019-09' # yyyy-mm"
   ]
  },
  {
   "cell_type": "markdown",
   "metadata": {},
   "source": [
    "### Modules and functions"
   ]
  },
  {
   "cell_type": "code",
   "execution_count": 2,
   "metadata": {
    "colab": {},
    "colab_type": "code",
    "id": "6ZmS55RpoqYL"
   },
   "outputs": [],
   "source": [
    "import pandas as pd\n",
    "import re \n",
    "# to keep api key hidden import this from sub dir\n",
    "import assets.hidden_api_keys as hidden_api_keys\n",
    "from time import sleep\n",
    "\n",
    "# base url\n",
    "apiurl = 'https://opendata.rdw.nl/resource/m9d7-ebf2.json?$$app_token=' + hidden_api_keys.socrata_apptoken + '&'\n",
    "\n",
    "def get_json_from_api(url,reg,c=0):\n",
    "    \n",
    "    '''Get json object from api'''\n",
    "    \n",
    "    import time\n",
    "\n",
    "    c+=1\n",
    "    try:\n",
    "        df=pd.read_json(url + 'kenteken=' + reg.replace('-','').upper()).to_dict()\n",
    "    except:\n",
    "        if c > 10:\n",
    "            print(url,reg)\n",
    "            raise \n",
    "        else:\n",
    "            print('pause 2 sec and try again!')\n",
    "            time.sleep(2)\n",
    "            df = get_json_from_api(url,reg,c)\n",
    "    \n",
    "    return df\n",
    "    \n",
    "# get_json_from_api(apiurl,'61-sf-FG')"
   ]
  },
  {
   "cell_type": "markdown",
   "metadata": {},
   "source": [
    "### Load auction results"
   ]
  },
  {
   "cell_type": "code",
   "execution_count": 3,
   "metadata": {},
   "outputs": [
    {
     "name": "stdout",
     "output_type": "stream",
     "text": [
      "../data/drz-data-2019-09.pkl\n"
     ]
    }
   ],
   "source": [
    "file_name = '../data/drz-data-{}.pkl'.format(Date)\n",
    "print(file_name)\n",
    "drz = pd.read_pickle(file_name)"
   ]
  },
  {
   "cell_type": "markdown",
   "metadata": {},
   "source": [
    "### query rdw"
   ]
  },
  {
   "cell_type": "code",
   "execution_count": 4,
   "metadata": {
    "colab": {},
    "colab_type": "code",
    "id": "S3SIDn2ioqYP",
    "outputId": "9a9fcb4b-33be-4953-828a-c6152ff0829d"
   },
   "outputs": [],
   "source": [
    "# see what lots have a Dutch registration (license number).\n",
    "hasReg = (~drz.Reg.isnull()) & (drz.Reg != 'onbekend') & (drz.Reg != '') & (~drz.LotType.isin([\n",
    "    'Vaartuig',\n",
    "    'Jetski',\n",
    "    'Sloep',\n",
    "    'Speedboot',\n",
    "    'Vaartuig (Type onbekend)',\n",
    "    'Motorvaartuig met opbouw (Pleziervaartuig)',\n",
    "    'Aanhangwagen',\n",
    "]))\n",
    "\n",
    "# make a copy and add info\n",
    "rdw = drz.copy()\n"
   ]
  },
  {
   "cell_type": "code",
   "execution_count": 5,
   "metadata": {},
   "outputs": [],
   "source": [
    "def get_query_url(api_url, keys, token=hidden_api_keys.socrata_apptoken, field='kenteken'):\n",
    "    '''construct query url'''\n",
    "    \n",
    "    # convert list to string\n",
    "    id_list = ''.join([\"'{}', \".format(k) for k in keys])\n",
    "    id_list = id_list[0:-2] # remove trailing ', '\n",
    "    q = api_url + '?$$app_token=' + token + '&$where='\n",
    "    # add escaped soql\n",
    "    soql = field + ' in(' + id_list + ')'\n",
    "    q += urllib.parse.quote(soql)\n",
    "    return q"
   ]
  },
  {
   "cell_type": "markdown",
   "metadata": {},
   "source": [
    "Create list of dataframes with different api results"
   ]
  },
  {
   "cell_type": "code",
   "execution_count": null,
   "metadata": {},
   "outputs": [],
   "source": [
    "import urllib\n",
    "\n",
    "# empty dictionary\n",
    "dfs_regs = dict()\n",
    "# first element is all registrations\n",
    "key = 'registations'\n",
    "dfs_regs[key] = rdw.loc[hasReg,['Reg']]\n",
    "dfs_regs[key]['kenteken'] = dfs_regs[key].Reg.apply(lambda r: r.replace('-','').upper())\n",
    "dfs_regs[key].index.name = 'lot_index'\n",
    "dfs_regs[key] = dfs_regs[key].reset_index().set_index('kenteken')\n",
    "display(dfs_regs[key].tail())\n",
    "print(dfs_regs[key].shape)\n"
   ]
  },
  {
   "cell_type": "code",
   "execution_count": null,
   "metadata": {},
   "outputs": [],
   "source": [
    "# do main api first to get other possible apis\n",
    "api_name = 'api_gekentekende_voertuigen'\n",
    "key = re.sub('^api_','',api_name)\n",
    "api_url = 'https://opendata.rdw.nl/resource/m9d7-ebf2.json'\n",
    "regs = dfs_regs['registations'].Reg.values\n",
    "regs = [r.replace('-','').upper() for r in regs]\n",
    "print(len(regs),'registrations in this set')\n",
    "\n",
    "# query data base\n",
    "q = get_query_url(api_url,regs)\n",
    "dfs_regs[key] = pd.read_json(q)\n",
    "dfs_regs[key].set_index('kenteken', inplace=True)\n",
    "display(dfs_regs[key].tail())\n",
    "print(dfs_regs[key].shape)\n",
    "\n",
    "# query other available apis\n",
    "for api_name in [c for c in dfs_regs['gekentekende_voertuigen'].columns if c.startswith('api')]:\n",
    "    print(api_name, end=': ')\n",
    "    key = re.sub('^api_','',api_name)\n",
    "    for api_url in dfs_regs['gekentekende_voertuigen'][api_name].unique():\n",
    "        print(api_url)\n",
    "        # query the web\n",
    "        q = get_query_url(api_url,regs)\n",
    "        df0 = pd.read_json(q)\n",
    "        # name of index\n",
    "        df0.columns.name = api_name\n",
    "\n",
    "        # query should return 'kenteken', make it the index\n",
    "        if df0.shape[0] != 0:\n",
    "            df0.set_index('kenteken', inplace=True)\n",
    "            \n",
    "        # Some apis return multiple values. Pivot around index number (\"volgnummer\")\n",
    "        if api_name == 'api_gekentekende_voertuigen_assen':\n",
    "            df0 = pd.pivot(df0, columns='as_nummer')\n",
    "\n",
    "        elif api_name == 'api_gekentekende_voertuigen_brandstof':\n",
    "            df0 = pd.pivot(df0, columns='brandstof_volgnummer')\n",
    "\n",
    "        elif api_name == 'api_gekentekende_voertuigen_carrosserie':\n",
    "            df0 = pd.pivot(df0, columns='carrosserie_volgnummer')\n",
    "\n",
    "        elif api_name == 'api_gekentekende_voertuigen_carrosserie_specifiek':\n",
    "            df0 = pd.pivot(df0, columns='carrosserie_volgnummer')\n",
    "\n",
    "        # squeeze multi index\n",
    "        one_level = [\n",
    "            re.sub('^api_gekentekende_voertuigen_','',api_name) + '_' + '_'.join(\n",
    "                [str(c) if type(c)==int else c for c in l]\n",
    "            ) for l in df0.columns\n",
    "        ]\n",
    "        df0.columns = one_level\n",
    "\n",
    "        # add to list\n",
    "        display(df0.tail())\n",
    "        print(df0.shape)\n",
    "        dfs_regs[key]=df0"
   ]
  },
  {
   "cell_type": "code",
   "execution_count": null,
   "metadata": {},
   "outputs": [],
   "source": [
    "# Merge dataframes from different apis\n",
    "df_regs = pd.concat(dfs_regs.values(), axis='columns', sort=False)\n",
    "# add timestamp\n",
    "df_regs['TimeStamp'] = pd.to_datetime('now').strftime('%Y%m%d')\n",
    "# set lot id as index\n",
    "df_regs.index.name = 'kenteken'\n",
    "df_regs = df_regs.reset_index().set_index('lot_index')\n",
    "display(df_regs.tail())\n",
    "print(df_regs.shape)"
   ]
  },
  {
   "cell_type": "code",
   "execution_count": null,
   "metadata": {},
   "outputs": [],
   "source": [
    "# empty dict\n",
    "dfs_confcodes = dict()\n",
    "# Conformity codes have sub-divisions. Four fields make a super key\n",
    "key = 'conformity_codes'\n",
    "dfs_confcodes[key] = dfs_regs['gekentekende_voertuigen'][[\n",
    "    'typegoedkeuringsnummer', \n",
    "    'uitvoering', \n",
    "    'variant', \n",
    "    'volgnummer_wijziging_eu_typegoedkeuring'\n",
    "]].dropna().drop_duplicates()\n",
    "dfs_confcodes[key].reset_index(drop=True, inplace=True)\n",
    "print(len(dfs_confcodes[key]),'conformity codes in this set')\n",
    "\n",
    "display(dfs_confcodes[key].tail())\n",
    "print(dfs_confcodes[key].shape)"
   ]
  },
  {
   "cell_type": "code",
   "execution_count": null,
   "metadata": {},
   "outputs": [],
   "source": [
    "# do conformity api and again get other possible apis\n",
    "api_name = 'api_eeg_voertuigtypegoedkeuring'\n",
    "key = re.sub('^api_','',api_name)\n",
    "api_url = 'https://opendata.rdw.nl/resource/55kv-xf7m.json'\n",
    "\n",
    "# query data base\n",
    "# will not use sub-division, but long (year with century) version of conformity code\n",
    "q = get_query_url(api_url, \n",
    "                  dfs_confcodes['conformity_codes'].typegoedkeuringsnummer.unique(), \n",
    "                  field='typegoedkeuringsnummer')\n",
    "dfs_confcodes[key] = pd.read_json(q)\n",
    "# more than one conformity code?\n",
    "assert not (dfs_confcodes[key].groupby('typegoedkeuringsnummer')['typegoedkeuringsnummer'].count() > 1).any()\n",
    "dfs_confcodes[key].set_index('typegoedkeuringsnummer', inplace=True)\n",
    "display(dfs_confcodes[key].tail())\n",
    "print(dfs_confcodes[key].shape)"
   ]
  },
  {
   "cell_type": "code",
   "execution_count": null,
   "metadata": {},
   "outputs": [],
   "source": [
    "# add slightly different keys (year has no century)\n",
    "dfs_confcodes['conformity_codes'] = dfs_confcodes['conformity_codes'].merge(\n",
    "    dfs_confcodes['eeg_voertuigtypegoedkeuring'].eu_type_goedkeuringssleutel, \n",
    "    how='left', \n",
    "    left_on='typegoedkeuringsnummer', \n",
    "    right_index=True\n",
    ")\n",
    "dfs_confcodes['conformity_codes'].tail()"
   ]
  },
  {
   "cell_type": "code",
   "execution_count": null,
   "metadata": {},
   "outputs": [],
   "source": [
    "# query other available apis\n",
    "for api_name in [c for c in dfs_confcodes['eeg_voertuigtypegoedkeuring'].columns if c.startswith('api')]:\n",
    "    print(api_name, end=': ')\n",
    "    key = re.sub('^api_','',api_name)\n",
    "    for api_url in dfs_confcodes['eeg_voertuigtypegoedkeuring'][api_name].unique():\n",
    "        \n",
    "        # reformat url\n",
    "        M=re.search('https://opendata.rdw.nl/.*/([a-z0-9]{4}-[a-z0-9]{4})$', api_url)\n",
    "        api_url = 'https://opendata.rdw.nl/resource/{}.json'.format(M[1])\n",
    "        print(api_url)\n",
    "\n",
    "#         if api_name in [\n",
    "#             'api_as_gegevens_eeg_uitvoering',\n",
    "#             'api_basisgegevens_eeg_uitvoering',\n",
    "#             'api_carrosserie_uitvoering',\n",
    "#             'api_carrosserie_uitvoering_klasse',\n",
    "#             'api_carrosserie_uitvoering_nummerieke_code',            \n",
    "#             'api_handelsbenaming_uitvoering',\n",
    "#             'api_merk_uitvoering_toegestaan',\n",
    "#             'api_motor_uitvoering',\n",
    "#             'api_motor_uitvoering_brandstof',\n",
    "#             'api_plaatsaanduiding_uitvoering',\n",
    "#             'api_subcategorie_uitvoering',\n",
    "#             'api_uitvoeringverbruik_per_uitgave',\n",
    "#             'api_versnellingsbak_uitvoering',\n",
    "#         ]: continue\n",
    "        \n",
    "        # query the web\n",
    "        # unfortunately this needs to be done one by one, because conformity code is not unique                   \n",
    "        df0 = pd.DataFrame()\n",
    "        for ix, row in dfs_confcodes['conformity_codes'].iterrows():\n",
    "            q = api_url\n",
    "            q += '?$$app_token=' + hidden_api_keys.socrata_apptoken \n",
    "            q += '&{}=\\'{}\\''.format('eu_type_goedkeuringssleutel', urllib.parse.quote(row.eu_type_goedkeuringssleutel))\n",
    "            q += '&{}=\\'{}\\''.format('eeg_uitvoeringscode', urllib.parse.quote(row.uitvoering))\n",
    "            q += '&{}=\\'{}\\''.format('eeg_variantcode', urllib.parse.quote(row.variant))\n",
    "            q += '&{}={:.0f}'.format('uitvoering_wijzigingsnummer', row.volgnummer_wijziging_eu_typegoedkeuring)\n",
    "                \n",
    "            n_try = 0\n",
    "            OK = False\n",
    "            while (n_try < 10) & (not OK):\n",
    "                try:\n",
    "                    res = pd.read_json(q)\n",
    "                    OK = True\n",
    "                    n_try = 0\n",
    "                except:\n",
    "                    n_try +=1\n",
    "                    sleep(10)\n",
    "                if n_try == 10:\n",
    "                    raise\n",
    "\n",
    "            if len(res) == 0:\n",
    "                continue\n",
    "\n",
    "            # matching data type with 'codes' for merging\n",
    "            res.eu_type_goedkeuringssleutel = res.eu_type_goedkeuringssleutel.astype(str)\n",
    "            res.eeg_uitvoeringscode = res.eeg_uitvoeringscode.astype(str)\n",
    "            res.eeg_variantcode = res.eeg_variantcode.astype(str)\n",
    "            res.uitvoering_wijzigingsnummer = res.uitvoering_wijzigingsnummer.astype(float)\n",
    "            res.set_index([\n",
    "                'eu_type_goedkeuringssleutel', \n",
    "                'eeg_uitvoeringscode', \n",
    "                'eeg_variantcode', \n",
    "                'uitvoering_wijzigingsnummer'\n",
    "            ], inplace=True)\n",
    "                \n",
    "            if api_name == 'api_as_gegevens_eeg_uitvoering':               \n",
    "                piv = res.pivot(columns='asnummer')\n",
    "                one_level = [\n",
    "                            re.sub('^api_','', re.sub('_eeg_uitvoering$','',api_name)) + '_' + '_'.join(\n",
    "                                [str(c) if type(c)==int else c for c in l]\n",
    "                            ) for l in piv.columns\n",
    "                        ]\n",
    "                piv.columns = one_level\n",
    "                df0 = pd.concat([df0, piv], sort=False)                \n",
    "            elif api_name == 'api_handelsbenaming_uitvoering':                \n",
    "                piv = res.pivot(columns='volgnummer')\n",
    "                one_level = [\n",
    "                            re.sub('^api_','', re.sub('_eeg_uitvoering$','',api_name)) + '_' + '_'.join(\n",
    "                                [str(c) if type(c)==int else c for c in l]\n",
    "                            ) for l in piv.columns\n",
    "                        ]\n",
    "                piv.columns = one_level\n",
    "                df0 = pd.concat([df0, piv], sort=False)\n",
    "            elif api_name == 'api_carrosserie_uitvoering':                \n",
    "                piv = res.pivot(columns='carrosserie_volgnummer')\n",
    "                one_level = [\n",
    "                            re.sub('^api_','', re.sub('_eeg_uitvoering$','',api_name)) + '_' + '_'.join(\n",
    "                                [str(c) if type(c)==int else c for c in l]\n",
    "                            ) for l in piv.columns\n",
    "                        ]\n",
    "                piv.columns = one_level\n",
    "                df0 = pd.concat([df0, piv], sort=False)\n",
    "            elif api_name == 'api_plaatsaanduiding_uitvoering':\n",
    "                piv = res.pivot(columns='plaats_aanduiding_volgnummer')\n",
    "                one_level = [\n",
    "                            re.sub('^api_','', re.sub('_eeg_uitvoering$','',api_name)) + '_' + '_'.join(\n",
    "                                [str(c) if type(c)==int else c for c in l]\n",
    "                            ) for l in piv.columns\n",
    "                        ]\n",
    "                piv.columns = one_level\n",
    "                df0 = pd.concat([df0, piv], sort=False)            \n",
    "            elif api_name == 'api_uitvoeringverbruik_per_uitgave':\n",
    "                piv = res.pivot(columns='uitvgavenummer_verbruikboek')\n",
    "                one_level = [\n",
    "                            re.sub('^api_','', re.sub('_eeg_uitvoering$','',api_name)) + '_' + '_'.join(\n",
    "                                [str(c) if type(c)==int else c for c in l]\n",
    "                            ) for l in piv.columns\n",
    "                        ]\n",
    "                piv.columns = one_level\n",
    "                df0 = pd.concat([df0, piv], sort=False)\n",
    "            elif api_name == 'api_motor_uitvoering':\n",
    "                piv = res.pivot(columns='volgnummer')\n",
    "                one_level = [\n",
    "                            re.sub('^api_','', re.sub('_eeg_uitvoering$','',api_name)) + '_' + '_'.join(\n",
    "                                [str(c) if type(c)==int else c for c in l]\n",
    "                            ) for l in piv.columns\n",
    "                        ]\n",
    "                piv.columns = one_level\n",
    "                df0 = pd.concat([df0, piv], sort=False)\n",
    "            elif api_name == 'api_versnellingsbak_uitvoering':\n",
    "                piv = res.pivot(columns='volgnummer')\n",
    "                one_level = [\n",
    "                            re.sub('^api_','', re.sub('_eeg_uitvoering$','',api_name)) + '_' + '_'.join(\n",
    "                                [str(c) if type(c)==int else c for c in l]\n",
    "                            ) for l in piv.columns\n",
    "                        ]\n",
    "                piv.columns = one_level\n",
    "                df0 = pd.concat([df0, piv], sort=False)\n",
    "            elif api_name == 'api_motor_uitvoering_brandstof':\n",
    "                piv = pd.pivot_table(res, index=res.index.names, columns=['volgnummer', 'brandstof_volgnummer'])\n",
    "                one_level = [\n",
    "                            re.sub('^api_','', re.sub('_eeg_uitvoering$','',api_name)) + '_' + '_'.join(\n",
    "                                [str(c) if type(c)==int else c for c in l]\n",
    "                            ) for l in piv.columns\n",
    "                        ]\n",
    "                piv.columns = one_level\n",
    "                df0 = pd.concat([df0, piv], sort=False)                \n",
    "            elif api_name == 'api_merk_uitvoering_toegestaan':\n",
    "                piv = pd.pivot_table(res, index=res.index.names, values=res.columns, aggfunc=list)\n",
    "                df0 = pd.concat([df0, piv], sort=False)\n",
    "            else:\n",
    "                assert res.shape[0] == 1\n",
    "                columns = ['{}_{}'.format(re.sub('^api_','', re.sub('_eeg_uitvoering$','',api_name)), c) for c in res.columns] \n",
    "                res.columns = columns\n",
    "                df0 = pd.concat([df0, res], sort=False)\n",
    "                \n",
    "            print('.', end='')\n",
    "        if len(df0)==0:\n",
    "            print('No results for this api')\n",
    "            continue\n",
    "\n",
    "\n",
    "        # add to dict\n",
    "        dfs_confcodes[key] = df0\n",
    "        display(dfs_confcodes[key].tail())\n",
    "        print(dfs_confcodes[key].shape)\n"
   ]
  },
  {
   "cell_type": "code",
   "execution_count": null,
   "metadata": {},
   "outputs": [],
   "source": [
    "# Merge dataframes from different apis\n",
    "\n",
    "# first merge first two results\n",
    "tmp = dfs_confcodes['conformity_codes'].merge(dfs_confcodes['eeg_voertuigtypegoedkeuring'], how='left', \n",
    "                                              left_on='typegoedkeuringsnummer',\n",
    "                                              right_index=True\n",
    "                                             )\n",
    "tmp['uitvoering']\n",
    "tmp.rename(columns={\n",
    "    'eu_type_goedkeuringssleutel_x': 'eu_type_goedkeuringssleutel',\n",
    "    'uitvoering': 'eeg_uitvoeringscode',\n",
    "    'variant': 'eeg_variantcode',\n",
    "    'volgnummer_wijziging_eu_typegoedkeuring': 'uitvoering_wijzigingsnummer',\n",
    "}, inplace=True)\n",
    "tmp.set_index(['eu_type_goedkeuringssleutel', 'eeg_uitvoeringscode', 'eeg_variantcode', 'uitvoering_wijzigingsnummer'], inplace=True)\n",
    "\n",
    "# merge with subsequent api results\n",
    "df_confcodes = pd.concat([tmp] + list(dfs_confcodes.values())[2:], axis='columns', sort=False)\n",
    "# add timestamp\n",
    "df_confcodes['TimeStamp'] = pd.to_datetime('now').strftime('%Y%m%d')\n",
    "\n",
    "display(df_confcodes.tail())\n",
    "print(df_confcodes.shape)"
   ]
  },
  {
   "cell_type": "code",
   "execution_count": null,
   "metadata": {},
   "outputs": [],
   "source": [
    "# Merge confirmation codes with registrations\n",
    "df_regs.index.name = 'lot_index'\n",
    "df = df_regs.reset_index().merge(df_confcodes.reset_index(), how='left',\n",
    "                   left_on=['typegoedkeuringsnummer', 'uitvoering', 'variant', 'volgnummer_wijziging_eu_typegoedkeuring'],\n",
    "                   right_on=['typegoedkeuringsnummer', 'eeg_uitvoeringscode', 'eeg_variantcode', 'uitvoering_wijzigingsnummer'],\n",
    ").set_index('lot_index')\n",
    "display(df.tail(10))\n",
    "print(df.shape)\n",
    "assert all(df.columns.value_counts() == 1)"
   ]
  },
  {
   "cell_type": "markdown",
   "metadata": {},
   "source": [
    "# Merge rdw and drz"
   ]
  },
  {
   "cell_type": "code",
   "execution_count": 15,
   "metadata": {},
   "outputs": [],
   "source": [
    "rdw = pd.concat([rdw, df.add_prefix('rdw_')], axis='columns', sort=False)\n",
    "# There should be no duplicates in column names\n",
    "assert all(rdw.columns.value_counts() == 1)\n",
    "# indices should match\n",
    "assert rdw.index.isin(drz.index).all() & drz.index.isin(rdw.index).all()"
   ]
  },
  {
   "cell_type": "markdown",
   "metadata": {
    "colab_type": "text",
    "id": "zTnve-BNoqYU"
   },
   "source": [
    "### Saving"
   ]
  },
  {
   "cell_type": "code",
   "execution_count": 16,
   "metadata": {
    "colab": {},
    "colab_type": "code",
    "id": "IjzvtLqaoqYW",
    "outputId": "449f4a4c-2d95-4440-f642-7e28434ef8cc"
   },
   "outputs": [
    {
     "name": "stdout",
     "output_type": "stream",
     "text": [
      "../data/rdw-data-2019-09.pkl\n"
     ]
    }
   ],
   "source": [
    "file_name = '../data/rdw-data-{}.pkl'.format(Date)\n",
    "print(file_name)\n",
    "rdw.to_pickle(file_name)"
   ]
  },
  {
   "cell_type": "code",
   "execution_count": null,
   "metadata": {},
   "outputs": [],
   "source": []
  }
 ],
 "metadata": {
  "kernelspec": {
   "display_name": "Python 3",
   "language": "python",
   "name": "python3"
  },
  "language_info": {
   "codemirror_mode": {
    "name": "ipython",
    "version": 3
   },
   "file_extension": ".py",
   "mimetype": "text/x-python",
   "name": "python",
   "nbconvert_exporter": "python",
   "pygments_lexer": "ipython3",
   "version": "3.6.8"
  }
 },
 "nbformat": 4,
 "nbformat_minor": 2
}
