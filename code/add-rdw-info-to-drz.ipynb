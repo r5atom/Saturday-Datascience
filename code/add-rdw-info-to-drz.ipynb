{
 "cells": [
  {
   "cell_type": "markdown",
   "metadata": {},
   "source": [
    "# Add extra information to DRZ auction results\n",
    "\n",
    "Query to the open data dataset of the RDW.\n",
    "\n",
    "It may take a while (10 min) to query all auction results.\n",
    "- - - - "
   ]
  },
  {
   "cell_type": "markdown",
   "metadata": {
    "colab_type": "text",
    "id": "3NKmZCQfoqYI"
   },
   "source": [
    "### User variables\n"
   ]
  },
  {
   "cell_type": "code",
   "execution_count": 1,
   "metadata": {},
   "outputs": [],
   "source": [
    "Date = '2019-03' # yyyy-mm"
   ]
  },
  {
   "cell_type": "markdown",
   "metadata": {},
   "source": [
    "### Modules and functions"
   ]
  },
  {
   "cell_type": "code",
   "execution_count": 2,
   "metadata": {
    "colab": {},
    "colab_type": "code",
    "id": "6ZmS55RpoqYL"
   },
   "outputs": [],
   "source": [
    "import pandas as pd\n",
    "\n",
    "# to keep api key hidden import this from sub dir\n",
    "import assets.hidden_api_keys as hidden_api_keys\n",
    "\n",
    "# base url\n",
    "apiurl = 'https://opendata.rdw.nl/resource/m9d7-ebf2.json?$$app_token=' + hidden_api_keys.socrata_apptoken + '&'\n",
    "\n",
    "def get_json_from_api(url,reg,c=0):\n",
    "    \n",
    "    '''Get json object from api'''\n",
    "    \n",
    "    import time\n",
    "\n",
    "    c+=1\n",
    "    try:\n",
    "        df=pd.read_json(url + 'kenteken=' + reg.replace('-','').upper()).to_dict()\n",
    "    except:\n",
    "        if c > 10:\n",
    "            print(url,reg)\n",
    "            raise \n",
    "        else:\n",
    "            print('pause 2 sec and try again!')\n",
    "            time.sleep(2)\n",
    "            df = get_json_from_api(url,reg,c)\n",
    "    \n",
    "    return df\n",
    "    \n",
    "# get_json_from_api(apiurl,'61-sf-FG')"
   ]
  },
  {
   "cell_type": "markdown",
   "metadata": {},
   "source": [
    "### Load auction results"
   ]
  },
  {
   "cell_type": "code",
   "execution_count": 3,
   "metadata": {},
   "outputs": [
    {
     "name": "stdout",
     "output_type": "stream",
     "text": [
      "../data/drz-data-2019-03.pkl\n"
     ]
    }
   ],
   "source": [
    "file_name = '../data/drz-data-{}.pkl'.format(Date)\n",
    "print(file_name)\n",
    "drz = pd.read_pickle(file_name)"
   ]
  },
  {
   "cell_type": "markdown",
   "metadata": {},
   "source": [
    "### query rdw"
   ]
  },
  {
   "cell_type": "code",
   "execution_count": 4,
   "metadata": {
    "colab": {},
    "colab_type": "code",
    "id": "S3SIDn2ioqYP",
    "outputId": "9a9fcb4b-33be-4953-828a-c6152ff0829d"
   },
   "outputs": [
    {
     "name": "stdout",
     "output_type": "stream",
     "text": [
      ":::::::::::::::::::- 99.6% <done>\n"
     ]
    }
   ],
   "source": [
    "# see what lots have a Dutch registration (license number).\n",
    "hasReg = (~drz.Reg.isnull()) & (drz.Reg != 'onbekend') & (~drz.LotType.isin([\n",
    "    'Vaartuig',\n",
    "    'Jetski',\n",
    "    'Sloep',\n",
    "    'Speedboot',\n",
    "    'Vaartuig (Type onbekend)',\n",
    "    'Motorvaartuig met opbouw (Pleziervaartuig)',\n",
    "    'Aanhangwagen',\n",
    "]))\n",
    "\n",
    "# make a copy and add info\n",
    "rdw = drz.copy()\n",
    "rdw[\"rdwinfo\"]=None\n",
    "\n",
    "# loop over lots with regristration\n",
    "for idx in hasReg.index[hasReg]:\n",
    "    \n",
    "    \n",
    "    # progress indicator\n",
    "    \n",
    "    prog = pd.np.where(hasReg.index==idx)[0].item()/len(hasReg.index)\n",
    "    nprog = int(prog*20)\n",
    "    s = ':' * nprog + '-' * (20-nprog)\n",
    "\n",
    "    print('{:s} {:.1f}%'.format(s, prog*100), end = '', flush = True)\n",
    "\n",
    "    \n",
    "    # Registration  (License plate)\n",
    "    \n",
    "    Reg = rdw.loc[idx,'Reg']\n",
    "\n",
    "    \n",
    "    # make list of dicts that came from api responses\n",
    "    \n",
    "    d=[]\n",
    "    d.append(get_json_from_api(apiurl,Reg))\n",
    "    \n",
    "    \n",
    "    # deeper api could be listed in result. Query those too\n",
    "\n",
    "    for api in [k for k in d[0].keys() if k.startswith('api')]:\n",
    "        apiurl2 = d[0][api][0] + '?$$app_token=' + hidden_api_keys.socrata_apptoken + '&' \n",
    "        d.append(get_json_from_api(apiurl2,Reg))\n",
    "\n",
    "        \n",
    "    # concat dicts into one\n",
    "    \n",
    "    dd = d[0] # append to first\n",
    "    for iD in range(1,len(d)):\n",
    "        dd={**dd,**d[iD]}\n",
    "        \n",
    "\n",
    "    # add time stamp, when rdw was queried\n",
    "\n",
    "    dd['TimeStamp']=pd.to_datetime('now').strftime('%Y%m%d')\n",
    "\n",
    "    # add dict to df\n",
    "\n",
    "    rdw.loc[idx,'rdwinfo'] = [dd]\n",
    "    \n",
    "    # reset prog. indicator\n",
    "    print('', end='\\r')\n",
    "    \n",
    "print('{:s} {:.1f}% <done>'.format(s, prog*100))"
   ]
  },
  {
   "cell_type": "markdown",
   "metadata": {
    "colab_type": "text",
    "id": "zTnve-BNoqYU"
   },
   "source": [
    "### Saving"
   ]
  },
  {
   "cell_type": "code",
   "execution_count": 5,
   "metadata": {
    "colab": {},
    "colab_type": "code",
    "id": "IjzvtLqaoqYW",
    "outputId": "449f4a4c-2d95-4440-f642-7e28434ef8cc"
   },
   "outputs": [
    {
     "name": "stdout",
     "output_type": "stream",
     "text": [
      "../data/rdw-data-2019-03.pkl\n"
     ]
    }
   ],
   "source": [
    "file_name = '../data/rdw-data-{}.pkl'.format(Date)\n",
    "print(file_name)\n",
    "rdw.to_pickle(file_name)"
   ]
  },
  {
   "cell_type": "code",
   "execution_count": null,
   "metadata": {},
   "outputs": [],
   "source": []
  }
 ],
 "metadata": {
  "kernelspec": {
   "display_name": "Python 3",
   "language": "python",
   "name": "python3"
  },
  "language_info": {
   "codemirror_mode": {
    "name": "ipython",
    "version": 3
   },
   "file_extension": ".py",
   "mimetype": "text/x-python",
   "name": "python",
   "nbconvert_exporter": "python",
   "pygments_lexer": "ipython3",
   "version": "3.6.8"
  }
 },
 "nbformat": 4,
 "nbformat_minor": 2
}
