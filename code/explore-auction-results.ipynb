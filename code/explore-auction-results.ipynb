{
 "cells": [
  {
   "cell_type": "markdown",
   "metadata": {},
   "source": [
    "# Explore auction results\n",
    "\n",
    "EDA of recent auction."
   ]
  },
  {
   "cell_type": "code",
   "execution_count": null,
   "metadata": {
    "tags": [
     "nbconvert_instruction:remove_all_outputs"
    ]
   },
   "outputs": [],
   "source": [
    "import drz_config\n",
    "cfg = drz_config.read_config()\n",
    "DATE = cfg['DATE']\n",
    "VERBOSE = cfg['VERBOSE']\n",
    "OPBOD = cfg['OPBOD']\n",
    "if not OPBOD:\n",
    "    month_counter = cfg['URL'][-2:]\n",
    "else:\n",
    "    month_counter = cfg['URL'][-4:-2]\n",
    "    \n",
    "if VERBOSE > 0:\n",
    "    display(cfg)"
   ]
  },
  {
   "cell_type": "code",
   "execution_count": 2,
   "metadata": {},
   "outputs": [],
   "source": [
    "import pandas as pd\n",
    "import numpy as np\n",
    "import matplotlib.pyplot as plt\n",
    "from IPython.display import Image"
   ]
  },
  {
   "cell_type": "markdown",
   "metadata": {},
   "source": [
    "# Load results\n",
    "\n",
    "Load both auction results **and** data from rdw."
   ]
  },
  {
   "cell_type": "code",
   "execution_count": null,
   "metadata": {
    "tags": [
     "nbconvert_instruction:remove_all_outputs"
    ]
   },
   "outputs": [],
   "source": [
    "file_name = f'../data/drz-data-{DATE}-{month_counter}.pkl'\n",
    "if OPBOD:\n",
    "    file_name = file_name.replace('.pkl', '-opbod.pkl')\n",
    "print(file_name)\n",
    "drz = pd.read_pickle(file_name)\n",
    "\n",
    "file_name = f'../data/rdw-data-{DATE}-{month_counter}.pkl'\n",
    "if OPBOD:\n",
    "    file_name = file_name.replace('.pkl', '-opbod.pkl')\n",
    "print(file_name)\n",
    "rdw = pd.read_pickle(file_name)\n",
    "\n",
    "# rdw column names\n",
    "#   NOTE: format changed in April 2019: RDW info is appended to auction results as extra columns in dataframe\n",
    "if pd.to_datetime(DATE, format='%Y-%m') >= pd.to_datetime('2019-04', format='%Y-%m'):\n",
    "    rdwinfo = [c for c in rdw.columns if c.startswith('rdw_')]\n",
    "\n",
    "# fix odometer\n",
    "if pd.to_datetime(DATE, format='%Y-%m') == pd.to_datetime('2019-09', format='%Y-%m'):\n",
    "    sel = (rdw.OdoKM == 'volgens NAP logisch') | (rdw.OdoKM == 'volgens NAP onlogisch') | (rdw.OdoKM == 'volgens nap onlogisch')\n",
    "    display(drz.loc[sel, ['Title', 'OdoKM', 'NAP']])\n",
    "    \n",
    "    idx = '2019-9-9106'\n",
    "    print('\\n'.join(drz.loc[idx,'Raw_text']))\n",
    "    drz.loc[idx,'NAP'] = 'logisch'\n",
    "    rdw.loc[idx,'NAP'] = 'logisch'\n",
    "    drz.loc[idx,'OdoKM'] = '251.571'\n",
    "    rdw.loc[idx,'OdoKM'] = '251.571'\n",
    "    \n",
    "    display(drz.loc[[idx],['Title', 'OdoKM', 'NAP']])\n",
    "    display(rdw.loc[[idx],['Title', 'OdoKM', 'NAP']])\n",
    "\n",
    "    idx = '2019-9-9258'\n",
    "    print('\\n'.join(drz.loc[idx,'Raw_text']))\n",
    "    drz.loc[idx,'NAP'] = 'onlogisch'\n",
    "    rdw.loc[idx,'NAP'] = 'onlogisch'\n",
    "    drz.loc[idx,'OdoKM'] = ''\n",
    "    rdw.loc[idx,'OdoKM'] = ''\n",
    "    \n",
    "    idx = '2019-9-9249'\n",
    "    print('\\n'.join(drz.loc[idx,'Raw_text']))\n",
    "    drz.loc[idx,'NAP'] = 'onlogisch'\n",
    "    rdw.loc[idx,'NAP'] = 'onlogisch'\n",
    "    drz.loc[idx,'OdoKM'] = ''\n",
    "    rdw.loc[idx,'OdoKM'] = ''\n",
    "    \n",
    "    \n",
    "    display(rdw.loc[sel, ['Title', 'OdoKM', 'NAP']])\n",
    "    display(drz.loc[sel, ['Title', 'OdoKM', 'NAP']])\n",
    "    sel = (rdw.OdoKM == 'volgens NAP logisch') | (rdw.OdoKM == 'volgens NAP onlogisch')\n",
    "    assert all(~sel)\n",
    "\n"
   ]
  },
  {
   "cell_type": "markdown",
   "metadata": {},
   "source": [
    "# Cheap cars with valid inspection"
   ]
  },
  {
   "cell_type": "code",
   "execution_count": null,
   "metadata": {
    "tags": [
     "nbconvert_instruction:remove_all_outputs"
    ]
   },
   "outputs": [],
   "source": [
    "is_cheap = (\n",
    "    drz.LotType == \"Personenauto\"\n",
    ") & (\n",
    "    drz.Price<3000\n",
    ") & (\n",
    "    drz.Price>0\n",
    ") & ~(\n",
    "    (\n",
    "        drz.APKdate.isnull()\n",
    "    ) | (\n",
    "        drz.APKdate.apply(lambda x:x == '')\n",
    "    )\n",
    ")\n",
    "\n",
    "if all(~is_cheap):\n",
    "    is_cheap[drz.Price[drz.Price>0].argmin()] = True\n",
    "    \n",
    "drz.loc[is_cheap,\n",
    "        [\"Price\",\"ItemType\",\"ItemBrand\",\"Mfdate\",\"APKdate\",\"OdoKM\",\"automatic\", \"benzine\"]].sort_values(by=['benzine', 'automatic', 'OdoKM'], ascending=False)"
   ]
  },
  {
   "cell_type": "code",
   "execution_count": null,
   "metadata": {
    "tags": [
     "nbconvert_instruction:remove_all_outputs"
    ]
   },
   "outputs": [],
   "source": [
    "is_reserved = (\n",
    "    drz.LotType == \"Personenauto\"\n",
    ") & (\n",
    "    drz.Price == 0\n",
    ") \n",
    "\n",
    "drz.loc[is_reserved,\n",
    "        [\"Price\",\"ItemType\",\"ItemBrand\",\"Mfdate\",\"APKdate\",\"OdoKM\",\"automatic\"]].sort_values(by=['APKdate', 'automatic', 'OdoKM'], ascending=False)"
   ]
  },
  {
   "cell_type": "code",
   "execution_count": null,
   "metadata": {
    "tags": [
     "nbconvert_instruction:remove_all_outputs"
    ]
   },
   "outputs": [],
   "source": [
    "if pd.to_datetime(DATE, format='%Y-%m') < pd.to_datetime('2019-04', format='%Y-%m'):\n",
    "    display(rdw.loc[is_cheap,[\"rdwinfo\"]])\n",
    "else:\n",
    "    display(rdw.loc[is_cheap,rdwinfo])"
   ]
  },
  {
   "cell_type": "code",
   "execution_count": null,
   "metadata": {
    "tags": [
     "nbconvert_instruction:remove_all_outputs"
    ]
   },
   "outputs": [],
   "source": [
    "if pd.to_datetime(DATE, format='%Y-%m') < pd.to_datetime('2019-04', format='%Y-%m'):\n",
    "    display(rdw.loc[is_cheap,\"rdwinfo\"][0])\n",
    "else:\n",
    "    display(rdw.loc[is_cheap,rdwinfo].iloc[0,:])"
   ]
  },
  {
   "cell_type": "markdown",
   "metadata": {},
   "source": [
    "# Pictures of lots"
   ]
  },
  {
   "cell_type": "code",
   "execution_count": null,
   "metadata": {
    "tags": [
     "nbconvert_instruction:remove_all_outputs"
    ]
   },
   "outputs": [],
   "source": [
    "# ix=drz.N_images.idxmax()\n",
    "ix=drz.Price.idxmax(); print('Price: EUR {:g}\\n\\n'.format(drz.loc[ix,'Price']))\n",
    "# Mfdate = drz.Mfdate.apply(lambda x: pd.to_datetime(x,format='%d.%m.%Y') if len(x)==10 else np.NaN)\n",
    "# ix=Mfdate.idxmin(); print('year of mf: {:s}\\n\\n'.format(drz.loc[ix,'Mfdate']))\n",
    "# ix = '2019-2-2005' # largest km/day\n",
    "# ix = '2019-2-7345' # largest km\n",
    "\n",
    "print(ix)\n",
    "for u in drz.loc[ix,'Images']:\n",
    "    print(u)\n",
    "    print(drz.loc[ix,'Source'])\n",
    "    display(Image(url=u,width=400))\n",
    "    "
   ]
  },
  {
   "cell_type": "markdown",
   "metadata": {},
   "source": [
    "# Usage\n",
    "\n",
    "How many km are driven per year or day?"
   ]
  },
  {
   "cell_type": "markdown",
   "metadata": {},
   "source": [
    "### Odometer conversion"
   ]
  },
  {
   "cell_type": "code",
   "execution_count": 9,
   "metadata": {},
   "outputs": [],
   "source": [
    "def odo_str2float(df):\n",
    "    '''\n",
    "    Convert odometer to numerical values.\n",
    "    Also convert Miles to KMs.\n",
    "    '''\n",
    "    \n",
    "    ml2km = 1.609344\n",
    "    \n",
    "    # substitute to nan\n",
    "    df.OdoKM = df.OdoKM.apply(lambda x:x.replace('onbekend','nan') if (type(x) == str) and (len(x)>0) else 'nan')\n",
    "    df.OdoMLS = df.OdoMLS.apply(lambda x:x.replace('onbekend','nan') if (type(x) == str) and (len(x)>0) else 'nan')\n",
    "    # float\n",
    "    df[\"OdoKM_num\"] = df.OdoKM.apply(lambda x:x.replace('.','')).astype(float)\n",
    "    df[\"OdoMLS_num\"] = df.OdoMLS.apply(lambda x:x.replace('.','')).astype(float)\n",
    "    # convert miles to km\n",
    "    df[\"Odo\"] = df.OdoKM_num.copy()\n",
    "    chooseMls = (df.OdoKM_num.isna()) & ~(df.OdoMLS_num.isna())\n",
    "    df.loc[chooseMls,\"Odo\"] = df.loc[chooseMls,\"OdoMLS_num\"].apply(float) * ml2km"
   ]
  },
  {
   "cell_type": "code",
   "execution_count": null,
   "metadata": {
    "tags": [
     "nbconvert_instruction:remove_all_outputs"
    ]
   },
   "outputs": [],
   "source": [
    "odo_str2float(drz)\n",
    "\n",
    "drz[['Odo','OdoKM','OdoKM_num','OdoMLS','OdoMLS_num']]"
   ]
  },
  {
   "cell_type": "markdown",
   "metadata": {},
   "source": [
    "### Dates"
   ]
  },
  {
   "cell_type": "code",
   "execution_count": 11,
   "metadata": {},
   "outputs": [
    {
     "data": {
      "text/html": [
       "<div>\n",
       "<style scoped>\n",
       "    .dataframe tbody tr th:only-of-type {\n",
       "        vertical-align: middle;\n",
       "    }\n",
       "\n",
       "    .dataframe tbody tr th {\n",
       "        vertical-align: top;\n",
       "    }\n",
       "\n",
       "    .dataframe thead th {\n",
       "        text-align: right;\n",
       "    }\n",
       "</style>\n",
       "<table border=\"1\" class=\"dataframe\">\n",
       "  <thead>\n",
       "    <tr style=\"text-align: right;\">\n",
       "      <th></th>\n",
       "      <th>Reg</th>\n",
       "      <th>Mfdate</th>\n",
       "      <th>ItemBrand</th>\n",
       "      <th>ItemType</th>\n",
       "    </tr>\n",
       "  </thead>\n",
       "  <tbody>\n",
       "  </tbody>\n",
       "</table>\n",
       "</div>"
      ],
      "text/plain": [
       "Empty DataFrame\n",
       "Columns: [Reg, Mfdate, ItemBrand, ItemType]\n",
       "Index: []"
      ]
     },
     "execution_count": 11,
     "metadata": {},
     "output_type": "execute_result"
    }
   ],
   "source": [
    "# twins\n",
    "vc = drz.Mfdate.value_counts()\n",
    "drz.loc[drz.Mfdate.isin([i for i in vc[vc > 1].index if i != '']),\n",
    "       ['Reg', 'Mfdate', 'ItemBrand', 'ItemType']].sort_values(by='Mfdate')"
   ]
  },
  {
   "cell_type": "code",
   "execution_count": 12,
   "metadata": {},
   "outputs": [
    {
     "data": {
      "text/html": [
       "<div>\n",
       "<style scoped>\n",
       "    .dataframe tbody tr th:only-of-type {\n",
       "        vertical-align: middle;\n",
       "    }\n",
       "\n",
       "    .dataframe tbody tr th {\n",
       "        vertical-align: top;\n",
       "    }\n",
       "\n",
       "    .dataframe thead th {\n",
       "        text-align: right;\n",
       "    }\n",
       "</style>\n",
       "<table border=\"1\" class=\"dataframe\">\n",
       "  <thead>\n",
       "    <tr style=\"text-align: right;\">\n",
       "      <th></th>\n",
       "      <th>Reg</th>\n",
       "      <th>Mfdate</th>\n",
       "      <th>ItemBrand</th>\n",
       "      <th>ItemType</th>\n",
       "      <th>rdw_typegoedkeuringsnummer</th>\n",
       "    </tr>\n",
       "  </thead>\n",
       "  <tbody>\n",
       "    <tr>\n",
       "      <th>2021-11-1833</th>\n",
       "      <td>DSN-90-F</td>\n",
       "      <td>03.01.2019</td>\n",
       "      <td>PIAGGIO</td>\n",
       "      <td>vespa sprint</td>\n",
       "      <td>e1*168/2013*00138*00</td>\n",
       "    </tr>\n",
       "    <tr>\n",
       "      <th>2021-11-1824</th>\n",
       "      <td>DSN-95-X</td>\n",
       "      <td>28.11.2018</td>\n",
       "      <td>PIAGGIO</td>\n",
       "      <td>vespa sprint</td>\n",
       "      <td>e1*168/2013*00138*00</td>\n",
       "    </tr>\n",
       "    <tr>\n",
       "      <th>2021-11-1831</th>\n",
       "      <td>DXB-19-B</td>\n",
       "      <td>04.10.2019</td>\n",
       "      <td>PIAGGIO</td>\n",
       "      <td>vespa sprint</td>\n",
       "      <td>e1*168/2013*00138*00</td>\n",
       "    </tr>\n",
       "    <tr>\n",
       "      <th>2021-11-1812</th>\n",
       "      <td>DZX-78-D</td>\n",
       "      <td>29.01.2021</td>\n",
       "      <td>PIAGGIO</td>\n",
       "      <td>vespa sprint</td>\n",
       "      <td>e1*168/2013*00138*01</td>\n",
       "    </tr>\n",
       "    <tr>\n",
       "      <th>2021-11-1848</th>\n",
       "      <td>FBS-41-B</td>\n",
       "      <td>07.04.2021</td>\n",
       "      <td>PIAGGIO</td>\n",
       "      <td>vespa sprint</td>\n",
       "      <td>e1*168/2013*00138*01</td>\n",
       "    </tr>\n",
       "    <tr>\n",
       "      <th>2021-11-1810</th>\n",
       "      <td>FGG-30-V</td>\n",
       "      <td>22.04.2021</td>\n",
       "      <td>PIAGGIO</td>\n",
       "      <td>vespa sprint 50</td>\n",
       "      <td>e1*168/2013*00265*00</td>\n",
       "    </tr>\n",
       "    <tr>\n",
       "      <th>2021-11-1832</th>\n",
       "      <td>FGP-47-X</td>\n",
       "      <td>19.05.2021</td>\n",
       "      <td>PIAGGIO</td>\n",
       "      <td>vespa sprint 50</td>\n",
       "      <td>e1*168/2013*00265*00</td>\n",
       "    </tr>\n",
       "    <tr>\n",
       "      <th>2021-11-1844</th>\n",
       "      <td>F-698-PG</td>\n",
       "      <td>03.01.2014</td>\n",
       "      <td>PIAGGIO</td>\n",
       "      <td>C38</td>\n",
       "      <td>e3*2002/24*0565*01</td>\n",
       "    </tr>\n",
       "    <tr>\n",
       "      <th>2021-11-1801</th>\n",
       "      <td>F-353-GH</td>\n",
       "      <td>01.12.2011</td>\n",
       "      <td>PIAGGIO</td>\n",
       "      <td>c38</td>\n",
       "      <td>e3*2002/24*0565*01</td>\n",
       "    </tr>\n",
       "    <tr>\n",
       "      <th>2021-11-7016</th>\n",
       "      <td>NT-556-X</td>\n",
       "      <td>24.10.2012</td>\n",
       "      <td>HYUNDAI</td>\n",
       "      <td>i 10</td>\n",
       "      <td>e4*2001/116*0131*05</td>\n",
       "    </tr>\n",
       "    <tr>\n",
       "      <th>2021-11-7047</th>\n",
       "      <td>47-THN-9</td>\n",
       "      <td>29.02.2012</td>\n",
       "      <td>HYUNDAI</td>\n",
       "      <td>i 10</td>\n",
       "      <td>e4*2001/116*0131*05</td>\n",
       "    </tr>\n",
       "    <tr>\n",
       "      <th>2021-11-1838</th>\n",
       "      <td>F-991-BR</td>\n",
       "      <td>11.06.2011</td>\n",
       "      <td>PIAGGIO</td>\n",
       "      <td>c25</td>\n",
       "      <td>e4*2002/24*0551*08</td>\n",
       "    </tr>\n",
       "    <tr>\n",
       "      <th>2021-11-1823</th>\n",
       "      <td>F-467-GG</td>\n",
       "      <td>18.01.2012</td>\n",
       "      <td>PIAGGIO</td>\n",
       "      <td>c25</td>\n",
       "      <td>e4*2002/24*0551*08</td>\n",
       "    </tr>\n",
       "    <tr>\n",
       "      <th>2021-11-1840</th>\n",
       "      <td>FFL-36-V</td>\n",
       "      <td>06.01.2021</td>\n",
       "      <td>LA SOURIS</td>\n",
       "      <td>sourini</td>\n",
       "      <td>e6*168/2013*00024*00</td>\n",
       "    </tr>\n",
       "    <tr>\n",
       "      <th>2021-11-1841</th>\n",
       "      <td>FDV-68-V</td>\n",
       "      <td>12.12.2020</td>\n",
       "      <td>LA SOURIS</td>\n",
       "      <td>city</td>\n",
       "      <td>e6*168/2013*00024*00</td>\n",
       "    </tr>\n",
       "    <tr>\n",
       "      <th>2021-11-1843</th>\n",
       "      <td>FBL-60-X</td>\n",
       "      <td>24.07.2020</td>\n",
       "      <td>LA SOURIS</td>\n",
       "      <td>sourini</td>\n",
       "      <td>e6*168/2013*00024*00</td>\n",
       "    </tr>\n",
       "    <tr>\n",
       "      <th>2021-11-1842</th>\n",
       "      <td>FDD-90-B</td>\n",
       "      <td>05.09.2020</td>\n",
       "      <td>DTS</td>\n",
       "      <td>milano r</td>\n",
       "      <td>e6*168/2013*00024*01</td>\n",
       "    </tr>\n",
       "    <tr>\n",
       "      <th>2021-11-1814</th>\n",
       "      <td>FBG-03-S</td>\n",
       "      <td>06.07.2020</td>\n",
       "      <td>NIMAX</td>\n",
       "      <td>c30</td>\n",
       "      <td>e6*168/2013*00024*01</td>\n",
       "    </tr>\n",
       "  </tbody>\n",
       "</table>\n",
       "</div>"
      ],
      "text/plain": [
       "                   Reg      Mfdate  ItemBrand         ItemType  \\\n",
       "2021-11-1833  DSN-90-F  03.01.2019    PIAGGIO     vespa sprint   \n",
       "2021-11-1824  DSN-95-X  28.11.2018    PIAGGIO     vespa sprint   \n",
       "2021-11-1831  DXB-19-B  04.10.2019    PIAGGIO     vespa sprint   \n",
       "2021-11-1812  DZX-78-D  29.01.2021    PIAGGIO     vespa sprint   \n",
       "2021-11-1848  FBS-41-B  07.04.2021    PIAGGIO     vespa sprint   \n",
       "2021-11-1810  FGG-30-V  22.04.2021    PIAGGIO  vespa sprint 50   \n",
       "2021-11-1832  FGP-47-X  19.05.2021    PIAGGIO  vespa sprint 50   \n",
       "2021-11-1844  F-698-PG  03.01.2014    PIAGGIO              C38   \n",
       "2021-11-1801  F-353-GH  01.12.2011    PIAGGIO              c38   \n",
       "2021-11-7016  NT-556-X  24.10.2012    HYUNDAI             i 10   \n",
       "2021-11-7047  47-THN-9  29.02.2012    HYUNDAI             i 10   \n",
       "2021-11-1838  F-991-BR  11.06.2011    PIAGGIO              c25   \n",
       "2021-11-1823  F-467-GG  18.01.2012    PIAGGIO              c25   \n",
       "2021-11-1840  FFL-36-V  06.01.2021  LA SOURIS          sourini   \n",
       "2021-11-1841  FDV-68-V  12.12.2020  LA SOURIS             city   \n",
       "2021-11-1843  FBL-60-X  24.07.2020  LA SOURIS          sourini   \n",
       "2021-11-1842  FDD-90-B  05.09.2020        DTS         milano r   \n",
       "2021-11-1814  FBG-03-S  06.07.2020      NIMAX              c30   \n",
       "\n",
       "             rdw_typegoedkeuringsnummer  \n",
       "2021-11-1833       e1*168/2013*00138*00  \n",
       "2021-11-1824       e1*168/2013*00138*00  \n",
       "2021-11-1831       e1*168/2013*00138*00  \n",
       "2021-11-1812       e1*168/2013*00138*01  \n",
       "2021-11-1848       e1*168/2013*00138*01  \n",
       "2021-11-1810       e1*168/2013*00265*00  \n",
       "2021-11-1832       e1*168/2013*00265*00  \n",
       "2021-11-1844         e3*2002/24*0565*01  \n",
       "2021-11-1801         e3*2002/24*0565*01  \n",
       "2021-11-7016        e4*2001/116*0131*05  \n",
       "2021-11-7047        e4*2001/116*0131*05  \n",
       "2021-11-1838         e4*2002/24*0551*08  \n",
       "2021-11-1823         e4*2002/24*0551*08  \n",
       "2021-11-1840       e6*168/2013*00024*00  \n",
       "2021-11-1841       e6*168/2013*00024*00  \n",
       "2021-11-1843       e6*168/2013*00024*00  \n",
       "2021-11-1842       e6*168/2013*00024*01  \n",
       "2021-11-1814       e6*168/2013*00024*01  "
      ]
     },
     "execution_count": 12,
     "metadata": {},
     "output_type": "execute_result"
    }
   ],
   "source": [
    "# twins\n",
    "vc = rdw.rdw_typegoedkeuringsnummer.value_counts()\n",
    "rdw.loc[rdw.rdw_typegoedkeuringsnummer.isin([i for i in vc[vc > 1].index if i != '']),\n",
    "       ['Reg', 'Mfdate', 'ItemBrand', 'ItemType','rdw_typegoedkeuringsnummer']].sort_values(by='rdw_typegoedkeuringsnummer')"
   ]
  },
  {
   "cell_type": "code",
   "execution_count": 13,
   "metadata": {},
   "outputs": [],
   "source": [
    "AuctDate = pd.to_datetime(DATE, format = '%Y-%m')\n",
    "\n",
    "# serial date\n",
    "drz[\"Mfdate_ser\"] = drz.Mfdate.apply(lambda x:pd.to_datetime(x, format = '%d.%m.%Y') if (x!='onbekend') & (x!='') & ('-' not in x) & (len(x) >= 8)else np.NaN)\n",
    "\n",
    "# age\n",
    "drz[\"Age\"] = (AuctDate - drz.Mfdate_ser)\n",
    "drz[\"Age_year\"] = drz.Age.apply(lambda x:x.days/365.25)"
   ]
  },
  {
   "cell_type": "markdown",
   "metadata": {},
   "source": [
    "- - - -\n",
    "# Continue with cars only"
   ]
  },
  {
   "cell_type": "code",
   "execution_count": 14,
   "metadata": {},
   "outputs": [],
   "source": [
    "out = drz.Price.copy()\n",
    "Features = drz.loc[:,[\"ItemBrand\",\"ItemType\",\"Odo\",\"Age_year\"]].copy()"
   ]
  },
  {
   "cell_type": "code",
   "execution_count": 15,
   "metadata": {},
   "outputs": [],
   "source": [
    "# Drop rows\n",
    "Subsel = drz.LotType == 'Personenauto'\n",
    "dropIx=drz[~Subsel].index\n",
    "out.drop(index=dropIx,inplace=True)\n",
    "Features.drop(index=dropIx,inplace=True)"
   ]
  },
  {
   "cell_type": "markdown",
   "metadata": {},
   "source": [
    "### one hot encoding brand and model"
   ]
  },
  {
   "cell_type": "code",
   "execution_count": null,
   "metadata": {
    "tags": [
     "nbconvert_instruction:remove_all_outputs"
    ]
   },
   "outputs": [],
   "source": [
    "Dummies = pd.get_dummies(Features.ItemBrand,prefix='Brand_',drop_first=False)\n",
    "Features = pd.concat([Features,Dummies],axis=1)\n",
    "\n",
    "Features.describe()"
   ]
  },
  {
   "cell_type": "markdown",
   "metadata": {},
   "source": [
    "# Plotting"
   ]
  },
  {
   "cell_type": "code",
   "execution_count": 17,
   "metadata": {},
   "outputs": [],
   "source": [
    "def ecdf(data):\n",
    "    x = sorted(data)\n",
    "    y = np.arange(0,len(x))/len(x)\n",
    "    return x,y\n",
    "\n",
    "# # example\n",
    "# x,y = ecdf(km_p_day)\n",
    "# plt.plot(x,y)"
   ]
  },
  {
   "cell_type": "code",
   "execution_count": 18,
   "metadata": {},
   "outputs": [],
   "source": [
    "# km per day\n",
    "km_p_day = Features.Odo/(Features.Age_year*365.25).fillna(0)\n",
    "sel = ~(km_p_day.isna() | (km_p_day == np.inf))\n",
    "km_p_day = km_p_day.loc[sel]"
   ]
  },
  {
   "cell_type": "code",
   "execution_count": null,
   "metadata": {
    "tags": [
     "nbconvert_instruction:remove_all_outputs"
    ]
   },
   "outputs": [],
   "source": [
    "# Plot ecdf and hist\n",
    "x,y = ecdf(km_p_day)\n",
    "xD,yD = ecdf(km_p_day[rdw.diesel])\n",
    "xB,yB = ecdf(km_p_day[rdw.benzine])\n",
    "fig,axs = plt.subplots(ncols=1,nrows=2, figsize=[8,10],sharex=True)\n",
    "\n",
    "# ecdf\n",
    "ax = axs[0]\n",
    "ax.step(x,y*100)\n",
    "ax.step(xD,yD*100)\n",
    "ax.step(xB,yB*100)\n",
    "ax.plot(np.median(x),50,'+',markersize=20)\n",
    "ax.text(np.median(x),50,'Median {:.1f} km/day      '.format(np.median(x)),ha='right',va='center');\n",
    "ax.set_title('Distribution of intensity of usage')\n",
    "ax.set_ylabel('Fraction of cars (%)')\n",
    "\n",
    "xl = axs[0].get_xlim()\n",
    "\n",
    "# hist\n",
    "ax = axs[1]\n",
    "ax.hist(x,bins=np.logspace(-1,np.log10(xl[1]),50))\n",
    "yl = axs[1].get_ylim()\n",
    "ax.plot(np.array([1,1])*np.median(x),yl,'-',linewidth=3)\n",
    "ax.set_xlabel('Average travel (km/day)')\n",
    "ax.set_ylabel('count')\n",
    "\n",
    "ax.text(\n",
    "    km_p_day.min(),1,\n",
    "    ' {} {}\\n{}km since {}'.format(*rdw.loc[km_p_day.idxmin(),['ItemBrand','ItemType','OdoKM','Mfdate']].values),\n",
    "    rotation=90,\n",
    "    va='bottom',\n",
    "    ha='center'\n",
    ")\n",
    "\n",
    "ax.text(\n",
    "    km_p_day.max(),1,\n",
    "    ' {} {}\\n{}km since {}'.format(*rdw.loc[km_p_day.idxmax(),['ItemBrand','ItemType','OdoKM','Mfdate']].values),\n",
    "    rotation=90,\n",
    "    va='bottom',\n",
    "    ha='center'\n",
    ")\n",
    "\n",
    "ax.set_xscale('log')\n"
   ]
  },
  {
   "cell_type": "code",
   "execution_count": null,
   "metadata": {
    "tags": [
     "nbconvert_instruction:remove_all_outputs"
    ]
   },
   "outputs": [],
   "source": [
    "plt.plot(Features.Odo,out,'.')\n",
    "plt.xscale('log')\n",
    "plt.yscale('log')\n",
    "plt.xlabel('odo (km converted)')\n",
    "plt.ylabel('Price')\n",
    "\n",
    "plt.figure()\n",
    "plt.plot(Features.Age_year,out,'.')\n",
    "plt.yscale('log')\n",
    "plt.xlabel('age (years)')\n",
    "plt.ylabel('Price')\n",
    "plt.xlim(0,50)\n",
    "\n",
    "\n",
    "plt.figure()\n",
    "plt.plot(Features.Age_year,Features.Odo,'.')\n",
    "plt.xlabel('age (years)')\n",
    "plt.ylabel('odo (km converted)')\n",
    "plt.xlim(0,50)\n",
    "\n",
    "plt.show()\n",
    "\n"
   ]
  },
  {
   "cell_type": "code",
   "execution_count": null,
   "metadata": {
    "tags": [
     "nbconvert_instruction:remove_all_outputs"
    ]
   },
   "outputs": [],
   "source": [
    "pd.plotting.scatter_matrix(Features.loc[:, [c for c in Features.columns if not c.startswith('Brand__')]],figsize=[4,4])\n",
    "plt.show()"
   ]
  },
  {
   "cell_type": "code",
   "execution_count": null,
   "metadata": {
    "tags": [
     "nbconvert_instruction:remove_all_outputs"
    ]
   },
   "outputs": [],
   "source": [
    "# reserved price?\n",
    "gr = [l[:1] for l in np.array([*out.index.str.split('-')])[:,2]]\n",
    "gb = out.groupby(gr)\n",
    "for g,_ in gb:\n",
    "    x,y = ecdf(gb.get_group(g))\n",
    "    plt.figure(figsize=[4,4])\n",
    "    plt.step(x,y*len(y),'+:')\n",
    "    min_x = np.array(x)[np.array(x) > 0].min()\n",
    "    plt.xlim(left=min_x*0.2, right=min_x*1.8)\n",
    "    plt.xlabel('price')\n",
    "    plt.ylabel('cars')\n",
    "    plt.title(f'lowest priced lots start with {g}')\n",
    "    # lowest price is 174?\n",
    "    out.value_counts().sort_index()"
   ]
  },
  {
   "cell_type": "code",
   "execution_count": null,
   "metadata": {},
   "outputs": [],
   "source": []
  },
  {
   "cell_type": "code",
   "execution_count": null,
   "metadata": {},
   "outputs": [],
   "source": []
  }
 ],
 "metadata": {
  "kernelspec": {
   "display_name": "Python 3",
   "language": "python",
   "name": "python3"
  },
  "language_info": {
   "codemirror_mode": {
    "name": "ipython",
    "version": 3
   },
   "file_extension": ".py",
   "mimetype": "text/x-python",
   "name": "python",
   "nbconvert_exporter": "python",
   "pygments_lexer": "ipython3",
   "version": "3.8.10"
  }
 },
 "nbformat": 4,
 "nbformat_minor": 4
}
