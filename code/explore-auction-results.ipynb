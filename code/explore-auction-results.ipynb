{
 "cells": [
  {
   "cell_type": "markdown",
   "metadata": {},
   "source": [
    "# Explore auction results\n",
    "\n",
    "EDA of recent auction."
   ]
  },
  {
   "cell_type": "code",
   "execution_count": null,
   "metadata": {
    "tags": [
     "nbconvert_instruction:remove_all_outputs"
    ]
   },
   "outputs": [],
   "source": [
    "import drz_config\n",
    "cfg = drz_config.read_config()\n",
    "DATE = cfg['DATE']\n",
    "VERBOSE = cfg['VERBOSE']\n",
    "OPBOD = cfg['OPBOD']\n",
    "if not OPBOD:\n",
    "    month_counter = cfg['URL'][-2:]\n",
    "else:\n",
    "    month_counter = cfg['URL'][-4:-2]\n",
    "    \n",
    "if VERBOSE > 0:\n",
    "    display(cfg)"
   ]
  },
  {
   "cell_type": "code",
   "execution_count": 2,
   "metadata": {},
   "outputs": [],
   "source": [
    "import pandas as pd\n",
    "import numpy as np\n",
    "import matplotlib.pyplot as plt\n",
    "from IPython.display import Image"
   ]
  },
  {
   "cell_type": "markdown",
   "metadata": {},
   "source": [
    "# Load results\n",
    "\n",
    "Load both auction results **and** data from rdw."
   ]
  },
  {
   "cell_type": "code",
   "execution_count": null,
   "metadata": {
    "tags": [
     "nbconvert_instruction:remove_all_outputs"
    ]
   },
   "outputs": [],
   "source": [
    "file_name = f'../data/drz-data-{DATE}-{month_counter}.pkl'\n",
    "if OPBOD:\n",
    "    file_name = file_name.replace('.pkl', '-opbod.pkl')\n",
    "print(file_name)\n",
    "drz = pd.read_pickle(file_name)\n",
    "\n",
    "file_name = f'../data/rdw-data-{DATE}-{month_counter}.pkl'\n",
    "if OPBOD:\n",
    "    file_name = file_name.replace('.pkl', '-opbod.pkl')\n",
    "print(file_name)\n",
    "rdw = pd.read_pickle(file_name)\n",
    "\n",
    "# rdw column names\n",
    "#   NOTE: format changed in April 2019: RDW info is appended to auction results as extra columns in dataframe\n",
    "if pd.to_datetime(DATE, format='%Y-%m') >= pd.to_datetime('2019-04', format='%Y-%m'):\n",
    "    rdwinfo = [c for c in rdw.columns if c.startswith('rdw_')]\n",
    "\n",
    "# fix odometer\n",
    "if pd.to_datetime(DATE, format='%Y-%m') == pd.to_datetime('2019-09', format='%Y-%m'):\n",
    "    sel = (rdw.OdoKM == 'volgens NAP logisch') | (rdw.OdoKM == 'volgens NAP onlogisch') | (rdw.OdoKM == 'volgens nap onlogisch')\n",
    "    display(drz.loc[sel, ['Title', 'OdoKM', 'NAP']])\n",
    "    \n",
    "    idx = '2019-9-9106'\n",
    "    print('\\n'.join(drz.loc[idx,'Raw_text']))\n",
    "    drz.loc[idx,'NAP'] = 'logisch'\n",
    "    rdw.loc[idx,'NAP'] = 'logisch'\n",
    "    drz.loc[idx,'OdoKM'] = '251.571'\n",
    "    rdw.loc[idx,'OdoKM'] = '251.571'\n",
    "    \n",
    "    display(drz.loc[[idx],['Title', 'OdoKM', 'NAP']])\n",
    "    display(rdw.loc[[idx],['Title', 'OdoKM', 'NAP']])\n",
    "\n",
    "    idx = '2019-9-9258'\n",
    "    print('\\n'.join(drz.loc[idx,'Raw_text']))\n",
    "    drz.loc[idx,'NAP'] = 'onlogisch'\n",
    "    rdw.loc[idx,'NAP'] = 'onlogisch'\n",
    "    drz.loc[idx,'OdoKM'] = ''\n",
    "    rdw.loc[idx,'OdoKM'] = ''\n",
    "    \n",
    "    idx = '2019-9-9249'\n",
    "    print('\\n'.join(drz.loc[idx,'Raw_text']))\n",
    "    drz.loc[idx,'NAP'] = 'onlogisch'\n",
    "    rdw.loc[idx,'NAP'] = 'onlogisch'\n",
    "    drz.loc[idx,'OdoKM'] = ''\n",
    "    rdw.loc[idx,'OdoKM'] = ''\n",
    "    \n",
    "    \n",
    "    display(rdw.loc[sel, ['Title', 'OdoKM', 'NAP']])\n",
    "    display(drz.loc[sel, ['Title', 'OdoKM', 'NAP']])\n",
    "    sel = (rdw.OdoKM == 'volgens NAP logisch') | (rdw.OdoKM == 'volgens NAP onlogisch')\n",
    "    assert all(~sel)\n",
    "\n"
   ]
  },
  {
   "cell_type": "markdown",
   "metadata": {},
   "source": [
    "# Cheap cars with valid inspection"
   ]
  },
  {
   "cell_type": "code",
   "execution_count": null,
   "metadata": {
    "tags": [
     "nbconvert_instruction:remove_all_outputs"
    ]
   },
   "outputs": [],
   "source": [
    "is_cheap = (\n",
    "    drz.LotType == \"Personenauto\"\n",
    ") & (\n",
    "    drz.Price<3000\n",
    ") & (\n",
    "    drz.Price>0\n",
    ") & ~(\n",
    "    (\n",
    "        drz.APKdate.isnull()\n",
    "    ) | (\n",
    "        drz.APKdate.apply(lambda x:x == '')\n",
    "    )\n",
    ")\n",
    "\n",
    "if all(~is_cheap):\n",
    "    is_cheap[drz.Price.argmin()] = True\n",
    "    \n",
    "drz.loc[is_cheap,\n",
    "        [\"Price\",\"ItemType\",\"ItemBrand\",\"Mfdate\",\"APKdate\",\"OdoKM\",\"automatic\", \"benzine\"]].sort_values(by=['benzine', 'automatic', 'OdoKM'], ascending=False)"
   ]
  },
  {
   "cell_type": "code",
   "execution_count": null,
   "metadata": {
    "tags": [
     "nbconvert_instruction:remove_all_outputs"
    ]
   },
   "outputs": [],
   "source": [
    "is_reserved = (\n",
    "    drz.LotType == \"Personenauto\"\n",
    ") & (\n",
    "    drz.Price == 0\n",
    ") \n",
    "\n",
    "drz.loc[is_reserved,\n",
    "        [\"Price\",\"ItemType\",\"ItemBrand\",\"Mfdate\",\"APKdate\",\"OdoKM\",\"automatic\"]].sort_values(by=['APKdate', 'automatic', 'OdoKM'], ascending=False)"
   ]
  },
  {
   "cell_type": "code",
   "execution_count": null,
   "metadata": {
    "tags": [
     "nbconvert_instruction:remove_all_outputs"
    ]
   },
   "outputs": [],
   "source": [
    "if pd.to_datetime(DATE, format='%Y-%m') < pd.to_datetime('2019-04', format='%Y-%m'):\n",
    "    display(rdw.loc[is_cheap,[\"rdwinfo\"]])\n",
    "else:\n",
    "    display(rdw.loc[is_cheap,rdwinfo])"
   ]
  },
  {
   "cell_type": "code",
   "execution_count": null,
   "metadata": {
    "tags": [
     "nbconvert_instruction:remove_all_outputs"
    ]
   },
   "outputs": [],
   "source": [
    "if pd.to_datetime(DATE, format='%Y-%m') < pd.to_datetime('2019-04', format='%Y-%m'):\n",
    "    display(rdw.loc[is_cheap,\"rdwinfo\"][0])\n",
    "else:\n",
    "    display(rdw.loc[is_cheap,rdwinfo].iloc[0,:])"
   ]
  },
  {
   "cell_type": "markdown",
   "metadata": {},
   "source": [
    "# Pictures of lots"
   ]
  },
  {
   "cell_type": "code",
   "execution_count": null,
   "metadata": {
    "tags": [
     "nbconvert_instruction:remove_all_outputs"
    ]
   },
   "outputs": [],
   "source": [
    "# ix=drz.N_images.idxmax()\n",
    "ix=drz.Price.idxmax(); print('Price: EUR {:g}\\n\\n'.format(drz.loc[ix,'Price']))\n",
    "# Mfdate = drz.Mfdate.apply(lambda x: pd.to_datetime(x,format='%d.%m.%Y') if len(x)==10 else np.NaN)\n",
    "# ix=Mfdate.idxmin(); print('year of mf: {:s}\\n\\n'.format(drz.loc[ix,'Mfdate']))\n",
    "# ix = '2019-2-2005' # largest km/day\n",
    "# ix = '2019-2-7345' # largest km\n",
    "\n",
    "print(ix)\n",
    "for u in drz.loc[ix,'Images']:\n",
    "    print(u)\n",
    "    print(drz.loc[ix,'Source'])\n",
    "    display(Image(url=u,width=400))\n",
    "    "
   ]
  },
  {
   "cell_type": "markdown",
   "metadata": {},
   "source": [
    "# Usage\n",
    "\n",
    "How many km are driven per year or day?"
   ]
  },
  {
   "cell_type": "markdown",
   "metadata": {},
   "source": [
    "### Odometer conversion"
   ]
  },
  {
   "cell_type": "code",
   "execution_count": 9,
   "metadata": {},
   "outputs": [],
   "source": [
    "def odo_str2float(df):\n",
    "    '''\n",
    "    Convert odometer to numerical values.\n",
    "    Also convert Miles to KMs.\n",
    "    '''\n",
    "    \n",
    "    ml2km = 1.609344\n",
    "    \n",
    "    # substitute to nan\n",
    "    df.OdoKM = df.OdoKM.apply(lambda x:x.replace('onbekend','nan') if (type(x) == str) and (len(x)>0) else 'nan')\n",
    "    df.OdoMLS = df.OdoMLS.apply(lambda x:x.replace('onbekend','nan') if (type(x) == str) and (len(x)>0) else 'nan')\n",
    "    # float\n",
    "    df[\"OdoKM_num\"] = df.OdoKM.apply(lambda x:x.replace('.','')).astype(float)\n",
    "    df[\"OdoMLS_num\"] = df.OdoMLS.apply(lambda x:x.replace('.','')).astype(float)\n",
    "    # convert miles to km\n",
    "    df[\"Odo\"] = df.OdoKM_num.copy()\n",
    "    chooseMls = (df.OdoKM_num.isna()) & ~(df.OdoMLS_num.isna())\n",
    "    df.loc[chooseMls,\"Odo\"] = df.loc[chooseMls,\"OdoMLS_num\"].apply(float) * ml2km"
   ]
  },
  {
   "cell_type": "code",
   "execution_count": null,
   "metadata": {
    "tags": [
     "nbconvert_instruction:remove_all_outputs"
    ]
   },
   "outputs": [],
   "source": [
    "odo_str2float(drz)\n",
    "\n",
    "drz[['Odo','OdoKM','OdoKM_num','OdoMLS','OdoMLS_num']]"
   ]
  },
  {
   "cell_type": "markdown",
   "metadata": {},
   "source": [
    "### Dates"
   ]
  },
  {
   "cell_type": "code",
   "execution_count": 11,
   "metadata": {},
   "outputs": [
    {
     "data": {
      "text/html": [
       "<div>\n",
       "<style scoped>\n",
       "    .dataframe tbody tr th:only-of-type {\n",
       "        vertical-align: middle;\n",
       "    }\n",
       "\n",
       "    .dataframe tbody tr th {\n",
       "        vertical-align: top;\n",
       "    }\n",
       "\n",
       "    .dataframe thead th {\n",
       "        text-align: right;\n",
       "    }\n",
       "</style>\n",
       "<table border=\"1\" class=\"dataframe\">\n",
       "  <thead>\n",
       "    <tr style=\"text-align: right;\">\n",
       "      <th></th>\n",
       "      <th>Reg</th>\n",
       "      <th>Mfdate</th>\n",
       "      <th>ItemBrand</th>\n",
       "      <th>ItemType</th>\n",
       "    </tr>\n",
       "  </thead>\n",
       "  <tbody>\n",
       "    <tr>\n",
       "      <th>2021-20-8131</th>\n",
       "      <td>JR-401-X</td>\n",
       "      <td>03.06.2016</td>\n",
       "      <td>TOYOTA</td>\n",
       "      <td>toyota rav4</td>\n",
       "    </tr>\n",
       "    <tr>\n",
       "      <th>2021-20-8136</th>\n",
       "      <td>JR-952-X</td>\n",
       "      <td>03.06.2016</td>\n",
       "      <td>VOLKSWAGEN</td>\n",
       "      <td>polo</td>\n",
       "    </tr>\n",
       "    <tr>\n",
       "      <th>2021-20-1949</th>\n",
       "      <td>DDF-14-X</td>\n",
       "      <td>18.06.2015</td>\n",
       "      <td>PIAGGIO</td>\n",
       "      <td>vespa sprint</td>\n",
       "    </tr>\n",
       "    <tr>\n",
       "      <th>2021-20-8047</th>\n",
       "      <td>GK-248-P</td>\n",
       "      <td>18.06.2015</td>\n",
       "      <td>AUDI</td>\n",
       "      <td>q7</td>\n",
       "    </tr>\n",
       "    <tr>\n",
       "      <th>2021-20-1901</th>\n",
       "      <td>XR-699-V</td>\n",
       "      <td>22.03.2019</td>\n",
       "      <td>PIAGGIO</td>\n",
       "      <td>mp3 300 lt yourban</td>\n",
       "    </tr>\n",
       "    <tr>\n",
       "      <th>2021-20-8062</th>\n",
       "      <td>K-450-NT</td>\n",
       "      <td>22.03.2019</td>\n",
       "      <td>MERCEDES-BENZ</td>\n",
       "      <td>a 250</td>\n",
       "    </tr>\n",
       "    <tr>\n",
       "      <th>2021-20-8038</th>\n",
       "      <td>NK-614-D</td>\n",
       "      <td>29.06.2005</td>\n",
       "      <td>BMW</td>\n",
       "      <td>1er reihe</td>\n",
       "    </tr>\n",
       "    <tr>\n",
       "      <th>2021-20-8079</th>\n",
       "      <td>93-GPV-3</td>\n",
       "      <td>29.06.2005</td>\n",
       "      <td>AUDI</td>\n",
       "      <td>audi a4; avant quattro v8 253</td>\n",
       "    </tr>\n",
       "    <tr>\n",
       "      <th>2021-20-1919</th>\n",
       "      <td>60-FLH-4</td>\n",
       "      <td>31.08.2005</td>\n",
       "      <td>PUCH</td>\n",
       "      <td>zip 25 km/h</td>\n",
       "    </tr>\n",
       "    <tr>\n",
       "      <th>2021-20-1947</th>\n",
       "      <td>42-FVB-8</td>\n",
       "      <td>31.08.2005</td>\n",
       "      <td>PUCH</td>\n",
       "      <td>zip 25 km/h</td>\n",
       "    </tr>\n",
       "    <tr>\n",
       "      <th>2021-20-1954</th>\n",
       "      <td>DJ-623-N</td>\n",
       "      <td>31.08.2005</td>\n",
       "      <td>PUCH</td>\n",
       "      <td>radical 40 km/h</td>\n",
       "    </tr>\n",
       "  </tbody>\n",
       "</table>\n",
       "</div>"
      ],
      "text/plain": [
       "                   Reg      Mfdate      ItemBrand  \\\n",
       "2021-20-8131  JR-401-X  03.06.2016         TOYOTA   \n",
       "2021-20-8136  JR-952-X  03.06.2016     VOLKSWAGEN   \n",
       "2021-20-1949  DDF-14-X  18.06.2015        PIAGGIO   \n",
       "2021-20-8047  GK-248-P  18.06.2015           AUDI   \n",
       "2021-20-1901  XR-699-V  22.03.2019        PIAGGIO   \n",
       "2021-20-8062  K-450-NT  22.03.2019  MERCEDES-BENZ   \n",
       "2021-20-8038  NK-614-D  29.06.2005            BMW   \n",
       "2021-20-8079  93-GPV-3  29.06.2005           AUDI   \n",
       "2021-20-1919  60-FLH-4  31.08.2005           PUCH   \n",
       "2021-20-1947  42-FVB-8  31.08.2005           PUCH   \n",
       "2021-20-1954  DJ-623-N  31.08.2005           PUCH   \n",
       "\n",
       "                                   ItemType  \n",
       "2021-20-8131                    toyota rav4  \n",
       "2021-20-8136                           polo  \n",
       "2021-20-1949                   vespa sprint  \n",
       "2021-20-8047                             q7  \n",
       "2021-20-1901             mp3 300 lt yourban  \n",
       "2021-20-8062                          a 250  \n",
       "2021-20-8038                      1er reihe  \n",
       "2021-20-8079  audi a4; avant quattro v8 253  \n",
       "2021-20-1919                    zip 25 km/h  \n",
       "2021-20-1947                    zip 25 km/h  \n",
       "2021-20-1954                radical 40 km/h  "
      ]
     },
     "execution_count": 11,
     "metadata": {},
     "output_type": "execute_result"
    }
   ],
   "source": [
    "# twins\n",
    "vc = drz.Mfdate.value_counts()\n",
    "drz.loc[drz.Mfdate.isin([i for i in vc[vc > 1].index if i != '']),\n",
    "       ['Reg', 'Mfdate', 'ItemBrand', 'ItemType']].sort_values(by='Mfdate')"
   ]
  },
  {
   "cell_type": "code",
   "execution_count": 12,
   "metadata": {},
   "outputs": [
    {
     "data": {
      "text/html": [
       "<div>\n",
       "<style scoped>\n",
       "    .dataframe tbody tr th:only-of-type {\n",
       "        vertical-align: middle;\n",
       "    }\n",
       "\n",
       "    .dataframe tbody tr th {\n",
       "        vertical-align: top;\n",
       "    }\n",
       "\n",
       "    .dataframe thead th {\n",
       "        text-align: right;\n",
       "    }\n",
       "</style>\n",
       "<table border=\"1\" class=\"dataframe\">\n",
       "  <thead>\n",
       "    <tr style=\"text-align: right;\">\n",
       "      <th></th>\n",
       "      <th>Reg</th>\n",
       "      <th>Mfdate</th>\n",
       "      <th>ItemBrand</th>\n",
       "      <th>ItemType</th>\n",
       "      <th>rdw_typegoedkeuringsnummer</th>\n",
       "    </tr>\n",
       "  </thead>\n",
       "  <tbody>\n",
       "    <tr>\n",
       "      <th>2021-20-8064</th>\n",
       "      <td>55-ZH-XG</td>\n",
       "      <td>06.03.2008</td>\n",
       "      <td>AUDI</td>\n",
       "      <td>audi a6</td>\n",
       "      <td>e1*2001/116*0254*17</td>\n",
       "    </tr>\n",
       "    <tr>\n",
       "      <th>2021-20-8043</th>\n",
       "      <td>25-HLG-5</td>\n",
       "      <td>15.01.2009</td>\n",
       "      <td>AUDI</td>\n",
       "      <td>audi a6</td>\n",
       "      <td>e1*2001/116*0254*17</td>\n",
       "    </tr>\n",
       "    <tr>\n",
       "      <th>2021-20-8044</th>\n",
       "      <td>41-PLD-2</td>\n",
       "      <td>15.02.2011</td>\n",
       "      <td>VOLKSWAGEN</td>\n",
       "      <td>polo</td>\n",
       "      <td>e1*2001/116*0510*08</td>\n",
       "    </tr>\n",
       "    <tr>\n",
       "      <th>2021-20-8139</th>\n",
       "      <td>15-PRL-6</td>\n",
       "      <td>10.03.2011</td>\n",
       "      <td>VOLKSWAGEN</td>\n",
       "      <td>polo</td>\n",
       "      <td>e1*2001/116*0510*08</td>\n",
       "    </tr>\n",
       "    <tr>\n",
       "      <th>2021-20-1949</th>\n",
       "      <td>DDF-14-X</td>\n",
       "      <td>18.06.2015</td>\n",
       "      <td>PIAGGIO</td>\n",
       "      <td>vespa sprint</td>\n",
       "      <td>e11*2002/24*1744*02</td>\n",
       "    </tr>\n",
       "    <tr>\n",
       "      <th>2021-20-1921</th>\n",
       "      <td>DDS-82-R</td>\n",
       "      <td>15.08.2015</td>\n",
       "      <td>PIAGGIO</td>\n",
       "      <td>vespa sprint</td>\n",
       "      <td>e11*2002/24*1744*02</td>\n",
       "    </tr>\n",
       "    <tr>\n",
       "      <th>2021-20-1938</th>\n",
       "      <td>DHN-94-K</td>\n",
       "      <td>20.09.2016</td>\n",
       "      <td>PIAGGIO</td>\n",
       "      <td>vespa sprint</td>\n",
       "      <td>e11*2002/24*1744*02</td>\n",
       "    </tr>\n",
       "    <tr>\n",
       "      <th>2021-20-1942</th>\n",
       "      <td>DDG-72-P</td>\n",
       "      <td>30.07.2015</td>\n",
       "      <td>PIAGGIO</td>\n",
       "      <td>vespa sprint</td>\n",
       "      <td>e11*2002/24*1744*02</td>\n",
       "    </tr>\n",
       "    <tr>\n",
       "      <th>2021-20-1943</th>\n",
       "      <td>F-934-VZ</td>\n",
       "      <td>19.09.2014</td>\n",
       "      <td>PIAGGIO</td>\n",
       "      <td>vespa primavera</td>\n",
       "      <td>e11*2002/24*1744*02</td>\n",
       "    </tr>\n",
       "    <tr>\n",
       "      <th>2021-20-1958</th>\n",
       "      <td>DJH-97-H</td>\n",
       "      <td>26.01.2017</td>\n",
       "      <td>PIAGGIO</td>\n",
       "      <td>vespa sprint</td>\n",
       "      <td>e11*2002/24*1744*02</td>\n",
       "    </tr>\n",
       "    <tr>\n",
       "      <th>2021-20-1908</th>\n",
       "      <td>DZS-32-R</td>\n",
       "      <td>09.06.2020</td>\n",
       "      <td>BTC</td>\n",
       "      <td>riva</td>\n",
       "      <td>e13*168/2013*00229*04</td>\n",
       "    </tr>\n",
       "    <tr>\n",
       "      <th>2021-20-1950</th>\n",
       "      <td>FDP-11-P</td>\n",
       "      <td>08.10.2020</td>\n",
       "      <td>AGM</td>\n",
       "      <td>vx 50</td>\n",
       "      <td>e13*168/2013*00229*04</td>\n",
       "    </tr>\n",
       "    <tr>\n",
       "      <th>2021-20-8049</th>\n",
       "      <td>2-VPT-14</td>\n",
       "      <td>15.08.2011</td>\n",
       "      <td>RENAULT</td>\n",
       "      <td>master</td>\n",
       "      <td>e2*2007/46*0016*12</td>\n",
       "    </tr>\n",
       "    <tr>\n",
       "      <th>2021-20-8146</th>\n",
       "      <td>VB-551-L</td>\n",
       "      <td>31.01.2013</td>\n",
       "      <td>RENAULT</td>\n",
       "      <td>master</td>\n",
       "      <td>e2*2007/46*0016*12</td>\n",
       "    </tr>\n",
       "    <tr>\n",
       "      <th>2021-20-1917</th>\n",
       "      <td>D-455-RZ</td>\n",
       "      <td>30.08.2010</td>\n",
       "      <td>PIAGGIO</td>\n",
       "      <td>c38</td>\n",
       "      <td>e3*2002/24*0565*01</td>\n",
       "    </tr>\n",
       "    <tr>\n",
       "      <th>2021-20-1906</th>\n",
       "      <td>F-969-HL</td>\n",
       "      <td>05.04.2012</td>\n",
       "      <td>PIAGGIO</td>\n",
       "      <td>c38</td>\n",
       "      <td>e3*2002/24*0565*01</td>\n",
       "    </tr>\n",
       "    <tr>\n",
       "      <th>2021-20-1902</th>\n",
       "      <td>F-716-RH</td>\n",
       "      <td>30.09.2014</td>\n",
       "      <td>PIAGGIO</td>\n",
       "      <td>C38</td>\n",
       "      <td>e3*2002/24*0565*01</td>\n",
       "    </tr>\n",
       "    <tr>\n",
       "      <th>2021-20-8103</th>\n",
       "      <td>84-HZB-5</td>\n",
       "      <td>27.03.2009</td>\n",
       "      <td>OPEL</td>\n",
       "      <td>astra gtc</td>\n",
       "      <td>e4*2001/116*0094*07</td>\n",
       "    </tr>\n",
       "    <tr>\n",
       "      <th>2021-20-8021</th>\n",
       "      <td>73-XT-VP</td>\n",
       "      <td>02.10.2007</td>\n",
       "      <td>OPEL</td>\n",
       "      <td>astra gtc</td>\n",
       "      <td>e4*2001/116*0094*07</td>\n",
       "    </tr>\n",
       "    <tr>\n",
       "      <th>2021-20-1929</th>\n",
       "      <td>F-125-BT</td>\n",
       "      <td>15.06.2011</td>\n",
       "      <td>KYMCO</td>\n",
       "      <td>people s</td>\n",
       "      <td>e4*2002/24*0432*02</td>\n",
       "    </tr>\n",
       "    <tr>\n",
       "      <th>2021-20-1914</th>\n",
       "      <td>D-973-SP</td>\n",
       "      <td>28.10.2010</td>\n",
       "      <td>KYMCO</td>\n",
       "      <td>people s</td>\n",
       "      <td>e4*2002/24*0432*02</td>\n",
       "    </tr>\n",
       "  </tbody>\n",
       "</table>\n",
       "</div>"
      ],
      "text/plain": [
       "                   Reg      Mfdate   ItemBrand         ItemType  \\\n",
       "2021-20-8064  55-ZH-XG  06.03.2008        AUDI          audi a6   \n",
       "2021-20-8043  25-HLG-5  15.01.2009        AUDI          audi a6   \n",
       "2021-20-8044  41-PLD-2  15.02.2011  VOLKSWAGEN             polo   \n",
       "2021-20-8139  15-PRL-6  10.03.2011  VOLKSWAGEN             polo   \n",
       "2021-20-1949  DDF-14-X  18.06.2015     PIAGGIO     vespa sprint   \n",
       "2021-20-1921  DDS-82-R  15.08.2015     PIAGGIO     vespa sprint   \n",
       "2021-20-1938  DHN-94-K  20.09.2016     PIAGGIO     vespa sprint   \n",
       "2021-20-1942  DDG-72-P  30.07.2015     PIAGGIO     vespa sprint   \n",
       "2021-20-1943  F-934-VZ  19.09.2014     PIAGGIO  vespa primavera   \n",
       "2021-20-1958  DJH-97-H  26.01.2017     PIAGGIO     vespa sprint   \n",
       "2021-20-1908  DZS-32-R  09.06.2020         BTC             riva   \n",
       "2021-20-1950  FDP-11-P  08.10.2020         AGM            vx 50   \n",
       "2021-20-8049  2-VPT-14  15.08.2011     RENAULT           master   \n",
       "2021-20-8146  VB-551-L  31.01.2013     RENAULT           master   \n",
       "2021-20-1917  D-455-RZ  30.08.2010     PIAGGIO              c38   \n",
       "2021-20-1906  F-969-HL  05.04.2012     PIAGGIO              c38   \n",
       "2021-20-1902  F-716-RH  30.09.2014     PIAGGIO              C38   \n",
       "2021-20-8103  84-HZB-5  27.03.2009        OPEL        astra gtc   \n",
       "2021-20-8021  73-XT-VP  02.10.2007        OPEL        astra gtc   \n",
       "2021-20-1929  F-125-BT  15.06.2011       KYMCO         people s   \n",
       "2021-20-1914  D-973-SP  28.10.2010       KYMCO         people s   \n",
       "\n",
       "             rdw_typegoedkeuringsnummer  \n",
       "2021-20-8064        e1*2001/116*0254*17  \n",
       "2021-20-8043        e1*2001/116*0254*17  \n",
       "2021-20-8044        e1*2001/116*0510*08  \n",
       "2021-20-8139        e1*2001/116*0510*08  \n",
       "2021-20-1949        e11*2002/24*1744*02  \n",
       "2021-20-1921        e11*2002/24*1744*02  \n",
       "2021-20-1938        e11*2002/24*1744*02  \n",
       "2021-20-1942        e11*2002/24*1744*02  \n",
       "2021-20-1943        e11*2002/24*1744*02  \n",
       "2021-20-1958        e11*2002/24*1744*02  \n",
       "2021-20-1908      e13*168/2013*00229*04  \n",
       "2021-20-1950      e13*168/2013*00229*04  \n",
       "2021-20-8049         e2*2007/46*0016*12  \n",
       "2021-20-8146         e2*2007/46*0016*12  \n",
       "2021-20-1917         e3*2002/24*0565*01  \n",
       "2021-20-1906         e3*2002/24*0565*01  \n",
       "2021-20-1902         e3*2002/24*0565*01  \n",
       "2021-20-8103        e4*2001/116*0094*07  \n",
       "2021-20-8021        e4*2001/116*0094*07  \n",
       "2021-20-1929         e4*2002/24*0432*02  \n",
       "2021-20-1914         e4*2002/24*0432*02  "
      ]
     },
     "execution_count": 12,
     "metadata": {},
     "output_type": "execute_result"
    }
   ],
   "source": [
    "# twins\n",
    "vc = rdw.rdw_typegoedkeuringsnummer.value_counts()\n",
    "rdw.loc[rdw.rdw_typegoedkeuringsnummer.isin([i for i in vc[vc > 1].index if i != '']),\n",
    "       ['Reg', 'Mfdate', 'ItemBrand', 'ItemType','rdw_typegoedkeuringsnummer']].sort_values(by='rdw_typegoedkeuringsnummer')"
   ]
  },
  {
   "cell_type": "code",
   "execution_count": 13,
   "metadata": {},
   "outputs": [],
   "source": [
    "AuctDate = pd.to_datetime(DATE, format = '%Y-%m')\n",
    "\n",
    "# serial date\n",
    "drz[\"Mfdate_ser\"] = drz.Mfdate.apply(lambda x:pd.to_datetime(x, format = '%d.%m.%Y') if (x!='onbekend') & (x!='') & ('-' not in x) & (len(x) >= 8)else np.NaN)\n",
    "\n",
    "# age\n",
    "drz[\"Age\"] = (AuctDate - drz.Mfdate_ser)\n",
    "drz[\"Age_year\"] = drz.Age.apply(lambda x:x.days/365.25)"
   ]
  },
  {
   "cell_type": "markdown",
   "metadata": {},
   "source": [
    "- - - -\n",
    "# Continue with cars only"
   ]
  },
  {
   "cell_type": "code",
   "execution_count": 14,
   "metadata": {},
   "outputs": [],
   "source": [
    "out = drz.Price.copy()\n",
    "Features = drz.loc[:,[\"ItemBrand\",\"ItemType\",\"Odo\",\"Age_year\"]].copy()"
   ]
  },
  {
   "cell_type": "code",
   "execution_count": 15,
   "metadata": {},
   "outputs": [],
   "source": [
    "# Drop rows\n",
    "Subsel = drz.LotType == 'Personenauto'\n",
    "dropIx=drz[~Subsel].index\n",
    "out.drop(index=dropIx,inplace=True)\n",
    "Features.drop(index=dropIx,inplace=True)"
   ]
  },
  {
   "cell_type": "markdown",
   "metadata": {},
   "source": [
    "### one hot encoding brand and model"
   ]
  },
  {
   "cell_type": "code",
   "execution_count": null,
   "metadata": {
    "tags": [
     "nbconvert_instruction:remove_all_outputs"
    ]
   },
   "outputs": [],
   "source": [
    "Dummies = pd.get_dummies(Features.ItemBrand,prefix='Brand_',drop_first=False)\n",
    "Features = pd.concat([Features,Dummies],axis=1)\n",
    "\n",
    "Features.describe()"
   ]
  },
  {
   "cell_type": "markdown",
   "metadata": {},
   "source": [
    "# Plotting"
   ]
  },
  {
   "cell_type": "code",
   "execution_count": 17,
   "metadata": {},
   "outputs": [],
   "source": [
    "def ecdf(data):\n",
    "    x = sorted(data)\n",
    "    y = np.arange(0,len(x))/len(x)\n",
    "    return x,y\n",
    "\n",
    "# # example\n",
    "# x,y = ecdf(km_p_day)\n",
    "# plt.plot(x,y)"
   ]
  },
  {
   "cell_type": "code",
   "execution_count": 18,
   "metadata": {},
   "outputs": [],
   "source": [
    "# km per day\n",
    "km_p_day = Features.Odo/(Features.Age_year*365.25).fillna(0)\n",
    "sel = ~(km_p_day.isna() | (km_p_day == np.inf))\n",
    "km_p_day = km_p_day.loc[sel]"
   ]
  },
  {
   "cell_type": "code",
   "execution_count": null,
   "metadata": {
    "tags": [
     "nbconvert_instruction:remove_all_outputs"
    ]
   },
   "outputs": [],
   "source": [
    "# Plot ecdf and hist\n",
    "x,y = ecdf(km_p_day)\n",
    "fig,axs = plt.subplots(ncols=1,nrows=2, figsize=[8,10],sharex=True)\n",
    "\n",
    "# ecdf\n",
    "ax = axs[0]\n",
    "ax.step(x,y*100)\n",
    "ax.plot(np.median(x),50,'+',markersize=20)\n",
    "ax.text(np.median(x),50,'Median {:.1f} km/day      '.format(np.median(x)),ha='right',va='center');\n",
    "ax.set_title('Distribution of intensity of usage')\n",
    "ax.set_ylabel('Fraction of cars (%)')\n",
    "\n",
    "xl = axs[0].get_xlim()\n",
    "\n",
    "# hist\n",
    "ax = axs[1]\n",
    "ax.hist(x,bins=np.logspace(-1,np.log10(xl[1]),50))\n",
    "yl = axs[1].get_ylim()\n",
    "ax.plot(np.array([1,1])*np.median(x),yl,'-',linewidth=3)\n",
    "ax.set_xlabel('Average travel (km/day)')\n",
    "ax.set_ylabel('count')\n",
    "\n",
    "ax.text(\n",
    "    km_p_day.min(),1,\n",
    "    ' {} {}\\n{}km since {}'.format(*rdw.loc[km_p_day.idxmin(),['ItemBrand','ItemType','OdoKM','Mfdate']].values),\n",
    "    rotation=90,\n",
    "    va='bottom',\n",
    "    ha='center'\n",
    ")\n",
    "\n",
    "ax.text(\n",
    "    km_p_day.max(),1,\n",
    "    ' {} {}\\n{}km since {}'.format(*rdw.loc[km_p_day.idxmax(),['ItemBrand','ItemType','OdoKM','Mfdate']].values),\n",
    "    rotation=90,\n",
    "    va='bottom',\n",
    "    ha='center'\n",
    ")\n",
    "\n",
    "ax.set_xscale('log')\n"
   ]
  },
  {
   "cell_type": "code",
   "execution_count": null,
   "metadata": {
    "tags": [
     "nbconvert_instruction:remove_all_outputs"
    ]
   },
   "outputs": [],
   "source": [
    "plt.plot(Features.Odo,out,'.')\n",
    "plt.xscale('log')\n",
    "plt.yscale('log')\n",
    "plt.xlabel('odo (km converted)')\n",
    "plt.ylabel('Price')\n",
    "\n",
    "plt.figure()\n",
    "plt.plot(Features.Age_year,out,'.')\n",
    "plt.yscale('log')\n",
    "plt.xlabel('age (years)')\n",
    "plt.ylabel('Price')\n",
    "plt.xlim(0,50)\n",
    "\n",
    "\n",
    "plt.figure()\n",
    "plt.plot(Features.Age_year,Features.Odo,'.')\n",
    "plt.xlabel('age (years)')\n",
    "plt.ylabel('odo (km converted)')\n",
    "plt.xlim(0,50)\n",
    "\n",
    "plt.show()\n",
    "\n"
   ]
  },
  {
   "cell_type": "code",
   "execution_count": null,
   "metadata": {
    "tags": [
     "nbconvert_instruction:remove_all_outputs"
    ]
   },
   "outputs": [],
   "source": [
    "pd.plotting.scatter_matrix(Features.loc[:, [c for c in Features.columns if not c.startswith('Brand__')]],figsize=[4,4])\n",
    "plt.show()"
   ]
  },
  {
   "cell_type": "code",
   "execution_count": null,
   "metadata": {
    "tags": [
     "nbconvert_instruction:remove_all_outputs"
    ]
   },
   "outputs": [],
   "source": [
    "# reserved price?\n",
    "gr = [l[:1] for l in np.array([*out.index.str.split('-')])[:,2]]\n",
    "gb = out.groupby(gr)\n",
    "for g,_ in gb:\n",
    "    x,y = ecdf(gb.get_group(g))\n",
    "    plt.figure(figsize=[4,4])\n",
    "    plt.step(x,y*len(y),'+:')\n",
    "    min_x = np.array(x)[np.array(x) > 0].min()\n",
    "    plt.xlim(left=min_x*0.2, right=min_x*1.8)\n",
    "    plt.xlabel('price')\n",
    "    plt.ylabel('cars')\n",
    "    plt.title(f'lowest priced lots start with {g}')\n",
    "    # lowest price is 174?\n",
    "    out.value_counts().sort_index()"
   ]
  },
  {
   "cell_type": "code",
   "execution_count": null,
   "metadata": {},
   "outputs": [],
   "source": []
  },
  {
   "cell_type": "code",
   "execution_count": null,
   "metadata": {},
   "outputs": [],
   "source": []
  }
 ],
 "metadata": {
  "kernelspec": {
   "display_name": "Python 3",
   "language": "python",
   "name": "python3"
  },
  "language_info": {
   "codemirror_mode": {
    "name": "ipython",
    "version": 3
   },
   "file_extension": ".py",
   "mimetype": "text/x-python",
   "name": "python",
   "nbconvert_exporter": "python",
   "pygments_lexer": "ipython3",
   "version": "3.8.10"
  }
 },
 "nbformat": 4,
 "nbformat_minor": 4
}
