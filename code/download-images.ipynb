{
 "cells": [
  {
   "cell_type": "markdown",
   "metadata": {},
   "source": [
    "# Download images from the auction results\n",
    "\n",
    "Use the url from the auction result to download all images from the auction."
   ]
  },
  {
   "cell_type": "markdown",
   "metadata": {},
   "source": [
    "- - - - \n",
    "# User variables"
   ]
  },
  {
   "cell_type": "code",
   "execution_count": 1,
   "metadata": {},
   "outputs": [],
   "source": [
    "Date = '2019-08' # yyyy-mm"
   ]
  },
  {
   "cell_type": "markdown",
   "metadata": {},
   "source": [
    "### Modules and functions"
   ]
  },
  {
   "cell_type": "code",
   "execution_count": 2,
   "metadata": {
    "colab": {},
    "colab_type": "code",
    "id": "6ZmS55RpoqYL"
   },
   "outputs": [],
   "source": [
    "import pandas as pd\n",
    "\n",
    "\n",
    "def download_images_from_lot(lot,path='../data/images',skip=True):\n",
    "    '''\n",
    "    Download .jpg to disk\n",
    "    '''\n",
    "    import urllib.request\n",
    "    import os\n",
    "    import re\n",
    "    \n",
    "    urls = lot.Images\n",
    "\n",
    "    fn_patt = '{}/{}-{}.jpg'.format(path,lot.name,'{:02g}')\n",
    "\n",
    "    for i,url in enumerate(urls):\n",
    "        # change url to get larger image\n",
    "        url = re.sub('1024/768','1024/1024',url)\n",
    "        # apply format: add counter\n",
    "        fn = fn_patt.format(i)\n",
    "        if os.path.isfile(fn) & skip:\n",
    "            continue\n",
    "            \n",
    "        print(url, '->', fn,end='',flush=True)\n",
    "        urllib.request.urlretrieve(url, fn)\n",
    "        print('',end='\\r')\n"
   ]
  },
  {
   "cell_type": "code",
   "execution_count": 3,
   "metadata": {},
   "outputs": [
    {
     "name": "stdout",
     "output_type": "stream",
     "text": [
      "../data/drz-data-2019-08.pkl\n"
     ]
    }
   ],
   "source": [
    "file_name = '../data/drz-data-{}.pkl'.format(Date)\n",
    "print(file_name)\n",
    "drz = pd.read_pickle(file_name)"
   ]
  },
  {
   "cell_type": "markdown",
   "metadata": {},
   "source": [
    "### Download"
   ]
  },
  {
   "cell_type": "code",
   "execution_count": 4,
   "metadata": {},
   "outputs": [],
   "source": [
    "# start_idx = pd.np.where(drz.index == '2019-5-8332')[0][0]\n",
    "start_idx = 0\n",
    "drz.iloc[start_idx:,:].apply(lambda lot:download_images_from_lot(lot),axis='columns');"
   ]
  },
  {
   "cell_type": "code",
   "execution_count": null,
   "metadata": {},
   "outputs": [],
   "source": []
  }
 ],
 "metadata": {
  "kernelspec": {
   "display_name": "Python 3",
   "language": "python",
   "name": "python3"
  },
  "language_info": {
   "codemirror_mode": {
    "name": "ipython",
    "version": 3
   },
   "file_extension": ".py",
   "mimetype": "text/x-python",
   "name": "python",
   "nbconvert_exporter": "python",
   "pygments_lexer": "ipython3",
   "version": "3.6.8"
  }
 },
 "nbformat": 4,
 "nbformat_minor": 2
}
