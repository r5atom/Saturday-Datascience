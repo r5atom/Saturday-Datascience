{
 "cells": [
  {
   "cell_type": "markdown",
   "metadata": {},
   "source": [
    "# Download images from the auction results\n",
    "\n",
    "Use the url from the auction result to download all images from the auction."
   ]
  },
  {
   "cell_type": "code",
   "execution_count": null,
   "metadata": {},
   "outputs": [],
   "source": [
    "import drz_config\n",
    "cfg = drz_config.read_config()\n",
    "DATE = cfg['DATE']\n",
    "VERBOSE = cfg['VERBOSE']\n",
    "OPBOD = cfg['OPBOD']\n",
    "SKIPSAVE = cfg['SKIPSAVE']\n",
    "\n",
    "if VERBOSE > 0:\n",
    "    print(cfg)\n",
    "    \n",
    "if SKIPSAVE:\n",
    "    raise InterruptedError('In settings saving is disabled.')\n",
    "\n"
   ]
  },
  {
   "cell_type": "code",
   "execution_count": null,
   "metadata": {
    "colab": {},
    "colab_type": "code",
    "id": "6ZmS55RpoqYL"
   },
   "outputs": [],
   "source": [
    "import pandas as pd\n",
    "\n",
    "\n",
    "def download_images_from_lot(lot, path='../data/images', skip=True):\n",
    "    '''\n",
    "    Download .jpg to disk\n",
    "    '''\n",
    "    import urllib.request\n",
    "    import os\n",
    "    import re\n",
    "    \n",
    "    urls = lot.Images\n",
    "\n",
    "    fn_patt = '{}/{}-{}.jpg'.format(path,lot.name,'{:02g}')\n",
    "\n",
    "    for i,url in enumerate(urls):\n",
    "        # change url to get larger image\n",
    "        url = re.sub('1024/768','1024/1024',url)\n",
    "        # apply format: add counter\n",
    "        fn = fn_patt.format(i)\n",
    "        if os.path.isfile(fn) & skip:\n",
    "            continue\n",
    "            \n",
    "        print(url, '->', fn,end='',flush=True)\n",
    "        urllib.request.urlretrieve(url, fn)\n",
    "        print('',end='\\r')\n"
   ]
  },
  {
   "cell_type": "markdown",
   "metadata": {},
   "source": [
    "# Load auction results\n",
    "\n",
    "(Can also use rdw data here.)"
   ]
  },
  {
   "cell_type": "code",
   "execution_count": null,
   "metadata": {},
   "outputs": [],
   "source": [
    "if OPBOD:\n",
    "    file_name = r'../../../python-nb/data/drz-data-opbod-{}.pkl'.format(DATE)\n",
    "else:\n",
    "    file_name = '../data/drz-data-{}.pkl'.format(DATE)\n",
    "\n",
    "# file_name = '../data/drz-data-unparsed-{}.pkl'.format(DATE)\n",
    "\n",
    "print(file_name)\n",
    "drz = pd.read_pickle(file_name)"
   ]
  },
  {
   "cell_type": "markdown",
   "metadata": {},
   "source": [
    "# Download"
   ]
  },
  {
   "cell_type": "code",
   "execution_count": null,
   "metadata": {},
   "outputs": [],
   "source": [
    "images_dir_opbod = r'../../../python-nb/data/images'\n",
    "images_dir = r'../data/images'\n",
    "# images_dir = r'/Users/Tom/Documents/drz'\n",
    "\n",
    "# start_idx = pd.np.where(drz.index == '2019-5-8332')[0][0]\n",
    "start_idx = 0\n",
    "if OPBOD:\n",
    "    drz.iloc[start_idx:,:].apply(lambda lot:download_images_from_lot(lot, path=images_dir_opbod),axis='columns')\n",
    "else:\n",
    "    drz.iloc[start_idx:,:].apply(lambda lot:download_images_from_lot(lot, path=images_dir),axis='columns')"
   ]
  },
  {
   "cell_type": "code",
   "execution_count": null,
   "metadata": {},
   "outputs": [],
   "source": []
  }
 ],
 "metadata": {
  "kernelspec": {
   "display_name": "py38-satdatsci",
   "language": "python",
   "name": "py38-satdatsci"
  },
  "language_info": {
   "codemirror_mode": {
    "name": "ipython",
    "version": 3
   },
   "file_extension": ".py",
   "mimetype": "text/x-python",
   "name": "python",
   "nbconvert_exporter": "python",
   "pygments_lexer": "ipython3",
   "version": "3.8.5"
  }
 },
 "nbformat": 4,
 "nbformat_minor": 4
}
