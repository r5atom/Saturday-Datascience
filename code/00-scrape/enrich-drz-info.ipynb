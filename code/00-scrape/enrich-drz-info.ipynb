{
 "cells": [
  {
   "cell_type": "markdown",
   "id": "f7563683-d7c4-47f9-b045-9959b858e1a1",
   "metadata": {},
   "source": [
    "# Add extra information from RDW open data\n",
    "\n",
    "Query to the open data dataset of the RDW.\n",
    "\n",
    "\n",
    "1. Registration numbers  \n",
    "    Apis with license plates as key\n",
    "2. Conformity codes  \n",
    "    Cars get a conformity code when certified.\n",
    "3. Website data  \n",
    "    Get data from OVI RDW website. This takes a while because of time out enforced by website. Use config to disable.\n",
    "4. NHTSA data with vin\n",
    "    NHTSA has VPIC \n",
    "5. Merge results  \n",
    "    Combine all dataframes and save\n",
    "6. Save results  \n",
    "- - - - "
   ]
  },
  {
   "cell_type": "code",
   "execution_count": null,
   "id": "bacd4bd8-8daa-4e36-878a-2e3633ccaba0",
   "metadata": {},
   "outputs": [],
   "source": [
    "# 1 registrations numbers\n",
    "%run ./add-info-to-drz-rdw-reg.ipynb"
   ]
  },
  {
   "cell_type": "code",
   "execution_count": null,
   "id": "030dd26b-24ce-47d6-b0ff-df7199e12055",
   "metadata": {},
   "outputs": [],
   "source": [
    "# 2 conformity codes\n",
    "%run ./add-info-to-drz-rdw-conf.ipynb"
   ]
  },
  {
   "cell_type": "code",
   "execution_count": null,
   "id": "a0bc2416-c1df-4553-82e8-e6a7482ce938",
   "metadata": {},
   "outputs": [],
   "source": [
    "# 3 OVI\n",
    "%run ./add-info-to-drz-rdw-ovi.ipynb"
   ]
  },
  {
   "cell_type": "code",
   "execution_count": null,
   "id": "5e863aae-367f-400d-889d-68e64f67cb9c",
   "metadata": {},
   "outputs": [],
   "source": [
    "# 4 NHTSA VPIC\n",
    "%run ./add-nhtsa-info-to-rdw.ipynb"
   ]
  },
  {
   "cell_type": "code",
   "execution_count": null,
   "id": "90856b05-7355-452e-a32b-6df8fba040fb",
   "metadata": {},
   "outputs": [],
   "source": [
    "# 4,5 Merge and save\n",
    "%run ./add-info-to-drz-merge.ipynb"
   ]
  },
  {
   "cell_type": "markdown",
   "id": "75495ce5-119d-43a6-84ba-e7c93a551a8d",
   "metadata": {
    "editable": true,
    "slideshow": {
     "slide_type": ""
    },
    "tags": []
   },
   "source": [
    "# Next: download images (or parallel)\n",
    "\n",
    "Because images might be taken down from the drz site, it is advisable to run the notebook that downloads images soon."
   ]
  }
 ],
 "metadata": {
  "kernelspec": {
   "display_name": "Python 3 (ipykernel)",
   "language": "python",
   "name": "python3"
  },
  "language_info": {
   "codemirror_mode": {
    "name": "ipython",
    "version": 3
   },
   "file_extension": ".py",
   "mimetype": "text/x-python",
   "name": "python",
   "nbconvert_exporter": "python",
   "pygments_lexer": "ipython3",
   "version": "3.10.12"
  }
 },
 "nbformat": 4,
 "nbformat_minor": 5
}
