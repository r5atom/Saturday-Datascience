{
 "cells": [
  {
   "cell_type": "markdown",
   "metadata": {},
   "source": [
    "# Conformity codes \n",
    "\n",
    "Collect data from RDW based on conformity codes (TGK, typegoedkeuring)"
   ]
  },
  {
   "cell_type": "markdown",
   "metadata": {},
   "source": [
    "### User variables"
   ]
  },
  {
   "cell_type": "code",
   "execution_count": 1,
   "metadata": {
    "slideshow": {
     "slide_type": ""
    },
    "tags": []
   },
   "outputs": [],
   "source": [
    "import sys\n",
    "import re\n",
    "import json\n",
    "from IPython.display import display"
   ]
  },
  {
   "cell_type": "code",
   "execution_count": 2,
   "metadata": {
    "editable": true,
    "slideshow": {
     "slide_type": ""
    },
    "tags": []
   },
   "outputs": [],
   "source": [
    "with open('../assets/drz-settings-current.json', 'r') as fid:\n",
    "    cfg = json.load(fid)\n",
    "\n",
    "OPBOD = cfg['AUCTION']['kind'] == 'opbod'\n",
    "AUCTION_ID = cfg['AUCTION']['id']\n",
    "DATE = cfg['AUCTION']['date']\n",
    "DATA_DIR = cfg['FILE_LOCATION']['data_dir']\n",
    "auction_month = DATE[:4] + '-' + DATE[4:6]\n",
    "if cfg['AUCTION']['kind'] == 'inschrijving':\n",
    "    month_counter = re.sub('(-)(\\d{2})', '\\g<1>', AUCTION_ID)[5:8]\n",
    "elif cfg['AUCTION']['kind'] == 'opbod':\n",
    "    month_counter = re.sub('(-)(\\d{2})(\\d{2})', '-\\g<2>', AUCTION_ID)[5:8]\n",
    "\n",
    "sys.path.insert(0, cfg['FILE_LOCATION']['code_dir'])\n",
    "\n",
    "QUICK_MERGE = False\n",
    "SKIPSAVE = False\n",
    "OVIDATA = True\n",
    "VERBOSE = 1"
   ]
  },
  {
   "cell_type": "markdown",
   "metadata": {
    "editable": true,
    "slideshow": {
     "slide_type": ""
    },
    "tags": []
   },
   "source": [
    "### Modules and functions"
   ]
  },
  {
   "cell_type": "code",
   "execution_count": 3,
   "metadata": {},
   "outputs": [
    {
     "name": "stdout",
     "output_type": "stream",
     "text": [
      "enjoy rdw_info\n"
     ]
    }
   ],
   "source": [
    "import pandas as pd\n",
    "import numpy as np\n",
    "import re \n",
    "import os\n",
    "# to keep api key hidden import this from sub dir\n",
    "import assets.hidden_api_keys as hidden_api_keys\n",
    "from rdw_info import *"
   ]
  },
  {
   "cell_type": "markdown",
   "metadata": {},
   "source": [
    "### Load auction results"
   ]
  },
  {
   "cell_type": "code",
   "execution_count": null,
   "metadata": {
    "editable": true,
    "slideshow": {
     "slide_type": ""
    },
    "tags": [
     "nbconvert_instruction:remove_all_outputs"
    ]
   },
   "outputs": [],
   "source": [
    "file_name = f'{DATA_DIR}/auctions/results/drz-data-{auction_month}-{month_counter}.pkl'\n",
    "if OPBOD:\n",
    "    file_name = file_name.replace('.pkl', '-opbod.pkl')\n",
    "if not os.path.isfile(file_name):\n",
    "    # see if -without price- exists\n",
    "    NO_PRICE = True\n",
    "    if NO_PRICE:\n",
    "        file_name = file_name.replace('auctions/results', 'auctions/without-price')\n",
    "        file_name = file_name.replace('.pkl', '-without-price.pkl')\n",
    "    if OPBOD:\n",
    "        file_name = file_name.replace('-opbod-without-price.pkl', '-without-price-opbod.pkl')\n",
    "#     else:\n",
    "#         file_name = file_name.replace('.pkl', '-without-price.pkl')\n",
    "else:\n",
    "    NO_PRICE = False\n",
    "\n",
    "\n",
    "print(file_name)\n",
    "drz = pd.read_pickle(file_name)"
   ]
  },
  {
   "cell_type": "code",
   "execution_count": 5,
   "metadata": {
    "slideshow": {
     "slide_type": ""
    },
    "tags": []
   },
   "outputs": [],
   "source": [
    "if QUICK_MERGE:\n",
    "    raise NotImplementedError"
   ]
  },
  {
   "cell_type": "markdown",
   "metadata": {},
   "source": [
    "### Collect number plate registrations"
   ]
  },
  {
   "cell_type": "code",
   "execution_count": 6,
   "metadata": {},
   "outputs": [
    {
     "name": "stdout",
     "output_type": "stream",
     "text": [
      "/home/tom/bin/satdatsci/Saturday-Datascience/data/auctions/enriched-results/rdw-reg/rdw-reg-full-0-data-2025-03-05.pkl\n"
     ]
    }
   ],
   "source": [
    "# Load registrations\n",
    "suffix = '' if not OPBOD else '-opbod';\n",
    "file_name = f'{DATA_DIR}/auctions/enriched-results/rdw-reg/rdw-reg-full-0-data-{auction_month}-{month_counter}{suffix}.pkl'\n",
    "print(file_name)\n",
    "rdw_per_reg = pd.read_pickle(file_name)\n",
    "rdw_per_reg.index.name = 'kenteken';"
   ]
  },
  {
   "cell_type": "code",
   "execution_count": 7,
   "metadata": {},
   "outputs": [],
   "source": [
    "if ('gekentekende_voertuigen', 'volgnummer_wijziging_eu_typegoedkeuring') not in rdw_per_reg.columns:\n",
    "    raise 'Below is work-around.'\n",
    "    rdw_per_reg.loc[:, ('gekentekende_voertuigen', 'volgnummer_wijziging_eu_typegoedkeuring')] = 0"
   ]
  },
  {
   "cell_type": "code",
   "execution_count": null,
   "metadata": {
    "lines_to_next_cell": 2,
    "tags": [
     "nbconvert_instruction:remove_all_outputs"
    ]
   },
   "outputs": [],
   "source": [
    "# see what lots have a Dutch registration (license number).\n",
    "hasReg = (~drz.Reg.isnull()) & (drz.Reg != 'onbekend') & (drz.Reg != '') & (~drz.LotType.isin([\n",
    "    'Vaartuig',\n",
    "    'Jetski',\n",
    "    'Sloep',\n",
    "    'Speedboot',\n",
    "    'Vaartuig (Type onbekend)',\n",
    "    'Motorvaartuig met opbouw (Pleziervaartuig)',\n",
    "]))\n",
    "\n",
    "print('nr. of registrations:',sum(hasReg))\n",
    "\n",
    "# adhoc fix\n",
    "idx = '2022-08-5012' # check in pictures. reg is wrong\n",
    "if idx in drz.index:\n",
    "    drz.loc[idx, 'Reg'] = 'LM-82-14'\n",
    "idx = '2022-29-5001' # check in pictures. reg is wrong\n",
    "if idx in drz.index:\n",
    "    drz.loc[idx, 'Reg'] = 'LM-82-14'\n",
    "idx = '2022-29-2008' # check in pictures. reg is wrong\n",
    "if idx in drz.index:\n",
    "    drz.loc[idx, 'Reg'] = 'KT-05-40'\n",
    "\n",
    "\n",
    "\n",
    "vc = drz.loc[hasReg, 'Reg'].str.upper().str.replace('-','').value_counts()\n",
    "if any(vc > 1):\n",
    "    display(vc[vc>1])\n",
    "    display(drz[drz.Reg.str.upper().str.replace('-','').isin(vc[vc>1].index)])\n",
    "    raise ValueError('Registration occurs in more than one lot.')\n",
    "# assert all(vc == 1), [, display(vc[vc>1])]\n",
    "\n",
    "# # make a copy and add info\n",
    "# rdw = drz.copy()"
   ]
  },
  {
   "cell_type": "markdown",
   "metadata": {},
   "source": [
    "# Query conformity codes"
   ]
  },
  {
   "cell_type": "code",
   "execution_count": null,
   "metadata": {
    "editable": true,
    "lines_to_next_cell": 2,
    "slideshow": {
     "slide_type": ""
    },
    "tags": [
     "nbconvert_instruction:remove_all_outputs"
    ]
   },
   "outputs": [],
   "source": [
    "# empty dict\n",
    "rdw_per_confcode = dict()\n",
    "# Conformity codes consists of four fields that make a composite key\n",
    "conf = rdw_per_reg['gekentekende_voertuigen'][[\n",
    "    'typegoedkeuringsnummer', \n",
    "    'uitvoering', \n",
    "    'variant', \n",
    "    'volgnummer_wijziging_eu_typegoedkeuring'\n",
    "]].copy()\n",
    "\n",
    "# drop nan\n",
    "# conf.dropna(inplace=True, how='all')\n",
    "conf = conf.query('typegoedkeuringsnummer != \"nan\"')\n",
    "\n",
    "# Add shorter key \"eu_type_goedkeuringssleutel\"\n",
    "conf = conf.merge(\n",
    "    how='left', \n",
    "    right=long_to_short_conf(conf.typegoedkeuringsnummer).drop_duplicates(), \n",
    "    left_on='typegoedkeuringsnummer', right_index=True\n",
    ")\n",
    "\n",
    "# rename fields\n",
    "conf.volgnummer_wijziging_eu_typegoedkeuring = conf.volgnummer_wijziging_eu_typegoedkeuring.astype('Int8').astype(str)\n",
    "conf.rename(columns={\n",
    "    'uitvoering': 'eeg_uitvoeringscode',\n",
    "    'variant': 'eeg_variantcode',\n",
    "    'volgnummer_wijziging_eu_typegoedkeuring': 'uitvoering_wijzigingsnummer',\n",
    "}, inplace=True)\n",
    "\n",
    "# duplicates\n",
    "display(\n",
    "    conf.loc[:, conf.columns]\\\n",
    "    .reset_index()\\\n",
    "    .groupby('eu_type_goedkeuringssleutel')\\\n",
    "    .nunique()\\\n",
    "    .replace(1,np.nan)\\\n",
    "    .dropna(how='all')\\\n",
    "    .fillna(1)\\\n",
    "    .astype(int)\\\n",
    "    .sort_values(by='kenteken', ascending=False)\n",
    ")\n",
    "\n",
    "key = 'conformity_codes'\n",
    "rdw_per_confcode[key] = conf.reset_index().set_index(\n",
    "    ['eu_type_goedkeuringssleutel', 'eeg_variantcode', 'eeg_uitvoeringscode', 'uitvoering_wijzigingsnummer']).copy()"
   ]
  },
  {
   "cell_type": "code",
   "execution_count": 10,
   "metadata": {
    "lines_to_next_cell": 2
   },
   "outputs": [],
   "source": [
    "short_confs = rdw_per_confcode['conformity_codes'].reset_index()\\\n",
    ".set_index('typegoedkeuringsnummer').eu_type_goedkeuringssleutel\n",
    "full_confs = rdw_per_confcode['conformity_codes'].reset_index()\\\n",
    ".set_index('typegoedkeuringsnummer').loc[:, [\n",
    "    'eu_type_goedkeuringssleutel', \n",
    "    'eeg_variantcode', \n",
    "    'eeg_uitvoeringscode', \n",
    "    'uitvoering_wijzigingsnummer',\n",
    "    'kenteken'\n",
    "]]\n",
    "full_confs_with_long_and_reg = full_confs.reset_index().drop(columns=['eu_type_goedkeuringssleutel'])\n",
    "rdw_per_confcode['kenteken'] = full_confs_with_long_and_reg\n",
    "\n",
    "# For these apis reg is not needed.\n",
    "full_confs_with_long = full_confs_with_long_and_reg.drop(columns=['kenteken']).copy()"
   ]
  },
  {
   "cell_type": "code",
   "execution_count": 11,
   "metadata": {},
   "outputs": [
    {
     "data": {
      "text/plain": [
       "(68, 9)"
      ]
     },
     "execution_count": 11,
     "metadata": {},
     "output_type": "execute_result"
    }
   ],
   "source": [
    "out = rdw_per_confcode['conformity_codes'].reset_index().set_index('kenteken').copy()\n",
    "out.shape"
   ]
  },
  {
   "cell_type": "code",
   "execution_count": null,
   "metadata": {
    "editable": true,
    "slideshow": {
     "slide_type": ""
    },
    "tags": [
     "nbconvert_instruction:remove_all_outputs"
    ]
   },
   "outputs": [],
   "source": [
    "# Save for later use\n",
    "file_name = f'{DATA_DIR}/auctions/enriched-results/rdw-reg/rdw-reg-conf-0-data-{auction_month}-{month_counter}.pkl'\n",
    "\n",
    "if NO_PRICE:\n",
    "    file_name = file_name.replace('.pkl', '-without-price.pkl')\n",
    "if OPBOD:\n",
    "    file_name = file_name.replace('.pkl', '-opbod.pkl')\n",
    "    \n",
    "if (SKIPSAVE==False) and (not(os.path.isfile(file_name))):\n",
    "    print(file_name)\n",
    "    out.to_pickle(file_name)\n",
    "else:\n",
    "    print(f'Skip. {file_name} exists or saving is disabled in settings.')"
   ]
  },
  {
   "cell_type": "code",
   "execution_count": 13,
   "metadata": {
    "editable": true,
    "slideshow": {
     "slide_type": ""
    },
    "tags": []
   },
   "outputs": [
    {
     "name": "stdout",
     "output_type": "stream",
     "text": [
      "tgk\n",
      "xn6e-huse Open Data RDW: TGK Rupsbandset Uitvoering\n",
      "xn6e-huse rupsbandset_uitvoering\n",
      "xhyb-w7xt Open Data RDW: TGK As Uitvoering\n",
      "xhyb-w7xt as_uitvoering\n",
      "x5v3-sewk Open Data RDW: TGK Handelsbenaming Fabrikant\n",
      "x5v3-sewk handelsbenaming_fabrikant\n",
      "m692-vvff Open Data RDW: TGK Speciale Doeleinden\n",
      "m692-vvff speciale_doeleinden\n",
      "kyri-nuah Open Data RDW: TGK Merk Uitvoering\n",
      "kyri-nuah merk_uitvoering\n",
      "ky2r-jqad Open Data RDW: TGK Carrosserie Uitvoering\n",
      "ky2r-jqad carrosserie_uitvoering\n",
      "gr7t-qfnb Open Data RDW: TGK Energiebron Uitvoering\n",
      "gr7t-qfnb energiebron_uitvoering\n",
      "d3ex-xghj Open Data RDW: TGK Koppeling Uitvoering\n",
      "d3ex-xghj koppeling_uitvoering\n",
      "byxc-wwua Open Data RDW: TGK Basis Uitvoering\n",
      "byxc-wwua basis_uitvoering\n",
      "9s6a-b42z Open Data RDW: TGK Intrekking Typegoedkeuring\n",
      "9s6a-b42z intrekking_typegoedkeuring\n",
      "7rjk-eycs Open Data RDW: TGK Versnelling Uitvoering\n",
      "7rjk-eycs versnelling_uitvoering\n",
      "4by9-ammk Open Data RDW: TGK Aandrijving Uitvoering\n",
      "4by9-ammk aandrijving_uitvoering\n"
     ]
    }
   ],
   "source": [
    "# Get sub apis from main api\n",
    "# This used to be a single api, now we use a \"search\" technique\n",
    "from_key = 'tgk'\n",
    "sub_apis, page_titles,_ = get_apis_with_search('title:\"Open Data RDW: TGK\"')\n",
    "page_titles = iter(page_titles)\n",
    "print(f'{from_key}')\n",
    "for api_name in sub_apis:\n",
    "    print(f'{api_name} {next(page_titles)}')\n",
    "    if api_name == '9s6a-b42z':\n",
    "        # This api (TGK-Intrekking-Typegoedkeuring) only needs one field as an index\n",
    "        Info = RdwInfo(full_confs_with_long.typegoedkeuringsnummer, api_name, hidden_api_keys.socrata_apptoken)\n",
    "    else:\n",
    "        Info = RdwInfo(full_confs_with_long, api_name, hidden_api_keys.socrata_apptoken)\n",
    "    Info.process_api()\n",
    "    key = re.sub('\\s', '_', Info.metadata_['name'].lower())\n",
    "    key = re.sub(f'^{from_key}_', '', key)\n",
    "    print(f'{api_name} {key}')\n",
    "    rdw_per_confcode[key] = Info.get_df().copy()\n",
    "    if api_name == 'x5v3-sewk':\n",
    "        # rename typo in api handelsbenaming_fabrikant codevariantgk -> codevarianttgk (missing 't')\n",
    "        rdw_per_confcode[key].index.names = [re.sub('codevariantgk', 'codevarianttgk', n) for n in rdw_per_confcode[key].index.names]\n",
    "\n"
   ]
  },
  {
   "cell_type": "markdown",
   "metadata": {
    "editable": true,
    "slideshow": {
     "slide_type": ""
    },
    "tags": []
   },
   "source": [
    "Merge dataframes from conformity codes apis"
   ]
  },
  {
   "cell_type": "code",
   "execution_count": null,
   "metadata": {
    "editable": true,
    "slideshow": {
     "slide_type": ""
    },
    "tags": [
     "nbconvert_instruction:remove_all_outputs"
    ]
   },
   "outputs": [],
   "source": [
    "print('x: Data can be merged. (should be unique, 4 level key and contain data) /: will be saved differently')\n",
    "full_codes = dict()\n",
    "for k, df in rdw_per_confcode.items():\n",
    "    if (k in ['conformity_codes', 'intrekking_typegoedkeuring', 'kenteken']):\n",
    "        print(f'[/] {k:64s}', end='')\n",
    "    elif (df.index.nlevels == 4) and (df.index.is_unique):\n",
    "        assert df.index.names == ['typegoedkeuringsnummer', 'codevarianttgk', 'codeuitvoeringtgk', 'volgnummerrevisieuitvoering']\n",
    "        df.reset_index(inplace=True)\n",
    "        df.volgnummerrevisieuitvoering = df.volgnummerrevisieuitvoering.astype(int).astype(str)\n",
    "        df.set_index(['typegoedkeuringsnummer', 'codevarianttgk', 'codeuitvoeringtgk', 'volgnummerrevisieuitvoering'], inplace=True)\n",
    "        full_codes[k] = df\n",
    "        print(f'[x] {k:64s}', end='')\n",
    "    else:\n",
    "        print(f'[ ] {k:64s}', end='')\n",
    "\n",
    "    print({True: '[idx: unique    ]', False: '[idx: NOT unique]'}[df.index.is_unique],\n",
    "          f'[keys: {df.index.nlevels}]', \n",
    "          f'[shape: {df.shape[0]:3.0f},{df.shape[1]:3.0f}]'\n",
    "         )"
   ]
  },
  {
   "cell_type": "code",
   "execution_count": null,
   "metadata": {
    "editable": true,
    "slideshow": {
     "slide_type": ""
    },
    "tags": [
     "nbconvert_instruction:remove_all_outputs"
    ]
   },
   "outputs": [],
   "source": [
    "# merge\n",
    "out = pd.concat(full_codes, axis=1)\n",
    "display(out.loc[:, (slice(None), 'TimeStamp')].bfill(axis=0).iloc[0,:].to_frame())"
   ]
  },
  {
   "cell_type": "code",
   "execution_count": null,
   "metadata": {
    "editable": true,
    "slideshow": {
     "slide_type": ""
    },
    "tags": [
     "nbconvert_instruction:remove_all_outputs"
    ]
   },
   "outputs": [],
   "source": [
    "# Save\n",
    "file_name = f'{DATA_DIR}/auctions/enriched-results/rdw-conf/rdw-conf-0-data-{auction_month}-{month_counter}.pkl'\n",
    "\n",
    "if NO_PRICE:\n",
    "    file_name = file_name.replace('.pkl', '-without-price.pkl')\n",
    "if OPBOD:\n",
    "    file_name = file_name.replace('.pkl', '-opbod.pkl')\n",
    "    \n",
    "if (SKIPSAVE==False) and (not(os.path.isfile(file_name))):\n",
    "    print(file_name)\n",
    "    out.to_pickle(file_name)\n",
    "else:\n",
    "    print(f'Skip. {file_name} exists or saving is disabled in settings.')"
   ]
  },
  {
   "cell_type": "code",
   "execution_count": 17,
   "metadata": {},
   "outputs": [
    {
     "data": {
      "text/plain": [
       "(2, 3)"
      ]
     },
     "execution_count": 17,
     "metadata": {},
     "output_type": "execute_result"
    }
   ],
   "source": [
    "out = rdw_per_confcode['intrekking_typegoedkeuring']\n",
    "out.shape"
   ]
  },
  {
   "cell_type": "code",
   "execution_count": null,
   "metadata": {
    "editable": true,
    "slideshow": {
     "slide_type": ""
    },
    "tags": [
     "nbconvert_instruction:remove_all_outputs"
    ]
   },
   "outputs": [],
   "source": [
    "# Save for later use\n",
    "file_name = f'{DATA_DIR}/auctions/enriched-results/rdw-conf/rdw-conf-revoke-0-data-{auction_month}-{month_counter}.pkl'\n",
    "\n",
    "if NO_PRICE:\n",
    "    file_name = file_name.replace('.pkl', '-without-price.pkl')\n",
    "if OPBOD:\n",
    "    file_name = file_name.replace('.pkl', '-opbod.pkl')\n",
    "    \n",
    "if (SKIPSAVE==False) and (not(os.path.isfile(file_name))):\n",
    "    print(file_name)\n",
    "    out.to_pickle(file_name)\n",
    "else:\n",
    "    print(f'Skip. {file_name} exists or saving is disabled in settings.')"
   ]
  }
 ],
 "metadata": {
  "jupytext": {
   "formats": "ipynb,py:percent"
  },
  "kernelspec": {
   "display_name": "Python 3 (ipykernel)",
   "language": "python",
   "name": "python3"
  },
  "language_info": {
   "codemirror_mode": {
    "name": "ipython",
    "version": 3
   },
   "file_extension": ".py",
   "mimetype": "text/x-python",
   "name": "python",
   "nbconvert_exporter": "python",
   "pygments_lexer": "ipython3",
   "version": "3.10.12"
  },
  "toc-autonumbering": false,
  "toc-showcode": true,
  "toc-showmarkdowntxt": true
 },
 "nbformat": 4,
 "nbformat_minor": 4
}
