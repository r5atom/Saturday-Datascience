{
 "cells": [
  {
   "cell_type": "markdown",
   "metadata": {
    "slideshow": {
     "slide_type": ""
    },
    "tags": []
   },
   "source": [
    "<a id='rdw_top'>"
   ]
  },
  {
   "cell_type": "markdown",
   "metadata": {
    "tags": []
   },
   "source": [
    "# Add extra information from RDW open data\n",
    "\n",
    "Query to the open data dataset of the RDW.\n",
    "\n",
    "\n",
    "1. <a href=\"#rdw_registrations\">Registration numbers</a>  \n",
    "    Apis with license plates as key\n",
    "2. <a href=\"#rdw_confcodes\">Conformity codes</a>  \n",
    "    Cars get a conformity code when certified.\n",
    "3. <a href=\"#rdw_other_apis\">Other APIs</a>  \n",
    "    Query all conformity codes in belonging to data set.\n",
    "4. <a href=\"#rdw_ovi\">Website data</a>  \n",
    "    Get data from OVI RDW website. This takes a while because of time out enforced by website. Use config to disable.\n",
    "5. <a href=\"#rdw_merge\">Merge results</a>  \n",
    "    Combine all dataframes and save\n",
    "6. <a href=\"#rdw_save\">Save results</a>  \n",
    "- - - - "
   ]
  },
  {
   "cell_type": "markdown",
   "metadata": {
    "slideshow": {
     "slide_type": ""
    },
    "tags": []
   },
   "source": [
    "### User variables\n"
   ]
  },
  {
   "cell_type": "code",
   "execution_count": 1,
   "metadata": {
    "slideshow": {
     "slide_type": ""
    },
    "tags": []
   },
   "outputs": [],
   "source": [
    "import sys\n",
    "import re\n",
    "import json\n",
    "from IPython.display import display"
   ]
  },
  {
   "cell_type": "code",
   "execution_count": 2,
   "metadata": {
    "slideshow": {
     "slide_type": ""
    },
    "tags": []
   },
   "outputs": [],
   "source": [
    "with open('../assets/drz-settings-current.json', 'r') as fid:\n",
    "    cfg = json.load(fid)\n",
    "\n",
    "OPBOD = cfg['AUCTION']['kind'] == 'opbod'\n",
    "AUCTION_ID = cfg['AUCTION']['id']\n",
    "DATE = cfg['AUCTION']['date']\n",
    "DATA_DIR = cfg['FILE_LOCATION']['data_dir']\n",
    "auction_month = DATE[:4] + '-' + DATE[4:6]\n",
    "if cfg['AUCTION']['kind'] == 'inschrijving':\n",
    "    month_counter = re.sub('(-)(\\d{2})', '\\g<1>', AUCTION_ID)[5:8]\n",
    "elif cfg['AUCTION']['kind'] == 'opbod':\n",
    "    month_counter = re.sub('(-)(\\d{2})(\\d{2})', '-\\g<2>', AUCTION_ID)[5:8]\n",
    "\n",
    "sys.path.insert(0, cfg['FILE_LOCATION']['code_dir'])\n",
    "\n",
    "QUICK_MERGE = False\n",
    "SKIPSAVE = False\n",
    "OVIDATA = True\n",
    "VERBOSE = 1"
   ]
  },
  {
   "cell_type": "markdown",
   "metadata": {},
   "source": [
    "### Modules and functions"
   ]
  },
  {
   "cell_type": "code",
   "execution_count": 3,
   "metadata": {},
   "outputs": [
    {
     "name": "stdout",
     "output_type": "stream",
     "text": [
      "enjoy rdw_info\n"
     ]
    }
   ],
   "source": [
    "import pandas as pd\n",
    "import numpy as np\n",
    "import re \n",
    "import os\n",
    "# to keep api key hidden import this from sub dir\n",
    "import assets.hidden_api_keys as hidden_api_keys\n",
    "from rdw_info import *"
   ]
  },
  {
   "cell_type": "code",
   "execution_count": 4,
   "metadata": {
    "slideshow": {
     "slide_type": ""
    },
    "tags": []
   },
   "outputs": [],
   "source": [
    "main_api = 'm9d7-ebf2'\n",
    "keur_api = 'vkij-7mwc'\n",
    "apk_api = 'sgfe-77wx'\n",
    "gebr_api = 'hx2c-gt7k'\n",
    "toe_api = 'sghb-dzxx'\n",
    "\n",
    "conf_api = '55kv-xf7m'"
   ]
  },
  {
   "cell_type": "markdown",
   "metadata": {},
   "source": [
    "### Load auction results"
   ]
  },
  {
   "cell_type": "raw",
   "metadata": {},
   "source": [
    "OPBOD = False\n",
    "NO_PRICE = False\n",
    "auction_month = '2015-03'\n",
    "month_counter = ''\n",
    "file_name = f'../data/pdf-data-{auction_month}.pkl'\n"
   ]
  },
  {
   "cell_type": "code",
   "execution_count": null,
   "metadata": {
    "tags": [
     "nbconvert_instruction:remove_all_outputs"
    ]
   },
   "outputs": [],
   "source": [
    "file_name = f'{DATA_DIR}/auctions/results/drz-data-{auction_month}-{month_counter}.pkl'\n",
    "if OPBOD:\n",
    "    file_name = file_name.replace('.pkl', '-opbod.pkl')\n",
    "if not os.path.isfile(file_name):\n",
    "    # see if -without price- exists\n",
    "    NO_PRICE = True\n",
    "    if NO_PRICE:\n",
    "        file_name = file_name.replace('auctions/results', 'auctions/without-price')\n",
    "        file_name = file_name.replace('.pkl', '-without-price.pkl')\n",
    "    if OPBOD:\n",
    "        file_name = file_name.replace('-opbod-without-price.pkl', '-without-price-opbod.pkl')\n",
    "#     else:\n",
    "#         file_name = file_name.replace('.pkl', '-without-price.pkl')\n",
    "else:\n",
    "    NO_PRICE = False\n",
    "\n",
    "\n",
    "print(file_name)\n",
    "drz = pd.read_pickle(file_name)"
   ]
  },
  {
   "cell_type": "code",
   "execution_count": 6,
   "metadata": {
    "slideshow": {
     "slide_type": ""
    },
    "tags": []
   },
   "outputs": [],
   "source": [
    "if QUICK_MERGE:\n",
    "    raise NotImplementedError"
   ]
  },
  {
   "cell_type": "markdown",
   "metadata": {},
   "source": [
    "### Collect number plate registrations"
   ]
  },
  {
   "cell_type": "code",
   "execution_count": null,
   "metadata": {
    "lines_to_next_cell": 2,
    "tags": [
     "nbconvert_instruction:remove_all_outputs"
    ]
   },
   "outputs": [],
   "source": [
    "# see what lots have a Dutch registration (license number).\n",
    "hasReg = (~drz.Reg.isnull()) & (drz.Reg != 'onbekend') & (drz.Reg != '') & (~drz.LotType.isin([\n",
    "    'Vaartuig',\n",
    "    'Jetski',\n",
    "    'Sloep',\n",
    "    'Speedboot',\n",
    "    'Vaartuig (Type onbekend)',\n",
    "    'Motorvaartuig met opbouw (Pleziervaartuig)',\n",
    "]))\n",
    "\n",
    "print('nr. of registrations:',sum(hasReg))\n",
    "\n",
    "# adhoc fix\n",
    "idx = '2022-08-5012' # check in pictures. reg is wrong\n",
    "if idx in drz.index:\n",
    "    drz.loc[idx, 'Reg'] = 'LM-82-14'\n",
    "idx = '2022-29-5001' # check in pictures. reg is wrong\n",
    "if idx in drz.index:\n",
    "    drz.loc[idx, 'Reg'] = 'LM-82-14'\n",
    "idx = '2022-29-2008' # check in pictures. reg is wrong\n",
    "if idx in drz.index:\n",
    "    drz.loc[idx, 'Reg'] = 'KT-05-40'\n",
    "\n",
    "\n",
    "\n",
    "vc = drz.loc[hasReg, 'Reg'].str.upper().str.replace('-','').value_counts()\n",
    "if any(vc > 1):\n",
    "    display(vc[vc>1])\n",
    "    display(drz[drz.Reg.str.upper().str.replace('-','').isin(vc[vc>1].index)])\n",
    "    raise ValueError('Registration occurs in more than one lot.')\n",
    "# assert all(vc == 1), [, display(vc[vc>1])]\n",
    "\n",
    "# # make a copy and add info\n",
    "# rdw = drz.copy()"
   ]
  },
  {
   "cell_type": "markdown",
   "metadata": {},
   "source": [
    "<a href=\"#rdw_top\" id='rdw_registrations'><font size=+1><center>^^ TOP ^^</center></font></a>\n",
    "\n",
    "---"
   ]
  },
  {
   "cell_type": "markdown",
   "metadata": {
    "tags": []
   },
   "source": [
    "# Main api \n",
    "\n",
    "The main api: `api_gekentekende_voertuigen` points to subsequent apis."
   ]
  },
  {
   "cell_type": "code",
   "execution_count": null,
   "metadata": {
    "tags": [
     "nbconvert_instruction:remove_all_outputs"
    ]
   },
   "outputs": [],
   "source": [
    "# empty dictionary\n",
    "rdw_per_reg = dict()\n",
    "\n",
    "# first element of dict is registrations\n",
    "key = 'registrations'\n",
    "rdw_per_reg[key] = drz.loc[hasReg,['Reg', 'LotType']].copy() # copy from drz\n",
    "rdw_per_reg[key]['kenteken'] = rdw_per_reg[key].Reg.apply(lambda r: r.replace('-','').upper())\n",
    "rdw_per_reg[key].index.name = 'lot_index'\n",
    "rdw_per_reg[key] = rdw_per_reg[key].reset_index().set_index('kenteken')\n",
    "with pd.option_context('display.max_rows', 999):\n",
    "    display(rdw_per_reg[key].reset_index().set_index(['LotType', 'kenteken']).sort_index())\n",
    "\n",
    "print('\\n'.join(rdw_per_reg.keys()))"
   ]
  },
  {
   "cell_type": "code",
   "execution_count": null,
   "metadata": {
    "tags": [
     "nbconvert_instruction:remove_all_outputs"
    ]
   },
   "outputs": [],
   "source": [
    "# Assess these registrations\n",
    "regs = rdw_per_reg['registrations'].Reg.values\n",
    "\n",
    "# Main rdw api\n",
    "Info = RdwInfo(regs, main_api, hidden_api_keys.socrata_apptoken)\n",
    "Info.process_api()\n",
    "key = re.sub('\\s', '_', Info.metadata_['name'].lower())\n",
    "rdw_per_reg[key] = Info.get_df().copy()\n",
    "print(Info)"
   ]
  },
  {
   "cell_type": "markdown",
   "metadata": {},
   "source": [
    "Sub apis"
   ]
  },
  {
   "cell_type": "code",
   "execution_count": 10,
   "metadata": {
    "lines_to_next_cell": 2
   },
   "outputs": [
    {
     "name": "stderr",
     "output_type": "stream",
     "text": [
      "/home/tom/bin/satdatsci/Saturday-Datascience/code/rdw_info.py:133: FutureWarning: Setting an item of incompatible dtype is deprecated and will raise in a future error of pandas. Value '<IntegerArray>\n",
      "[ 196,  208,  244,  268,  160,  256,  244,  268,  520,  520, <NA>, <NA>, <NA>,\n",
      " <NA>, <NA>, <NA>]\n",
      "Length: 16, dtype: Int64' has dtype incompatible with float64, please explicitly cast to a compatible dtype first.\n",
      "  md.loc[:,fld] = md.loc[:,fld].astype(dtype)\n",
      "/home/tom/bin/satdatsci/Saturday-Datascience/code/rdw_info.py:153: FutureWarning: A value is trying to be set on a copy of a DataFrame or Series through chained assignment using an inplace method.\n",
      "The behavior will change in pandas 3.0. This inplace method will never work because the intermediate object on which we are setting values always behaves as a copy.\n",
      "\n",
      "For example, when doing 'df[col].method(value, inplace=True)', try using 'df.method({col: value}, inplace=True)' or df[col] = df[col].method(value) instead, to perform the operation inplace on the original object.\n",
      "\n",
      "\n",
      "  md.loc[:, ('field_content', 'factors')].update(md.loc[is_cat&is_str, ('field_content', 'top')].apply(lambda x: [i['item'] for i in x]))\n",
      "/home/tom/bin/satdatsci/Saturday-Datascience/code/rdw_info.py:153: FutureWarning: Setting an item of incompatible dtype is deprecated and will raise an error in a future version of pandas. Value '[list(['1', '2', '3', '4', '5', '6', '7', '8', '9', '10', '12', '11', '13', '14', '16', '15'])\n",
      " list(['2', '3', '1', '4', '5', '6', '9', '8', '7', '10', '16', '12'])\n",
      " list(['J', 'N', '1', '9', '8', '7', '2', '6', '5', '4', '3'])\n",
      " list(['N', '1', 'J', '2', 'n', '9', '8', '7', 'j', '3', 'A', '6', 'a', '4', '5', 'M', 'B', 'V'])\n",
      " list(['A', 'V', 'N', 'J', 'a', 'v', 'n', '0', 'Q', '4', '~'])\n",
      " list(['G', 'A', 'L', 'N'])]' has dtype incompatible with float64, please explicitly cast to a compatible dtype first.\n",
      "  md.loc[:, ('field_content', 'factors')].update(md.loc[is_cat&is_str, ('field_content', 'top')].apply(lambda x: [i['item'] for i in x]))\n",
      "/home/tom/bin/satdatsci/Saturday-Datascience/code/rdw_info.py:159: FutureWarning: A value is trying to be set on a copy of a DataFrame or Series through chained assignment using an inplace method.\n",
      "The behavior will change in pandas 3.0. This inplace method will never work because the intermediate object on which we are setting values always behaves as a copy.\n",
      "\n",
      "For example, when doing 'df[col].method(value, inplace=True)', try using 'df.method({col: value}, inplace=True)' or df[col] = df[col].method(value) instead, to perform the operation inplace on the original object.\n",
      "\n",
      "\n",
      "  md.loc[:, ('field_content', 'factors')].update(uniq_values[is_int].apply(lambda x: [int(v) for v in x]))\n",
      "/home/tom/bin/satdatsci/Saturday-Datascience/code/rdw_info.py:164: FutureWarning: A value is trying to be set on a copy of a DataFrame or Series through chained assignment using an inplace method.\n",
      "The behavior will change in pandas 3.0. This inplace method will never work because the intermediate object on which we are setting values always behaves as a copy.\n",
      "\n",
      "For example, when doing 'df[col].method(value, inplace=True)', try using 'df.method({col: value}, inplace=True)' or df[col] = df[col].method(value) instead, to perform the operation inplace on the original object.\n",
      "\n",
      "\n",
      "  md.loc[:, ('field_content', 'factors')].update(md.loc[is_cnt, ('field_content', 'factors')].apply(lambda x: range(min(x), max(x)+1)))\n"
     ]
    },
    {
     "name": "stdout",
     "output_type": "stream",
     "text": [
      "3huj-srit assen\n"
     ]
    },
    {
     "name": "stderr",
     "output_type": "stream",
     "text": [
      "/home/tom/bin/satdatsci/Saturday-Datascience/code/rdw_info.py:133: FutureWarning: Setting an item of incompatible dtype is deprecated and will raise in a future error of pandas. Value '<IntegerArray>\n",
      "[ 196,  340,  364,  388,  460,  364,  400,  340,  352,  388,  388,  520,  520,\n",
      "  400,  400,  340,  484,  244,  376, <NA>, <NA>, <NA>, <NA>, <NA>, <NA>, <NA>,\n",
      " <NA>, <NA>, <NA>, <NA>, <NA>, <NA>, <NA>, <NA>, <NA>, <NA>]\n",
      "Length: 36, dtype: Int64' has dtype incompatible with float64, please explicitly cast to a compatible dtype first.\n",
      "  md.loc[:,fld] = md.loc[:,fld].astype(dtype)\n"
     ]
    },
    {
     "name": "stdout",
     "output_type": "stream",
     "text": [
      "8ys7-d773 brandstof\n"
     ]
    },
    {
     "name": "stderr",
     "output_type": "stream",
     "text": [
      "/home/tom/bin/satdatsci/Saturday-Datascience/code/rdw_info.py:153: FutureWarning: A value is trying to be set on a copy of a DataFrame or Series through chained assignment using an inplace method.\n",
      "The behavior will change in pandas 3.0. This inplace method will never work because the intermediate object on which we are setting values always behaves as a copy.\n",
      "\n",
      "For example, when doing 'df[col].method(value, inplace=True)', try using 'df.method({col: value}, inplace=True)' or df[col] = df[col].method(value) instead, to perform the operation inplace on the original object.\n",
      "\n",
      "\n",
      "  md.loc[:, ('field_content', 'factors')].update(md.loc[is_cat&is_str, ('field_content', 'top')].apply(lambda x: [i['item'] for i in x]))\n",
      "/home/tom/bin/satdatsci/Saturday-Datascience/code/rdw_info.py:153: FutureWarning: Setting an item of incompatible dtype is deprecated and will raise an error in a future version of pandas. Value '[list(['1', '2', '3'])]' has dtype incompatible with float64, please explicitly cast to a compatible dtype first.\n",
      "  md.loc[:, ('field_content', 'factors')].update(md.loc[is_cat&is_str, ('field_content', 'top')].apply(lambda x: [i['item'] for i in x]))\n",
      "/home/tom/bin/satdatsci/Saturday-Datascience/code/rdw_info.py:159: FutureWarning: A value is trying to be set on a copy of a DataFrame or Series through chained assignment using an inplace method.\n",
      "The behavior will change in pandas 3.0. This inplace method will never work because the intermediate object on which we are setting values always behaves as a copy.\n",
      "\n",
      "For example, when doing 'df[col].method(value, inplace=True)', try using 'df.method({col: value}, inplace=True)' or df[col] = df[col].method(value) instead, to perform the operation inplace on the original object.\n",
      "\n",
      "\n",
      "  md.loc[:, ('field_content', 'factors')].update(uniq_values[is_int].apply(lambda x: [int(v) for v in x]))\n",
      "/home/tom/bin/satdatsci/Saturday-Datascience/code/rdw_info.py:164: FutureWarning: A value is trying to be set on a copy of a DataFrame or Series through chained assignment using an inplace method.\n",
      "The behavior will change in pandas 3.0. This inplace method will never work because the intermediate object on which we are setting values always behaves as a copy.\n",
      "\n",
      "For example, when doing 'df[col].method(value, inplace=True)', try using 'df.method({col: value}, inplace=True)' or df[col] = df[col].method(value) instead, to perform the operation inplace on the original object.\n",
      "\n",
      "\n",
      "  md.loc[:, ('field_content', 'factors')].update(md.loc[is_cnt, ('field_content', 'factors')].apply(lambda x: range(min(x), max(x)+1)))\n"
     ]
    },
    {
     "name": "stdout",
     "output_type": "stream",
     "text": [
      "vezc-m2t6 carrosserie\n",
      "jhie-znh9 carrosserie_specificatie\n",
      "kmfi-hrps voertuigklasse\n",
      "3xwf-ince rupsbanden\n",
      "2ba7-embk subcategorie_voertuig\n"
     ]
    },
    {
     "name": "stderr",
     "output_type": "stream",
     "text": [
      "/home/tom/bin/satdatsci/Saturday-Datascience/code/rdw_info.py:153: FutureWarning: A value is trying to be set on a copy of a DataFrame or Series through chained assignment using an inplace method.\n",
      "The behavior will change in pandas 3.0. This inplace method will never work because the intermediate object on which we are setting values always behaves as a copy.\n",
      "\n",
      "For example, when doing 'df[col].method(value, inplace=True)', try using 'df.method({col: value}, inplace=True)' or df[col] = df[col].method(value) instead, to perform the operation inplace on the original object.\n",
      "\n",
      "\n",
      "  md.loc[:, ('field_content', 'factors')].update(md.loc[is_cat&is_str, ('field_content', 'top')].apply(lambda x: [i['item'] for i in x]))\n",
      "/home/tom/bin/satdatsci/Saturday-Datascience/code/rdw_info.py:159: FutureWarning: A value is trying to be set on a copy of a DataFrame or Series through chained assignment using an inplace method.\n",
      "The behavior will change in pandas 3.0. This inplace method will never work because the intermediate object on which we are setting values always behaves as a copy.\n",
      "\n",
      "For example, when doing 'df[col].method(value, inplace=True)', try using 'df.method({col: value}, inplace=True)' or df[col] = df[col].method(value) instead, to perform the operation inplace on the original object.\n",
      "\n",
      "\n",
      "  md.loc[:, ('field_content', 'factors')].update(uniq_values[is_int].apply(lambda x: [int(v) for v in x]))\n",
      "/home/tom/bin/satdatsci/Saturday-Datascience/code/rdw_info.py:163: FutureWarning: Operation between non boolean Series with different indexes will no longer return a boolean result in a future version. Cast both Series to object type to maintain the prior behavior.\n",
      "  is_cnt &= md.loc[is_int, ('field_content', 'factors')].apply(lambda x: max(x) == (min(x) + len(x)-1))\n",
      "/home/tom/bin/satdatsci/Saturday-Datascience/code/rdw_info.py:164: FutureWarning: A value is trying to be set on a copy of a DataFrame or Series through chained assignment using an inplace method.\n",
      "The behavior will change in pandas 3.0. This inplace method will never work because the intermediate object on which we are setting values always behaves as a copy.\n",
      "\n",
      "For example, when doing 'df[col].method(value, inplace=True)', try using 'df.method({col: value}, inplace=True)' or df[col] = df[col].method(value) instead, to perform the operation inplace on the original object.\n",
      "\n",
      "\n",
      "  md.loc[:, ('field_content', 'factors')].update(md.loc[is_cnt, ('field_content', 'factors')].apply(lambda x: range(min(x), max(x)+1)))\n"
     ]
    },
    {
     "name": "stdout",
     "output_type": "stream",
     "text": [
      "7ug8-2dtt bijzonderheden\n"
     ]
    },
    {
     "name": "stderr",
     "output_type": "stream",
     "text": [
      "/home/tom/bin/satdatsci/Saturday-Datascience/code/rdw_info.py:153: FutureWarning: A value is trying to be set on a copy of a DataFrame or Series through chained assignment using an inplace method.\n",
      "The behavior will change in pandas 3.0. This inplace method will never work because the intermediate object on which we are setting values always behaves as a copy.\n",
      "\n",
      "For example, when doing 'df[col].method(value, inplace=True)', try using 'df.method({col: value}, inplace=True)' or df[col] = df[col].method(value) instead, to perform the operation inplace on the original object.\n",
      "\n",
      "\n",
      "  md.loc[:, ('field_content', 'factors')].update(md.loc[is_cat&is_str, ('field_content', 'top')].apply(lambda x: [i['item'] for i in x]))\n",
      "/home/tom/bin/satdatsci/Saturday-Datascience/code/rdw_info.py:153: FutureWarning: Setting an item of incompatible dtype is deprecated and will raise an error in a future version of pandas. Value '[list(['P', 'O'])\n",
      " list(['Producent heeft herstel gemeld', 'Openstaande terugroepactie'])]' has dtype incompatible with float64, please explicitly cast to a compatible dtype first.\n",
      "  md.loc[:, ('field_content', 'factors')].update(md.loc[is_cat&is_str, ('field_content', 'top')].apply(lambda x: [i['item'] for i in x]))\n",
      "/home/tom/bin/satdatsci/Saturday-Datascience/code/rdw_info.py:159: FutureWarning: A value is trying to be set on a copy of a DataFrame or Series through chained assignment using an inplace method.\n",
      "The behavior will change in pandas 3.0. This inplace method will never work because the intermediate object on which we are setting values always behaves as a copy.\n",
      "\n",
      "For example, when doing 'df[col].method(value, inplace=True)', try using 'df.method({col: value}, inplace=True)' or df[col] = df[col].method(value) instead, to perform the operation inplace on the original object.\n",
      "\n",
      "\n",
      "  md.loc[:, ('field_content', 'factors')].update(uniq_values[is_int].apply(lambda x: [int(v) for v in x]))\n",
      "/home/tom/bin/satdatsci/Saturday-Datascience/code/rdw_info.py:164: FutureWarning: A value is trying to be set on a copy of a DataFrame or Series through chained assignment using an inplace method.\n",
      "The behavior will change in pandas 3.0. This inplace method will never work because the intermediate object on which we are setting values always behaves as a copy.\n",
      "\n",
      "For example, when doing 'df[col].method(value, inplace=True)', try using 'df.method({col: value}, inplace=True)' or df[col] = df[col].method(value) instead, to perform the operation inplace on the original object.\n",
      "\n",
      "\n",
      "  md.loc[:, ('field_content', 'factors')].update(md.loc[is_cnt, ('field_content', 'factors')].apply(lambda x: range(min(x), max(x)+1)))\n"
     ]
    },
    {
     "name": "stdout",
     "output_type": "stream",
     "text": [
      "t49b-isb7 terugroep_actie_status\n"
     ]
    },
    {
     "name": "stderr",
     "output_type": "stream",
     "text": [
      "/home/tom/bin/satdatsci/Saturday-Datascience/code/rdw_info.py:133: FutureWarning: Setting an item of incompatible dtype is deprecated and will raise in a future error of pandas. Value '<IntegerArray>\n",
      "[196, 328, <NA>]\n",
      "Length: 3, dtype: Int64' has dtype incompatible with float64, please explicitly cast to a compatible dtype first.\n",
      "  md.loc[:,fld] = md.loc[:,fld].astype(dtype)\n",
      "/home/tom/bin/satdatsci/Saturday-Datascience/code/rdw_info.py:153: FutureWarning: A value is trying to be set on a copy of a DataFrame or Series through chained assignment using an inplace method.\n",
      "The behavior will change in pandas 3.0. This inplace method will never work because the intermediate object on which we are setting values always behaves as a copy.\n",
      "\n",
      "For example, when doing 'df[col].method(value, inplace=True)', try using 'df.method({col: value}, inplace=True)' or df[col] = df[col].method(value) instead, to perform the operation inplace on the original object.\n",
      "\n",
      "\n",
      "  md.loc[:, ('field_content', 'factors')].update(md.loc[is_cat&is_str, ('field_content', 'top')].apply(lambda x: [i['item'] for i in x]))\n",
      "/home/tom/bin/satdatsci/Saturday-Datascience/code/rdw_info.py:159: FutureWarning: A value is trying to be set on a copy of a DataFrame or Series through chained assignment using an inplace method.\n",
      "The behavior will change in pandas 3.0. This inplace method will never work because the intermediate object on which we are setting values always behaves as a copy.\n",
      "\n",
      "For example, when doing 'df[col].method(value, inplace=True)', try using 'df.method({col: value}, inplace=True)' or df[col] = df[col].method(value) instead, to perform the operation inplace on the original object.\n",
      "\n",
      "\n",
      "  md.loc[:, ('field_content', 'factors')].update(uniq_values[is_int].apply(lambda x: [int(v) for v in x]))\n",
      "/home/tom/bin/satdatsci/Saturday-Datascience/code/rdw_info.py:163: FutureWarning: Operation between non boolean Series with different indexes will no longer return a boolean result in a future version. Cast both Series to object type to maintain the prior behavior.\n",
      "  is_cnt &= md.loc[is_int, ('field_content', 'factors')].apply(lambda x: max(x) == (min(x) + len(x)-1))\n",
      "/home/tom/bin/satdatsci/Saturday-Datascience/code/rdw_info.py:164: FutureWarning: A value is trying to be set on a copy of a DataFrame or Series through chained assignment using an inplace method.\n",
      "The behavior will change in pandas 3.0. This inplace method will never work because the intermediate object on which we are setting values always behaves as a copy.\n",
      "\n",
      "For example, when doing 'df[col].method(value, inplace=True)', try using 'df.method({col: value}, inplace=True)' or df[col] = df[col].method(value) instead, to perform the operation inplace on the original object.\n",
      "\n",
      "\n",
      "  md.loc[:, ('field_content', 'factors')].update(md.loc[is_cnt, ('field_content', 'factors')].apply(lambda x: range(min(x), max(x)+1)))\n"
     ]
    },
    {
     "name": "stdout",
     "output_type": "stream",
     "text": [
      "vkij-7mwc keuringen\n"
     ]
    },
    {
     "name": "stderr",
     "output_type": "stream",
     "text": [
      "/home/tom/bin/satdatsci/Saturday-Datascience/code/rdw_info.py:133: FutureWarning: Setting an item of incompatible dtype is deprecated and will raise in a future error of pandas. Value '<IntegerArray>\n",
      "[140, 116, 193, 176, 222, 174, 328, <NA>, <NA>, 100, 100]\n",
      "Length: 11, dtype: Int64' has dtype incompatible with float64, please explicitly cast to a compatible dtype first.\n",
      "  md.loc[:,fld] = md.loc[:,fld].astype(dtype)\n",
      "/home/tom/bin/satdatsci/Saturday-Datascience/code/rdw_info.py:153: FutureWarning: A value is trying to be set on a copy of a DataFrame or Series through chained assignment using an inplace method.\n",
      "The behavior will change in pandas 3.0. This inplace method will never work because the intermediate object on which we are setting values always behaves as a copy.\n",
      "\n",
      "For example, when doing 'df[col].method(value, inplace=True)', try using 'df.method({col: value}, inplace=True)' or df[col] = df[col].method(value) instead, to perform the operation inplace on the original object.\n",
      "\n",
      "\n",
      "  md.loc[:, ('field_content', 'factors')].update(md.loc[is_cat&is_str, ('field_content', 'top')].apply(lambda x: [i['item'] for i in x]))\n",
      "/home/tom/bin/satdatsci/Saturday-Datascience/code/rdw_info.py:153: FutureWarning: Setting an item of incompatible dtype is deprecated and will raise an error in a future version of pandas. Value '[list(['AL', 'AZ', 'TA', 'LP', 'AT'])\n",
      " list(['APK Lichte voertuigen', 'APK Zware voertuigen', 'Controleapparaten', 'Gasinstallaties', 'APK-Landbouw'])\n",
      " list(['periodieke controle', 'inbouw', 'manipulatie tacho', 'zegelverbreking tacho', 'uitbouw'])]' has dtype incompatible with float64, please explicitly cast to a compatible dtype first.\n",
      "  md.loc[:, ('field_content', 'factors')].update(md.loc[is_cat&is_str, ('field_content', 'top')].apply(lambda x: [i['item'] for i in x]))\n",
      "/home/tom/bin/satdatsci/Saturday-Datascience/code/rdw_info.py:159: FutureWarning: A value is trying to be set on a copy of a DataFrame or Series through chained assignment using an inplace method.\n",
      "The behavior will change in pandas 3.0. This inplace method will never work because the intermediate object on which we are setting values always behaves as a copy.\n",
      "\n",
      "For example, when doing 'df[col].method(value, inplace=True)', try using 'df.method({col: value}, inplace=True)' or df[col] = df[col].method(value) instead, to perform the operation inplace on the original object.\n",
      "\n",
      "\n",
      "  md.loc[:, ('field_content', 'factors')].update(uniq_values[is_int].apply(lambda x: [int(v) for v in x]))\n",
      "/home/tom/bin/satdatsci/Saturday-Datascience/code/rdw_info.py:164: FutureWarning: A value is trying to be set on a copy of a DataFrame or Series through chained assignment using an inplace method.\n",
      "The behavior will change in pandas 3.0. This inplace method will never work because the intermediate object on which we are setting values always behaves as a copy.\n",
      "\n",
      "For example, when doing 'df[col].method(value, inplace=True)', try using 'df.method({col: value}, inplace=True)' or df[col] = df[col].method(value) instead, to perform the operation inplace on the original object.\n",
      "\n",
      "\n",
      "  md.loc[:, ('field_content', 'factors')].update(md.loc[is_cnt, ('field_content', 'factors')].apply(lambda x: range(min(x), max(x)+1)))\n"
     ]
    },
    {
     "name": "stdout",
     "output_type": "stream",
     "text": [
      "sgfe-77wx meldingen_keuringsinstantie\n"
     ]
    },
    {
     "name": "stderr",
     "output_type": "stream",
     "text": [
      "/home/tom/bin/satdatsci/Saturday-Datascience/code/rdw_info.py:133: FutureWarning: Setting an item of incompatible dtype is deprecated and will raise in a future error of pandas. Value '<IntegerArray>\n",
      "[121, 123, 155, 228, 143, 208, 154, 168, 174, <NA>, <NA>]\n",
      "Length: 11, dtype: Int64' has dtype incompatible with float64, please explicitly cast to a compatible dtype first.\n",
      "  md.loc[:,fld] = md.loc[:,fld].astype(dtype)\n"
     ]
    },
    {
     "name": "stdout",
     "output_type": "stream",
     "text": [
      "sghb-dzxx toegevoegde_objecten\n"
     ]
    },
    {
     "name": "stderr",
     "output_type": "stream",
     "text": [
      "/home/tom/bin/satdatsci/Saturday-Datascience/code/rdw_info.py:133: FutureWarning: Setting an item of incompatible dtype is deprecated and will raise in a future error of pandas. Value '<IntegerArray>\n",
      "[196, 163, 199, 175, 197, 207, 186, <NA>]\n",
      "Length: 8, dtype: Int64' has dtype incompatible with float64, please explicitly cast to a compatible dtype first.\n",
      "  md.loc[:,fld] = md.loc[:,fld].astype(dtype)\n",
      "/home/tom/bin/satdatsci/Saturday-Datascience/code/rdw_info.py:153: FutureWarning: A value is trying to be set on a copy of a DataFrame or Series through chained assignment using an inplace method.\n",
      "The behavior will change in pandas 3.0. This inplace method will never work because the intermediate object on which we are setting values always behaves as a copy.\n",
      "\n",
      "For example, when doing 'df[col].method(value, inplace=True)', try using 'df.method({col: value}, inplace=True)' or df[col] = df[col].method(value) instead, to perform the operation inplace on the original object.\n",
      "\n",
      "\n",
      "  md.loc[:, ('field_content', 'factors')].update(md.loc[is_cat&is_str, ('field_content', 'top')].apply(lambda x: [i['item'] for i in x]))\n",
      "/home/tom/bin/satdatsci/Saturday-Datascience/code/rdw_info.py:153: FutureWarning: Setting an item of incompatible dtype is deprecated and will raise an error in a future version of pandas. Value '[list(['AL', 'AZ', 'TA', 'AT', 'LP'])\n",
      " list(['APK Lichte voertuigen', 'APK Zware voertuigen', 'Controleapparaten', 'APK-Landbouw', 'Gasinstallaties'])]' has dtype incompatible with float64, please explicitly cast to a compatible dtype first.\n",
      "  md.loc[:, ('field_content', 'factors')].update(md.loc[is_cat&is_str, ('field_content', 'top')].apply(lambda x: [i['item'] for i in x]))\n",
      "/home/tom/bin/satdatsci/Saturday-Datascience/code/rdw_info.py:159: FutureWarning: A value is trying to be set on a copy of a DataFrame or Series through chained assignment using an inplace method.\n",
      "The behavior will change in pandas 3.0. This inplace method will never work because the intermediate object on which we are setting values always behaves as a copy.\n",
      "\n",
      "For example, when doing 'df[col].method(value, inplace=True)', try using 'df.method({col: value}, inplace=True)' or df[col] = df[col].method(value) instead, to perform the operation inplace on the original object.\n",
      "\n",
      "\n",
      "  md.loc[:, ('field_content', 'factors')].update(uniq_values[is_int].apply(lambda x: [int(v) for v in x]))\n",
      "/home/tom/bin/satdatsci/Saturday-Datascience/code/rdw_info.py:164: FutureWarning: A value is trying to be set on a copy of a DataFrame or Series through chained assignment using an inplace method.\n",
      "The behavior will change in pandas 3.0. This inplace method will never work because the intermediate object on which we are setting values always behaves as a copy.\n",
      "\n",
      "For example, when doing 'df[col].method(value, inplace=True)', try using 'df.method({col: value}, inplace=True)' or df[col] = df[col].method(value) instead, to perform the operation inplace on the original object.\n",
      "\n",
      "\n",
      "  md.loc[:, ('field_content', 'factors')].update(md.loc[is_cnt, ('field_content', 'factors')].apply(lambda x: range(min(x), max(x)+1)))\n"
     ]
    },
    {
     "name": "stdout",
     "output_type": "stream",
     "text": [
      "a34c-vvps geconstateerde_gebreken\n"
     ]
    },
    {
     "name": "stderr",
     "output_type": "stream",
     "text": [
      "/home/tom/bin/satdatsci/Saturday-Datascience/code/rdw_info.py:133: FutureWarning: Setting an item of incompatible dtype is deprecated and will raise in a future error of pandas. Value '<IntegerArray>\n",
      "[340, 328, 292, 376, 352, 328, <NA>, <NA>]\n",
      "Length: 8, dtype: Int64' has dtype incompatible with float64, please explicitly cast to a compatible dtype first.\n",
      "  md.loc[:,fld] = md.loc[:,fld].astype(dtype)\n",
      "/home/tom/bin/satdatsci/Saturday-Datascience/code/rdw_info.py:153: FutureWarning: A value is trying to be set on a copy of a DataFrame or Series through chained assignment using an inplace method.\n",
      "The behavior will change in pandas 3.0. This inplace method will never work because the intermediate object on which we are setting values always behaves as a copy.\n",
      "\n",
      "For example, when doing 'df[col].method(value, inplace=True)', try using 'df.method({col: value}, inplace=True)' or df[col] = df[col].method(value) instead, to perform the operation inplace on the original object.\n",
      "\n",
      "\n",
      "  md.loc[:, ('field_content', 'factors')].update(md.loc[is_cat&is_str, ('field_content', 'top')].apply(lambda x: [i['item'] for i in x]))\n",
      "/home/tom/bin/satdatsci/Saturday-Datascience/code/rdw_info.py:159: FutureWarning: A value is trying to be set on a copy of a DataFrame or Series through chained assignment using an inplace method.\n",
      "The behavior will change in pandas 3.0. This inplace method will never work because the intermediate object on which we are setting values always behaves as a copy.\n",
      "\n",
      "For example, when doing 'df[col].method(value, inplace=True)', try using 'df.method({col: value}, inplace=True)' or df[col] = df[col].method(value) instead, to perform the operation inplace on the original object.\n",
      "\n",
      "\n",
      "  md.loc[:, ('field_content', 'factors')].update(uniq_values[is_int].apply(lambda x: [int(v) for v in x]))\n",
      "/home/tom/bin/satdatsci/Saturday-Datascience/code/rdw_info.py:159: FutureWarning: Setting an item of incompatible dtype is deprecated and will raise an error in a future version of pandas. Value '[list([20170402, 20180520, 20180519, 20220101, 20180901, 20210101, 20160103, 20230520, 20190615, 20220310])\n",
      " list([8, 9, 7, 3, 5, 10, 6, 1, 11, 4, 14, 0, 13, 12])]' has dtype incompatible with float64, please explicitly cast to a compatible dtype first.\n",
      "  md.loc[:, ('field_content', 'factors')].update(uniq_values[is_int].apply(lambda x: [int(v) for v in x]))\n",
      "/home/tom/bin/satdatsci/Saturday-Datascience/code/rdw_info.py:164: FutureWarning: A value is trying to be set on a copy of a DataFrame or Series through chained assignment using an inplace method.\n",
      "The behavior will change in pandas 3.0. This inplace method will never work because the intermediate object on which we are setting values always behaves as a copy.\n",
      "\n",
      "For example, when doing 'df[col].method(value, inplace=True)', try using 'df.method({col: value}, inplace=True)' or df[col] = df[col].method(value) instead, to perform the operation inplace on the original object.\n",
      "\n",
      "\n",
      "  md.loc[:, ('field_content', 'factors')].update(md.loc[is_cnt, ('field_content', 'factors')].apply(lambda x: range(min(x), max(x)+1)))\n"
     ]
    },
    {
     "name": "stdout",
     "output_type": "stream",
     "text": [
      "hx2c-gt7k gebreken\n"
     ]
    }
   ],
   "source": [
    "# Get sub apis from main api\n",
    "from_key = 'gekentekende_voertuigen'\n",
    "sub_apis,_,_ = get_sub_apis(rdw_per_reg[from_key])\n",
    "# add extra apis\n",
    "sub_apis += ['3xwf-ince', '2ba7-embk', '7ug8-2dtt', 't49b-isb7', keur_api, apk_api, toe_api] #,'a34c-vvps', # some extra apis with registrations\n",
    "for api_name in sub_apis:\n",
    "    Info.set_api_name(api_name)\n",
    "    Info.process_api()\n",
    "    key = re.sub('\\s', '_', Info.metadata_['name'].lower())\n",
    "    key = re.sub(f'^{from_key}_', '', key)\n",
    "    rdw_per_reg[key] = Info.get_df().copy()\n",
    "    print(api_name, key)\n",
    "\n",
    "# Get apis from apk api\n",
    "from_key = 'meldingen_keuringsinstantie'\n",
    "sub_apis,_,_ = get_sub_apis(rdw_per_reg[from_key])\n",
    "for api_name in set(sub_apis):\n",
    "    Info.set_api_name(api_name)\n",
    "    Info.process_api()\n",
    "    key = re.sub('\\s', '_', Info.metadata_['name'].lower())\n",
    "    key = re.sub(f'^{from_key}_', '', key)\n",
    "    rdw_per_reg[key] = Info.get_df().copy()\n",
    "    print(api_name, key)"
   ]
  },
  {
   "cell_type": "markdown",
   "metadata": {},
   "source": [
    "add info from reference tables"
   ]
  },
  {
   "cell_type": "code",
   "execution_count": 11,
   "metadata": {},
   "outputs": [],
   "source": [
    "# Use reference table to add info\n",
    "df_left = rdw_per_reg['geconstateerde_gebreken'].copy()\n",
    "df_right = rdw_per_reg['gebreken'].copy()\n",
    "on_column = 'gebrek_identificatie'\n",
    "\n",
    "for left_column, left in df_left.loc[:, df_left.columns.str.startswith(on_column)].items():\n",
    "    suffix = re.sub(on_column, '', left_column)\n",
    "    df_merge = pd.merge(\n",
    "        left=left.reset_index(),\n",
    "        right=df_right,\n",
    "        how='left',\n",
    "        left_on=left_column,\n",
    "        right_on=on_column,\n",
    "    ).set_index('kenteken')\n",
    "    df_merge = df_merge.drop(columns=[left_column, on_column, 'TimeStamp']).add_suffix(suffix)\n",
    "    df_left = df_left.merge(df_merge, left_index=True, right_index=True)\n",
    "\n",
    "# add extra table\n",
    "rdw_per_reg['geconstateerde_gebreken_met_beschrijving'] = df_left\n",
    "# clean up: \n",
    "#    remove reference table\n",
    "del rdw_per_reg['gebreken']\n",
    "#    remove table without description\n",
    "del rdw_per_reg['geconstateerde_gebreken']"
   ]
  },
  {
   "cell_type": "code",
   "execution_count": null,
   "metadata": {
    "tags": [
     "nbconvert_instruction:remove_all_outputs"
    ]
   },
   "outputs": [],
   "source": [
    "out = pd.concat(rdw_per_reg, axis=1)\n",
    "display(out.loc[:, (slice(None), 'TimeStamp')].bfill(axis=0).iloc[-1,:].to_frame())"
   ]
  },
  {
   "cell_type": "code",
   "execution_count": null,
   "metadata": {
    "lines_to_next_cell": 2,
    "tags": [
     "nbconvert_instruction:remove_all_outputs"
    ]
   },
   "outputs": [],
   "source": [
    "# Save\n",
    "file_name = f'{DATA_DIR}/auctions/enriched-results/rdw-reg/rdw-reg-full-0-data-{auction_month}-{month_counter}.pkl'\n",
    "\n",
    "if NO_PRICE:\n",
    "    file_name = file_name.replace('.pkl', '-without-price.pkl')\n",
    "if OPBOD:\n",
    "    file_name = file_name.replace('.pkl', '-opbod.pkl')\n",
    "    \n",
    "if (SKIPSAVE==False) and (not(os.path.isfile(file_name))):\n",
    "    print(file_name)\n",
    "    out.to_pickle(file_name)\n",
    "else:\n",
    "    print(f'Skip. {file_name} exists or saving is disabled in settings.')"
   ]
  },
  {
   "cell_type": "markdown",
   "metadata": {},
   "source": [
    "<a href=\"#rdw_top\" id='rdw_confcodes'><font size=+1><center>^^ TOP ^^</center></font></a>\n",
    "\n",
    "---"
   ]
  },
  {
   "cell_type": "markdown",
   "metadata": {},
   "source": [
    "# Conformity codes"
   ]
  },
  {
   "cell_type": "code",
   "execution_count": null,
   "metadata": {
    "lines_to_next_cell": 2,
    "tags": [
     "nbconvert_instruction:remove_all_outputs"
    ]
   },
   "outputs": [],
   "source": [
    "# empty dict\n",
    "rdw_per_confcode = dict()\n",
    "# Conformity codes consists of four fields that make a composite key\n",
    "conf = rdw_per_reg['gekentekende_voertuigen'][[\n",
    "    'typegoedkeuringsnummer', \n",
    "    'uitvoering', \n",
    "    'variant', \n",
    "    'volgnummer_wijziging_eu_typegoedkeuring'\n",
    "]].copy()\n",
    "conf.dropna(inplace=True)\n",
    "\n",
    "# Add shorter key \"eu_type_goedkeuringssleutel\"\n",
    "conf = conf.merge(\n",
    "    how='left', \n",
    "    right=long_to_short_conf(conf.typegoedkeuringsnummer).drop_duplicates(), \n",
    "    left_on='typegoedkeuringsnummer', right_index=True\n",
    ")\n",
    "\n",
    "# rename fields\n",
    "conf.volgnummer_wijziging_eu_typegoedkeuring = conf.volgnummer_wijziging_eu_typegoedkeuring.astype('Int8').astype(str)\n",
    "conf.rename(columns={\n",
    "    'uitvoering': 'eeg_uitvoeringscode',\n",
    "    'variant': 'eeg_variantcode',\n",
    "    'volgnummer_wijziging_eu_typegoedkeuring': 'uitvoering_wijzigingsnummer',\n",
    "}, inplace=True)\n",
    "# drop nan\n",
    "conf = conf.query('typegoedkeuringsnummer != \"nan\"')\n",
    "\n",
    "# duplicates\n",
    "display(\n",
    "    conf.loc[:, conf.columns]\\\n",
    "    .reset_index()\\\n",
    "    .groupby('eu_type_goedkeuringssleutel')\\\n",
    "    .nunique()\\\n",
    "    .replace(1,np.NaN)\\\n",
    "    .dropna(how='all')\\\n",
    "    .fillna(1)\\\n",
    "    .astype(int)\\\n",
    "    .sort_values(by='kenteken', ascending=False)\n",
    ")\n",
    "\n",
    "key = 'conformity_codes'\n",
    "rdw_per_confcode[key] = conf.reset_index().set_index(['eu_type_goedkeuringssleutel', 'eeg_variantcode', 'eeg_uitvoeringscode', 'uitvoering_wijzigingsnummer']).copy()"
   ]
  },
  {
   "cell_type": "code",
   "execution_count": 15,
   "metadata": {},
   "outputs": [],
   "source": [
    "short_confs = rdw_per_confcode['conformity_codes'].reset_index()\\\n",
    ".set_index('typegoedkeuringsnummer').eu_type_goedkeuringssleutel\n",
    "full_confs = rdw_per_confcode['conformity_codes'].reset_index()\\\n",
    ".set_index('typegoedkeuringsnummer').loc[:, ['eu_type_goedkeuringssleutel', 'eeg_variantcode', 'eeg_uitvoeringscode', 'uitvoering_wijzigingsnummer']]"
   ]
  },
  {
   "cell_type": "code",
   "execution_count": 16,
   "metadata": {},
   "outputs": [
    {
     "name": "stderr",
     "output_type": "stream",
     "text": [
      "/home/tom/bin/satdatsci/Saturday-Datascience/code/rdw_info.py:133: FutureWarning: Setting an item of incompatible dtype is deprecated and will raise in a future error of pandas. Value '<IntegerArray>\n",
      "[ 424,  436,  460,  436,  508,  400,  616,  520,  316,  208,  544,  472,  544,\n",
      "  508,  268,  364,  424,  424, <NA>, <NA>, <NA>, <NA>, <NA>, <NA>,  484,  460,\n",
      "  496,  100,  604,  460,  460,  340,  460,  472,  100,  100,  460]\n",
      "Length: 37, dtype: Int64' has dtype incompatible with float64, please explicitly cast to a compatible dtype first.\n",
      "  md.loc[:,fld] = md.loc[:,fld].astype(dtype)\n",
      "/home/tom/bin/satdatsci/Saturday-Datascience/code/rdw_info.py:153: FutureWarning: A value is trying to be set on a copy of a DataFrame or Series through chained assignment using an inplace method.\n",
      "The behavior will change in pandas 3.0. This inplace method will never work because the intermediate object on which we are setting values always behaves as a copy.\n",
      "\n",
      "For example, when doing 'df[col].method(value, inplace=True)', try using 'df.method({col: value}, inplace=True)' or df[col] = df[col].method(value) instead, to perform the operation inplace on the original object.\n",
      "\n",
      "\n",
      "  md.loc[:, ('field_content', 'factors')].update(md.loc[is_cat&is_str, ('field_content', 'top')].apply(lambda x: [i['item'] for i in x]))\n",
      "/home/tom/bin/satdatsci/Saturday-Datascience/code/rdw_info.py:153: FutureWarning: Setting an item of incompatible dtype is deprecated and will raise an error in a future version of pandas. Value '[list(['AT', 'BT'])]' has dtype incompatible with float64, please explicitly cast to a compatible dtype first.\n",
      "  md.loc[:, ('field_content', 'factors')].update(md.loc[is_cat&is_str, ('field_content', 'top')].apply(lambda x: [i['item'] for i in x]))\n",
      "/home/tom/bin/satdatsci/Saturday-Datascience/code/rdw_info.py:159: FutureWarning: A value is trying to be set on a copy of a DataFrame or Series through chained assignment using an inplace method.\n",
      "The behavior will change in pandas 3.0. This inplace method will never work because the intermediate object on which we are setting values always behaves as a copy.\n",
      "\n",
      "For example, when doing 'df[col].method(value, inplace=True)', try using 'df.method({col: value}, inplace=True)' or df[col] = df[col].method(value) instead, to perform the operation inplace on the original object.\n",
      "\n",
      "\n",
      "  md.loc[:, ('field_content', 'factors')].update(uniq_values[is_int].apply(lambda x: [int(v) for v in x]))\n",
      "/home/tom/bin/satdatsci/Saturday-Datascience/code/rdw_info.py:164: FutureWarning: A value is trying to be set on a copy of a DataFrame or Series through chained assignment using an inplace method.\n",
      "The behavior will change in pandas 3.0. This inplace method will never work because the intermediate object on which we are setting values always behaves as a copy.\n",
      "\n",
      "For example, when doing 'df[col].method(value, inplace=True)', try using 'df.method({col: value}, inplace=True)' or df[col] = df[col].method(value) instead, to perform the operation inplace on the original object.\n",
      "\n",
      "\n",
      "  md.loc[:, ('field_content', 'factors')].update(md.loc[is_cnt, ('field_content', 'factors')].apply(lambda x: range(min(x), max(x)+1)))\n"
     ]
    },
    {
     "name": "stdout",
     "output_type": "stream",
     "text": [
      "eeg_voertuigtypegoedkeuring\n"
     ]
    }
   ],
   "source": [
    "# Main conformity code api\n",
    "Info = RdwInfo(short_confs, conf_api, hidden_api_keys.socrata_apptoken)\n",
    "Info.process_api()\n",
    "key = re.sub('\\s', '_', Info.metadata_['name'].lower())\n",
    "key = re.sub(f'^{from_key}_', '', key)\n",
    "rdw_per_confcode[key] = Info.get_df().copy()\n",
    "print(key)"
   ]
  },
  {
   "cell_type": "code",
   "execution_count": 17,
   "metadata": {
    "lines_to_next_cell": 2
   },
   "outputs": [
    {
     "name": "stderr",
     "output_type": "stream",
     "text": [
      "/home/tom/bin/satdatsci/Saturday-Datascience/code/rdw_info.py:153: FutureWarning: A value is trying to be set on a copy of a DataFrame or Series through chained assignment using an inplace method.\n",
      "The behavior will change in pandas 3.0. This inplace method will never work because the intermediate object on which we are setting values always behaves as a copy.\n",
      "\n",
      "For example, when doing 'df[col].method(value, inplace=True)', try using 'df.method({col: value}, inplace=True)' or df[col] = df[col].method(value) instead, to perform the operation inplace on the original object.\n",
      "\n",
      "\n",
      "  md.loc[:, ('field_content', 'factors')].update(md.loc[is_cat&is_str, ('field_content', 'top')].apply(lambda x: [i['item'] for i in x]))\n",
      "/home/tom/bin/satdatsci/Saturday-Datascience/code/rdw_info.py:153: FutureWarning: Setting an item of incompatible dtype is deprecated and will raise an error in a future version of pandas. Value '[list(['1', '2', '3', '4', '5', '6', '7', '8', '11', '9', '10', '12'])\n",
      " list(['N', 'J', 'S', '4', '5', 'F']) list(['A', 'V', '7', '1', '3', '8'])\n",
      " list(['N', 'J', '1']) list(['N', 'J']) list(['J', 'N'])\n",
      " list(['N', 'J', '3', '1', '0', '7'])\n",
      " list(['N', 'J', 'W', '7', '#', '5', 'Z'])\n",
      " list(['N', 'J', 'R', 'G', 'F', 'T', 'L', 'P', 'M', 'E', 'K', 'H', 'Q', 'S', 'W', 'V', 'U', 'Y', 'C'])]' has dtype incompatible with float64, please explicitly cast to a compatible dtype first.\n",
      "  md.loc[:, ('field_content', 'factors')].update(md.loc[is_cat&is_str, ('field_content', 'top')].apply(lambda x: [i['item'] for i in x]))\n",
      "/home/tom/bin/satdatsci/Saturday-Datascience/code/rdw_info.py:159: FutureWarning: A value is trying to be set on a copy of a DataFrame or Series through chained assignment using an inplace method.\n",
      "The behavior will change in pandas 3.0. This inplace method will never work because the intermediate object on which we are setting values always behaves as a copy.\n",
      "\n",
      "For example, when doing 'df[col].method(value, inplace=True)', try using 'df.method({col: value}, inplace=True)' or df[col] = df[col].method(value) instead, to perform the operation inplace on the original object.\n",
      "\n",
      "\n",
      "  md.loc[:, ('field_content', 'factors')].update(uniq_values[is_int].apply(lambda x: [int(v) for v in x]))\n",
      "/home/tom/bin/satdatsci/Saturday-Datascience/code/rdw_info.py:164: FutureWarning: A value is trying to be set on a copy of a DataFrame or Series through chained assignment using an inplace method.\n",
      "The behavior will change in pandas 3.0. This inplace method will never work because the intermediate object on which we are setting values always behaves as a copy.\n",
      "\n",
      "For example, when doing 'df[col].method(value, inplace=True)', try using 'df.method({col: value}, inplace=True)' or df[col] = df[col].method(value) instead, to perform the operation inplace on the original object.\n",
      "\n",
      "\n",
      "  md.loc[:, ('field_content', 'factors')].update(md.loc[is_cnt, ('field_content', 'factors')].apply(lambda x: range(min(x), max(x)+1)))\n",
      "/home/tom/bin/satdatsci/Saturday-Datascience/code/rdw_info.py:153: FutureWarning: A value is trying to be set on a copy of a DataFrame or Series through chained assignment using an inplace method.\n",
      "The behavior will change in pandas 3.0. This inplace method will never work because the intermediate object on which we are setting values always behaves as a copy.\n",
      "\n",
      "For example, when doing 'df[col].method(value, inplace=True)', try using 'df.method({col: value}, inplace=True)' or df[col] = df[col].method(value) instead, to perform the operation inplace on the original object.\n",
      "\n",
      "\n",
      "  md.loc[:, ('field_content', 'factors')].update(md.loc[is_cat&is_str, ('field_content', 'top')].apply(lambda x: [i['item'] for i in x]))\n",
      "/home/tom/bin/satdatsci/Saturday-Datascience/code/rdw_info.py:153: FutureWarning: Setting an item of incompatible dtype is deprecated and will raise an error in a future version of pandas. Value '[list(['1', '2', '3', '4', '5', '6', '7', '8', '11', '9', '10', '12'])\n",
      " list(['N', 'J', 'S', '4', '5', 'F']) list(['A', 'V', '7', '1', '3', '8'])\n",
      " list(['N', 'J', '1']) list(['N', 'J']) list(['J', 'N'])\n",
      " list(['N', 'J', '3', '1', '0', '7'])\n",
      " list(['N', 'J', 'W', '7', '#', '5', 'Z'])\n",
      " list(['N', 'J', 'R', 'G', 'F', 'T', 'L', 'P', 'M', 'E', 'K', 'H', 'Q', 'S', 'W', 'V', 'U', 'Y', 'C'])]' has dtype incompatible with float64, please explicitly cast to a compatible dtype first.\n",
      "  md.loc[:, ('field_content', 'factors')].update(md.loc[is_cat&is_str, ('field_content', 'top')].apply(lambda x: [i['item'] for i in x]))\n",
      "/home/tom/bin/satdatsci/Saturday-Datascience/code/rdw_info.py:159: FutureWarning: A value is trying to be set on a copy of a DataFrame or Series through chained assignment using an inplace method.\n",
      "The behavior will change in pandas 3.0. This inplace method will never work because the intermediate object on which we are setting values always behaves as a copy.\n",
      "\n",
      "For example, when doing 'df[col].method(value, inplace=True)', try using 'df.method({col: value}, inplace=True)' or df[col] = df[col].method(value) instead, to perform the operation inplace on the original object.\n",
      "\n",
      "\n",
      "  md.loc[:, ('field_content', 'factors')].update(uniq_values[is_int].apply(lambda x: [int(v) for v in x]))\n",
      "/home/tom/bin/satdatsci/Saturday-Datascience/code/rdw_info.py:164: FutureWarning: A value is trying to be set on a copy of a DataFrame or Series through chained assignment using an inplace method.\n",
      "The behavior will change in pandas 3.0. This inplace method will never work because the intermediate object on which we are setting values always behaves as a copy.\n",
      "\n",
      "For example, when doing 'df[col].method(value, inplace=True)', try using 'df.method({col: value}, inplace=True)' or df[col] = df[col].method(value) instead, to perform the operation inplace on the original object.\n",
      "\n",
      "\n",
      "  md.loc[:, ('field_content', 'factors')].update(md.loc[is_cnt, ('field_content', 'factors')].apply(lambda x: range(min(x), max(x)+1)))\n",
      "/home/tom/bin/satdatsci/Saturday-Datascience/code/rdw_info.py:439: FutureWarning: DataFrame.applymap has been deprecated. Use DataFrame.map instead.\n",
      "  assert idx.applymap(lambda x: sep not in x).all().all() # It could complicate things it sep is already present\n"
     ]
    },
    {
     "name": "stdout",
     "output_type": "stream",
     "text": [
      "ahsi-8uyu as_gegevens_eeg_uitvoering\n"
     ]
    },
    {
     "name": "stderr",
     "output_type": "stream",
     "text": [
      "/home/tom/bin/satdatsci/Saturday-Datascience/code/rdw_info.py:133: FutureWarning: Setting an item of incompatible dtype is deprecated and will raise in a future error of pandas. Value '<IntegerArray>\n",
      "[ 424,  280,  328,  424,  436,  364,  496,  364,  352,  340,  268,  280,  256,\n",
      "  280,  388,  448,  424,  364,  448,  364,  340,  388,  424,  316,  412,  424,\n",
      "  400,  340,  328,  448,  448,  388,  388,  568,  568,  448,  448,  424,  424,\n",
      "  448,  448,  460,  460,  556,  556,  568,  568,  556,  556,  436,  436,  520,\n",
      "  520,  472,  472,  460,  460,  448,  508,  508,  520,  520,  520,  520,  520,\n",
      "  520,  532,  532,  316,  460,  460,  472,  472,  436,  436,  496,  496,  520,\n",
      "  520,  496,  496,  496,  496,  544,  544, <NA>, <NA>, <NA>, <NA>, <NA>, <NA>,\n",
      " <NA>]\n",
      "Length: 92, dtype: Int64' has dtype incompatible with float64, please explicitly cast to a compatible dtype first.\n",
      "  md.loc[:,fld] = md.loc[:,fld].astype(dtype)\n",
      "/home/tom/bin/satdatsci/Saturday-Datascience/code/rdw_info.py:153: FutureWarning: A value is trying to be set on a copy of a DataFrame or Series through chained assignment using an inplace method.\n",
      "The behavior will change in pandas 3.0. This inplace method will never work because the intermediate object on which we are setting values always behaves as a copy.\n",
      "\n",
      "For example, when doing 'df[col].method(value, inplace=True)', try using 'df.method({col: value}, inplace=True)' or df[col] = df[col].method(value) instead, to perform the operation inplace on the original object.\n",
      "\n",
      "\n",
      "  md.loc[:, ('field_content', 'factors')].update(md.loc[is_cat&is_str, ('field_content', 'top')].apply(lambda x: [i['item'] for i in x]))\n",
      "/home/tom/bin/satdatsci/Saturday-Datascience/code/rdw_info.py:153: FutureWarning: Setting an item of incompatible dtype is deprecated and will raise an error in a future version of pandas. Value '[list(['B', 'H', 'A']) list(['J', 'N']) list(['B', 'R', 'L'])\n",
      " list(['N', 'O', 'J']) list(['J', 'N']) list(['C', 'I', 'V'])\n",
      " list(['L', 'R', 'M'])]' has dtype incompatible with float64, please explicitly cast to a compatible dtype first.\n",
      "  md.loc[:, ('field_content', 'factors')].update(md.loc[is_cat&is_str, ('field_content', 'top')].apply(lambda x: [i['item'] for i in x]))\n",
      "/home/tom/bin/satdatsci/Saturday-Datascience/code/rdw_info.py:159: FutureWarning: A value is trying to be set on a copy of a DataFrame or Series through chained assignment using an inplace method.\n",
      "The behavior will change in pandas 3.0. This inplace method will never work because the intermediate object on which we are setting values always behaves as a copy.\n",
      "\n",
      "For example, when doing 'df[col].method(value, inplace=True)', try using 'df.method({col: value}, inplace=True)' or df[col] = df[col].method(value) instead, to perform the operation inplace on the original object.\n",
      "\n",
      "\n",
      "  md.loc[:, ('field_content', 'factors')].update(uniq_values[is_int].apply(lambda x: [int(v) for v in x]))\n",
      "/home/tom/bin/satdatsci/Saturday-Datascience/code/rdw_info.py:164: FutureWarning: A value is trying to be set on a copy of a DataFrame or Series through chained assignment using an inplace method.\n",
      "The behavior will change in pandas 3.0. This inplace method will never work because the intermediate object on which we are setting values always behaves as a copy.\n",
      "\n",
      "For example, when doing 'df[col].method(value, inplace=True)', try using 'df.method({col: value}, inplace=True)' or df[col] = df[col].method(value) instead, to perform the operation inplace on the original object.\n",
      "\n",
      "\n",
      "  md.loc[:, ('field_content', 'factors')].update(md.loc[is_cnt, ('field_content', 'factors')].apply(lambda x: range(min(x), max(x)+1)))\n",
      "/home/tom/bin/satdatsci/Saturday-Datascience/code/rdw_info.py:439: FutureWarning: DataFrame.applymap has been deprecated. Use DataFrame.map instead.\n",
      "  assert idx.applymap(lambda x: sep not in x).all().all() # It could complicate things it sep is already present\n"
     ]
    },
    {
     "name": "stdout",
     "output_type": "stream",
     "text": [
      "wx3j-69ie basisgegevens_eeg_uitvoering\n"
     ]
    },
    {
     "name": "stderr",
     "output_type": "stream",
     "text": [
      "/home/tom/bin/satdatsci/Saturday-Datascience/code/rdw_info.py:153: FutureWarning: A value is trying to be set on a copy of a DataFrame or Series through chained assignment using an inplace method.\n",
      "The behavior will change in pandas 3.0. This inplace method will never work because the intermediate object on which we are setting values always behaves as a copy.\n",
      "\n",
      "For example, when doing 'df[col].method(value, inplace=True)', try using 'df.method({col: value}, inplace=True)' or df[col] = df[col].method(value) instead, to perform the operation inplace on the original object.\n",
      "\n",
      "\n",
      "  md.loc[:, ('field_content', 'factors')].update(md.loc[is_cat&is_str, ('field_content', 'top')].apply(lambda x: [i['item'] for i in x]))\n",
      "/home/tom/bin/satdatsci/Saturday-Datascience/code/rdw_info.py:153: FutureWarning: Setting an item of incompatible dtype is deprecated and will raise an error in a future version of pandas. Value '[list(['1', '3', '2', 'B', 'A'])]' has dtype incompatible with float64, please explicitly cast to a compatible dtype first.\n",
      "  md.loc[:, ('field_content', 'factors')].update(md.loc[is_cat&is_str, ('field_content', 'top')].apply(lambda x: [i['item'] for i in x]))\n",
      "/home/tom/bin/satdatsci/Saturday-Datascience/code/rdw_info.py:159: FutureWarning: A value is trying to be set on a copy of a DataFrame or Series through chained assignment using an inplace method.\n",
      "The behavior will change in pandas 3.0. This inplace method will never work because the intermediate object on which we are setting values always behaves as a copy.\n",
      "\n",
      "For example, when doing 'df[col].method(value, inplace=True)', try using 'df.method({col: value}, inplace=True)' or df[col] = df[col].method(value) instead, to perform the operation inplace on the original object.\n",
      "\n",
      "\n",
      "  md.loc[:, ('field_content', 'factors')].update(uniq_values[is_int].apply(lambda x: [int(v) for v in x]))\n",
      "/home/tom/bin/satdatsci/Saturday-Datascience/code/rdw_info.py:164: FutureWarning: A value is trying to be set on a copy of a DataFrame or Series through chained assignment using an inplace method.\n",
      "The behavior will change in pandas 3.0. This inplace method will never work because the intermediate object on which we are setting values always behaves as a copy.\n",
      "\n",
      "For example, when doing 'df[col].method(value, inplace=True)', try using 'df.method({col: value}, inplace=True)' or df[col] = df[col].method(value) instead, to perform the operation inplace on the original object.\n",
      "\n",
      "\n",
      "  md.loc[:, ('field_content', 'factors')].update(md.loc[is_cnt, ('field_content', 'factors')].apply(lambda x: range(min(x), max(x)+1)))\n",
      "/home/tom/bin/satdatsci/Saturday-Datascience/code/rdw_info.py:439: FutureWarning: DataFrame.applymap has been deprecated. Use DataFrame.map instead.\n",
      "  assert idx.applymap(lambda x: sep not in x).all().all() # It could complicate things it sep is already present\n"
     ]
    },
    {
     "name": "stdout",
     "output_type": "stream",
     "text": [
      "q7fi-ijjh carrosserie_uitvoering_klasse\n"
     ]
    },
    {
     "name": "stderr",
     "output_type": "stream",
     "text": [
      "/home/tom/bin/satdatsci/Saturday-Datascience/code/rdw_info.py:153: FutureWarning: A value is trying to be set on a copy of a DataFrame or Series through chained assignment using an inplace method.\n",
      "The behavior will change in pandas 3.0. This inplace method will never work because the intermediate object on which we are setting values always behaves as a copy.\n",
      "\n",
      "For example, when doing 'df[col].method(value, inplace=True)', try using 'df.method({col: value}, inplace=True)' or df[col] = df[col].method(value) instead, to perform the operation inplace on the original object.\n",
      "\n",
      "\n",
      "  md.loc[:, ('field_content', 'factors')].update(md.loc[is_cat&is_str, ('field_content', 'top')].apply(lambda x: [i['item'] for i in x]))\n",
      "/home/tom/bin/satdatsci/Saturday-Datascience/code/rdw_info.py:159: FutureWarning: A value is trying to be set on a copy of a DataFrame or Series through chained assignment using an inplace method.\n",
      "The behavior will change in pandas 3.0. This inplace method will never work because the intermediate object on which we are setting values always behaves as a copy.\n",
      "\n",
      "For example, when doing 'df[col].method(value, inplace=True)', try using 'df.method({col: value}, inplace=True)' or df[col] = df[col].method(value) instead, to perform the operation inplace on the original object.\n",
      "\n",
      "\n",
      "  md.loc[:, ('field_content', 'factors')].update(uniq_values[is_int].apply(lambda x: [int(v) for v in x]))\n",
      "/home/tom/bin/satdatsci/Saturday-Datascience/code/rdw_info.py:159: FutureWarning: Setting an item of incompatible dtype is deprecated and will raise an error in a future version of pandas. Value '[list([0, 1, 2, 3, 4, 5, 6, 7]) list([1, 2, 3])]' has dtype incompatible with float64, please explicitly cast to a compatible dtype first.\n",
      "  md.loc[:, ('field_content', 'factors')].update(uniq_values[is_int].apply(lambda x: [int(v) for v in x]))\n",
      "/home/tom/bin/satdatsci/Saturday-Datascience/code/rdw_info.py:164: FutureWarning: A value is trying to be set on a copy of a DataFrame or Series through chained assignment using an inplace method.\n",
      "The behavior will change in pandas 3.0. This inplace method will never work because the intermediate object on which we are setting values always behaves as a copy.\n",
      "\n",
      "For example, when doing 'df[col].method(value, inplace=True)', try using 'df.method({col: value}, inplace=True)' or df[col] = df[col].method(value) instead, to perform the operation inplace on the original object.\n",
      "\n",
      "\n",
      "  md.loc[:, ('field_content', 'factors')].update(md.loc[is_cnt, ('field_content', 'factors')].apply(lambda x: range(min(x), max(x)+1)))\n",
      "/home/tom/bin/satdatsci/Saturday-Datascience/code/rdw_info.py:439: FutureWarning: DataFrame.applymap has been deprecated. Use DataFrame.map instead.\n",
      "  assert idx.applymap(lambda x: sep not in x).all().all() # It could complicate things it sep is already present\n"
     ]
    },
    {
     "name": "stdout",
     "output_type": "stream",
     "text": [
      "w2qp-idms carrosserie_uitvoering\n"
     ]
    },
    {
     "name": "stderr",
     "output_type": "stream",
     "text": [
      "/home/tom/bin/satdatsci/Saturday-Datascience/code/rdw_info.py:153: FutureWarning: A value is trying to be set on a copy of a DataFrame or Series through chained assignment using an inplace method.\n",
      "The behavior will change in pandas 3.0. This inplace method will never work because the intermediate object on which we are setting values always behaves as a copy.\n",
      "\n",
      "For example, when doing 'df[col].method(value, inplace=True)', try using 'df.method({col: value}, inplace=True)' or df[col] = df[col].method(value) instead, to perform the operation inplace on the original object.\n",
      "\n",
      "\n",
      "  md.loc[:, ('field_content', 'factors')].update(md.loc[is_cat&is_str, ('field_content', 'top')].apply(lambda x: [i['item'] for i in x]))\n",
      "/home/tom/bin/satdatsci/Saturday-Datascience/code/rdw_info.py:159: FutureWarning: A value is trying to be set on a copy of a DataFrame or Series through chained assignment using an inplace method.\n",
      "The behavior will change in pandas 3.0. This inplace method will never work because the intermediate object on which we are setting values always behaves as a copy.\n",
      "\n",
      "For example, when doing 'df[col].method(value, inplace=True)', try using 'df.method({col: value}, inplace=True)' or df[col] = df[col].method(value) instead, to perform the operation inplace on the original object.\n",
      "\n",
      "\n",
      "  md.loc[:, ('field_content', 'factors')].update(uniq_values[is_int].apply(lambda x: [int(v) for v in x]))\n",
      "/home/tom/bin/satdatsci/Saturday-Datascience/code/rdw_info.py:159: FutureWarning: Setting an item of incompatible dtype is deprecated and will raise an error in a future version of pandas. Value '[list([0, 1, 2, 3, 4, 5]) list([1, 2, 3, 4, 5])]' has dtype incompatible with float64, please explicitly cast to a compatible dtype first.\n",
      "  md.loc[:, ('field_content', 'factors')].update(uniq_values[is_int].apply(lambda x: [int(v) for v in x]))\n",
      "/home/tom/bin/satdatsci/Saturday-Datascience/code/rdw_info.py:164: FutureWarning: A value is trying to be set on a copy of a DataFrame or Series through chained assignment using an inplace method.\n",
      "The behavior will change in pandas 3.0. This inplace method will never work because the intermediate object on which we are setting values always behaves as a copy.\n",
      "\n",
      "For example, when doing 'df[col].method(value, inplace=True)', try using 'df.method({col: value}, inplace=True)' or df[col] = df[col].method(value) instead, to perform the operation inplace on the original object.\n",
      "\n",
      "\n",
      "  md.loc[:, ('field_content', 'factors')].update(md.loc[is_cnt, ('field_content', 'factors')].apply(lambda x: range(min(x), max(x)+1)))\n",
      "/home/tom/bin/satdatsci/Saturday-Datascience/code/rdw_info.py:439: FutureWarning: DataFrame.applymap has been deprecated. Use DataFrame.map instead.\n",
      "  assert idx.applymap(lambda x: sep not in x).all().all() # It could complicate things it sep is already present\n"
     ]
    },
    {
     "name": "stdout",
     "output_type": "stream",
     "text": [
      "nypm-t8hx carrosserie_uitvoering_nummerieke_code\n"
     ]
    },
    {
     "name": "stderr",
     "output_type": "stream",
     "text": [
      "/home/tom/bin/satdatsci/Saturday-Datascience/code/rdw_info.py:133: FutureWarning: Setting an item of incompatible dtype is deprecated and will raise in a future error of pandas. Value '<IntegerArray>\n",
      "[424, 280, 328, 424, 220, 400, 484, <NA>]\n",
      "Length: 8, dtype: Int64' has dtype incompatible with float64, please explicitly cast to a compatible dtype first.\n",
      "  md.loc[:,fld] = md.loc[:,fld].astype(dtype)\n",
      "/home/tom/bin/satdatsci/Saturday-Datascience/code/rdw_info.py:153: FutureWarning: A value is trying to be set on a copy of a DataFrame or Series through chained assignment using an inplace method.\n",
      "The behavior will change in pandas 3.0. This inplace method will never work because the intermediate object on which we are setting values always behaves as a copy.\n",
      "\n",
      "For example, when doing 'df[col].method(value, inplace=True)', try using 'df.method({col: value}, inplace=True)' or df[col] = df[col].method(value) instead, to perform the operation inplace on the original object.\n",
      "\n",
      "\n",
      "  md.loc[:, ('field_content', 'factors')].update(md.loc[is_cat&is_str, ('field_content', 'top')].apply(lambda x: [i['item'] for i in x]))\n",
      "/home/tom/bin/satdatsci/Saturday-Datascience/code/rdw_info.py:159: FutureWarning: A value is trying to be set on a copy of a DataFrame or Series through chained assignment using an inplace method.\n",
      "The behavior will change in pandas 3.0. This inplace method will never work because the intermediate object on which we are setting values always behaves as a copy.\n",
      "\n",
      "For example, when doing 'df[col].method(value, inplace=True)', try using 'df.method({col: value}, inplace=True)' or df[col] = df[col].method(value) instead, to perform the operation inplace on the original object.\n",
      "\n",
      "\n",
      "  md.loc[:, ('field_content', 'factors')].update(uniq_values[is_int].apply(lambda x: [int(v) for v in x]))\n",
      "/home/tom/bin/satdatsci/Saturday-Datascience/code/rdw_info.py:159: FutureWarning: Setting an item of incompatible dtype is deprecated and will raise an error in a future version of pandas. Value '[list([0, 1, 2, 3, 4, 5, 6, 7])]' has dtype incompatible with float64, please explicitly cast to a compatible dtype first.\n",
      "  md.loc[:, ('field_content', 'factors')].update(uniq_values[is_int].apply(lambda x: [int(v) for v in x]))\n",
      "/home/tom/bin/satdatsci/Saturday-Datascience/code/rdw_info.py:164: FutureWarning: A value is trying to be set on a copy of a DataFrame or Series through chained assignment using an inplace method.\n",
      "The behavior will change in pandas 3.0. This inplace method will never work because the intermediate object on which we are setting values always behaves as a copy.\n",
      "\n",
      "For example, when doing 'df[col].method(value, inplace=True)', try using 'df.method({col: value}, inplace=True)' or df[col] = df[col].method(value) instead, to perform the operation inplace on the original object.\n",
      "\n",
      "\n",
      "  md.loc[:, ('field_content', 'factors')].update(md.loc[is_cnt, ('field_content', 'factors')].apply(lambda x: range(min(x), max(x)+1)))\n",
      "/home/tom/bin/satdatsci/Saturday-Datascience/code/rdw_info.py:439: FutureWarning: DataFrame.applymap has been deprecated. Use DataFrame.map instead.\n",
      "  assert idx.applymap(lambda x: sep not in x).all().all() # It could complicate things it sep is already present\n"
     ]
    },
    {
     "name": "stdout",
     "output_type": "stream",
     "text": [
      "mdqe-txpd handelsbenaming_uitvoering\n"
     ]
    },
    {
     "name": "stderr",
     "output_type": "stream",
     "text": [
      "/home/tom/bin/satdatsci/Saturday-Datascience/code/rdw_info.py:133: FutureWarning: Setting an item of incompatible dtype is deprecated and will raise in a future error of pandas. Value '<IntegerArray>\n",
      "[424, 280, 328, 424, 196, 364, <NA>]\n",
      "Length: 7, dtype: Int64' has dtype incompatible with float64, please explicitly cast to a compatible dtype first.\n",
      "  md.loc[:,fld] = md.loc[:,fld].astype(dtype)\n",
      "/home/tom/bin/satdatsci/Saturday-Datascience/code/rdw_info.py:153: FutureWarning: A value is trying to be set on a copy of a DataFrame or Series through chained assignment using an inplace method.\n",
      "The behavior will change in pandas 3.0. This inplace method will never work because the intermediate object on which we are setting values always behaves as a copy.\n",
      "\n",
      "For example, when doing 'df[col].method(value, inplace=True)', try using 'df.method({col: value}, inplace=True)' or df[col] = df[col].method(value) instead, to perform the operation inplace on the original object.\n",
      "\n",
      "\n",
      "  md.loc[:, ('field_content', 'factors')].update(md.loc[is_cat&is_str, ('field_content', 'top')].apply(lambda x: [i['item'] for i in x]))\n",
      "/home/tom/bin/satdatsci/Saturday-Datascience/code/rdw_info.py:159: FutureWarning: A value is trying to be set on a copy of a DataFrame or Series through chained assignment using an inplace method.\n",
      "The behavior will change in pandas 3.0. This inplace method will never work because the intermediate object on which we are setting values always behaves as a copy.\n",
      "\n",
      "For example, when doing 'df[col].method(value, inplace=True)', try using 'df.method({col: value}, inplace=True)' or df[col] = df[col].method(value) instead, to perform the operation inplace on the original object.\n",
      "\n",
      "\n",
      "  md.loc[:, ('field_content', 'factors')].update(uniq_values[is_int].apply(lambda x: [int(v) for v in x]))\n",
      "/home/tom/bin/satdatsci/Saturday-Datascience/code/rdw_info.py:159: FutureWarning: Setting an item of incompatible dtype is deprecated and will raise an error in a future version of pandas. Value '[list([0, 1, 2, 3, 4, 5, 6, 7])]' has dtype incompatible with float64, please explicitly cast to a compatible dtype first.\n",
      "  md.loc[:, ('field_content', 'factors')].update(uniq_values[is_int].apply(lambda x: [int(v) for v in x]))\n",
      "/home/tom/bin/satdatsci/Saturday-Datascience/code/rdw_info.py:164: FutureWarning: A value is trying to be set on a copy of a DataFrame or Series through chained assignment using an inplace method.\n",
      "The behavior will change in pandas 3.0. This inplace method will never work because the intermediate object on which we are setting values always behaves as a copy.\n",
      "\n",
      "For example, when doing 'df[col].method(value, inplace=True)', try using 'df.method({col: value}, inplace=True)' or df[col] = df[col].method(value) instead, to perform the operation inplace on the original object.\n",
      "\n",
      "\n",
      "  md.loc[:, ('field_content', 'factors')].update(md.loc[is_cnt, ('field_content', 'factors')].apply(lambda x: range(min(x), max(x)+1)))\n",
      "/home/tom/bin/satdatsci/Saturday-Datascience/code/rdw_info.py:439: FutureWarning: DataFrame.applymap has been deprecated. Use DataFrame.map instead.\n",
      "  assert idx.applymap(lambda x: sep not in x).all().all() # It could complicate things it sep is already present\n"
     ]
    },
    {
     "name": "stdout",
     "output_type": "stream",
     "text": [
      "fj7t-hhik merk_uitvoering_toegestaan\n"
     ]
    },
    {
     "name": "stderr",
     "output_type": "stream",
     "text": [
      "/home/tom/bin/satdatsci/Saturday-Datascience/code/rdw_info.py:133: FutureWarning: Setting an item of incompatible dtype is deprecated and will raise in a future error of pandas. Value '<IntegerArray>\n",
      "[ 424,  280,  328,  424,  220,  208,  364,  256,  508,  340,  292,  364,  352,\n",
      "  232,  352,  388,  472,  424,  424,  364,  496,  304,  232,  232,  436,  436,\n",
      "  256,  340,  412,  352,  412,  352,  304,  412,  340,  352,  400,  412,  424,\n",
      "  436,  328,  328,  472,  472,  388,  388,  508,  508, <NA>]\n",
      "Length: 49, dtype: Int64' has dtype incompatible with float64, please explicitly cast to a compatible dtype first.\n",
      "  md.loc[:,fld] = md.loc[:,fld].astype(dtype)\n",
      "/home/tom/bin/satdatsci/Saturday-Datascience/code/rdw_info.py:153: FutureWarning: A value is trying to be set on a copy of a DataFrame or Series through chained assignment using an inplace method.\n",
      "The behavior will change in pandas 3.0. This inplace method will never work because the intermediate object on which we are setting values always behaves as a copy.\n",
      "\n",
      "For example, when doing 'df[col].method(value, inplace=True)', try using 'df.method({col: value}, inplace=True)' or df[col] = df[col].method(value) instead, to perform the operation inplace on the original object.\n",
      "\n",
      "\n",
      "  md.loc[:, ('field_content', 'factors')].update(md.loc[is_cat&is_str, ('field_content', 'top')].apply(lambda x: [i['item'] for i in x]))\n",
      "/home/tom/bin/satdatsci/Saturday-Datascience/code/rdw_info.py:153: FutureWarning: Setting an item of incompatible dtype is deprecated and will raise an error in a future version of pandas. Value '[list(['D', 'B', 'E', 'G', 'H', 'A', 'W'])\n",
      " list(['C4', 'E4', 'IE', 'EE', 'IC', 'E2', 'CI', 'PI', 'DF', 'C2'])\n",
      " list(['D', 'G', 'V', 'W', 'I']) list(['4', '3', '5', '2', '6', 'R'])\n",
      " list(['J', 'N']) list(['N', 'J']) list(['J', 'N']) list(['N', 'J'])\n",
      " list(['N', 'J']) list(['M', 'F', 'B', 'D']) list(['N', 'J'])\n",
      " list(['N', 'J']) list(['N', 'J']) list(['N', 'J'])]' has dtype incompatible with float64, please explicitly cast to a compatible dtype first.\n",
      "  md.loc[:, ('field_content', 'factors')].update(md.loc[is_cat&is_str, ('field_content', 'top')].apply(lambda x: [i['item'] for i in x]))\n",
      "/home/tom/bin/satdatsci/Saturday-Datascience/code/rdw_info.py:159: FutureWarning: A value is trying to be set on a copy of a DataFrame or Series through chained assignment using an inplace method.\n",
      "The behavior will change in pandas 3.0. This inplace method will never work because the intermediate object on which we are setting values always behaves as a copy.\n",
      "\n",
      "For example, when doing 'df[col].method(value, inplace=True)', try using 'df.method({col: value}, inplace=True)' or df[col] = df[col].method(value) instead, to perform the operation inplace on the original object.\n",
      "\n",
      "\n",
      "  md.loc[:, ('field_content', 'factors')].update(uniq_values[is_int].apply(lambda x: [int(v) for v in x]))\n",
      "/home/tom/bin/satdatsci/Saturday-Datascience/code/rdw_info.py:164: FutureWarning: A value is trying to be set on a copy of a DataFrame or Series through chained assignment using an inplace method.\n",
      "The behavior will change in pandas 3.0. This inplace method will never work because the intermediate object on which we are setting values always behaves as a copy.\n",
      "\n",
      "For example, when doing 'df[col].method(value, inplace=True)', try using 'df.method({col: value}, inplace=True)' or df[col] = df[col].method(value) instead, to perform the operation inplace on the original object.\n",
      "\n",
      "\n",
      "  md.loc[:, ('field_content', 'factors')].update(md.loc[is_cnt, ('field_content', 'factors')].apply(lambda x: range(min(x), max(x)+1)))\n",
      "/home/tom/bin/satdatsci/Saturday-Datascience/code/rdw_info.py:439: FutureWarning: DataFrame.applymap has been deprecated. Use DataFrame.map instead.\n",
      "  assert idx.applymap(lambda x: sep not in x).all().all() # It could complicate things it sep is already present\n"
     ]
    },
    {
     "name": "stdout",
     "output_type": "stream",
     "text": [
      "g2s6-ehxa motor_uitvoering\n"
     ]
    },
    {
     "name": "stderr",
     "output_type": "stream",
     "text": [
      "/home/tom/bin/satdatsci/Saturday-Datascience/code/rdw_info.py:153: FutureWarning: A value is trying to be set on a copy of a DataFrame or Series through chained assignment using an inplace method.\n",
      "The behavior will change in pandas 3.0. This inplace method will never work because the intermediate object on which we are setting values always behaves as a copy.\n",
      "\n",
      "For example, when doing 'df[col].method(value, inplace=True)', try using 'df.method({col: value}, inplace=True)' or df[col] = df[col].method(value) instead, to perform the operation inplace on the original object.\n",
      "\n",
      "\n",
      "  md.loc[:, ('field_content', 'factors')].update(md.loc[is_cat&is_str, ('field_content', 'top')].apply(lambda x: [i['item'] for i in x]))\n",
      "/home/tom/bin/satdatsci/Saturday-Datascience/code/rdw_info.py:153: FutureWarning: Setting an item of incompatible dtype is deprecated and will raise an error in a future version of pandas. Value '[list(['0', '1', '2', '3', '4', '5', '6', '7'])\n",
      " list(['D', 'B', 'E', 'H', 'G', 'A', 'C', 'W'])\n",
      " list(['5', '6', '4', '3', '2', 'Z', '0', '1']) list(['J', 'N'])\n",
      " list(['N', 'J']) list(['D', 'G', 'V', 'W', 'I', 'A'])]' has dtype incompatible with float64, please explicitly cast to a compatible dtype first.\n",
      "  md.loc[:, ('field_content', 'factors')].update(md.loc[is_cat&is_str, ('field_content', 'top')].apply(lambda x: [i['item'] for i in x]))\n",
      "/home/tom/bin/satdatsci/Saturday-Datascience/code/rdw_info.py:159: FutureWarning: A value is trying to be set on a copy of a DataFrame or Series through chained assignment using an inplace method.\n",
      "The behavior will change in pandas 3.0. This inplace method will never work because the intermediate object on which we are setting values always behaves as a copy.\n",
      "\n",
      "For example, when doing 'df[col].method(value, inplace=True)', try using 'df.method({col: value}, inplace=True)' or df[col] = df[col].method(value) instead, to perform the operation inplace on the original object.\n",
      "\n",
      "\n",
      "  md.loc[:, ('field_content', 'factors')].update(uniq_values[is_int].apply(lambda x: [int(v) for v in x]))\n",
      "/home/tom/bin/satdatsci/Saturday-Datascience/code/rdw_info.py:164: FutureWarning: A value is trying to be set on a copy of a DataFrame or Series through chained assignment using an inplace method.\n",
      "The behavior will change in pandas 3.0. This inplace method will never work because the intermediate object on which we are setting values always behaves as a copy.\n",
      "\n",
      "For example, when doing 'df[col].method(value, inplace=True)', try using 'df.method({col: value}, inplace=True)' or df[col] = df[col].method(value) instead, to perform the operation inplace on the original object.\n",
      "\n",
      "\n",
      "  md.loc[:, ('field_content', 'factors')].update(md.loc[is_cnt, ('field_content', 'factors')].apply(lambda x: range(min(x), max(x)+1)))\n",
      "/home/tom/bin/satdatsci/Saturday-Datascience/code/rdw_info.py:439: FutureWarning: DataFrame.applymap has been deprecated. Use DataFrame.map instead.\n",
      "  assert idx.applymap(lambda x: sep not in x).all().all() # It could complicate things it sep is already present\n"
     ]
    },
    {
     "name": "stdout",
     "output_type": "stream",
     "text": [
      "5w6t-p66a motor_uitvoering_brandstof\n"
     ]
    },
    {
     "name": "stderr",
     "output_type": "stream",
     "text": [
      "/home/tom/bin/satdatsci/Saturday-Datascience/code/rdw_info.py:133: FutureWarning: Setting an item of incompatible dtype is deprecated and will raise in a future error of pandas. Value '<IntegerArray>\n",
      "[424, 280, 328, 424, 436, 484, 508, <NA>]\n",
      "Length: 8, dtype: Int64' has dtype incompatible with float64, please explicitly cast to a compatible dtype first.\n",
      "  md.loc[:,fld] = md.loc[:,fld].astype(dtype)\n",
      "/home/tom/bin/satdatsci/Saturday-Datascience/code/rdw_info.py:153: FutureWarning: A value is trying to be set on a copy of a DataFrame or Series through chained assignment using an inplace method.\n",
      "The behavior will change in pandas 3.0. This inplace method will never work because the intermediate object on which we are setting values always behaves as a copy.\n",
      "\n",
      "For example, when doing 'df[col].method(value, inplace=True)', try using 'df.method({col: value}, inplace=True)' or df[col] = df[col].method(value) instead, to perform the operation inplace on the original object.\n",
      "\n",
      "\n",
      "  md.loc[:, ('field_content', 'factors')].update(md.loc[is_cat&is_str, ('field_content', 'top')].apply(lambda x: [i['item'] for i in x]))\n",
      "/home/tom/bin/satdatsci/Saturday-Datascience/code/rdw_info.py:159: FutureWarning: A value is trying to be set on a copy of a DataFrame or Series through chained assignment using an inplace method.\n",
      "The behavior will change in pandas 3.0. This inplace method will never work because the intermediate object on which we are setting values always behaves as a copy.\n",
      "\n",
      "For example, when doing 'df[col].method(value, inplace=True)', try using 'df.method({col: value}, inplace=True)' or df[col] = df[col].method(value) instead, to perform the operation inplace on the original object.\n",
      "\n",
      "\n",
      "  md.loc[:, ('field_content', 'factors')].update(uniq_values[is_int].apply(lambda x: [int(v) for v in x]))\n",
      "/home/tom/bin/satdatsci/Saturday-Datascience/code/rdw_info.py:159: FutureWarning: Setting an item of incompatible dtype is deprecated and will raise an error in a future version of pandas. Value '[list([0, 1, 2, 3, 4, 5, 6, 7]) list([1, 2, 3, 4, 5, 6])]' has dtype incompatible with float64, please explicitly cast to a compatible dtype first.\n",
      "  md.loc[:, ('field_content', 'factors')].update(uniq_values[is_int].apply(lambda x: [int(v) for v in x]))\n",
      "/home/tom/bin/satdatsci/Saturday-Datascience/code/rdw_info.py:164: FutureWarning: A value is trying to be set on a copy of a DataFrame or Series through chained assignment using an inplace method.\n",
      "The behavior will change in pandas 3.0. This inplace method will never work because the intermediate object on which we are setting values always behaves as a copy.\n",
      "\n",
      "For example, when doing 'df[col].method(value, inplace=True)', try using 'df.method({col: value}, inplace=True)' or df[col] = df[col].method(value) instead, to perform the operation inplace on the original object.\n",
      "\n",
      "\n",
      "  md.loc[:, ('field_content', 'factors')].update(md.loc[is_cnt, ('field_content', 'factors')].apply(lambda x: range(min(x), max(x)+1)))\n",
      "/home/tom/bin/satdatsci/Saturday-Datascience/code/rdw_info.py:439: FutureWarning: DataFrame.applymap has been deprecated. Use DataFrame.map instead.\n",
      "  assert idx.applymap(lambda x: sep not in x).all().all() # It could complicate things it sep is already present\n"
     ]
    },
    {
     "name": "stdout",
     "output_type": "stream",
     "text": [
      "mt8t-4ep4 plaatsaanduiding_uitvoering\n"
     ]
    },
    {
     "name": "stderr",
     "output_type": "stream",
     "text": [
      "/home/tom/bin/satdatsci/Saturday-Datascience/code/rdw_info.py:153: FutureWarning: A value is trying to be set on a copy of a DataFrame or Series through chained assignment using an inplace method.\n",
      "The behavior will change in pandas 3.0. This inplace method will never work because the intermediate object on which we are setting values always behaves as a copy.\n",
      "\n",
      "For example, when doing 'df[col].method(value, inplace=True)', try using 'df.method({col: value}, inplace=True)' or df[col] = df[col].method(value) instead, to perform the operation inplace on the original object.\n",
      "\n",
      "\n",
      "  md.loc[:, ('field_content', 'factors')].update(md.loc[is_cat&is_str, ('field_content', 'top')].apply(lambda x: [i['item'] for i in x]))\n",
      "/home/tom/bin/satdatsci/Saturday-Datascience/code/rdw_info.py:153: FutureWarning: Setting an item of incompatible dtype is deprecated and will raise an error in a future version of pandas. Value '[list(['SA', 'SE', 'SH', 'SK', 'SC', 'SB', 'SG', 'SD', 'SL', 'SF', 'SJ', 'SM'])]' has dtype incompatible with float64, please explicitly cast to a compatible dtype first.\n",
      "  md.loc[:, ('field_content', 'factors')].update(md.loc[is_cat&is_str, ('field_content', 'top')].apply(lambda x: [i['item'] for i in x]))\n",
      "/home/tom/bin/satdatsci/Saturday-Datascience/code/rdw_info.py:159: FutureWarning: A value is trying to be set on a copy of a DataFrame or Series through chained assignment using an inplace method.\n",
      "The behavior will change in pandas 3.0. This inplace method will never work because the intermediate object on which we are setting values always behaves as a copy.\n",
      "\n",
      "For example, when doing 'df[col].method(value, inplace=True)', try using 'df.method({col: value}, inplace=True)' or df[col] = df[col].method(value) instead, to perform the operation inplace on the original object.\n",
      "\n",
      "\n",
      "  md.loc[:, ('field_content', 'factors')].update(uniq_values[is_int].apply(lambda x: [int(v) for v in x]))\n",
      "/home/tom/bin/satdatsci/Saturday-Datascience/code/rdw_info.py:164: FutureWarning: A value is trying to be set on a copy of a DataFrame or Series through chained assignment using an inplace method.\n",
      "The behavior will change in pandas 3.0. This inplace method will never work because the intermediate object on which we are setting values always behaves as a copy.\n",
      "\n",
      "For example, when doing 'df[col].method(value, inplace=True)', try using 'df.method({col: value}, inplace=True)' or df[col] = df[col].method(value) instead, to perform the operation inplace on the original object.\n",
      "\n",
      "\n",
      "  md.loc[:, ('field_content', 'factors')].update(md.loc[is_cnt, ('field_content', 'factors')].apply(lambda x: range(min(x), max(x)+1)))\n",
      "/home/tom/bin/satdatsci/Saturday-Datascience/code/rdw_info.py:439: FutureWarning: DataFrame.applymap has been deprecated. Use DataFrame.map instead.\n",
      "  assert idx.applymap(lambda x: sep not in x).all().all() # It could complicate things it sep is already present\n"
     ]
    },
    {
     "name": "stdout",
     "output_type": "stream",
     "text": [
      "h9pa-e9ta subcategorie_uitvoering\n"
     ]
    },
    {
     "name": "stderr",
     "output_type": "stream",
     "text": [
      "/home/tom/bin/satdatsci/Saturday-Datascience/code/rdw_info.py:153: FutureWarning: A value is trying to be set on a copy of a DataFrame or Series through chained assignment using an inplace method.\n",
      "The behavior will change in pandas 3.0. This inplace method will never work because the intermediate object on which we are setting values always behaves as a copy.\n",
      "\n",
      "For example, when doing 'df[col].method(value, inplace=True)', try using 'df.method({col: value}, inplace=True)' or df[col] = df[col].method(value) instead, to perform the operation inplace on the original object.\n",
      "\n",
      "\n",
      "  md.loc[:, ('field_content', 'factors')].update(md.loc[is_cat&is_str, ('field_content', 'top')].apply(lambda x: [i['item'] for i in x]))\n",
      "/home/tom/bin/satdatsci/Saturday-Datascience/code/rdw_info.py:153: FutureWarning: Setting an item of incompatible dtype is deprecated and will raise an error in a future version of pandas. Value '[list(['G', 'D', 'E', 'C', 'F', 'B', 'A'])]' has dtype incompatible with float64, please explicitly cast to a compatible dtype first.\n",
      "  md.loc[:, ('field_content', 'factors')].update(md.loc[is_cat&is_str, ('field_content', 'top')].apply(lambda x: [i['item'] for i in x]))\n",
      "/home/tom/bin/satdatsci/Saturday-Datascience/code/rdw_info.py:159: FutureWarning: A value is trying to be set on a copy of a DataFrame or Series through chained assignment using an inplace method.\n",
      "The behavior will change in pandas 3.0. This inplace method will never work because the intermediate object on which we are setting values always behaves as a copy.\n",
      "\n",
      "For example, when doing 'df[col].method(value, inplace=True)', try using 'df.method({col: value}, inplace=True)' or df[col] = df[col].method(value) instead, to perform the operation inplace on the original object.\n",
      "\n",
      "\n",
      "  md.loc[:, ('field_content', 'factors')].update(uniq_values[is_int].apply(lambda x: [int(v) for v in x]))\n",
      "/home/tom/bin/satdatsci/Saturday-Datascience/code/rdw_info.py:164: FutureWarning: A value is trying to be set on a copy of a DataFrame or Series through chained assignment using an inplace method.\n",
      "The behavior will change in pandas 3.0. This inplace method will never work because the intermediate object on which we are setting values always behaves as a copy.\n",
      "\n",
      "For example, when doing 'df[col].method(value, inplace=True)', try using 'df.method({col: value}, inplace=True)' or df[col] = df[col].method(value) instead, to perform the operation inplace on the original object.\n",
      "\n",
      "\n",
      "  md.loc[:, ('field_content', 'factors')].update(md.loc[is_cnt, ('field_content', 'factors')].apply(lambda x: range(min(x), max(x)+1)))\n",
      "/home/tom/bin/satdatsci/Saturday-Datascience/code/rdw_info.py:439: FutureWarning: DataFrame.applymap has been deprecated. Use DataFrame.map instead.\n",
      "  assert idx.applymap(lambda x: sep not in x).all().all() # It could complicate things it sep is already present\n"
     ]
    },
    {
     "name": "stdout",
     "output_type": "stream",
     "text": [
      "2822-t8sx uitvoering_gebruiksgegevens_per_uitgave\n"
     ]
    },
    {
     "name": "stderr",
     "output_type": "stream",
     "text": [
      "/home/tom/bin/satdatsci/Saturday-Datascience/code/rdw_info.py:153: FutureWarning: A value is trying to be set on a copy of a DataFrame or Series through chained assignment using an inplace method.\n",
      "The behavior will change in pandas 3.0. This inplace method will never work because the intermediate object on which we are setting values always behaves as a copy.\n",
      "\n",
      "For example, when doing 'df[col].method(value, inplace=True)', try using 'df.method({col: value}, inplace=True)' or df[col] = df[col].method(value) instead, to perform the operation inplace on the original object.\n",
      "\n",
      "\n",
      "  md.loc[:, ('field_content', 'factors')].update(md.loc[is_cat&is_str, ('field_content', 'top')].apply(lambda x: [i['item'] for i in x]))\n",
      "/home/tom/bin/satdatsci/Saturday-Datascience/code/rdw_info.py:153: FutureWarning: Setting an item of incompatible dtype is deprecated and will raise an error in a future version of pandas. Value '[list(['H', 'A', 'C', 'G', 'F', 'W', 'O', 'M'])]' has dtype incompatible with float64, please explicitly cast to a compatible dtype first.\n",
      "  md.loc[:, ('field_content', 'factors')].update(md.loc[is_cat&is_str, ('field_content', 'top')].apply(lambda x: [i['item'] for i in x]))\n",
      "/home/tom/bin/satdatsci/Saturday-Datascience/code/rdw_info.py:159: FutureWarning: A value is trying to be set on a copy of a DataFrame or Series through chained assignment using an inplace method.\n",
      "The behavior will change in pandas 3.0. This inplace method will never work because the intermediate object on which we are setting values always behaves as a copy.\n",
      "\n",
      "For example, when doing 'df[col].method(value, inplace=True)', try using 'df.method({col: value}, inplace=True)' or df[col] = df[col].method(value) instead, to perform the operation inplace on the original object.\n",
      "\n",
      "\n",
      "  md.loc[:, ('field_content', 'factors')].update(uniq_values[is_int].apply(lambda x: [int(v) for v in x]))\n",
      "/home/tom/bin/satdatsci/Saturday-Datascience/code/rdw_info.py:164: FutureWarning: A value is trying to be set on a copy of a DataFrame or Series through chained assignment using an inplace method.\n",
      "The behavior will change in pandas 3.0. This inplace method will never work because the intermediate object on which we are setting values always behaves as a copy.\n",
      "\n",
      "For example, when doing 'df[col].method(value, inplace=True)', try using 'df.method({col: value}, inplace=True)' or df[col] = df[col].method(value) instead, to perform the operation inplace on the original object.\n",
      "\n",
      "\n",
      "  md.loc[:, ('field_content', 'factors')].update(md.loc[is_cnt, ('field_content', 'factors')].apply(lambda x: range(min(x), max(x)+1)))\n",
      "/home/tom/bin/satdatsci/Saturday-Datascience/code/rdw_info.py:439: FutureWarning: DataFrame.applymap has been deprecated. Use DataFrame.map instead.\n",
      "  assert idx.applymap(lambda x: sep not in x).all().all() # It could complicate things it sep is already present\n"
     ]
    },
    {
     "name": "stdout",
     "output_type": "stream",
     "text": [
      "r7cw-67gs versnellingsbak_uitvoering\n"
     ]
    }
   ],
   "source": [
    "# Get sub apis from main api\n",
    "from_key = 'eeg_voertuigtypegoedkeuring'\n",
    "sub_apis,_,_ = get_sub_apis(rdw_per_confcode[from_key])\n",
    "Info = RdwInfo(full_confs, sub_apis[0], hidden_api_keys.socrata_apptoken)\n",
    "for api_name in sub_apis:\n",
    "    Info.set_api_name(api_name)\n",
    "    Info.process_api()\n",
    "    key = re.sub('\\s', '_', Info.metadata_['name'].lower())\n",
    "    key = re.sub(f'^{from_key}_', '', key)\n",
    "    rdw_per_confcode[key] = Info.get_df().copy()\n",
    "    print(api_name, key)"
   ]
  },
  {
   "cell_type": "markdown",
   "metadata": {},
   "source": [
    "Merge dataframes from conformity codes apis"
   ]
  },
  {
   "cell_type": "code",
   "execution_count": null,
   "metadata": {
    "tags": [
     "nbconvert_instruction:remove_all_outputs"
    ]
   },
   "outputs": [],
   "source": [
    "print('x: Data can be merged. (should be unique, 4 level key and contain data)')\n",
    "full_codes = dict()\n",
    "for k, df in rdw_per_confcode.items():\n",
    "    if (k != 'conformity_codes') and (df.index.nlevels == 4) and (df.index.is_unique):\n",
    "        assert df.index.names == ['eu_type_goedkeuringssleutel', 'eeg_variantcode', 'eeg_uitvoeringscode', 'uitvoering_wijzigingsnummer']\n",
    "        df.reset_index(inplace=True)\n",
    "        df.uitvoering_wijzigingsnummer = df.uitvoering_wijzigingsnummer.astype(int).astype(str)\n",
    "        df.set_index(['eu_type_goedkeuringssleutel', 'eeg_variantcode', 'eeg_uitvoeringscode', 'uitvoering_wijzigingsnummer'], inplace=True)\n",
    "        full_codes[k] = df\n",
    "        print(f'[x] {k:64s}', end='')\n",
    "    else:\n",
    "        print(f'[ ] {k:64s}', end='')\n",
    "\n",
    "    print({True: '[idx: unique    ]', False: '[idx: NOT unique]'}[df.index.is_unique],\n",
    "          f'[keys: {df.index.nlevels}]', \n",
    "          f'[shape: {df.shape[0]:3.0f},{df.shape[1]:3.0f}]'\n",
    "         )"
   ]
  },
  {
   "cell_type": "code",
   "execution_count": null,
   "metadata": {
    "tags": [
     "nbconvert_instruction:remove_all_outputs"
    ]
   },
   "outputs": [],
   "source": [
    "# merge\n",
    "out = pd.concat(full_codes, axis=1)\n",
    "display(out.loc[:, (slice(None), 'TimeStamp')].bfill(axis=0).iloc[0,:].to_frame())"
   ]
  },
  {
   "cell_type": "code",
   "execution_count": null,
   "metadata": {
    "tags": [
     "nbconvert_instruction:remove_all_outputs"
    ]
   },
   "outputs": [],
   "source": [
    "# Save\n",
    "file_name = f'{DATA_DIR}/auctions/enriched-results/rdw-conf/rdw-conf-0-data-{auction_month}-{month_counter}.pkl'\n",
    "\n",
    "if NO_PRICE:\n",
    "    file_name = file_name.replace('.pkl', '-without-price.pkl')\n",
    "if OPBOD:\n",
    "    file_name = file_name.replace('.pkl', '-opbod.pkl')\n",
    "    \n",
    "if (SKIPSAVE==False) and (not(os.path.isfile(file_name))):\n",
    "    print(file_name)\n",
    "    out.to_pickle(file_name)\n",
    "else:\n",
    "    print(f'Skip. {file_name} exists or saving is disabled in settings.')"
   ]
  },
  {
   "cell_type": "markdown",
   "metadata": {},
   "source": [
    "<a href=\"#rdw_top\" id='rdw_ovi'><font size=+1><center>^^ TOP ^^</center></font></a>\n",
    "\n",
    "---"
   ]
  },
  {
   "cell_type": "markdown",
   "metadata": {},
   "source": [
    "# Data from rdw website (OVI)\n",
    "Optionally get data from rdw website"
   ]
  },
  {
   "cell_type": "code",
   "execution_count": null,
   "metadata": {
    "slideshow": {
     "slide_type": ""
    },
    "tags": [
     "nbconvert_instruction:remove_all_outputs"
    ]
   },
   "outputs": [],
   "source": [
    "if OVIDATA == False:\n",
    "    rdw_ovi = None\n",
    "else:\n",
    "    regs = rdw_per_reg['registrations'].Reg.to_list()\n",
    "    Info = OviInfo(regs, verbose=VERBOSE)\n",
    "    Info.process_api()\n",
    "    print(Info)\n",
    "\n",
    "    rdw_ovi = Info.data_.copy()\n",
    "    # make fields lowercase and add \"ovi_\"\n",
    "    rdw_ovi.index.name='kenteken'\n",
    "    rdw_ovi.columns = [re.sub(r'([A-Z])',r'_\\1', c).lower() if c != 'TimeStamp' else c for c in rdw_ovi.columns] # after capital, add _ \n",
    "    rdw_ovi.columns = [re.sub(r'^_','', c) for c in rdw_ovi.columns] # remove trailing _\n",
    "    # Basic operations\n",
    "    rdw_ovi = pd.concat(\n",
    "        [rdw_ovi, \n",
    "         rdw_ovi.eigenaren.str.split('/', expand=True).rename(columns = {0: 'eigenaren_private', 1: 'eigenaren_company'}).astype('Int8')\n",
    "        ], axis=1)\n",
    "    rdw_ovi['eigenaren_total'] = rdw_ovi.eigenaren_private + rdw_ovi.eigenaren_company\n",
    "    #rdw_ovi['ovi_wachten_op_keuring_ind'] = rdw_ovi.ovi_wachten_op_keuring.apply(lambda x: {'Ja': True, 'Nee': False}[x] if isinstance(x, str) else x).astype('boolean')\n",
    "\n",
    "    if VERBOSE > 1:\n",
    "        rdw_ovi\n",
    "    else:\n",
    "        print(rdw_ovi.shape)"
   ]
  },
  {
   "cell_type": "raw",
   "metadata": {},
   "source": [
    "rdw_ovi = Info.data_.copy()\n",
    "# make fields lowercase and add \"ovi_\"\n",
    "rdw_ovi.index.name='kenteken'\n",
    "rdw_ovi.columns = [re.sub(r'([A-Z])',r'_\\1', c).lower() if c != 'TimeStamp' else c for c in rdw_ovi.columns]\n",
    "rdw_ovi.columns = [re.sub(r'^_','', c) for c in rdw_ovi.columns]\n",
    "rdw_ovi"
   ]
  },
  {
   "cell_type": "code",
   "execution_count": 22,
   "metadata": {},
   "outputs": [],
   "source": [
    "out = rdw_ovi.copy()"
   ]
  },
  {
   "cell_type": "code",
   "execution_count": null,
   "metadata": {
    "tags": [
     "nbconvert_instruction:remove_all_outputs"
    ]
   },
   "outputs": [],
   "source": [
    "# Save\n",
    "file_name = f'{DATA_DIR}/auctions/enriched-results/rdw-ovi/rdw-ovi-0-data-{auction_month}-{month_counter}.pkl'\n",
    "\n",
    "if NO_PRICE:\n",
    "    file_name = file_name.replace('.pkl', '-without-price.pkl')\n",
    "if OPBOD:\n",
    "    file_name = file_name.replace('.pkl', '-opbod.pkl')\n",
    "    \n",
    "if (SKIPSAVE==False) and (not(os.path.isfile(file_name))):\n",
    "    print(file_name)\n",
    "    out.to_pickle(file_name)\n",
    "else:\n",
    "    print(f'Skip. {file_name} exists or saving is disabled in settings.')"
   ]
  },
  {
   "cell_type": "markdown",
   "metadata": {},
   "source": [
    "<a href=\"#rdw_top\" id='rdw_merge'><font size=+1><center>^^ TOP ^^</center></font></a>\n",
    "\n",
    "---"
   ]
  },
  {
   "cell_type": "markdown",
   "metadata": {},
   "source": [
    "# Data from The National Highway Traffic Safety Administration (NHTSA)\n",
    "Based on VIN. Product Information Catalog and Vehicle Listing (vPIC)\n",
    "https://vpic.nhtsa.dot.gov/api/"
   ]
  },
  {
   "cell_type": "code",
   "execution_count": 24,
   "metadata": {},
   "outputs": [],
   "source": [
    "from vin_lookup import Nhtsa_batch"
   ]
  },
  {
   "cell_type": "code",
   "execution_count": 25,
   "metadata": {},
   "outputs": [],
   "source": [
    "# empty dictionary\n",
    "nhtsa_per_vin = dict()"
   ]
  },
  {
   "cell_type": "code",
   "execution_count": null,
   "metadata": {
    "slideshow": {
     "slide_type": ""
    },
    "tags": [
     "nbconvert_instruction:remove_all_outputs"
    ]
   },
   "outputs": [],
   "source": [
    "key = 'vpic'\n",
    "df_ =  drz.loc[:, ['Vin', 'Mfyear']].copy().replace({'': np.NaN, 'onbekend': np.NaN}) # copy from drz\n",
    "\n",
    "# borrow mfyear from rdw info\n",
    "rdw_mfy = pd.merge(  left = rdw_per_reg['registrations'].reset_index(),\n",
    "                     right = rdw_per_reg['gekentekende_voertuigen'].datum_eerste_toelating.reset_index(),\n",
    "                     how='left',\n",
    "                     right_on='kenteken',\n",
    "                     left_on='kenteken'\n",
    "                    ).loc[:, ['lot_index', 'datum_eerste_toelating']].set_index('lot_index')\n",
    "df_ =  pd.concat([df_, (rdw_mfy // 10000).astype(pd.Int16Dtype())], axis=1)\n",
    "df_.update(df_.loc[:, ['Mfyear', 'datum_eerste_toelating']].bfill(axis=1))\n",
    "df_.rename(columns={'Vin': 'VIN', 'Mfyear': 'MFY'}, inplace=True)\n",
    "nhtsa_per_vin[key] = df_.loc[:, ['VIN', 'MFY']]\n",
    "\n",
    "# lookup vins in batches\n",
    "Batch = Nhtsa_batch(nhtsa_per_vin[key].iloc[:,:2].dropna(subset='VIN'), \n",
    "                    data_dict_fn = f\"{cfg['FILE_LOCATION']['code_dir']}/assets/nhtsa-data-dict.csv\",\n",
    "                    verbose=VERBOSE)\n",
    "Batch.full_parse()\n",
    "out = Batch.data.copy()\n",
    "\n",
    "# store in dict\n",
    "nhtsa_per_vin[key] = pd.concat([\n",
    "    nhtsa_per_vin[key],\n",
    "    out.drop(columns=out.columns[out.columns.str.startswith('system') | out.columns.str.startswith('internal')])\n",
    "], axis=1)\n",
    "\n",
    "if VERBOSE > 1:\n",
    "    display(nhtsa_per_vin[key])\n",
    "else:\n",
    "    print('\\n'.join(nhtsa_per_vin.keys()))"
   ]
  },
  {
   "cell_type": "code",
   "execution_count": 27,
   "metadata": {},
   "outputs": [],
   "source": [
    "# Merge with input\n",
    "nhtsa_per_vin['vpic'].index.name = 'lot_index'\n",
    "Batch.data.index.name = 'lot_index'\n",
    "df_vins = pd.concat([\n",
    "    nhtsa_per_vin['vpic'].loc[:, ['VIN', 'MFY']], \n",
    "    Batch.data\n",
    "], axis = 1)\n",
    "# add timestamp\n",
    "df_vins.loc[:, 'TimeStamp'] = pd.Timestamp.now().strftime('%Y%m%d')\n",
    "df_vins = df_vins.reset_index().set_index(['VIN', 'MFY'])"
   ]
  },
  {
   "cell_type": "code",
   "execution_count": null,
   "metadata": {
    "tags": [
     "nbconvert_instruction:remove_all_outputs"
    ]
   },
   "outputs": [],
   "source": [
    "# Save\n",
    "file_name = f'{DATA_DIR}/auctions/enriched-results/nhtsa-vpic/nhtsa-vpic-0-data-{auction_month}-{month_counter}.pkl'\n",
    "\n",
    "if NO_PRICE:\n",
    "    file_name = file_name.replace('.pkl', '-without-price.pkl')\n",
    "if OPBOD:\n",
    "    file_name = file_name.replace('.pkl', '-opbod.pkl')\n",
    "    \n",
    "if (SKIPSAVE==False) and (not(os.path.isfile(file_name))):\n",
    "    print(file_name)\n",
    "    out.to_pickle(file_name)\n",
    "else:\n",
    "    print(f'Skip. {file_name} exists or saving is disabled in settings.')"
   ]
  },
  {
   "cell_type": "markdown",
   "metadata": {
    "tags": []
   },
   "source": [
    "# Merge datasets\n",
    "Now we have a couple of dataset that can be merged.\n",
    "\n",
    "`rdw_per_reg` dictionary  \n",
    "`rdw_per_confcode` combined in another dictionary `full_codes`  \n",
    "`rdw_ovi` a single dataframe  \n",
    "`nhtsa_per_vin` has only one field and is combined in dataframe `df_vins`  \n",
    "\n",
    "\n",
    "1. Merge dataframes from `rdw_per_reg` with primary key `kenteken`\n",
    "2. \n",
    "    1) Add conformity codes from `rdw_per_confcode`\n",
    "    2) Add basic conformity info from `rdw_per_confcode.eeg_voertuigtypegoedkeuring`\n",
    "3. Merge all conformity code information from other apis `full_codes`\n",
    "4. Merge with OVI\n",
    "5. Merge with vpic (nhtsa)\n",
    "6. Merge with auction results\n"
   ]
  },
  {
   "cell_type": "code",
   "execution_count": null,
   "metadata": {
    "tags": [
     "nbconvert_instruction:remove_all_outputs"
    ]
   },
   "outputs": [],
   "source": [
    "# Merge first set\n",
    "rich = pd.concat(rdw_per_reg, axis=1)\n",
    "rich = pd.concat([rich], keys=['rdw'], axis=1)\n",
    "rich.index.name='kenteken'\n",
    "print(rich.shape, )\n",
    "\n",
    "# Add conformity_codes\n",
    "codes = rdw_per_confcode['conformity_codes'].reset_index().set_index('kenteken')\n",
    "codes = pd.concat([codes], keys=['conformity_codes'], axis=1)\n",
    "codes = pd.concat([codes], keys=['rdw'], axis=1)\n",
    "rich = rich.merge(\n",
    "    codes, # add level\n",
    "    how='outer',\n",
    "    left_index = True,\n",
    "    right_index = True,\n",
    ")\n",
    "print(rich.shape)\n",
    "\n",
    "# Add basic conformity info\n",
    "codes = rdw_per_confcode['eeg_voertuigtypegoedkeuring'].reset_index()\n",
    "# add levels\n",
    "codes = pd.concat([codes], keys=['eeg_voertuigtypegoedkeuring'], axis=1)\n",
    "codes = pd.concat([codes], keys=['rdw'], axis=1)\n",
    "rich = rich.reset_index().merge(\n",
    "    codes, \n",
    "    how='outer',\n",
    "    left_on = [('rdw', 'conformity_codes', 'typegoedkeuringsnummer')],\n",
    "    right_on = [('rdw', 'eeg_voertuigtypegoedkeuring', 'typegoedkeuringsnummer')],\n",
    ").set_index('kenteken')\n",
    "print(rich.shape)\n",
    "\n",
    "# Add full_codes\n",
    "codes = pd.concat(full_codes, axis=1)#.drop(columns='conformity_codes')\n",
    "codes = pd.concat([codes], keys=['rdw'], axis=1)\n",
    "rich = rich.merge(\n",
    "    codes,\n",
    "    how='outer',\n",
    "    left_on = [('rdw', 'conformity_codes', c) for c in codes.index.names],\n",
    "    right_index=True\n",
    ")\n",
    "print(rich.shape)\n",
    "\n",
    "# Add ovi\n",
    "codes = pd.concat([rdw_ovi], keys=['ovi'], axis=1)\n",
    "codes = pd.concat([codes], keys=['rdw'], axis=1)\n",
    "rich = rich.merge(\n",
    "    codes,\n",
    "    how='outer',\n",
    "    left_index = True,\n",
    "    right_index = True,\n",
    ")\n",
    "print(rich.shape)\n",
    "\n",
    "# Add vpic\n",
    "codes = pd.concat(nhtsa_per_vin, axis=1)\n",
    "codes = pd.concat([codes], keys=['nhtsa'], axis=1)\n",
    "rich = rich.reset_index().merge(\n",
    "    codes,\n",
    "    how='outer',\n",
    "    left_on = [('rdw', 'registrations', 'lot_index')],\n",
    "    right_index = True,\n",
    ").set_index(('rdw', 'registrations', 'lot_index'))\n",
    "rich.index.name = 'lot_index'\n",
    "print(rich.shape)"
   ]
  },
  {
   "cell_type": "code",
   "execution_count": 30,
   "metadata": {},
   "outputs": [
    {
     "data": {
      "text/html": [
       "<div>\n",
       "<style scoped>\n",
       "    .dataframe tbody tr th:only-of-type {\n",
       "        vertical-align: middle;\n",
       "    }\n",
       "\n",
       "    .dataframe tbody tr th {\n",
       "        vertical-align: top;\n",
       "    }\n",
       "\n",
       "    .dataframe thead tr th {\n",
       "        text-align: left;\n",
       "    }\n",
       "\n",
       "    .dataframe thead tr:last-of-type th {\n",
       "        text-align: right;\n",
       "    }\n",
       "</style>\n",
       "<table border=\"1\" class=\"dataframe\">\n",
       "  <thead>\n",
       "    <tr>\n",
       "      <th></th>\n",
       "      <th>kenteken</th>\n",
       "      <th colspan=\"9\" halign=\"left\">rdw</th>\n",
       "      <th>...</th>\n",
       "      <th colspan=\"10\" halign=\"left\">nhtsa</th>\n",
       "    </tr>\n",
       "    <tr>\n",
       "      <th></th>\n",
       "      <th></th>\n",
       "      <th colspan=\"2\" halign=\"left\">registrations</th>\n",
       "      <th colspan=\"7\" halign=\"left\">gekentekende_voertuigen</th>\n",
       "      <th>...</th>\n",
       "      <th colspan=\"10\" halign=\"left\">vpic</th>\n",
       "    </tr>\n",
       "    <tr>\n",
       "      <th></th>\n",
       "      <th></th>\n",
       "      <th>Reg</th>\n",
       "      <th>LotType</th>\n",
       "      <th>voertuigsoort</th>\n",
       "      <th>merk</th>\n",
       "      <th>handelsbenaming</th>\n",
       "      <th>vervaldatum_apk</th>\n",
       "      <th>datum_tenaamstelling</th>\n",
       "      <th>bruto_bpm</th>\n",
       "      <th>inrichting</th>\n",
       "      <th>...</th>\n",
       "      <th>engine___turbo</th>\n",
       "      <th>engine___valvetraindesign</th>\n",
       "      <th>general___vehicletype</th>\n",
       "      <th>exterior_dimension__wheelbaselong</th>\n",
       "      <th>exterior_dimension__wheelbaseshort</th>\n",
       "      <th>exterior_body__wheelbasetype</th>\n",
       "      <th>exterior_wheeltire__wheelsizefront</th>\n",
       "      <th>exterior_wheeltire__wheelsizerear</th>\n",
       "      <th>exterior_wheeltire__wheels</th>\n",
       "      <th>exterior_body__windows</th>\n",
       "    </tr>\n",
       "    <tr>\n",
       "      <th>lot_index</th>\n",
       "      <th></th>\n",
       "      <th></th>\n",
       "      <th></th>\n",
       "      <th></th>\n",
       "      <th></th>\n",
       "      <th></th>\n",
       "      <th></th>\n",
       "      <th></th>\n",
       "      <th></th>\n",
       "      <th></th>\n",
       "      <th></th>\n",
       "      <th></th>\n",
       "      <th></th>\n",
       "      <th></th>\n",
       "      <th></th>\n",
       "      <th></th>\n",
       "      <th></th>\n",
       "      <th></th>\n",
       "      <th></th>\n",
       "      <th></th>\n",
       "      <th></th>\n",
       "    </tr>\n",
       "  </thead>\n",
       "  <tbody>\n",
       "    <tr>\n",
       "      <th>2024-13-1800</th>\n",
       "      <td>62MGJK</td>\n",
       "      <td>62-MG-JK</td>\n",
       "      <td>Motorfiets</td>\n",
       "      <td>Motorfiets</td>\n",
       "      <td>PIAGGIO</td>\n",
       "      <td>BEVERLY 500</td>\n",
       "      <td>NaN</td>\n",
       "      <td>20240618.0</td>\n",
       "      <td>786.0</td>\n",
       "      <td>Niet geregistreerd</td>\n",
       "      <td>...</td>\n",
       "      <td>NaN</td>\n",
       "      <td>NaN</td>\n",
       "      <td>MOTORCYCLE</td>\n",
       "      <td>NaN</td>\n",
       "      <td>NaN</td>\n",
       "      <td>NaN</td>\n",
       "      <td>NaN</td>\n",
       "      <td>NaN</td>\n",
       "      <td>NaN</td>\n",
       "      <td>NaN</td>\n",
       "    </tr>\n",
       "    <tr>\n",
       "      <th>2024-13-1801</th>\n",
       "      <td>09MBBG</td>\n",
       "      <td>09-MB-BG</td>\n",
       "      <td>Motorfiets</td>\n",
       "      <td>Motorfiets</td>\n",
       "      <td>SUZUKI</td>\n",
       "      <td>GSX-R600</td>\n",
       "      <td>NaN</td>\n",
       "      <td>20240612.0</td>\n",
       "      <td>1388.0</td>\n",
       "      <td>Niet geregistreerd</td>\n",
       "      <td>...</td>\n",
       "      <td>NaN</td>\n",
       "      <td>NaN</td>\n",
       "      <td>MOTORCYCLE</td>\n",
       "      <td>NaN</td>\n",
       "      <td>NaN</td>\n",
       "      <td>NaN</td>\n",
       "      <td>NaN</td>\n",
       "      <td>NaN</td>\n",
       "      <td>NaN</td>\n",
       "      <td>NaN</td>\n",
       "    </tr>\n",
       "    <tr>\n",
       "      <th>2024-13-1802</th>\n",
       "      <td>05MJSG</td>\n",
       "      <td>05-MJ-SG</td>\n",
       "      <td>Motorfiets</td>\n",
       "      <td>Motorfiets</td>\n",
       "      <td>PIAGGIO</td>\n",
       "      <td>M34</td>\n",
       "      <td>NaN</td>\n",
       "      <td>20240612.0</td>\n",
       "      <td>449.0</td>\n",
       "      <td>Niet geregistreerd</td>\n",
       "      <td>...</td>\n",
       "      <td>NaN</td>\n",
       "      <td>NaN</td>\n",
       "      <td>MOTORCYCLE</td>\n",
       "      <td>NaN</td>\n",
       "      <td>NaN</td>\n",
       "      <td>NaN</td>\n",
       "      <td>NaN</td>\n",
       "      <td>NaN</td>\n",
       "      <td>NaN</td>\n",
       "      <td>NaN</td>\n",
       "    </tr>\n",
       "    <tr>\n",
       "      <th>2024-13-1803</th>\n",
       "      <td>FRT03D</td>\n",
       "      <td>FRT-03-D</td>\n",
       "      <td>Bromfiets</td>\n",
       "      <td>Bromfiets</td>\n",
       "      <td>YADEA</td>\n",
       "      <td>E8S</td>\n",
       "      <td>NaN</td>\n",
       "      <td>20240603.0</td>\n",
       "      <td>NaN</td>\n",
       "      <td>N.v.t.</td>\n",
       "      <td>...</td>\n",
       "      <td>NaN</td>\n",
       "      <td>NaN</td>\n",
       "      <td>MOTORCYCLE</td>\n",
       "      <td>NaN</td>\n",
       "      <td>NaN</td>\n",
       "      <td>NaN</td>\n",
       "      <td>NaN</td>\n",
       "      <td>NaN</td>\n",
       "      <td>NaN</td>\n",
       "      <td>NaN</td>\n",
       "    </tr>\n",
       "    <tr>\n",
       "      <th>2024-13-1804</th>\n",
       "      <td>F509LS</td>\n",
       "      <td>F-509-LS</td>\n",
       "      <td>Bromfiets</td>\n",
       "      <td>Bromfiets</td>\n",
       "      <td>PIAGGIO</td>\n",
       "      <td>N/A</td>\n",
       "      <td>NaN</td>\n",
       "      <td>20240603.0</td>\n",
       "      <td>NaN</td>\n",
       "      <td>N.v.t.</td>\n",
       "      <td>...</td>\n",
       "      <td>NaN</td>\n",
       "      <td>NaN</td>\n",
       "      <td>NaN</td>\n",
       "      <td>NaN</td>\n",
       "      <td>NaN</td>\n",
       "      <td>NaN</td>\n",
       "      <td>NaN</td>\n",
       "      <td>NaN</td>\n",
       "      <td>NaN</td>\n",
       "      <td>NaN</td>\n",
       "    </tr>\n",
       "    <tr>\n",
       "      <th>...</th>\n",
       "      <td>...</td>\n",
       "      <td>...</td>\n",
       "      <td>...</td>\n",
       "      <td>...</td>\n",
       "      <td>...</td>\n",
       "      <td>...</td>\n",
       "      <td>...</td>\n",
       "      <td>...</td>\n",
       "      <td>...</td>\n",
       "      <td>...</td>\n",
       "      <td>...</td>\n",
       "      <td>...</td>\n",
       "      <td>...</td>\n",
       "      <td>...</td>\n",
       "      <td>...</td>\n",
       "      <td>...</td>\n",
       "      <td>...</td>\n",
       "      <td>...</td>\n",
       "      <td>...</td>\n",
       "      <td>...</td>\n",
       "      <td>...</td>\n",
       "    </tr>\n",
       "    <tr>\n",
       "      <th>2024-13-9016</th>\n",
       "      <td>KR1746</td>\n",
       "      <td>KR-17-46</td>\n",
       "      <td>Vrachtwagen</td>\n",
       "      <td>NaN</td>\n",
       "      <td>NaN</td>\n",
       "      <td>NaN</td>\n",
       "      <td>NaN</td>\n",
       "      <td>NaN</td>\n",
       "      <td>NaN</td>\n",
       "      <td>NaN</td>\n",
       "      <td>...</td>\n",
       "      <td>NaN</td>\n",
       "      <td>NaN</td>\n",
       "      <td>NaN</td>\n",
       "      <td>NaN</td>\n",
       "      <td>NaN</td>\n",
       "      <td>NaN</td>\n",
       "      <td>NaN</td>\n",
       "      <td>NaN</td>\n",
       "      <td>NaN</td>\n",
       "      <td>NaN</td>\n",
       "    </tr>\n",
       "    <tr>\n",
       "      <th>2024-13-9017</th>\n",
       "      <td>05KL78</td>\n",
       "      <td>05-KL-78</td>\n",
       "      <td>Bedrijfswagen</td>\n",
       "      <td>NaN</td>\n",
       "      <td>NaN</td>\n",
       "      <td>NaN</td>\n",
       "      <td>NaN</td>\n",
       "      <td>NaN</td>\n",
       "      <td>NaN</td>\n",
       "      <td>NaN</td>\n",
       "      <td>...</td>\n",
       "      <td>NaN</td>\n",
       "      <td>NaN</td>\n",
       "      <td>NaN</td>\n",
       "      <td>NaN</td>\n",
       "      <td>NaN</td>\n",
       "      <td>NaN</td>\n",
       "      <td>NaN</td>\n",
       "      <td>NaN</td>\n",
       "      <td>NaN</td>\n",
       "      <td>NaN</td>\n",
       "    </tr>\n",
       "    <tr>\n",
       "      <th>2024-13-9018</th>\n",
       "      <td>KR2579</td>\n",
       "      <td>KR-25-79</td>\n",
       "      <td>Vrachtwagen</td>\n",
       "      <td>NaN</td>\n",
       "      <td>NaN</td>\n",
       "      <td>NaN</td>\n",
       "      <td>NaN</td>\n",
       "      <td>NaN</td>\n",
       "      <td>NaN</td>\n",
       "      <td>NaN</td>\n",
       "      <td>...</td>\n",
       "      <td>NaN</td>\n",
       "      <td>NaN</td>\n",
       "      <td>NaN</td>\n",
       "      <td>NaN</td>\n",
       "      <td>NaN</td>\n",
       "      <td>NaN</td>\n",
       "      <td>NaN</td>\n",
       "      <td>NaN</td>\n",
       "      <td>NaN</td>\n",
       "      <td>NaN</td>\n",
       "    </tr>\n",
       "    <tr>\n",
       "      <th>2024-13-9019</th>\n",
       "      <td>LM9206</td>\n",
       "      <td>LM-92-06</td>\n",
       "      <td>Aanhangwagen (Type aanhangwagen tbv 20 ft cont...</td>\n",
       "      <td>NaN</td>\n",
       "      <td>NaN</td>\n",
       "      <td>NaN</td>\n",
       "      <td>NaN</td>\n",
       "      <td>NaN</td>\n",
       "      <td>NaN</td>\n",
       "      <td>NaN</td>\n",
       "      <td>...</td>\n",
       "      <td>NaN</td>\n",
       "      <td>NaN</td>\n",
       "      <td>NaN</td>\n",
       "      <td>NaN</td>\n",
       "      <td>NaN</td>\n",
       "      <td>NaN</td>\n",
       "      <td>NaN</td>\n",
       "      <td>NaN</td>\n",
       "      <td>NaN</td>\n",
       "      <td>NaN</td>\n",
       "    </tr>\n",
       "    <tr>\n",
       "      <th>2024-13-9700</th>\n",
       "      <td>NaN</td>\n",
       "      <td>NaN</td>\n",
       "      <td>NaN</td>\n",
       "      <td>NaN</td>\n",
       "      <td>NaN</td>\n",
       "      <td>NaN</td>\n",
       "      <td>NaN</td>\n",
       "      <td>NaN</td>\n",
       "      <td>NaN</td>\n",
       "      <td>NaN</td>\n",
       "      <td>...</td>\n",
       "      <td>NaN</td>\n",
       "      <td>NaN</td>\n",
       "      <td>NaN</td>\n",
       "      <td>NaN</td>\n",
       "      <td>NaN</td>\n",
       "      <td>NaN</td>\n",
       "      <td>NaN</td>\n",
       "      <td>NaN</td>\n",
       "      <td>NaN</td>\n",
       "      <td>NaN</td>\n",
       "    </tr>\n",
       "  </tbody>\n",
       "</table>\n",
       "<p>108 rows × 1582 columns</p>\n",
       "</div>"
      ],
      "text/plain": [
       "             kenteken           rdw  \\\n",
       "                      registrations   \n",
       "                                Reg   \n",
       "lot_index                             \n",
       "2024-13-1800   62MGJK      62-MG-JK   \n",
       "2024-13-1801   09MBBG      09-MB-BG   \n",
       "2024-13-1802   05MJSG      05-MJ-SG   \n",
       "2024-13-1803   FRT03D      FRT-03-D   \n",
       "2024-13-1804   F509LS      F-509-LS   \n",
       "...               ...           ...   \n",
       "2024-13-9016   KR1746      KR-17-46   \n",
       "2024-13-9017   05KL78      05-KL-78   \n",
       "2024-13-9018   KR2579      KR-25-79   \n",
       "2024-13-9019   LM9206      LM-92-06   \n",
       "2024-13-9700      NaN           NaN   \n",
       "\n",
       "                                                                 \\\n",
       "                                                                  \n",
       "                                                        LotType   \n",
       "lot_index                                                         \n",
       "2024-13-1800                                         Motorfiets   \n",
       "2024-13-1801                                         Motorfiets   \n",
       "2024-13-1802                                         Motorfiets   \n",
       "2024-13-1803                                          Bromfiets   \n",
       "2024-13-1804                                          Bromfiets   \n",
       "...                                                         ...   \n",
       "2024-13-9016                                        Vrachtwagen   \n",
       "2024-13-9017                                      Bedrijfswagen   \n",
       "2024-13-9018                                        Vrachtwagen   \n",
       "2024-13-9019  Aanhangwagen (Type aanhangwagen tbv 20 ft cont...   \n",
       "2024-13-9700                                                NaN   \n",
       "\n",
       "                                                                               \\\n",
       "             gekentekende_voertuigen                                            \n",
       "                       voertuigsoort     merk handelsbenaming vervaldatum_apk   \n",
       "lot_index                                                                       \n",
       "2024-13-1800              Motorfiets  PIAGGIO     BEVERLY 500             NaN   \n",
       "2024-13-1801              Motorfiets   SUZUKI        GSX-R600             NaN   \n",
       "2024-13-1802              Motorfiets  PIAGGIO             M34             NaN   \n",
       "2024-13-1803               Bromfiets    YADEA             E8S             NaN   \n",
       "2024-13-1804               Bromfiets  PIAGGIO             N/A             NaN   \n",
       "...                              ...      ...             ...             ...   \n",
       "2024-13-9016                     NaN      NaN             NaN             NaN   \n",
       "2024-13-9017                     NaN      NaN             NaN             NaN   \n",
       "2024-13-9018                     NaN      NaN             NaN             NaN   \n",
       "2024-13-9019                     NaN      NaN             NaN             NaN   \n",
       "2024-13-9700                     NaN      NaN             NaN             NaN   \n",
       "\n",
       "                                                                 ...  \\\n",
       "                                                                 ...   \n",
       "             datum_tenaamstelling bruto_bpm          inrichting  ...   \n",
       "lot_index                                                        ...   \n",
       "2024-13-1800           20240618.0     786.0  Niet geregistreerd  ...   \n",
       "2024-13-1801           20240612.0    1388.0  Niet geregistreerd  ...   \n",
       "2024-13-1802           20240612.0     449.0  Niet geregistreerd  ...   \n",
       "2024-13-1803           20240603.0       NaN              N.v.t.  ...   \n",
       "2024-13-1804           20240603.0       NaN              N.v.t.  ...   \n",
       "...                           ...       ...                 ...  ...   \n",
       "2024-13-9016                  NaN       NaN                 NaN  ...   \n",
       "2024-13-9017                  NaN       NaN                 NaN  ...   \n",
       "2024-13-9018                  NaN       NaN                 NaN  ...   \n",
       "2024-13-9019                  NaN       NaN                 NaN  ...   \n",
       "2024-13-9700                  NaN       NaN                 NaN  ...   \n",
       "\n",
       "                      nhtsa                                                  \\\n",
       "                       vpic                                                   \n",
       "             engine___turbo engine___valvetraindesign general___vehicletype   \n",
       "lot_index                                                                     \n",
       "2024-13-1800            NaN                       NaN            MOTORCYCLE   \n",
       "2024-13-1801            NaN                       NaN            MOTORCYCLE   \n",
       "2024-13-1802            NaN                       NaN            MOTORCYCLE   \n",
       "2024-13-1803            NaN                       NaN            MOTORCYCLE   \n",
       "2024-13-1804            NaN                       NaN                   NaN   \n",
       "...                     ...                       ...                   ...   \n",
       "2024-13-9016            NaN                       NaN                   NaN   \n",
       "2024-13-9017            NaN                       NaN                   NaN   \n",
       "2024-13-9018            NaN                       NaN                   NaN   \n",
       "2024-13-9019            NaN                       NaN                   NaN   \n",
       "2024-13-9700            NaN                       NaN                   NaN   \n",
       "\n",
       "                                                \\\n",
       "                                                 \n",
       "             exterior_dimension__wheelbaselong   \n",
       "lot_index                                        \n",
       "2024-13-1800                               NaN   \n",
       "2024-13-1801                               NaN   \n",
       "2024-13-1802                               NaN   \n",
       "2024-13-1803                               NaN   \n",
       "2024-13-1804                               NaN   \n",
       "...                                        ...   \n",
       "2024-13-9016                               NaN   \n",
       "2024-13-9017                               NaN   \n",
       "2024-13-9018                               NaN   \n",
       "2024-13-9019                               NaN   \n",
       "2024-13-9700                               NaN   \n",
       "\n",
       "                                                                              \\\n",
       "                                                                               \n",
       "             exterior_dimension__wheelbaseshort exterior_body__wheelbasetype   \n",
       "lot_index                                                                      \n",
       "2024-13-1800                                NaN                          NaN   \n",
       "2024-13-1801                                NaN                          NaN   \n",
       "2024-13-1802                                NaN                          NaN   \n",
       "2024-13-1803                                NaN                          NaN   \n",
       "2024-13-1804                                NaN                          NaN   \n",
       "...                                         ...                          ...   \n",
       "2024-13-9016                                NaN                          NaN   \n",
       "2024-13-9017                                NaN                          NaN   \n",
       "2024-13-9018                                NaN                          NaN   \n",
       "2024-13-9019                                NaN                          NaN   \n",
       "2024-13-9700                                NaN                          NaN   \n",
       "\n",
       "                                                 \\\n",
       "                                                  \n",
       "             exterior_wheeltire__wheelsizefront   \n",
       "lot_index                                         \n",
       "2024-13-1800                                NaN   \n",
       "2024-13-1801                                NaN   \n",
       "2024-13-1802                                NaN   \n",
       "2024-13-1803                                NaN   \n",
       "2024-13-1804                                NaN   \n",
       "...                                         ...   \n",
       "2024-13-9016                                NaN   \n",
       "2024-13-9017                                NaN   \n",
       "2024-13-9018                                NaN   \n",
       "2024-13-9019                                NaN   \n",
       "2024-13-9700                                NaN   \n",
       "\n",
       "                                                                           \\\n",
       "                                                                            \n",
       "             exterior_wheeltire__wheelsizerear exterior_wheeltire__wheels   \n",
       "lot_index                                                                   \n",
       "2024-13-1800                               NaN                        NaN   \n",
       "2024-13-1801                               NaN                        NaN   \n",
       "2024-13-1802                               NaN                        NaN   \n",
       "2024-13-1803                               NaN                        NaN   \n",
       "2024-13-1804                               NaN                        NaN   \n",
       "...                                        ...                        ...   \n",
       "2024-13-9016                               NaN                        NaN   \n",
       "2024-13-9017                               NaN                        NaN   \n",
       "2024-13-9018                               NaN                        NaN   \n",
       "2024-13-9019                               NaN                        NaN   \n",
       "2024-13-9700                               NaN                        NaN   \n",
       "\n",
       "                                     \n",
       "                                     \n",
       "             exterior_body__windows  \n",
       "lot_index                            \n",
       "2024-13-1800                    NaN  \n",
       "2024-13-1801                    NaN  \n",
       "2024-13-1802                    NaN  \n",
       "2024-13-1803                    NaN  \n",
       "2024-13-1804                    NaN  \n",
       "...                             ...  \n",
       "2024-13-9016                    NaN  \n",
       "2024-13-9017                    NaN  \n",
       "2024-13-9018                    NaN  \n",
       "2024-13-9019                    NaN  \n",
       "2024-13-9700                    NaN  \n",
       "\n",
       "[108 rows x 1582 columns]"
      ]
     },
     "execution_count": 30,
     "metadata": {},
     "output_type": "execute_result"
    }
   ],
   "source": [
    "rich.columns.map(lambda x: '_'.join(x))\n",
    "rich"
   ]
  },
  {
   "cell_type": "code",
   "execution_count": 31,
   "metadata": {},
   "outputs": [],
   "source": [
    "existing = pd.concat([drz], keys=[''], axis=1)\n",
    "existing = pd.concat([existing], keys=['drz'], axis=1)\n",
    "enriched = pd.merge(\n",
    "    left = existing,\n",
    "    right = rich,\n",
    "    how = 'left',\n",
    "    left_index = True,\n",
    "    right_index = True\n",
    ")"
   ]
  },
  {
   "cell_type": "markdown",
   "metadata": {},
   "source": [
    "<a href=\"#rdw_top\" id='rdw_save'><font size=+1><center>^^ TOP ^^</center></font></a>\n",
    "\n",
    "---"
   ]
  },
  {
   "cell_type": "markdown",
   "metadata": {},
   "source": [
    "# Saving"
   ]
  },
  {
   "cell_type": "code",
   "execution_count": null,
   "metadata": {
    "tags": [
     "nbconvert_instruction:remove_all_outputs"
    ]
   },
   "outputs": [],
   "source": [
    "file_name = f'{DATA_DIR}/auctions/enriched-results/rdw-data-{auction_month}-{month_counter}.pkl'\n",
    "if NO_PRICE:\n",
    "    file_name = file_name.replace('.pkl', '-without-price.pkl')\n",
    "if OPBOD:\n",
    "    file_name = file_name.replace('.pkl', '-opbod.pkl')\n",
    "    \n",
    "if (SKIPSAVE==False) and (not(os.path.isfile(file_name))):\n",
    "    print(file_name)\n",
    "    enriched.to_pickle(file_name)\n",
    "else:\n",
    "    print(f'Skip. {file_name} exists or saving is disabled in settings.')"
   ]
  },
  {
   "cell_type": "markdown",
   "metadata": {},
   "source": [
    "# Next: download images (or parallel)\n",
    "\n",
    "Because images might be taken down from the drz site, it is advisable to run the notebook that downloads images soon."
   ]
  }
 ],
 "metadata": {
  "jupytext": {
   "formats": "ipynb,py:percent"
  },
  "kernelspec": {
   "display_name": "Python 3 (ipykernel)",
   "language": "python",
   "name": "python3"
  },
  "language_info": {
   "codemirror_mode": {
    "name": "ipython",
    "version": 3
   },
   "file_extension": ".py",
   "mimetype": "text/x-python",
   "name": "python",
   "nbconvert_exporter": "python",
   "pygments_lexer": "ipython3",
   "version": "3.10.12"
  },
  "toc-autonumbering": false,
  "toc-showcode": true,
  "toc-showmarkdowntxt": true
 },
 "nbformat": 4,
 "nbformat_minor": 4
}
