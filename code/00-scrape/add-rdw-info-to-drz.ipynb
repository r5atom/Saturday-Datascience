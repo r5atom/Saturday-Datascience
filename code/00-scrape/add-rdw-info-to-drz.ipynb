{
 "cells": [
  {
   "cell_type": "markdown",
   "metadata": {},
   "source": [
    "<a id='rdw_top'>"
   ]
  },
  {
   "cell_type": "markdown",
   "metadata": {
    "tags": []
   },
   "source": [
    "# Add extra information from RDW open data\n",
    "\n",
    "Query to the open data dataset of the RDW.\n",
    "\n",
    "\n",
    "1. <a href=\"#rdw_registrations\">Registration numbers</a>  \n",
    "    Apis with license plates as key\n",
    "2. <a href=\"#rdw_confcodes\">Conformity codes</a>  \n",
    "    Cars get a conformity code when certified.\n",
    "3. <a href=\"#rdw_other_apis\">Other APIs</a>  \n",
    "    Query all conformity codes in belonging to data set.\n",
    "4. <a href=\"#rdw_ovi\">Website data</a>  \n",
    "    Get data from OVI RDW website. This takes a while because of time out enforced by website. Use config to disable.\n",
    "5. <a href=\"#rdw_merge\">Merge results</a>  \n",
    "    Combine all dataframes and save\n",
    "6. <a href=\"#rdw_save\">Save results</a>  \n",
    "- - - - "
   ]
  },
  {
   "cell_type": "markdown",
   "metadata": {},
   "source": [
    "### User variables\n"
   ]
  },
  {
   "cell_type": "code",
   "execution_count": null,
   "metadata": {
    "tags": [
     "nbconvert_instruction:remove_all_outputs"
    ]
   },
   "outputs": [],
   "source": [
    "import os\n",
    "# setting path\n",
    "os.chdir(r'..')\n",
    "\n",
    "import drz_config\n",
    "cfg = drz_config.read_config()\n",
    "DATE = cfg['DATE']\n",
    "VERBOSE = cfg['VERBOSE']\n",
    "OPBOD = cfg['OPBOD']\n",
    "OVIDATA = cfg['CLOSEDDATA']\n",
    "ovi_data_fields = cfg['closed_data_fields']\n",
    "SKIPSAVE = cfg['SKIPSAVE']\n",
    "if not OPBOD:\n",
    "    month_counter = cfg['URL'][-2:]\n",
    "else:\n",
    "    month_counter = cfg['URL'][-4:-2]\n",
    "\n",
    "QUICK_MERGE = False # check if rdw data already exist (ran when auction was still open)\n",
    "\n",
    "\n",
    "if VERBOSE > 0:\n",
    "    display(cfg)"
   ]
  },
  {
   "cell_type": "markdown",
   "metadata": {},
   "source": [
    "### Modules and functions"
   ]
  },
  {
   "cell_type": "code",
   "execution_count": 2,
   "metadata": {},
   "outputs": [
    {
     "name": "stdout",
     "output_type": "stream",
     "text": [
      "enjoy rdw_info\n"
     ]
    }
   ],
   "source": [
    "import pandas as pd\n",
    "import numpy as np\n",
    "import re \n",
    "import os\n",
    "# to keep api key hidden import this from sub dir\n",
    "import assets.hidden_api_keys as hidden_api_keys\n",
    "from rdw_info import *"
   ]
  },
  {
   "cell_type": "code",
   "execution_count": 3,
   "metadata": {},
   "outputs": [],
   "source": [
    "main_api = 'm9d7-ebf2'\n",
    "keur_api = 'vkij-7mwc'\n",
    "apk_api = 'sgfe-77wx'\n",
    "gebr_api = 'hx2c-gt7k'\n",
    "toe_api = 'sghb-dzxx'\n",
    "\n",
    "conf_api = '55kv-xf7m'"
   ]
  },
  {
   "cell_type": "markdown",
   "metadata": {},
   "source": [
    "### Load auction results"
   ]
  },
  {
   "cell_type": "raw",
   "metadata": {},
   "source": [
    "OPBOD = False\n",
    "NO_PRICE = False\n",
    "DATE = '2015-03'\n",
    "month_counter = ''\n",
    "file_name = f'../data/pdf-data-{DATE}.pkl'\n"
   ]
  },
  {
   "cell_type": "code",
   "execution_count": null,
   "metadata": {
    "tags": [
     "nbconvert_instruction:remove_all_outputs"
    ]
   },
   "outputs": [],
   "source": [
    "file_name = f'../data/auctions/results/drz-data-{DATE}-{month_counter}.pkl'\n",
    "if OPBOD:\n",
    "    file_name = file_name.replace('.pkl', '-opbod.pkl')\n",
    "if not os.path.isfile(file_name):\n",
    "    # see if -without price- exists\n",
    "    NO_PRICE = True\n",
    "    if OPBOD:\n",
    "        file_name = file_name.replace('-opbod.pkl', '-opbod-without-price.pkl')\n",
    "    else:\n",
    "        file_name = file_name.replace('.pkl', '-without-price.pkl')\n",
    "else:\n",
    "    NO_PRICE = False\n",
    "\n",
    "\n",
    "print(file_name)\n",
    "drz = pd.read_pickle(file_name)"
   ]
  },
  {
   "cell_type": "code",
   "execution_count": 5,
   "metadata": {},
   "outputs": [],
   "source": [
    "if QUICK_MERGE:\n",
    "    raise NotImplementedError"
   ]
  },
  {
   "cell_type": "markdown",
   "metadata": {},
   "source": [
    "### Collect number plate registrations"
   ]
  },
  {
   "cell_type": "code",
   "execution_count": null,
   "metadata": {
    "tags": [
     "nbconvert_instruction:remove_all_outputs"
    ]
   },
   "outputs": [],
   "source": [
    "# see what lots have a Dutch registration (license number).\n",
    "hasReg = (~drz.Reg.isnull()) & (drz.Reg != 'onbekend') & (drz.Reg != '') & (~drz.LotType.isin([\n",
    "    'Vaartuig',\n",
    "    'Jetski',\n",
    "    'Sloep',\n",
    "    'Speedboot',\n",
    "    'Vaartuig (Type onbekend)',\n",
    "    'Motorvaartuig met opbouw (Pleziervaartuig)',\n",
    "]))\n",
    "\n",
    "print('nr. of registrations:',sum(hasReg))\n",
    "\n",
    "# adhoc fix\n",
    "idx = '2022-08-5012' # check in pictures. reg is wrong\n",
    "if idx in drz.index:\n",
    "    drz.loc[idx, 'Reg'] = 'LM-82-14'\n",
    "idx = '2022-29-5001' # check in pictures. reg is wrong\n",
    "if idx in drz.index:\n",
    "    drz.loc[idx, 'Reg'] = 'LM-82-14'\n",
    "idx = '2022-29-2008' # check in pictures. reg is wrong\n",
    "if idx in drz.index:\n",
    "    drz.loc[idx, 'Reg'] = 'KT-05-40'\n",
    "\n",
    "\n",
    "\n",
    "vc = drz.loc[hasReg, 'Reg'].str.upper().str.replace('-','').value_counts()\n",
    "if any(vc > 1):\n",
    "    display(vc[vc>1])\n",
    "    display(drz[drz.Reg.str.upper().str.replace('-','').isin(vc[vc>1].index)])\n",
    "    raise ValueError('Registration occurs in more than one lot.')\n",
    "# assert all(vc == 1), [, display(vc[vc>1])]\n",
    "\n",
    "# # make a copy and add info\n",
    "# rdw = drz.copy()\n"
   ]
  },
  {
   "cell_type": "markdown",
   "metadata": {},
   "source": [
    "<a href=\"#rdw_top\" id='rdw_registrations'><font size=+1><center>^^ TOP ^^</center></font></a>\n",
    "\n",
    "---"
   ]
  },
  {
   "cell_type": "markdown",
   "metadata": {
    "tags": []
   },
   "source": [
    "# Main api \n",
    "\n",
    "The main api: `api_gekentekende_voertuigen` points to subsequent apis."
   ]
  },
  {
   "cell_type": "code",
   "execution_count": null,
   "metadata": {
    "tags": [
     "nbconvert_instruction:remove_all_outputs"
    ]
   },
   "outputs": [],
   "source": [
    "# empty dictionary\n",
    "rdw_per_reg = dict()\n",
    "\n",
    "# first element of dict is registrations\n",
    "key = 'registrations'\n",
    "rdw_per_reg[key] = drz.loc[hasReg,['Reg', 'LotType']].copy() # copy from drz\n",
    "rdw_per_reg[key]['kenteken'] = rdw_per_reg[key].Reg.apply(lambda r: r.replace('-','').upper())\n",
    "rdw_per_reg[key].index.name = 'lot_index'\n",
    "rdw_per_reg[key] = rdw_per_reg[key].reset_index().set_index('kenteken')\n",
    "with pd.option_context('display.max_rows', 999):\n",
    "    display(rdw_per_reg[key].reset_index().set_index(['LotType', 'kenteken']).sort_index())\n",
    "\n",
    "print('\\n'.join(rdw_per_reg.keys()))"
   ]
  },
  {
   "cell_type": "code",
   "execution_count": null,
   "metadata": {
    "tags": [
     "nbconvert_instruction:remove_all_outputs"
    ]
   },
   "outputs": [],
   "source": [
    "# Assess these registrations\n",
    "regs = rdw_per_reg['registrations'].Reg.values\n",
    "\n",
    "# Main rdw api\n",
    "Info = RdwInfo(regs, main_api, hidden_api_keys.socrata_apptoken)\n",
    "Info.process_api()\n",
    "key = re.sub('\\s', '_', Info.metadata_['name'].lower())\n",
    "rdw_per_reg[key] = Info.get_df().copy()\n",
    "print(Info)"
   ]
  },
  {
   "cell_type": "markdown",
   "metadata": {},
   "source": [
    "Sub apis"
   ]
  },
  {
   "cell_type": "code",
   "execution_count": 9,
   "metadata": {},
   "outputs": [
    {
     "name": "stdout",
     "output_type": "stream",
     "text": [
      "3huj-srit assen\n",
      "8ys7-d773 brandstof\n",
      "vezc-m2t6 carrosserie\n",
      "jhie-znh9 carrosserie_specificatie\n",
      "kmfi-hrps voertuigklasse\n",
      "3xwf-ince rupsbanden\n",
      "2ba7-embk subcategorie_voertuig\n",
      "7ug8-2dtt bijzonderheden\n",
      "t49b-isb7 terugroep_actie_status\n",
      "vkij-7mwc keuringen\n",
      "sgfe-77wx meldingen_keuringsinstantie\n",
      "sghb-dzxx toegevoegde_objecten\n",
      "a34c-vvps geconstateerde_gebreken\n",
      "hx2c-gt7k gebreken\n"
     ]
    }
   ],
   "source": [
    "# Get sub apis from main api\n",
    "from_key = 'gekentekende_voertuigen'\n",
    "sub_apis,_,_ = get_sub_apis(rdw_per_reg[from_key])\n",
    "# add extra apis\n",
    "sub_apis += ['3xwf-ince', '2ba7-embk', '7ug8-2dtt', 't49b-isb7', keur_api, apk_api, toe_api] #,'a34c-vvps', # some extra apis with registrations\n",
    "for api_name in sub_apis:\n",
    "    Info.set_api_name(api_name)\n",
    "    Info.process_api()\n",
    "    key = re.sub('\\s', '_', Info.metadata_['name'].lower())\n",
    "    key = re.sub(f'^{from_key}_', '', key)\n",
    "    rdw_per_reg[key] = Info.get_df().copy()\n",
    "    print(api_name, key)\n",
    "\n",
    "# Get apis from apk api\n",
    "from_key = 'meldingen_keuringsinstantie'\n",
    "sub_apis,_,_ = get_sub_apis(rdw_per_reg[from_key])\n",
    "for api_name in set(sub_apis):\n",
    "    Info.set_api_name(api_name)\n",
    "    Info.process_api()\n",
    "    key = re.sub('\\s', '_', Info.metadata_['name'].lower())\n",
    "    key = re.sub(f'^{from_key}_', '', key)\n",
    "    rdw_per_reg[key] = Info.get_df().copy()\n",
    "    print(api_name, key)\n"
   ]
  },
  {
   "cell_type": "markdown",
   "metadata": {},
   "source": [
    "add info from reference tables"
   ]
  },
  {
   "cell_type": "code",
   "execution_count": 10,
   "metadata": {},
   "outputs": [],
   "source": [
    "# Use reference table to add info\n",
    "df_left = rdw_per_reg['geconstateerde_gebreken'].copy()\n",
    "df_right = rdw_per_reg['gebreken'].copy()\n",
    "on_column = 'gebrek_identificatie'\n",
    "\n",
    "for left_column, left in df_left.loc[:, df_left.columns.str.startswith(on_column)].iteritems():\n",
    "    suffix = re.sub(on_column, '', left_column)\n",
    "    df_merge = pd.merge(\n",
    "        left=left.reset_index(),\n",
    "        right=df_right,\n",
    "        how='left',\n",
    "        left_on=left_column,\n",
    "        right_on=on_column,\n",
    "    ).set_index('kenteken')\n",
    "    df_merge = df_merge.drop(columns=[left_column, on_column, 'TimeStamp']).add_suffix(suffix)\n",
    "    df_left = df_left.merge(df_merge, left_index=True, right_index=True)\n",
    "\n",
    "# add extra table\n",
    "rdw_per_reg['geconstateerde_gebreken_met_beschrijving'] = df_left\n",
    "# clean up: \n",
    "#    remove reference table\n",
    "del rdw_per_reg['gebreken']\n",
    "#    remove table without description\n",
    "del rdw_per_reg['geconstateerde_gebreken']"
   ]
  },
  {
   "cell_type": "code",
   "execution_count": null,
   "metadata": {
    "tags": [
     "nbconvert_instruction:remove_all_outputs"
    ]
   },
   "outputs": [],
   "source": [
    "out = pd.concat(rdw_per_reg, axis=1)\n",
    "display(out.loc[:, (slice(None), 'TimeStamp')].bfill(axis=0).iloc[-1,:].to_frame())"
   ]
  },
  {
   "cell_type": "code",
   "execution_count": null,
   "metadata": {
    "tags": [
     "nbconvert_instruction:remove_all_outputs"
    ]
   },
   "outputs": [],
   "source": [
    "# Save\n",
    "file_name = f'../data/auctions/enriched-results/rdw-reg/rdw-reg-full-0-data-{DATE}-{month_counter}.pkl'\n",
    "\n",
    "if NO_PRICE:\n",
    "    file_name = file_name.replace('.pkl', '-without-price.pkl')\n",
    "if OPBOD:\n",
    "    file_name = file_name.replace('.pkl', '-opbod.pkl')\n",
    "    \n",
    "if (SKIPSAVE==False) and (not(os.path.isfile(file_name))):\n",
    "    print(file_name)\n",
    "    out.to_pickle(file_name)\n",
    "else:\n",
    "    print(f'Skip. {file_name} exists or saving is disabled in settings.')\n",
    "    "
   ]
  },
  {
   "cell_type": "markdown",
   "metadata": {},
   "source": [
    "<a href=\"#rdw_top\" id='rdw_confcodes'><font size=+1><center>^^ TOP ^^</center></font></a>\n",
    "\n",
    "---"
   ]
  },
  {
   "cell_type": "markdown",
   "metadata": {},
   "source": [
    "# Conformity codes"
   ]
  },
  {
   "cell_type": "code",
   "execution_count": null,
   "metadata": {
    "tags": [
     "nbconvert_instruction:remove_all_outputs"
    ]
   },
   "outputs": [],
   "source": [
    "# empty dict\n",
    "rdw_per_confcode = dict()\n",
    "# Conformity codes consists of four fields that make a composite key\n",
    "conf = rdw_per_reg['gekentekende_voertuigen'][[\n",
    "    'typegoedkeuringsnummer', \n",
    "    'uitvoering', \n",
    "    'variant', \n",
    "    'volgnummer_wijziging_eu_typegoedkeuring'\n",
    "]].copy()\n",
    "conf.dropna(inplace=True)\n",
    "\n",
    "# Add shorter key \"eu_type_goedkeuringssleutel\"\n",
    "conf = conf.merge(\n",
    "    how='left', \n",
    "    right=long_to_short_conf(conf.typegoedkeuringsnummer).drop_duplicates(), \n",
    "    left_on='typegoedkeuringsnummer', right_index=True\n",
    ")\n",
    "\n",
    "# rename fields\n",
    "conf.volgnummer_wijziging_eu_typegoedkeuring = conf.volgnummer_wijziging_eu_typegoedkeuring.astype('Int8').astype(str)\n",
    "conf.rename(columns={\n",
    "    'uitvoering': 'eeg_uitvoeringscode',\n",
    "    'variant': 'eeg_variantcode',\n",
    "    'volgnummer_wijziging_eu_typegoedkeuring': 'uitvoering_wijzigingsnummer',\n",
    "}, inplace=True)\n",
    "# drop nan\n",
    "conf = conf.query('typegoedkeuringsnummer != \"nan\"')\n",
    "\n",
    "# duplicates\n",
    "display(\n",
    "    conf.loc[:, conf.columns]\\\n",
    "    .reset_index()\\\n",
    "    .groupby('eu_type_goedkeuringssleutel')\\\n",
    "    .nunique()\\\n",
    "    .replace(1,np.NaN)\\\n",
    "    .dropna(how='all')\\\n",
    "    .fillna(1)\\\n",
    "    .astype(int)\\\n",
    "    .sort_values(by='kenteken', ascending=False)\n",
    ")\n",
    "\n",
    "key = 'conformity_codes'\n",
    "rdw_per_confcode[key] = conf.reset_index().set_index(['eu_type_goedkeuringssleutel', 'eeg_variantcode', 'eeg_uitvoeringscode', 'uitvoering_wijzigingsnummer']).copy()\n"
   ]
  },
  {
   "cell_type": "code",
   "execution_count": 14,
   "metadata": {},
   "outputs": [],
   "source": [
    "short_confs = rdw_per_confcode['conformity_codes'].reset_index()\\\n",
    ".set_index('typegoedkeuringsnummer').eu_type_goedkeuringssleutel\n",
    "full_confs = rdw_per_confcode['conformity_codes'].reset_index()\\\n",
    ".set_index('typegoedkeuringsnummer').loc[:, ['eu_type_goedkeuringssleutel', 'eeg_variantcode', 'eeg_uitvoeringscode', 'uitvoering_wijzigingsnummer']]"
   ]
  },
  {
   "cell_type": "code",
   "execution_count": 15,
   "metadata": {},
   "outputs": [
    {
     "name": "stdout",
     "output_type": "stream",
     "text": [
      "eeg_voertuigtypegoedkeuring\n"
     ]
    }
   ],
   "source": [
    "# Main conformity code api\n",
    "Info = RdwInfo(short_confs, conf_api, hidden_api_keys.socrata_apptoken)\n",
    "Info.process_api()\n",
    "key = re.sub('\\s', '_', Info.metadata_['name'].lower())\n",
    "key = re.sub(f'^{from_key}_', '', key)\n",
    "rdw_per_confcode[key] = Info.get_df().copy()\n",
    "print(key)"
   ]
  },
  {
   "cell_type": "code",
   "execution_count": 16,
   "metadata": {},
   "outputs": [
    {
     "name": "stdout",
     "output_type": "stream",
     "text": [
      "ahsi-8uyu as_gegevens_eeg_uitvoering\n",
      "wx3j-69ie basisgegevens_eeg_uitvoering\n",
      "q7fi-ijjh carrosserie_uitvoering_klasse\n",
      "w2qp-idms carrosserie_uitvoering\n",
      "nypm-t8hx carrosserie_uitvoering_nummerieke_code\n",
      "mdqe-txpd handelsbenaming_uitvoering\n",
      "fj7t-hhik merk_uitvoering_toegestaan\n",
      "g2s6-ehxa motor_uitvoering\n",
      "5w6t-p66a motor_uitvoering_brandstof\n",
      "mt8t-4ep4 plaatsaanduiding_uitvoering\n",
      "h9pa-e9ta subcategorie_uitvoering\n",
      "2822-t8sx uitvoering_gebruiksgegevens_per_uitgave\n",
      "r7cw-67gs versnellingsbak_uitvoering\n"
     ]
    }
   ],
   "source": [
    "# Get sub apis from main api\n",
    "from_key = 'eeg_voertuigtypegoedkeuring'\n",
    "sub_apis,_,_ = get_sub_apis(rdw_per_confcode[from_key])\n",
    "Info = RdwInfo(full_confs, sub_apis[0], hidden_api_keys.socrata_apptoken)\n",
    "for api_name in sub_apis:\n",
    "    Info.set_api_name(api_name)\n",
    "    Info.process_api()\n",
    "    key = re.sub('\\s', '_', Info.metadata_['name'].lower())\n",
    "    key = re.sub(f'^{from_key}_', '', key)\n",
    "    rdw_per_confcode[key] = Info.get_df().copy()\n",
    "    print(api_name, key)\n",
    "    "
   ]
  },
  {
   "cell_type": "markdown",
   "metadata": {},
   "source": [
    "Merge dataframes from conformity codes apis"
   ]
  },
  {
   "cell_type": "code",
   "execution_count": null,
   "metadata": {
    "tags": [
     "nbconvert_instruction:remove_all_outputs"
    ]
   },
   "outputs": [],
   "source": [
    "print('x: Data can be merged. (should be unique, 4 level key and contain data)')\n",
    "full_codes = dict()\n",
    "for k, df in rdw_per_confcode.items():\n",
    "    if (k != 'conformity_codes') and (df.index.nlevels == 4) and (df.index.is_unique):\n",
    "        assert df.index.names == ['eu_type_goedkeuringssleutel', 'eeg_variantcode', 'eeg_uitvoeringscode', 'uitvoering_wijzigingsnummer']\n",
    "        df.reset_index(inplace=True)\n",
    "        df.uitvoering_wijzigingsnummer = df.uitvoering_wijzigingsnummer.astype(int).astype(str)\n",
    "        df.set_index(['eu_type_goedkeuringssleutel', 'eeg_variantcode', 'eeg_uitvoeringscode', 'uitvoering_wijzigingsnummer'], inplace=True)\n",
    "        full_codes[k] = df\n",
    "        print(f'[x] {k:64s}', end='')\n",
    "    else:\n",
    "        print(f'[ ] {k:64s}', end='')\n",
    "\n",
    "    print({True: '[idx: unique    ]', False: '[idx: NOT unique]'}[df.index.is_unique],\n",
    "          f'[keys: {df.index.nlevels}]', \n",
    "          f'[shape: {df.shape[0]:3.0f},{df.shape[1]:3.0f}]'\n",
    "         )"
   ]
  },
  {
   "cell_type": "code",
   "execution_count": null,
   "metadata": {
    "tags": [
     "nbconvert_instruction:remove_all_outputs"
    ]
   },
   "outputs": [],
   "source": [
    "# merge\n",
    "out = pd.concat(full_codes, axis=1)\n",
    "display(out.loc[:, (slice(None), 'TimeStamp')].bfill(axis=0).iloc[0,:].to_frame())"
   ]
  },
  {
   "cell_type": "code",
   "execution_count": null,
   "metadata": {
    "tags": [
     "nbconvert_instruction:remove_all_outputs"
    ]
   },
   "outputs": [],
   "source": [
    "# Save\n",
    "file_name = f'../data/auctions/enriched-results/rdw-conf/rdw-conf-0-data-{DATE}-{month_counter}.pkl'\n",
    "\n",
    "if NO_PRICE:\n",
    "    file_name = file_name.replace('.pkl', '-without-price.pkl')\n",
    "if OPBOD:\n",
    "    file_name = file_name.replace('.pkl', '-opbod.pkl')\n",
    "    \n",
    "if (SKIPSAVE==False) and (not(os.path.isfile(file_name))):\n",
    "    print(file_name)\n",
    "    out.to_pickle(file_name)\n",
    "else:\n",
    "    print(f'Skip. {file_name} exists or saving is disabled in settings.')"
   ]
  },
  {
   "cell_type": "markdown",
   "metadata": {},
   "source": [
    "<a href=\"#rdw_top\" id='rdw_ovi'><font size=+1><center>^^ TOP ^^</center></font></a>\n",
    "\n",
    "---"
   ]
  },
  {
   "cell_type": "markdown",
   "metadata": {},
   "source": [
    "# Data from rdw website (OVI)\n",
    "Optionally get data from rdw website"
   ]
  },
  {
   "cell_type": "code",
   "execution_count": null,
   "metadata": {
    "tags": [
     "nbconvert_instruction:remove_all_outputs"
    ]
   },
   "outputs": [],
   "source": [
    "if OVIDATA == False:\n",
    "    rdw_ovi = None\n",
    "else:\n",
    "    regs = rdw_per_reg['registrations'].Reg.to_list()\n",
    "    Info = OviInfo(regs, verbose=VERBOSE)\n",
    "    Info.process_api()\n",
    "    print(Info)\n",
    "\n",
    "    rdw_ovi = Info.data_.copy()\n",
    "    # make fields lowercase and add \"ovi_\"\n",
    "    rdw_ovi.index.name='kenteken'\n",
    "    rdw_ovi.columns = [re.sub(r'([A-Z])',r'_\\1', c).lower() if c != 'TimeStamp' else c for c in rdw_ovi.columns] # after capital, add _ \n",
    "    rdw_ovi.columns = [re.sub(r'^_','', c) for c in rdw_ovi.columns] # remove trailing _\n",
    "    # Basic operations\n",
    "    rdw_ovi = pd.concat(\n",
    "        [rdw_ovi, \n",
    "         rdw_ovi.eigenaren.str.split('/', expand=True).rename(columns = {0: 'eigenaren_private', 1: 'eigenaren_company'}).astype('Int8')\n",
    "        ], axis=1)\n",
    "    rdw_ovi['eigenaren_total'] = rdw_ovi.eigenaren_private + rdw_ovi.eigenaren_company\n",
    "    #rdw_ovi['ovi_wachten_op_keuring_ind'] = rdw_ovi.ovi_wachten_op_keuring.apply(lambda x: {'Ja': True, 'Nee': False}[x] if isinstance(x, str) else x).astype('boolean')\n",
    "\n",
    "    if VERBOSE > 1:\n",
    "        rdw_ovi\n",
    "    else:\n",
    "        print(rdw_ovi.shape)"
   ]
  },
  {
   "cell_type": "raw",
   "metadata": {},
   "source": [
    "rdw_ovi = Info.data_.copy()\n",
    "# make fields lowercase and add \"ovi_\"\n",
    "rdw_ovi.index.name='kenteken'\n",
    "rdw_ovi.columns = [re.sub(r'([A-Z])',r'_\\1', c).lower() if c != 'TimeStamp' else c for c in rdw_ovi.columns]\n",
    "rdw_ovi.columns = [re.sub(r'^_','', c) for c in rdw_ovi.columns]\n",
    "rdw_ovi"
   ]
  },
  {
   "cell_type": "code",
   "execution_count": null,
   "metadata": {
    "tags": [
     "nbconvert_instruction:remove_all_outputs"
    ]
   },
   "outputs": [],
   "source": [
    "out = rdw_ovi\n",
    "out"
   ]
  },
  {
   "cell_type": "code",
   "execution_count": null,
   "metadata": {
    "tags": [
     "nbconvert_instruction:remove_all_outputs"
    ]
   },
   "outputs": [],
   "source": [
    "# Save\n",
    "file_name = f'../data/auctions/enriched-results/rdw-ovi/rdw-ovi-0-data-{DATE}-{month_counter}.pkl'\n",
    "\n",
    "if NO_PRICE:\n",
    "    file_name = file_name.replace('.pkl', '-without-price.pkl')\n",
    "if OPBOD:\n",
    "    file_name = file_name.replace('.pkl', '-opbod.pkl')\n",
    "    \n",
    "if (SKIPSAVE==False) and (not(os.path.isfile(file_name))):\n",
    "    print(file_name)\n",
    "    out.to_pickle(file_name)\n",
    "else:\n",
    "    print(f'Skip. {file_name} exists or saving is disabled in settings.')"
   ]
  },
  {
   "cell_type": "markdown",
   "metadata": {},
   "source": [
    "<a href=\"#rdw_top\" id='rdw_merge'><font size=+1><center>^^ TOP ^^</center></font></a>\n",
    "\n",
    "---"
   ]
  },
  {
   "cell_type": "markdown",
   "metadata": {},
   "source": [
    "# Data from The National Highway Traffic Safety Administration (NHTSA)\n",
    "Based on VIN. Product Information Catalog and Vehicle Listing (vPIC)\n",
    "https://vpic.nhtsa.dot.gov/api/"
   ]
  },
  {
   "cell_type": "code",
   "execution_count": 23,
   "metadata": {},
   "outputs": [],
   "source": [
    "from vin_lookup import Nhtsa_batch"
   ]
  },
  {
   "cell_type": "code",
   "execution_count": 24,
   "metadata": {},
   "outputs": [],
   "source": [
    "# empty dictionary\n",
    "nhtsa_per_vin = dict()"
   ]
  },
  {
   "cell_type": "code",
   "execution_count": null,
   "metadata": {
    "tags": [
     "nbconvert_instruction:remove_all_outputs"
    ]
   },
   "outputs": [],
   "source": [
    "key = 'vpic'\n",
    "df_ =  drz.loc[:, ['Vin', 'Mfyear']].copy().replace({'': np.NaN, 'onbekend': np.NaN}) # copy from drz\n",
    "\n",
    "# borrow mfyear from rdw info\n",
    "rdw_mfy = pd.merge(  left = rdw_per_reg['registrations'].reset_index(),\n",
    "                     right = rdw_per_reg['gekentekende_voertuigen'].datum_eerste_toelating.reset_index(),\n",
    "                     how='left',\n",
    "                     right_on='kenteken',\n",
    "                     left_on='kenteken'\n",
    "                    ).loc[:, ['lot_index', 'datum_eerste_toelating']].set_index('lot_index')\n",
    "df_ =  pd.concat([df_, (rdw_mfy // 10000).astype(pd.Int16Dtype())], axis=1)\n",
    "df_.update(df_.loc[:, ['Mfyear', 'datum_eerste_toelating']].bfill(axis=1))\n",
    "df_.rename(columns={'Vin': 'VIN', 'Mfyear': 'MFY'}, inplace=True)\n",
    "nhtsa_per_vin[key] = df_.loc[:, ['VIN', 'MFY']]\n",
    "\n",
    "# lookup vins in batches\n",
    "Batch = Nhtsa_batch(nhtsa_per_vin[key].iloc[:,:2].dropna(subset='VIN'), verbose=VERBOSE)\n",
    "Batch.full_parse()\n",
    "out = Batch.data.copy()\n",
    "\n",
    "# store in dict\n",
    "nhtsa_per_vin[key] = pd.concat([\n",
    "    nhtsa_per_vin[key],\n",
    "    out.drop(columns=out.columns[out.columns.str.startswith('system') | out.columns.str.startswith('internal')])\n",
    "], axis=1)\n",
    "\n",
    "if VERBOSE > 1:\n",
    "    display(nhtsa_per_vin[key])\n",
    "else:\n",
    "    print('\\n'.join(nhtsa_per_vin.keys()))"
   ]
  },
  {
   "cell_type": "code",
   "execution_count": 26,
   "metadata": {},
   "outputs": [],
   "source": [
    "# Merge with input\n",
    "nhtsa_per_vin['vpic'].index.name = 'lot_index'\n",
    "Batch.data.index.name = 'lot_index'\n",
    "df_vins = pd.concat([\n",
    "    nhtsa_per_vin['vpic'].loc[:, ['VIN', 'MFY']], \n",
    "    Batch.data\n",
    "], axis = 1)\n",
    "# add timestamp\n",
    "df_vins.loc[:, 'TimeStamp'] = pd.Timestamp.now().strftime('%Y%m%d')\n",
    "df_vins = df_vins.reset_index().set_index(['VIN', 'MFY'])"
   ]
  },
  {
   "cell_type": "code",
   "execution_count": null,
   "metadata": {
    "tags": [
     "nbconvert_instruction:remove_all_outputs"
    ]
   },
   "outputs": [],
   "source": [
    "out = df_vins\n",
    "out"
   ]
  },
  {
   "cell_type": "code",
   "execution_count": null,
   "metadata": {
    "tags": [
     "nbconvert_instruction:remove_all_outputs"
    ]
   },
   "outputs": [],
   "source": [
    "# Save\n",
    "file_name = f'../data/auctions/enriched-results/nhtsa-vpic/nhtsa-vpic-0-data-{DATE}-{month_counter}.pkl'\n",
    "\n",
    "if NO_PRICE:\n",
    "    file_name = file_name.replace('.pkl', '-without-price.pkl')\n",
    "if OPBOD:\n",
    "    file_name = file_name.replace('.pkl', '-opbod.pkl')\n",
    "    \n",
    "if (SKIPSAVE==False) and (not(os.path.isfile(file_name))):\n",
    "    print(file_name)\n",
    "    out.to_pickle(file_name)\n",
    "else:\n",
    "    print(f'Skip. {file_name} exists or saving is disabled in settings.')"
   ]
  },
  {
   "cell_type": "markdown",
   "metadata": {
    "tags": []
   },
   "source": [
    "# Merge datasets\n",
    "Now we have a couple of dataset that can be merged.\n",
    "\n",
    "`rdw_per_reg` dictionary  \n",
    "`rdw_per_confcode` combined in another dictionary `full_codes`  \n",
    "`rdw_ovi` a single dataframe  \n",
    "`nhtsa_per_vin` has only one field and is combined in dataframe `df_vins`  \n",
    "\n",
    "\n",
    "1. Merge dataframes from `rdw_per_reg` with primary key `kenteken`\n",
    "2. \n",
    "    1) Add conformity codes from `rdw_per_confcode`\n",
    "    2) Add basic conformity info from `rdw_per_confcode.eeg_voertuigtypegoedkeuring`\n",
    "3. Merge all conformity code information from other apis `full_codes`\n",
    "4. Merge with OVI\n",
    "5. Merge with vpic (nhtsa)\n",
    "6. Merge with auction results\n"
   ]
  },
  {
   "cell_type": "code",
   "execution_count": null,
   "metadata": {
    "tags": [
     "nbconvert_instruction:remove_all_outputs"
    ]
   },
   "outputs": [],
   "source": [
    "# Merge first set\n",
    "rich = pd.concat(rdw_per_reg, axis=1)\n",
    "rich = pd.concat([rich], keys=['rdw'], axis=1)\n",
    "rich.index.name='kenteken'\n",
    "print(rich.shape, )\n",
    "\n",
    "# Add conformity_codes\n",
    "codes = rdw_per_confcode['conformity_codes'].reset_index().set_index('kenteken')\n",
    "codes = pd.concat([codes], keys=['conformity_codes'], axis=1)\n",
    "codes = pd.concat([codes], keys=['rdw'], axis=1)\n",
    "rich = rich.merge(\n",
    "    codes, # add level\n",
    "    how='outer',\n",
    "    left_index = True,\n",
    "    right_index = True,\n",
    ")\n",
    "print(rich.shape)\n",
    "\n",
    "# Add basic conformity info\n",
    "codes = rdw_per_confcode['eeg_voertuigtypegoedkeuring'].reset_index()\n",
    "# add levels\n",
    "codes = pd.concat([codes], keys=['eeg_voertuigtypegoedkeuring'], axis=1)\n",
    "codes = pd.concat([codes], keys=['rdw'], axis=1)\n",
    "rich = rich.reset_index().merge(\n",
    "    codes, \n",
    "    how='outer',\n",
    "    left_on = [('rdw', 'conformity_codes', 'typegoedkeuringsnummer')],\n",
    "    right_on = [('rdw', 'eeg_voertuigtypegoedkeuring', 'typegoedkeuringsnummer')],\n",
    ").set_index('kenteken')\n",
    "print(rich.shape)\n",
    "\n",
    "# Add full_codes\n",
    "codes = pd.concat(full_codes, axis=1)#.drop(columns='conformity_codes')\n",
    "codes = pd.concat([codes], keys=['rdw'], axis=1)\n",
    "rich = rich.merge(\n",
    "    codes,\n",
    "    how='outer',\n",
    "    left_on = [('rdw', 'conformity_codes', c) for c in codes.index.names],\n",
    "    right_index=True\n",
    ")\n",
    "print(rich.shape)\n",
    "\n",
    "# Add ovi\n",
    "codes = pd.concat([rdw_ovi], keys=['ovi'], axis=1)\n",
    "codes = pd.concat([codes], keys=['rdw'], axis=1)\n",
    "rich = rich.merge(\n",
    "    codes,\n",
    "    how='outer',\n",
    "    left_index = True,\n",
    "    right_index = True,\n",
    ")\n",
    "print(rich.shape)\n",
    "\n",
    "# Add vpic\n",
    "codes = pd.concat(nhtsa_per_vin, axis=1)\n",
    "codes = pd.concat([codes], keys=['nhtsa'], axis=1)\n",
    "rich = rich.reset_index().merge(\n",
    "    codes,\n",
    "    how='outer',\n",
    "    left_on = [('rdw', 'registrations', 'lot_index')],\n",
    "    right_index = True,\n",
    ").set_index(('rdw', 'registrations', 'lot_index'))\n",
    "rich.index.name = 'lot_index'\n",
    "print(rich.shape)\n",
    "\n",
    "#rich.columns.map(lambda x: '_'.join(x))\n",
    "\n",
    "rich"
   ]
  },
  {
   "cell_type": "code",
   "execution_count": 30,
   "metadata": {},
   "outputs": [],
   "source": [
    "existing = pd.concat([drz], keys=[''], axis=1)\n",
    "existing = pd.concat([existing], keys=['drz'], axis=1)\n",
    "enriched = pd.merge(\n",
    "    left = existing,\n",
    "    right = rich,\n",
    "    how = 'left',\n",
    "    left_index = True,\n",
    "    right_index = True\n",
    ")"
   ]
  },
  {
   "cell_type": "markdown",
   "metadata": {},
   "source": [
    "<a href=\"#rdw_top\" id='rdw_save'><font size=+1><center>^^ TOP ^^</center></font></a>\n",
    "\n",
    "---"
   ]
  },
  {
   "cell_type": "markdown",
   "metadata": {},
   "source": [
    "# Saving"
   ]
  },
  {
   "cell_type": "raw",
   "metadata": {},
   "source": [
    "file_name = file_name.replace('pdf', 'rdw')"
   ]
  },
  {
   "cell_type": "code",
   "execution_count": null,
   "metadata": {
    "tags": [
     "nbconvert_instruction:remove_all_outputs"
    ]
   },
   "outputs": [],
   "source": [
    "out = enriched\n",
    "out"
   ]
  },
  {
   "cell_type": "code",
   "execution_count": null,
   "metadata": {
    "tags": [
     "nbconvert_instruction:remove_all_outputs"
    ]
   },
   "outputs": [],
   "source": [
    "file_name = f'../data/auctions/enriched-results/rdw-data-{DATE}-{month_counter}.pkl'\n",
    "if NO_PRICE:\n",
    "    file_name = file_name.replace('.pkl', '-without-price.pkl')\n",
    "if OPBOD:\n",
    "    file_name = file_name.replace('.pkl', '-opbod.pkl')\n",
    "    \n",
    "if (SKIPSAVE==False) and (not(os.path.isfile(file_name))):\n",
    "    print(file_name)\n",
    "    out.to_pickle(file_name)\n",
    "else:\n",
    "    print(f'Skip. {file_name} exists or saving is disabled in settings.')"
   ]
  },
  {
   "cell_type": "markdown",
   "metadata": {},
   "source": [
    "# Next: download images (or parallel)\n",
    "\n",
    "Because images might be taken down from the drz site, it is advisable to run the notebook that downloads images soon."
   ]
  },
  {
   "cell_type": "raw",
   "metadata": {
    "tags": [
     "nbconvert_instruction:remove_all_outputs"
    ]
   },
   "source": [
    "assert False, 'Stop running. Below is to check if existing file has same dataframe.'"
   ]
  },
  {
   "cell_type": "code",
   "execution_count": null,
   "metadata": {},
   "outputs": [],
   "source": []
  }
 ],
 "metadata": {
  "kernelspec": {
   "display_name": "Python 3 (ipykernel)",
   "language": "python",
   "name": "python3"
  },
  "language_info": {
   "codemirror_mode": {
    "name": "ipython",
    "version": 3
   },
   "file_extension": ".py",
   "mimetype": "text/x-python",
   "name": "python",
   "nbconvert_exporter": "python",
   "pygments_lexer": "ipython3",
   "version": "3.10.6"
  },
  "toc-autonumbering": false,
  "toc-showcode": true,
  "toc-showmarkdowntxt": true
 },
 "nbformat": 4,
 "nbformat_minor": 4
}
