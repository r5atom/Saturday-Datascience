{
 "cells": [
  {
   "cell_type": "markdown",
   "metadata": {},
   "source": [
    "# Registration numbers\n",
    "\n",
    "Collect additional data from RDW based on registrations (kenteken)\n"
   ]
  },
  {
   "cell_type": "markdown",
   "metadata": {
    "slideshow": {
     "slide_type": ""
    },
    "tags": []
   },
   "source": [
    "### User variables"
   ]
  },
  {
   "cell_type": "code",
   "execution_count": 1,
   "metadata": {
    "slideshow": {
     "slide_type": ""
    },
    "tags": []
   },
   "outputs": [],
   "source": [
    "import sys\n",
    "import re\n",
    "import json\n",
    "from IPython.display import display"
   ]
  },
  {
   "cell_type": "code",
   "execution_count": 2,
   "metadata": {
    "editable": true,
    "slideshow": {
     "slide_type": ""
    },
    "tags": []
   },
   "outputs": [],
   "source": [
    "with open('../assets/drz-settings-current.json', 'r') as fid:\n",
    "    cfg = json.load(fid)\n",
    "\n",
    "OPBOD = cfg['AUCTION']['kind'] == 'opbod'\n",
    "AUCTION_ID = cfg['AUCTION']['id']\n",
    "DATE = cfg['AUCTION']['date']\n",
    "DATA_DIR = cfg['FILE_LOCATION']['data_dir']\n",
    "auction_month = DATE[:4] + '-' + DATE[4:6]\n",
    "if cfg['AUCTION']['kind'] == 'inschrijving':\n",
    "    month_counter = re.sub('(-)(\\d{2})', '\\g<1>', AUCTION_ID)[5:8]\n",
    "elif cfg['AUCTION']['kind'] == 'opbod':\n",
    "    month_counter = re.sub('(-)(\\d{2})(\\d{2})', '-\\g<2>', AUCTION_ID)[5:8]\n",
    "\n",
    "sys.path.insert(0, cfg['FILE_LOCATION']['code_dir'])\n",
    "\n",
    "QUICK_MERGE = False\n",
    "SKIPSAVE = False\n",
    "OVIDATA = True\n",
    "VERBOSE = 1"
   ]
  },
  {
   "cell_type": "markdown",
   "metadata": {
    "editable": true,
    "slideshow": {
     "slide_type": ""
    },
    "tags": []
   },
   "source": [
    "### Modules and functions"
   ]
  },
  {
   "cell_type": "code",
   "execution_count": 3,
   "metadata": {},
   "outputs": [
    {
     "name": "stdout",
     "output_type": "stream",
     "text": [
      "enjoy rdw_info\n"
     ]
    }
   ],
   "source": [
    "import pandas as pd\n",
    "import numpy as np\n",
    "import re \n",
    "import os\n",
    "# to keep api key hidden import this from sub dir\n",
    "import assets.hidden_api_keys as hidden_api_keys\n",
    "from rdw_info import *"
   ]
  },
  {
   "cell_type": "code",
   "execution_count": 4,
   "metadata": {
    "slideshow": {
     "slide_type": ""
    },
    "tags": []
   },
   "outputs": [],
   "source": [
    "# run these apis\n",
    "\n",
    "main_api = 'm9d7-ebf2' # gekentekende_voertuigen\n",
    "keur_api = 'vkij-7mwc' # keuringen\n",
    "apk_api = 'sgfe-77wx' # meldingen_keuringsinstantie\n",
    "gebr_api = 'hx2c-gt7k' # gebreken\n",
    "toe_api = 'sghb-dzxx' # toegevoegde_objecten\n",
    "\n",
    "conf_api = '55kv-xf7m' # EEG_Voertuigtypegoedkeuring\n",
    "\n",
    "# g2s6-ehxa Motor-Uitvoering\n",
    "\n",
    "# byxc-wwua TGK Basis Uitvoering\n",
    "# kyri-nuah TGK Merk Uitvoering\n",
    "# xn6e-huse TGK-Rupsbandset-Uitvoering\n",
    "# d3ex-xghj TGK-Koppeling-Uitvoering\n",
    "# 4by9-ammk TGK-Aandrijving-Uitvoering\n",
    "# m692-vvff TGK-Speciale-Doeleinden\n",
    "# gr7t-qfnb TGK-Energiebron-Uitvoering\n",
    "# 9s6a-b42z TGK-Intrekking-Typegoedkeuring\n",
    "\n",
    "# wx3j-69ie     Basisgegevens_EEG_Uitvoering\n",
    "# ahsi-8uyu     AS_Gegevens_EEG_Uitvoering\n",
    "#  xhyb-w7xt     TGK-As-Uitvoering\n",
    "# q7fi-ijjh     Carrosserie_Uitvoering_Klasse\n",
    "# w2qp-idms     Carrosserie_Uitvoering\n",
    "#  ky2r-jqad     TGK-Carrosserie-Uitvoering\n",
    "# nypm-t8hx     Carrosserie_Uitvoering_Nummerieke_Co\n",
    "# mdqe-txpd     Handelsbenaming_Uitvoering\n",
    "#  x5v3-sewk     TGK-Handelsbenaming-Fabrikant\n",
    "# fj7t-hhik     Merk_Uitvoering_Toegestaan\n",
    "# g2s6-ehxa     Motor_Uitvoering\n",
    "# 5w6t-p66a     Motor_Uitvoering_Brandstof\n",
    "# mt8t-4ep4     Plaatsaanduiding_Uitvoering\n",
    "# h9pa-e9ta     Subcategorie_Uitvoering\n",
    "# 2822-t8sx     Uitvoering_Gebruiksgegevens_Per_Uitg\n",
    "# r7cw-67gs     Versnellingsbak_Uitvoering\n",
    "#  7rjk-eycs     TGK-Versnelling-Uitvoering"
   ]
  },
  {
   "cell_type": "markdown",
   "metadata": {},
   "source": [
    "### Load auction results"
   ]
  },
  {
   "cell_type": "code",
   "execution_count": null,
   "metadata": {
    "editable": true,
    "slideshow": {
     "slide_type": ""
    },
    "tags": [
     "nbconvert_instruction:remove_all_outputs"
    ]
   },
   "outputs": [],
   "source": [
    "file_name = f'{DATA_DIR}/auctions/results/drz-data-{auction_month}-{month_counter}.pkl'\n",
    "if OPBOD:\n",
    "    file_name = file_name.replace('.pkl', '-opbod.pkl')\n",
    "if not os.path.isfile(file_name):\n",
    "    # see if -without price- exists\n",
    "    NO_PRICE = True\n",
    "    if NO_PRICE:\n",
    "        file_name = file_name.replace('auctions/results', 'auctions/without-price')\n",
    "        file_name = file_name.replace('.pkl', '-without-price.pkl')\n",
    "    if OPBOD:\n",
    "        file_name = file_name.replace('-opbod-without-price.pkl', '-without-price-opbod.pkl')\n",
    "#     else:\n",
    "#         file_name = file_name.replace('.pkl', '-without-price.pkl')\n",
    "else:\n",
    "    NO_PRICE = False\n",
    "\n",
    "\n",
    "print(file_name)\n",
    "drz = pd.read_pickle(file_name)"
   ]
  },
  {
   "cell_type": "markdown",
   "metadata": {},
   "source": [
    "### Collect number plate registrations"
   ]
  },
  {
   "cell_type": "code",
   "execution_count": null,
   "metadata": {
    "lines_to_next_cell": 2,
    "tags": [
     "nbconvert_instruction:remove_all_outputs"
    ]
   },
   "outputs": [],
   "source": [
    "# see what lots have a Dutch registration (license number).\n",
    "hasReg = (~drz.Reg.isnull()) & (drz.Reg != 'onbekend') & (drz.Reg != '') & (~drz.LotType.isin([\n",
    "    'Vaartuig',\n",
    "    'Jetski',\n",
    "    'Sloep',\n",
    "    'Speedboot',\n",
    "    'Vaartuig (Type onbekend)',\n",
    "    'Motorvaartuig met opbouw (Pleziervaartuig)',\n",
    "]))\n",
    "\n",
    "print('nr. of registrations:',sum(hasReg))\n",
    "\n",
    "# adhoc fix\n",
    "idx = '2022-08-5012' # check in pictures. reg is wrong\n",
    "if idx in drz.index:\n",
    "    drz.loc[idx, 'Reg'] = 'LM-82-14'\n",
    "idx = '2022-29-5001' # check in pictures. reg is wrong\n",
    "if idx in drz.index:\n",
    "    drz.loc[idx, 'Reg'] = 'LM-82-14'\n",
    "idx = '2022-29-2008' # check in pictures. reg is wrong\n",
    "if idx in drz.index:\n",
    "    drz.loc[idx, 'Reg'] = 'KT-05-40'\n",
    "\n",
    "\n",
    "\n",
    "vc = drz.loc[hasReg, 'Reg'].str.upper().str.replace('-','').value_counts()\n",
    "if any(vc > 1):\n",
    "    display(vc[vc>1])\n",
    "    display(drz[drz.Reg.str.upper().str.replace('-','').isin(vc[vc>1].index)])\n",
    "    raise ValueError('Registration occurs in more than one lot.')\n",
    "# assert all(vc == 1), [, display(vc[vc>1])]\n",
    "\n",
    "# # make a copy and add info\n",
    "# rdw = drz.copy()"
   ]
  },
  {
   "cell_type": "markdown",
   "metadata": {
    "tags": []
   },
   "source": [
    "# Main api \n",
    "\n",
    "The main api: `api_gekentekende_voertuigen` points to subsequent apis."
   ]
  },
  {
   "cell_type": "code",
   "execution_count": null,
   "metadata": {
    "editable": true,
    "slideshow": {
     "slide_type": ""
    },
    "tags": [
     "nbconvert_instruction:remove_all_outputs"
    ]
   },
   "outputs": [],
   "source": [
    "# empty dictionary\n",
    "rdw_per_reg = dict()\n",
    "\n",
    "# first element of dict is registrations\n",
    "key = 'registrations'\n",
    "rdw_per_reg[key] = drz.loc[hasReg,['Reg', 'LotType']].copy() # copy from drz\n",
    "rdw_per_reg[key]['kenteken'] = rdw_per_reg[key].Reg.apply(lambda r: r.replace('-','').upper())\n",
    "rdw_per_reg[key].index.name = 'lot_index'\n",
    "rdw_per_reg[key] = rdw_per_reg[key].reset_index().set_index('kenteken')\n",
    "with pd.option_context('display.max_rows', 999):\n",
    "    display(rdw_per_reg[key].reset_index().set_index(['LotType', 'kenteken']).sort_index())\n",
    "\n",
    "print('\\n'.join(rdw_per_reg.keys()))"
   ]
  },
  {
   "cell_type": "code",
   "execution_count": null,
   "metadata": {
    "tags": [
     "nbconvert_instruction:remove_all_outputs"
    ]
   },
   "outputs": [],
   "source": [
    "# Assess these registrations\n",
    "regs = rdw_per_reg['registrations'].Reg.values\n",
    "\n",
    "# Main rdw api\n",
    "Info = RdwInfo(regs, main_api, hidden_api_keys.socrata_apptoken)\n",
    "Info.process_api()\n",
    "key = re.sub('\\s', '_', Info.metadata_['name'].lower())\n",
    "rdw_per_reg[key] = Info.get_df().copy()\n",
    "print(Info)"
   ]
  },
  {
   "cell_type": "markdown",
   "metadata": {},
   "source": [
    "Sub apis"
   ]
  },
  {
   "cell_type": "code",
   "execution_count": 9,
   "metadata": {
    "editable": true,
    "lines_to_next_cell": 2,
    "slideshow": {
     "slide_type": ""
    },
    "tags": []
   },
   "outputs": [
    {
     "name": "stdout",
     "output_type": "stream",
     "text": [
      "gekentekende_voertuigen\n",
      "3huj-srit assen\n",
      "8ys7-d773 brandstof\n",
      "vezc-m2t6 carrosserie\n",
      "jhie-znh9 carrosserie_specificatie\n",
      "kmfi-hrps voertuigklasse\n",
      "3xwf-ince rupsbanden\n",
      "2ba7-embk subcategorie_voertuig\n",
      "7ug8-2dtt bijzonderheden\n",
      "t49b-isb7 terugroep_actie_status\n",
      "vkij-7mwc keuringen\n",
      "sgfe-77wx meldingen_keuringsinstantie\n",
      "sghb-dzxx toegevoegde_objecten\n",
      "meldingen_keuringsinstantie\n",
      "hx2c-gt7k gebreken\n",
      "a34c-vvps geconstateerde_gebreken\n"
     ]
    }
   ],
   "source": [
    "# Get sub apis from main api\n",
    "from_key = 'gekentekende_voertuigen'\n",
    "sub_apis,_,_ = get_sub_apis(rdw_per_reg[from_key])\n",
    "# add extra apis\n",
    "sub_apis += ['3xwf-ince', '2ba7-embk', '7ug8-2dtt', 't49b-isb7', keur_api, apk_api, toe_api] #,'a34c-vvps', # some extra apis with registrations\n",
    "print(f'{from_key}')\n",
    "for api_name in sub_apis:\n",
    "    print(api_name, end = '')\n",
    "    Info.set_api_name(api_name)\n",
    "    Info.process_api()\n",
    "    key = re.sub('\\s', '_', Info.metadata_['name'].lower())\n",
    "    key = re.sub(f'^{from_key}_', '', key)\n",
    "    rdw_per_reg[key] = Info.get_df().copy()\n",
    "    print(api_name, key)\n",
    "    \n",
    "# Get apis from apk api\n",
    "from_key = 'meldingen_keuringsinstantie'\n",
    "sub_apis,_,_ = get_sub_apis(rdw_per_reg[from_key])\n",
    "print(f'{from_key}')\n",
    "for api_name in set(sub_apis):\n",
    "    print(api_name, end = '')\n",
    "    Info.set_api_name(api_name)\n",
    "    Info.process_api()\n",
    "    key = re.sub('\\s', '_', Info.metadata_['name'].lower())\n",
    "    key = re.sub(f'^{from_key}_', '', key)\n",
    "    rdw_per_reg[key] = Info.get_df().copy()\n",
    "    print(api_name, key)"
   ]
  },
  {
   "cell_type": "code",
   "execution_count": 10,
   "metadata": {},
   "outputs": [],
   "source": [
    "# Use reference table to add info\n",
    "df_left = rdw_per_reg['geconstateerde_gebreken'].copy()\n",
    "df_right = rdw_per_reg['gebreken'].copy()\n",
    "on_column = 'gebrek_identificatie'\n",
    "\n",
    "for left_column, left in df_left.loc[:, df_left.columns.str.startswith(on_column)].items():\n",
    "    suffix = re.sub(on_column, '', left_column)\n",
    "    df_merge = pd.merge(\n",
    "        left=left.reset_index(),\n",
    "        right=df_right,\n",
    "        how='left',\n",
    "        left_on=left_column,\n",
    "        right_on=on_column,\n",
    "    ).set_index('kenteken')\n",
    "    df_merge = df_merge.drop(columns=[left_column, on_column, 'TimeStamp']).add_suffix(suffix)\n",
    "    df_left = df_left.merge(df_merge, left_index=True, right_index=True)\n",
    "\n",
    "# add extra table\n",
    "rdw_per_reg['geconstateerde_gebreken_met_beschrijving'] = df_left\n",
    "# clean up: \n",
    "#    remove reference table\n",
    "del rdw_per_reg['gebreken']\n",
    "#    remove table without description\n",
    "del rdw_per_reg['geconstateerde_gebreken']"
   ]
  },
  {
   "cell_type": "code",
   "execution_count": null,
   "metadata": {
    "tags": [
     "nbconvert_instruction:remove_all_outputs"
    ]
   },
   "outputs": [],
   "source": [
    "out = pd.concat(rdw_per_reg, axis=1)\n",
    "display(out.loc[:, (slice(None), 'TimeStamp')].bfill(axis=0).iloc[0,:].to_frame())"
   ]
  },
  {
   "cell_type": "code",
   "execution_count": null,
   "metadata": {
    "lines_to_next_cell": 2,
    "tags": [
     "nbconvert_instruction:remove_all_outputs"
    ]
   },
   "outputs": [],
   "source": [
    "# Save\n",
    "file_name = f'{DATA_DIR}/auctions/enriched-results/rdw-reg/rdw-reg-full-0-data-{auction_month}-{month_counter}.pkl'\n",
    "\n",
    "if NO_PRICE:\n",
    "    file_name = file_name.replace('.pkl', '-without-price.pkl')\n",
    "if OPBOD:\n",
    "    file_name = file_name.replace('.pkl', '-opbod.pkl')\n",
    "    \n",
    "if (SKIPSAVE==False) and (not(os.path.isfile(file_name))):\n",
    "    print(file_name)\n",
    "    out.to_pickle(file_name)\n",
    "else:\n",
    "    print(f'Skip. {file_name} exists or saving is disabled in settings.')"
   ]
  }
 ],
 "metadata": {
  "jupytext": {
   "formats": "ipynb,py:percent"
  },
  "kernelspec": {
   "display_name": "Python 3 (ipykernel)",
   "language": "python",
   "name": "python3"
  },
  "language_info": {
   "codemirror_mode": {
    "name": "ipython",
    "version": 3
   },
   "file_extension": ".py",
   "mimetype": "text/x-python",
   "name": "python",
   "nbconvert_exporter": "python",
   "pygments_lexer": "ipython3",
   "version": "3.10.12"
  },
  "toc-autonumbering": false,
  "toc-showcode": true,
  "toc-showmarkdowntxt": true
 },
 "nbformat": 4,
 "nbformat_minor": 4
}
