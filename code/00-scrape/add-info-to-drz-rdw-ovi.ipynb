{
 "cells": [
  {
   "cell_type": "markdown",
   "metadata": {
    "editable": true,
    "slideshow": {
     "slide_type": ""
    },
    "tags": []
   },
   "source": [
    "# RDW OVI\n",
    "\n",
    "OVI: \"Open voertuig informatie\". This scrapes the ovi website of RDW.  \n",
    "https://ovi.rdw.nl/\n",
    "\n",
    "This is disfunctional due to redirect technique that prevents scraping."
   ]
  },
  {
   "cell_type": "markdown",
   "metadata": {
    "slideshow": {
     "slide_type": ""
    },
    "tags": []
   },
   "source": [
    "### User variables\n"
   ]
  },
  {
   "cell_type": "code",
   "execution_count": 1,
   "metadata": {
    "slideshow": {
     "slide_type": ""
    },
    "tags": []
   },
   "outputs": [],
   "source": [
    "import sys\n",
    "import re\n",
    "import json\n",
    "from IPython.display import display"
   ]
  },
  {
   "cell_type": "code",
   "execution_count": 2,
   "metadata": {
    "editable": true,
    "slideshow": {
     "slide_type": ""
    },
    "tags": []
   },
   "outputs": [],
   "source": [
    "with open('../assets/drz-settings-current.json', 'r') as fid:\n",
    "    cfg = json.load(fid)\n",
    "\n",
    "OPBOD = cfg['AUCTION']['kind'] == 'opbod'\n",
    "AUCTION_ID = cfg['AUCTION']['id']\n",
    "DATE = cfg['AUCTION']['date']\n",
    "DATA_DIR = cfg['FILE_LOCATION']['data_dir']\n",
    "auction_month = DATE[:4] + '-' + DATE[4:6]\n",
    "if cfg['AUCTION']['kind'] == 'inschrijving':\n",
    "    month_counter = re.sub('(-)(\\d{2})', '\\g<1>', AUCTION_ID)[5:8]\n",
    "elif cfg['AUCTION']['kind'] == 'opbod':\n",
    "    month_counter = re.sub('(-)(\\d{2})(\\d{2})', '-\\g<2>', AUCTION_ID)[5:8]\n",
    "\n",
    "sys.path.insert(0, cfg['FILE_LOCATION']['code_dir'])\n",
    "\n",
    "QUICK_MERGE = False\n",
    "SKIPSAVE = False\n",
    "OVIDATA = True\n",
    "VERBOSE = 1"
   ]
  },
  {
   "cell_type": "markdown",
   "metadata": {
    "editable": true,
    "slideshow": {
     "slide_type": ""
    },
    "tags": []
   },
   "source": [
    "### Modules and functions"
   ]
  },
  {
   "cell_type": "code",
   "execution_count": 3,
   "metadata": {},
   "outputs": [
    {
     "name": "stdout",
     "output_type": "stream",
     "text": [
      "enjoy rdw_info\n"
     ]
    }
   ],
   "source": [
    "import pandas as pd\n",
    "import numpy as np\n",
    "import re \n",
    "import os\n",
    "# to keep api key hidden import this from sub dir\n",
    "import assets.hidden_api_keys as hidden_api_keys\n",
    "from rdw_info import *"
   ]
  },
  {
   "cell_type": "code",
   "execution_count": 4,
   "metadata": {},
   "outputs": [],
   "source": [
    "# Load registrations\n",
    "suffix = '' if not OPBOD else '-opbod';\n",
    "file_name = f'{DATA_DIR}/auctions/enriched-results/rdw-reg/rdw-reg-full-0-data-{auction_month}-{month_counter}{suffix}.pkl'\n",
    "rdw_per_reg = pd.read_pickle(file_name)\n",
    "rdw_per_reg.index.name = 'kenteken';"
   ]
  },
  {
   "cell_type": "markdown",
   "metadata": {
    "editable": true,
    "slideshow": {
     "slide_type": ""
    },
    "tags": []
   },
   "source": [
    "# Scrape data from rdw website"
   ]
  },
  {
   "cell_type": "code",
   "execution_count": null,
   "metadata": {
    "editable": true,
    "slideshow": {
     "slide_type": ""
    },
    "tags": [
     "nbconvert_instruction:remove_all_outputs"
    ]
   },
   "outputs": [],
   "source": [
    "VERBOSE = 100\n",
    "if OVIDATA == False:\n",
    "    rdw_ovi = None\n",
    "else:\n",
    "    regs = rdw_per_reg['registrations'].Reg.to_list()\n",
    "    Info = OviInfo(regs, verbose=VERBOSE)\n",
    "    Info.process_api()\n",
    "    print(Info)\n",
    "\n",
    "    rdw_ovi = Info.data_.copy()\n",
    "    # make fields lowercase and add \"ovi_\"\n",
    "    rdw_ovi.index.name='kenteken'\n",
    "    rdw_ovi.columns = [re.sub(r'([A-Z])',r'_\\1', c).lower() if c != 'TimeStamp' else c for c in rdw_ovi.columns] # after capital, add _ \n",
    "    rdw_ovi.columns = [re.sub(r'^_','', c) for c in rdw_ovi.columns] # remove trailing _\n",
    "    # Basic operations\n",
    "    if 'eigenaren' in rdw_ovi.index:\n",
    "        rdw_ovi = pd.concat(\n",
    "            [rdw_ovi, \n",
    "             rdw_ovi.eigenaren.str.split('/', expand=True).rename(columns = {0: 'eigenaren_private', 1: 'eigenaren_company'}).astype('Int8')\n",
    "            ], axis=1)\n",
    "        rdw_ovi['eigenaren_total'] = rdw_ovi.eigenaren_private + rdw_ovi.eigenaren_company\n",
    "        #rdw_ovi['ovi_wachten_op_keuring_ind'] = rdw_ovi.ovi_wachten_op_keuring.apply(lambda x: {'Ja': True, 'Nee': False}[x] if isinstance(x, str) else x).astype('boolean')\n",
    "\n",
    "    if VERBOSE > 1:\n",
    "        rdw_ovi\n",
    "    else:\n",
    "        print(rdw_ovi.shape)"
   ]
  },
  {
   "cell_type": "code",
   "execution_count": 6,
   "metadata": {
    "editable": true,
    "slideshow": {
     "slide_type": ""
    },
    "tags": []
   },
   "outputs": [
    {
     "data": {
      "text/plain": [
       "(73, 1)"
      ]
     },
     "execution_count": 6,
     "metadata": {},
     "output_type": "execute_result"
    }
   ],
   "source": [
    "out = rdw_ovi.copy()\n",
    "out.shape"
   ]
  },
  {
   "cell_type": "code",
   "execution_count": null,
   "metadata": {
    "tags": [
     "nbconvert_instruction:remove_all_outputs"
    ]
   },
   "outputs": [],
   "source": [
    "# Save\n",
    "file_name = f'{DATA_DIR}/auctions/enriched-results/rdw-ovi/rdw-ovi-0-data-{auction_month}-{month_counter}.pkl'\n",
    "\n",
    "if OPBOD:\n",
    "    file_name = file_name.replace('.pkl', '-opbod.pkl')\n",
    "    \n",
    "if (SKIPSAVE==False) and (not(os.path.isfile(file_name))):\n",
    "    print(file_name)\n",
    "    out.to_pickle(file_name)\n",
    "else:\n",
    "    print(f'Skip. {file_name} exists or saving is disabled in settings.')"
   ]
  },
  {
   "cell_type": "code",
   "execution_count": 8,
   "metadata": {},
   "outputs": [],
   "source": [
    "#DEBUG"
   ]
  },
  {
   "cell_type": "raw",
   "metadata": {},
   "source": [
    "Info.verbose_level_ = 100\n",
    "Info._url\n",
    "# web_request(Info._url, params = {'kenteken': Info.get_current_reg()})\n",
    "import requests\n",
    "headers =  {\"User-Agent\": \"Mozilla/5.0\"}\n",
    "resp = requests.request('GET', Info._url, params = {'kenteken': Info.get_current_reg()}, headers=headers)\n",
    "resp.url, resp.status_code, resp.reason\n",
    "# resp.text"
   ]
  },
  {
   "cell_type": "raw",
   "metadata": {},
   "source": [
    "# was\n",
    "# {\n",
    "# 'Server': 'Microsoft-Azure-Application-Gateway/v2',\n",
    "# 'Date': 'Wed, 11 Dec 2024 17:44:57 GMT',\n",
    "# 'Content-Type': 'text/html',\n",
    "# 'Content-Length': '179',\n",
    "# 'Connection': 'keep-alive'}\n",
    "# is\n",
    "# {'Date': 'Wed, 11 Dec 2024 17:45:25 GMT',\n",
    "# 'Content-Type': 'text/html',\n",
    "# 'Content-Length': '1539',\n",
    "# 'Connection': 'keep-alive',\n",
    "# 'Accept-Ranges': 'bytes',\n",
    "# 'Cache-Control': 'no-store, no-cache, must-revalidate, max-age=0',\n",
    "# 'Content-Encoding': 'gzip',\n",
    "# 'ETag': '\"0e367799c44db1:0\"',\n",
    "# 'Last-Modified': 'Mon, 02 Dec 2024 09:27:58 GMT',\n",
    "# 'Vary': 'Accept-Encoding',\n",
    "# 'Strict-Transport-Security': 'max-age=31536000; includeSubDomains',\n",
    "# 'X-XSS-Protection': '1; mode=block',\n",
    "# 'X-Content-Type-Options': 'nosniff',\n",
    "# 'Referrer-Policy': 'same-origin',\n",
    "# 'Content-Security-Policy': \"default-src 'self'; script-src 'self' az416426.vo.msecnd.net https://*.googletagmanager.com https://tagmanager.google.com https://www.google-analytics.com; connect-src 'self' https: https://*.google-analytics.com https://*.analytics.google.com https://*.googletagmanager.com https://*.g.doubleclick.net https://*.google.com; img-src 'self' data: https://*.google-analytics.com https://*.analytics.google.com https://*.googletagmanager.com https://*.g.doubleclick.net https://*.google.com; style-src 'self'; font-src 'self'; object-src 'none';  frame-ancestors https://authenticatie1.rdw.nl https://authenticatie2.rdw.nl;\"\n",
    "}\n",
    "resp.headers"
   ]
  },
  {
   "cell_type": "code",
   "execution_count": 9,
   "metadata": {},
   "outputs": [],
   "source": [
    "### ISSUE: site calls several .js scripts that generate info page. "
   ]
  },
  {
   "cell_type": "raw",
   "metadata": {},
   "source": [
    "Info.tree_.xpath('//*/app-ovi//*/p/text()')"
   ]
  }
 ],
 "metadata": {
  "jupytext": {
   "formats": "ipynb,py:percent"
  },
  "kernelspec": {
   "display_name": "Python 3 (ipykernel)",
   "language": "python",
   "name": "python3"
  },
  "language_info": {
   "codemirror_mode": {
    "name": "ipython",
    "version": 3
   },
   "file_extension": ".py",
   "mimetype": "text/x-python",
   "name": "python",
   "nbconvert_exporter": "python",
   "pygments_lexer": "ipython3",
   "version": "3.10.12"
  },
  "toc-autonumbering": false,
  "toc-showcode": true,
  "toc-showmarkdowntxt": true
 },
 "nbformat": 4,
 "nbformat_minor": 4
}
