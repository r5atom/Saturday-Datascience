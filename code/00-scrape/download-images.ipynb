{
 "cells": [
  {
   "cell_type": "markdown",
   "metadata": {
    "slideshow": {
     "slide_type": ""
    },
    "tags": []
   },
   "source": [
    "# Download images from the auction results\n",
    "\n",
    "Use the url from the auction result to download all images from the auction."
   ]
  },
  {
   "cell_type": "code",
   "execution_count": 1,
   "metadata": {},
   "outputs": [],
   "source": [
    "import re\n",
    "import json\n",
    "import pandas as pd\n",
    "import os"
   ]
  },
  {
   "cell_type": "code",
   "execution_count": 2,
   "metadata": {
    "slideshow": {
     "slide_type": ""
    },
    "tags": []
   },
   "outputs": [
    {
     "name": "stdout",
     "output_type": "stream",
     "text": [
      "{'kind': 'inschrijving', 'id': '2023-0019', 'date': '20231007'}\n"
     ]
    }
   ],
   "source": [
    "with open('../assets/drz-settings-current.json', 'r') as fid:\n",
    "    cfg = json.load(fid)\n",
    "\n",
    "print(cfg['AUCTION'])\n",
    "\n",
    "OPBOD = cfg['AUCTION']['kind'] == 'opbod'\n",
    "AUCTION_ID = cfg['AUCTION']['id']\n",
    "DATE = cfg['AUCTION']['date']\n",
    "DATA_DIR = cfg['FILE_LOCATION']['data_dir']\n",
    "IMAGE_DIR = cfg['FILE_LOCATION']['image_dir']\n",
    "auction_month = DATE[:4] + '-' + DATE[4:6]\n",
    "if cfg['AUCTION']['kind'] == 'inschrijving':\n",
    "    month_counter = re.sub('(-)(\\d{2})', '\\g<1>', AUCTION_ID)[5:8]\n",
    "    URL = cfg['URL']['inschrijving']\n",
    "elif cfg['AUCTION']['kind'] == 'opbod':\n",
    "    month_counter = re.sub('(-)(\\d{2})(\\d{2})', '-\\g<2>', AUCTION_ID)[5:8]\n",
    "    URL = cfg['URL']['opbod']\n",
    "\n",
    "VERBOSE = int(cfg['GENERAL']['verbose'])\n",
    "#SAVE_METHOD = cfg['GENERAL']['save_method']\n",
    "\n"
   ]
  },
  {
   "cell_type": "code",
   "execution_count": 3,
   "metadata": {
    "slideshow": {
     "slide_type": ""
    },
    "tags": []
   },
   "outputs": [],
   "source": [
    "def download_images_from_lot(lot, path=cfg['FILE_LOCATION']['image_dir'], skip=True):\n",
    "    '''\n",
    "    Download .jpg to disk\n",
    "    '''\n",
    "    import urllib.request\n",
    "    import re\n",
    "    \n",
    "    urls = lot.Images\n",
    "\n",
    "    fn_patt = '{}/{}-{}.jpg'.format(path,lot.name,'{:02g}')\n",
    "\n",
    "    c = 0\n",
    "    for i,url in enumerate(urls):\n",
    "        # change url to get larger image\n",
    "        url = re.sub('1024/768','1024/1024',url)\n",
    "        # apply format: add counter\n",
    "        fn = fn_patt.format(i)\n",
    "        if os.path.isfile(fn) & skip:\n",
    "            continue\n",
    "            \n",
    "        print(url, '->', fn,end='',flush=True)\n",
    "        urllib.request.urlretrieve(url, fn)\n",
    "        print('',end='\\r')\n",
    "        \n",
    "        c+=1\n",
    "        \n",
    "    return c # nr of images in this lot\n",
    "\n"
   ]
  },
  {
   "cell_type": "markdown",
   "metadata": {},
   "source": [
    "# Load auction results\n",
    "\n",
    "(Can also use rdw data here.)"
   ]
  },
  {
   "cell_type": "code",
   "execution_count": 4,
   "metadata": {
    "slideshow": {
     "slide_type": ""
    },
    "tags": []
   },
   "outputs": [
    {
     "name": "stdout",
     "output_type": "stream",
     "text": [
      "/home/tom/bin/satdatsci/Saturday-Datascience/data/auctions/results/drz-data-2023-10-19.pkl\n",
      "269 lots\n",
      "3439 pictures\n"
     ]
    }
   ],
   "source": [
    "file_name = f'{DATA_DIR}/auctions/results/drz-data-{auction_month}-{month_counter}.pkl'\n",
    "if OPBOD:\n",
    "    file_name = file_name.replace('.pkl', '-opbod.pkl')\n",
    "    \n",
    "if not os.path.isfile(file_name):\n",
    "    # see if -unparsed- exist\n",
    "    file_name = file_name.replace('auctions/results', 'auctions/temp-results')\n",
    "    file_name = file_name.replace('drz-data-', 'drz-data-unparsed-')\n",
    "    if not os.path.isfile(file_name):\n",
    "        # see if -unparsed without price- exists\n",
    "        file_name = file_name.replace('auctions/temp-results', 'auctions/without-price')\n",
    "        if OPBOD:\n",
    "            file_name = file_name.replace('-opbod.pkl', '-without-price-opbod.pkl')\n",
    "        else:\n",
    "            file_name = file_name.replace('.pkl', '-without-price.pkl')\n",
    "\n",
    "        if not os.path.isfile(file_name):\n",
    "            # see if -without price- exists (but not unparsed)\n",
    "            file_name = file_name.replace('drz-data-unparsed-', 'drz-data-')\n",
    "\n",
    "print(file_name)\n",
    "drz = pd.read_pickle(file_name)\n",
    "print(drz.shape[0], 'lots')\n",
    "print(drz.N_images.sum(), 'pictures')"
   ]
  },
  {
   "cell_type": "markdown",
   "metadata": {},
   "source": [
    "# Download"
   ]
  },
  {
   "cell_type": "code",
   "execution_count": null,
   "metadata": {
    "lines_to_next_cell": 2,
    "slideshow": {
     "slide_type": ""
    },
    "tags": [
     "nbconvert_instruction:remove_all_outputs"
    ]
   },
   "outputs": [],
   "source": [
    "if OPBOD:\n",
    "    images_dir = IMAGE_DIR + '/opbod/' + DATE[:4] + os.path.sep + month_counter\n",
    "else:\n",
    "    images_dir = IMAGE_DIR + os.path.sep + DATE[:4] + os.path.sep + month_counter\n",
    "    \n",
    "if not os.path.exists(images_dir):\n",
    "    print(f'Dir does not exist. Create [{images_dir}]')\n",
    "    os.makedirs(images_dir)\n",
    "    \n",
    "# start_idx = pd.np.where(drz.index == '2019-5-8332')[0][0]\n",
    "start_idx = 0\n",
    "npic = drz.iloc[start_idx:,:].apply(\n",
    "    lambda lot:download_images_from_lot(lot, path=images_dir)\n",
    "    , axis='columns')\n",
    "\n",
    "print('saved')\n",
    "print(npic.shape[0], 'lots')\n",
    "print(npic.sum(), 'pictures')\n",
    "assert npic.equals(drz.N_images) | (npic.sum() == 0)"
   ]
  },
  {
   "cell_type": "markdown",
   "metadata": {
    "slideshow": {
     "slide_type": ""
    },
    "tags": []
   },
   "source": [
    "# Next: upload to cloud backup\n",
    "\n",
    "When images are stored locally it is advised to back them up in the cloud."
   ]
  },
  {
   "cell_type": "code",
   "execution_count": null,
   "metadata": {},
   "outputs": [],
   "source": []
  }
 ],
 "metadata": {
  "jupytext": {
   "formats": "ipynb,py:percent"
  },
  "kernelspec": {
   "display_name": "Python 3 (ipykernel)",
   "language": "python",
   "name": "python3"
  },
  "language_info": {
   "codemirror_mode": {
    "name": "ipython",
    "version": 3
   },
   "file_extension": ".py",
   "mimetype": "text/x-python",
   "name": "python",
   "nbconvert_exporter": "python",
   "pygments_lexer": "ipython3",
   "version": "3.10.12"
  }
 },
 "nbformat": 4,
 "nbformat_minor": 4
}
