{
 "cells": [
  {
   "cell_type": "markdown",
   "metadata": {},
   "source": [
    "# Download images from the auction results\n",
    "\n",
    "Use the url from the auction result to download all images from the auction."
   ]
  },
  {
   "cell_type": "code",
   "execution_count": null,
   "metadata": {
    "tags": [
     "nbconvert_instruction:remove_all_outputs"
    ]
   },
   "outputs": [],
   "source": [
    "import os\n",
    "# setting path\n",
    "os.chdir(r'..')\n",
    "\n",
    "import drz_config\n",
    "cfg = drz_config.read_config()\n",
    "DATE = cfg['DATE']\n",
    "VERBOSE = cfg['VERBOSE']\n",
    "OPBOD = cfg['OPBOD']\n",
    "SKIPSAVE = cfg['SKIPSAVE']\n",
    "if not OPBOD:\n",
    "    month_counter = cfg['URL'][-2:]\n",
    "else:\n",
    "    month_counter = cfg['URL'][-4:-2]\n",
    "\n",
    "if VERBOSE > 0:\n",
    "    display(cfg)\n",
    "    \n",
    "if SKIPSAVE:\n",
    "    raise InterruptedError('In settings saving is disabled.')\n",
    "\n"
   ]
  },
  {
   "cell_type": "code",
   "execution_count": 2,
   "metadata": {},
   "outputs": [],
   "source": [
    "import pandas as pd\n",
    "import os\n",
    "\n",
    "\n",
    "def download_images_from_lot(lot, path='../data/images', skip=True):\n",
    "    '''\n",
    "    Download .jpg to disk\n",
    "    '''\n",
    "    import urllib.request\n",
    "    import re\n",
    "    \n",
    "    urls = lot.Images\n",
    "\n",
    "    fn_patt = '{}/{}-{}.jpg'.format(path,lot.name,'{:02g}')\n",
    "\n",
    "    for i,url in enumerate(urls):\n",
    "        # change url to get larger image\n",
    "        url = re.sub('1024/768','1024/1024',url)\n",
    "        # apply format: add counter\n",
    "        fn = fn_patt.format(i)\n",
    "        if os.path.isfile(fn) & skip:\n",
    "            continue\n",
    "            \n",
    "        print(url, '->', fn,end='',flush=True)\n",
    "        urllib.request.urlretrieve(url, fn)\n",
    "        print('',end='\\r')\n"
   ]
  },
  {
   "cell_type": "markdown",
   "metadata": {},
   "source": [
    "# Load auction results\n",
    "\n",
    "(Can also use rdw data here.)"
   ]
  },
  {
   "cell_type": "code",
   "execution_count": null,
   "metadata": {
    "tags": [
     "nbconvert_instruction:remove_all_outputs"
    ]
   },
   "outputs": [],
   "source": [
    "file_name = f'../data/auctions/results/drz-data-{DATE}-{month_counter}.pkl'\n",
    "if OPBOD:\n",
    "    file_name = file_name.replace('.pkl', '-opbod.pkl')\n",
    "    \n",
    "if not os.path.isfile(file_name):\n",
    "    # see if -unparsed- exist\n",
    "    file_name = file_name.replace('auctions/results', 'auctions/temp-results')\n",
    "    file_name = file_name.replace('drz-data-', 'drz-data-unparsed-')\n",
    "    if not os.path.isfile(file_name):\n",
    "        # see if -unparsed without price- exists\n",
    "        file_name = file_name.replace('auctions/temp-results', 'auctions/without-price')\n",
    "        if OPBOD:\n",
    "            file_name = file_name.replace('-opbod.pkl', '-without-price-opbod.pkl')\n",
    "        else:\n",
    "            file_name = file_name.replace('.pkl', '-without-price.pkl')\n",
    "\n",
    "        if not os.path.isfile(file_name):\n",
    "            # see if -without price- exists (but not unparsed)\n",
    "            file_name = file_name.replace('drz-data-unparsed-', 'drz-data-')\n",
    "\n",
    "print(file_name)\n",
    "drz = pd.read_pickle(file_name)\n",
    "print(drz.N_images.sum(), 'pictures')"
   ]
  },
  {
   "cell_type": "markdown",
   "metadata": {},
   "source": [
    "# Download"
   ]
  },
  {
   "cell_type": "code",
   "execution_count": null,
   "metadata": {
    "tags": [
     "nbconvert_instruction:remove_all_outputs"
    ]
   },
   "outputs": [],
   "source": [
    "if OPBOD:\n",
    "    images_dir = r'/home/tom/data/satdatsci-images/opbod/' + DATE.replace('-', os.path.sep)\n",
    "else:\n",
    "    images_dir = r'/home/tom/data/satdatsci-images/' + DATE.replace('-', os.path.sep)\n",
    "    \n",
    "if not os.path.exists(images_dir):\n",
    "    print(f'Dir does not exist. Create [{images_dir}]')\n",
    "    os.makedirs(images_dir)\n",
    "    \n",
    "# start_idx = pd.np.where(drz.index == '2019-5-8332')[0][0]\n",
    "start_idx = 0\n",
    "drz.iloc[start_idx:,:].apply(\n",
    "    lambda lot:download_images_from_lot(lot, path=images_dir)\n",
    "    ,axis='columns')"
   ]
  },
  {
   "cell_type": "markdown",
   "metadata": {},
   "source": [
    "# Next: upload to cloud backup\n",
    "\n",
    "When images are stored locally it is advised to back them up in the cloud."
   ]
  },
  {
   "cell_type": "code",
   "execution_count": null,
   "metadata": {},
   "outputs": [],
   "source": []
  },
  {
   "cell_type": "code",
   "execution_count": null,
   "metadata": {},
   "outputs": [],
   "source": []
  },
  {
   "cell_type": "code",
   "execution_count": null,
   "metadata": {},
   "outputs": [],
   "source": []
  },
  {
   "cell_type": "code",
   "execution_count": null,
   "metadata": {},
   "outputs": [],
   "source": []
  },
  {
   "cell_type": "code",
   "execution_count": null,
   "metadata": {},
   "outputs": [],
   "source": []
  }
 ],
 "metadata": {
  "kernelspec": {
   "display_name": "Python 3 (ipykernel)",
   "language": "python",
   "name": "python3"
  },
  "language_info": {
   "codemirror_mode": {
    "name": "ipython",
    "version": 3
   },
   "file_extension": ".py",
   "mimetype": "text/x-python",
   "name": "python",
   "nbconvert_exporter": "python",
   "pygments_lexer": "ipython3",
   "version": "3.10.6"
  }
 },
 "nbformat": 4,
 "nbformat_minor": 4
}
