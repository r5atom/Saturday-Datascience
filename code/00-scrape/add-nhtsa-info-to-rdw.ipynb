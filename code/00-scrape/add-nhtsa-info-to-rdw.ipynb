{
 "cells": [
  {
   "cell_type": "markdown",
   "metadata": {
    "editable": true,
    "slideshow": {
     "slide_type": ""
    },
    "tags": []
   },
   "source": [
    "# NHTSA vpic\n",
    "\n",
    "\n",
    "Get additional data from The National Highway Traffic Safety Administration (NHTSA) based on VIN. \n",
    "\n",
    "Product Information Catalog and Vehicle Listing (vPIC)  \n",
    "https://vpic.nhtsa.dot.gov/api/\n"
   ]
  },
  {
   "cell_type": "markdown",
   "metadata": {
    "slideshow": {
     "slide_type": ""
    },
    "tags": []
   },
   "source": [
    "### User variables\n"
   ]
  },
  {
   "cell_type": "code",
   "execution_count": 1,
   "metadata": {
    "slideshow": {
     "slide_type": ""
    },
    "tags": []
   },
   "outputs": [],
   "source": [
    "import sys\n",
    "import re\n",
    "import json\n",
    "from IPython.display import display"
   ]
  },
  {
   "cell_type": "code",
   "execution_count": 2,
   "metadata": {
    "editable": true,
    "slideshow": {
     "slide_type": ""
    },
    "tags": []
   },
   "outputs": [],
   "source": [
    "with open('../assets/drz-settings-current.json', 'r') as fid:\n",
    "    cfg = json.load(fid)\n",
    "\n",
    "OPBOD = cfg['AUCTION']['kind'] == 'opbod'\n",
    "AUCTION_ID = cfg['AUCTION']['id']\n",
    "DATE = cfg['AUCTION']['date']\n",
    "DATA_DIR = cfg['FILE_LOCATION']['data_dir']\n",
    "auction_month = DATE[:4] + '-' + DATE[4:6]\n",
    "if cfg['AUCTION']['kind'] == 'inschrijving':\n",
    "    month_counter = re.sub('(-)(\\d{2})', '\\g<1>', AUCTION_ID)[5:8]\n",
    "elif cfg['AUCTION']['kind'] == 'opbod':\n",
    "    month_counter = re.sub('(-)(\\d{2})(\\d{2})', '-\\g<2>', AUCTION_ID)[5:8]\n",
    "\n",
    "sys.path.insert(0, cfg['FILE_LOCATION']['code_dir'])\n",
    "\n",
    "QUICK_MERGE = False\n",
    "SKIPSAVE = False\n",
    "OVIDATA = True\n",
    "VERBOSE = 1"
   ]
  },
  {
   "cell_type": "markdown",
   "metadata": {
    "editable": true,
    "slideshow": {
     "slide_type": ""
    },
    "tags": []
   },
   "source": [
    "### Modules and functions"
   ]
  },
  {
   "cell_type": "code",
   "execution_count": 3,
   "metadata": {},
   "outputs": [
    {
     "name": "stdout",
     "output_type": "stream",
     "text": [
      "enjoy rdw_info\n"
     ]
    }
   ],
   "source": [
    "import pandas as pd\n",
    "import numpy as np\n",
    "import re \n",
    "import os\n",
    "# to keep api key hidden import this from sub dir\n",
    "import assets.hidden_api_keys as hidden_api_keys\n",
    "from rdw_info import *"
   ]
  },
  {
   "cell_type": "markdown",
   "metadata": {},
   "source": [
    "### Load auction results"
   ]
  },
  {
   "cell_type": "code",
   "execution_count": null,
   "metadata": {
    "editable": true,
    "slideshow": {
     "slide_type": ""
    },
    "tags": [
     "nbconvert_instruction:remove_all_outputs"
    ]
   },
   "outputs": [],
   "source": [
    "file_name = f'{DATA_DIR}/auctions/results/drz-data-{auction_month}-{month_counter}.pkl'\n",
    "if OPBOD:\n",
    "    file_name = file_name.replace('.pkl', '-opbod.pkl')\n",
    "if not os.path.isfile(file_name):\n",
    "    # see if -without price- exists\n",
    "    NO_PRICE = True\n",
    "    if NO_PRICE:\n",
    "        file_name = file_name.replace('auctions/results', 'auctions/without-price')\n",
    "        file_name = file_name.replace('.pkl', '-without-price.pkl')\n",
    "    if OPBOD:\n",
    "        file_name = file_name.replace('-opbod-without-price.pkl', '-without-price-opbod.pkl')\n",
    "#     else:\n",
    "#         file_name = file_name.replace('.pkl', '-without-price.pkl')\n",
    "else:\n",
    "    NO_PRICE = False\n",
    "\n",
    "\n",
    "print(file_name)\n",
    "drz = pd.read_pickle(file_name)"
   ]
  },
  {
   "cell_type": "code",
   "execution_count": 5,
   "metadata": {},
   "outputs": [],
   "source": [
    "# Load registrations\n",
    "suffix = '' if not OPBOD else '-opbod';\n",
    "file_name = f'{DATA_DIR}/auctions/enriched-results/rdw-reg/rdw-reg-full-0-data-{auction_month}-{month_counter}{suffix}.pkl'\n",
    "rdw_per_reg = pd.read_pickle(file_name)\n",
    "rdw_per_reg.index.name = 'kenteken';"
   ]
  },
  {
   "cell_type": "markdown",
   "metadata": {},
   "source": [
    "# Collect data from VINs"
   ]
  },
  {
   "cell_type": "code",
   "execution_count": 6,
   "metadata": {
    "editable": true,
    "slideshow": {
     "slide_type": ""
    },
    "tags": []
   },
   "outputs": [],
   "source": [
    "from vin_lookup import Nhtsa_batch"
   ]
  },
  {
   "cell_type": "code",
   "execution_count": 7,
   "metadata": {
    "editable": true,
    "slideshow": {
     "slide_type": ""
    },
    "tags": []
   },
   "outputs": [],
   "source": [
    "# empty dictionary\n",
    "nhtsa_per_vin = dict()"
   ]
  },
  {
   "cell_type": "code",
   "execution_count": null,
   "metadata": {
    "editable": true,
    "slideshow": {
     "slide_type": ""
    },
    "tags": [
     "nbconvert_instruction:remove_all_outputs"
    ]
   },
   "outputs": [],
   "source": [
    "key = 'vpic'\n",
    "df_ =  drz.loc[:, ['Vin', 'Mfyear']].copy().replace({'': np.nan, 'onbekend': np.nan}) # copy from drz\n",
    "\n",
    "# borrow mfyear from rdw info\n",
    "rdw_mfy = pd.merge(  left = rdw_per_reg['registrations'].reset_index(),\n",
    "                     right = rdw_per_reg['gekentekende_voertuigen'].datum_eerste_toelating.reset_index(),\n",
    "                     how='left',\n",
    "                     right_on='kenteken',\n",
    "                     left_on='kenteken'\n",
    "                    ).loc[:, ['lot_index', 'datum_eerste_toelating']].set_index('lot_index')\n",
    "df_ =  pd.concat([df_, (rdw_mfy // 10000).astype(pd.Int16Dtype())], axis=1)\n",
    "df_.update(df_.loc[:, ['Mfyear', 'datum_eerste_toelating']].bfill(axis=1))\n",
    "df_.rename(columns={'Vin': 'VIN', 'Mfyear': 'MFY'}, inplace=True)\n",
    "nhtsa_per_vin[key] = df_.loc[:, ['VIN', 'MFY']]\n",
    "\n",
    "# lookup vins in batches\n",
    "Batch = Nhtsa_batch(nhtsa_per_vin[key].iloc[:,:2].dropna(subset='VIN'), \n",
    "                    data_dict_fn = f\"{cfg['FILE_LOCATION']['code_dir']}/assets/nhtsa-data-dict.csv\",\n",
    "                    verbose=VERBOSE)\n",
    "Batch.full_parse()\n",
    "\n",
    "# store in dict\n",
    "out = Batch.data.copy()\n",
    "out.loc[:, 'TimeStamp'] = pd.Timestamp.now().strftime('%Y%m%d')\n",
    "nhtsa_per_vin[key] = pd.concat([\n",
    "    nhtsa_per_vin[key],\n",
    "    out.drop(columns=out.columns[out.columns.str.startswith('system') | out.columns.str.startswith('internal')])\n",
    "], axis=1)\n",
    "\n",
    "if VERBOSE > 1:\n",
    "    display(nhtsa_per_vin[key])\n",
    "else:\n",
    "    print('\\n'.join(nhtsa_per_vin.keys()))"
   ]
  },
  {
   "cell_type": "code",
   "execution_count": 9,
   "metadata": {},
   "outputs": [],
   "source": [
    "# Merge with input and potentential other sources\n",
    "nhtsa_per_vin['vpic'].index.name = 'lot_index'\n",
    "Batch.data.index.name = 'lot_index'\n",
    "df_vins = pd.concat([\n",
    "    nhtsa_per_vin['vpic'].loc[:, ['VIN', 'MFY']], \n",
    "    Batch.data\n",
    "], axis = 1)\n",
    "# add timestamp\n",
    "df_vins.loc[:, 'TimeStamp'] = pd.Timestamp.now().strftime('%Y%m%d')\n",
    "# Set index to vin/mfy\n",
    "df_vins = df_vins.reset_index().set_index(['VIN', 'MFY'])"
   ]
  },
  {
   "cell_type": "code",
   "execution_count": 10,
   "metadata": {},
   "outputs": [
    {
     "data": {
      "text/plain": [
       "(89, 156)"
      ]
     },
     "execution_count": 10,
     "metadata": {},
     "output_type": "execute_result"
    }
   ],
   "source": [
    "out = df_vins.copy()\n",
    "out.shape"
   ]
  },
  {
   "cell_type": "code",
   "execution_count": null,
   "metadata": {
    "tags": [
     "nbconvert_instruction:remove_all_outputs"
    ]
   },
   "outputs": [],
   "source": [
    "# Save\n",
    "file_name = f'{DATA_DIR}/auctions/enriched-results/nhtsa-vpic/nhtsa-vpic-0-data-{auction_month}-{month_counter}.pkl'\n",
    "\n",
    "if NO_PRICE:\n",
    "    file_name = file_name.replace('.pkl', '-without-price.pkl')\n",
    "if OPBOD:\n",
    "    file_name = file_name.replace('.pkl', '-opbod.pkl')\n",
    "    \n",
    "if (SKIPSAVE==False) and (not(os.path.isfile(file_name))):\n",
    "    print(file_name)\n",
    "    out.to_pickle(file_name)\n",
    "else:\n",
    "    print(f'Skip. {file_name} exists or saving is disabled in settings.')"
   ]
  }
 ],
 "metadata": {
  "jupytext": {
   "formats": "ipynb,py:percent"
  },
  "kernelspec": {
   "display_name": "Python 3 (ipykernel)",
   "language": "python",
   "name": "python3"
  },
  "language_info": {
   "codemirror_mode": {
    "name": "ipython",
    "version": 3
   },
   "file_extension": ".py",
   "mimetype": "text/x-python",
   "name": "python",
   "nbconvert_exporter": "python",
   "pygments_lexer": "ipython3",
   "version": "3.10.12"
  },
  "toc-autonumbering": false,
  "toc-showcode": true,
  "toc-showmarkdowntxt": true
 },
 "nbformat": 4,
 "nbformat_minor": 4
}
