{
 "cells": [
  {
   "cell_type": "markdown",
   "metadata": {},
   "source": [
    "# Explore auction results\n",
    "\n",
    "EDA of recent auction."
   ]
  },
  {
   "cell_type": "code",
   "execution_count": null,
   "metadata": {
    "tags": [
     "nbconvert_instruction:remove_all_outputs"
    ]
   },
   "outputs": [],
   "source": [
    "import os\n",
    "# setting path\n",
    "os.chdir(r'..')\n",
    "\n",
    "import drz_config\n",
    "cfg = drz_config.read_config()\n",
    "DATE = cfg['DATE']\n",
    "VERBOSE = cfg['VERBOSE']\n",
    "OPBOD = cfg['OPBOD']\n",
    "if not OPBOD:\n",
    "    month_counter = cfg['URL'][-2:]\n",
    "else:\n",
    "    month_counter = cfg['URL'][-4:-2]\n",
    "    \n",
    "if VERBOSE > 0:\n",
    "    display(cfg)"
   ]
  },
  {
   "cell_type": "code",
   "execution_count": 2,
   "metadata": {},
   "outputs": [],
   "source": [
    "import pandas as pd\n",
    "import numpy as np\n",
    "import matplotlib.pyplot as plt\n",
    "from IPython.display import Image\n",
    "import os"
   ]
  },
  {
   "cell_type": "markdown",
   "metadata": {},
   "source": [
    "# Load results\n",
    "\n",
    "Load both auction results **and** data from rdw."
   ]
  },
  {
   "cell_type": "code",
   "execution_count": null,
   "metadata": {
    "tags": [
     "nbconvert_instruction:remove_all_outputs"
    ]
   },
   "outputs": [],
   "source": [
    "file_name = f'../data/drz-data-{DATE}-{month_counter}.pkl'\n",
    "if OPBOD:\n",
    "    file_name = file_name.replace('.pkl', '-opbod.pkl')\n",
    "if not os.path.isfile(file_name):\n",
    "    # see if -unparsed without price- exists\n",
    "    if OPBOD:\n",
    "        file_name = file_name.replace('-opbod.pkl', '-without-price-opbod.pkl')\n",
    "    else:\n",
    "        file_name = file_name.replace('.pkl', '-without-price.pkl')    \n",
    "    NO_PRICE = os.path.isfile(file_name)\n",
    "print(file_name)\n",
    "drz = pd.read_pickle(file_name)\n",
    "\n",
    "file_name = f'../data/rdw-data-{DATE}-{month_counter}.pkl'\n",
    "if OPBOD:\n",
    "    file_name = file_name.replace('.pkl', '-opbod.pkl')\n",
    "if not os.path.isfile(file_name):\n",
    "    # see if -unparsed without price- exists\n",
    "    if OPBOD:\n",
    "        file_name = file_name.replace('-opbod.pkl', '-without-price-opbod.pkl')\n",
    "    else:\n",
    "        file_name = file_name.replace('.pkl', '-without-price.pkl')    \n",
    "print(file_name)\n",
    "rdw = pd.read_pickle(file_name)\n",
    "\n",
    "# rdw column names\n",
    "#   NOTE: format changed in April 2019: RDW info is appended to auction results as extra columns in dataframe\n",
    "if pd.to_datetime(DATE, format='%Y-%m') >= pd.to_datetime('2019-04', format='%Y-%m'):\n",
    "    rdwinfo = [c for c in rdw.columns if c.startswith('rdw_')]\n",
    "\n",
    "# fix odometer\n",
    "if pd.to_datetime(DATE, format='%Y-%m') == pd.to_datetime('2019-09', format='%Y-%m'):\n",
    "    sel = (rdw.OdoKM == 'volgens NAP logisch') | (rdw.OdoKM == 'volgens NAP onlogisch') | (rdw.OdoKM == 'volgens nap onlogisch')\n",
    "    display(drz.loc[sel, ['Title', 'OdoKM', 'NAP']])\n",
    "    \n",
    "    idx = '2019-9-9106'\n",
    "    print('\\n'.join(drz.loc[idx,'Raw_text']))\n",
    "    drz.loc[idx,'NAP'] = 'logisch'\n",
    "    rdw.loc[idx,'NAP'] = 'logisch'\n",
    "    drz.loc[idx,'OdoKM'] = '251.571'\n",
    "    rdw.loc[idx,'OdoKM'] = '251.571'\n",
    "    \n",
    "    display(drz.loc[[idx],['Title', 'OdoKM', 'NAP']])\n",
    "    display(rdw.loc[[idx],['Title', 'OdoKM', 'NAP']])\n",
    "\n",
    "    idx = '2019-9-9258'\n",
    "    print('\\n'.join(drz.loc[idx,'Raw_text']))\n",
    "    drz.loc[idx,'NAP'] = 'onlogisch'\n",
    "    rdw.loc[idx,'NAP'] = 'onlogisch'\n",
    "    drz.loc[idx,'OdoKM'] = ''\n",
    "    rdw.loc[idx,'OdoKM'] = ''\n",
    "    \n",
    "    idx = '2019-9-9249'\n",
    "    print('\\n'.join(drz.loc[idx,'Raw_text']))\n",
    "    drz.loc[idx,'NAP'] = 'onlogisch'\n",
    "    rdw.loc[idx,'NAP'] = 'onlogisch'\n",
    "    drz.loc[idx,'OdoKM'] = ''\n",
    "    rdw.loc[idx,'OdoKM'] = ''\n",
    "    \n",
    "    \n",
    "    display(rdw.loc[sel, ['Title', 'OdoKM', 'NAP']])\n",
    "    display(drz.loc[sel, ['Title', 'OdoKM', 'NAP']])\n",
    "    sel = (rdw.OdoKM == 'volgens NAP logisch') | (rdw.OdoKM == 'volgens NAP onlogisch')\n",
    "    assert all(~sel)\n",
    "\n"
   ]
  },
  {
   "cell_type": "code",
   "execution_count": null,
   "metadata": {
    "tags": [
     "nbconvert_instruction:remove_all_outputs"
    ]
   },
   "outputs": [],
   "source": [
    "# Have they been actioned before?\n",
    "\n",
    "fn = '../data/cars-from-all-auctions.pkl'\n",
    "if OPBOD:\n",
    "    fn = fn.replace('.pkl', '-opbod.pkl')\n",
    "    \n",
    "print(f'load {fn}')\n",
    "df = pd.read_pickle(fn)\n",
    "\n",
    "# Recurring\n",
    "new = drz.query(\"Reg not in ('', 'onbekend')\").copy()\n",
    "new =  pd.concat([new], keys = ['new'], axis=0)\n",
    "\n",
    "# Keep recurring and duplicates from same source (auction has already been added)\n",
    "regs_in_auct = new.Reg.drop_duplicates().dropna().values\n",
    "source_in_auct = new.Source.drop_duplicates().dropna().values\n",
    "\n",
    "exist = df[df.Reg.isin(regs_in_auct) & ~df.Source.isin(source_in_auct)].copy()\n",
    "exist = pd.concat([exist], keys = ['exist'], axis=0)\n",
    "\n",
    "rep = pd.concat([exist, new])\n",
    "rep.dropna(how='all', axis=0, inplace=True)\n",
    "rep.dropna(how='all', axis=1, inplace=True)\n",
    "rep.reset_index(inplace=True)\n",
    "rep.loc[:, 'date_'] = rep.loc[:, 'level_1'].str.split('-', expand=True).iloc[:,:2].apply('-'.join, axis=1)\n",
    "rep.set_index('Reg', inplace=True)\n",
    "\n",
    "if rep.shape[0] == 0:\n",
    "    print('No cars were auctioned before')\n",
    "else:\n",
    "    print('These cars have been auctioned before.')\n",
    "\n",
    "# Strip identical info\n",
    "for g in exist.Reg.unique():\n",
    "    df_ = rep.loc[g].reset_index().set_index('level_1')\n",
    "    sel = (~((df_ == df_.iloc[-1,:]).all() | df_.isna().all())) & df_.columns.isin(drz.columns)\n",
    "    sel.date_ = True\n",
    "    sel.ItemBrand = True\n",
    "    sel.ItemType = True\n",
    "    sel.Source = False\n",
    "    sel.Reg = True\n",
    "    # compare list elements\n",
    "    df__ = df_.loc[:,sel].T\n",
    "    for col in ['Raw_text']: #, 'Images'\n",
    "        if sel[col]:\n",
    "            lines = df_[col].str.join('\\n').str.split('\\n',expand=True)\n",
    "            uq_lines = pd.unique(lines.values.flatten())\n",
    "            df___ = pd.DataFrame(uq_lines, index=uq_lines).dropna().drop(columns=0)\n",
    "            for c in df_.index:\n",
    "                df___.loc[:,c] = df___.index.isin(lines.loc[c,:])\n",
    "            df___ = df___.replace({True:'+', False:''})\n",
    "            df__ = pd.concat([df__, df___]).drop(col)\n",
    "    with pd.option_context('display.max_rows', df__.shape[0]):\n",
    "        display(df__)"
   ]
  },
  {
   "cell_type": "markdown",
   "metadata": {},
   "source": [
    "# Cheap cars with valid inspection"
   ]
  },
  {
   "cell_type": "code",
   "execution_count": null,
   "metadata": {
    "tags": [
     "nbconvert_instruction:remove_all_outputs"
    ]
   },
   "outputs": [],
   "source": [
    "is_cheap = (\n",
    "    drz.LotType == \"Personenauto\"\n",
    ") & (\n",
    "    drz.Price<3000\n",
    ") & (\n",
    "    drz.Price>0\n",
    ") & ~(\n",
    "    (\n",
    "        drz.APKdate.isnull()\n",
    "    ) | (\n",
    "        drz.APKdate.apply(lambda x:x == '')\n",
    "    )\n",
    ")\n",
    "\n",
    "if all(~is_cheap):\n",
    "    is_cheap[drz.Price[drz.Price>0].argmin()] = True\n",
    "    \n",
    "drz.loc[is_cheap,\n",
    "        [\"Price\",\"ItemType\",\"ItemBrand\",\"Mfdate\",\"APKdate\",\"OdoKM\",\"automatic\", \"benzine\"]].sort_values(by=['benzine', 'automatic', 'OdoKM'], ascending=False)"
   ]
  },
  {
   "cell_type": "code",
   "execution_count": null,
   "metadata": {
    "tags": [
     "nbconvert_instruction:remove_all_outputs"
    ]
   },
   "outputs": [],
   "source": [
    "is_reserved = (\n",
    "    drz.LotType == \"Personenauto\"\n",
    ") & (\n",
    "    drz.Price == 0\n",
    ") \n",
    "\n",
    "drz.loc[is_reserved,\n",
    "        [\"Price\",\"ItemType\",\"ItemBrand\",\"Mfdate\",\"APKdate\",\"OdoKM\",\"automatic\"]].sort_values(by=['APKdate', 'automatic', 'OdoKM'], ascending=False)"
   ]
  },
  {
   "cell_type": "code",
   "execution_count": null,
   "metadata": {
    "tags": [
     "nbconvert_instruction:remove_all_outputs"
    ]
   },
   "outputs": [],
   "source": [
    "if pd.to_datetime(DATE, format='%Y-%m') < pd.to_datetime('2019-04', format='%Y-%m'):\n",
    "    display(rdw.loc[is_cheap,[\"rdwinfo\"]])\n",
    "else:\n",
    "    display(rdw.loc[is_cheap,rdwinfo])"
   ]
  },
  {
   "cell_type": "code",
   "execution_count": null,
   "metadata": {
    "tags": [
     "nbconvert_instruction:remove_all_outputs"
    ]
   },
   "outputs": [],
   "source": [
    "if pd.to_datetime(DATE, format='%Y-%m') < pd.to_datetime('2019-04', format='%Y-%m'):\n",
    "    display(rdw.loc[is_cheap,\"rdwinfo\"][0])\n",
    "else:\n",
    "    display(rdw.loc[is_cheap,rdwinfo].iloc[0,:])"
   ]
  },
  {
   "cell_type": "markdown",
   "metadata": {},
   "source": [
    "# Pictures of lots"
   ]
  },
  {
   "cell_type": "code",
   "execution_count": null,
   "metadata": {
    "tags": [
     "nbconvert_instruction:remove_all_outputs"
    ]
   },
   "outputs": [],
   "source": [
    "# ix=drz.N_images.idxmax()\n",
    "ix=drz.Price.idxmax(); print('Price: EUR {:g}\\n\\n'.format(drz.loc[ix,'Price']))\n",
    "# Mfdate = drz.Mfdate.apply(lambda x: pd.to_datetime(x,format='%d.%m.%Y') if len(x)==10 else np.NaN)\n",
    "# ix=Mfdate.idxmin(); print('year of mf: {:s}\\n\\n'.format(drz.loc[ix,'Mfdate']))\n",
    "# ix = '2019-2-2005' # largest km/day\n",
    "# ix = '2019-2-7345' # largest km\n",
    "\n",
    "print(ix)\n",
    "for u in drz.loc[ix,'Images']:\n",
    "    print(u)\n",
    "    print(drz.loc[ix,'Source'])\n",
    "    display(Image(url=u,width=400))\n",
    "    "
   ]
  },
  {
   "cell_type": "markdown",
   "metadata": {},
   "source": [
    "# Usage\n",
    "\n",
    "How many km are driven per year or day?"
   ]
  },
  {
   "cell_type": "markdown",
   "metadata": {},
   "source": [
    "### Odometer conversion"
   ]
  },
  {
   "cell_type": "code",
   "execution_count": 10,
   "metadata": {},
   "outputs": [],
   "source": [
    "def odo_str2float(df):\n",
    "    '''\n",
    "    Convert odometer to numerical values.\n",
    "    Also convert Miles to KMs.\n",
    "    '''\n",
    "    \n",
    "    ml2km = 1.609344\n",
    "    \n",
    "    # substitute to nan\n",
    "    df.OdoKM = df.OdoKM.apply(lambda x:x.replace('onbekend','nan') if (type(x) == str) and (len(x)>0) else 'nan')\n",
    "    df.OdoMLS = df.OdoMLS.apply(lambda x:x.replace('onbekend','nan') if (type(x) == str) and (len(x)>0) else 'nan')\n",
    "    # float\n",
    "    df[\"OdoKM_num\"] = df.OdoKM.apply(lambda x:x.replace('.','')).astype(float)\n",
    "    df[\"OdoMLS_num\"] = df.OdoMLS.apply(lambda x:x.replace('.','')).astype(float)\n",
    "    # convert miles to km\n",
    "    df[\"Odo\"] = df.OdoKM_num.copy()\n",
    "    chooseMls = (df.OdoKM_num.isna()) & ~(df.OdoMLS_num.isna())\n",
    "    df.loc[chooseMls,\"Odo\"] = df.loc[chooseMls,\"OdoMLS_num\"].apply(float) * ml2km"
   ]
  },
  {
   "cell_type": "code",
   "execution_count": null,
   "metadata": {
    "tags": [
     "nbconvert_instruction:remove_all_outputs"
    ]
   },
   "outputs": [],
   "source": [
    "odo_str2float(drz)\n",
    "\n",
    "drz[['Odo','OdoKM','OdoKM_num','OdoMLS','OdoMLS_num']]"
   ]
  },
  {
   "cell_type": "markdown",
   "metadata": {},
   "source": [
    "### Dates"
   ]
  },
  {
   "cell_type": "code",
   "execution_count": null,
   "metadata": {
    "tags": [
     "nbconvert_instruction:remove_all_outputs"
    ]
   },
   "outputs": [],
   "source": [
    "# twins\n",
    "vc = drz.Mfdate.value_counts()\n",
    "drz.loc[drz.Mfdate.isin([i for i in vc[vc > 1].index if i != '']),\n",
    "       ['Reg', 'Mfdate', 'ItemBrand', 'ItemType']].sort_values(by='Mfdate')"
   ]
  },
  {
   "cell_type": "code",
   "execution_count": null,
   "metadata": {
    "tags": [
     "nbconvert_instruction:remove_all_outputs"
    ]
   },
   "outputs": [],
   "source": [
    "# twins\n",
    "vc = rdw.rdw_typegoedkeuringsnummer.value_counts()\n",
    "rdw.loc[rdw.rdw_typegoedkeuringsnummer.isin([i for i in vc[vc > 1].index if i != '']),\n",
    "       ['Reg', 'Mfdate', 'ItemBrand', 'ItemType','rdw_typegoedkeuringsnummer']].sort_values(by='rdw_typegoedkeuringsnummer')"
   ]
  },
  {
   "cell_type": "code",
   "execution_count": 14,
   "metadata": {},
   "outputs": [],
   "source": [
    "AuctDate = pd.to_datetime(DATE, format = '%Y-%m')\n",
    "\n",
    "# serial date\n",
    "drz[\"Mfdate_ser\"] = drz.Mfdate.apply(lambda x:pd.to_datetime(x, format = '%d.%m.%Y') if (x!='onbekend') & (x!='') & ('-' not in x) & (len(x) >= 8)else np.NaN)\n",
    "\n",
    "# age\n",
    "drz[\"Age\"] = (AuctDate - drz.Mfdate_ser)\n",
    "drz[\"Age_year\"] = drz.Age.apply(lambda x:x.days/365.25)"
   ]
  },
  {
   "cell_type": "markdown",
   "metadata": {},
   "source": [
    "- - - -\n",
    "# Continue with cars only"
   ]
  },
  {
   "cell_type": "code",
   "execution_count": 15,
   "metadata": {},
   "outputs": [],
   "source": [
    "out = drz.Price.copy()\n",
    "Features = drz.loc[:,[\"ItemBrand\",\"ItemType\",\"Odo\",\"Age_year\"]].copy()"
   ]
  },
  {
   "cell_type": "code",
   "execution_count": 16,
   "metadata": {},
   "outputs": [],
   "source": [
    "# Drop rows\n",
    "Subsel = drz.LotType == 'Personenauto'\n",
    "dropIx=drz[~Subsel].index\n",
    "out.drop(index=dropIx,inplace=True)\n",
    "Features.drop(index=dropIx,inplace=True)"
   ]
  },
  {
   "cell_type": "markdown",
   "metadata": {},
   "source": [
    "### one hot encoding brand and model"
   ]
  },
  {
   "cell_type": "code",
   "execution_count": null,
   "metadata": {
    "tags": [
     "nbconvert_instruction:remove_all_outputs"
    ]
   },
   "outputs": [],
   "source": [
    "Dummies = pd.get_dummies(Features.ItemBrand,prefix='Brand_',drop_first=False)\n",
    "Features = pd.concat([Features,Dummies],axis=1)\n",
    "\n",
    "Features.describe()"
   ]
  },
  {
   "cell_type": "markdown",
   "metadata": {},
   "source": [
    "# Plotting"
   ]
  },
  {
   "cell_type": "code",
   "execution_count": 18,
   "metadata": {},
   "outputs": [],
   "source": [
    "def ecdf(data):\n",
    "    x = sorted(data)\n",
    "    y = np.arange(0,len(x))/len(x)\n",
    "    return x,y\n",
    "\n",
    "# # example\n",
    "# x,y = ecdf(km_p_day)\n",
    "# plt.plot(x,y)"
   ]
  },
  {
   "cell_type": "code",
   "execution_count": 19,
   "metadata": {},
   "outputs": [],
   "source": [
    "# km per day\n",
    "km_p_day = Features.Odo/(Features.Age_year*365.25).fillna(0)\n",
    "sel = ~(km_p_day.isna() | (km_p_day == np.inf))\n",
    "km_p_day = km_p_day.loc[sel]"
   ]
  },
  {
   "cell_type": "code",
   "execution_count": null,
   "metadata": {
    "tags": [
     "nbconvert_instruction:remove_all_outputs"
    ]
   },
   "outputs": [],
   "source": [
    "# Plot ecdf and hist\n",
    "x,y = ecdf(km_p_day)\n",
    "xD,yD = ecdf(km_p_day[rdw.diesel])\n",
    "xB,yB = ecdf(km_p_day[rdw.benzine])\n",
    "fig,axs = plt.subplots(ncols=1,nrows=2, figsize=[8,10],sharex=True)\n",
    "\n",
    "# ecdf\n",
    "ax = axs[0]\n",
    "ax.step(x,y*100)\n",
    "ax.step(xD,yD*100)\n",
    "ax.step(xB,yB*100)\n",
    "ax.plot(np.median(x),50,'+',markersize=20)\n",
    "ax.text(np.median(x),50,'Median {:.1f} km/day      '.format(np.median(x)),ha='right',va='center');\n",
    "ax.set_title('Distribution of intensity of usage')\n",
    "ax.set_ylabel('Fraction of cars (%)')\n",
    "\n",
    "xl = axs[0].get_xlim()\n",
    "\n",
    "# hist\n",
    "ax = axs[1]\n",
    "ax.hist(x,bins=np.logspace(-1,np.log10(xl[1]),50))\n",
    "yl = axs[1].get_ylim()\n",
    "ax.plot(np.array([1,1])*np.median(x),yl,'-',linewidth=3)\n",
    "ax.set_xlabel('Average travel (km/day)')\n",
    "ax.set_ylabel('count')\n",
    "\n",
    "ax.text(\n",
    "    km_p_day.min(),1,\n",
    "    ' {} {}\\n{}km since {}'.format(*rdw.loc[km_p_day.idxmin(),['ItemBrand','ItemType','OdoKM','Mfdate']].values),\n",
    "    rotation=90,\n",
    "    va='bottom',\n",
    "    ha='center'\n",
    ")\n",
    "\n",
    "ax.text(\n",
    "    km_p_day.max(),1,\n",
    "    ' {} {}\\n{}km since {}'.format(*rdw.loc[km_p_day.idxmax(),['ItemBrand','ItemType','OdoKM','Mfdate']].values),\n",
    "    rotation=90,\n",
    "    va='bottom',\n",
    "    ha='center'\n",
    ")\n",
    "\n",
    "ax.set_xscale('log')\n"
   ]
  },
  {
   "cell_type": "code",
   "execution_count": null,
   "metadata": {
    "tags": [
     "nbconvert_instruction:remove_all_outputs"
    ]
   },
   "outputs": [],
   "source": [
    "plt.plot(Features.Odo,out,'.')\n",
    "plt.xscale('log')\n",
    "plt.yscale('log')\n",
    "plt.xlabel('odo (km converted)')\n",
    "plt.ylabel('Price')\n",
    "\n",
    "plt.figure()\n",
    "plt.plot(Features.Age_year,out,'.')\n",
    "plt.yscale('log')\n",
    "plt.xlabel('age (years)')\n",
    "plt.ylabel('Price')\n",
    "plt.xlim(0,50)\n",
    "\n",
    "\n",
    "plt.figure()\n",
    "plt.plot(Features.Age_year,Features.Odo,'.')\n",
    "plt.xlabel('age (years)')\n",
    "plt.ylabel('odo (km converted)')\n",
    "plt.xlim(0,50)\n",
    "\n",
    "plt.show()\n",
    "\n"
   ]
  },
  {
   "cell_type": "code",
   "execution_count": null,
   "metadata": {
    "tags": [
     "nbconvert_instruction:remove_all_outputs"
    ]
   },
   "outputs": [],
   "source": [
    "pd.plotting.scatter_matrix(Features.loc[:, [c for c in Features.columns if not c.startswith('Brand__')]],figsize=[4,4])\n",
    "plt.show()"
   ]
  },
  {
   "cell_type": "raw",
   "metadata": {
    "tags": [
     "nbconvert_instruction:remove_all_outputs"
    ]
   },
   "source": [
    "# reserved price?\n",
    "gr = [l[:1] for l in np.array([*out.index.str.split('-')])[:,2]]\n",
    "gb = out.groupby(gr)\n",
    "for g,_ in gb:\n",
    "    x,y = ecdf(gb.get_group(g))\n",
    "    plt.figure(figsize=[4,4])\n",
    "    plt.step(x,y*len(y),'+:')\n",
    "    min_x = np.array(x)[np.array(x) > 0].min()\n",
    "    plt.xlim(left=min_x*0.2, right=min_x*1.8)\n",
    "    plt.xlabel('price')\n",
    "    plt.ylabel('cars')\n",
    "    plt.title(f'lowest priced lots start with {g}')\n",
    "    # lowest price is 174?\n",
    "    out.value_counts().sort_index()"
   ]
  },
  {
   "cell_type": "code",
   "execution_count": null,
   "metadata": {},
   "outputs": [],
   "source": []
  },
  {
   "cell_type": "raw",
   "metadata": {},
   "source": [
    "with pd.option_context('max_rows', 999):\n",
    "    display(rdw.loc[:, ['ItemBrand', 'ItemType', 'LotType', 'Vin']].replace('', '-').set_index(['ItemBrand', 'ItemType']).sort_values(by='Vin'))"
   ]
  },
  {
   "cell_type": "code",
   "execution_count": 23,
   "metadata": {},
   "outputs": [
    {
     "data": {
      "text/html": [
       "<div>\n",
       "<style scoped>\n",
       "    .dataframe tbody tr th:only-of-type {\n",
       "        vertical-align: middle;\n",
       "    }\n",
       "\n",
       "    .dataframe tbody tr th {\n",
       "        vertical-align: top;\n",
       "    }\n",
       "\n",
       "    .dataframe thead th {\n",
       "        text-align: right;\n",
       "    }\n",
       "</style>\n",
       "<table border=\"1\" class=\"dataframe\">\n",
       "  <thead>\n",
       "    <tr style=\"text-align: right;\">\n",
       "      <th></th>\n",
       "      <th>Lotnr low</th>\n",
       "      <th>Lotnr high</th>\n",
       "      <th>location name</th>\n",
       "      <th>n</th>\n",
       "    </tr>\n",
       "  </thead>\n",
       "  <tbody>\n",
       "    <tr>\n",
       "      <th>0</th>\n",
       "      <td>1000</td>\n",
       "      <td>1799</td>\n",
       "      <td>Jus. B</td>\n",
       "      <td>0</td>\n",
       "    </tr>\n",
       "    <tr>\n",
       "      <th>1</th>\n",
       "      <td>1800</td>\n",
       "      <td>1999</td>\n",
       "      <td>Jus. C</td>\n",
       "      <td>28</td>\n",
       "    </tr>\n",
       "    <tr>\n",
       "      <th>2</th>\n",
       "      <td>2000</td>\n",
       "      <td>2199</td>\n",
       "      <td>Hal A</td>\n",
       "      <td>31</td>\n",
       "    </tr>\n",
       "    <tr>\n",
       "      <th>3</th>\n",
       "      <td>2200</td>\n",
       "      <td>2399</td>\n",
       "      <td>Hal B</td>\n",
       "      <td>0</td>\n",
       "    </tr>\n",
       "    <tr>\n",
       "      <th>4</th>\n",
       "      <td>2400</td>\n",
       "      <td>2599</td>\n",
       "      <td>Hal C</td>\n",
       "      <td>0</td>\n",
       "    </tr>\n",
       "    <tr>\n",
       "      <th>5</th>\n",
       "      <td>2600</td>\n",
       "      <td>2799</td>\n",
       "      <td>Hal D</td>\n",
       "      <td>8</td>\n",
       "    </tr>\n",
       "    <tr>\n",
       "      <th>6</th>\n",
       "      <td>2800</td>\n",
       "      <td>2999</td>\n",
       "      <td>Hal E</td>\n",
       "      <td>0</td>\n",
       "    </tr>\n",
       "    <tr>\n",
       "      <th>7</th>\n",
       "      <td>3000</td>\n",
       "      <td>3999</td>\n",
       "      <td>Veld 300</td>\n",
       "      <td>0</td>\n",
       "    </tr>\n",
       "    <tr>\n",
       "      <th>8</th>\n",
       "      <td>4000</td>\n",
       "      <td>4999</td>\n",
       "      <td>Veld 400</td>\n",
       "      <td>0</td>\n",
       "    </tr>\n",
       "    <tr>\n",
       "      <th>9</th>\n",
       "      <td>7000</td>\n",
       "      <td>7024</td>\n",
       "      <td>ABI 1/ ABI 2</td>\n",
       "      <td>19</td>\n",
       "    </tr>\n",
       "    <tr>\n",
       "      <th>10</th>\n",
       "      <td>7025</td>\n",
       "      <td>7049</td>\n",
       "      <td>Veld 700</td>\n",
       "      <td>0</td>\n",
       "    </tr>\n",
       "    <tr>\n",
       "      <th>11</th>\n",
       "      <td>7050</td>\n",
       "      <td>7099</td>\n",
       "      <td>ABI 4</td>\n",
       "      <td>0</td>\n",
       "    </tr>\n",
       "    <tr>\n",
       "      <th>12</th>\n",
       "      <td>7100</td>\n",
       "      <td>7699</td>\n",
       "      <td>Veld 700</td>\n",
       "      <td>0</td>\n",
       "    </tr>\n",
       "    <tr>\n",
       "      <th>13</th>\n",
       "      <td>8000</td>\n",
       "      <td>8024</td>\n",
       "      <td>ABI 1/ ABI 2</td>\n",
       "      <td>19</td>\n",
       "    </tr>\n",
       "    <tr>\n",
       "      <th>14</th>\n",
       "      <td>8025</td>\n",
       "      <td>8049</td>\n",
       "      <td>Veld 800</td>\n",
       "      <td>7</td>\n",
       "    </tr>\n",
       "    <tr>\n",
       "      <th>15</th>\n",
       "      <td>8050</td>\n",
       "      <td>8099</td>\n",
       "      <td>ABI 4</td>\n",
       "      <td>0</td>\n",
       "    </tr>\n",
       "    <tr>\n",
       "      <th>16</th>\n",
       "      <td>8100</td>\n",
       "      <td>8699</td>\n",
       "      <td>Veld 800</td>\n",
       "      <td>7</td>\n",
       "    </tr>\n",
       "    <tr>\n",
       "      <th>17</th>\n",
       "      <td>9000</td>\n",
       "      <td>9024</td>\n",
       "      <td>ABI 1/ ABI 2</td>\n",
       "      <td>19</td>\n",
       "    </tr>\n",
       "    <tr>\n",
       "      <th>18</th>\n",
       "      <td>9025</td>\n",
       "      <td>9049</td>\n",
       "      <td>Veld 900</td>\n",
       "      <td>0</td>\n",
       "    </tr>\n",
       "    <tr>\n",
       "      <th>19</th>\n",
       "      <td>9050</td>\n",
       "      <td>9099</td>\n",
       "      <td>ABI 4</td>\n",
       "      <td>0</td>\n",
       "    </tr>\n",
       "    <tr>\n",
       "      <th>20</th>\n",
       "      <td>9100</td>\n",
       "      <td>9699</td>\n",
       "      <td>Veld 900</td>\n",
       "      <td>0</td>\n",
       "    </tr>\n",
       "  </tbody>\n",
       "</table>\n",
       "</div>"
      ],
      "text/plain": [
       "    Lotnr low  Lotnr high location name   n\n",
       "0        1000        1799        Jus. B   0\n",
       "1        1800        1999        Jus. C  28\n",
       "2        2000        2199         Hal A  31\n",
       "3        2200        2399         Hal B   0\n",
       "4        2400        2599         Hal C   0\n",
       "5        2600        2799         Hal D   8\n",
       "6        2800        2999         Hal E   0\n",
       "7        3000        3999      Veld 300   0\n",
       "8        4000        4999      Veld 400   0\n",
       "9        7000        7024  ABI 1/ ABI 2  19\n",
       "10       7025        7049      Veld 700   0\n",
       "11       7050        7099         ABI 4   0\n",
       "12       7100        7699      Veld 700   0\n",
       "13       8000        8024  ABI 1/ ABI 2  19\n",
       "14       8025        8049      Veld 800   7\n",
       "15       8050        8099         ABI 4   0\n",
       "16       8100        8699      Veld 800   7\n",
       "17       9000        9024  ABI 1/ ABI 2  19\n",
       "18       9025        9049      Veld 900   0\n",
       "19       9050        9099         ABI 4   0\n",
       "20       9100        9699      Veld 900   0"
      ]
     },
     "metadata": {},
     "output_type": "display_data"
    }
   ],
   "source": [
    "locname = pd.read_csv('../code/assets/lotnr-location-lookuptable.csv', sep=';')\n",
    "\n",
    "\n",
    "drz.loc[:, 'lot_location'] = drz.lot_counter.apply(\n",
    "    lambda l: locname.apply(\n",
    "        lambda r: (r['location name'] if ((l >= r['Lotnr low']) and (l <= r['Lotnr high'])) else np.NaN), axis=1\n",
    "    )\n",
    ").bfill(axis=1).iloc[:,0]\n",
    "\n",
    "\n",
    "locname = locname.merge(drz.lot_location.value_counts(), how='left', left_on='location name', right_index=True).rename(columns={'lot_location': 'n'}).fillna(0).astype({'n':int})\n",
    "display(locname)"
   ]
  },
  {
   "cell_type": "code",
   "execution_count": null,
   "metadata": {
    "tags": [
     "nbconvert_instruction:remove_all_outputs"
    ]
   },
   "outputs": [],
   "source": [
    "# reserved price?\n",
    "gr = drz.lot_location\n",
    "gb = out.groupby(gr)\n",
    "for g,_ in gb:\n",
    "    x,y = ecdf(gb.get_group(g))\n",
    "    plt.figure(figsize=[4,4])\n",
    "    plt.step(x,y*len(y),'+:')\n",
    "    if all([xx == 0 for xx in x]):\n",
    "        continue\n",
    "    min_x = np.array(x)[np.array(x) > 0].min()\n",
    "    plt.xlim(left=min_x*0.2, right=min_x*1.8)\n",
    "    plt.xlabel('price')\n",
    "    plt.ylabel('cars')\n",
    "    plt.title(f'lowest priced lots at \"{g}\" min: EUR {min_x:.2f}')\n",
    "    # lowest price is 174?\n",
    "    out.value_counts().sort_index()"
   ]
  },
  {
   "cell_type": "code",
   "execution_count": null,
   "metadata": {},
   "outputs": [],
   "source": []
  },
  {
   "cell_type": "code",
   "execution_count": null,
   "metadata": {},
   "outputs": [],
   "source": []
  }
 ],
 "metadata": {
  "kernelspec": {
   "display_name": "Python 3 (ipykernel)",
   "language": "python",
   "name": "python3"
  },
  "language_info": {
   "codemirror_mode": {
    "name": "ipython",
    "version": 3
   },
   "file_extension": ".py",
   "mimetype": "text/x-python",
   "name": "python",
   "nbconvert_exporter": "python",
   "pygments_lexer": "ipython3",
   "version": "3.10.4"
  }
 },
 "nbformat": 4,
 "nbformat_minor": 4
}
