{
 "cells": [
  {
   "cell_type": "markdown",
   "metadata": {},
   "source": [
    "# ORGINEEL\n",
    "----------"
   ]
  },
  {
   "cell_type": "markdown",
   "metadata": {
    "editable": true,
    "slideshow": {
     "slide_type": ""
    },
    "tags": []
   },
   "source": [
    "<a id='rdw_top'>"
   ]
  },
  {
   "cell_type": "markdown",
   "metadata": {
    "tags": []
   },
   "source": [
    "# Add extra information from RDW open data\n",
    "\n",
    "Query to the open data dataset of the RDW.\n",
    "\n",
    "\n",
    "1. <a href=\"#rdw_registrations\">Registration numbers</a>  \n",
    "    Apis with license plates as key\n",
    "2. <a href=\"#rdw_confcodes\">Conformity codes</a>  \n",
    "    Cars get a conformity code when certified.\n",
    "3. <a href=\"#rdw_other_apis\">Other APIs</a>  \n",
    "    Query all conformity codes in belonging to data set.\n",
    "4. <a href=\"#rdw_ovi\">Website data</a>  \n",
    "    Get data from OVI RDW website. This takes a while because of time out enforced by website. Use config to disable.\n",
    "5. <a href=\"#rdw_merge\">Merge results</a>  \n",
    "    Combine all dataframes and save\n",
    "6. <a href=\"#rdw_save\">Save results</a>  \n",
    "- - - - "
   ]
  },
  {
   "cell_type": "markdown",
   "metadata": {
    "slideshow": {
     "slide_type": ""
    },
    "tags": []
   },
   "source": [
    "### User variables\n"
   ]
  },
  {
   "cell_type": "code",
   "execution_count": 1,
   "metadata": {
    "slideshow": {
     "slide_type": ""
    },
    "tags": []
   },
   "outputs": [],
   "source": [
    "import sys\n",
    "import re\n",
    "import json\n",
    "from IPython.display import display"
   ]
  },
  {
   "cell_type": "code",
   "execution_count": 8,
   "metadata": {
    "editable": true,
    "slideshow": {
     "slide_type": ""
    },
    "tags": []
   },
   "outputs": [
    {
     "name": "stdout",
     "output_type": "stream",
     "text": [
      "2025-0003\n"
     ]
    }
   ],
   "source": [
    "with open('../assets/drz-settings-current.json', 'r') as fid:\n",
    "    cfg = json.load(fid)\n",
    "\n",
    "OPBOD = cfg['AUCTION']['kind'] == 'opbod'\n",
    "AUCTION_ID = cfg['AUCTION']['id']\n",
    "DATE = cfg['AUCTION']['date']\n",
    "DATA_DIR = cfg['FILE_LOCATION']['data_dir']\n",
    "auction_month = DATE[:4] + '-' + DATE[4:6]\n",
    "if cfg['AUCTION']['kind'] == 'inschrijving':\n",
    "    month_counter = re.sub('(-)(\\d{2})', '\\g<1>', AUCTION_ID)[5:8]\n",
    "elif cfg['AUCTION']['kind'] == 'opbod':\n",
    "    month_counter = re.sub('(-)(\\d{2})(\\d{2})', '-\\g<2>', AUCTION_ID)[5:8]\n",
    "\n",
    "sys.path.insert(0, cfg['FILE_LOCATION']['code_dir'])\n",
    "\n",
    "QUICK_MERGE = False\n",
    "SKIPSAVE = False\n",
    "OVIDATA = True\n",
    "VERBOSE = 1\n",
    "\n",
    "print(AUCTION_ID)"
   ]
  },
  {
   "cell_type": "markdown",
   "metadata": {
    "editable": true,
    "slideshow": {
     "slide_type": ""
    },
    "tags": []
   },
   "source": [
    "### Modules and functions"
   ]
  },
  {
   "cell_type": "code",
   "execution_count": 9,
   "metadata": {},
   "outputs": [],
   "source": [
    "import pandas as pd\n",
    "import numpy as np\n",
    "import re \n",
    "import os\n",
    "# to keep api key hidden import this from sub dir\n",
    "import assets.hidden_api_keys as hidden_api_keys\n",
    "from rdw_info import *"
   ]
  },
  {
   "cell_type": "code",
   "execution_count": 10,
   "metadata": {
    "slideshow": {
     "slide_type": ""
    },
    "tags": []
   },
   "outputs": [],
   "source": [
    "main_api = 'm9d7-ebf2' # gekentekende_voertuigen\n",
    "keur_api = 'vkij-7mwc' # keuringen\n",
    "apk_api = 'sgfe-77wx' # meldingen_keuringsinstantie\n",
    "gebr_api = 'hx2c-gt7k' # gebreken\n",
    "toe_api = 'sghb-dzxx' # toegevoegde_objecten\n",
    "\n",
    "conf_api = '55kv-xf7m' # EEG_Voertuigtypegoedkeuring\n",
    "\n",
    "# g2s6-ehxa Motor-Uitvoering\n",
    "\n",
    "# byxc-wwua TGK Basis Uitvoering\n",
    "# kyri-nuah TGK Merk Uitvoering\n",
    "# xn6e-huse TGK-Rupsbandset-Uitvoering\n",
    "# d3ex-xghj TGK-Koppeling-Uitvoering\n",
    "# 4by9-ammk TGK-Aandrijving-Uitvoering\n",
    "# m692-vvff TGK-Speciale-Doeleinden\n",
    "# gr7t-qfnb TGK-Energiebron-Uitvoering\n",
    "# 9s6a-b42z TGK-Intrekking-Typegoedkeuring\n",
    "\n",
    "# wx3j-69ie     Basisgegevens_EEG_Uitvoering\n",
    "# ahsi-8uyu     AS_Gegevens_EEG_Uitvoering\n",
    "#  xhyb-w7xt     TGK-As-Uitvoering\n",
    "# q7fi-ijjh     Carrosserie_Uitvoering_Klasse\n",
    "# w2qp-idms     Carrosserie_Uitvoering\n",
    "#  ky2r-jqad     TGK-Carrosserie-Uitvoering\n",
    "# nypm-t8hx     Carrosserie_Uitvoering_Nummerieke_Co\n",
    "# mdqe-txpd     Handelsbenaming_Uitvoering\n",
    "#  x5v3-sewk     TGK-Handelsbenaming-Fabrikant\n",
    "# fj7t-hhik     Merk_Uitvoering_Toegestaan\n",
    "# g2s6-ehxa     Motor_Uitvoering\n",
    "# 5w6t-p66a     Motor_Uitvoering_Brandstof\n",
    "# mt8t-4ep4     Plaatsaanduiding_Uitvoering\n",
    "# h9pa-e9ta     Subcategorie_Uitvoering\n",
    "# 2822-t8sx     Uitvoering_Gebruiksgegevens_Per_Uitg\n",
    "# r7cw-67gs     Versnellingsbak_Uitvoering\n",
    "#  7rjk-eycs     TGK-Versnelling-Uitvoering"
   ]
  },
  {
   "cell_type": "markdown",
   "metadata": {},
   "source": [
    "### Load auction results"
   ]
  },
  {
   "cell_type": "raw",
   "metadata": {},
   "source": [
    "OPBOD = False\n",
    "NO_PRICE = False\n",
    "auction_month = '2015-03'\n",
    "month_counter = ''\n",
    "file_name = f'../data/pdf-data-{auction_month}.pkl'\n"
   ]
  },
  {
   "cell_type": "code",
   "execution_count": 11,
   "metadata": {
    "editable": true,
    "slideshow": {
     "slide_type": ""
    },
    "tags": [
     "nbconvert_instruction:remove_all_outputs"
    ]
   },
   "outputs": [
    {
     "name": "stdout",
     "output_type": "stream",
     "text": [
      "/home/tom/bin/satdatsci/Saturday-Datascience/data/auctions/results/drz-data-2025-02-03.pkl\n"
     ]
    }
   ],
   "source": [
    "file_name = f'{DATA_DIR}/auctions/results/drz-data-{auction_month}-{month_counter}.pkl'\n",
    "if OPBOD:\n",
    "    file_name = file_name.replace('.pkl', '-opbod.pkl')\n",
    "if not os.path.isfile(file_name):\n",
    "    # see if -without price- exists\n",
    "    NO_PRICE = True\n",
    "    if NO_PRICE:\n",
    "        file_name = file_name.replace('auctions/results', 'auctions/without-price')\n",
    "        file_name = file_name.replace('.pkl', '-without-price.pkl')\n",
    "    if OPBOD:\n",
    "        file_name = file_name.replace('-opbod-without-price.pkl', '-without-price-opbod.pkl')\n",
    "#     else:\n",
    "#         file_name = file_name.replace('.pkl', '-without-price.pkl')\n",
    "else:\n",
    "    NO_PRICE = False\n",
    "\n",
    "\n",
    "print(file_name)\n",
    "drz = pd.read_pickle(file_name)"
   ]
  },
  {
   "cell_type": "code",
   "execution_count": 12,
   "metadata": {
    "slideshow": {
     "slide_type": ""
    },
    "tags": []
   },
   "outputs": [],
   "source": [
    "if QUICK_MERGE:\n",
    "    raise NotImplementedError"
   ]
  },
  {
   "cell_type": "markdown",
   "metadata": {},
   "source": [
    "### Collect number plate registrations"
   ]
  },
  {
   "cell_type": "code",
   "execution_count": 13,
   "metadata": {
    "lines_to_next_cell": 2,
    "tags": [
     "nbconvert_instruction:remove_all_outputs"
    ]
   },
   "outputs": [
    {
     "name": "stdout",
     "output_type": "stream",
     "text": [
      "nr. of registrations: 68\n"
     ]
    }
   ],
   "source": [
    "# see what lots have a Dutch registration (license number).\n",
    "hasReg = (~drz.Reg.isnull()) & (drz.Reg != 'onbekend') & (drz.Reg != '') & (~drz.LotType.isin([\n",
    "    'Vaartuig',\n",
    "    'Jetski',\n",
    "    'Sloep',\n",
    "    'Speedboot',\n",
    "    'Vaartuig (Type onbekend)',\n",
    "    'Motorvaartuig met opbouw (Pleziervaartuig)',\n",
    "]))\n",
    "\n",
    "print('nr. of registrations:',sum(hasReg))\n",
    "\n",
    "# adhoc fix\n",
    "idx = '2022-08-5012' # check in pictures. reg is wrong\n",
    "if idx in drz.index:\n",
    "    drz.loc[idx, 'Reg'] = 'LM-82-14'\n",
    "idx = '2022-29-5001' # check in pictures. reg is wrong\n",
    "if idx in drz.index:\n",
    "    drz.loc[idx, 'Reg'] = 'LM-82-14'\n",
    "idx = '2022-29-2008' # check in pictures. reg is wrong\n",
    "if idx in drz.index:\n",
    "    drz.loc[idx, 'Reg'] = 'KT-05-40'\n",
    "\n",
    "\n",
    "\n",
    "vc = drz.loc[hasReg, 'Reg'].str.upper().str.replace('-','').value_counts()\n",
    "if any(vc > 1):\n",
    "    display(vc[vc>1])\n",
    "    display(drz[drz.Reg.str.upper().str.replace('-','').isin(vc[vc>1].index)])\n",
    "    raise ValueError('Registration occurs in more than one lot.')\n",
    "# assert all(vc == 1), [, display(vc[vc>1])]\n",
    "\n",
    "# # make a copy and add info\n",
    "# rdw = drz.copy()"
   ]
  },
  {
   "cell_type": "markdown",
   "metadata": {},
   "source": [
    "<a href=\"#rdw_top\" id='rdw_registrations'><font size=+1><center>^^ TOP ^^</center></font></a>\n",
    "\n",
    "---"
   ]
  },
  {
   "cell_type": "markdown",
   "metadata": {
    "tags": []
   },
   "source": [
    "# Main api \n",
    "\n",
    "The main api: `api_gekentekende_voertuigen` points to subsequent apis."
   ]
  },
  {
   "cell_type": "code",
   "execution_count": 14,
   "metadata": {
    "editable": true,
    "slideshow": {
     "slide_type": ""
    },
    "tags": [
     "nbconvert_instruction:remove_all_outputs"
    ]
   },
   "outputs": [
    {
     "data": {
      "text/html": [
       "<div>\n",
       "<style scoped>\n",
       "    .dataframe tbody tr th:only-of-type {\n",
       "        vertical-align: middle;\n",
       "    }\n",
       "\n",
       "    .dataframe tbody tr th {\n",
       "        vertical-align: top;\n",
       "    }\n",
       "\n",
       "    .dataframe thead th {\n",
       "        text-align: right;\n",
       "    }\n",
       "</style>\n",
       "<table border=\"1\" class=\"dataframe\">\n",
       "  <thead>\n",
       "    <tr style=\"text-align: right;\">\n",
       "      <th></th>\n",
       "      <th></th>\n",
       "      <th>lot_index</th>\n",
       "      <th>Reg</th>\n",
       "    </tr>\n",
       "    <tr>\n",
       "      <th>LotType</th>\n",
       "      <th>kenteken</th>\n",
       "      <th></th>\n",
       "      <th></th>\n",
       "    </tr>\n",
       "  </thead>\n",
       "  <tbody>\n",
       "    <tr>\n",
       "      <th rowspan=\"8\" valign=\"top\">Bedrijfswagen</th>\n",
       "      <th>25JZL9</th>\n",
       "      <td>2025-03-7046</td>\n",
       "      <td>25-JZL-9</td>\n",
       "    </tr>\n",
       "    <tr>\n",
       "      <th>36VZP8</th>\n",
       "      <td>2025-03-7013</td>\n",
       "      <td>36-VZP-8</td>\n",
       "    </tr>\n",
       "    <tr>\n",
       "      <th>41VZD9</th>\n",
       "      <td>2025-03-7043</td>\n",
       "      <td>41-VZD-9</td>\n",
       "    </tr>\n",
       "    <tr>\n",
       "      <th>V362DH</th>\n",
       "      <td>2025-03-7000</td>\n",
       "      <td>V-362-DH</td>\n",
       "    </tr>\n",
       "    <tr>\n",
       "      <th>V827GF</th>\n",
       "      <td>2025-03-7041</td>\n",
       "      <td>V-827-GF</td>\n",
       "    </tr>\n",
       "    <tr>\n",
       "      <th>VG210T</th>\n",
       "      <td>2025-03-7027</td>\n",
       "      <td>VG-210-T</td>\n",
       "    </tr>\n",
       "    <tr>\n",
       "      <th>VR430X</th>\n",
       "      <td>2025-03-7038</td>\n",
       "      <td>VR-430-X</td>\n",
       "    </tr>\n",
       "    <tr>\n",
       "      <th>VS509L</th>\n",
       "      <td>2025-03-7015</td>\n",
       "      <td>VS-509-L</td>\n",
       "    </tr>\n",
       "    <tr>\n",
       "      <th rowspan=\"13\" valign=\"top\">Bromfiets</th>\n",
       "      <th>DBB10X</th>\n",
       "      <td>2025-03-1803</td>\n",
       "      <td>DBB-10-X</td>\n",
       "    </tr>\n",
       "    <tr>\n",
       "      <th>DFN04G</th>\n",
       "      <td>2025-03-1816</td>\n",
       "      <td>DFN-04-G</td>\n",
       "    </tr>\n",
       "    <tr>\n",
       "      <th>DLN16H</th>\n",
       "      <td>2025-03-1821</td>\n",
       "      <td>DLN-16-H</td>\n",
       "    </tr>\n",
       "    <tr>\n",
       "      <th>DND63J</th>\n",
       "      <td>2025-03-1806</td>\n",
       "      <td>DND-63-J</td>\n",
       "    </tr>\n",
       "    <tr>\n",
       "      <th>DRG82S</th>\n",
       "      <td>2025-03-1813</td>\n",
       "      <td>DRG-82-S</td>\n",
       "    </tr>\n",
       "    <tr>\n",
       "      <th>DZL07L</th>\n",
       "      <td>2025-03-1815</td>\n",
       "      <td>DZL-07-L</td>\n",
       "    </tr>\n",
       "    <tr>\n",
       "      <th>F579KZ</th>\n",
       "      <td>2025-03-1817</td>\n",
       "      <td>F-579-KZ</td>\n",
       "    </tr>\n",
       "    <tr>\n",
       "      <th>F587ZF</th>\n",
       "      <td>2025-03-1811</td>\n",
       "      <td>F-587-ZF</td>\n",
       "    </tr>\n",
       "    <tr>\n",
       "      <th>F727NS</th>\n",
       "      <td>2025-03-1819</td>\n",
       "      <td>F-727-NS</td>\n",
       "    </tr>\n",
       "    <tr>\n",
       "      <th>FGB61K</th>\n",
       "      <td>2025-03-1812</td>\n",
       "      <td>FGB-61-K</td>\n",
       "    </tr>\n",
       "    <tr>\n",
       "      <th>FGZ04B</th>\n",
       "      <td>2025-03-1814</td>\n",
       "      <td>FGZ-04-B</td>\n",
       "    </tr>\n",
       "    <tr>\n",
       "      <th>FLN59X</th>\n",
       "      <td>2025-03-1822</td>\n",
       "      <td>FLN-59-X</td>\n",
       "    </tr>\n",
       "    <tr>\n",
       "      <th>FSP10Z</th>\n",
       "      <td>2025-03-1808</td>\n",
       "      <td>FSP-10-Z</td>\n",
       "    </tr>\n",
       "    <tr>\n",
       "      <th>Jetski op trailer</th>\n",
       "      <th>5YF784</th>\n",
       "      <td>2025-03-2000</td>\n",
       "      <td>5-YF-784</td>\n",
       "    </tr>\n",
       "    <tr>\n",
       "      <th>K2500031818 (Bromfiets)</th>\n",
       "      <th>FPT58V</th>\n",
       "      <td>2025-03-1818</td>\n",
       "      <td>FPT-58-V</td>\n",
       "    </tr>\n",
       "    <tr>\n",
       "      <th>K2500037045 (Personenauto)</th>\n",
       "      <th>17PBVP</th>\n",
       "      <td>2025-03-7045</td>\n",
       "      <td>17-PB-VP</td>\n",
       "    </tr>\n",
       "    <tr>\n",
       "      <th rowspan=\"6\" valign=\"top\">Motorfiets</th>\n",
       "      <th>24MSGH</th>\n",
       "      <td>2025-03-1802</td>\n",
       "      <td>24-MS-GH</td>\n",
       "    </tr>\n",
       "    <tr>\n",
       "      <th>43MJKH</th>\n",
       "      <td>2025-03-1825</td>\n",
       "      <td>43-MJ-KH</td>\n",
       "    </tr>\n",
       "    <tr>\n",
       "      <th>87MSBJ</th>\n",
       "      <td>2025-03-1804</td>\n",
       "      <td>87-MS-BJ</td>\n",
       "    </tr>\n",
       "    <tr>\n",
       "      <th>MPSH24</th>\n",
       "      <td>2025-03-1800</td>\n",
       "      <td>MP-SH-24</td>\n",
       "    </tr>\n",
       "    <tr>\n",
       "      <th>MT79TZ</th>\n",
       "      <td>2025-03-1809</td>\n",
       "      <td>MT-79-TZ</td>\n",
       "    </tr>\n",
       "    <tr>\n",
       "      <th>MTPX38</th>\n",
       "      <td>2025-03-1824</td>\n",
       "      <td>MT-PX-38</td>\n",
       "    </tr>\n",
       "    <tr>\n",
       "      <th rowspan=\"36\" valign=\"top\">Personenauto</th>\n",
       "      <th>14KVB9</th>\n",
       "      <td>2025-03-7058</td>\n",
       "      <td>14-KVB-9</td>\n",
       "    </tr>\n",
       "    <tr>\n",
       "      <th>19PLZ5</th>\n",
       "      <td>2025-03-7034</td>\n",
       "      <td>19-PLZ-5</td>\n",
       "    </tr>\n",
       "    <tr>\n",
       "      <th>25PXNL</th>\n",
       "      <td>2025-03-7031</td>\n",
       "      <td>25-PX-NL</td>\n",
       "    </tr>\n",
       "    <tr>\n",
       "      <th>29PKP8</th>\n",
       "      <td>2025-03-7047</td>\n",
       "      <td>29-PKP-8</td>\n",
       "    </tr>\n",
       "    <tr>\n",
       "      <th>2SJS92</th>\n",
       "      <td>2025-03-7032</td>\n",
       "      <td>2-SJS-92</td>\n",
       "    </tr>\n",
       "    <tr>\n",
       "      <th>32ZNK3</th>\n",
       "      <td>2025-03-7049</td>\n",
       "      <td>32-ZNK-3</td>\n",
       "    </tr>\n",
       "    <tr>\n",
       "      <th>47PFG8</th>\n",
       "      <td>2025-03-7009</td>\n",
       "      <td>47-PFG-8</td>\n",
       "    </tr>\n",
       "    <tr>\n",
       "      <th>4ZFS26</th>\n",
       "      <td>2025-03-7054</td>\n",
       "      <td>4-ZFS-26</td>\n",
       "    </tr>\n",
       "    <tr>\n",
       "      <th>5ZHL02</th>\n",
       "      <td>2025-03-7062</td>\n",
       "      <td>5-ZHL-02</td>\n",
       "    </tr>\n",
       "    <tr>\n",
       "      <th>62PPX8</th>\n",
       "      <td>2025-03-7060</td>\n",
       "      <td>62-PPX-8</td>\n",
       "    </tr>\n",
       "    <tr>\n",
       "      <th>82KPN9</th>\n",
       "      <td>2025-03-7005</td>\n",
       "      <td>82-KPN-9</td>\n",
       "    </tr>\n",
       "    <tr>\n",
       "      <th>87KSH1</th>\n",
       "      <td>2025-03-7001</td>\n",
       "      <td>87-KSH-1</td>\n",
       "    </tr>\n",
       "    <tr>\n",
       "      <th>88TFRT</th>\n",
       "      <td>2025-03-7057</td>\n",
       "      <td>88-TF-RT</td>\n",
       "    </tr>\n",
       "    <tr>\n",
       "      <th>89ZJHV</th>\n",
       "      <td>2025-03-7033</td>\n",
       "      <td>89-ZJ-HV</td>\n",
       "    </tr>\n",
       "    <tr>\n",
       "      <th>90TKRH</th>\n",
       "      <td>2025-03-7019</td>\n",
       "      <td>90-TK-RH</td>\n",
       "    </tr>\n",
       "    <tr>\n",
       "      <th>90TVJ2</th>\n",
       "      <td>2025-03-7061</td>\n",
       "      <td>90-TVJ-2</td>\n",
       "    </tr>\n",
       "    <tr>\n",
       "      <th>94GDX2</th>\n",
       "      <td>2025-03-7016</td>\n",
       "      <td>94-GDX-2</td>\n",
       "    </tr>\n",
       "    <tr>\n",
       "      <th>96LFD7</th>\n",
       "      <td>2025-03-7051</td>\n",
       "      <td>96-LFD-7</td>\n",
       "    </tr>\n",
       "    <tr>\n",
       "      <th>99TXDG</th>\n",
       "      <td>2025-03-7040</td>\n",
       "      <td>99-TX-DG</td>\n",
       "    </tr>\n",
       "    <tr>\n",
       "      <th>G992GT</th>\n",
       "      <td>2025-03-7002</td>\n",
       "      <td>G-992-GT</td>\n",
       "    </tr>\n",
       "    <tr>\n",
       "      <th>GH437V</th>\n",
       "      <td>2025-03-7055</td>\n",
       "      <td>GH-437-V</td>\n",
       "    </tr>\n",
       "    <tr>\n",
       "      <th>J399ZB</th>\n",
       "      <td>2025-03-7010</td>\n",
       "      <td>J-399-ZB</td>\n",
       "    </tr>\n",
       "    <tr>\n",
       "      <th>K771FX</th>\n",
       "      <td>2025-03-7030</td>\n",
       "      <td>K-771-FX</td>\n",
       "    </tr>\n",
       "    <tr>\n",
       "      <th>L028VS</th>\n",
       "      <td>2025-03-7006</td>\n",
       "      <td>L-028-VS</td>\n",
       "    </tr>\n",
       "    <tr>\n",
       "      <th>L134JR</th>\n",
       "      <td>2025-03-7021</td>\n",
       "      <td>L-134-JR</td>\n",
       "    </tr>\n",
       "    <tr>\n",
       "      <th>L961RG</th>\n",
       "      <td>2025-03-7011</td>\n",
       "      <td>L-961-RG</td>\n",
       "    </tr>\n",
       "    <tr>\n",
       "      <th>N444TT</th>\n",
       "      <td>2025-03-7022</td>\n",
       "      <td>N-444-TT</td>\n",
       "    </tr>\n",
       "    <tr>\n",
       "      <th>N680BV</th>\n",
       "      <td>2025-03-7035</td>\n",
       "      <td>N-680-BV</td>\n",
       "    </tr>\n",
       "    <tr>\n",
       "      <th>P494GR</th>\n",
       "      <td>2025-03-7025</td>\n",
       "      <td>P-494-GR</td>\n",
       "    </tr>\n",
       "    <tr>\n",
       "      <th>PN675D</th>\n",
       "      <td>2025-03-7056</td>\n",
       "      <td>PN-675-D</td>\n",
       "    </tr>\n",
       "    <tr>\n",
       "      <th>R044PK</th>\n",
       "      <td>2025-03-2005</td>\n",
       "      <td>R-044-PK</td>\n",
       "    </tr>\n",
       "    <tr>\n",
       "      <th>TD558S</th>\n",
       "      <td>2025-03-7017</td>\n",
       "      <td>TD-558-S</td>\n",
       "    </tr>\n",
       "    <tr>\n",
       "      <th>VK787F</th>\n",
       "      <td>2025-03-7042</td>\n",
       "      <td>VK-787-F</td>\n",
       "    </tr>\n",
       "    <tr>\n",
       "      <th>XN986H</th>\n",
       "      <td>2025-03-7053</td>\n",
       "      <td>XN-986-H</td>\n",
       "    </tr>\n",
       "    <tr>\n",
       "      <th>Z625RS</th>\n",
       "      <td>2025-03-7020</td>\n",
       "      <td>Z-625-RS</td>\n",
       "    </tr>\n",
       "    <tr>\n",
       "      <th>ZV914V</th>\n",
       "      <td>2025-03-7012</td>\n",
       "      <td>ZV-914-V</td>\n",
       "    </tr>\n",
       "    <tr>\n",
       "      <th>Personenbus</th>\n",
       "      <th>RX251X</th>\n",
       "      <td>2025-03-7008</td>\n",
       "      <td>RX-251-X</td>\n",
       "    </tr>\n",
       "    <tr>\n",
       "      <th>Vaartuig op trailer</th>\n",
       "      <th>1332YD</th>\n",
       "      <td>2025-03-2003</td>\n",
       "      <td>13-32-YD</td>\n",
       "    </tr>\n",
       "  </tbody>\n",
       "</table>\n",
       "</div>"
      ],
      "text/plain": [
       "                                        lot_index       Reg\n",
       "LotType                    kenteken                        \n",
       "Bedrijfswagen              25JZL9    2025-03-7046  25-JZL-9\n",
       "                           36VZP8    2025-03-7013  36-VZP-8\n",
       "                           41VZD9    2025-03-7043  41-VZD-9\n",
       "                           V362DH    2025-03-7000  V-362-DH\n",
       "                           V827GF    2025-03-7041  V-827-GF\n",
       "                           VG210T    2025-03-7027  VG-210-T\n",
       "                           VR430X    2025-03-7038  VR-430-X\n",
       "                           VS509L    2025-03-7015  VS-509-L\n",
       "Bromfiets                  DBB10X    2025-03-1803  DBB-10-X\n",
       "                           DFN04G    2025-03-1816  DFN-04-G\n",
       "                           DLN16H    2025-03-1821  DLN-16-H\n",
       "                           DND63J    2025-03-1806  DND-63-J\n",
       "                           DRG82S    2025-03-1813  DRG-82-S\n",
       "                           DZL07L    2025-03-1815  DZL-07-L\n",
       "                           F579KZ    2025-03-1817  F-579-KZ\n",
       "                           F587ZF    2025-03-1811  F-587-ZF\n",
       "                           F727NS    2025-03-1819  F-727-NS\n",
       "                           FGB61K    2025-03-1812  FGB-61-K\n",
       "                           FGZ04B    2025-03-1814  FGZ-04-B\n",
       "                           FLN59X    2025-03-1822  FLN-59-X\n",
       "                           FSP10Z    2025-03-1808  FSP-10-Z\n",
       "Jetski op trailer          5YF784    2025-03-2000  5-YF-784\n",
       "K2500031818 (Bromfiets)    FPT58V    2025-03-1818  FPT-58-V\n",
       "K2500037045 (Personenauto) 17PBVP    2025-03-7045  17-PB-VP\n",
       "Motorfiets                 24MSGH    2025-03-1802  24-MS-GH\n",
       "                           43MJKH    2025-03-1825  43-MJ-KH\n",
       "                           87MSBJ    2025-03-1804  87-MS-BJ\n",
       "                           MPSH24    2025-03-1800  MP-SH-24\n",
       "                           MT79TZ    2025-03-1809  MT-79-TZ\n",
       "                           MTPX38    2025-03-1824  MT-PX-38\n",
       "Personenauto               14KVB9    2025-03-7058  14-KVB-9\n",
       "                           19PLZ5    2025-03-7034  19-PLZ-5\n",
       "                           25PXNL    2025-03-7031  25-PX-NL\n",
       "                           29PKP8    2025-03-7047  29-PKP-8\n",
       "                           2SJS92    2025-03-7032  2-SJS-92\n",
       "                           32ZNK3    2025-03-7049  32-ZNK-3\n",
       "                           47PFG8    2025-03-7009  47-PFG-8\n",
       "                           4ZFS26    2025-03-7054  4-ZFS-26\n",
       "                           5ZHL02    2025-03-7062  5-ZHL-02\n",
       "                           62PPX8    2025-03-7060  62-PPX-8\n",
       "                           82KPN9    2025-03-7005  82-KPN-9\n",
       "                           87KSH1    2025-03-7001  87-KSH-1\n",
       "                           88TFRT    2025-03-7057  88-TF-RT\n",
       "                           89ZJHV    2025-03-7033  89-ZJ-HV\n",
       "                           90TKRH    2025-03-7019  90-TK-RH\n",
       "                           90TVJ2    2025-03-7061  90-TVJ-2\n",
       "                           94GDX2    2025-03-7016  94-GDX-2\n",
       "                           96LFD7    2025-03-7051  96-LFD-7\n",
       "                           99TXDG    2025-03-7040  99-TX-DG\n",
       "                           G992GT    2025-03-7002  G-992-GT\n",
       "                           GH437V    2025-03-7055  GH-437-V\n",
       "                           J399ZB    2025-03-7010  J-399-ZB\n",
       "                           K771FX    2025-03-7030  K-771-FX\n",
       "                           L028VS    2025-03-7006  L-028-VS\n",
       "                           L134JR    2025-03-7021  L-134-JR\n",
       "                           L961RG    2025-03-7011  L-961-RG\n",
       "                           N444TT    2025-03-7022  N-444-TT\n",
       "                           N680BV    2025-03-7035  N-680-BV\n",
       "                           P494GR    2025-03-7025  P-494-GR\n",
       "                           PN675D    2025-03-7056  PN-675-D\n",
       "                           R044PK    2025-03-2005  R-044-PK\n",
       "                           TD558S    2025-03-7017  TD-558-S\n",
       "                           VK787F    2025-03-7042  VK-787-F\n",
       "                           XN986H    2025-03-7053  XN-986-H\n",
       "                           Z625RS    2025-03-7020  Z-625-RS\n",
       "                           ZV914V    2025-03-7012  ZV-914-V\n",
       "Personenbus                RX251X    2025-03-7008  RX-251-X\n",
       "Vaartuig op trailer        1332YD    2025-03-2003  13-32-YD"
      ]
     },
     "metadata": {},
     "output_type": "display_data"
    },
    {
     "name": "stdout",
     "output_type": "stream",
     "text": [
      "registrations\n"
     ]
    }
   ],
   "source": [
    "# empty dictionary\n",
    "rdw_per_reg = dict()\n",
    "\n",
    "# first element of dict is registrations\n",
    "key = 'registrations'\n",
    "rdw_per_reg[key] = drz.loc[hasReg,['Reg', 'LotType']].copy() # copy from drz\n",
    "rdw_per_reg[key]['kenteken'] = rdw_per_reg[key].Reg.apply(lambda r: r.replace('-','').upper())\n",
    "rdw_per_reg[key].index.name = 'lot_index'\n",
    "rdw_per_reg[key] = rdw_per_reg[key].reset_index().set_index('kenteken')\n",
    "with pd.option_context('display.max_rows', 999):\n",
    "    display(rdw_per_reg[key].reset_index().set_index(['LotType', 'kenteken']).sort_index())\n",
    "\n",
    "print('\\n'.join(rdw_per_reg.keys()))"
   ]
  },
  {
   "cell_type": "code",
   "execution_count": 15,
   "metadata": {
    "tags": [
     "nbconvert_instruction:remove_all_outputs"
    ]
   },
   "outputs": [
    {
     "name": "stdout",
     "output_type": "stream",
     "text": [
      "Class contains\n",
      "\tapi_name_ <class 'str'>:\n",
      "\t\tm9d7-ebf2\n",
      "\tapi_url_ <class 'str'>:\n",
      "\t\thttps://opendata.rdw.nl/resource/m9d7-ebf2.json\n",
      "\tdata_ <class 'pandas.core.frame.DataFrame'>:\n",
      "\t\tshape=(66, 69)\n",
      "\tidx_ <class 'list'>:\n",
      "\t\tlen=68\n",
      "\tmetadata_ <class 'dict'>:\n",
      "\t\tcontains fields ['online', 'name', 'pivot_columns', 'primary_keys', 'header']\n",
      "\tmetadata_.online <class 'pandas.core.frame.DataFrame'>:\n",
      "\t\tshape=(96, 10)\n",
      "\tmetadata_.name <class 'str'>:\n",
      "\t\tGekentekende_voertuigen\n",
      "\tmetadata_.pivot_columns[\"m9d7-ebf2\"] <class 'str'>:\n",
      "\t\t-empty-\n",
      "\tmetadata_.primary_keys[\"m9d7-ebf2\"] <class 'str'>:\n",
      "\t\tkenteken\n",
      "\tmetadata_.header <class 'str'>:\n",
      "\t\t{'Server': 'nginx', 'Date': 'S .. 44921f904449415169cae9adfd95'}\n",
      "\tresp_status_ <class 'str'>:\n",
      "\t\t200\n"
     ]
    }
   ],
   "source": [
    "# Assess these registrations\n",
    "regs = rdw_per_reg['registrations'].Reg.values\n",
    "\n",
    "# Main rdw api\n",
    "Info = RdwInfo(regs, main_api, hidden_api_keys.socrata_apptoken)\n",
    "Info.process_api()\n",
    "key = re.sub('\\s', '_', Info.metadata_['name'].lower())\n",
    "rdw_per_reg[key] = Info.get_df().copy()\n",
    "print(Info)"
   ]
  },
  {
   "cell_type": "markdown",
   "metadata": {},
   "source": [
    "Sub apis"
   ]
  },
  {
   "cell_type": "code",
   "execution_count": 18,
   "metadata": {
    "editable": true,
    "lines_to_next_cell": 2,
    "slideshow": {
     "slide_type": ""
    },
    "tags": []
   },
   "outputs": [
    {
     "name": "stdout",
     "output_type": "stream",
     "text": [
      "gekentekende_voertuigen\n",
      "3huj-srit assen\n",
      "8ys7-d773 brandstof\n",
      "vezc-m2t6 carrosserie\n",
      "jhie-znh9 carrosserie_specificatie\n",
      "kmfi-hrps voertuigklasse\n",
      "3xwf-ince rupsbanden\n",
      "2ba7-embk subcategorie_voertuig\n",
      "7ug8-2dtt bijzonderheden\n",
      "t49b-isb7 terugroep_actie_status\n",
      "vkij-7mwc keuringen\n",
      "sgfe-77wx meldingen_keuringsinstantie\n",
      "sghb-dzxx toegevoegde_objecten\n",
      "meldingen_keuringsinstantie\n",
      "a34c-vvps geconstateerde_gebreken\n",
      "hx2c-gt7k gebreken\n"
     ]
    }
   ],
   "source": [
    "# Get sub apis from main api\n",
    "from_key = 'gekentekende_voertuigen'\n",
    "sub_apis,_,_ = get_sub_apis(rdw_per_reg[from_key])\n",
    "# add extra apis\n",
    "sub_apis += ['3xwf-ince', '2ba7-embk', '7ug8-2dtt', 't49b-isb7', keur_api, apk_api, toe_api] #,'a34c-vvps', # some extra apis with registrations\n",
    "print(f'{from_key}')\n",
    "for api_name in sub_apis:\n",
    "    Info.set_api_name(api_name)\n",
    "    Info.process_api()\n",
    "    key = re.sub('\\s', '_', Info.metadata_['name'].lower())\n",
    "    key = re.sub(f'^{from_key}_', '', key)\n",
    "    rdw_per_reg[key] = Info.get_df().copy()\n",
    "    print(api_name, key)\n",
    "\n",
    "# Get apis from apk api\n",
    "from_key = 'meldingen_keuringsinstantie'\n",
    "sub_apis,_,_ = get_sub_apis(rdw_per_reg[from_key])\n",
    "print(f'{from_key}')\n",
    "for api_name in set(sub_apis):\n",
    "    Info.set_api_name(api_name)\n",
    "    Info.process_api()\n",
    "    key = re.sub('\\s', '_', Info.metadata_['name'].lower())\n",
    "    key = re.sub(f'^{from_key}_', '', key)\n",
    "    rdw_per_reg[key] = Info.get_df().copy()\n",
    "    print(api_name, key)"
   ]
  },
  {
   "cell_type": "code",
   "execution_count": 19,
   "metadata": {},
   "outputs": [],
   "source": [
    "# Use reference table to add info\n",
    "df_left = rdw_per_reg['geconstateerde_gebreken'].copy()\n",
    "df_right = rdw_per_reg['gebreken'].copy()\n",
    "on_column = 'gebrek_identificatie'\n",
    "\n",
    "for left_column, left in df_left.loc[:, df_left.columns.str.startswith(on_column)].items():\n",
    "    suffix = re.sub(on_column, '', left_column)\n",
    "    df_merge = pd.merge(\n",
    "        left=left.reset_index(),\n",
    "        right=df_right,\n",
    "        how='left',\n",
    "        left_on=left_column,\n",
    "        right_on=on_column,\n",
    "    ).set_index('kenteken')\n",
    "    df_merge = df_merge.drop(columns=[left_column, on_column, 'TimeStamp']).add_suffix(suffix)\n",
    "    df_left = df_left.merge(df_merge, left_index=True, right_index=True)\n",
    "\n",
    "# add extra table\n",
    "rdw_per_reg['geconstateerde_gebreken_met_beschrijving'] = df_left\n",
    "# clean up: \n",
    "#    remove reference table\n",
    "del rdw_per_reg['gebreken']\n",
    "#    remove table without description\n",
    "del rdw_per_reg['geconstateerde_gebreken']"
   ]
  },
  {
   "cell_type": "code",
   "execution_count": 20,
   "metadata": {
    "tags": [
     "nbconvert_instruction:remove_all_outputs"
    ]
   },
   "outputs": [
    {
     "data": {
      "text/html": [
       "<div>\n",
       "<style scoped>\n",
       "    .dataframe tbody tr th:only-of-type {\n",
       "        vertical-align: middle;\n",
       "    }\n",
       "\n",
       "    .dataframe tbody tr th {\n",
       "        vertical-align: top;\n",
       "    }\n",
       "\n",
       "    .dataframe thead th {\n",
       "        text-align: right;\n",
       "    }\n",
       "</style>\n",
       "<table border=\"1\" class=\"dataframe\">\n",
       "  <thead>\n",
       "    <tr style=\"text-align: right;\">\n",
       "      <th></th>\n",
       "      <th></th>\n",
       "      <th>0</th>\n",
       "    </tr>\n",
       "  </thead>\n",
       "  <tbody>\n",
       "    <tr>\n",
       "      <th>gekentekende_voertuigen</th>\n",
       "      <th>TimeStamp</th>\n",
       "      <td>2025-02-15 16:47:40</td>\n",
       "    </tr>\n",
       "    <tr>\n",
       "      <th>assen</th>\n",
       "      <th>TimeStamp</th>\n",
       "      <td>2025-02-15 16:48:50</td>\n",
       "    </tr>\n",
       "    <tr>\n",
       "      <th>brandstof</th>\n",
       "      <th>TimeStamp</th>\n",
       "      <td>2025-02-15 16:48:50</td>\n",
       "    </tr>\n",
       "    <tr>\n",
       "      <th>carrosserie</th>\n",
       "      <th>TimeStamp</th>\n",
       "      <td>2025-02-15 16:48:51</td>\n",
       "    </tr>\n",
       "    <tr>\n",
       "      <th>carrosserie_specificatie</th>\n",
       "      <th>TimeStamp</th>\n",
       "      <td>2025-02-15 16:48:52</td>\n",
       "    </tr>\n",
       "    <tr>\n",
       "      <th>voertuigklasse</th>\n",
       "      <th>TimeStamp</th>\n",
       "      <td>NaT</td>\n",
       "    </tr>\n",
       "    <tr>\n",
       "      <th>rupsbanden</th>\n",
       "      <th>TimeStamp</th>\n",
       "      <td>NaT</td>\n",
       "    </tr>\n",
       "    <tr>\n",
       "      <th>subcategorie_voertuig</th>\n",
       "      <th>TimeStamp</th>\n",
       "      <td>2025-02-15 16:48:53</td>\n",
       "    </tr>\n",
       "    <tr>\n",
       "      <th>bijzonderheden</th>\n",
       "      <th>TimeStamp</th>\n",
       "      <td>2025-02-15 16:48:54</td>\n",
       "    </tr>\n",
       "    <tr>\n",
       "      <th>terugroep_actie_status</th>\n",
       "      <th>TimeStamp</th>\n",
       "      <td>2025-02-15 16:48:55</td>\n",
       "    </tr>\n",
       "    <tr>\n",
       "      <th>keuringen</th>\n",
       "      <th>TimeStamp</th>\n",
       "      <td>2025-02-15 16:48:55</td>\n",
       "    </tr>\n",
       "    <tr>\n",
       "      <th>meldingen_keuringsinstantie</th>\n",
       "      <th>TimeStamp</th>\n",
       "      <td>2025-02-15 16:48:56</td>\n",
       "    </tr>\n",
       "    <tr>\n",
       "      <th>toegevoegde_objecten</th>\n",
       "      <th>TimeStamp</th>\n",
       "      <td>NaT</td>\n",
       "    </tr>\n",
       "    <tr>\n",
       "      <th>geconstateerde_gebreken_met_beschrijving</th>\n",
       "      <th>TimeStamp</th>\n",
       "      <td>2025-02-15 16:48:57</td>\n",
       "    </tr>\n",
       "  </tbody>\n",
       "</table>\n",
       "</div>"
      ],
      "text/plain": [
       "                                                                     0\n",
       "gekentekende_voertuigen                  TimeStamp 2025-02-15 16:47:40\n",
       "assen                                    TimeStamp 2025-02-15 16:48:50\n",
       "brandstof                                TimeStamp 2025-02-15 16:48:50\n",
       "carrosserie                              TimeStamp 2025-02-15 16:48:51\n",
       "carrosserie_specificatie                 TimeStamp 2025-02-15 16:48:52\n",
       "voertuigklasse                           TimeStamp                 NaT\n",
       "rupsbanden                               TimeStamp                 NaT\n",
       "subcategorie_voertuig                    TimeStamp 2025-02-15 16:48:53\n",
       "bijzonderheden                           TimeStamp 2025-02-15 16:48:54\n",
       "terugroep_actie_status                   TimeStamp 2025-02-15 16:48:55\n",
       "keuringen                                TimeStamp 2025-02-15 16:48:55\n",
       "meldingen_keuringsinstantie              TimeStamp 2025-02-15 16:48:56\n",
       "toegevoegde_objecten                     TimeStamp                 NaT\n",
       "geconstateerde_gebreken_met_beschrijving TimeStamp 2025-02-15 16:48:57"
      ]
     },
     "metadata": {},
     "output_type": "display_data"
    }
   ],
   "source": [
    "out = pd.concat(rdw_per_reg, axis=1)\n",
    "# When TimeStamp is filled, this auction has information from that api.\n",
    "display(out.loc[:, (slice(None), 'TimeStamp')].bfill(axis=0).iloc[[0],:].reset_index(drop=True).T)"
   ]
  },
  {
   "cell_type": "code",
   "execution_count": 21,
   "metadata": {
    "lines_to_next_cell": 2,
    "tags": [
     "nbconvert_instruction:remove_all_outputs"
    ]
   },
   "outputs": [
    {
     "name": "stdout",
     "output_type": "stream",
     "text": [
      "Skip. /home/tom/bin/satdatsci/Saturday-Datascience/data/auctions/enriched-results/rdw-reg/rdw-reg-full-0-data-2025-02-03.pkl exists or saving is disabled in settings.\n"
     ]
    }
   ],
   "source": [
    "# Save\n",
    "file_name = f'{DATA_DIR}/auctions/enriched-results/rdw-reg/rdw-reg-full-0-data-{auction_month}-{month_counter}.pkl'\n",
    "\n",
    "if NO_PRICE:\n",
    "    file_name = file_name.replace('.pkl', '-without-price.pkl')\n",
    "if OPBOD:\n",
    "    file_name = file_name.replace('.pkl', '-opbod.pkl')\n",
    "    \n",
    "if (SKIPSAVE==False) and (not(os.path.isfile(file_name))):\n",
    "    print(file_name)\n",
    "    out.to_pickle(file_name)\n",
    "else:\n",
    "    print(f'Skip. {file_name} exists or saving is disabled in settings.')"
   ]
  },
  {
   "cell_type": "markdown",
   "metadata": {},
   "source": [
    "<a href=\"#rdw_top\" id='rdw_confcodes'><font size=+1><center>^^ TOP ^^</center></font></a>\n",
    "\n",
    "---"
   ]
  },
  {
   "cell_type": "markdown",
   "metadata": {},
   "source": [
    "# Conformity codes"
   ]
  },
  {
   "cell_type": "code",
   "execution_count": 22,
   "metadata": {
    "lines_to_next_cell": 2
   },
   "outputs": [],
   "source": [
    "# As of Dec 2024 something changed. This field is no longer returned\n",
    "if 'volgnummer_wijziging_eu_typegoedkeuring' not in rdw_per_reg['gekentekende_voertuigen']:\n",
    "    conf = rdw_per_reg['gekentekende_voertuigen'][[\n",
    "        'typegoedkeuringsnummer', \n",
    "        'uitvoering', \n",
    "        'variant'\n",
    "    ]].copy()\n",
    "    conf.loc[:,'volgnummer_wijziging_eu_typegoedkeuring'] = 0\n",
    "else:\n",
    "    conf = rdw_per_reg['gekentekende_voertuigen'][[\n",
    "        'typegoedkeuringsnummer', \n",
    "        'uitvoering', \n",
    "        'variant', \n",
    "        'volgnummer_wijziging_eu_typegoedkeuring'\n",
    "    ]].copy()"
   ]
  },
  {
   "cell_type": "code",
   "execution_count": 23,
   "metadata": {
    "editable": true,
    "lines_to_next_cell": 2,
    "slideshow": {
     "slide_type": ""
    },
    "tags": [
     "nbconvert_instruction:remove_all_outputs"
    ]
   },
   "outputs": [
    {
     "ename": "AttributeError",
     "evalue": "`np.NaN` was removed in the NumPy 2.0 release. Use `np.nan` instead.",
     "output_type": "error",
     "traceback": [
      "\u001b[0;31m---------------------------------------------------------------------------\u001b[0m",
      "\u001b[0;31mAttributeError\u001b[0m                            Traceback (most recent call last)",
      "Cell \u001b[0;32mIn[23], line 36\u001b[0m\n\u001b[1;32m     24\u001b[0m conf\u001b[38;5;241m.\u001b[39mrename(columns\u001b[38;5;241m=\u001b[39m{\n\u001b[1;32m     25\u001b[0m     \u001b[38;5;124m'\u001b[39m\u001b[38;5;124muitvoering\u001b[39m\u001b[38;5;124m'\u001b[39m: \u001b[38;5;124m'\u001b[39m\u001b[38;5;124meeg_uitvoeringscode\u001b[39m\u001b[38;5;124m'\u001b[39m,\n\u001b[1;32m     26\u001b[0m     \u001b[38;5;124m'\u001b[39m\u001b[38;5;124mvariant\u001b[39m\u001b[38;5;124m'\u001b[39m: \u001b[38;5;124m'\u001b[39m\u001b[38;5;124meeg_variantcode\u001b[39m\u001b[38;5;124m'\u001b[39m,\n\u001b[1;32m     27\u001b[0m     \u001b[38;5;124m'\u001b[39m\u001b[38;5;124mvolgnummer_wijziging_eu_typegoedkeuring\u001b[39m\u001b[38;5;124m'\u001b[39m: \u001b[38;5;124m'\u001b[39m\u001b[38;5;124muitvoering_wijzigingsnummer\u001b[39m\u001b[38;5;124m'\u001b[39m,\n\u001b[1;32m     28\u001b[0m }, inplace\u001b[38;5;241m=\u001b[39m\u001b[38;5;28;01mTrue\u001b[39;00m)\n\u001b[1;32m     30\u001b[0m \u001b[38;5;66;03m# duplicates\u001b[39;00m\n\u001b[1;32m     31\u001b[0m display(\n\u001b[1;32m     32\u001b[0m     conf\u001b[38;5;241m.\u001b[39mloc[:, conf\u001b[38;5;241m.\u001b[39mcolumns]\\\n\u001b[1;32m     33\u001b[0m     \u001b[38;5;241m.\u001b[39mreset_index()\\\n\u001b[1;32m     34\u001b[0m     \u001b[38;5;241m.\u001b[39mgroupby(\u001b[38;5;124m'\u001b[39m\u001b[38;5;124meu_type_goedkeuringssleutel\u001b[39m\u001b[38;5;124m'\u001b[39m)\\\n\u001b[1;32m     35\u001b[0m     \u001b[38;5;241m.\u001b[39mnunique()\\\n\u001b[0;32m---> 36\u001b[0m     \u001b[38;5;241m.\u001b[39mreplace(\u001b[38;5;241m1\u001b[39m,\u001b[43mnp\u001b[49m\u001b[38;5;241;43m.\u001b[39;49m\u001b[43mNaN\u001b[49m)\\\n\u001b[1;32m     37\u001b[0m     \u001b[38;5;241m.\u001b[39mdropna(how\u001b[38;5;241m=\u001b[39m\u001b[38;5;124m'\u001b[39m\u001b[38;5;124mall\u001b[39m\u001b[38;5;124m'\u001b[39m)\\\n\u001b[1;32m     38\u001b[0m     \u001b[38;5;241m.\u001b[39mfillna(\u001b[38;5;241m1\u001b[39m)\\\n\u001b[1;32m     39\u001b[0m     \u001b[38;5;241m.\u001b[39mastype(\u001b[38;5;28mint\u001b[39m)\\\n\u001b[1;32m     40\u001b[0m     \u001b[38;5;241m.\u001b[39msort_values(by\u001b[38;5;241m=\u001b[39m\u001b[38;5;124m'\u001b[39m\u001b[38;5;124mkenteken\u001b[39m\u001b[38;5;124m'\u001b[39m, ascending\u001b[38;5;241m=\u001b[39m\u001b[38;5;28;01mFalse\u001b[39;00m)\n\u001b[1;32m     41\u001b[0m )\n\u001b[1;32m     43\u001b[0m key \u001b[38;5;241m=\u001b[39m \u001b[38;5;124m'\u001b[39m\u001b[38;5;124mconformity_codes\u001b[39m\u001b[38;5;124m'\u001b[39m\n\u001b[1;32m     44\u001b[0m rdw_per_confcode[key] \u001b[38;5;241m=\u001b[39m conf\u001b[38;5;241m.\u001b[39mreset_index()\u001b[38;5;241m.\u001b[39mset_index([\u001b[38;5;124m'\u001b[39m\u001b[38;5;124meu_type_goedkeuringssleutel\u001b[39m\u001b[38;5;124m'\u001b[39m, \u001b[38;5;124m'\u001b[39m\u001b[38;5;124meeg_variantcode\u001b[39m\u001b[38;5;124m'\u001b[39m, \u001b[38;5;124m'\u001b[39m\u001b[38;5;124meeg_uitvoeringscode\u001b[39m\u001b[38;5;124m'\u001b[39m, \u001b[38;5;124m'\u001b[39m\u001b[38;5;124muitvoering_wijzigingsnummer\u001b[39m\u001b[38;5;124m'\u001b[39m])\u001b[38;5;241m.\u001b[39mcopy()\n",
      "File \u001b[0;32m~/bin/py310-satdatsci/lib/python3.10/site-packages/numpy/__init__.py:400\u001b[0m, in \u001b[0;36m__getattr__\u001b[0;34m(attr)\u001b[0m\n\u001b[1;32m    397\u001b[0m     \u001b[38;5;28;01mraise\u001b[39;00m \u001b[38;5;167;01mAttributeError\u001b[39;00m(__former_attrs__[attr], name\u001b[38;5;241m=\u001b[39m\u001b[38;5;28;01mNone\u001b[39;00m)\n\u001b[1;32m    399\u001b[0m \u001b[38;5;28;01mif\u001b[39;00m attr \u001b[38;5;129;01min\u001b[39;00m __expired_attributes__:\n\u001b[0;32m--> 400\u001b[0m     \u001b[38;5;28;01mraise\u001b[39;00m \u001b[38;5;167;01mAttributeError\u001b[39;00m(\n\u001b[1;32m    401\u001b[0m         \u001b[38;5;124mf\u001b[39m\u001b[38;5;124m\"\u001b[39m\u001b[38;5;124m`np.\u001b[39m\u001b[38;5;132;01m{\u001b[39;00mattr\u001b[38;5;132;01m}\u001b[39;00m\u001b[38;5;124m` was removed in the NumPy 2.0 release. \u001b[39m\u001b[38;5;124m\"\u001b[39m\n\u001b[1;32m    402\u001b[0m         \u001b[38;5;124mf\u001b[39m\u001b[38;5;124m\"\u001b[39m\u001b[38;5;132;01m{\u001b[39;00m__expired_attributes__[attr]\u001b[38;5;132;01m}\u001b[39;00m\u001b[38;5;124m\"\u001b[39m,\n\u001b[1;32m    403\u001b[0m         name\u001b[38;5;241m=\u001b[39m\u001b[38;5;28;01mNone\u001b[39;00m\n\u001b[1;32m    404\u001b[0m     )\n\u001b[1;32m    406\u001b[0m \u001b[38;5;28;01mif\u001b[39;00m attr \u001b[38;5;241m==\u001b[39m \u001b[38;5;124m\"\u001b[39m\u001b[38;5;124mchararray\u001b[39m\u001b[38;5;124m\"\u001b[39m:\n\u001b[1;32m    407\u001b[0m     warnings\u001b[38;5;241m.\u001b[39mwarn(\n\u001b[1;32m    408\u001b[0m         \u001b[38;5;124m\"\u001b[39m\u001b[38;5;124m`np.chararray` is deprecated and will be removed from \u001b[39m\u001b[38;5;124m\"\u001b[39m\n\u001b[1;32m    409\u001b[0m         \u001b[38;5;124m\"\u001b[39m\u001b[38;5;124mthe main namespace in the future. Use an array with a string \u001b[39m\u001b[38;5;124m\"\u001b[39m\n\u001b[1;32m    410\u001b[0m         \u001b[38;5;124m\"\u001b[39m\u001b[38;5;124mor bytes dtype instead.\u001b[39m\u001b[38;5;124m\"\u001b[39m, \u001b[38;5;167;01mDeprecationWarning\u001b[39;00m, stacklevel\u001b[38;5;241m=\u001b[39m\u001b[38;5;241m2\u001b[39m)\n",
      "\u001b[0;31mAttributeError\u001b[0m: `np.NaN` was removed in the NumPy 2.0 release. Use `np.nan` instead."
     ]
    }
   ],
   "source": [
    "# empty dict\n",
    "rdw_per_confcode = dict()\n",
    "# # Conformity codes consists of four fields that make a composite key\n",
    "# conf = rdw_per_reg['gekentekende_voertuigen'][[\n",
    "#     'typegoedkeuringsnummer', \n",
    "#     'uitvoering', \n",
    "#     'variant', \n",
    "#     'volgnummer_wijziging_eu_typegoedkeuring'\n",
    "# ]].copy()\n",
    "\n",
    "# drop nan\n",
    "conf.dropna(inplace=True)\n",
    "conf = conf.query('typegoedkeuringsnummer != \"nan\"')\n",
    "\n",
    "# Add shorter key \"eu_type_goedkeuringssleutel\"\n",
    "conf = conf.merge(\n",
    "    how='left', \n",
    "    right=long_to_short_conf(conf.typegoedkeuringsnummer).drop_duplicates(), \n",
    "    left_on='typegoedkeuringsnummer', right_index=True\n",
    ")\n",
    "\n",
    "# rename fields\n",
    "conf.volgnummer_wijziging_eu_typegoedkeuring = conf.volgnummer_wijziging_eu_typegoedkeuring.astype('Int8').astype(str)\n",
    "conf.rename(columns={\n",
    "    'uitvoering': 'eeg_uitvoeringscode',\n",
    "    'variant': 'eeg_variantcode',\n",
    "    'volgnummer_wijziging_eu_typegoedkeuring': 'uitvoering_wijzigingsnummer',\n",
    "}, inplace=True)\n",
    "\n",
    "# duplicates\n",
    "display(\n",
    "    conf.loc[:, conf.columns]\\\n",
    "    .reset_index()\\\n",
    "    .groupby('eu_type_goedkeuringssleutel')\\\n",
    "    .nunique()\\\n",
    "    .replace(1,np.nan)\\\n",
    "    .dropna(how='all')\\\n",
    "    .fillna(1)\\\n",
    "    .astype(int)\\\n",
    "    .sort_values(by='kenteken', ascending=False)\n",
    ")\n",
    "\n",
    "key = 'conformity_codes'\n",
    "rdw_per_confcode[key] = conf.reset_index().set_index(['eu_type_goedkeuringssleutel', 'eeg_variantcode', 'eeg_uitvoeringscode', 'uitvoering_wijzigingsnummer']).copy()"
   ]
  },
  {
   "cell_type": "code",
   "execution_count": 18,
   "metadata": {},
   "outputs": [],
   "source": [
    "short_confs = rdw_per_confcode['conformity_codes'].reset_index()\\\n",
    ".set_index('typegoedkeuringsnummer').eu_type_goedkeuringssleutel\n",
    "full_confs = rdw_per_confcode['conformity_codes'].reset_index()\\\n",
    ".set_index('typegoedkeuringsnummer').loc[:, ['eu_type_goedkeuringssleutel', 'eeg_variantcode', 'eeg_uitvoeringscode', 'uitvoering_wijzigingsnummer']]\n",
    "full_confs_with_long = full_confs.reset_index().drop(columns=['eu_type_goedkeuringssleutel'])"
   ]
  },
  {
   "cell_type": "raw",
   "metadata": {
    "editable": true,
    "raw_mimetype": "",
    "slideshow": {
     "slide_type": ""
    },
    "tags": []
   },
   "source": [
    "# Main conformity code api\n",
    "Info = RdwInfo(short_confs, conf_api, hidden_api_keys.socrata_apptoken)\n",
    "Info.process_api()\n",
    "key = re.sub('\\s', '_', Info.metadata_['name'].lower())\n",
    "key = re.sub(f'^{from_key}_', '', key)\n",
    "rdw_per_confcode[key] = Info.get_df().copy()\n",
    "print(key)"
   ]
  },
  {
   "cell_type": "code",
   "execution_count": 19,
   "metadata": {
    "editable": true,
    "lines_to_next_cell": 2,
    "slideshow": {
     "slide_type": ""
    },
    "tags": []
   },
   "outputs": [
    {
     "name": "stdout",
     "output_type": "stream",
     "text": [
      "tgk\n",
      "xhyb-w7xt as_uitvoering\n",
      "ky2r-jqad carrosserie_uitvoering\n",
      "byxc-wwua basis_uitvoering\n",
      "x5v3-sewk handelsbenaming_fabrikant\n",
      "m692-vvff speciale_doeleinden\n",
      "kyri-nuah merk_uitvoering\n",
      "gr7t-qfnb energiebron_uitvoering\n",
      "d3ex-xghj koppeling_uitvoering\n",
      "7rjk-eycs versnelling_uitvoering\n",
      "4by9-ammk aandrijving_uitvoering\n",
      "xn6e-huse rupsbandset_uitvoering\n",
      "9s6a-b42z intrekking_typegoedkeuring\n"
     ]
    }
   ],
   "source": [
    "# Get sub apis from main api\n",
    "from_key = 'tgk'\n",
    "sub_apis,_,_ = get_apis_with_search('title:\"Open Data RDW: TGK\"')\n",
    "print(f'{from_key}')\n",
    "for api_name in sub_apis:\n",
    "    if api_name == '9s6a-b42z':\n",
    "        # This api only needs one field as an index\n",
    "        Info = RdwInfo(full_confs_with_long.typegoedkeuringsnummer, api_name, hidden_api_keys.socrata_apptoken)\n",
    "    else:\n",
    "        Info = RdwInfo(full_confs_with_long, api_name, hidden_api_keys.socrata_apptoken)\n",
    "    Info.process_api()\n",
    "    key = re.sub('\\s', '_', Info.metadata_['name'].lower())\n",
    "    key = re.sub(f'^{from_key}_', '', key)\n",
    "    rdw_per_confcode[key] = Info.get_df().copy()\n",
    "    if key == 'handelsbenaming_fabrikant':\n",
    "        # rename typo codevariantgk -> codevarianttgk (missing 't')\n",
    "        rdw_per_confcode[key].index.names = [re.sub('codevariantgk', 'codevarianttgk', n) for n in rdw_per_confcode[key].index.names]\n",
    "    print(api_name, key)"
   ]
  },
  {
   "cell_type": "markdown",
   "metadata": {
    "editable": true,
    "slideshow": {
     "slide_type": ""
    },
    "tags": []
   },
   "source": [
    "Merge dataframes from conformity codes apis"
   ]
  },
  {
   "cell_type": "code",
   "execution_count": 20,
   "metadata": {
    "editable": true,
    "slideshow": {
     "slide_type": ""
    },
    "tags": [
     "nbconvert_instruction:remove_all_outputs"
    ]
   },
   "outputs": [
    {
     "name": "stdout",
     "output_type": "stream",
     "text": [
      "x: Data can be merged. (should be unique, 4 level key and contain data)\n",
      "[ ] conformity_codes                                                [idx: NOT unique] [keys: 4] [shape:  56,  6]\n",
      "[x] as_uitvoering                                                   [idx: unique    ] [keys: 4] [shape:  43, 29]\n",
      "[x] carrosserie_uitvoering                                          [idx: unique    ] [keys: 4] [shape:  31,  4]\n",
      "[x] basis_uitvoering                                                [idx: unique    ] [keys: 4] [shape:  52, 33]\n",
      "[x] handelsbenaming_fabrikant                                       [idx: unique    ] [keys: 4] [shape:  52,490]\n",
      "[ ] speciale_doeleinden                                             [idx: unique    ] [keys: 1] [shape:   0,  1]\n",
      "[x] merk_uitvoering                                                 [idx: unique    ] [keys: 4] [shape:  52,457]\n",
      "[x] energiebron_uitvoering                                          [idx: unique    ] [keys: 4] [shape:  52,133]\n",
      "[x] koppeling_uitvoering                                            [idx: unique    ] [keys: 4] [shape:  29, 37]\n",
      "[x] versnelling_uitvoering                                          [idx: unique    ] [keys: 4] [shape:  43,  6]\n",
      "[x] aandrijving_uitvoering                                          [idx: unique    ] [keys: 4] [shape:  52, 25]\n",
      "[ ] rupsbandset_uitvoering                                          [idx: unique    ] [keys: 1] [shape:   0,  1]\n",
      "[ ] intrekking_typegoedkeuring                                      [idx: unique    ] [keys: 1] [shape:   0,  1]\n"
     ]
    }
   ],
   "source": [
    "print('x: Data can be merged. (should be unique, 4 level key and contain data)')\n",
    "full_codes = dict()\n",
    "for k, df in rdw_per_confcode.items():\n",
    "    if (k != 'conformity_codes') and (df.index.nlevels == 4) and (df.index.is_unique):\n",
    "        assert df.index.names == ['typegoedkeuringsnummer', 'codevarianttgk', 'codeuitvoeringtgk', 'volgnummerrevisieuitvoering']\n",
    "        df.reset_index(inplace=True)\n",
    "        df.volgnummerrevisieuitvoering = df.volgnummerrevisieuitvoering.astype(int).astype(str)\n",
    "        df.set_index(['typegoedkeuringsnummer', 'codevarianttgk', 'codeuitvoeringtgk', 'volgnummerrevisieuitvoering'], inplace=True)\n",
    "        full_codes[k] = df\n",
    "        print(f'[x] {k:64s}', end='')\n",
    "    else:\n",
    "        print(f'[ ] {k:64s}', end='')\n",
    "\n",
    "    print({True: '[idx: unique    ]', False: '[idx: NOT unique]'}[df.index.is_unique],\n",
    "          f'[keys: {df.index.nlevels}]', \n",
    "          f'[shape: {df.shape[0]:3.0f},{df.shape[1]:3.0f}]'\n",
    "         )"
   ]
  },
  {
   "cell_type": "code",
   "execution_count": 21,
   "metadata": {
    "editable": true,
    "slideshow": {
     "slide_type": ""
    },
    "tags": [
     "nbconvert_instruction:remove_all_outputs"
    ]
   },
   "outputs": [
    {
     "data": {
      "text/html": [
       "<div>\n",
       "<style scoped>\n",
       "    .dataframe tbody tr th:only-of-type {\n",
       "        vertical-align: middle;\n",
       "    }\n",
       "\n",
       "    .dataframe tbody tr th {\n",
       "        vertical-align: top;\n",
       "    }\n",
       "\n",
       "    .dataframe thead tr th {\n",
       "        text-align: left;\n",
       "    }\n",
       "</style>\n",
       "<table border=\"1\" class=\"dataframe\">\n",
       "  <thead>\n",
       "    <tr>\n",
       "      <th></th>\n",
       "      <th></th>\n",
       "      <th>e1*168/2013*00265*00</th>\n",
       "    </tr>\n",
       "    <tr>\n",
       "      <th></th>\n",
       "      <th></th>\n",
       "      <th>2</th>\n",
       "    </tr>\n",
       "    <tr>\n",
       "      <th></th>\n",
       "      <th></th>\n",
       "      <th>01</th>\n",
       "    </tr>\n",
       "    <tr>\n",
       "      <th></th>\n",
       "      <th></th>\n",
       "      <th>0</th>\n",
       "    </tr>\n",
       "  </thead>\n",
       "  <tbody>\n",
       "    <tr>\n",
       "      <th>as_uitvoering</th>\n",
       "      <th>TimeStamp</th>\n",
       "      <td>2024-12-29 12:08:44</td>\n",
       "    </tr>\n",
       "    <tr>\n",
       "      <th>carrosserie_uitvoering</th>\n",
       "      <th>TimeStamp</th>\n",
       "      <td>2024-12-29 12:08:47</td>\n",
       "    </tr>\n",
       "    <tr>\n",
       "      <th>basis_uitvoering</th>\n",
       "      <th>TimeStamp</th>\n",
       "      <td>2024-12-29 12:08:51</td>\n",
       "    </tr>\n",
       "    <tr>\n",
       "      <th>handelsbenaming_fabrikant</th>\n",
       "      <th>TimeStamp</th>\n",
       "      <td>2024-12-29 12:08:58</td>\n",
       "    </tr>\n",
       "    <tr>\n",
       "      <th>merk_uitvoering</th>\n",
       "      <th>TimeStamp</th>\n",
       "      <td>2024-12-29 12:09:02</td>\n",
       "    </tr>\n",
       "    <tr>\n",
       "      <th>energiebron_uitvoering</th>\n",
       "      <th>TimeStamp</th>\n",
       "      <td>2024-12-29 12:09:07</td>\n",
       "    </tr>\n",
       "    <tr>\n",
       "      <th>koppeling_uitvoering</th>\n",
       "      <th>TimeStamp</th>\n",
       "      <td>2024-12-29 12:09:14</td>\n",
       "    </tr>\n",
       "    <tr>\n",
       "      <th>versnelling_uitvoering</th>\n",
       "      <th>TimeStamp</th>\n",
       "      <td>2024-12-29 12:09:16</td>\n",
       "    </tr>\n",
       "    <tr>\n",
       "      <th>aandrijving_uitvoering</th>\n",
       "      <th>TimeStamp</th>\n",
       "      <td>2024-12-29 12:09:20</td>\n",
       "    </tr>\n",
       "  </tbody>\n",
       "</table>\n",
       "</div>"
      ],
      "text/plain": [
       "                                    e1*168/2013*00265*00\n",
       "                                                       2\n",
       "                                                      01\n",
       "                                                       0\n",
       "as_uitvoering             TimeStamp  2024-12-29 12:08:44\n",
       "carrosserie_uitvoering    TimeStamp  2024-12-29 12:08:47\n",
       "basis_uitvoering          TimeStamp  2024-12-29 12:08:51\n",
       "handelsbenaming_fabrikant TimeStamp  2024-12-29 12:08:58\n",
       "merk_uitvoering           TimeStamp  2024-12-29 12:09:02\n",
       "energiebron_uitvoering    TimeStamp  2024-12-29 12:09:07\n",
       "koppeling_uitvoering      TimeStamp  2024-12-29 12:09:14\n",
       "versnelling_uitvoering    TimeStamp  2024-12-29 12:09:16\n",
       "aandrijving_uitvoering    TimeStamp  2024-12-29 12:09:20"
      ]
     },
     "metadata": {},
     "output_type": "display_data"
    }
   ],
   "source": [
    "# merge\n",
    "out = pd.concat(full_codes, axis=1)\n",
    "display(out.loc[:, (slice(None), 'TimeStamp')].bfill(axis=0).iloc[0,:].to_frame())"
   ]
  },
  {
   "cell_type": "code",
   "execution_count": 22,
   "metadata": {
    "editable": true,
    "slideshow": {
     "slide_type": ""
    },
    "tags": [
     "nbconvert_instruction:remove_all_outputs"
    ]
   },
   "outputs": [
    {
     "name": "stdout",
     "output_type": "stream",
     "text": [
      "Skip. /home/tom/bin/satdatsci/Saturday-Datascience/data/auctions/enriched-results/rdw-conf/rdw-conf-0-data-2024-12-24.pkl exists or saving is disabled in settings.\n"
     ]
    }
   ],
   "source": [
    "# Save\n",
    "file_name = f'{DATA_DIR}/auctions/enriched-results/rdw-conf/rdw-conf-0-data-{auction_month}-{month_counter}.pkl'\n",
    "\n",
    "if NO_PRICE:\n",
    "    file_name = file_name.replace('.pkl', '-without-price.pkl')\n",
    "if OPBOD:\n",
    "    file_name = file_name.replace('.pkl', '-opbod.pkl')\n",
    "    \n",
    "if (SKIPSAVE==False) and (not(os.path.isfile(file_name))):\n",
    "    print(file_name)\n",
    "    out.to_pickle(file_name)\n",
    "else:\n",
    "    print(f'Skip. {file_name} exists or saving is disabled in settings.')"
   ]
  },
  {
   "cell_type": "markdown",
   "metadata": {},
   "source": [
    "<a href=\"#rdw_top\" id='rdw_ovi'><font size=+1><center>^^ TOP ^^</center></font></a>\n",
    "\n",
    "---"
   ]
  },
  {
   "cell_type": "markdown",
   "metadata": {
    "editable": true,
    "slideshow": {
     "slide_type": ""
    },
    "tags": []
   },
   "source": [
    "# Data from rdw website (OVI)\n",
    "Optionally get data from rdw website"
   ]
  },
  {
   "cell_type": "code",
   "execution_count": 23,
   "metadata": {
    "editable": true,
    "slideshow": {
     "slide_type": ""
    },
    "tags": [
     "nbconvert_instruction:remove_all_outputs"
    ]
   },
   "outputs": [
    {
     "name": "stdout",
     "output_type": "stream",
     "text": [
      "This takes approximately 3 minutes. Done by 13:12:52.\n"
     ]
    },
    {
     "data": {
      "text/html": [
       "<div>\n",
       "<style scoped>\n",
       "    .dataframe tbody tr th:only-of-type {\n",
       "        vertical-align: middle;\n",
       "    }\n",
       "\n",
       "    .dataframe tbody tr th {\n",
       "        vertical-align: top;\n",
       "    }\n",
       "\n",
       "    .dataframe thead th {\n",
       "        text-align: right;\n",
       "    }\n",
       "</style>\n",
       "<table border=\"1\" class=\"dataframe\">\n",
       "  <thead>\n",
       "    <tr style=\"text-align: right;\">\n",
       "      <th></th>\n",
       "      <th>0</th>\n",
       "      <th>1</th>\n",
       "      <th>2</th>\n",
       "      <th>3</th>\n",
       "      <th>4</th>\n",
       "      <th>5</th>\n",
       "      <th>6</th>\n",
       "      <th>7</th>\n",
       "      <th>8</th>\n",
       "      <th>9</th>\n",
       "    </tr>\n",
       "    <tr>\n",
       "      <th>items</th>\n",
       "      <th></th>\n",
       "      <th></th>\n",
       "      <th></th>\n",
       "      <th></th>\n",
       "      <th></th>\n",
       "      <th></th>\n",
       "      <th></th>\n",
       "      <th></th>\n",
       "      <th></th>\n",
       "      <th></th>\n",
       "    </tr>\n",
       "  </thead>\n",
       "  <tbody>\n",
       "    <tr>\n",
       "      <th>0-9</th>\n",
       "      <td>[0/0]73MFDZ</td>\n",
       "      <td>[0/0]11MSDH</td>\n",
       "      <td>[0/0]F910TX</td>\n",
       "      <td>[0/0]MPRZ21</td>\n",
       "      <td>[0/0]DSZ98P</td>\n",
       "      <td>[0/0]FRF75K</td>\n",
       "      <td>[0/0]FGX40T</td>\n",
       "      <td>[0/0]MXFT83</td>\n",
       "      <td>[0/0]FFT21P</td>\n",
       "      <td>[0/0]D850BP</td>\n",
       "    </tr>\n",
       "    <tr>\n",
       "      <th>10-19</th>\n",
       "      <td>[0/0]DGD12D</td>\n",
       "      <td>[0/0]FGD21N</td>\n",
       "      <td>[0/0]DHX15J</td>\n",
       "      <td>[0/0]FHK07R</td>\n",
       "      <td>[0/0]90MNNF</td>\n",
       "      <td>[0/0]73MHJB</td>\n",
       "      <td>[0/0]DBX53T</td>\n",
       "      <td>[0/0]FDR38K</td>\n",
       "      <td>[0/0]DLX22R</td>\n",
       "      <td>[0/0]FSN45T</td>\n",
       "    </tr>\n",
       "    <tr>\n",
       "      <th>20-29</th>\n",
       "      <td>[0/0]FD426H</td>\n",
       "      <td>[0/0]68MPDR</td>\n",
       "      <td>[0/0]FKG10L</td>\n",
       "      <td>[0/0]DNP37N</td>\n",
       "      <td>[0/0]FJV64D</td>\n",
       "      <td>[0/0]J624PJ</td>\n",
       "      <td>[0/0]N158GV</td>\n",
       "      <td>[0/0]R244KD</td>\n",
       "      <td>[0/0]X035GN</td>\n",
       "      <td>[0/0]J575KJ</td>\n",
       "    </tr>\n",
       "    <tr>\n",
       "      <th>30-39</th>\n",
       "      <td>[0/0]70LZV7</td>\n",
       "      <td>[0/0]29XZDH</td>\n",
       "      <td>[0/0]30XZDH</td>\n",
       "      <td>[0/0]49GRG6</td>\n",
       "      <td>[0/0]VZ002K</td>\n",
       "      <td>[0/0]9SRR06</td>\n",
       "      <td>[0/0]G613BG</td>\n",
       "      <td>[0/0]4VHX72</td>\n",
       "      <td>[0/0]6XDB96</td>\n",
       "      <td>[0/0]V983GG</td>\n",
       "    </tr>\n",
       "    <tr>\n",
       "      <th>40-49</th>\n",
       "      <td>[0/0]V640VG</td>\n",
       "      <td>[0/0]PJ672G</td>\n",
       "      <td>[0/0]67TFV7</td>\n",
       "      <td>[0/0]S458XL</td>\n",
       "      <td>[0/0]64FLND</td>\n",
       "      <td>[0/0]90LTH8</td>\n",
       "      <td>[0/0]J052TH</td>\n",
       "      <td>[0/0]83GTTL</td>\n",
       "      <td>[0/0]GNB70N</td>\n",
       "      <td>[0/0]6KBJ11</td>\n",
       "    </tr>\n",
       "    <tr>\n",
       "      <th>50-59</th>\n",
       "      <td>[0/0]ZV790F</td>\n",
       "      <td>[0/0]29TLTN</td>\n",
       "      <td>[0/0]PP823J</td>\n",
       "      <td>[0/0]RSTN76</td>\n",
       "      <td>[0/0]VHD86F</td>\n",
       "      <td>[0/0]G388DR</td>\n",
       "      <td>[0/0]WDJX57</td>\n",
       "      <td>[0/0]51JPN7</td>\n",
       "      <td>[0/0]9VNS00</td>\n",
       "      <td>[0/0]22TDKX</td>\n",
       "    </tr>\n",
       "    <tr>\n",
       "      <th>60-69</th>\n",
       "      <td>[0/0]NJ868F</td>\n",
       "      <td>[0/0]4TZF77</td>\n",
       "      <td>[0/0]3SNF20</td>\n",
       "      <td>[0/0]33SLKF</td>\n",
       "      <td>[0/0]LM3884</td>\n",
       "      <td>[0/0]KM0764</td>\n",
       "      <td></td>\n",
       "      <td></td>\n",
       "      <td></td>\n",
       "      <td></td>\n",
       "    </tr>\n",
       "    <tr>\n",
       "      <th>70-79</th>\n",
       "      <td>done</td>\n",
       "      <td></td>\n",
       "      <td></td>\n",
       "      <td></td>\n",
       "      <td></td>\n",
       "      <td></td>\n",
       "      <td></td>\n",
       "      <td></td>\n",
       "      <td></td>\n",
       "      <td></td>\n",
       "    </tr>\n",
       "  </tbody>\n",
       "</table>\n",
       "</div>"
      ],
      "text/plain": [
       "                 0            1            2            3            4  \\\n",
       "items                                                                    \n",
       "0-9    [0/0]73MFDZ  [0/0]11MSDH  [0/0]F910TX  [0/0]MPRZ21  [0/0]DSZ98P   \n",
       "10-19  [0/0]DGD12D  [0/0]FGD21N  [0/0]DHX15J  [0/0]FHK07R  [0/0]90MNNF   \n",
       "20-29  [0/0]FD426H  [0/0]68MPDR  [0/0]FKG10L  [0/0]DNP37N  [0/0]FJV64D   \n",
       "30-39  [0/0]70LZV7  [0/0]29XZDH  [0/0]30XZDH  [0/0]49GRG6  [0/0]VZ002K   \n",
       "40-49  [0/0]V640VG  [0/0]PJ672G  [0/0]67TFV7  [0/0]S458XL  [0/0]64FLND   \n",
       "50-59  [0/0]ZV790F  [0/0]29TLTN  [0/0]PP823J  [0/0]RSTN76  [0/0]VHD86F   \n",
       "60-69  [0/0]NJ868F  [0/0]4TZF77  [0/0]3SNF20  [0/0]33SLKF  [0/0]LM3884   \n",
       "70-79         done                                                       \n",
       "\n",
       "                 5            6            7            8            9  \n",
       "items                                                                   \n",
       "0-9    [0/0]FRF75K  [0/0]FGX40T  [0/0]MXFT83  [0/0]FFT21P  [0/0]D850BP  \n",
       "10-19  [0/0]73MHJB  [0/0]DBX53T  [0/0]FDR38K  [0/0]DLX22R  [0/0]FSN45T  \n",
       "20-29  [0/0]J624PJ  [0/0]N158GV  [0/0]R244KD  [0/0]X035GN  [0/0]J575KJ  \n",
       "30-39  [0/0]9SRR06  [0/0]G613BG  [0/0]4VHX72  [0/0]6XDB96  [0/0]V983GG  \n",
       "40-49  [0/0]90LTH8  [0/0]J052TH  [0/0]83GTTL  [0/0]GNB70N  [0/0]6KBJ11  \n",
       "50-59  [0/0]G388DR  [0/0]WDJX57  [0/0]51JPN7  [0/0]9VNS00  [0/0]22TDKX  \n",
       "60-69  [0/0]KM0764                                                      \n",
       "70-79                                                                   "
      ]
     },
     "metadata": {},
     "output_type": "display_data"
    },
    {
     "name": "stdout",
     "output_type": "stream",
     "text": [
      "Class contains\n",
      "\tcurrent_reg_ <class 'str'>:\n",
      "\t\tNone\n",
      "\tdata_ <class 'pandas.core.frame.DataFrame'>:\n",
      "\t\tshape=(66, 1)\n",
      "\tidx_ <class 'list'>:\n",
      "\t\tlen=66\n",
      "\tmetadata_ <class 'dict'>:\n",
      "\t\tcontains fields ['header']\n",
      "\tmetadata_.header <class 'str'>:\n",
      "\t\t{'Date': 'Sun, 29 Dec 2024 12: .. tps://authenticatie2.rdw.nl;\"}\n",
      "\tresp_status_ <class 'str'>:\n",
      "\t\tNone\n",
      "\tverbose_level_ <class 'str'>:\n",
      "\t\t1\n"
     ]
    },
    {
     "ename": "AttributeError",
     "evalue": "'DataFrame' object has no attribute 'eigenaren'",
     "output_type": "error",
     "traceback": [
      "\u001b[0;31m---------------------------------------------------------------------------\u001b[0m",
      "\u001b[0;31mAttributeError\u001b[0m                            Traceback (most recent call last)",
      "\u001b[0;32m/tmp/ipykernel_529091/3165819708.py\u001b[0m in \u001b[0;36m?\u001b[0;34m()\u001b[0m\n\u001b[1;32m     13\u001b[0m     \u001b[0mrdw_ovi\u001b[0m\u001b[0;34m.\u001b[0m\u001b[0mcolumns\u001b[0m \u001b[0;34m=\u001b[0m \u001b[0;34m[\u001b[0m\u001b[0mre\u001b[0m\u001b[0;34m.\u001b[0m\u001b[0msub\u001b[0m\u001b[0;34m(\u001b[0m\u001b[0;34mr'^_'\u001b[0m\u001b[0;34m,\u001b[0m\u001b[0;34m''\u001b[0m\u001b[0;34m,\u001b[0m \u001b[0mc\u001b[0m\u001b[0;34m)\u001b[0m \u001b[0;32mfor\u001b[0m \u001b[0mc\u001b[0m \u001b[0;32min\u001b[0m \u001b[0mrdw_ovi\u001b[0m\u001b[0;34m.\u001b[0m\u001b[0mcolumns\u001b[0m\u001b[0;34m]\u001b[0m \u001b[0;31m# remove trailing _\u001b[0m\u001b[0;34m\u001b[0m\u001b[0;34m\u001b[0m\u001b[0m\n\u001b[1;32m     14\u001b[0m     \u001b[0;31m# Basic operations\u001b[0m\u001b[0;34m\u001b[0m\u001b[0;34m\u001b[0m\u001b[0m\n\u001b[1;32m     15\u001b[0m     rdw_ovi = pd.concat(\n\u001b[1;32m     16\u001b[0m         [rdw_ovi, \n\u001b[0;32m---> 17\u001b[0;31m          \u001b[0mrdw_ovi\u001b[0m\u001b[0;34m.\u001b[0m\u001b[0meigenaren\u001b[0m\u001b[0;34m.\u001b[0m\u001b[0mstr\u001b[0m\u001b[0;34m.\u001b[0m\u001b[0msplit\u001b[0m\u001b[0;34m(\u001b[0m\u001b[0;34m'/'\u001b[0m\u001b[0;34m,\u001b[0m \u001b[0mexpand\u001b[0m\u001b[0;34m=\u001b[0m\u001b[0;32mTrue\u001b[0m\u001b[0;34m)\u001b[0m\u001b[0;34m.\u001b[0m\u001b[0mrename\u001b[0m\u001b[0;34m(\u001b[0m\u001b[0mcolumns\u001b[0m \u001b[0;34m=\u001b[0m \u001b[0;34m{\u001b[0m\u001b[0;36m0\u001b[0m\u001b[0;34m:\u001b[0m \u001b[0;34m'eigenaren_private'\u001b[0m\u001b[0;34m,\u001b[0m \u001b[0;36m1\u001b[0m\u001b[0;34m:\u001b[0m \u001b[0;34m'eigenaren_company'\u001b[0m\u001b[0;34m}\u001b[0m\u001b[0;34m)\u001b[0m\u001b[0;34m.\u001b[0m\u001b[0mastype\u001b[0m\u001b[0;34m(\u001b[0m\u001b[0;34m'Int8'\u001b[0m\u001b[0;34m)\u001b[0m\u001b[0;34m\u001b[0m\u001b[0;34m\u001b[0m\u001b[0m\n\u001b[0m\u001b[1;32m     18\u001b[0m         ], axis=1)\n\u001b[1;32m     19\u001b[0m     \u001b[0mrdw_ovi\u001b[0m\u001b[0;34m[\u001b[0m\u001b[0;34m'eigenaren_total'\u001b[0m\u001b[0;34m]\u001b[0m \u001b[0;34m=\u001b[0m \u001b[0mrdw_ovi\u001b[0m\u001b[0;34m.\u001b[0m\u001b[0meigenaren_private\u001b[0m \u001b[0;34m+\u001b[0m \u001b[0mrdw_ovi\u001b[0m\u001b[0;34m.\u001b[0m\u001b[0meigenaren_company\u001b[0m\u001b[0;34m\u001b[0m\u001b[0;34m\u001b[0m\u001b[0m\n\u001b[1;32m     20\u001b[0m     \u001b[0;31m#rdw_ovi['ovi_wachten_op_keuring_ind'] = rdw_ovi.ovi_wachten_op_keuring.apply(lambda x: {'Ja': True, 'Nee': False}[x] if isinstance(x, str) else x).astype('boolean')\u001b[0m\u001b[0;34m\u001b[0m\u001b[0;34m\u001b[0m\u001b[0m\n",
      "\u001b[0;32m~/bin/py310-satdatsci/lib/python3.10/site-packages/pandas/core/generic.py\u001b[0m in \u001b[0;36m?\u001b[0;34m(self, name)\u001b[0m\n\u001b[1;32m   6295\u001b[0m             \u001b[0;32mand\u001b[0m \u001b[0mname\u001b[0m \u001b[0;32mnot\u001b[0m \u001b[0;32min\u001b[0m \u001b[0mself\u001b[0m\u001b[0;34m.\u001b[0m\u001b[0m_accessors\u001b[0m\u001b[0;34m\u001b[0m\u001b[0;34m\u001b[0m\u001b[0m\n\u001b[1;32m   6296\u001b[0m             \u001b[0;32mand\u001b[0m \u001b[0mself\u001b[0m\u001b[0;34m.\u001b[0m\u001b[0m_info_axis\u001b[0m\u001b[0;34m.\u001b[0m\u001b[0m_can_hold_identifiers_and_holds_name\u001b[0m\u001b[0;34m(\u001b[0m\u001b[0mname\u001b[0m\u001b[0;34m)\u001b[0m\u001b[0;34m\u001b[0m\u001b[0;34m\u001b[0m\u001b[0m\n\u001b[1;32m   6297\u001b[0m         ):\n\u001b[1;32m   6298\u001b[0m             \u001b[0;32mreturn\u001b[0m \u001b[0mself\u001b[0m\u001b[0;34m[\u001b[0m\u001b[0mname\u001b[0m\u001b[0;34m]\u001b[0m\u001b[0;34m\u001b[0m\u001b[0;34m\u001b[0m\u001b[0m\n\u001b[0;32m-> 6299\u001b[0;31m         \u001b[0;32mreturn\u001b[0m \u001b[0mobject\u001b[0m\u001b[0;34m.\u001b[0m\u001b[0m__getattribute__\u001b[0m\u001b[0;34m(\u001b[0m\u001b[0mself\u001b[0m\u001b[0;34m,\u001b[0m \u001b[0mname\u001b[0m\u001b[0;34m)\u001b[0m\u001b[0;34m\u001b[0m\u001b[0;34m\u001b[0m\u001b[0m\n\u001b[0m",
      "\u001b[0;31mAttributeError\u001b[0m: 'DataFrame' object has no attribute 'eigenaren'"
     ]
    }
   ],
   "source": [
    "if OVIDATA == False:\n",
    "    rdw_ovi = None\n",
    "else:\n",
    "    regs = rdw_per_reg['registrations'].Reg.to_list()\n",
    "    Info = OviInfo(regs, verbose=VERBOSE)\n",
    "    Info.process_api()\n",
    "    print(Info)\n",
    "\n",
    "    rdw_ovi = Info.data_.copy()\n",
    "    # make fields lowercase and add \"ovi_\"\n",
    "    rdw_ovi.index.name='kenteken'\n",
    "    rdw_ovi.columns = [re.sub(r'([A-Z])',r'_\\1', c).lower() if c != 'TimeStamp' else c for c in rdw_ovi.columns] # after capital, add _ \n",
    "    rdw_ovi.columns = [re.sub(r'^_','', c) for c in rdw_ovi.columns] # remove trailing _\n",
    "    # Basic operations\n",
    "    rdw_ovi = pd.concat(\n",
    "        [rdw_ovi, \n",
    "         rdw_ovi.eigenaren.str.split('/', expand=True).rename(columns = {0: 'eigenaren_private', 1: 'eigenaren_company'}).astype('Int8')\n",
    "        ], axis=1)\n",
    "    rdw_ovi['eigenaren_total'] = rdw_ovi.eigenaren_private + rdw_ovi.eigenaren_company\n",
    "    #rdw_ovi['ovi_wachten_op_keuring_ind'] = rdw_ovi.ovi_wachten_op_keuring.apply(lambda x: {'Ja': True, 'Nee': False}[x] if isinstance(x, str) else x).astype('boolean')\n",
    "\n",
    "    if VERBOSE > 1:\n",
    "        rdw_ovi\n",
    "    else:\n",
    "        print(rdw_ovi.shape)"
   ]
  },
  {
   "cell_type": "code",
   "execution_count": null,
   "metadata": {
    "editable": true,
    "slideshow": {
     "slide_type": ""
    },
    "tags": []
   },
   "outputs": [],
   "source": [
    "out = rdw_ovi.copy()"
   ]
  },
  {
   "cell_type": "code",
   "execution_count": null,
   "metadata": {
    "tags": [
     "nbconvert_instruction:remove_all_outputs"
    ]
   },
   "outputs": [],
   "source": [
    "# Save\n",
    "file_name = f'{DATA_DIR}/auctions/enriched-results/rdw-ovi/rdw-ovi-0-data-{auction_month}-{month_counter}.pkl'\n",
    "\n",
    "if NO_PRICE:\n",
    "    file_name = file_name.replace('.pkl', '-without-price.pkl')\n",
    "if OPBOD:\n",
    "    file_name = file_name.replace('.pkl', '-opbod.pkl')\n",
    "    \n",
    "if (SKIPSAVE==False) and (not(os.path.isfile(file_name))):\n",
    "    print(file_name)\n",
    "    out.to_pickle(file_name)\n",
    "else:\n",
    "    print(f'Skip. {file_name} exists or saving is disabled in settings.')"
   ]
  },
  {
   "cell_type": "markdown",
   "metadata": {},
   "source": [
    "<a href=\"#rdw_top\" id='rdw_merge'><font size=+1><center>^^ TOP ^^</center></font></a>\n",
    "\n",
    "---"
   ]
  },
  {
   "cell_type": "markdown",
   "metadata": {},
   "source": [
    "# Data from The National Highway Traffic Safety Administration (NHTSA)\n",
    "Based on VIN. Product Information Catalog and Vehicle Listing (vPIC)\n",
    "https://vpic.nhtsa.dot.gov/api/"
   ]
  },
  {
   "cell_type": "code",
   "execution_count": 24,
   "metadata": {
    "editable": true,
    "slideshow": {
     "slide_type": ""
    },
    "tags": []
   },
   "outputs": [],
   "source": [
    "from vin_lookup import Nhtsa_batch"
   ]
  },
  {
   "cell_type": "code",
   "execution_count": 25,
   "metadata": {
    "editable": true,
    "slideshow": {
     "slide_type": ""
    },
    "tags": []
   },
   "outputs": [],
   "source": [
    "# empty dictionary\n",
    "nhtsa_per_vin = dict()"
   ]
  },
  {
   "cell_type": "code",
   "execution_count": 26,
   "metadata": {
    "editable": true,
    "slideshow": {
     "slide_type": ""
    },
    "tags": [
     "nbconvert_instruction:remove_all_outputs"
    ]
   },
   "outputs": [
    {
     "name": "stderr",
     "output_type": "stream",
     "text": [
      "/tmp/ipykernel_1392930/1143635999.py:12: FutureWarning: Downcasting object dtype arrays on .fillna, .ffill, .bfill is deprecated and will change in a future version. Call result.infer_objects(copy=False) instead. To opt-in to the future behavior, set `pd.set_option('future.no_silent_downcasting', True)`\n",
      "  df_.update(df_.loc[:, ['Mfyear', 'datum_eerste_toelating']].bfill(axis=1))\n"
     ]
    },
    {
     "name": "stdout",
     "output_type": "stream",
     "text": [
      "batch [1/2]\n"
     ]
    },
    {
     "name": "stderr",
     "output_type": "stream",
     "text": [
      "/home/tom/bin/satdatsci/Saturday-Datascience/code/vin_lookup.py:530: FutureWarning: Passing literal json to 'read_json' is deprecated and will be removed in a future version. To read from a literal string, wrap it in a 'StringIO' object.\n",
      "  add = pd.read_json(rsp)\n",
      "/home/tom/bin/satdatsci/Saturday-Datascience/code/vin_lookup.py:540: FutureWarning: Downcasting behavior in `replace` is deprecated and will be removed in a future version. To retain the old behavior, explicitly call `result.infer_objects(copy=False)`. To opt-in to the future behavior, set `pd.set_option('future.no_silent_downcasting', True)`\n",
      "  add.replace({'Not Applicable': np.nan, '': np.nan}, inplace=True)\n"
     ]
    },
    {
     "name": "stdout",
     "output_type": "stream",
     "text": [
      "batch [2/2]\n",
      "Class contains\n",
      "\tbatch_size_ <class 'str'>:\n",
      "\t\t50\n",
      "\tdata_dict_ <class 'pandas.core.frame.DataFrame'>:\n",
      "\t\tshape=(140, 8)\n",
      "\tnbatches_ <class 'str'>:\n",
      "\t\t2\n",
      "\tsucces_ <class 'str'>:\n",
      "\t\tTrue\n",
      "\turl_ <class 'str'>:\n",
      "\t\thttps://vpic.nhtsa.dot.gov/api/vehicles/DecodeVINValuesBatch\n",
      "\tverboselevel_ <class 'str'>:\n",
      "\t\t1\n",
      "\tvins_ <class 'pandas.core.series.Series'>:\n",
      "\t\tshape=(77,)\n",
      "data (size): (77, 154)\n",
      "vpic\n"
     ]
    },
    {
     "name": "stderr",
     "output_type": "stream",
     "text": [
      "/home/tom/bin/satdatsci/Saturday-Datascience/code/vin_lookup.py:530: FutureWarning: Passing literal json to 'read_json' is deprecated and will be removed in a future version. To read from a literal string, wrap it in a 'StringIO' object.\n",
      "  add = pd.read_json(rsp)\n",
      "/home/tom/bin/satdatsci/Saturday-Datascience/code/vin_lookup.py:540: FutureWarning: Downcasting behavior in `replace` is deprecated and will be removed in a future version. To retain the old behavior, explicitly call `result.infer_objects(copy=False)`. To opt-in to the future behavior, set `pd.set_option('future.no_silent_downcasting', True)`\n",
      "  add.replace({'Not Applicable': np.nan, '': np.nan}, inplace=True)\n"
     ]
    }
   ],
   "source": [
    "key = 'vpic'\n",
    "df_ =  drz.loc[:, ['Vin', 'Mfyear']].copy().replace({'': np.nan, 'onbekend': np.nan}) # copy from drz\n",
    "\n",
    "# borrow mfyear from rdw info\n",
    "rdw_mfy = pd.merge(  left = rdw_per_reg['registrations'].reset_index(),\n",
    "                     right = rdw_per_reg['gekentekende_voertuigen'].datum_eerste_toelating.reset_index(),\n",
    "                     how='left',\n",
    "                     right_on='kenteken',\n",
    "                     left_on='kenteken'\n",
    "                    ).loc[:, ['lot_index', 'datum_eerste_toelating']].set_index('lot_index')\n",
    "df_ =  pd.concat([df_, (rdw_mfy // 10000).astype(pd.Int16Dtype())], axis=1)\n",
    "df_.update(df_.loc[:, ['Mfyear', 'datum_eerste_toelating']].bfill(axis=1))\n",
    "df_.rename(columns={'Vin': 'VIN', 'Mfyear': 'MFY'}, inplace=True)\n",
    "nhtsa_per_vin[key] = df_.loc[:, ['VIN', 'MFY']]\n",
    "\n",
    "# lookup vins in batches\n",
    "Batch = Nhtsa_batch(nhtsa_per_vin[key].iloc[:,:2].dropna(subset='VIN'), \n",
    "                    data_dict_fn = f\"{cfg['FILE_LOCATION']['code_dir']}/assets/nhtsa-data-dict.csv\",\n",
    "                    verbose=VERBOSE)\n",
    "Batch.full_parse()\n",
    "\n",
    "# store in dict\n",
    "out = Batch.data.copy()\n",
    "out.loc[:, 'TimeStamp'] = pd.Timestamp.now().strftime('%Y%m%d')\n",
    "nhtsa_per_vin[key] = pd.concat([\n",
    "    nhtsa_per_vin[key],\n",
    "    out.drop(columns=out.columns[out.columns.str.startswith('system') | out.columns.str.startswith('internal')])\n",
    "], axis=1)\n",
    "\n",
    "if VERBOSE > 1:\n",
    "    display(nhtsa_per_vin[key])\n",
    "else:\n",
    "    print('\\n'.join(nhtsa_per_vin.keys()))"
   ]
  },
  {
   "cell_type": "code",
   "execution_count": 27,
   "metadata": {},
   "outputs": [],
   "source": [
    "# Merge with input and potentential other sources\n",
    "nhtsa_per_vin['vpic'].index.name = 'lot_index'\n",
    "Batch.data.index.name = 'lot_index'\n",
    "df_vins = pd.concat([\n",
    "    nhtsa_per_vin['vpic'].loc[:, ['VIN', 'MFY']], \n",
    "    Batch.data\n",
    "], axis = 1)\n",
    "# add timestamp\n",
    "df_vins.loc[:, 'TimeStamp'] = pd.Timestamp.now().strftime('%Y%m%d')\n",
    "# Set index to vin/mfy\n",
    "df_vins = df_vins.reset_index().set_index(['VIN', 'MFY'])"
   ]
  },
  {
   "cell_type": "code",
   "execution_count": 28,
   "metadata": {},
   "outputs": [],
   "source": [
    "out = df_vins.copy()"
   ]
  },
  {
   "cell_type": "code",
   "execution_count": 31,
   "metadata": {},
   "outputs": [
    {
     "data": {
      "text/html": [
       "<div>\n",
       "<style scoped>\n",
       "    .dataframe tbody tr th:only-of-type {\n",
       "        vertical-align: middle;\n",
       "    }\n",
       "\n",
       "    .dataframe tbody tr th {\n",
       "        vertical-align: top;\n",
       "    }\n",
       "\n",
       "    .dataframe thead th {\n",
       "        text-align: right;\n",
       "    }\n",
       "</style>\n",
       "<table border=\"1\" class=\"dataframe\">\n",
       "  <thead>\n",
       "    <tr style=\"text-align: right;\">\n",
       "      <th></th>\n",
       "      <th></th>\n",
       "      <th>lot_index</th>\n",
       "      <th>system___count</th>\n",
       "      <th>system___message</th>\n",
       "      <th>system___searchcriteria</th>\n",
       "      <th>system___batch</th>\n",
       "      <th>activesafetysystem___abs</th>\n",
       "      <th>activesafetysystem___activesafetysysnote</th>\n",
       "      <th>activesafetysystem_maintainingsafedistance__adaptivecruisecontrol</th>\n",
       "      <th>activesafetysystem_lightingtechnologies__adaptivedrivingbeam</th>\n",
       "      <th>system___adaptiveheadlights</th>\n",
       "      <th>...</th>\n",
       "      <th>system___vehicledescriptor</th>\n",
       "      <th>general___vehicletype</th>\n",
       "      <th>exterior_dimension__wheelbaselong</th>\n",
       "      <th>exterior_dimension__wheelbaseshort</th>\n",
       "      <th>exterior_body__wheelbasetype</th>\n",
       "      <th>exterior_wheeltire__wheelsizefront</th>\n",
       "      <th>exterior_wheeltire__wheelsizerear</th>\n",
       "      <th>exterior_wheeltire__wheels</th>\n",
       "      <th>exterior_body__windows</th>\n",
       "      <th>TimeStamp</th>\n",
       "    </tr>\n",
       "    <tr>\n",
       "      <th>VIN</th>\n",
       "      <th>MFY</th>\n",
       "      <th></th>\n",
       "      <th></th>\n",
       "      <th></th>\n",
       "      <th></th>\n",
       "      <th></th>\n",
       "      <th></th>\n",
       "      <th></th>\n",
       "      <th></th>\n",
       "      <th></th>\n",
       "      <th></th>\n",
       "      <th></th>\n",
       "      <th></th>\n",
       "      <th></th>\n",
       "      <th></th>\n",
       "      <th></th>\n",
       "      <th></th>\n",
       "      <th></th>\n",
       "      <th></th>\n",
       "      <th></th>\n",
       "      <th></th>\n",
       "      <th></th>\n",
       "    </tr>\n",
       "  </thead>\n",
       "  <tbody>\n",
       "    <tr>\n",
       "      <th>JS1CF111100103143</th>\n",
       "      <th>2006</th>\n",
       "      <td>2025-03-1800</td>\n",
       "      <td>50</td>\n",
       "      <td>Results returned successfully. NOTE: Any missi...</td>\n",
       "      <td>NaN</td>\n",
       "      <td>1</td>\n",
       "      <td>NaN</td>\n",
       "      <td>NaN</td>\n",
       "      <td>NaN</td>\n",
       "      <td>NaN</td>\n",
       "      <td>NaN</td>\n",
       "      <td>...</td>\n",
       "      <td>JS1CF111*00</td>\n",
       "      <td>MOTORCYCLE</td>\n",
       "      <td>NaN</td>\n",
       "      <td>NaN</td>\n",
       "      <td>NaN</td>\n",
       "      <td>NaN</td>\n",
       "      <td>NaN</td>\n",
       "      <td>NaN</td>\n",
       "      <td>NaN</td>\n",
       "      <td>20250301</td>\n",
       "    </tr>\n",
       "    <tr>\n",
       "      <th>MLHRH01A6M5101976</th>\n",
       "      <th>2021</th>\n",
       "      <td>2025-03-1802</td>\n",
       "      <td>50</td>\n",
       "      <td>Results returned successfully. NOTE: Any missi...</td>\n",
       "      <td>NaN</td>\n",
       "      <td>1</td>\n",
       "      <td>NaN</td>\n",
       "      <td>NaN</td>\n",
       "      <td>NaN</td>\n",
       "      <td>NaN</td>\n",
       "      <td>NaN</td>\n",
       "      <td>...</td>\n",
       "      <td>MLHRH01A*M5</td>\n",
       "      <td>MOTORCYCLE</td>\n",
       "      <td>NaN</td>\n",
       "      <td>NaN</td>\n",
       "      <td>NaN</td>\n",
       "      <td>NaN</td>\n",
       "      <td>NaN</td>\n",
       "      <td>NaN</td>\n",
       "      <td>NaN</td>\n",
       "      <td>20250301</td>\n",
       "    </tr>\n",
       "    <tr>\n",
       "      <th>ZAPC5330100004448</th>\n",
       "      <th>2015</th>\n",
       "      <td>2025-03-1803</td>\n",
       "      <td>50</td>\n",
       "      <td>Results returned successfully. NOTE: Any missi...</td>\n",
       "      <td>NaN</td>\n",
       "      <td>1</td>\n",
       "      <td>NaN</td>\n",
       "      <td>NaN</td>\n",
       "      <td>NaN</td>\n",
       "      <td>NaN</td>\n",
       "      <td>NaN</td>\n",
       "      <td>...</td>\n",
       "      <td>ZAPC5330*00</td>\n",
       "      <td>MOTORCYCLE</td>\n",
       "      <td>NaN</td>\n",
       "      <td>NaN</td>\n",
       "      <td>NaN</td>\n",
       "      <td>NaN</td>\n",
       "      <td>NaN</td>\n",
       "      <td>NaN</td>\n",
       "      <td>NaN</td>\n",
       "      <td>20250301</td>\n",
       "    </tr>\n",
       "    <tr>\n",
       "      <th>ZAPM0700000014573</th>\n",
       "      <th>1998</th>\n",
       "      <td>2025-03-1804</td>\n",
       "      <td>50</td>\n",
       "      <td>Results returned successfully. NOTE: Any missi...</td>\n",
       "      <td>NaN</td>\n",
       "      <td>1</td>\n",
       "      <td>NaN</td>\n",
       "      <td>NaN</td>\n",
       "      <td>NaN</td>\n",
       "      <td>NaN</td>\n",
       "      <td>NaN</td>\n",
       "      <td>...</td>\n",
       "      <td>ZAPM0700*00</td>\n",
       "      <td>MOTORCYCLE</td>\n",
       "      <td>NaN</td>\n",
       "      <td>NaN</td>\n",
       "      <td>NaN</td>\n",
       "      <td>NaN</td>\n",
       "      <td>NaN</td>\n",
       "      <td>NaN</td>\n",
       "      <td>NaN</td>\n",
       "      <td>20250301</td>\n",
       "    </tr>\n",
       "    <tr>\n",
       "      <th>L5YADCZB7H1156288</th>\n",
       "      <th>2017</th>\n",
       "      <td>2025-03-1806</td>\n",
       "      <td>50</td>\n",
       "      <td>Results returned successfully. NOTE: Any missi...</td>\n",
       "      <td>NaN</td>\n",
       "      <td>1</td>\n",
       "      <td>NaN</td>\n",
       "      <td>NaN</td>\n",
       "      <td>NaN</td>\n",
       "      <td>NaN</td>\n",
       "      <td>NaN</td>\n",
       "      <td>...</td>\n",
       "      <td>L5YADCZB*H1</td>\n",
       "      <td>MOTORCYCLE</td>\n",
       "      <td>NaN</td>\n",
       "      <td>NaN</td>\n",
       "      <td>NaN</td>\n",
       "      <td>NaN</td>\n",
       "      <td>NaN</td>\n",
       "      <td>2</td>\n",
       "      <td>NaN</td>\n",
       "      <td>20250301</td>\n",
       "    </tr>\n",
       "    <tr>\n",
       "      <th>...</th>\n",
       "      <th>...</th>\n",
       "      <td>...</td>\n",
       "      <td>...</td>\n",
       "      <td>...</td>\n",
       "      <td>...</td>\n",
       "      <td>...</td>\n",
       "      <td>...</td>\n",
       "      <td>...</td>\n",
       "      <td>...</td>\n",
       "      <td>...</td>\n",
       "      <td>...</td>\n",
       "      <td>...</td>\n",
       "      <td>...</td>\n",
       "      <td>...</td>\n",
       "      <td>...</td>\n",
       "      <td>...</td>\n",
       "      <td>...</td>\n",
       "      <td>...</td>\n",
       "      <td>...</td>\n",
       "      <td>...</td>\n",
       "      <td>...</td>\n",
       "      <td>...</td>\n",
       "    </tr>\n",
       "    <tr>\n",
       "      <th>WDD2210221A077059</th>\n",
       "      <th>2006</th>\n",
       "      <td>2025-03-7057</td>\n",
       "      <td>27</td>\n",
       "      <td>Results returned successfully. NOTE: Any missi...</td>\n",
       "      <td>NaN</td>\n",
       "      <td>2</td>\n",
       "      <td>NaN</td>\n",
       "      <td>NaN</td>\n",
       "      <td>NaN</td>\n",
       "      <td>NaN</td>\n",
       "      <td>NaN</td>\n",
       "      <td>...</td>\n",
       "      <td>WDD22102*1A</td>\n",
       "      <td>PASSENGER CAR</td>\n",
       "      <td>NaN</td>\n",
       "      <td>NaN</td>\n",
       "      <td>NaN</td>\n",
       "      <td>NaN</td>\n",
       "      <td>NaN</td>\n",
       "      <td>NaN</td>\n",
       "      <td>NaN</td>\n",
       "      <td>20250301</td>\n",
       "    </tr>\n",
       "    <tr>\n",
       "      <th>WBAUB71040VA91764</th>\n",
       "      <th>2009</th>\n",
       "      <td>2025-03-7058</td>\n",
       "      <td>27</td>\n",
       "      <td>Results returned successfully. NOTE: Any missi...</td>\n",
       "      <td>NaN</td>\n",
       "      <td>2</td>\n",
       "      <td>NaN</td>\n",
       "      <td>NaN</td>\n",
       "      <td>NaN</td>\n",
       "      <td>NaN</td>\n",
       "      <td>NaN</td>\n",
       "      <td>...</td>\n",
       "      <td>WBAUB710*0V</td>\n",
       "      <td>PASSENGER CAR</td>\n",
       "      <td>NaN</td>\n",
       "      <td>NaN</td>\n",
       "      <td>NaN</td>\n",
       "      <td>NaN</td>\n",
       "      <td>NaN</td>\n",
       "      <td>NaN</td>\n",
       "      <td>NaN</td>\n",
       "      <td>20250301</td>\n",
       "    </tr>\n",
       "    <tr>\n",
       "      <th>TSMEXB22S00361579</th>\n",
       "      <th>2011</th>\n",
       "      <td>2025-03-7060</td>\n",
       "      <td>27</td>\n",
       "      <td>Results returned successfully. NOTE: Any missi...</td>\n",
       "      <td>NaN</td>\n",
       "      <td>2</td>\n",
       "      <td>NaN</td>\n",
       "      <td>NaN</td>\n",
       "      <td>NaN</td>\n",
       "      <td>NaN</td>\n",
       "      <td>NaN</td>\n",
       "      <td>...</td>\n",
       "      <td>TSMEXB22*00</td>\n",
       "      <td>NaN</td>\n",
       "      <td>NaN</td>\n",
       "      <td>NaN</td>\n",
       "      <td>NaN</td>\n",
       "      <td>NaN</td>\n",
       "      <td>NaN</td>\n",
       "      <td>NaN</td>\n",
       "      <td>NaN</td>\n",
       "      <td>20250301</td>\n",
       "    </tr>\n",
       "    <tr>\n",
       "      <th>W0LGM8EP3C1070306</th>\n",
       "      <th>2012</th>\n",
       "      <td>2025-03-7061</td>\n",
       "      <td>27</td>\n",
       "      <td>Results returned successfully. NOTE: Any missi...</td>\n",
       "      <td>NaN</td>\n",
       "      <td>2</td>\n",
       "      <td>NaN</td>\n",
       "      <td>NaN</td>\n",
       "      <td>NaN</td>\n",
       "      <td>NaN</td>\n",
       "      <td>NaN</td>\n",
       "      <td>...</td>\n",
       "      <td>W0LGM8EP*C1</td>\n",
       "      <td>PASSENGER CAR</td>\n",
       "      <td>NaN</td>\n",
       "      <td>NaN</td>\n",
       "      <td>NaN</td>\n",
       "      <td>NaN</td>\n",
       "      <td>NaN</td>\n",
       "      <td>NaN</td>\n",
       "      <td>NaN</td>\n",
       "      <td>20250301</td>\n",
       "    </tr>\n",
       "    <tr>\n",
       "      <th>JTDKGNEC40N036359</th>\n",
       "      <th>2015</th>\n",
       "      <td>2025-03-7062</td>\n",
       "      <td>27</td>\n",
       "      <td>Results returned successfully. NOTE: Any missi...</td>\n",
       "      <td>NaN</td>\n",
       "      <td>2</td>\n",
       "      <td>NaN</td>\n",
       "      <td>NaN</td>\n",
       "      <td>NaN</td>\n",
       "      <td>NaN</td>\n",
       "      <td>NaN</td>\n",
       "      <td>...</td>\n",
       "      <td>JTDKGNEC*0N</td>\n",
       "      <td>PASSENGER CAR</td>\n",
       "      <td>NaN</td>\n",
       "      <td>NaN</td>\n",
       "      <td>NaN</td>\n",
       "      <td>NaN</td>\n",
       "      <td>NaN</td>\n",
       "      <td>NaN</td>\n",
       "      <td>NaN</td>\n",
       "      <td>20250301</td>\n",
       "    </tr>\n",
       "  </tbody>\n",
       "</table>\n",
       "<p>81 rows × 156 columns</p>\n",
       "</div>"
      ],
      "text/plain": [
       "                           lot_index system___count  \\\n",
       "VIN               MFY                                 \n",
       "JS1CF111100103143 2006  2025-03-1800             50   \n",
       "MLHRH01A6M5101976 2021  2025-03-1802             50   \n",
       "ZAPC5330100004448 2015  2025-03-1803             50   \n",
       "ZAPM0700000014573 1998  2025-03-1804             50   \n",
       "L5YADCZB7H1156288 2017  2025-03-1806             50   \n",
       "...                              ...            ...   \n",
       "WDD2210221A077059 2006  2025-03-7057             27   \n",
       "WBAUB71040VA91764 2009  2025-03-7058             27   \n",
       "TSMEXB22S00361579 2011  2025-03-7060             27   \n",
       "W0LGM8EP3C1070306 2012  2025-03-7061             27   \n",
       "JTDKGNEC40N036359 2015  2025-03-7062             27   \n",
       "\n",
       "                                                         system___message  \\\n",
       "VIN               MFY                                                       \n",
       "JS1CF111100103143 2006  Results returned successfully. NOTE: Any missi...   \n",
       "MLHRH01A6M5101976 2021  Results returned successfully. NOTE: Any missi...   \n",
       "ZAPC5330100004448 2015  Results returned successfully. NOTE: Any missi...   \n",
       "ZAPM0700000014573 1998  Results returned successfully. NOTE: Any missi...   \n",
       "L5YADCZB7H1156288 2017  Results returned successfully. NOTE: Any missi...   \n",
       "...                                                                   ...   \n",
       "WDD2210221A077059 2006  Results returned successfully. NOTE: Any missi...   \n",
       "WBAUB71040VA91764 2009  Results returned successfully. NOTE: Any missi...   \n",
       "TSMEXB22S00361579 2011  Results returned successfully. NOTE: Any missi...   \n",
       "W0LGM8EP3C1070306 2012  Results returned successfully. NOTE: Any missi...   \n",
       "JTDKGNEC40N036359 2015  Results returned successfully. NOTE: Any missi...   \n",
       "\n",
       "                       system___searchcriteria system___batch  \\\n",
       "VIN               MFY                                           \n",
       "JS1CF111100103143 2006                     NaN              1   \n",
       "MLHRH01A6M5101976 2021                     NaN              1   \n",
       "ZAPC5330100004448 2015                     NaN              1   \n",
       "ZAPM0700000014573 1998                     NaN              1   \n",
       "L5YADCZB7H1156288 2017                     NaN              1   \n",
       "...                                        ...            ...   \n",
       "WDD2210221A077059 2006                     NaN              2   \n",
       "WBAUB71040VA91764 2009                     NaN              2   \n",
       "TSMEXB22S00361579 2011                     NaN              2   \n",
       "W0LGM8EP3C1070306 2012                     NaN              2   \n",
       "JTDKGNEC40N036359 2015                     NaN              2   \n",
       "\n",
       "                       activesafetysystem___abs  \\\n",
       "VIN               MFY                             \n",
       "JS1CF111100103143 2006                      NaN   \n",
       "MLHRH01A6M5101976 2021                      NaN   \n",
       "ZAPC5330100004448 2015                      NaN   \n",
       "ZAPM0700000014573 1998                      NaN   \n",
       "L5YADCZB7H1156288 2017                      NaN   \n",
       "...                                         ...   \n",
       "WDD2210221A077059 2006                      NaN   \n",
       "WBAUB71040VA91764 2009                      NaN   \n",
       "TSMEXB22S00361579 2011                      NaN   \n",
       "W0LGM8EP3C1070306 2012                      NaN   \n",
       "JTDKGNEC40N036359 2015                      NaN   \n",
       "\n",
       "                       activesafetysystem___activesafetysysnote  \\\n",
       "VIN               MFY                                             \n",
       "JS1CF111100103143 2006                                      NaN   \n",
       "MLHRH01A6M5101976 2021                                      NaN   \n",
       "ZAPC5330100004448 2015                                      NaN   \n",
       "ZAPM0700000014573 1998                                      NaN   \n",
       "L5YADCZB7H1156288 2017                                      NaN   \n",
       "...                                                         ...   \n",
       "WDD2210221A077059 2006                                      NaN   \n",
       "WBAUB71040VA91764 2009                                      NaN   \n",
       "TSMEXB22S00361579 2011                                      NaN   \n",
       "W0LGM8EP3C1070306 2012                                      NaN   \n",
       "JTDKGNEC40N036359 2015                                      NaN   \n",
       "\n",
       "                       activesafetysystem_maintainingsafedistance__adaptivecruisecontrol  \\\n",
       "VIN               MFY                                                                      \n",
       "JS1CF111100103143 2006                                                NaN                  \n",
       "MLHRH01A6M5101976 2021                                                NaN                  \n",
       "ZAPC5330100004448 2015                                                NaN                  \n",
       "ZAPM0700000014573 1998                                                NaN                  \n",
       "L5YADCZB7H1156288 2017                                                NaN                  \n",
       "...                                                                   ...                  \n",
       "WDD2210221A077059 2006                                                NaN                  \n",
       "WBAUB71040VA91764 2009                                                NaN                  \n",
       "TSMEXB22S00361579 2011                                                NaN                  \n",
       "W0LGM8EP3C1070306 2012                                                NaN                  \n",
       "JTDKGNEC40N036359 2015                                                NaN                  \n",
       "\n",
       "                       activesafetysystem_lightingtechnologies__adaptivedrivingbeam  \\\n",
       "VIN               MFY                                                                 \n",
       "JS1CF111100103143 2006                                                NaN             \n",
       "MLHRH01A6M5101976 2021                                                NaN             \n",
       "ZAPC5330100004448 2015                                                NaN             \n",
       "ZAPM0700000014573 1998                                                NaN             \n",
       "L5YADCZB7H1156288 2017                                                NaN             \n",
       "...                                                                   ...             \n",
       "WDD2210221A077059 2006                                                NaN             \n",
       "WBAUB71040VA91764 2009                                                NaN             \n",
       "TSMEXB22S00361579 2011                                                NaN             \n",
       "W0LGM8EP3C1070306 2012                                                NaN             \n",
       "JTDKGNEC40N036359 2015                                                NaN             \n",
       "\n",
       "                       system___adaptiveheadlights  ...  \\\n",
       "VIN               MFY                               ...   \n",
       "JS1CF111100103143 2006                         NaN  ...   \n",
       "MLHRH01A6M5101976 2021                         NaN  ...   \n",
       "ZAPC5330100004448 2015                         NaN  ...   \n",
       "ZAPM0700000014573 1998                         NaN  ...   \n",
       "L5YADCZB7H1156288 2017                         NaN  ...   \n",
       "...                                            ...  ...   \n",
       "WDD2210221A077059 2006                         NaN  ...   \n",
       "WBAUB71040VA91764 2009                         NaN  ...   \n",
       "TSMEXB22S00361579 2011                         NaN  ...   \n",
       "W0LGM8EP3C1070306 2012                         NaN  ...   \n",
       "JTDKGNEC40N036359 2015                         NaN  ...   \n",
       "\n",
       "                       system___vehicledescriptor general___vehicletype  \\\n",
       "VIN               MFY                                                     \n",
       "JS1CF111100103143 2006                JS1CF111*00            MOTORCYCLE   \n",
       "MLHRH01A6M5101976 2021                MLHRH01A*M5            MOTORCYCLE   \n",
       "ZAPC5330100004448 2015                ZAPC5330*00            MOTORCYCLE   \n",
       "ZAPM0700000014573 1998                ZAPM0700*00            MOTORCYCLE   \n",
       "L5YADCZB7H1156288 2017                L5YADCZB*H1            MOTORCYCLE   \n",
       "...                                           ...                   ...   \n",
       "WDD2210221A077059 2006                WDD22102*1A         PASSENGER CAR   \n",
       "WBAUB71040VA91764 2009                WBAUB710*0V         PASSENGER CAR   \n",
       "TSMEXB22S00361579 2011                TSMEXB22*00                   NaN   \n",
       "W0LGM8EP3C1070306 2012                W0LGM8EP*C1         PASSENGER CAR   \n",
       "JTDKGNEC40N036359 2015                JTDKGNEC*0N         PASSENGER CAR   \n",
       "\n",
       "                       exterior_dimension__wheelbaselong  \\\n",
       "VIN               MFY                                      \n",
       "JS1CF111100103143 2006                               NaN   \n",
       "MLHRH01A6M5101976 2021                               NaN   \n",
       "ZAPC5330100004448 2015                               NaN   \n",
       "ZAPM0700000014573 1998                               NaN   \n",
       "L5YADCZB7H1156288 2017                               NaN   \n",
       "...                                                  ...   \n",
       "WDD2210221A077059 2006                               NaN   \n",
       "WBAUB71040VA91764 2009                               NaN   \n",
       "TSMEXB22S00361579 2011                               NaN   \n",
       "W0LGM8EP3C1070306 2012                               NaN   \n",
       "JTDKGNEC40N036359 2015                               NaN   \n",
       "\n",
       "                       exterior_dimension__wheelbaseshort  \\\n",
       "VIN               MFY                                       \n",
       "JS1CF111100103143 2006                                NaN   \n",
       "MLHRH01A6M5101976 2021                                NaN   \n",
       "ZAPC5330100004448 2015                                NaN   \n",
       "ZAPM0700000014573 1998                                NaN   \n",
       "L5YADCZB7H1156288 2017                                NaN   \n",
       "...                                                   ...   \n",
       "WDD2210221A077059 2006                                NaN   \n",
       "WBAUB71040VA91764 2009                                NaN   \n",
       "TSMEXB22S00361579 2011                                NaN   \n",
       "W0LGM8EP3C1070306 2012                                NaN   \n",
       "JTDKGNEC40N036359 2015                                NaN   \n",
       "\n",
       "                       exterior_body__wheelbasetype  \\\n",
       "VIN               MFY                                 \n",
       "JS1CF111100103143 2006                          NaN   \n",
       "MLHRH01A6M5101976 2021                          NaN   \n",
       "ZAPC5330100004448 2015                          NaN   \n",
       "ZAPM0700000014573 1998                          NaN   \n",
       "L5YADCZB7H1156288 2017                          NaN   \n",
       "...                                             ...   \n",
       "WDD2210221A077059 2006                          NaN   \n",
       "WBAUB71040VA91764 2009                          NaN   \n",
       "TSMEXB22S00361579 2011                          NaN   \n",
       "W0LGM8EP3C1070306 2012                          NaN   \n",
       "JTDKGNEC40N036359 2015                          NaN   \n",
       "\n",
       "                       exterior_wheeltire__wheelsizefront  \\\n",
       "VIN               MFY                                       \n",
       "JS1CF111100103143 2006                                NaN   \n",
       "MLHRH01A6M5101976 2021                                NaN   \n",
       "ZAPC5330100004448 2015                                NaN   \n",
       "ZAPM0700000014573 1998                                NaN   \n",
       "L5YADCZB7H1156288 2017                                NaN   \n",
       "...                                                   ...   \n",
       "WDD2210221A077059 2006                                NaN   \n",
       "WBAUB71040VA91764 2009                                NaN   \n",
       "TSMEXB22S00361579 2011                                NaN   \n",
       "W0LGM8EP3C1070306 2012                                NaN   \n",
       "JTDKGNEC40N036359 2015                                NaN   \n",
       "\n",
       "                       exterior_wheeltire__wheelsizerear  \\\n",
       "VIN               MFY                                      \n",
       "JS1CF111100103143 2006                               NaN   \n",
       "MLHRH01A6M5101976 2021                               NaN   \n",
       "ZAPC5330100004448 2015                               NaN   \n",
       "ZAPM0700000014573 1998                               NaN   \n",
       "L5YADCZB7H1156288 2017                               NaN   \n",
       "...                                                  ...   \n",
       "WDD2210221A077059 2006                               NaN   \n",
       "WBAUB71040VA91764 2009                               NaN   \n",
       "TSMEXB22S00361579 2011                               NaN   \n",
       "W0LGM8EP3C1070306 2012                               NaN   \n",
       "JTDKGNEC40N036359 2015                               NaN   \n",
       "\n",
       "                       exterior_wheeltire__wheels exterior_body__windows  \\\n",
       "VIN               MFY                                                      \n",
       "JS1CF111100103143 2006                        NaN                    NaN   \n",
       "MLHRH01A6M5101976 2021                        NaN                    NaN   \n",
       "ZAPC5330100004448 2015                        NaN                    NaN   \n",
       "ZAPM0700000014573 1998                        NaN                    NaN   \n",
       "L5YADCZB7H1156288 2017                          2                    NaN   \n",
       "...                                           ...                    ...   \n",
       "WDD2210221A077059 2006                        NaN                    NaN   \n",
       "WBAUB71040VA91764 2009                        NaN                    NaN   \n",
       "TSMEXB22S00361579 2011                        NaN                    NaN   \n",
       "W0LGM8EP3C1070306 2012                        NaN                    NaN   \n",
       "JTDKGNEC40N036359 2015                        NaN                    NaN   \n",
       "\n",
       "                       TimeStamp  \n",
       "VIN               MFY             \n",
       "JS1CF111100103143 2006  20250301  \n",
       "MLHRH01A6M5101976 2021  20250301  \n",
       "ZAPC5330100004448 2015  20250301  \n",
       "ZAPM0700000014573 1998  20250301  \n",
       "L5YADCZB7H1156288 2017  20250301  \n",
       "...                          ...  \n",
       "WDD2210221A077059 2006  20250301  \n",
       "WBAUB71040VA91764 2009  20250301  \n",
       "TSMEXB22S00361579 2011  20250301  \n",
       "W0LGM8EP3C1070306 2012  20250301  \n",
       "JTDKGNEC40N036359 2015  20250301  \n",
       "\n",
       "[81 rows x 156 columns]"
      ]
     },
     "execution_count": 31,
     "metadata": {},
     "output_type": "execute_result"
    }
   ],
   "source": [
    "out"
   ]
  },
  {
   "cell_type": "code",
   "execution_count": 29,
   "metadata": {
    "tags": [
     "nbconvert_instruction:remove_all_outputs"
    ]
   },
   "outputs": [
    {
     "name": "stdout",
     "output_type": "stream",
     "text": [
      "/home/tom/bin/satdatsci/Saturday-Datascience/data/auctions/enriched-results/nhtsa-vpic/nhtsa-vpic-0-data-2024-12-24.pkl\n"
     ]
    }
   ],
   "source": [
    "# Save\n",
    "file_name = f'{DATA_DIR}/auctions/enriched-results/nhtsa-vpic/nhtsa-vpic-0-data-{auction_month}-{month_counter}.pkl'\n",
    "\n",
    "if NO_PRICE:\n",
    "    file_name = file_name.replace('.pkl', '-without-price.pkl')\n",
    "if OPBOD:\n",
    "    file_name = file_name.replace('.pkl', '-opbod.pkl')\n",
    "    \n",
    "if (SKIPSAVE==False) and (not(os.path.isfile(file_name))):\n",
    "    print(file_name)\n",
    "    out.to_pickle(file_name)\n",
    "else:\n",
    "    print(f'Skip. {file_name} exists or saving is disabled in settings.')"
   ]
  },
  {
   "cell_type": "markdown",
   "metadata": {
    "tags": []
   },
   "source": [
    "# Merge datasets\n",
    "Now we have a couple of dataset that can be merged.\n",
    "\n",
    "`rdw_per_reg` dictionary  \n",
    "`rdw_per_confcode` combined in another dictionary `full_codes`  \n",
    "`rdw_ovi` a single dataframe  \n",
    "`nhtsa_per_vin` has only one field and is combined in dataframe `df_vins`  \n",
    "\n",
    "\n",
    "1. Merge dataframes from `rdw_per_reg` with primary key `kenteken`\n",
    "2. \n",
    "    1) Add conformity codes from `rdw_per_confcode`\n",
    "    2) Add basic conformity info from `rdw_per_confcode.eeg_voertuigtypegoedkeuring`\n",
    "3. Merge all conformity code information from other apis `full_codes`\n",
    "4. Merge with OVI\n",
    "5. Merge with vpic (nhtsa)\n",
    "6. Merge with auction results\n"
   ]
  },
  {
   "cell_type": "code",
   "execution_count": 30,
   "metadata": {
    "editable": true,
    "slideshow": {
     "slide_type": ""
    },
    "tags": [
     "nbconvert_instruction:remove_all_outputs"
    ]
   },
   "outputs": [
    {
     "name": "stdout",
     "output_type": "stream",
     "text": [
      "566 columns 66 kenteken \n",
      "575 columns 66 kenteken\n"
     ]
    }
   ],
   "source": [
    "# Merge first set\n",
    "rich = pd.concat(rdw_per_reg, axis=1)\n",
    "rich = pd.concat([rich], keys=['rdw'], axis=1)\n",
    "rich.index.name='kenteken'\n",
    "print(f'{rich.shape[1]} columns {rich.shape[0]} {rich.index.name} ')\n",
    "\n",
    "# Add conformity_codes\n",
    "codes = rdw_per_confcode['conformity_codes'].reset_index().set_index('kenteken')\n",
    "codes = pd.concat([codes], keys=['conformity_codes'], axis=1)\n",
    "codes = pd.concat([codes], keys=['rdw'], axis=1)\n",
    "rich = rich.merge(\n",
    "    codes, # add level\n",
    "    how='outer',\n",
    "    left_index = True,\n",
    "    right_index = True,\n",
    ")\n",
    "print(f'{rich.shape[1]} columns {rich.shape[0]} {rich.index.name}')"
   ]
  },
  {
   "cell_type": "code",
   "execution_count": 31,
   "metadata": {
    "editable": true,
    "slideshow": {
     "slide_type": ""
    },
    "tags": [
     "nbconvert_instruction:remove_all_outputs"
    ]
   },
   "outputs": [
    {
     "ename": "KeyError",
     "evalue": "('rdw', 'intrekking_typegoedkeuring', 'typegoedkeuringsnummer')",
     "output_type": "error",
     "traceback": [
      "\u001b[0;31m---------------------------------------------------------------------------\u001b[0m",
      "\u001b[0;31mKeyError\u001b[0m                                  Traceback (most recent call last)",
      "\u001b[0;32m/tmp/ipykernel_529091/1026744231.py\u001b[0m in \u001b[0;36m?\u001b[0;34m()\u001b[0m\n\u001b[1;32m      2\u001b[0m \u001b[0mcodes\u001b[0m \u001b[0;34m=\u001b[0m \u001b[0mrdw_per_confcode\u001b[0m\u001b[0;34m[\u001b[0m\u001b[0;34m'intrekking_typegoedkeuring'\u001b[0m\u001b[0;34m]\u001b[0m\u001b[0;34m.\u001b[0m\u001b[0mreset_index\u001b[0m\u001b[0;34m(\u001b[0m\u001b[0;34m)\u001b[0m\u001b[0;34m\u001b[0m\u001b[0;34m\u001b[0m\u001b[0m\n\u001b[1;32m      3\u001b[0m \u001b[0;31m# add levels to dataframe\u001b[0m\u001b[0;34m\u001b[0m\u001b[0;34m\u001b[0m\u001b[0m\n\u001b[1;32m      4\u001b[0m \u001b[0mcodes\u001b[0m \u001b[0;34m=\u001b[0m \u001b[0mpd\u001b[0m\u001b[0;34m.\u001b[0m\u001b[0mconcat\u001b[0m\u001b[0;34m(\u001b[0m\u001b[0;34m[\u001b[0m\u001b[0mcodes\u001b[0m\u001b[0;34m]\u001b[0m\u001b[0;34m,\u001b[0m \u001b[0mkeys\u001b[0m\u001b[0;34m=\u001b[0m\u001b[0;34m[\u001b[0m\u001b[0;34m'intrekking_typegoedkeuring'\u001b[0m\u001b[0;34m]\u001b[0m\u001b[0;34m,\u001b[0m \u001b[0maxis\u001b[0m\u001b[0;34m=\u001b[0m\u001b[0;36m1\u001b[0m\u001b[0;34m)\u001b[0m\u001b[0;34m\u001b[0m\u001b[0;34m\u001b[0m\u001b[0m\n\u001b[1;32m      5\u001b[0m \u001b[0mcodes\u001b[0m \u001b[0;34m=\u001b[0m \u001b[0mpd\u001b[0m\u001b[0;34m.\u001b[0m\u001b[0mconcat\u001b[0m\u001b[0;34m(\u001b[0m\u001b[0;34m[\u001b[0m\u001b[0mcodes\u001b[0m\u001b[0;34m]\u001b[0m\u001b[0;34m,\u001b[0m \u001b[0mkeys\u001b[0m\u001b[0;34m=\u001b[0m\u001b[0;34m[\u001b[0m\u001b[0;34m'rdw'\u001b[0m\u001b[0;34m]\u001b[0m\u001b[0;34m,\u001b[0m \u001b[0maxis\u001b[0m\u001b[0;34m=\u001b[0m\u001b[0;36m1\u001b[0m\u001b[0;34m)\u001b[0m\u001b[0;34m\u001b[0m\u001b[0;34m\u001b[0m\u001b[0m\n\u001b[0;32m----> 6\u001b[0;31m rich = rich.reset_index().merge(\n\u001b[0m\u001b[1;32m      7\u001b[0m     \u001b[0mcodes\u001b[0m\u001b[0;34m,\u001b[0m\u001b[0;34m\u001b[0m\u001b[0;34m\u001b[0m\u001b[0m\n\u001b[1;32m      8\u001b[0m     \u001b[0mhow\u001b[0m\u001b[0;34m=\u001b[0m\u001b[0;34m'outer'\u001b[0m\u001b[0;34m,\u001b[0m\u001b[0;34m\u001b[0m\u001b[0;34m\u001b[0m\u001b[0m\n\u001b[1;32m      9\u001b[0m     \u001b[0mleft_on\u001b[0m \u001b[0;34m=\u001b[0m \u001b[0;34m[\u001b[0m\u001b[0;34m(\u001b[0m\u001b[0;34m'rdw'\u001b[0m\u001b[0;34m,\u001b[0m \u001b[0;34m'conformity_codes'\u001b[0m\u001b[0;34m,\u001b[0m \u001b[0;34m'typegoedkeuringsnummer'\u001b[0m\u001b[0;34m)\u001b[0m\u001b[0;34m]\u001b[0m\u001b[0;34m,\u001b[0m\u001b[0;34m\u001b[0m\u001b[0;34m\u001b[0m\u001b[0m\n",
      "\u001b[0;32m~/bin/py310-satdatsci/lib/python3.10/site-packages/pandas/core/frame.py\u001b[0m in \u001b[0;36m?\u001b[0;34m(self, right, how, on, left_on, right_on, left_index, right_index, sort, suffixes, copy, indicator, validate)\u001b[0m\n\u001b[1;32m  10828\u001b[0m         \u001b[0mvalidate\u001b[0m\u001b[0;34m:\u001b[0m \u001b[0mMergeValidate\u001b[0m \u001b[0;34m|\u001b[0m \u001b[0;32mNone\u001b[0m \u001b[0;34m=\u001b[0m \u001b[0;32mNone\u001b[0m\u001b[0;34m,\u001b[0m\u001b[0;34m\u001b[0m\u001b[0;34m\u001b[0m\u001b[0m\n\u001b[1;32m  10829\u001b[0m     ) -> DataFrame:\n\u001b[1;32m  10830\u001b[0m         \u001b[0;32mfrom\u001b[0m \u001b[0mpandas\u001b[0m\u001b[0;34m.\u001b[0m\u001b[0mcore\u001b[0m\u001b[0;34m.\u001b[0m\u001b[0mreshape\u001b[0m\u001b[0;34m.\u001b[0m\u001b[0mmerge\u001b[0m \u001b[0;32mimport\u001b[0m \u001b[0mmerge\u001b[0m\u001b[0;34m\u001b[0m\u001b[0;34m\u001b[0m\u001b[0m\n\u001b[1;32m  10831\u001b[0m \u001b[0;34m\u001b[0m\u001b[0m\n\u001b[0;32m> 10832\u001b[0;31m         return merge(\n\u001b[0m\u001b[1;32m  10833\u001b[0m             \u001b[0mself\u001b[0m\u001b[0;34m,\u001b[0m\u001b[0;34m\u001b[0m\u001b[0;34m\u001b[0m\u001b[0m\n\u001b[1;32m  10834\u001b[0m             \u001b[0mright\u001b[0m\u001b[0;34m,\u001b[0m\u001b[0;34m\u001b[0m\u001b[0;34m\u001b[0m\u001b[0m\n\u001b[1;32m  10835\u001b[0m             \u001b[0mhow\u001b[0m\u001b[0;34m=\u001b[0m\u001b[0mhow\u001b[0m\u001b[0;34m,\u001b[0m\u001b[0;34m\u001b[0m\u001b[0;34m\u001b[0m\u001b[0m\n",
      "\u001b[0;32m~/bin/py310-satdatsci/lib/python3.10/site-packages/pandas/core/reshape/merge.py\u001b[0m in \u001b[0;36m?\u001b[0;34m(left, right, how, on, left_on, right_on, left_index, right_index, sort, suffixes, copy, indicator, validate)\u001b[0m\n\u001b[1;32m    166\u001b[0m             \u001b[0mvalidate\u001b[0m\u001b[0;34m=\u001b[0m\u001b[0mvalidate\u001b[0m\u001b[0;34m,\u001b[0m\u001b[0;34m\u001b[0m\u001b[0;34m\u001b[0m\u001b[0m\n\u001b[1;32m    167\u001b[0m             \u001b[0mcopy\u001b[0m\u001b[0;34m=\u001b[0m\u001b[0mcopy\u001b[0m\u001b[0;34m,\u001b[0m\u001b[0;34m\u001b[0m\u001b[0;34m\u001b[0m\u001b[0m\n\u001b[1;32m    168\u001b[0m         )\n\u001b[1;32m    169\u001b[0m     \u001b[0;32melse\u001b[0m\u001b[0;34m:\u001b[0m\u001b[0;34m\u001b[0m\u001b[0;34m\u001b[0m\u001b[0m\n\u001b[0;32m--> 170\u001b[0;31m         op = _MergeOperation(\n\u001b[0m\u001b[1;32m    171\u001b[0m             \u001b[0mleft_df\u001b[0m\u001b[0;34m,\u001b[0m\u001b[0;34m\u001b[0m\u001b[0;34m\u001b[0m\u001b[0m\n\u001b[1;32m    172\u001b[0m             \u001b[0mright_df\u001b[0m\u001b[0;34m,\u001b[0m\u001b[0;34m\u001b[0m\u001b[0;34m\u001b[0m\u001b[0m\n\u001b[1;32m    173\u001b[0m             \u001b[0mhow\u001b[0m\u001b[0;34m=\u001b[0m\u001b[0mhow\u001b[0m\u001b[0;34m,\u001b[0m\u001b[0;34m\u001b[0m\u001b[0;34m\u001b[0m\u001b[0m\n",
      "\u001b[0;32m~/bin/py310-satdatsci/lib/python3.10/site-packages/pandas/core/reshape/merge.py\u001b[0m in \u001b[0;36m?\u001b[0;34m(self, left, right, how, on, left_on, right_on, left_index, right_index, sort, suffixes, indicator, validate)\u001b[0m\n\u001b[1;32m    790\u001b[0m             \u001b[0mself\u001b[0m\u001b[0;34m.\u001b[0m\u001b[0mright_join_keys\u001b[0m\u001b[0;34m,\u001b[0m\u001b[0;34m\u001b[0m\u001b[0;34m\u001b[0m\u001b[0m\n\u001b[1;32m    791\u001b[0m             \u001b[0mself\u001b[0m\u001b[0;34m.\u001b[0m\u001b[0mjoin_names\u001b[0m\u001b[0;34m,\u001b[0m\u001b[0;34m\u001b[0m\u001b[0;34m\u001b[0m\u001b[0m\n\u001b[1;32m    792\u001b[0m             \u001b[0mleft_drop\u001b[0m\u001b[0;34m,\u001b[0m\u001b[0;34m\u001b[0m\u001b[0;34m\u001b[0m\u001b[0m\n\u001b[1;32m    793\u001b[0m             \u001b[0mright_drop\u001b[0m\u001b[0;34m,\u001b[0m\u001b[0;34m\u001b[0m\u001b[0;34m\u001b[0m\u001b[0m\n\u001b[0;32m--> 794\u001b[0;31m         ) = self._get_merge_keys()\n\u001b[0m\u001b[1;32m    795\u001b[0m \u001b[0;34m\u001b[0m\u001b[0m\n\u001b[1;32m    796\u001b[0m         \u001b[0;32mif\u001b[0m \u001b[0mleft_drop\u001b[0m\u001b[0;34m:\u001b[0m\u001b[0;34m\u001b[0m\u001b[0;34m\u001b[0m\u001b[0m\n\u001b[1;32m    797\u001b[0m             \u001b[0mself\u001b[0m\u001b[0;34m.\u001b[0m\u001b[0mleft\u001b[0m \u001b[0;34m=\u001b[0m \u001b[0mself\u001b[0m\u001b[0;34m.\u001b[0m\u001b[0mleft\u001b[0m\u001b[0;34m.\u001b[0m\u001b[0m_drop_labels_or_levels\u001b[0m\u001b[0;34m(\u001b[0m\u001b[0mleft_drop\u001b[0m\u001b[0;34m)\u001b[0m\u001b[0;34m\u001b[0m\u001b[0;34m\u001b[0m\u001b[0m\n",
      "\u001b[0;32m~/bin/py310-satdatsci/lib/python3.10/site-packages/pandas/core/reshape/merge.py\u001b[0m in \u001b[0;36m?\u001b[0;34m(self)\u001b[0m\n\u001b[1;32m   1293\u001b[0m                         \u001b[0;31m# Then we're either Hashable or a wrong-length arraylike,\u001b[0m\u001b[0;34m\u001b[0m\u001b[0;34m\u001b[0m\u001b[0m\n\u001b[1;32m   1294\u001b[0m                         \u001b[0;31m#  the latter of which will raise\u001b[0m\u001b[0;34m\u001b[0m\u001b[0;34m\u001b[0m\u001b[0m\n\u001b[1;32m   1295\u001b[0m                         \u001b[0mrk\u001b[0m \u001b[0;34m=\u001b[0m \u001b[0mcast\u001b[0m\u001b[0;34m(\u001b[0m\u001b[0mHashable\u001b[0m\u001b[0;34m,\u001b[0m \u001b[0mrk\u001b[0m\u001b[0;34m)\u001b[0m\u001b[0;34m\u001b[0m\u001b[0;34m\u001b[0m\u001b[0m\n\u001b[1;32m   1296\u001b[0m                         \u001b[0;32mif\u001b[0m \u001b[0mrk\u001b[0m \u001b[0;32mis\u001b[0m \u001b[0;32mnot\u001b[0m \u001b[0;32mNone\u001b[0m\u001b[0;34m:\u001b[0m\u001b[0;34m\u001b[0m\u001b[0;34m\u001b[0m\u001b[0m\n\u001b[0;32m-> 1297\u001b[0;31m                             \u001b[0mright_keys\u001b[0m\u001b[0;34m.\u001b[0m\u001b[0mappend\u001b[0m\u001b[0;34m(\u001b[0m\u001b[0mright\u001b[0m\u001b[0;34m.\u001b[0m\u001b[0m_get_label_or_level_values\u001b[0m\u001b[0;34m(\u001b[0m\u001b[0mrk\u001b[0m\u001b[0;34m)\u001b[0m\u001b[0;34m)\u001b[0m\u001b[0;34m\u001b[0m\u001b[0;34m\u001b[0m\u001b[0m\n\u001b[0m\u001b[1;32m   1298\u001b[0m                         \u001b[0;32melse\u001b[0m\u001b[0;34m:\u001b[0m\u001b[0;34m\u001b[0m\u001b[0;34m\u001b[0m\u001b[0m\n\u001b[1;32m   1299\u001b[0m                             \u001b[0;31m# work-around for merge_asof(right_index=True)\u001b[0m\u001b[0;34m\u001b[0m\u001b[0;34m\u001b[0m\u001b[0m\n\u001b[1;32m   1300\u001b[0m                             \u001b[0mright_keys\u001b[0m\u001b[0;34m.\u001b[0m\u001b[0mappend\u001b[0m\u001b[0;34m(\u001b[0m\u001b[0mright\u001b[0m\u001b[0;34m.\u001b[0m\u001b[0mindex\u001b[0m\u001b[0;34m.\u001b[0m\u001b[0m_values\u001b[0m\u001b[0;34m)\u001b[0m\u001b[0;34m\u001b[0m\u001b[0;34m\u001b[0m\u001b[0m\n",
      "\u001b[0;32m~/bin/py310-satdatsci/lib/python3.10/site-packages/pandas/core/generic.py\u001b[0m in \u001b[0;36m?\u001b[0;34m(self, key, axis)\u001b[0m\n\u001b[1;32m   1907\u001b[0m             \u001b[0mvalues\u001b[0m \u001b[0;34m=\u001b[0m \u001b[0mself\u001b[0m\u001b[0;34m.\u001b[0m\u001b[0mxs\u001b[0m\u001b[0;34m(\u001b[0m\u001b[0mkey\u001b[0m\u001b[0;34m,\u001b[0m \u001b[0maxis\u001b[0m\u001b[0;34m=\u001b[0m\u001b[0mother_axes\u001b[0m\u001b[0;34m[\u001b[0m\u001b[0;36m0\u001b[0m\u001b[0;34m]\u001b[0m\u001b[0;34m)\u001b[0m\u001b[0;34m.\u001b[0m\u001b[0m_values\u001b[0m\u001b[0;34m\u001b[0m\u001b[0;34m\u001b[0m\u001b[0m\n\u001b[1;32m   1908\u001b[0m         \u001b[0;32melif\u001b[0m \u001b[0mself\u001b[0m\u001b[0;34m.\u001b[0m\u001b[0m_is_level_reference\u001b[0m\u001b[0;34m(\u001b[0m\u001b[0mkey\u001b[0m\u001b[0;34m,\u001b[0m \u001b[0maxis\u001b[0m\u001b[0;34m=\u001b[0m\u001b[0maxis\u001b[0m\u001b[0;34m)\u001b[0m\u001b[0;34m:\u001b[0m\u001b[0;34m\u001b[0m\u001b[0;34m\u001b[0m\u001b[0m\n\u001b[1;32m   1909\u001b[0m             \u001b[0mvalues\u001b[0m \u001b[0;34m=\u001b[0m \u001b[0mself\u001b[0m\u001b[0;34m.\u001b[0m\u001b[0maxes\u001b[0m\u001b[0;34m[\u001b[0m\u001b[0maxis\u001b[0m\u001b[0;34m]\u001b[0m\u001b[0;34m.\u001b[0m\u001b[0mget_level_values\u001b[0m\u001b[0;34m(\u001b[0m\u001b[0mkey\u001b[0m\u001b[0;34m)\u001b[0m\u001b[0;34m.\u001b[0m\u001b[0m_values\u001b[0m\u001b[0;34m\u001b[0m\u001b[0;34m\u001b[0m\u001b[0m\n\u001b[1;32m   1910\u001b[0m         \u001b[0;32melse\u001b[0m\u001b[0;34m:\u001b[0m\u001b[0;34m\u001b[0m\u001b[0;34m\u001b[0m\u001b[0m\n\u001b[0;32m-> 1911\u001b[0;31m             \u001b[0;32mraise\u001b[0m \u001b[0mKeyError\u001b[0m\u001b[0;34m(\u001b[0m\u001b[0mkey\u001b[0m\u001b[0;34m)\u001b[0m\u001b[0;34m\u001b[0m\u001b[0;34m\u001b[0m\u001b[0m\n\u001b[0m\u001b[1;32m   1912\u001b[0m \u001b[0;34m\u001b[0m\u001b[0m\n\u001b[1;32m   1913\u001b[0m         \u001b[0;31m# Check for duplicates\u001b[0m\u001b[0;34m\u001b[0m\u001b[0;34m\u001b[0m\u001b[0m\n\u001b[1;32m   1914\u001b[0m         \u001b[0;32mif\u001b[0m \u001b[0mvalues\u001b[0m\u001b[0;34m.\u001b[0m\u001b[0mndim\u001b[0m \u001b[0;34m>\u001b[0m \u001b[0;36m1\u001b[0m\u001b[0;34m:\u001b[0m\u001b[0;34m\u001b[0m\u001b[0;34m\u001b[0m\u001b[0m\n",
      "\u001b[0;31mKeyError\u001b[0m: ('rdw', 'intrekking_typegoedkeuring', 'typegoedkeuringsnummer')"
     ]
    }
   ],
   "source": [
    "# Add data with one level EU keys\n",
    "codes = rdw_per_confcode['intrekking_typegoedkeuring'].reset_index()\n",
    "# add levels to dataframe\n",
    "codes = pd.concat([codes], keys=['intrekking_typegoedkeuring'], axis=1)\n",
    "codes = pd.concat([codes], keys=['rdw'], axis=1)\n",
    "rich = rich.reset_index().merge(\n",
    "    codes, \n",
    "    how='outer',\n",
    "    left_on = [('rdw', 'conformity_codes', 'typegoedkeuringsnummer')],\n",
    "    right_on = [('rdw', 'intrekking_typegoedkeuring', 'typegoedkeuringsnummer')],\n",
    ").set_index('kenteken')\n",
    "print(f'{rich.shape[1]} columns {rich.shape[0]} {rich.index.name}')"
   ]
  },
  {
   "cell_type": "code",
   "execution_count": null,
   "metadata": {
    "editable": true,
    "slideshow": {
     "slide_type": ""
    },
    "tags": [
     "nbconvert_instruction:remove_all_outputs"
    ]
   },
   "outputs": [],
   "source": [
    "# Add full_codes\n",
    "codes = pd.concat(full_codes, axis=1)#.drop(columns='conformity_codes')\n",
    "codes = pd.concat([codes], keys=['rdw'], axis=1)\n",
    "# rename index names to match existing\n",
    "existing_idx_names = [{\n",
    "    'typegoedkeuringsnummer': 'typegoedkeuringsnummer',\n",
    "    'codevarianttgk': 'eeg_variantcode',\n",
    "    'codeuitvoeringtgk': 'eeg_uitvoeringscode',\n",
    "    'volgnummerrevisieuitvoering': 'uitvoering_wijzigingsnummer'}[c] for c in codes.index.names]\n",
    "codes.index.names = existing_idx_names\n",
    "rich = rich.merge(\n",
    "    codes,\n",
    "    how='outer',\n",
    "    left_on = [('rdw', 'conformity_codes', c) for c in codes.index.names],\n",
    "    right_index=True\n",
    ")\n",
    "print(f'{rich.shape[1]} columns {rich.shape[0]} {rich.index.name}')"
   ]
  },
  {
   "cell_type": "code",
   "execution_count": null,
   "metadata": {
    "editable": true,
    "slideshow": {
     "slide_type": ""
    },
    "tags": [
     "nbconvert_instruction:remove_all_outputs"
    ]
   },
   "outputs": [],
   "source": [
    "# Add ovi\n",
    "codes = pd.concat([rdw_ovi], keys=['ovi'], axis=1)\n",
    "codes = pd.concat([codes], keys=['rdw'], axis=1)\n",
    "rich = rich.merge(\n",
    "    codes,\n",
    "    how='outer',\n",
    "    left_index = True,\n",
    "    right_index = True,\n",
    ")\n",
    "print(f'{rich.shape[1]} columns {rich.shape[0]} {rich.index.name}')"
   ]
  },
  {
   "cell_type": "code",
   "execution_count": null,
   "metadata": {
    "editable": true,
    "slideshow": {
     "slide_type": ""
    },
    "tags": [
     "nbconvert_instruction:remove_all_outputs"
    ]
   },
   "outputs": [],
   "source": [
    "# Add vpic\n",
    "codes = pd.concat(nhtsa_per_vin, axis=1)\n",
    "codes = pd.concat([codes], keys=['nhtsa'], axis=1)\n",
    "rich = rich.reset_index().merge(\n",
    "    codes,\n",
    "    how='outer',\n",
    "    left_on = [('rdw', 'registrations', 'lot_index')],\n",
    "    right_index = True,\n",
    ").set_index(('rdw', 'registrations', 'lot_index')) # set to 3d index\n",
    "rich.index.name = 'lot_index' # make 1d index again\n",
    "print(f'{rich.shape[1]} columns {rich.shape[0]} {rich.index.name}')"
   ]
  },
  {
   "cell_type": "code",
   "execution_count": null,
   "metadata": {
    "editable": true,
    "slideshow": {
     "slide_type": ""
    },
    "tags": [
     "nbconvert_instruction:remove_all_outputs"
    ]
   },
   "outputs": [],
   "source": [
    "rich.columns.map(lambda x: '_'.join(x))\n",
    "rich"
   ]
  },
  {
   "cell_type": "code",
   "execution_count": null,
   "metadata": {
    "editable": true,
    "slideshow": {
     "slide_type": ""
    },
    "tags": [
     "nbconvert_instruction:remove_all_outputs"
    ]
   },
   "outputs": [],
   "source": [
    "# Three level column index\n",
    "existing = pd.concat([drz], keys=[''], axis=1)\n",
    "existing = pd.concat([existing], keys=['drz'], axis=1)\n",
    "print(f'{existing.shape[1]} columns {existing.shape[0]} {existing.index.name}')\n",
    "# Add rich to existing to make enriched\n",
    "enriched = pd.merge(\n",
    "    left = existing,\n",
    "    right = rich,\n",
    "    how = 'left',\n",
    "    left_index = True,\n",
    "    right_index = True\n",
    ")\n",
    "print(f'{enriched.shape[1]} columns {enriched.shape[0]} {enriched.index.name}')"
   ]
  },
  {
   "cell_type": "markdown",
   "metadata": {},
   "source": [
    "<a href=\"#rdw_top\" id='rdw_save'><font size=+1><center>^^ TOP ^^</center></font></a>\n",
    "\n",
    "---"
   ]
  },
  {
   "cell_type": "markdown",
   "metadata": {
    "editable": true,
    "slideshow": {
     "slide_type": ""
    },
    "tags": []
   },
   "source": [
    "# Saving"
   ]
  },
  {
   "cell_type": "code",
   "execution_count": null,
   "metadata": {
    "editable": true,
    "slideshow": {
     "slide_type": ""
    },
    "tags": [
     "nbconvert_instruction:remove_all_outputs"
    ]
   },
   "outputs": [],
   "source": [
    "file_name = f'{DATA_DIR}/auctions/enriched-results/rdw-data-{auction_month}-{month_counter}.pkl'\n",
    "if NO_PRICE:\n",
    "    file_name = file_name.replace('.pkl', '-without-price.pkl')\n",
    "if OPBOD:\n",
    "    file_name = file_name.replace('.pkl', '-opbod.pkl')\n",
    "    \n",
    "if (SKIPSAVE==False) and (not(os.path.isfile(file_name))):\n",
    "    print(file_name)\n",
    "    enriched.to_pickle(file_name)\n",
    "else:\n",
    "    print(f'Skip. {file_name} exists or saving is disabled in settings.')"
   ]
  },
  {
   "cell_type": "markdown",
   "metadata": {
    "editable": true,
    "slideshow": {
     "slide_type": ""
    },
    "tags": []
   },
   "source": [
    "# Next: download images (or parallel)\n",
    "\n",
    "Because images might be taken down from the drz site, it is advisable to run the notebook that downloads images soon."
   ]
  }
 ],
 "metadata": {
  "jupytext": {
   "formats": "ipynb,py:percent"
  },
  "kernelspec": {
   "display_name": "Python 3 (ipykernel)",
   "language": "python",
   "name": "python3"
  },
  "language_info": {
   "codemirror_mode": {
    "name": "ipython",
    "version": 3
   },
   "file_extension": ".py",
   "mimetype": "text/x-python",
   "name": "python",
   "nbconvert_exporter": "python",
   "pygments_lexer": "ipython3",
   "version": "3.10.12"
  },
  "toc-autonumbering": false,
  "toc-showcode": true,
  "toc-showmarkdowntxt": true
 },
 "nbformat": 4,
 "nbformat_minor": 4
}
