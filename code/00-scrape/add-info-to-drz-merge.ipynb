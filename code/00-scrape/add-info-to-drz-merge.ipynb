{
 "cells": [
  {
   "cell_type": "markdown",
   "metadata": {
    "editable": true,
    "slideshow": {
     "slide_type": ""
    },
    "tags": []
   },
   "source": [
    "# Merge additional data\n",
    "\n",
    "Now we have a couple of dataset that can be merged.\n",
    "\n",
    "`rdw_per_reg` dictionary  \n",
    "`rdw_per_confcode` combined in another dictionary `full_codes`  \n",
    "`rdw_ovi` a single dataframe  \n",
    "`nhtsa_per_vin` has only one field and is combined in dataframe `df_vins`  \n",
    "\n",
    "\n",
    "1. Merge dataframes from `rdw_per_reg` with primary key `kenteken`\n",
    "2. \n",
    "    1) Add conformity codes from `rdw_per_confcode`\n",
    "    2) Add basic conformity info from `rdw_per_confcode.eeg_voertuigtypegoedkeuring`\n",
    "3. Merge all conformity code information from other apis `full_codes`\n",
    "4. Merge with OVI\n",
    "5. Merge with vpic (nhtsa)\n",
    "6. Merge with auction results\n"
   ]
  },
  {
   "cell_type": "markdown",
   "metadata": {
    "slideshow": {
     "slide_type": ""
    },
    "tags": []
   },
   "source": [
    "### User variables\n"
   ]
  },
  {
   "cell_type": "code",
   "execution_count": 1,
   "metadata": {
    "slideshow": {
     "slide_type": ""
    },
    "tags": []
   },
   "outputs": [],
   "source": [
    "import sys\n",
    "import re\n",
    "import json\n",
    "from IPython.display import display"
   ]
  },
  {
   "cell_type": "code",
   "execution_count": 2,
   "metadata": {
    "editable": true,
    "slideshow": {
     "slide_type": ""
    },
    "tags": []
   },
   "outputs": [],
   "source": [
    "with open('../assets/drz-settings-current.json', 'r') as fid:\n",
    "    cfg = json.load(fid)\n",
    "\n",
    "OPBOD = cfg['AUCTION']['kind'] == 'opbod'\n",
    "AUCTION_ID = cfg['AUCTION']['id']\n",
    "DATE = cfg['AUCTION']['date']\n",
    "DATA_DIR = cfg['FILE_LOCATION']['data_dir']\n",
    "auction_month = DATE[:4] + '-' + DATE[4:6]\n",
    "if cfg['AUCTION']['kind'] == 'inschrijving':\n",
    "    month_counter = re.sub('(-)(\\d{2})', '\\g<1>', AUCTION_ID)[5:8]\n",
    "elif cfg['AUCTION']['kind'] == 'opbod':\n",
    "    month_counter = re.sub('(-)(\\d{2})(\\d{2})', '-\\g<2>', AUCTION_ID)[5:8]\n",
    "\n",
    "sys.path.insert(0, cfg['FILE_LOCATION']['code_dir'])\n",
    "\n",
    "QUICK_MERGE = False\n",
    "SKIPSAVE = False\n",
    "OVIDATA = True\n",
    "VERBOSE = 1"
   ]
  },
  {
   "cell_type": "markdown",
   "metadata": {
    "editable": true,
    "slideshow": {
     "slide_type": ""
    },
    "tags": []
   },
   "source": [
    "### Modules and functions"
   ]
  },
  {
   "cell_type": "code",
   "execution_count": 3,
   "metadata": {},
   "outputs": [
    {
     "name": "stdout",
     "output_type": "stream",
     "text": [
      "enjoy rdw_info\n"
     ]
    }
   ],
   "source": [
    "import pandas as pd\n",
    "import numpy as np\n",
    "import re \n",
    "import os\n",
    "# to keep api key hidden import this from sub dir\n",
    "import assets.hidden_api_keys as hidden_api_keys\n",
    "from rdw_info import *"
   ]
  },
  {
   "cell_type": "code",
   "execution_count": 4,
   "metadata": {},
   "outputs": [
    {
     "name": "stdout",
     "output_type": "stream",
     "text": [
      "/home/tom/bin/satdatsci/Saturday-Datascience/data/auctions/enriched-results/rdw-reg/rdw-reg-full-0-data-2025-03-05.pkl\n"
     ]
    }
   ],
   "source": [
    "# Load registrations\n",
    "suffix = '' if not OPBOD else '-opbod';\n",
    "file_name = f'{DATA_DIR}/auctions/enriched-results/rdw-reg/rdw-reg-full-0-data-{auction_month}-{month_counter}{suffix}.pkl'\n",
    "rdw_per_reg = pd.read_pickle(file_name)\n",
    "rdw_per_reg.index.name = 'kenteken';\n",
    "print(file_name)"
   ]
  },
  {
   "cell_type": "code",
   "execution_count": 5,
   "metadata": {},
   "outputs": [
    {
     "name": "stdout",
     "output_type": "stream",
     "text": [
      "/home/tom/bin/satdatsci/Saturday-Datascience/data/auctions/enriched-results/rdw-reg/rdw-reg-conf-0-data-2025-03-05.pkl\n"
     ]
    }
   ],
   "source": [
    "# Load registrations with conformity codes\n",
    "suffix = '' if not OPBOD else '-opbod';\n",
    "file_name = f'{DATA_DIR}/auctions/enriched-results/rdw-reg/rdw-reg-conf-0-data-{auction_month}-{month_counter}{suffix}.pkl'\n",
    "rdw_per_reg_conf = pd.read_pickle(file_name)\n",
    "rdw_per_reg_conf.index.name = 'kenteken';\n",
    "print(file_name)"
   ]
  },
  {
   "cell_type": "code",
   "execution_count": 6,
   "metadata": {},
   "outputs": [
    {
     "name": "stdout",
     "output_type": "stream",
     "text": [
      "/home/tom/bin/satdatsci/Saturday-Datascience/data/auctions/enriched-results/rdw-conf/rdw-conf-0-data-2025-03-05.pkl\n"
     ]
    }
   ],
   "source": [
    "# Load conformity codes\n",
    "suffix = '' if not OPBOD else '-opbod';\n",
    "file_name = f'{DATA_DIR}/auctions/enriched-results/rdw-conf/rdw-conf-0-data-{auction_month}-{month_counter}{suffix}.pkl'\n",
    "rdw_per_confcode = pd.read_pickle(file_name)\n",
    "print(file_name)"
   ]
  },
  {
   "cell_type": "code",
   "execution_count": 7,
   "metadata": {},
   "outputs": [
    {
     "name": "stdout",
     "output_type": "stream",
     "text": [
      "/home/tom/bin/satdatsci/Saturday-Datascience/data/auctions/enriched-results/rdw-conf/rdw-conf-revoke-0-data-2025-03-05.pkl\n"
     ]
    }
   ],
   "source": [
    "# Load revoke dates of conformity codes\n",
    "suffix = '' if not OPBOD else '-opbod';\n",
    "file_name = f'{DATA_DIR}/auctions/enriched-results/rdw-conf/rdw-conf-revoke-0-data-{auction_month}-{month_counter}{suffix}.pkl'\n",
    "rdw_per_confcode_revoke = pd.read_pickle(file_name)\n",
    "print(file_name)"
   ]
  },
  {
   "cell_type": "code",
   "execution_count": 8,
   "metadata": {},
   "outputs": [
    {
     "name": "stdout",
     "output_type": "stream",
     "text": [
      "/home/tom/bin/satdatsci/Saturday-Datascience/data/auctions/enriched-results/rdw-ovi/rdw-ovi-0-data-2025-03-05.pkl\n"
     ]
    }
   ],
   "source": [
    "# Load ovi\n",
    "suffix = '' if not OPBOD else '-opbod';\n",
    "file_name = f'{DATA_DIR}/auctions/enriched-results/rdw-ovi/rdw-ovi-0-data-{auction_month}-{month_counter}{suffix}.pkl'\n",
    "rdw_ovi = pd.read_pickle(file_name)\n",
    "print(file_name)"
   ]
  },
  {
   "cell_type": "code",
   "execution_count": 9,
   "metadata": {},
   "outputs": [
    {
     "name": "stdout",
     "output_type": "stream",
     "text": [
      "/home/tom/bin/satdatsci/Saturday-Datascience/data/auctions/enriched-results/nhtsa-vpic/nhtsa-vpic-0-data-2025-03-05.pkl\n"
     ]
    }
   ],
   "source": [
    "# Load nhtsa\n",
    "suffix = '' if not OPBOD else '-opbod';\n",
    "file_name = f'{DATA_DIR}/auctions/enriched-results/nhtsa-vpic/nhtsa-vpic-0-data-{auction_month}-{month_counter}{suffix}.pkl'\n",
    "nhtsa_per_vin = pd.read_pickle(file_name)\n",
    "print(file_name)"
   ]
  },
  {
   "cell_type": "code",
   "execution_count": null,
   "metadata": {
    "editable": true,
    "slideshow": {
     "slide_type": ""
    },
    "tags": [
     "nbconvert_instruction:remove_all_outputs"
    ]
   },
   "outputs": [],
   "source": [
    "# load drz auction results\n",
    "suffix = '' if not OPBOD else '-opbod';\n",
    "file_name = f'{DATA_DIR}/auctions/results/drz-data-{auction_month}-{month_counter}{suffix}.pkl'\n",
    "drz = pd.read_pickle(file_name)\n",
    "print(file_name)"
   ]
  },
  {
   "cell_type": "markdown",
   "metadata": {
    "tags": []
   },
   "source": [
    "# Merge datasets"
   ]
  },
  {
   "cell_type": "code",
   "execution_count": null,
   "metadata": {
    "editable": true,
    "slideshow": {
     "slide_type": ""
    },
    "tags": [
     "nbconvert_instruction:remove_all_outputs"
    ]
   },
   "outputs": [],
   "source": [
    "# Merge first set\n",
    "# rich = pd.concat(rdw_per_reg, axis=1)\n",
    "# rich = pd.concat([rich], keys=['rdw'], axis=1)\n",
    "rich = pd.concat([rdw_per_reg], keys=['rdw'], axis=1)\n",
    "rich.index.name='kenteken'\n",
    "print(f'{rich.shape[1]} columns {rich.shape[0]} {rich.index.name} ')\n",
    "\n",
    "# Add conformity_codes\n",
    "codes = rdw_per_reg_conf.copy()\n",
    "codes = pd.concat([codes], keys=['conformity_codes'], axis=1)\n",
    "codes = pd.concat([codes], keys=['rdw'], axis=1)\n",
    "rich = rich.merge(\n",
    "    codes, # add level\n",
    "    how='outer',\n",
    "    left_index = True,\n",
    "    right_index = True,\n",
    ")\n",
    "print(f'{rich.shape[1]} columns {rich.shape[0]} {rich.index.name}')"
   ]
  },
  {
   "cell_type": "code",
   "execution_count": null,
   "metadata": {
    "editable": true,
    "slideshow": {
     "slide_type": ""
    },
    "tags": [
     "nbconvert_instruction:remove_all_outputs"
    ]
   },
   "outputs": [],
   "source": [
    "# Add data with one level EU keys\n",
    "codes = rdw_per_confcode_revoke.reset_index()\n",
    "# add levels to dataframe\n",
    "codes = pd.concat([codes], keys=['intrekking_typegoedkeuring'], axis=1)\n",
    "codes = pd.concat([codes], keys=['rdw'], axis=1)\n",
    "if codes.shape[0] > 0:\n",
    "    rich = rich.reset_index().merge(\n",
    "        codes, \n",
    "        how='outer',\n",
    "        left_on = [('rdw', 'conformity_codes', 'typegoedkeuringsnummer')],\n",
    "        right_on = [('rdw', 'intrekking_typegoedkeuring', 'typegoedkeuringsnummer')],\n",
    "    ).set_index('kenteken')\n",
    "else:\n",
    "    rich = rich.reset_index().set_index('kenteken')\n",
    "print(f'{rich.shape[1]} columns {rich.shape[0]} {rich.index.name}')"
   ]
  },
  {
   "cell_type": "code",
   "execution_count": null,
   "metadata": {
    "editable": true,
    "slideshow": {
     "slide_type": ""
    },
    "tags": [
     "nbconvert_instruction:remove_all_outputs"
    ]
   },
   "outputs": [],
   "source": [
    "# Add full_codes\n",
    "# codes = pd.concat(full_codes, axis=1)#.drop(columns='conformity_codes')\n",
    "codes = rdw_per_confcode.copy()\n",
    "codes = pd.concat([codes], keys=['rdw'], axis=1)\n",
    "# rename index names to match existing\n",
    "existing_idx_names = [{\n",
    "    'typegoedkeuringsnummer': 'typegoedkeuringsnummer',\n",
    "    'codevarianttgk': 'eeg_variantcode',\n",
    "    'codeuitvoeringtgk': 'eeg_uitvoeringscode',\n",
    "    'volgnummerrevisieuitvoering': 'uitvoering_wijzigingsnummer'}[c] for c in codes.index.names]\n",
    "codes.index.names = existing_idx_names\n",
    "rich = rich.merge(\n",
    "    codes,\n",
    "    how='outer',\n",
    "    left_on = [('rdw', 'conformity_codes', c) for c in codes.index.names],\n",
    "    right_index=True\n",
    ")\n",
    "print(f'{rich.shape[1]} columns {rich.shape[0]} {rich.index.name}')"
   ]
  },
  {
   "cell_type": "code",
   "execution_count": null,
   "metadata": {
    "editable": true,
    "slideshow": {
     "slide_type": ""
    },
    "tags": [
     "nbconvert_instruction:remove_all_outputs"
    ]
   },
   "outputs": [],
   "source": [
    "# Add ovi\n",
    "codes = pd.concat([rdw_ovi], keys=['ovi'], axis=1)\n",
    "codes = pd.concat([codes], keys=['rdw'], axis=1)\n",
    "rich = rich.merge(\n",
    "    codes,\n",
    "    how='outer',\n",
    "    left_index = True,\n",
    "    right_index = True,\n",
    ")\n",
    "print(f'{rich.shape[1]} columns {rich.shape[0]} {rich.index.name}')"
   ]
  },
  {
   "cell_type": "code",
   "execution_count": null,
   "metadata": {
    "editable": true,
    "slideshow": {
     "slide_type": ""
    },
    "tags": [
     "nbconvert_instruction:remove_all_outputs"
    ]
   },
   "outputs": [],
   "source": [
    "# Add vpic\n",
    "codes = nhtsa_per_vin.copy()\n",
    "codes = pd.concat([codes.reset_index().set_index('lot_index')], keys=[('nhtsa', 'vpic')], axis=1)\n",
    "rich = rich.reset_index().merge(\n",
    "    codes,\n",
    "    how='outer',\n",
    "    left_on = [('rdw', 'registrations', 'lot_index')],\n",
    "    right_index = True\n",
    "    #right_on = [('nhtsa', 'lot_index')]\n",
    ").set_index(('rdw', 'registrations', 'lot_index')) # set to 3d index\n",
    "rich.index.name = 'lot_index' # make 1d index again\n",
    "print(f'{rich.shape[1]} columns {rich.shape[0]} {rich.index.name}')"
   ]
  },
  {
   "cell_type": "code",
   "execution_count": null,
   "metadata": {
    "editable": true,
    "slideshow": {
     "slide_type": ""
    },
    "tags": [
     "nbconvert_instruction:remove_all_outputs"
    ]
   },
   "outputs": [],
   "source": [
    "rich.columns.map(lambda x: '_'.join(x))\n",
    "rich"
   ]
  },
  {
   "cell_type": "code",
   "execution_count": null,
   "metadata": {
    "editable": true,
    "slideshow": {
     "slide_type": ""
    },
    "tags": [
     "nbconvert_instruction:remove_all_outputs"
    ]
   },
   "outputs": [],
   "source": [
    "# Three level column index\n",
    "existing = pd.concat([drz], keys=[''], axis=1)\n",
    "existing = pd.concat([existing], keys=['drz'], axis=1)\n",
    "print(f'{existing.shape[1]} columns {existing.shape[0]} {existing.index.name}')\n",
    "# Add rich to existing to make enriched\n",
    "enriched = pd.merge(\n",
    "    left = existing,\n",
    "    right = rich,\n",
    "    how = 'left',\n",
    "    left_index = True,\n",
    "    right_index = True\n",
    ")\n",
    "print(f'{enriched.shape[1]} columns {enriched.shape[0]} {enriched.index.name}')"
   ]
  },
  {
   "cell_type": "markdown",
   "metadata": {
    "editable": true,
    "slideshow": {
     "slide_type": ""
    },
    "tags": []
   },
   "source": [
    "# Saving"
   ]
  },
  {
   "cell_type": "code",
   "execution_count": null,
   "metadata": {
    "editable": true,
    "slideshow": {
     "slide_type": ""
    },
    "tags": [
     "nbconvert_instruction:remove_all_outputs"
    ]
   },
   "outputs": [],
   "source": [
    "# load drz auction results\n",
    "suffix = '' if not OPBOD else '-opbod';\n",
    "file_name = f'{DATA_DIR}/auctions/enriched-results/rdw-data-{auction_month}-{month_counter}{suffix}.pkl'\n",
    "if (SKIPSAVE==False) and (not(os.path.isfile(file_name))):\n",
    "    print(file_name)\n",
    "    enriched.to_pickle(file_name)\n",
    "else:\n",
    "    print(f'Skip. {file_name} exists or saving is disabled in settings.')"
   ]
  }
 ],
 "metadata": {
  "jupytext": {
   "formats": "ipynb,py:percent"
  },
  "kernelspec": {
   "display_name": "Python 3 (ipykernel)",
   "language": "python",
   "name": "python3"
  },
  "language_info": {
   "codemirror_mode": {
    "name": "ipython",
    "version": 3
   },
   "file_extension": ".py",
   "mimetype": "text/x-python",
   "name": "python",
   "nbconvert_exporter": "python",
   "pygments_lexer": "ipython3",
   "version": "3.10.12"
  },
  "toc-autonumbering": false,
  "toc-showcode": true,
  "toc-showmarkdowntxt": true
 },
 "nbformat": 4,
 "nbformat_minor": 4
}
