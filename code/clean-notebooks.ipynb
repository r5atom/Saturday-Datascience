{
 "cells": [
  {
   "cell_type": "markdown",
   "id": "falling-shower",
   "metadata": {
    "editable": true,
    "slideshow": {
     "slide_type": ""
    },
    "tags": []
   },
   "source": [
    "# Clean notebooks\n",
    "\n",
    "Outputs are removed from notebooks to make a cleaner notebook available for git diff."
   ]
  },
  {
   "cell_type": "code",
   "execution_count": 1,
   "id": "integrated-habitat",
   "metadata": {
    "editable": true,
    "slideshow": {
     "slide_type": ""
    },
    "tags": []
   },
   "outputs": [],
   "source": [
    "# Tag that points to cells where all outputs are removed\n",
    "# Set this string as [cell tag] in target notebooks\n",
    "\n",
    "TAG_CONDITION = \"remove_when_contains:image\"\n",
    "\n",
    "tag_dict = {\n",
    "    'remove_all_outputs': \"nbconvert_instruction:remove_all_outputs\",\n",
    "    'remove_single_output': \"nbconvert_instruction:remove_single_output\", \n",
    "    'remove_cell': \"nbconvert_instruction:remove_full_cell\", \n",
    "}\n",
    "\n",
    "BACKUP_DIR = \"../.notebook-cleaning/\""
   ]
  },
  {
   "cell_type": "code",
   "execution_count": 2,
   "id": "ordinary-gregory",
   "metadata": {
    "editable": true,
    "slideshow": {
     "slide_type": ""
    },
    "tags": []
   },
   "outputs": [],
   "source": [
    "from traitlets.config import Config\n",
    "import nbformat as nbf\n",
    "from nbconvert.exporters import NotebookExporter\n",
    "from nbconvert.preprocessors import TagRemovePreprocessor\n",
    "import os\n",
    "import re\n",
    "\n",
    "\n",
    "def clean_nb(\n",
    "    fn,                    # notebook\n",
    "    tags = tag_dict,       # dict with instructions\n",
    "    rel_backup_dir = '.',  # location where to write temp files and backups relative! to location of fn\n",
    "    VERBOSE = True,        # Turn verbosity on/off\n",
    "    DRYRUN = False,        # Do a dry run for debugging\n",
    "):\n",
    "    \n",
    "    assert os.path.exists(fn), f'Notebook <{fn}> does not exist.'\n",
    "    \n",
    "    # Create filenames\n",
    "    tmp_name = re.sub('\\.ipynb$', '', \n",
    "                      os.path.join(os.path.relpath(os.path.dirname(fn) + '/' + rel_backup_dir), os.path.basename(fn))\n",
    "                     ) # temp file\n",
    "    nb_in = tmp_name + '.smudge.ipynb'\n",
    "    nb_out = tmp_name + '.clean.ipynb'\n",
    "    nb_bup = tmp_name + '.bup.ipynb'\n",
    "\n",
    "    if VERBOSE:\n",
    "        print('-- File names')\n",
    "        print('input:\\t\\t', fn)\n",
    "        print('backup:\\t\\t',nb_bup)\n",
    "        print('to be cleaned:\\t', nb_in)\n",
    "        print('cleaned:\\t',nb_out)\n",
    "        \n",
    "    # Back-up original\n",
    "    if VERBOSE:\n",
    "        print(f'backup:\\n\\t{fn} ->\\n\\t{nb_bup}')\n",
    "    if DRYRUN == False:\n",
    "        !cp -p {fn} {nb_bup}\n",
    "    \n",
    "    # Setup config\n",
    "    c = Config()\n",
    "\n",
    "    # Configure tag removal - be sure to tag your cells to remove  using the\n",
    "    # words remove_cell to remove cells. You can also modify the code to use\n",
    "    # a different tag word\n",
    "    c.TagRemovePreprocessor.remove_all_outputs_tags = (tags['remove_all_outputs'],)\n",
    "    c.TagRemovePreprocessor.remove_single_output_tags = (tags['remove_single_output'],)\n",
    "    c.TagRemovePreprocessor.remove_cell_tags = (tags['remove_cell'],)\n",
    "    c.TagRemovePreprocessor.enabled = True\n",
    "    #c.TemplateExporter.exclude_markdown = True \n",
    "    #c.TemplateExporter.exclude_code_cell = True \n",
    "    #c.TemplateExporter.exclude_raw = True \n",
    "    #c.TemplateExporter.exclude_unknown = True \n",
    "    #c.TemplateExporter.exclude_foo = True \n",
    "\n",
    "    if VERBOSE:\n",
    "        print('-- Config')\n",
    "        display(c)\n",
    "    \n",
    "    # Prepare input\n",
    "    if VERBOSE:\n",
    "        print(f'smudge:\\n\\t{fn} ->\\n\\t{nb_in}')\n",
    "    if DRYRUN == False:\n",
    "        !cp -p {fn} {nb_in}\n",
    "\n",
    "    # Tag images\n",
    "    if VERBOSE:\n",
    "        print(f'tag outputs with images for removal:\\n\\t{nb_in} ->\\n\\t{nb_in}')\n",
    "    if DRYRUN == False:\n",
    "        tag_images_for_removal(nb_in, nb_in)\n",
    "\n",
    "    # Process with NotebookExporter\n",
    "    if VERBOSE:\n",
    "        print(f'clean (process):\\n\\t{nb_in} ->\\n\\t{nb_out}')\n",
    "    out = NotebookExporter(config=c).from_filename(nb_in)\n",
    "    if DRYRUN == False:\n",
    "        with open(nb_out,  \"w\") as f:\n",
    "            f.write(out[0])\n",
    "    \n",
    "    # Overwrite original\n",
    "    if VERBOSE:\n",
    "        print(f'save:\\n\\t{nb_out} ->\\n\\t{fn}')\n",
    "    if DRYRUN == False:\n",
    "        !cp -p {nb_out} {fn}"
   ]
  },
  {
   "cell_type": "code",
   "execution_count": 3,
   "id": "apparent-seafood",
   "metadata": {
    "editable": true,
    "slideshow": {
     "slide_type": ""
    },
    "tags": []
   },
   "outputs": [],
   "source": [
    "def tag_mime_output(nb, mime_tag, output_tag):\n",
    "    \n",
    "    '''\n",
    "    Adds a tag to a specific output given its \"data\" is of certain MIME type.\n",
    "    Useful for removing figures from notebooks.\n",
    "    \n",
    "    Input:\n",
    "        nb - notebook\n",
    "        mime_tag - cell tag of cell that needs processing. \n",
    "            \n",
    "            The tag can be formatted as [condition]:[mime_type] (e.g. `foo:image/jpeg`)\n",
    "            or only with the [mime_type] (e.g. `image/jpeg`)\n",
    "            \n",
    "            condition - arbitrary name. All cells with this tag are processed. \n",
    "                If ommitted (or '*') all cells are processed. All outputs with matching mime types are tagged.\n",
    "            \n",
    "            mime_type - outputs are tagged (for removal) with if data is of this mime type. \n",
    "                This can also be a partial MIME name (e.g. `image`, str.find() is used).\n",
    "                \n",
    "        output_tag - tag added to metadata when condition is matched\n",
    "            \n",
    "    Output:\n",
    "        The input object is updated\n",
    "            \n",
    "    '''\n",
    "\n",
    "    # handle input\n",
    "    if mime_tag.find(':') < 0: # no `:` separator\n",
    "        condition, mime_type = '*', mime_tag\n",
    "    else:\n",
    "        condition, mime_type = mime_tag.split(':')\n",
    "        \n",
    "    # loop over cells in notebook\n",
    "    for c in nb.get('cells',[]):\n",
    "        if (condition != '*') and (mime_tag not in c.get('metadata',{}).get('tags',[])):\n",
    "            # next cell if the cell tag does not match\n",
    "            continue\n",
    "        # loop over all outputs\n",
    "        for o in c.get('outputs',[]):\n",
    "            # do for every data output that is a of MIME type ...\n",
    "\n",
    "            #if any([t in o.get('data', {}) for t in ['image/png', 'image/jpg', 'image/jpeg']]):\n",
    "            if any([k.find(mime_type)>=0 for k in o.get('data', {})]):\n",
    "                # add to existing tags\n",
    "                tags = o['metadata'].get('tags', [])\n",
    "                tags.append(output_tag)\n",
    "                o['metadata']['tags'] = tags\n",
    "\n",
    "                \n",
    "\n",
    "def tag_images_for_removal(in_file, out_file):\n",
    "    import nbformat as nbf\n",
    "    \n",
    "    # read nb\n",
    "    nb = nbf.read(in_file, nbf.NO_CONVERT)\n",
    "    # process\n",
    "    tag_mime_output(nb, TAG_CONDITION, tag_dict['remove_single_output'])\n",
    "    # save\n",
    "    nbf.write(nb, out_file, nbf.NO_CONVERT)\n",
    "    \n"
   ]
  },
  {
   "cell_type": "code",
   "execution_count": 4,
   "id": "political-advocacy",
   "metadata": {
    "editable": true,
    "slideshow": {
     "slide_type": ""
    },
    "tags": []
   },
   "outputs": [
    {
     "name": "stdout",
     "output_type": "stream",
     "text": [
      "./00-scrape/scrape-drz-auction-results.ipynb\n",
      "-- File names\n",
      "input:\t\t ./00-scrape/scrape-drz-auction-results.ipynb\n",
      "backup:\t\t .notebook-cleaning/scrape-drz-auction-results.bup.ipynb\n",
      "to be cleaned:\t .notebook-cleaning/scrape-drz-auction-results.smudge.ipynb\n",
      "cleaned:\t .notebook-cleaning/scrape-drz-auction-results.clean.ipynb\n",
      "backup:\n",
      "\t./00-scrape/scrape-drz-auction-results.ipynb ->\n",
      "\t.notebook-cleaning/scrape-drz-auction-results.bup.ipynb\n",
      "-- Config\n"
     ]
    },
    {
     "data": {
      "text/plain": [
       "{'TagRemovePreprocessor': {'remove_all_outputs_tags': ('nbconvert_instruction:remove_all_outputs',),\n",
       "  'remove_single_output_tags': ('nbconvert_instruction:remove_single_output',),\n",
       "  'remove_cell_tags': ('nbconvert_instruction:remove_full_cell',),\n",
       "  'enabled': True}}"
      ]
     },
     "metadata": {},
     "output_type": "display_data"
    },
    {
     "name": "stdout",
     "output_type": "stream",
     "text": [
      "smudge:\n",
      "\t./00-scrape/scrape-drz-auction-results.ipynb ->\n",
      "\t.notebook-cleaning/scrape-drz-auction-results.smudge.ipynb\n",
      "tag outputs with images for removal:\n",
      "\t.notebook-cleaning/scrape-drz-auction-results.smudge.ipynb ->\n",
      "\t.notebook-cleaning/scrape-drz-auction-results.smudge.ipynb\n",
      "clean (process):\n",
      "\t.notebook-cleaning/scrape-drz-auction-results.smudge.ipynb ->\n",
      "\t.notebook-cleaning/scrape-drz-auction-results.clean.ipynb\n",
      "save:\n",
      "\t.notebook-cleaning/scrape-drz-auction-results.clean.ipynb ->\n",
      "\t./00-scrape/scrape-drz-auction-results.ipynb\n",
      "./00-scrape/add-rdw-info-to-drz.ipynb\n",
      "-- File names\n",
      "input:\t\t ./00-scrape/add-rdw-info-to-drz.ipynb\n",
      "backup:\t\t .notebook-cleaning/add-rdw-info-to-drz.bup.ipynb\n",
      "to be cleaned:\t .notebook-cleaning/add-rdw-info-to-drz.smudge.ipynb\n",
      "cleaned:\t .notebook-cleaning/add-rdw-info-to-drz.clean.ipynb\n",
      "backup:\n",
      "\t./00-scrape/add-rdw-info-to-drz.ipynb ->\n",
      "\t.notebook-cleaning/add-rdw-info-to-drz.bup.ipynb\n",
      "-- Config\n"
     ]
    },
    {
     "data": {
      "text/plain": [
       "{'TagRemovePreprocessor': {'remove_all_outputs_tags': ('nbconvert_instruction:remove_all_outputs',),\n",
       "  'remove_single_output_tags': ('nbconvert_instruction:remove_single_output',),\n",
       "  'remove_cell_tags': ('nbconvert_instruction:remove_full_cell',),\n",
       "  'enabled': True}}"
      ]
     },
     "metadata": {},
     "output_type": "display_data"
    },
    {
     "name": "stdout",
     "output_type": "stream",
     "text": [
      "smudge:\n",
      "\t./00-scrape/add-rdw-info-to-drz.ipynb ->\n",
      "\t.notebook-cleaning/add-rdw-info-to-drz.smudge.ipynb\n",
      "tag outputs with images for removal:\n",
      "\t.notebook-cleaning/add-rdw-info-to-drz.smudge.ipynb ->\n",
      "\t.notebook-cleaning/add-rdw-info-to-drz.smudge.ipynb\n",
      "clean (process):\n",
      "\t.notebook-cleaning/add-rdw-info-to-drz.smudge.ipynb ->\n",
      "\t.notebook-cleaning/add-rdw-info-to-drz.clean.ipynb\n",
      "save:\n",
      "\t.notebook-cleaning/add-rdw-info-to-drz.clean.ipynb ->\n",
      "\t./00-scrape/add-rdw-info-to-drz.ipynb\n",
      "./00-scrape/download-images.ipynb\n",
      "-- File names\n",
      "input:\t\t ./00-scrape/download-images.ipynb\n",
      "backup:\t\t .notebook-cleaning/download-images.bup.ipynb\n",
      "to be cleaned:\t .notebook-cleaning/download-images.smudge.ipynb\n",
      "cleaned:\t .notebook-cleaning/download-images.clean.ipynb\n",
      "backup:\n",
      "\t./00-scrape/download-images.ipynb ->\n",
      "\t.notebook-cleaning/download-images.bup.ipynb\n",
      "-- Config\n"
     ]
    },
    {
     "data": {
      "text/plain": [
       "{'TagRemovePreprocessor': {'remove_all_outputs_tags': ('nbconvert_instruction:remove_all_outputs',),\n",
       "  'remove_single_output_tags': ('nbconvert_instruction:remove_single_output',),\n",
       "  'remove_cell_tags': ('nbconvert_instruction:remove_full_cell',),\n",
       "  'enabled': True}}"
      ]
     },
     "metadata": {},
     "output_type": "display_data"
    },
    {
     "name": "stdout",
     "output_type": "stream",
     "text": [
      "smudge:\n",
      "\t./00-scrape/download-images.ipynb ->\n",
      "\t.notebook-cleaning/download-images.smudge.ipynb\n",
      "tag outputs with images for removal:\n",
      "\t.notebook-cleaning/download-images.smudge.ipynb ->\n",
      "\t.notebook-cleaning/download-images.smudge.ipynb\n",
      "clean (process):\n",
      "\t.notebook-cleaning/download-images.smudge.ipynb ->\n",
      "\t.notebook-cleaning/download-images.clean.ipynb\n",
      "save:\n",
      "\t.notebook-cleaning/download-images.clean.ipynb ->\n",
      "\t./00-scrape/download-images.ipynb\n",
      "./00-scrape/explore-auction-results.ipynb\n",
      "-- File names\n",
      "input:\t\t ./00-scrape/explore-auction-results.ipynb\n",
      "backup:\t\t .notebook-cleaning/explore-auction-results.bup.ipynb\n",
      "to be cleaned:\t .notebook-cleaning/explore-auction-results.smudge.ipynb\n",
      "cleaned:\t .notebook-cleaning/explore-auction-results.clean.ipynb\n",
      "backup:\n",
      "\t./00-scrape/explore-auction-results.ipynb ->\n",
      "\t.notebook-cleaning/explore-auction-results.bup.ipynb\n",
      "-- Config\n"
     ]
    },
    {
     "data": {
      "text/plain": [
       "{'TagRemovePreprocessor': {'remove_all_outputs_tags': ('nbconvert_instruction:remove_all_outputs',),\n",
       "  'remove_single_output_tags': ('nbconvert_instruction:remove_single_output',),\n",
       "  'remove_cell_tags': ('nbconvert_instruction:remove_full_cell',),\n",
       "  'enabled': True}}"
      ]
     },
     "metadata": {},
     "output_type": "display_data"
    },
    {
     "name": "stdout",
     "output_type": "stream",
     "text": [
      "smudge:\n",
      "\t./00-scrape/explore-auction-results.ipynb ->\n",
      "\t.notebook-cleaning/explore-auction-results.smudge.ipynb\n",
      "tag outputs with images for removal:\n",
      "\t.notebook-cleaning/explore-auction-results.smudge.ipynb ->\n",
      "\t.notebook-cleaning/explore-auction-results.smudge.ipynb\n",
      "clean (process):\n",
      "\t.notebook-cleaning/explore-auction-results.smudge.ipynb ->\n",
      "\t.notebook-cleaning/explore-auction-results.clean.ipynb\n",
      "save:\n",
      "\t.notebook-cleaning/explore-auction-results.clean.ipynb ->\n",
      "\t./00-scrape/explore-auction-results.ipynb\n",
      "./10-combine-and-preprocess/aggregate-all-auctions.ipynb\n",
      "-- File names\n",
      "input:\t\t ./10-combine-and-preprocess/aggregate-all-auctions.ipynb\n",
      "backup:\t\t .notebook-cleaning/aggregate-all-auctions.bup.ipynb\n",
      "to be cleaned:\t .notebook-cleaning/aggregate-all-auctions.smudge.ipynb\n",
      "cleaned:\t .notebook-cleaning/aggregate-all-auctions.clean.ipynb\n",
      "backup:\n",
      "\t./10-combine-and-preprocess/aggregate-all-auctions.ipynb ->\n",
      "\t.notebook-cleaning/aggregate-all-auctions.bup.ipynb\n",
      "-- Config\n"
     ]
    },
    {
     "data": {
      "text/plain": [
       "{'TagRemovePreprocessor': {'remove_all_outputs_tags': ('nbconvert_instruction:remove_all_outputs',),\n",
       "  'remove_single_output_tags': ('nbconvert_instruction:remove_single_output',),\n",
       "  'remove_cell_tags': ('nbconvert_instruction:remove_full_cell',),\n",
       "  'enabled': True}}"
      ]
     },
     "metadata": {},
     "output_type": "display_data"
    },
    {
     "name": "stdout",
     "output_type": "stream",
     "text": [
      "smudge:\n",
      "\t./10-combine-and-preprocess/aggregate-all-auctions.ipynb ->\n",
      "\t.notebook-cleaning/aggregate-all-auctions.smudge.ipynb\n",
      "tag outputs with images for removal:\n",
      "\t.notebook-cleaning/aggregate-all-auctions.smudge.ipynb ->\n",
      "\t.notebook-cleaning/aggregate-all-auctions.smudge.ipynb\n",
      "clean (process):\n",
      "\t.notebook-cleaning/aggregate-all-auctions.smudge.ipynb ->\n",
      "\t.notebook-cleaning/aggregate-all-auctions.clean.ipynb\n",
      "save:\n",
      "\t.notebook-cleaning/aggregate-all-auctions.clean.ipynb ->\n",
      "\t./10-combine-and-preprocess/aggregate-all-auctions.ipynb\n",
      "./10-combine-and-preprocess/preproc-cars.ipynb\n",
      "-- File names\n",
      "input:\t\t ./10-combine-and-preprocess/preproc-cars.ipynb\n",
      "backup:\t\t .notebook-cleaning/preproc-cars.bup.ipynb\n",
      "to be cleaned:\t .notebook-cleaning/preproc-cars.smudge.ipynb\n",
      "cleaned:\t .notebook-cleaning/preproc-cars.clean.ipynb\n",
      "backup:\n",
      "\t./10-combine-and-preprocess/preproc-cars.ipynb ->\n",
      "\t.notebook-cleaning/preproc-cars.bup.ipynb\n",
      "-- Config\n"
     ]
    },
    {
     "data": {
      "text/plain": [
       "{'TagRemovePreprocessor': {'remove_all_outputs_tags': ('nbconvert_instruction:remove_all_outputs',),\n",
       "  'remove_single_output_tags': ('nbconvert_instruction:remove_single_output',),\n",
       "  'remove_cell_tags': ('nbconvert_instruction:remove_full_cell',),\n",
       "  'enabled': True}}"
      ]
     },
     "metadata": {},
     "output_type": "display_data"
    },
    {
     "name": "stdout",
     "output_type": "stream",
     "text": [
      "smudge:\n",
      "\t./10-combine-and-preprocess/preproc-cars.ipynb ->\n",
      "\t.notebook-cleaning/preproc-cars.smudge.ipynb\n",
      "tag outputs with images for removal:\n",
      "\t.notebook-cleaning/preproc-cars.smudge.ipynb ->\n",
      "\t.notebook-cleaning/preproc-cars.smudge.ipynb\n",
      "clean (process):\n",
      "\t.notebook-cleaning/preproc-cars.smudge.ipynb ->\n",
      "\t.notebook-cleaning/preproc-cars.clean.ipynb\n",
      "save:\n",
      "\t.notebook-cleaning/preproc-cars.clean.ipynb ->\n",
      "\t./10-combine-and-preprocess/preproc-cars.ipynb\n",
      "./10-combine-and-preprocess/eda-after-merge.ipynb\n",
      "-- File names\n",
      "input:\t\t ./10-combine-and-preprocess/eda-after-merge.ipynb\n",
      "backup:\t\t .notebook-cleaning/eda-after-merge.bup.ipynb\n",
      "to be cleaned:\t .notebook-cleaning/eda-after-merge.smudge.ipynb\n",
      "cleaned:\t .notebook-cleaning/eda-after-merge.clean.ipynb\n",
      "backup:\n",
      "\t./10-combine-and-preprocess/eda-after-merge.ipynb ->\n",
      "\t.notebook-cleaning/eda-after-merge.bup.ipynb\n",
      "-- Config\n"
     ]
    },
    {
     "data": {
      "text/plain": [
       "{'TagRemovePreprocessor': {'remove_all_outputs_tags': ('nbconvert_instruction:remove_all_outputs',),\n",
       "  'remove_single_output_tags': ('nbconvert_instruction:remove_single_output',),\n",
       "  'remove_cell_tags': ('nbconvert_instruction:remove_full_cell',),\n",
       "  'enabled': True}}"
      ]
     },
     "metadata": {},
     "output_type": "display_data"
    },
    {
     "name": "stdout",
     "output_type": "stream",
     "text": [
      "smudge:\n",
      "\t./10-combine-and-preprocess/eda-after-merge.ipynb ->\n",
      "\t.notebook-cleaning/eda-after-merge.smudge.ipynb\n",
      "tag outputs with images for removal:\n",
      "\t.notebook-cleaning/eda-after-merge.smudge.ipynb ->\n",
      "\t.notebook-cleaning/eda-after-merge.smudge.ipynb\n",
      "clean (process):\n",
      "\t.notebook-cleaning/eda-after-merge.smudge.ipynb ->\n",
      "\t.notebook-cleaning/eda-after-merge.clean.ipynb\n",
      "save:\n",
      "\t.notebook-cleaning/eda-after-merge.clean.ipynb ->\n",
      "\t./10-combine-and-preprocess/eda-after-merge.ipynb\n",
      "./20-modelling/predict-price-model1.ipynb\n",
      "-- File names\n",
      "input:\t\t ./20-modelling/predict-price-model1.ipynb\n",
      "backup:\t\t .notebook-cleaning/predict-price-model1.bup.ipynb\n",
      "to be cleaned:\t .notebook-cleaning/predict-price-model1.smudge.ipynb\n",
      "cleaned:\t .notebook-cleaning/predict-price-model1.clean.ipynb\n",
      "backup:\n",
      "\t./20-modelling/predict-price-model1.ipynb ->\n",
      "\t.notebook-cleaning/predict-price-model1.bup.ipynb\n",
      "-- Config\n"
     ]
    },
    {
     "data": {
      "text/plain": [
       "{'TagRemovePreprocessor': {'remove_all_outputs_tags': ('nbconvert_instruction:remove_all_outputs',),\n",
       "  'remove_single_output_tags': ('nbconvert_instruction:remove_single_output',),\n",
       "  'remove_cell_tags': ('nbconvert_instruction:remove_full_cell',),\n",
       "  'enabled': True}}"
      ]
     },
     "metadata": {},
     "output_type": "display_data"
    },
    {
     "name": "stdout",
     "output_type": "stream",
     "text": [
      "smudge:\n",
      "\t./20-modelling/predict-price-model1.ipynb ->\n",
      "\t.notebook-cleaning/predict-price-model1.smudge.ipynb\n",
      "tag outputs with images for removal:\n",
      "\t.notebook-cleaning/predict-price-model1.smudge.ipynb ->\n",
      "\t.notebook-cleaning/predict-price-model1.smudge.ipynb\n",
      "clean (process):\n",
      "\t.notebook-cleaning/predict-price-model1.smudge.ipynb ->\n",
      "\t.notebook-cleaning/predict-price-model1.clean.ipynb\n",
      "save:\n",
      "\t.notebook-cleaning/predict-price-model1.clean.ipynb ->\n",
      "\t./20-modelling/predict-price-model1.ipynb\n",
      "./20-modelling/predict-price-model2.ipynb\n",
      "-- File names\n",
      "input:\t\t ./20-modelling/predict-price-model2.ipynb\n",
      "backup:\t\t .notebook-cleaning/predict-price-model2.bup.ipynb\n",
      "to be cleaned:\t .notebook-cleaning/predict-price-model2.smudge.ipynb\n",
      "cleaned:\t .notebook-cleaning/predict-price-model2.clean.ipynb\n",
      "backup:\n",
      "\t./20-modelling/predict-price-model2.ipynb ->\n",
      "\t.notebook-cleaning/predict-price-model2.bup.ipynb\n",
      "-- Config\n"
     ]
    },
    {
     "data": {
      "text/plain": [
       "{'TagRemovePreprocessor': {'remove_all_outputs_tags': ('nbconvert_instruction:remove_all_outputs',),\n",
       "  'remove_single_output_tags': ('nbconvert_instruction:remove_single_output',),\n",
       "  'remove_cell_tags': ('nbconvert_instruction:remove_full_cell',),\n",
       "  'enabled': True}}"
      ]
     },
     "metadata": {},
     "output_type": "display_data"
    },
    {
     "name": "stdout",
     "output_type": "stream",
     "text": [
      "smudge:\n",
      "\t./20-modelling/predict-price-model2.ipynb ->\n",
      "\t.notebook-cleaning/predict-price-model2.smudge.ipynb\n",
      "tag outputs with images for removal:\n",
      "\t.notebook-cleaning/predict-price-model2.smudge.ipynb ->\n",
      "\t.notebook-cleaning/predict-price-model2.smudge.ipynb\n",
      "clean (process):\n",
      "\t.notebook-cleaning/predict-price-model2.smudge.ipynb ->\n",
      "\t.notebook-cleaning/predict-price-model2.clean.ipynb\n",
      "save:\n",
      "\t.notebook-cleaning/predict-price-model2.clean.ipynb ->\n",
      "\t./20-modelling/predict-price-model2.ipynb\n",
      "./20-modelling/predict-price-model3.ipynb\n",
      "-- File names\n",
      "input:\t\t ./20-modelling/predict-price-model3.ipynb\n",
      "backup:\t\t .notebook-cleaning/predict-price-model3.bup.ipynb\n",
      "to be cleaned:\t .notebook-cleaning/predict-price-model3.smudge.ipynb\n",
      "cleaned:\t .notebook-cleaning/predict-price-model3.clean.ipynb\n",
      "backup:\n",
      "\t./20-modelling/predict-price-model3.ipynb ->\n",
      "\t.notebook-cleaning/predict-price-model3.bup.ipynb\n",
      "-- Config\n"
     ]
    },
    {
     "data": {
      "text/plain": [
       "{'TagRemovePreprocessor': {'remove_all_outputs_tags': ('nbconvert_instruction:remove_all_outputs',),\n",
       "  'remove_single_output_tags': ('nbconvert_instruction:remove_single_output',),\n",
       "  'remove_cell_tags': ('nbconvert_instruction:remove_full_cell',),\n",
       "  'enabled': True}}"
      ]
     },
     "metadata": {},
     "output_type": "display_data"
    },
    {
     "name": "stdout",
     "output_type": "stream",
     "text": [
      "smudge:\n",
      "\t./20-modelling/predict-price-model3.ipynb ->\n",
      "\t.notebook-cleaning/predict-price-model3.smudge.ipynb\n",
      "tag outputs with images for removal:\n",
      "\t.notebook-cleaning/predict-price-model3.smudge.ipynb ->\n",
      "\t.notebook-cleaning/predict-price-model3.smudge.ipynb\n",
      "clean (process):\n",
      "\t.notebook-cleaning/predict-price-model3.smudge.ipynb ->\n",
      "\t.notebook-cleaning/predict-price-model3.clean.ipynb\n",
      "save:\n",
      "\t.notebook-cleaning/predict-price-model3.clean.ipynb ->\n",
      "\t./20-modelling/predict-price-model3.ipynb\n",
      "./20-modelling/predict-price-model4.ipynb\n",
      "-- File names\n",
      "input:\t\t ./20-modelling/predict-price-model4.ipynb\n",
      "backup:\t\t .notebook-cleaning/predict-price-model4.bup.ipynb\n",
      "to be cleaned:\t .notebook-cleaning/predict-price-model4.smudge.ipynb\n",
      "cleaned:\t .notebook-cleaning/predict-price-model4.clean.ipynb\n",
      "backup:\n",
      "\t./20-modelling/predict-price-model4.ipynb ->\n",
      "\t.notebook-cleaning/predict-price-model4.bup.ipynb\n",
      "-- Config\n"
     ]
    },
    {
     "data": {
      "text/plain": [
       "{'TagRemovePreprocessor': {'remove_all_outputs_tags': ('nbconvert_instruction:remove_all_outputs',),\n",
       "  'remove_single_output_tags': ('nbconvert_instruction:remove_single_output',),\n",
       "  'remove_cell_tags': ('nbconvert_instruction:remove_full_cell',),\n",
       "  'enabled': True}}"
      ]
     },
     "metadata": {},
     "output_type": "display_data"
    },
    {
     "name": "stdout",
     "output_type": "stream",
     "text": [
      "smudge:\n",
      "\t./20-modelling/predict-price-model4.ipynb ->\n",
      "\t.notebook-cleaning/predict-price-model4.smudge.ipynb\n",
      "tag outputs with images for removal:\n",
      "\t.notebook-cleaning/predict-price-model4.smudge.ipynb ->\n",
      "\t.notebook-cleaning/predict-price-model4.smudge.ipynb\n",
      "clean (process):\n",
      "\t.notebook-cleaning/predict-price-model4.smudge.ipynb ->\n",
      "\t.notebook-cleaning/predict-price-model4.clean.ipynb\n",
      "save:\n",
      "\t.notebook-cleaning/predict-price-model4.clean.ipynb ->\n",
      "\t./20-modelling/predict-price-model4.ipynb\n",
      "./20-modelling/predict-price-model5.ipynb\n",
      "-- File names\n",
      "input:\t\t ./20-modelling/predict-price-model5.ipynb\n",
      "backup:\t\t .notebook-cleaning/predict-price-model5.bup.ipynb\n",
      "to be cleaned:\t .notebook-cleaning/predict-price-model5.smudge.ipynb\n",
      "cleaned:\t .notebook-cleaning/predict-price-model5.clean.ipynb\n",
      "backup:\n",
      "\t./20-modelling/predict-price-model5.ipynb ->\n",
      "\t.notebook-cleaning/predict-price-model5.bup.ipynb\n",
      "-- Config\n"
     ]
    },
    {
     "data": {
      "text/plain": [
       "{'TagRemovePreprocessor': {'remove_all_outputs_tags': ('nbconvert_instruction:remove_all_outputs',),\n",
       "  'remove_single_output_tags': ('nbconvert_instruction:remove_single_output',),\n",
       "  'remove_cell_tags': ('nbconvert_instruction:remove_full_cell',),\n",
       "  'enabled': True}}"
      ]
     },
     "metadata": {},
     "output_type": "display_data"
    },
    {
     "name": "stdout",
     "output_type": "stream",
     "text": [
      "smudge:\n",
      "\t./20-modelling/predict-price-model5.ipynb ->\n",
      "\t.notebook-cleaning/predict-price-model5.smudge.ipynb\n",
      "tag outputs with images for removal:\n",
      "\t.notebook-cleaning/predict-price-model5.smudge.ipynb ->\n",
      "\t.notebook-cleaning/predict-price-model5.smudge.ipynb\n",
      "clean (process):\n",
      "\t.notebook-cleaning/predict-price-model5.smudge.ipynb ->\n",
      "\t.notebook-cleaning/predict-price-model5.clean.ipynb\n",
      "save:\n",
      "\t.notebook-cleaning/predict-price-model5.clean.ipynb ->\n",
      "\t./20-modelling/predict-price-model5.ipynb\n",
      "./20-modelling/predict-price-model6.ipynb\n",
      "-- File names\n",
      "input:\t\t ./20-modelling/predict-price-model6.ipynb\n",
      "backup:\t\t .notebook-cleaning/predict-price-model6.bup.ipynb\n",
      "to be cleaned:\t .notebook-cleaning/predict-price-model6.smudge.ipynb\n",
      "cleaned:\t .notebook-cleaning/predict-price-model6.clean.ipynb\n",
      "backup:\n",
      "\t./20-modelling/predict-price-model6.ipynb ->\n",
      "\t.notebook-cleaning/predict-price-model6.bup.ipynb\n",
      "-- Config\n"
     ]
    },
    {
     "data": {
      "text/plain": [
       "{'TagRemovePreprocessor': {'remove_all_outputs_tags': ('nbconvert_instruction:remove_all_outputs',),\n",
       "  'remove_single_output_tags': ('nbconvert_instruction:remove_single_output',),\n",
       "  'remove_cell_tags': ('nbconvert_instruction:remove_full_cell',),\n",
       "  'enabled': True}}"
      ]
     },
     "metadata": {},
     "output_type": "display_data"
    },
    {
     "name": "stdout",
     "output_type": "stream",
     "text": [
      "smudge:\n",
      "\t./20-modelling/predict-price-model6.ipynb ->\n",
      "\t.notebook-cleaning/predict-price-model6.smudge.ipynb\n",
      "tag outputs with images for removal:\n",
      "\t.notebook-cleaning/predict-price-model6.smudge.ipynb ->\n",
      "\t.notebook-cleaning/predict-price-model6.smudge.ipynb\n",
      "clean (process):\n",
      "\t.notebook-cleaning/predict-price-model6.smudge.ipynb ->\n",
      "\t.notebook-cleaning/predict-price-model6.clean.ipynb\n",
      "save:\n",
      "\t.notebook-cleaning/predict-price-model6.clean.ipynb ->\n",
      "\t./20-modelling/predict-price-model6.ipynb\n",
      "./20-modelling/predict-price-model7.ipynb\n",
      "-- File names\n",
      "input:\t\t ./20-modelling/predict-price-model7.ipynb\n",
      "backup:\t\t .notebook-cleaning/predict-price-model7.bup.ipynb\n",
      "to be cleaned:\t .notebook-cleaning/predict-price-model7.smudge.ipynb\n",
      "cleaned:\t .notebook-cleaning/predict-price-model7.clean.ipynb\n",
      "backup:\n",
      "\t./20-modelling/predict-price-model7.ipynb ->\n",
      "\t.notebook-cleaning/predict-price-model7.bup.ipynb\n",
      "-- Config\n"
     ]
    },
    {
     "data": {
      "text/plain": [
       "{'TagRemovePreprocessor': {'remove_all_outputs_tags': ('nbconvert_instruction:remove_all_outputs',),\n",
       "  'remove_single_output_tags': ('nbconvert_instruction:remove_single_output',),\n",
       "  'remove_cell_tags': ('nbconvert_instruction:remove_full_cell',),\n",
       "  'enabled': True}}"
      ]
     },
     "metadata": {},
     "output_type": "display_data"
    },
    {
     "name": "stdout",
     "output_type": "stream",
     "text": [
      "smudge:\n",
      "\t./20-modelling/predict-price-model7.ipynb ->\n",
      "\t.notebook-cleaning/predict-price-model7.smudge.ipynb\n",
      "tag outputs with images for removal:\n",
      "\t.notebook-cleaning/predict-price-model7.smudge.ipynb ->\n",
      "\t.notebook-cleaning/predict-price-model7.smudge.ipynb\n",
      "clean (process):\n",
      "\t.notebook-cleaning/predict-price-model7.smudge.ipynb ->\n",
      "\t.notebook-cleaning/predict-price-model7.clean.ipynb\n",
      "save:\n",
      "\t.notebook-cleaning/predict-price-model7.clean.ipynb ->\n",
      "\t./20-modelling/predict-price-model7.ipynb\n",
      "./20-modelling/predict-price-model8.ipynb\n",
      "-- File names\n",
      "input:\t\t ./20-modelling/predict-price-model8.ipynb\n",
      "backup:\t\t .notebook-cleaning/predict-price-model8.bup.ipynb\n",
      "to be cleaned:\t .notebook-cleaning/predict-price-model8.smudge.ipynb\n",
      "cleaned:\t .notebook-cleaning/predict-price-model8.clean.ipynb\n",
      "backup:\n",
      "\t./20-modelling/predict-price-model8.ipynb ->\n",
      "\t.notebook-cleaning/predict-price-model8.bup.ipynb\n",
      "-- Config\n"
     ]
    },
    {
     "data": {
      "text/plain": [
       "{'TagRemovePreprocessor': {'remove_all_outputs_tags': ('nbconvert_instruction:remove_all_outputs',),\n",
       "  'remove_single_output_tags': ('nbconvert_instruction:remove_single_output',),\n",
       "  'remove_cell_tags': ('nbconvert_instruction:remove_full_cell',),\n",
       "  'enabled': True}}"
      ]
     },
     "metadata": {},
     "output_type": "display_data"
    },
    {
     "name": "stdout",
     "output_type": "stream",
     "text": [
      "smudge:\n",
      "\t./20-modelling/predict-price-model8.ipynb ->\n",
      "\t.notebook-cleaning/predict-price-model8.smudge.ipynb\n",
      "tag outputs with images for removal:\n",
      "\t.notebook-cleaning/predict-price-model8.smudge.ipynb ->\n",
      "\t.notebook-cleaning/predict-price-model8.smudge.ipynb\n",
      "clean (process):\n",
      "\t.notebook-cleaning/predict-price-model8.smudge.ipynb ->\n",
      "\t.notebook-cleaning/predict-price-model8.clean.ipynb\n",
      "save:\n",
      "\t.notebook-cleaning/predict-price-model8.clean.ipynb ->\n",
      "\t./20-modelling/predict-price-model8.ipynb\n",
      "./20-modelling/predict-price.ipynb\n",
      "-- File names\n",
      "input:\t\t ./20-modelling/predict-price.ipynb\n",
      "backup:\t\t .notebook-cleaning/predict-price.bup.ipynb\n",
      "to be cleaned:\t .notebook-cleaning/predict-price.smudge.ipynb\n",
      "cleaned:\t .notebook-cleaning/predict-price.clean.ipynb\n",
      "backup:\n",
      "\t./20-modelling/predict-price.ipynb ->\n",
      "\t.notebook-cleaning/predict-price.bup.ipynb\n",
      "-- Config\n"
     ]
    },
    {
     "data": {
      "text/plain": [
       "{'TagRemovePreprocessor': {'remove_all_outputs_tags': ('nbconvert_instruction:remove_all_outputs',),\n",
       "  'remove_single_output_tags': ('nbconvert_instruction:remove_single_output',),\n",
       "  'remove_cell_tags': ('nbconvert_instruction:remove_full_cell',),\n",
       "  'enabled': True}}"
      ]
     },
     "metadata": {},
     "output_type": "display_data"
    },
    {
     "name": "stdout",
     "output_type": "stream",
     "text": [
      "smudge:\n",
      "\t./20-modelling/predict-price.ipynb ->\n",
      "\t.notebook-cleaning/predict-price.smudge.ipynb\n",
      "tag outputs with images for removal:\n",
      "\t.notebook-cleaning/predict-price.smudge.ipynb ->\n",
      "\t.notebook-cleaning/predict-price.smudge.ipynb\n",
      "clean (process):\n",
      "\t.notebook-cleaning/predict-price.smudge.ipynb ->\n",
      "\t.notebook-cleaning/predict-price.clean.ipynb\n",
      "save:\n",
      "\t.notebook-cleaning/predict-price.clean.ipynb ->\n",
      "\t./20-modelling/predict-price.ipynb\n",
      "./20-modelling/classify-pictures.ipynb\n",
      "-- File names\n",
      "input:\t\t ./20-modelling/classify-pictures.ipynb\n",
      "backup:\t\t .notebook-cleaning/classify-pictures.bup.ipynb\n",
      "to be cleaned:\t .notebook-cleaning/classify-pictures.smudge.ipynb\n",
      "cleaned:\t .notebook-cleaning/classify-pictures.clean.ipynb\n",
      "backup:\n",
      "\t./20-modelling/classify-pictures.ipynb ->\n",
      "\t.notebook-cleaning/classify-pictures.bup.ipynb\n",
      "-- Config\n"
     ]
    },
    {
     "data": {
      "text/plain": [
       "{'TagRemovePreprocessor': {'remove_all_outputs_tags': ('nbconvert_instruction:remove_all_outputs',),\n",
       "  'remove_single_output_tags': ('nbconvert_instruction:remove_single_output',),\n",
       "  'remove_cell_tags': ('nbconvert_instruction:remove_full_cell',),\n",
       "  'enabled': True}}"
      ]
     },
     "metadata": {},
     "output_type": "display_data"
    },
    {
     "name": "stdout",
     "output_type": "stream",
     "text": [
      "smudge:\n",
      "\t./20-modelling/classify-pictures.ipynb ->\n",
      "\t.notebook-cleaning/classify-pictures.smudge.ipynb\n",
      "tag outputs with images for removal:\n",
      "\t.notebook-cleaning/classify-pictures.smudge.ipynb ->\n",
      "\t.notebook-cleaning/classify-pictures.smudge.ipynb\n",
      "clean (process):\n",
      "\t.notebook-cleaning/classify-pictures.smudge.ipynb ->\n",
      "\t.notebook-cleaning/classify-pictures.clean.ipynb\n",
      "save:\n",
      "\t.notebook-cleaning/classify-pictures.clean.ipynb ->\n",
      "\t./20-modelling/classify-pictures.ipynb\n"
     ]
    }
   ],
   "source": [
    "# Notebooks of phase 1: collect data from auction\n",
    "\n",
    "path = \".\"\n",
    "for short_fn in [\n",
    "    '00-scrape/scrape-drz-auction-results.ipynb',\n",
    "    '00-scrape/add-rdw-info-to-drz.ipynb',\n",
    "    '00-scrape/download-images.ipynb',\n",
    "    '00-scrape/explore-auction-results.ipynb',\n",
    "    '10-combine-and-preprocess/aggregate-all-auctions.ipynb',\n",
    "    '10-combine-and-preprocess/preproc-cars.ipynb',\n",
    "    '10-combine-and-preprocess/eda-after-merge.ipynb',\n",
    "    '20-modelling/predict-price-model1.ipynb',\n",
    "    '20-modelling/predict-price-model2.ipynb',\n",
    "    '20-modelling/predict-price-model3.ipynb',\n",
    "    '20-modelling/predict-price-model4.ipynb',\n",
    "    '20-modelling/predict-price-model5.ipynb',\n",
    "    '20-modelling/predict-price-model6.ipynb',\n",
    "    '20-modelling/predict-price-model7.ipynb',\n",
    "    '20-modelling/predict-price-model8.ipynb',\n",
    "    '20-modelling/predict-price.ipynb',\n",
    "    '20-modelling/classify-pictures.ipynb',\n",
    "]:\n",
    "    fn = os.path.join(path, short_fn)\n",
    "    print(fn)\n",
    "    clean_nb(fn, rel_backup_dir = '../.notebook-cleaning/', VERBOSE=True)"
   ]
  },
  {
   "cell_type": "code",
   "execution_count": 5,
   "id": "lonely-showcase",
   "metadata": {
    "editable": true,
    "scrolled": true,
    "slideshow": {
     "slide_type": ""
    },
    "tags": []
   },
   "outputs": [
    {
     "ename": "AssertionError",
     "evalue": "Below is sandboxing",
     "output_type": "error",
     "traceback": [
      "\u001b[0;31m---------------------------------------------------------------------------\u001b[0m",
      "\u001b[0;31mAssertionError\u001b[0m                            Traceback (most recent call last)",
      "Cell \u001b[0;32mIn[5], line 1\u001b[0m\n\u001b[0;32m----> 1\u001b[0m \u001b[38;5;28;01massert\u001b[39;00m \u001b[38;5;28;01mFalse\u001b[39;00m, \u001b[38;5;124m'\u001b[39m\u001b[38;5;124mBelow is sandboxing\u001b[39m\u001b[38;5;124m'\u001b[39m\n",
      "\u001b[0;31mAssertionError\u001b[0m: Below is sandboxing"
     ]
    }
   ],
   "source": [
    "assert False, 'Below is sandboxing'"
   ]
  },
  {
   "cell_type": "code",
   "execution_count": null,
   "id": "ad482a10-282f-40d9-88df-fb0bffd5c433",
   "metadata": {
    "editable": true,
    "slideshow": {
     "slide_type": ""
    },
    "tags": []
   },
   "outputs": [],
   "source": [
    "clean_nb('./00-scrape/add-rdw-info-to-drz-Copy1.ipynb',\n",
    "         rel_backup_dir = '../.notebook-cleaning/', VERBOSE=True)"
   ]
  },
  {
   "cell_type": "code",
   "execution_count": null,
   "id": "ccb581e1-2912-433f-9412-1c2ca7329cab",
   "metadata": {
    "editable": true,
    "slideshow": {
     "slide_type": ""
    },
    "tags": []
   },
   "outputs": [],
   "source": [
    "clean_nb('./10-combine-and-preprocess/preproc-cars.ipynb',\n",
    "         rel_backup_dir = '../.notebook-cleaning/', VERBOSE=True)"
   ]
  },
  {
   "cell_type": "code",
   "execution_count": null,
   "id": "original-harassment",
   "metadata": {
    "editable": true,
    "slideshow": {
     "slide_type": ""
    },
    "tags": []
   },
   "outputs": [],
   "source": []
  },
  {
   "cell_type": "code",
   "execution_count": null,
   "id": "weird-point",
   "metadata": {},
   "outputs": [],
   "source": [
    "fn"
   ]
  },
  {
   "cell_type": "code",
   "execution_count": null,
   "id": "exposed-legend",
   "metadata": {
    "editable": true,
    "slideshow": {
     "slide_type": ""
    },
    "tags": []
   },
   "outputs": [],
   "source": [
    "fn = './20-modelling/predict-price-model8.ipynb'\n",
    "clean_nb(fn, rel_backup_dir = '../.notebook-cleaning/', VERBOSE=True)"
   ]
  },
  {
   "cell_type": "code",
   "execution_count": null,
   "id": "sitting-planning",
   "metadata": {
    "editable": true,
    "slideshow": {
     "slide_type": ""
    },
    "tags": []
   },
   "outputs": [],
   "source": []
  }
 ],
 "metadata": {
  "kernelspec": {
   "display_name": "Python 3 (ipykernel)",
   "language": "python",
   "name": "python3"
  },
  "language_info": {
   "codemirror_mode": {
    "name": "ipython",
    "version": 3
   },
   "file_extension": ".py",
   "mimetype": "text/x-python",
   "name": "python",
   "nbconvert_exporter": "python",
   "pygments_lexer": "ipython3",
   "version": "3.10.12"
  }
 },
 "nbformat": 4,
 "nbformat_minor": 5
}
