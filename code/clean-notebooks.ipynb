{
 "cells": [
  {
   "cell_type": "markdown",
   "id": "distinguished-hampshire",
   "metadata": {},
   "source": [
    "# Clean notebooks\n",
    "\n",
    "Outputs are removed from notebooks to make a cleaner notebook available for git diff."
   ]
  },
  {
   "cell_type": "code",
   "execution_count": 1,
   "id": "boxed-miami",
   "metadata": {},
   "outputs": [],
   "source": [
    "# Tag that points to cells where all outputs are removed\n",
    "# Set this string as [cell tag] in target notebooks\n",
    "\n",
    "TAG_CONDITION = \"remove_when_contains:image\"\n",
    "\n",
    "tag_dict = {\n",
    "    'remove_all_outputs': \"nbconvert_instruction:remove_all_outputs\",\n",
    "    'remove_single_output': \"nbconvert_instruction:remove_single_output\", \n",
    "    'remove_cell': \"nbconvert_instruction:remove_full_cell\", \n",
    "}"
   ]
  },
  {
   "cell_type": "code",
   "execution_count": 2,
   "id": "collect-pillow",
   "metadata": {},
   "outputs": [],
   "source": [
    "from traitlets.config import Config\n",
    "import nbformat as nbf\n",
    "from nbconvert.exporters import NotebookExporter\n",
    "from nbconvert.preprocessors import TagRemovePreprocessor\n",
    "import os\n",
    "\n",
    "\n",
    "\n",
    "def clean_nb(fn, tags = tag_dict, VERBOSE = True):\n",
    "    nb_in = fn.replace('.ipynb', '.smudge.ipynb')\n",
    "    nb_out = nb_in.replace('smudge.ipynb', 'clean.ipynb')\n",
    "    nb_bup = fn.replace('.ipynb', '.bup.ipynb')\n",
    "    \n",
    "    if VERBOSE:\n",
    "        print('-- File names')\n",
    "        print('input:\\t\\t', fn)\n",
    "        print('backup:\\t\\t',nb_bup)\n",
    "        print('to be cleaned:\\t', nb_in)\n",
    "        print('cleaned:\\t',nb_out)\n",
    "        \n",
    "    # Back-up original\n",
    "    if VERBOSE:\n",
    "        print(f'backup:\\n\\t{fn} ->\\n\\t{nb_bup}')\n",
    "    !cp -p {fn} {nb_bup}\n",
    "    \n",
    "    # Setup config\n",
    "    c = Config()\n",
    "\n",
    "    # Configure tag removal - be sure to tag your cells to remove  using the\n",
    "    # words remove_cell to remove cells. You can also modify the code to use\n",
    "    # a different tag word\n",
    "    c.TagRemovePreprocessor.remove_all_outputs_tags = (tags['remove_all_outputs'],)\n",
    "    c.TagRemovePreprocessor.remove_single_output_tags = (tags['remove_single_output'],)\n",
    "    c.TagRemovePreprocessor.remove_cell_tags = (tags['remove_cell'],)\n",
    "    c.TagRemovePreprocessor.enabled = True\n",
    "    #c.TemplateExporter.exclude_markdown = True \n",
    "    #c.TemplateExporter.exclude_code_cell = True \n",
    "    #c.TemplateExporter.exclude_raw = True \n",
    "    #c.TemplateExporter.exclude_unknown = True \n",
    "    #c.TemplateExporter.exclude_foo = True \n",
    "\n",
    "    if VERBOSE:\n",
    "        print('-- Config')\n",
    "        display(c)\n",
    "    \n",
    "    # Prepare input\n",
    "    if VERBOSE:\n",
    "        print(f'smudge:\\n\\t{fn} ->\\n\\t{nb_in}')\n",
    "    !cp -p {fn} {nb_in}\n",
    "\n",
    "    # Tag images\n",
    "    if VERBOSE:\n",
    "        print(f'tag outputs with images for removal:\\n\\t{nb_in} ->\\n\\t{nb_in}')\n",
    "    tag_images_for_removal(nb_in, nb_in)\n",
    "\n",
    "    # Process with NotebookExporter\n",
    "    if VERBOSE:\n",
    "        print(f'clean (process):\\n\\t{nb_in} ->\\n\\t{nb_out}')\n",
    "    out = NotebookExporter(config=c).from_filename(nb_in)\n",
    "    with open(nb_out,  \"w\") as f:\n",
    "        f.write(out[0])\n",
    "    \n",
    "    # Overwrite original\n",
    "    if VERBOSE:\n",
    "        print(f'save:\\n\\t{nb_out} ->\\n\\t{fn}')\n",
    "    !cp -p {nb_out} {fn}"
   ]
  },
  {
   "cell_type": "code",
   "execution_count": 3,
   "id": "baking-happiness",
   "metadata": {},
   "outputs": [],
   "source": [
    "def tag_mime_output(nb, mime_tag, output_tag):\n",
    "    \n",
    "    '''\n",
    "    Adds a tag to a specific output given its \"data\" is of certain MIME type.\n",
    "    Useful for removing figures from notebooks.\n",
    "    \n",
    "    Input:\n",
    "        nb - notebook\n",
    "        mime_tag - cell tag of cell that needs processing. \n",
    "            \n",
    "            The tag can be formatted as [condition]:[mime_type] (e.g. `foo:image/jpeg`)\n",
    "            or only with the [mime_type] (e.g. `image/jpeg`)\n",
    "            \n",
    "            condition - arbitrary name. All cells with this tag are processed. \n",
    "                If ommitted (or '*') all cells are processed. All outputs with matching mime types are tagged.\n",
    "            \n",
    "            mime_type - outputs are tagged (for removal) with if data is of this mime type. \n",
    "                This can also be a partial MIME name (e.g. `image`, str.find() is used).\n",
    "                \n",
    "        output_tag - tag added to metadata when condition is matched\n",
    "            \n",
    "    Output:\n",
    "        The input object is updated\n",
    "            \n",
    "    '''\n",
    "\n",
    "    # handle input\n",
    "    if mime_tag.find(':') < 0: # no `:` separator\n",
    "        condition, mime_type = '*', mime_tag\n",
    "    else:\n",
    "        condition, mime_type = mime_tag.split(':')\n",
    "        \n",
    "    # loop over cells in notebook\n",
    "    for c in nb.get('cells',[]):\n",
    "        if (condition != '*') and (mime_tag not in c.get('metadata',{}).get('tags',[])):\n",
    "            # next cell if the cell tag does not match\n",
    "            continue\n",
    "        # loop over all outputs\n",
    "        for o in c.get('outputs',[]):\n",
    "            # do for every data output that is a of MIME type ...\n",
    "\n",
    "            #if any([t in o.get('data', {}) for t in ['image/png', 'image/jpg', 'image/jpeg']]):\n",
    "            if any([k.find(mime_type)>=0 for k in o.get('data', {})]):\n",
    "                # add to existing tags\n",
    "                tags = o['metadata'].get('tags', [])\n",
    "                tags.append(output_tag)\n",
    "                o['metadata']['tags'] = tags\n",
    "\n",
    "                \n",
    "\n",
    "def tag_images_for_removal(in_file, out_file):\n",
    "    import nbformat as nbf\n",
    "    \n",
    "    # read nb\n",
    "    nb = nbf.read(in_file, nbf.NO_CONVERT)\n",
    "    # process\n",
    "    tag_mime_output(nb, TAG_CONDITION, tag_dict['remove_single_output'])\n",
    "    # save\n",
    "    nbf.write(nb, out_file, nbf.NO_CONVERT)\n",
    "    \n"
   ]
  },
  {
   "cell_type": "code",
   "execution_count": 4,
   "id": "southwest-boost",
   "metadata": {},
   "outputs": [
    {
     "name": "stdout",
     "output_type": "stream",
     "text": [
      "./scrape-drz-auction-results.ipynb\n",
      "-- File names\n",
      "input:\t\t ./scrape-drz-auction-results.ipynb\n",
      "backup:\t\t ./scrape-drz-auction-results.bup.ipynb\n",
      "to be cleaned:\t ./scrape-drz-auction-results.smudge.ipynb\n",
      "cleaned:\t ./scrape-drz-auction-results.clean.ipynb\n",
      "backup:\n",
      "\t./scrape-drz-auction-results.ipynb ->\n",
      "\t./scrape-drz-auction-results.bup.ipynb\n",
      "-- Config\n"
     ]
    },
    {
     "data": {
      "text/plain": [
       "{'TagRemovePreprocessor': {'remove_all_outputs_tags': ('nbconvert_instruction:remove_all_outputs',),\n",
       "  'remove_single_output_tags': ('nbconvert_instruction:remove_single_output',),\n",
       "  'remove_cell_tags': ('nbconvert_instruction:remove_full_cell',),\n",
       "  'enabled': True}}"
      ]
     },
     "metadata": {},
     "output_type": "display_data"
    },
    {
     "name": "stdout",
     "output_type": "stream",
     "text": [
      "smudge:\n",
      "\t./scrape-drz-auction-results.ipynb ->\n",
      "\t./scrape-drz-auction-results.smudge.ipynb\n",
      "tag outputs with images for removal:\n",
      "\t./scrape-drz-auction-results.smudge.ipynb ->\n",
      "\t./scrape-drz-auction-results.smudge.ipynb\n",
      "clean (process):\n",
      "\t./scrape-drz-auction-results.smudge.ipynb ->\n",
      "\t./scrape-drz-auction-results.clean.ipynb\n",
      "save:\n",
      "\t./scrape-drz-auction-results.clean.ipynb ->\n",
      "\t./scrape-drz-auction-results.ipynb\n",
      "./add-rdw-info-to-drz.ipynb\n",
      "-- File names\n",
      "input:\t\t ./add-rdw-info-to-drz.ipynb\n",
      "backup:\t\t ./add-rdw-info-to-drz.bup.ipynb\n",
      "to be cleaned:\t ./add-rdw-info-to-drz.smudge.ipynb\n",
      "cleaned:\t ./add-rdw-info-to-drz.clean.ipynb\n",
      "backup:\n",
      "\t./add-rdw-info-to-drz.ipynb ->\n",
      "\t./add-rdw-info-to-drz.bup.ipynb\n",
      "-- Config\n"
     ]
    },
    {
     "data": {
      "text/plain": [
       "{'TagRemovePreprocessor': {'remove_all_outputs_tags': ('nbconvert_instruction:remove_all_outputs',),\n",
       "  'remove_single_output_tags': ('nbconvert_instruction:remove_single_output',),\n",
       "  'remove_cell_tags': ('nbconvert_instruction:remove_full_cell',),\n",
       "  'enabled': True}}"
      ]
     },
     "metadata": {},
     "output_type": "display_data"
    },
    {
     "name": "stdout",
     "output_type": "stream",
     "text": [
      "smudge:\n",
      "\t./add-rdw-info-to-drz.ipynb ->\n",
      "\t./add-rdw-info-to-drz.smudge.ipynb\n",
      "tag outputs with images for removal:\n",
      "\t./add-rdw-info-to-drz.smudge.ipynb ->\n",
      "\t./add-rdw-info-to-drz.smudge.ipynb\n",
      "clean (process):\n",
      "\t./add-rdw-info-to-drz.smudge.ipynb ->\n",
      "\t./add-rdw-info-to-drz.clean.ipynb\n",
      "save:\n",
      "\t./add-rdw-info-to-drz.clean.ipynb ->\n",
      "\t./add-rdw-info-to-drz.ipynb\n",
      "./download-images.ipynb\n",
      "-- File names\n",
      "input:\t\t ./download-images.ipynb\n",
      "backup:\t\t ./download-images.bup.ipynb\n",
      "to be cleaned:\t ./download-images.smudge.ipynb\n",
      "cleaned:\t ./download-images.clean.ipynb\n",
      "backup:\n",
      "\t./download-images.ipynb ->\n",
      "\t./download-images.bup.ipynb\n",
      "-- Config\n"
     ]
    },
    {
     "data": {
      "text/plain": [
       "{'TagRemovePreprocessor': {'remove_all_outputs_tags': ('nbconvert_instruction:remove_all_outputs',),\n",
       "  'remove_single_output_tags': ('nbconvert_instruction:remove_single_output',),\n",
       "  'remove_cell_tags': ('nbconvert_instruction:remove_full_cell',),\n",
       "  'enabled': True}}"
      ]
     },
     "metadata": {},
     "output_type": "display_data"
    },
    {
     "name": "stdout",
     "output_type": "stream",
     "text": [
      "smudge:\n",
      "\t./download-images.ipynb ->\n",
      "\t./download-images.smudge.ipynb\n",
      "tag outputs with images for removal:\n",
      "\t./download-images.smudge.ipynb ->\n",
      "\t./download-images.smudge.ipynb\n",
      "clean (process):\n",
      "\t./download-images.smudge.ipynb ->\n",
      "\t./download-images.clean.ipynb\n",
      "save:\n",
      "\t./download-images.clean.ipynb ->\n",
      "\t./download-images.ipynb\n",
      "./explore-auction-results.ipynb\n",
      "-- File names\n",
      "input:\t\t ./explore-auction-results.ipynb\n",
      "backup:\t\t ./explore-auction-results.bup.ipynb\n",
      "to be cleaned:\t ./explore-auction-results.smudge.ipynb\n",
      "cleaned:\t ./explore-auction-results.clean.ipynb\n",
      "backup:\n",
      "\t./explore-auction-results.ipynb ->\n",
      "\t./explore-auction-results.bup.ipynb\n",
      "-- Config\n"
     ]
    },
    {
     "data": {
      "text/plain": [
       "{'TagRemovePreprocessor': {'remove_all_outputs_tags': ('nbconvert_instruction:remove_all_outputs',),\n",
       "  'remove_single_output_tags': ('nbconvert_instruction:remove_single_output',),\n",
       "  'remove_cell_tags': ('nbconvert_instruction:remove_full_cell',),\n",
       "  'enabled': True}}"
      ]
     },
     "metadata": {},
     "output_type": "display_data"
    },
    {
     "name": "stdout",
     "output_type": "stream",
     "text": [
      "smudge:\n",
      "\t./explore-auction-results.ipynb ->\n",
      "\t./explore-auction-results.smudge.ipynb\n",
      "tag outputs with images for removal:\n",
      "\t./explore-auction-results.smudge.ipynb ->\n",
      "\t./explore-auction-results.smudge.ipynb\n",
      "clean (process):\n",
      "\t./explore-auction-results.smudge.ipynb ->\n",
      "\t./explore-auction-results.clean.ipynb\n",
      "save:\n",
      "\t./explore-auction-results.clean.ipynb ->\n",
      "\t./explore-auction-results.ipynb\n",
      "./aggregate-all-auctions.ipynb\n",
      "-- File names\n",
      "input:\t\t ./aggregate-all-auctions.ipynb\n",
      "backup:\t\t ./aggregate-all-auctions.bup.ipynb\n",
      "to be cleaned:\t ./aggregate-all-auctions.smudge.ipynb\n",
      "cleaned:\t ./aggregate-all-auctions.clean.ipynb\n",
      "backup:\n",
      "\t./aggregate-all-auctions.ipynb ->\n",
      "\t./aggregate-all-auctions.bup.ipynb\n",
      "-- Config\n"
     ]
    },
    {
     "data": {
      "text/plain": [
       "{'TagRemovePreprocessor': {'remove_all_outputs_tags': ('nbconvert_instruction:remove_all_outputs',),\n",
       "  'remove_single_output_tags': ('nbconvert_instruction:remove_single_output',),\n",
       "  'remove_cell_tags': ('nbconvert_instruction:remove_full_cell',),\n",
       "  'enabled': True}}"
      ]
     },
     "metadata": {},
     "output_type": "display_data"
    },
    {
     "name": "stdout",
     "output_type": "stream",
     "text": [
      "smudge:\n",
      "\t./aggregate-all-auctions.ipynb ->\n",
      "\t./aggregate-all-auctions.smudge.ipynb\n",
      "tag outputs with images for removal:\n",
      "\t./aggregate-all-auctions.smudge.ipynb ->\n",
      "\t./aggregate-all-auctions.smudge.ipynb\n",
      "clean (process):\n",
      "\t./aggregate-all-auctions.smudge.ipynb ->\n",
      "\t./aggregate-all-auctions.clean.ipynb\n",
      "save:\n",
      "\t./aggregate-all-auctions.clean.ipynb ->\n",
      "\t./aggregate-all-auctions.ipynb\n",
      "./preproc-cars.ipynb\n",
      "-- File names\n",
      "input:\t\t ./preproc-cars.ipynb\n",
      "backup:\t\t ./preproc-cars.bup.ipynb\n",
      "to be cleaned:\t ./preproc-cars.smudge.ipynb\n",
      "cleaned:\t ./preproc-cars.clean.ipynb\n",
      "backup:\n",
      "\t./preproc-cars.ipynb ->\n",
      "\t./preproc-cars.bup.ipynb\n",
      "-- Config\n"
     ]
    },
    {
     "data": {
      "text/plain": [
       "{'TagRemovePreprocessor': {'remove_all_outputs_tags': ('nbconvert_instruction:remove_all_outputs',),\n",
       "  'remove_single_output_tags': ('nbconvert_instruction:remove_single_output',),\n",
       "  'remove_cell_tags': ('nbconvert_instruction:remove_full_cell',),\n",
       "  'enabled': True}}"
      ]
     },
     "metadata": {},
     "output_type": "display_data"
    },
    {
     "name": "stdout",
     "output_type": "stream",
     "text": [
      "smudge:\n",
      "\t./preproc-cars.ipynb ->\n",
      "\t./preproc-cars.smudge.ipynb\n",
      "tag outputs with images for removal:\n",
      "\t./preproc-cars.smudge.ipynb ->\n",
      "\t./preproc-cars.smudge.ipynb\n",
      "clean (process):\n",
      "\t./preproc-cars.smudge.ipynb ->\n",
      "\t./preproc-cars.clean.ipynb\n",
      "save:\n",
      "\t./preproc-cars.clean.ipynb ->\n",
      "\t./preproc-cars.ipynb\n",
      "./eda-after-merge.ipynb\n",
      "-- File names\n",
      "input:\t\t ./eda-after-merge.ipynb\n",
      "backup:\t\t ./eda-after-merge.bup.ipynb\n",
      "to be cleaned:\t ./eda-after-merge.smudge.ipynb\n",
      "cleaned:\t ./eda-after-merge.clean.ipynb\n",
      "backup:\n",
      "\t./eda-after-merge.ipynb ->\n",
      "\t./eda-after-merge.bup.ipynb\n",
      "-- Config\n"
     ]
    },
    {
     "data": {
      "text/plain": [
       "{'TagRemovePreprocessor': {'remove_all_outputs_tags': ('nbconvert_instruction:remove_all_outputs',),\n",
       "  'remove_single_output_tags': ('nbconvert_instruction:remove_single_output',),\n",
       "  'remove_cell_tags': ('nbconvert_instruction:remove_full_cell',),\n",
       "  'enabled': True}}"
      ]
     },
     "metadata": {},
     "output_type": "display_data"
    },
    {
     "name": "stdout",
     "output_type": "stream",
     "text": [
      "smudge:\n",
      "\t./eda-after-merge.ipynb ->\n",
      "\t./eda-after-merge.smudge.ipynb\n",
      "tag outputs with images for removal:\n",
      "\t./eda-after-merge.smudge.ipynb ->\n",
      "\t./eda-after-merge.smudge.ipynb\n",
      "clean (process):\n",
      "\t./eda-after-merge.smudge.ipynb ->\n",
      "\t./eda-after-merge.clean.ipynb\n",
      "save:\n",
      "\t./eda-after-merge.clean.ipynb ->\n",
      "\t./eda-after-merge.ipynb\n",
      "./predict-price.ipynb\n",
      "-- File names\n",
      "input:\t\t ./predict-price.ipynb\n",
      "backup:\t\t ./predict-price.bup.ipynb\n",
      "to be cleaned:\t ./predict-price.smudge.ipynb\n",
      "cleaned:\t ./predict-price.clean.ipynb\n",
      "backup:\n",
      "\t./predict-price.ipynb ->\n",
      "\t./predict-price.bup.ipynb\n",
      "-- Config\n"
     ]
    },
    {
     "data": {
      "text/plain": [
       "{'TagRemovePreprocessor': {'remove_all_outputs_tags': ('nbconvert_instruction:remove_all_outputs',),\n",
       "  'remove_single_output_tags': ('nbconvert_instruction:remove_single_output',),\n",
       "  'remove_cell_tags': ('nbconvert_instruction:remove_full_cell',),\n",
       "  'enabled': True}}"
      ]
     },
     "metadata": {},
     "output_type": "display_data"
    },
    {
     "name": "stdout",
     "output_type": "stream",
     "text": [
      "smudge:\n",
      "\t./predict-price.ipynb ->\n",
      "\t./predict-price.smudge.ipynb\n",
      "tag outputs with images for removal:\n",
      "\t./predict-price.smudge.ipynb ->\n",
      "\t./predict-price.smudge.ipynb\n",
      "clean (process):\n",
      "\t./predict-price.smudge.ipynb ->\n",
      "\t./predict-price.clean.ipynb\n",
      "save:\n",
      "\t./predict-price.clean.ipynb ->\n",
      "\t./predict-price.ipynb\n",
      "./classify-pictures.ipynb\n",
      "-- File names\n",
      "input:\t\t ./classify-pictures.ipynb\n",
      "backup:\t\t ./classify-pictures.bup.ipynb\n",
      "to be cleaned:\t ./classify-pictures.smudge.ipynb\n",
      "cleaned:\t ./classify-pictures.clean.ipynb\n",
      "backup:\n",
      "\t./classify-pictures.ipynb ->\n",
      "\t./classify-pictures.bup.ipynb\n",
      "-- Config\n"
     ]
    },
    {
     "data": {
      "text/plain": [
       "{'TagRemovePreprocessor': {'remove_all_outputs_tags': ('nbconvert_instruction:remove_all_outputs',),\n",
       "  'remove_single_output_tags': ('nbconvert_instruction:remove_single_output',),\n",
       "  'remove_cell_tags': ('nbconvert_instruction:remove_full_cell',),\n",
       "  'enabled': True}}"
      ]
     },
     "metadata": {},
     "output_type": "display_data"
    },
    {
     "name": "stdout",
     "output_type": "stream",
     "text": [
      "smudge:\n",
      "\t./classify-pictures.ipynb ->\n",
      "\t./classify-pictures.smudge.ipynb\n",
      "tag outputs with images for removal:\n",
      "\t./classify-pictures.smudge.ipynb ->\n",
      "\t./classify-pictures.smudge.ipynb\n",
      "clean (process):\n",
      "\t./classify-pictures.smudge.ipynb ->\n",
      "\t./classify-pictures.clean.ipynb\n",
      "save:\n",
      "\t./classify-pictures.clean.ipynb ->\n",
      "\t./classify-pictures.ipynb\n"
     ]
    }
   ],
   "source": [
    "# Notebooks of phase 1: collect data from auction\n",
    "\n",
    "path = \".\"\n",
    "for short_fn in [\n",
    "    'scrape-drz-auction-results.ipynb',\n",
    "    'add-rdw-info-to-drz.ipynb',\n",
    "    'download-images.ipynb',\n",
    "    'explore-auction-results.ipynb',\n",
    "    'aggregate-all-auctions.ipynb',\n",
    "    'preproc-cars.ipynb',\n",
    "    'eda-after-merge.ipynb',\n",
    "    'predict-price.ipynb',\n",
    "    'classify-pictures.ipynb',\n",
    "]:\n",
    "    fn = os.path.join(path, short_fn)\n",
    "    print(fn)\n",
    "    clean_nb(fn, VERBOSE=True)"
   ]
  },
  {
   "cell_type": "code",
   "execution_count": 5,
   "id": "informed-africa",
   "metadata": {},
   "outputs": [
    {
     "ename": "SyntaxError",
     "evalue": "invalid syntax (<ipython-input-5-10c575266340>, line 1)",
     "output_type": "error",
     "traceback": [
      "\u001b[0;36m  File \u001b[0;32m\"<ipython-input-5-10c575266340>\"\u001b[0;36m, line \u001b[0;32m1\u001b[0m\n\u001b[0;31m    raise, 'Below is sandboxing'\u001b[0m\n\u001b[0m         ^\u001b[0m\n\u001b[0;31mSyntaxError\u001b[0m\u001b[0;31m:\u001b[0m invalid syntax\n"
     ]
    }
   ],
   "source": [
    "raise, 'Below is sandboxing'"
   ]
  },
  {
   "cell_type": "code",
   "execution_count": null,
   "id": "elegant-commonwealth",
   "metadata": {},
   "outputs": [],
   "source": []
  },
  {
   "cell_type": "code",
   "execution_count": null,
   "id": "confused-cleaning",
   "metadata": {},
   "outputs": [],
   "source": []
  },
  {
   "cell_type": "code",
   "execution_count": null,
   "id": "general-typing",
   "metadata": {},
   "outputs": [],
   "source": [
    "fn"
   ]
  },
  {
   "cell_type": "code",
   "execution_count": null,
   "id": "worse-cross",
   "metadata": {},
   "outputs": [],
   "source": [
    "clean_nb(fn, VERBOSE=True)"
   ]
  },
  {
   "cell_type": "code",
   "execution_count": null,
   "id": "collected-arkansas",
   "metadata": {},
   "outputs": [],
   "source": []
  }
 ],
 "metadata": {
  "kernelspec": {
   "display_name": "Python 3",
   "language": "python",
   "name": "python3"
  },
  "language_info": {
   "codemirror_mode": {
    "name": "ipython",
    "version": 3
   },
   "file_extension": ".py",
   "mimetype": "text/x-python",
   "name": "python",
   "nbconvert_exporter": "python",
   "pygments_lexer": "ipython3",
   "version": "3.8.10"
  }
 },
 "nbformat": 4,
 "nbformat_minor": 5
}
