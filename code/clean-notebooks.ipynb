{
 "cells": [
  {
   "cell_type": "markdown",
   "id": "effective-dietary",
   "metadata": {},
   "source": [
    "# Clean notebooks\n",
    "\n",
    "Outputs are removed from notebooks to make a cleaner notebook available for git diff."
   ]
  },
  {
   "cell_type": "code",
   "execution_count": 1,
   "id": "funded-sight",
   "metadata": {},
   "outputs": [],
   "source": [
    "# Tag that points to cells where all outputs are removed\n",
    "# Set this string as [cell tag] in target notebooks\n",
    "\n",
    "TAG_CONDITION = \"remove_when_contains:image\"\n",
    "\n",
    "tag_dict = {\n",
    "    'remove_all_outputs': \"nbconvert_instruction:remove_all_outputs\",\n",
    "    'remove_single_output': \"nbconvert_instruction:remove_single_output\", \n",
    "    'remove_cell': \"nbconvert_instruction:remove_full_cell\", \n",
    "}"
   ]
  },
  {
   "cell_type": "code",
   "execution_count": 2,
   "id": "round-jamaica",
   "metadata": {},
   "outputs": [],
   "source": [
    "from traitlets.config import Config\n",
    "import nbformat as nbf\n",
    "from nbconvert.exporters import NotebookExporter\n",
    "from nbconvert.preprocessors import TagRemovePreprocessor\n",
    "import os\n",
    "\n",
    "\n",
    "\n",
    "def clean_nb(fn, tags = tag_dict, VERBOSE = True):\n",
    "    nb_in = fn.replace('.ipynb', '.smudge.ipynb')\n",
    "    nb_out = nb_in.replace('smudge.ipynb', 'clean.ipynb')\n",
    "    nb_bup = fn.replace('.ipynb', '.bup.ipynb')\n",
    "    \n",
    "    if VERBOSE:\n",
    "        print('-- File names')\n",
    "        print('input:\\t\\t', fn)\n",
    "        print('backup:\\t\\t',nb_bup)\n",
    "        print('to be cleaned:\\t', nb_in)\n",
    "        print('cleaned:\\t',nb_out)\n",
    "        \n",
    "    # Back-up original\n",
    "    if VERBOSE:\n",
    "        print(f'backup:\\n\\t{fn} ->\\n\\t{nb_bup}')\n",
    "    !cp -p {fn} {nb_bup}\n",
    "    \n",
    "    # Setup config\n",
    "    c = Config()\n",
    "\n",
    "    # Configure tag removal - be sure to tag your cells to remove  using the\n",
    "    # words remove_cell to remove cells. You can also modify the code to use\n",
    "    # a different tag word\n",
    "    c.TagRemovePreprocessor.remove_all_outputs_tags = (tags['remove_all_outputs'],)\n",
    "    c.TagRemovePreprocessor.remove_single_output_tags = (tags['remove_single_output'],)\n",
    "    c.TagRemovePreprocessor.remove_cell_tags = (tags['remove_cell'],)\n",
    "    c.TagRemovePreprocessor.enabled = True\n",
    "    #c.TemplateExporter.exclude_markdown = True \n",
    "    #c.TemplateExporter.exclude_code_cell = True \n",
    "    #c.TemplateExporter.exclude_raw = True \n",
    "    #c.TemplateExporter.exclude_unknown = True \n",
    "    #c.TemplateExporter.exclude_foo = True \n",
    "\n",
    "    if VERBOSE:\n",
    "        print('-- Config')\n",
    "        display(c)\n",
    "    \n",
    "    # Prepare input\n",
    "    if VERBOSE:\n",
    "        print(f'smudge:\\n\\t{fn} ->\\n\\t{nb_in}')\n",
    "    !cp -p {fn} {nb_in}\n",
    "\n",
    "    # Process\n",
    "    if VERBOSE:\n",
    "        print(f'clean (process):\\n\\t{nb_in} ->\\n\\t{nb_out}')\n",
    "    out = NotebookExporter(config=c).from_filename(nb_in)\n",
    "    with open(nb_out,  \"w\") as f:\n",
    "        f.write(out[0])\n",
    "    \n",
    "    # Overwrite original\n",
    "    if VERBOSE:\n",
    "        print(f'save:\\n\\t{nb_out} ->\\n\\t{fn}')\n",
    "    !cp -p {nb_out} {fn}"
   ]
  },
  {
   "cell_type": "code",
   "execution_count": 3,
   "id": "smooth-iceland",
   "metadata": {},
   "outputs": [
    {
     "name": "stdout",
     "output_type": "stream",
     "text": [
      "./scrape-drz-auction-results.ipynb\n",
      "./add-rdw-info-to-drz.ipynb\n",
      "./download-images.ipynb\n",
      "./explore-auction-results.ipynb\n"
     ]
    }
   ],
   "source": [
    "# Notebooks of phase 1: collect data from auction\n",
    "\n",
    "path = \".\"\n",
    "for short_fn in [\n",
    "    'scrape-drz-auction-results.ipynb',\n",
    "    'add-rdw-info-to-drz.ipynb',\n",
    "    'download-images.ipynb',\n",
    "    'explore-auction-results.ipynb'\n",
    "]:\n",
    "    fn = os.path.join(path, short_fn)\n",
    "    print(fn)\n",
    "    clean_nb(fn, VERBOSE=False)"
   ]
  },
  {
   "cell_type": "code",
   "execution_count": null,
   "id": "premier-rider",
   "metadata": {},
   "outputs": [],
   "source": []
  },
  {
   "cell_type": "code",
   "execution_count": null,
   "id": "aquatic-syntax",
   "metadata": {},
   "outputs": [],
   "source": []
  }
 ],
 "metadata": {
  "kernelspec": {
   "display_name": "Python 3",
   "language": "python",
   "name": "python3"
  },
  "language_info": {
   "codemirror_mode": {
    "name": "ipython",
    "version": 3
   },
   "file_extension": ".py",
   "mimetype": "text/x-python",
   "name": "python",
   "nbconvert_exporter": "python",
   "pygments_lexer": "ipython3",
   "version": "3.8.5"
  }
 },
 "nbformat": 4,
 "nbformat_minor": 5
}
